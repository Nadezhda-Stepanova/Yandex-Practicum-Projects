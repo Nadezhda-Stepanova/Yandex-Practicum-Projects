{
 "cells": [
  {
   "cell_type": "markdown",
   "metadata": {},
   "source": [
    "## Описание проекта\n",
    "**Приоритизация гипотез и А/В-тест для увеличения выручки интернет-магазина.**\n",
    "\n",
    "Контекст\n",
    "\n",
    "Вы — аналитик крупного интернет-магазина. Вместе с отделом маркетинга вы подготовили список гипотез для увеличения выручки.\n",
    "Приоритизируйте гипотезы, запустите AB-тест и проанализируйте результаты."
   ]
  },
  {
   "cell_type": "markdown",
   "metadata": {},
   "source": [
    "## Часть 1. Приоритизация гипотез"
   ]
  },
  {
   "cell_type": "markdown",
   "metadata": {},
   "source": [
    "### Исходные данные\n",
    "В файле /datasets/hypothesis.csv 9 гипотез по увеличению выручки интернет-магазина с указанными параметрами Reach, Impact, Confidence, Effort.\n",
    "\n",
    "Применим фреймворк ICE и фреймворк RICE для приоритизации гипотез. \n",
    "\n",
    "     Данные файла hypothesis.csv:\n",
    "\n",
    "Hypothesis — краткое описание гипотезы;\n",
    "\n",
    "Reach — охват пользователей по 10-балльной шкале;\n",
    "\n",
    "Impact — влияние на пользователей по 10-балльной шкале;\n",
    "\n",
    "Confidence — уверенность в гипотезе по 10-балльной шкале;\n",
    "\n",
    "Efforts — затраты ресурсов на проверку гипотезы по 10-балльной шкале. Чем больше значение Efforts, тем дороже проверка гипотезы.\n"
   ]
  },
  {
   "cell_type": "code",
   "execution_count": 1,
   "metadata": {
    "scrolled": true
   },
   "outputs": [
    {
     "data": {
      "text/html": [
       "<div>\n",
       "<style scoped>\n",
       "    .dataframe tbody tr th:only-of-type {\n",
       "        vertical-align: middle;\n",
       "    }\n",
       "\n",
       "    .dataframe tbody tr th {\n",
       "        vertical-align: top;\n",
       "    }\n",
       "\n",
       "    .dataframe thead th {\n",
       "        text-align: right;\n",
       "    }\n",
       "</style>\n",
       "<table border=\"1\" class=\"dataframe\">\n",
       "  <thead>\n",
       "    <tr style=\"text-align: right;\">\n",
       "      <th></th>\n",
       "      <th>Hypothesis</th>\n",
       "      <th>Reach</th>\n",
       "      <th>Impact</th>\n",
       "      <th>Confidence</th>\n",
       "      <th>Efforts</th>\n",
       "    </tr>\n",
       "  </thead>\n",
       "  <tbody>\n",
       "    <tr>\n",
       "      <td>0</td>\n",
       "      <td>Добавить два новых канала привлечения трафика,...</td>\n",
       "      <td>3</td>\n",
       "      <td>10</td>\n",
       "      <td>8</td>\n",
       "      <td>6</td>\n",
       "    </tr>\n",
       "    <tr>\n",
       "      <td>1</td>\n",
       "      <td>Запустить собственную службу доставки, что сок...</td>\n",
       "      <td>2</td>\n",
       "      <td>5</td>\n",
       "      <td>4</td>\n",
       "      <td>10</td>\n",
       "    </tr>\n",
       "    <tr>\n",
       "      <td>2</td>\n",
       "      <td>Добавить блоки рекомендаций товаров на сайт ин...</td>\n",
       "      <td>8</td>\n",
       "      <td>3</td>\n",
       "      <td>7</td>\n",
       "      <td>3</td>\n",
       "    </tr>\n",
       "    <tr>\n",
       "      <td>3</td>\n",
       "      <td>Изменить структура категорий, что увеличит кон...</td>\n",
       "      <td>8</td>\n",
       "      <td>3</td>\n",
       "      <td>3</td>\n",
       "      <td>8</td>\n",
       "    </tr>\n",
       "    <tr>\n",
       "      <td>4</td>\n",
       "      <td>Изменить цвет фона главной страницы, чтобы уве...</td>\n",
       "      <td>3</td>\n",
       "      <td>1</td>\n",
       "      <td>1</td>\n",
       "      <td>1</td>\n",
       "    </tr>\n",
       "  </tbody>\n",
       "</table>\n",
       "</div>"
      ],
      "text/plain": [
       "                                          Hypothesis  Reach  Impact  \\\n",
       "0  Добавить два новых канала привлечения трафика,...      3      10   \n",
       "1  Запустить собственную службу доставки, что сок...      2       5   \n",
       "2  Добавить блоки рекомендаций товаров на сайт ин...      8       3   \n",
       "3  Изменить структура категорий, что увеличит кон...      8       3   \n",
       "4  Изменить цвет фона главной страницы, чтобы уве...      3       1   \n",
       "\n",
       "   Confidence  Efforts  \n",
       "0           8        6  \n",
       "1           4       10  \n",
       "2           7        3  \n",
       "3           3        8  \n",
       "4           1        1  "
      ]
     },
     "execution_count": 1,
     "metadata": {},
     "output_type": "execute_result"
    }
   ],
   "source": [
    "import pandas as pd  # Импортируем библиотеки\n",
    "import datetime as dt\n",
    "import numpy as np\n",
    "import scipy.stats as stats\n",
    "import matplotlib.pyplot as plt\n",
    "import seaborn as sbn\n",
    "from pandas.plotting import register_matplotlib_converters\n",
    "import warnings\n",
    "register_matplotlib_converters()\n",
    "\n",
    "\n",
    "hipothesis = pd.read_csv('/datasets/hypothesis.csv')  # переносим данные из файла в датафрейм\n",
    "hipothesis.head()"
   ]
  },
  {
   "cell_type": "code",
   "execution_count": 2,
   "metadata": {
    "scrolled": true
   },
   "outputs": [
    {
     "data": {
      "text/html": [
       "<div>\n",
       "<style scoped>\n",
       "    .dataframe tbody tr th:only-of-type {\n",
       "        vertical-align: middle;\n",
       "    }\n",
       "\n",
       "    .dataframe tbody tr th {\n",
       "        vertical-align: top;\n",
       "    }\n",
       "\n",
       "    .dataframe thead th {\n",
       "        text-align: right;\n",
       "    }\n",
       "</style>\n",
       "<table border=\"1\" class=\"dataframe\">\n",
       "  <thead>\n",
       "    <tr style=\"text-align: right;\">\n",
       "      <th></th>\n",
       "      <th>Hypothesis</th>\n",
       "      <th>Reach</th>\n",
       "      <th>Impact</th>\n",
       "      <th>Confidence</th>\n",
       "      <th>Efforts</th>\n",
       "    </tr>\n",
       "  </thead>\n",
       "  <tbody>\n",
       "    <tr>\n",
       "      <td>0</td>\n",
       "      <td>Добавить два новых канала привлечения трафика, что позволит привлекать на 30% больше пользователей</td>\n",
       "      <td>3</td>\n",
       "      <td>10</td>\n",
       "      <td>8</td>\n",
       "      <td>6</td>\n",
       "    </tr>\n",
       "    <tr>\n",
       "      <td>1</td>\n",
       "      <td>Запустить собственную службу доставки, что сократит срок доставки заказов</td>\n",
       "      <td>2</td>\n",
       "      <td>5</td>\n",
       "      <td>4</td>\n",
       "      <td>10</td>\n",
       "    </tr>\n",
       "    <tr>\n",
       "      <td>2</td>\n",
       "      <td>Добавить блоки рекомендаций товаров на сайт интернет магазина, чтобы повысить конверсию и средний чек заказа</td>\n",
       "      <td>8</td>\n",
       "      <td>3</td>\n",
       "      <td>7</td>\n",
       "      <td>3</td>\n",
       "    </tr>\n",
       "    <tr>\n",
       "      <td>3</td>\n",
       "      <td>Изменить структура категорий, что увеличит конверсию, т.к. пользователи быстрее найдут нужный товар</td>\n",
       "      <td>8</td>\n",
       "      <td>3</td>\n",
       "      <td>3</td>\n",
       "      <td>8</td>\n",
       "    </tr>\n",
       "    <tr>\n",
       "      <td>4</td>\n",
       "      <td>Изменить цвет фона главной страницы, чтобы увеличить вовлеченность пользователей</td>\n",
       "      <td>3</td>\n",
       "      <td>1</td>\n",
       "      <td>1</td>\n",
       "      <td>1</td>\n",
       "    </tr>\n",
       "  </tbody>\n",
       "</table>\n",
       "</div>"
      ],
      "text/plain": [
       "                                                                                                     Hypothesis  \\\n",
       "0            Добавить два новых канала привлечения трафика, что позволит привлекать на 30% больше пользователей   \n",
       "1                                     Запустить собственную службу доставки, что сократит срок доставки заказов   \n",
       "2  Добавить блоки рекомендаций товаров на сайт интернет магазина, чтобы повысить конверсию и средний чек заказа   \n",
       "3           Изменить структура категорий, что увеличит конверсию, т.к. пользователи быстрее найдут нужный товар   \n",
       "4                              Изменить цвет фона главной страницы, чтобы увеличить вовлеченность пользователей   \n",
       "\n",
       "   Reach  Impact  Confidence  Efforts  \n",
       "0      3      10           8        6  \n",
       "1      2       5           4       10  \n",
       "2      8       3           7        3  \n",
       "3      8       3           3        8  \n",
       "4      3       1           1        1  "
      ]
     },
     "execution_count": 2,
     "metadata": {},
     "output_type": "execute_result"
    }
   ],
   "source": [
    "pd.set_option('display.max_columns', None)  \n",
    "pd.options.display.max_colwidth = 150  \n",
    "hipothesis.head()"
   ]
  },
  {
   "cell_type": "markdown",
   "metadata": {},
   "source": [
    "Судя по всему, значения параметров reach, impact, confidence, efforts заданы по десятибалльной шкале."
   ]
  },
  {
   "cell_type": "markdown",
   "metadata": {},
   "source": [
    "### Фреймворк ICE для приоритизации гипотез."
   ]
  },
  {
   "cell_type": "code",
   "execution_count": 3,
   "metadata": {},
   "outputs": [
    {
     "data": {
      "text/html": [
       "<div>\n",
       "<style scoped>\n",
       "    .dataframe tbody tr th:only-of-type {\n",
       "        vertical-align: middle;\n",
       "    }\n",
       "\n",
       "    .dataframe tbody tr th {\n",
       "        vertical-align: top;\n",
       "    }\n",
       "\n",
       "    .dataframe thead th {\n",
       "        text-align: right;\n",
       "    }\n",
       "</style>\n",
       "<table border=\"1\" class=\"dataframe\">\n",
       "  <thead>\n",
       "    <tr style=\"text-align: right;\">\n",
       "      <th></th>\n",
       "      <th>hypothesis</th>\n",
       "      <th>ICE</th>\n",
       "    </tr>\n",
       "  </thead>\n",
       "  <tbody>\n",
       "    <tr>\n",
       "      <td>8</td>\n",
       "      <td>Запустить акцию, дающую скидку на товар в день рождения</td>\n",
       "      <td>16.2</td>\n",
       "    </tr>\n",
       "    <tr>\n",
       "      <td>0</td>\n",
       "      <td>Добавить два новых канала привлечения трафика, что позволит привлекать на 30% больше пользователей</td>\n",
       "      <td>13.3</td>\n",
       "    </tr>\n",
       "    <tr>\n",
       "      <td>7</td>\n",
       "      <td>Добавить форму подписки на все основные страницы, чтобы собрать базу клиентов для email-рассылок</td>\n",
       "      <td>11.2</td>\n",
       "    </tr>\n",
       "    <tr>\n",
       "      <td>6</td>\n",
       "      <td>Показать на главной странице баннеры с актуальными акциями и распродажами, чтобы увеличить конверсию</td>\n",
       "      <td>8.0</td>\n",
       "    </tr>\n",
       "    <tr>\n",
       "      <td>2</td>\n",
       "      <td>Добавить блоки рекомендаций товаров на сайт интернет магазина, чтобы повысить конверсию и средний чек заказа</td>\n",
       "      <td>7.0</td>\n",
       "    </tr>\n",
       "    <tr>\n",
       "      <td>1</td>\n",
       "      <td>Запустить собственную службу доставки, что сократит срок доставки заказов</td>\n",
       "      <td>2.0</td>\n",
       "    </tr>\n",
       "    <tr>\n",
       "      <td>5</td>\n",
       "      <td>Добавить страницу отзывов клиентов о магазине, что позволит увеличить количество заказов</td>\n",
       "      <td>1.3</td>\n",
       "    </tr>\n",
       "    <tr>\n",
       "      <td>3</td>\n",
       "      <td>Изменить структура категорий, что увеличит конверсию, т.к. пользователи быстрее найдут нужный товар</td>\n",
       "      <td>1.1</td>\n",
       "    </tr>\n",
       "    <tr>\n",
       "      <td>4</td>\n",
       "      <td>Изменить цвет фона главной страницы, чтобы увеличить вовлеченность пользователей</td>\n",
       "      <td>1.0</td>\n",
       "    </tr>\n",
       "  </tbody>\n",
       "</table>\n",
       "</div>"
      ],
      "text/plain": [
       "                                                                                                     hypothesis  \\\n",
       "8                                                       Запустить акцию, дающую скидку на товар в день рождения   \n",
       "0            Добавить два новых канала привлечения трафика, что позволит привлекать на 30% больше пользователей   \n",
       "7              Добавить форму подписки на все основные страницы, чтобы собрать базу клиентов для email-рассылок   \n",
       "6          Показать на главной странице баннеры с актуальными акциями и распродажами, чтобы увеличить конверсию   \n",
       "2  Добавить блоки рекомендаций товаров на сайт интернет магазина, чтобы повысить конверсию и средний чек заказа   \n",
       "1                                     Запустить собственную службу доставки, что сократит срок доставки заказов   \n",
       "5                      Добавить страницу отзывов клиентов о магазине, что позволит увеличить количество заказов   \n",
       "3           Изменить структура категорий, что увеличит конверсию, т.к. пользователи быстрее найдут нужный товар   \n",
       "4                              Изменить цвет фона главной страницы, чтобы увеличить вовлеченность пользователей   \n",
       "\n",
       "   ICE  \n",
       "8 16.2  \n",
       "0 13.3  \n",
       "7 11.2  \n",
       "6  8.0  \n",
       "2  7.0  \n",
       "1  2.0  \n",
       "5  1.3  \n",
       "3  1.1  \n",
       "4  1.0  "
      ]
     },
     "execution_count": 3,
     "metadata": {},
     "output_type": "execute_result"
    }
   ],
   "source": [
    "hipothesis.columns = map(str.lower, hipothesis.columns) # Заменяем все буквы в названиях столбцов на строчные\n",
    "\n",
    "hipothesis['ICE'] = (hipothesis['impact'] * hipothesis['confidence'] \n",
    "                     / hipothesis['efforts']                                # ICE = (Impact x Confidence)/Efforts\n",
    "                    )                          \n",
    "# округляем до 1 знака после запятой - после комментария ревьюера:\n",
    "pd.set_option('display.float_format', '{:.1f}'.format)  # Все числа в таблице отражаются с 1 знаком после запятой\n",
    "\n",
    "(hipothesis.\n",
    "      sort_values(by='ICE', ascending=False).   # Отсортируем по убыванию приоритета\n",
    "      loc[:, ['hypothesis','ICE']]              # Выведем интересующие нас два столбца\n",
    "     )"
   ]
  },
  {
   "cell_type": "markdown",
   "metadata": {},
   "source": [
    "### Фреймворк RICE для приоритизации гипотез"
   ]
  },
  {
   "cell_type": "code",
   "execution_count": 4,
   "metadata": {
    "scrolled": true
   },
   "outputs": [
    {
     "data": {
      "text/html": [
       "<div>\n",
       "<style scoped>\n",
       "    .dataframe tbody tr th:only-of-type {\n",
       "        vertical-align: middle;\n",
       "    }\n",
       "\n",
       "    .dataframe tbody tr th {\n",
       "        vertical-align: top;\n",
       "    }\n",
       "\n",
       "    .dataframe thead th {\n",
       "        text-align: right;\n",
       "    }\n",
       "</style>\n",
       "<table border=\"1\" class=\"dataframe\">\n",
       "  <thead>\n",
       "    <tr style=\"text-align: right;\">\n",
       "      <th></th>\n",
       "      <th>hypothesis</th>\n",
       "      <th>RICE</th>\n",
       "    </tr>\n",
       "  </thead>\n",
       "  <tbody>\n",
       "    <tr>\n",
       "      <td>7</td>\n",
       "      <td>Добавить форму подписки на все основные страницы, чтобы собрать базу клиентов для email-рассылок</td>\n",
       "      <td>112.0</td>\n",
       "    </tr>\n",
       "    <tr>\n",
       "      <td>2</td>\n",
       "      <td>Добавить блоки рекомендаций товаров на сайт интернет магазина, чтобы повысить конверсию и средний чек заказа</td>\n",
       "      <td>56.0</td>\n",
       "    </tr>\n",
       "    <tr>\n",
       "      <td>0</td>\n",
       "      <td>Добавить два новых канала привлечения трафика, что позволит привлекать на 30% больше пользователей</td>\n",
       "      <td>40.0</td>\n",
       "    </tr>\n",
       "    <tr>\n",
       "      <td>6</td>\n",
       "      <td>Показать на главной странице баннеры с актуальными акциями и распродажами, чтобы увеличить конверсию</td>\n",
       "      <td>40.0</td>\n",
       "    </tr>\n",
       "    <tr>\n",
       "      <td>8</td>\n",
       "      <td>Запустить акцию, дающую скидку на товар в день рождения</td>\n",
       "      <td>16.2</td>\n",
       "    </tr>\n",
       "    <tr>\n",
       "      <td>3</td>\n",
       "      <td>Изменить структура категорий, что увеличит конверсию, т.к. пользователи быстрее найдут нужный товар</td>\n",
       "      <td>9.0</td>\n",
       "    </tr>\n",
       "    <tr>\n",
       "      <td>1</td>\n",
       "      <td>Запустить собственную службу доставки, что сократит срок доставки заказов</td>\n",
       "      <td>4.0</td>\n",
       "    </tr>\n",
       "    <tr>\n",
       "      <td>5</td>\n",
       "      <td>Добавить страницу отзывов клиентов о магазине, что позволит увеличить количество заказов</td>\n",
       "      <td>4.0</td>\n",
       "    </tr>\n",
       "    <tr>\n",
       "      <td>4</td>\n",
       "      <td>Изменить цвет фона главной страницы, чтобы увеличить вовлеченность пользователей</td>\n",
       "      <td>3.0</td>\n",
       "    </tr>\n",
       "  </tbody>\n",
       "</table>\n",
       "</div>"
      ],
      "text/plain": [
       "                                                                                                     hypothesis  \\\n",
       "7              Добавить форму подписки на все основные страницы, чтобы собрать базу клиентов для email-рассылок   \n",
       "2  Добавить блоки рекомендаций товаров на сайт интернет магазина, чтобы повысить конверсию и средний чек заказа   \n",
       "0            Добавить два новых канала привлечения трафика, что позволит привлекать на 30% больше пользователей   \n",
       "6          Показать на главной странице баннеры с актуальными акциями и распродажами, чтобы увеличить конверсию   \n",
       "8                                                       Запустить акцию, дающую скидку на товар в день рождения   \n",
       "3           Изменить структура категорий, что увеличит конверсию, т.к. пользователи быстрее найдут нужный товар   \n",
       "1                                     Запустить собственную службу доставки, что сократит срок доставки заказов   \n",
       "5                      Добавить страницу отзывов клиентов о магазине, что позволит увеличить количество заказов   \n",
       "4                              Изменить цвет фона главной страницы, чтобы увеличить вовлеченность пользователей   \n",
       "\n",
       "   RICE  \n",
       "7 112.0  \n",
       "2  56.0  \n",
       "0  40.0  \n",
       "6  40.0  \n",
       "8  16.2  \n",
       "3   9.0  \n",
       "1   4.0  \n",
       "5   4.0  \n",
       "4   3.0  "
      ]
     },
     "execution_count": 4,
     "metadata": {},
     "output_type": "execute_result"
    }
   ],
   "source": [
    "hipothesis['RICE'] = (hipothesis['reach'] * hipothesis['impact'] * hipothesis['confidence'] \n",
    "                / hipothesis['efforts']\n",
    "               )                        # RICE = (Reach x Impact x Confidence)/Efforts\n",
    "(hipothesis.\n",
    "      sort_values(by='RICE', ascending=False).   # Отсортируем по убыванию приоритета\n",
    "      loc[:, ['hypothesis','RICE']]              # Выведем интересующие нас два столбца\n",
    "     )   \n"
   ]
  },
  {
   "cell_type": "code",
   "execution_count": 5,
   "metadata": {
    "scrolled": true
   },
   "outputs": [
    {
     "data": {
      "text/html": [
       "<style  type=\"text/css\" >\n",
       "    #T_bc5908d4_966f_11ec_ace1_02420a391fb1row0_col0 {\n",
       "            background-color:  yellow;\n",
       "        }    #T_bc5908d4_966f_11ec_ace1_02420a391fb1row2_col1 {\n",
       "            background-color:  yellow;\n",
       "        }</style><table id=\"T_bc5908d4_966f_11ec_ace1_02420a391fb1\" ><thead>    <tr>        <th class=\"blank level0\" ></th>        <th class=\"col_heading level0 col0\" >ICE</th>        <th class=\"col_heading level0 col1\" >RICE</th>    </tr>    <tr>        <th class=\"index_name level0\" >hypothesis</th>        <th class=\"blank\" ></th>        <th class=\"blank\" ></th>    </tr></thead><tbody>\n",
       "                <tr>\n",
       "                        <th id=\"T_bc5908d4_966f_11ec_ace1_02420a391fb1level0_row0\" class=\"row_heading level0 row0\" >Запустить акцию, дающую скидку на товар в день рождения</th>\n",
       "                        <td id=\"T_bc5908d4_966f_11ec_ace1_02420a391fb1row0_col0\" class=\"data row0 col0\" >16</td>\n",
       "                        <td id=\"T_bc5908d4_966f_11ec_ace1_02420a391fb1row0_col1\" class=\"data row0 col1\" >16</td>\n",
       "            </tr>\n",
       "            <tr>\n",
       "                        <th id=\"T_bc5908d4_966f_11ec_ace1_02420a391fb1level0_row1\" class=\"row_heading level0 row1\" >Добавить два новых канала привлечения трафика, что позволит привлекать на 30% больше пользователей</th>\n",
       "                        <td id=\"T_bc5908d4_966f_11ec_ace1_02420a391fb1row1_col0\" class=\"data row1 col0\" >13</td>\n",
       "                        <td id=\"T_bc5908d4_966f_11ec_ace1_02420a391fb1row1_col1\" class=\"data row1 col1\" >40</td>\n",
       "            </tr>\n",
       "            <tr>\n",
       "                        <th id=\"T_bc5908d4_966f_11ec_ace1_02420a391fb1level0_row2\" class=\"row_heading level0 row2\" >Добавить форму подписки на все основные страницы, чтобы собрать базу клиентов для email-рассылок</th>\n",
       "                        <td id=\"T_bc5908d4_966f_11ec_ace1_02420a391fb1row2_col0\" class=\"data row2 col0\" >11</td>\n",
       "                        <td id=\"T_bc5908d4_966f_11ec_ace1_02420a391fb1row2_col1\" class=\"data row2 col1\" >112</td>\n",
       "            </tr>\n",
       "            <tr>\n",
       "                        <th id=\"T_bc5908d4_966f_11ec_ace1_02420a391fb1level0_row3\" class=\"row_heading level0 row3\" >Показать на главной странице баннеры с актуальными акциями и распродажами, чтобы увеличить конверсию</th>\n",
       "                        <td id=\"T_bc5908d4_966f_11ec_ace1_02420a391fb1row3_col0\" class=\"data row3 col0\" >8</td>\n",
       "                        <td id=\"T_bc5908d4_966f_11ec_ace1_02420a391fb1row3_col1\" class=\"data row3 col1\" >40</td>\n",
       "            </tr>\n",
       "            <tr>\n",
       "                        <th id=\"T_bc5908d4_966f_11ec_ace1_02420a391fb1level0_row4\" class=\"row_heading level0 row4\" >Добавить блоки рекомендаций товаров на сайт интернет магазина, чтобы повысить конверсию и средний чек заказа</th>\n",
       "                        <td id=\"T_bc5908d4_966f_11ec_ace1_02420a391fb1row4_col0\" class=\"data row4 col0\" >7</td>\n",
       "                        <td id=\"T_bc5908d4_966f_11ec_ace1_02420a391fb1row4_col1\" class=\"data row4 col1\" >56</td>\n",
       "            </tr>\n",
       "            <tr>\n",
       "                        <th id=\"T_bc5908d4_966f_11ec_ace1_02420a391fb1level0_row5\" class=\"row_heading level0 row5\" >Запустить собственную службу доставки, что сократит срок доставки заказов</th>\n",
       "                        <td id=\"T_bc5908d4_966f_11ec_ace1_02420a391fb1row5_col0\" class=\"data row5 col0\" >2</td>\n",
       "                        <td id=\"T_bc5908d4_966f_11ec_ace1_02420a391fb1row5_col1\" class=\"data row5 col1\" >4</td>\n",
       "            </tr>\n",
       "            <tr>\n",
       "                        <th id=\"T_bc5908d4_966f_11ec_ace1_02420a391fb1level0_row6\" class=\"row_heading level0 row6\" >Добавить страницу отзывов клиентов о магазине, что позволит увеличить количество заказов</th>\n",
       "                        <td id=\"T_bc5908d4_966f_11ec_ace1_02420a391fb1row6_col0\" class=\"data row6 col0\" >1</td>\n",
       "                        <td id=\"T_bc5908d4_966f_11ec_ace1_02420a391fb1row6_col1\" class=\"data row6 col1\" >4</td>\n",
       "            </tr>\n",
       "            <tr>\n",
       "                        <th id=\"T_bc5908d4_966f_11ec_ace1_02420a391fb1level0_row7\" class=\"row_heading level0 row7\" >Изменить структура категорий, что увеличит конверсию, т.к. пользователи быстрее найдут нужный товар</th>\n",
       "                        <td id=\"T_bc5908d4_966f_11ec_ace1_02420a391fb1row7_col0\" class=\"data row7 col0\" >1</td>\n",
       "                        <td id=\"T_bc5908d4_966f_11ec_ace1_02420a391fb1row7_col1\" class=\"data row7 col1\" >9</td>\n",
       "            </tr>\n",
       "            <tr>\n",
       "                        <th id=\"T_bc5908d4_966f_11ec_ace1_02420a391fb1level0_row8\" class=\"row_heading level0 row8\" >Изменить цвет фона главной страницы, чтобы увеличить вовлеченность пользователей</th>\n",
       "                        <td id=\"T_bc5908d4_966f_11ec_ace1_02420a391fb1row8_col0\" class=\"data row8 col0\" >1</td>\n",
       "                        <td id=\"T_bc5908d4_966f_11ec_ace1_02420a391fb1row8_col1\" class=\"data row8 col1\" >3</td>\n",
       "            </tr>\n",
       "    </tbody></table>"
      ],
      "text/plain": [
       "<pandas.io.formats.style.Styler at 0x7fbaf3a45c90>"
      ]
     },
     "execution_count": 5,
     "metadata": {},
     "output_type": "execute_result"
    }
   ],
   "source": [
    "\n",
    "hip = (hipothesis.loc[:, ['hypothesis', 'ICE', 'RICE']].\n",
    "       set_index('hypothesis').\n",
    "       sort_values(by='ICE', ascending=False).\n",
    "       applymap(lambda x: round(x, 0)) # округлили до целых\n",
    "      )\n",
    "\n",
    "hip.style.highlight_max(color='yellow') # выделили цветом максимальное значение в столбце"
   ]
  },
  {
   "cell_type": "markdown",
   "metadata": {},
   "source": [
    "### Выводы\n",
    "\n",
    "В тройке лидеров согласно обоим примененным способам приоритизации две гипотезы:\n",
    "- №7  Добавить форму подписки на все основные страницы\n",
    "- №0  Добавить два новых канала привлечения трафика\n",
    "\n",
    "Так как RICE отличается от метода ICE тем,  что в формулу в числителе входит оценка, скольких пользователей затронет изменение, то численно RICE в целом больше ICE. Если сравнить места в иерархии ICE и RICE, то гипотеза № 7 поднялась выше, чем гипотеза № 0.  А лидер для ICE гипотеза № 8 (акция, дающая скидку на товар) c учетом Reach стала проигрывать в несколько раз лидерам в RICE."
   ]
  },
  {
   "cell_type": "markdown",
   "metadata": {},
   "source": [
    "## Часть 2. Анализ AB-теста\n",
    "У нас есть проведенный AB-тест, результаты которого описаны в файлах /datasets/orders.csv и /datasets/visitors.csv.\n",
    "\n",
    "Поставленная задача: проанализировать AB-тест."
   ]
  },
  {
   "cell_type": "markdown",
   "metadata": {},
   "source": [
    "### Исходные данные\n",
    "Данные для второй части иссдедований.\n",
    "\n",
    "      Файл orders.csv:\n",
    "      \n",
    "transactionId — идентификатор заказа;\n",
    "\n",
    "visitorId — идентификатор пользователя, совершившего заказ;\n",
    "\n",
    "date — дата, когда был совершён заказ;\n",
    "\n",
    "revenue — выручка заказа;\n",
    "\n",
    "group — группа AB-теста, в которую попал заказ.\n",
    "\n",
    "      Файл visitors.csv:\n",
    "      \n",
    "date — дата;\n",
    "\n",
    "group — группа AB-теста;\n",
    "\n",
    "visitors — количество пользователей в указанную дату в указанной группе AB-теста."
   ]
  },
  {
   "cell_type": "code",
   "execution_count": 6,
   "metadata": {
    "scrolled": false
   },
   "outputs": [],
   "source": [
    "orders = pd.read_csv('/datasets/orders.csv') # переносим данные из файлов в датафреймы\n",
    "visitors = pd.read_csv('/datasets/visitors.csv')"
   ]
  },
  {
   "cell_type": "code",
   "execution_count": 7,
   "metadata": {},
   "outputs": [
    {
     "name": "stdout",
     "output_type": "stream",
     "text": [
      "   transactionId   visitorId        date  revenue group\n",
      "0     3667963787  3312258926  2019-08-15     1650     B\n",
      "1     2804400009  3642806036  2019-08-15      730     B\n",
      "2     2961555356  4069496402  2019-08-15      400     A\n",
      "3     3797467345  1196621759  2019-08-15     9759     B\n",
      "4     2282983706  2322279887  2019-08-15     2308     B\n",
      "<class 'pandas.core.frame.DataFrame'>\n",
      "RangeIndex: 1197 entries, 0 to 1196\n",
      "Data columns (total 5 columns):\n",
      "transactionId    1197 non-null int64\n",
      "visitorId        1197 non-null int64\n",
      "date             1197 non-null object\n",
      "revenue          1197 non-null int64\n",
      "group            1197 non-null object\n",
      "dtypes: int64(3), object(2)\n",
      "memory usage: 46.9+ KB\n"
     ]
    }
   ],
   "source": [
    "print(orders.head()) # Посмотрим информацию о датафреймах\n",
    "orders.info()"
   ]
  },
  {
   "cell_type": "code",
   "execution_count": 8,
   "metadata": {
    "scrolled": true
   },
   "outputs": [
    {
     "name": "stdout",
     "output_type": "stream",
     "text": [
      "         date group  visitors\n",
      "0  2019-08-01     A       719\n",
      "1  2019-08-02     A       619\n",
      "2  2019-08-03     A       507\n",
      "3  2019-08-04     A       717\n",
      "4  2019-08-05     A       756\n",
      "<class 'pandas.core.frame.DataFrame'>\n",
      "RangeIndex: 62 entries, 0 to 61\n",
      "Data columns (total 3 columns):\n",
      "date        62 non-null object\n",
      "group       62 non-null object\n",
      "visitors    62 non-null int64\n",
      "dtypes: int64(1), object(2)\n",
      "memory usage: 1.6+ KB\n"
     ]
    }
   ],
   "source": [
    "print(visitors.head())\n",
    "visitors.info()"
   ]
  },
  {
   "cell_type": "markdown",
   "metadata": {},
   "source": [
    "Необходимо привести столбцы дат к подходящему типу (перевести из object в datetime) в обоих DF и подправить названия столбцов в orders. \n",
    "\n",
    "Пропущенных значений нет."
   ]
  },
  {
   "cell_type": "code",
   "execution_count": 9,
   "metadata": {
    "scrolled": true
   },
   "outputs": [
    {
     "name": "stdout",
     "output_type": "stream",
     "text": [
      "<class 'pandas.core.frame.DataFrame'>\n",
      "RangeIndex: 1197 entries, 0 to 1196\n",
      "Data columns (total 5 columns):\n",
      "transaction_id    1197 non-null int64\n",
      "visitor_id        1197 non-null int64\n",
      "date              1197 non-null datetime64[ns]\n",
      "revenue           1197 non-null int64\n",
      "group             1197 non-null object\n",
      "dtypes: datetime64[ns](1), int64(3), object(1)\n",
      "memory usage: 46.9+ KB\n"
     ]
    }
   ],
   "source": [
    "orders['date'] = orders['date'].map(\n",
    "    lambda x: dt.datetime.strptime(x, '%Y-%m-%d')\n",
    ")\n",
    "visitors['date'] = visitors['date'].map(\n",
    "    lambda x: dt.datetime.strptime(x, '%Y-%m-%d')\n",
    ")\n",
    "orders = orders.rename(columns={'transactionId': 'transaction_id', 'visitorId': 'visitor_id'})\n",
    " \n",
    "orders.info() # Проверим"
   ]
  },
  {
   "cell_type": "code",
   "execution_count": 10,
   "metadata": {},
   "outputs": [
    {
     "name": "stdout",
     "output_type": "stream",
     "text": [
      "Количество дубликатов в таблицах: 0 и 0\n"
     ]
    }
   ],
   "source": [
    "print('Количество дубликатов в таблицах:', orders.duplicated().sum(), 'и', visitors.duplicated().sum())"
   ]
  },
  {
   "cell_type": "code",
   "execution_count": 11,
   "metadata": {},
   "outputs": [
    {
     "name": "stdout",
     "output_type": "stream",
     "text": [
      "Общее количество покупателей: 1031\n",
      "Количество пользователей, попавших в обе группы А и В: 58\n"
     ]
    }
   ],
   "source": [
    "A_B_visitors = orders.groupby('visitor_id')['group'].nunique()\n",
    "print('Общее количество покупателей:', len(A_B_visitors)) \n",
    "\n",
    "print('Количество пользователей, попавших в обе группы А и В:', A_B_visitors[A_B_visitors==2].count())  \n",
    "                                                                            "
   ]
  },
  {
   "cell_type": "markdown",
   "metadata": {},
   "source": [
    "\n",
    "\n",
    "Вывод. Пропущенных значений нет, дубликатов нет. Так как количество покупателей, попавших в обе группы, достаточно велико (более 5% от общего числа), удалять их не корректно, так как это может сказаться на общем результате.\n"
   ]
  },
  {
   "cell_type": "markdown",
   "metadata": {},
   "source": [
    "Подготовим данные для построения графиков и дальнейшего анализа. "
   ]
  },
  {
   "cell_type": "code",
   "execution_count": 13,
   "metadata": {},
   "outputs": [],
   "source": [
    "datesGroups = orders[['date', 'group']].drop_duplicates()  # создадим массив уникальных пар значений дат и групп теста\n",
    "\n",
    "ordersAggregated = datesGroups.apply(    # получим агрегированные кумулятивные по дням данные о заказах \n",
    "    lambda x: orders[\n",
    "        np.logical_and(\n",
    "            orders['date'] <= x['date'], orders['group'] == x['group']\n",
    "        )\n",
    "    ].agg(\n",
    "        {\n",
    "            'date': 'max',\n",
    "            'group': 'max',\n",
    "            'transaction_id': 'nunique',   #   .pd.Series.nunique считает число уникальных значений\n",
    "            'visitor_id': 'nunique',\n",
    "            'revenue': 'sum'\n",
    "        }\n",
    "    ),\n",
    "    axis=1\n",
    ").sort_values(by=['date', 'group'])  # и сортируем их по дате, затем по группе\n",
    "\n",
    "visitorsAggregated = datesGroups.apply(       # получим агрегированные кумулятивные по дням данные о посетителях \n",
    "    lambda x: visitors[\n",
    "        np.logical_and(\n",
    "            visitors['date'] <= x['date'], visitors['group'] == x['group']\n",
    "        )\n",
    "    ].agg({'date': 'max', 'group': 'max', 'visitors': 'sum'}),\n",
    "    axis=1\n",
    ").sort_values(by=['date', 'group'])  # и сортируем их\n",
    "\n",
    "cumulativeData = ordersAggregated.merge(       # Объединяем полученные таблицы по дате и группе\n",
    "    visitorsAggregated, left_on=['date', 'group'], right_on=['date', 'group']\n",
    ")\n",
    "\n",
    "cumulativeData.columns = [    # переименуем столбцы новой таблицы\n",
    "    'date',\n",
    "    'group',\n",
    "    'orders',\n",
    "    'buyers',\n",
    "    'revenue',\n",
    "    'visitors',\n",
    "]\n",
    "\n",
    "# Срез по группе А - датафрейм с кумулятивным количеством заказов и кумулятивной выручкой по дням в группе А\n",
    "cumulativeRevenueA = cumulativeData[cumulativeData['group']=='A'][['date','revenue', 'orders']]\n",
    "\n",
    "# Срез по группе В - датафрейм с кумулятивным количеством заказов и кумулятивной выручкой по дням в группе B\n",
    "cumulativeRevenueB = cumulativeData[cumulativeData['group']=='B'][['date','revenue', 'orders']]\n"
   ]
  },
  {
   "cell_type": "markdown",
   "metadata": {},
   "source": [
    "### График кумулятивной выручки по группам"
   ]
  },
  {
   "cell_type": "code",
   "execution_count": 14,
   "metadata": {
    "scrolled": false
   },
   "outputs": [
    {
     "data": {
      "image/png": "[encoded data removed]",
      "text/plain": [
       "<Figure size 864x360 with 1 Axes>"
      ]
     },
     "metadata": {
      "needs_background": "light"
     },
     "output_type": "display_data"
    }
   ],
   "source": [
    "plt.figure(figsize=(12, 5)) # Задали размер графика\n",
    "\n",
    "# Строим график выручки группы А\n",
    "plt.plot(cumulativeRevenueA['date'], cumulativeRevenueA['revenue'], label='A')\n",
    "\n",
    "# Строим график выручки группы B\n",
    "plt.plot(cumulativeRevenueB['date'], cumulativeRevenueB['revenue'], label='B')\n",
    "\n",
    "plt.legend()\n",
    "plt.xlabel('Дата') # Подписали ось X\n",
    "plt.ylabel('Кумулятивная выручка, у.е.') # Подписали ось Y\n",
    "\n",
    "\n",
    "# Код из комментария от ревьюера\n",
    "plt.annotate('скачок', xy=('2019-08-17', 2800000), xytext=('2019-08-10', 3500000),\n",
    "            arrowprops=dict(facecolor='b'))\n",
    "plt.annotate('отрыв', xy=('2019-08-05', 800000), xytext=('2019-08-05', 2000000),\n",
    "            arrowprops=dict(facecolor='g')) \n",
    "# ... Очень симпатично выглядит...\n",
    "\n",
    "plt.title('График кумулятивной выручки по группам') # Вывели заголовок. Код после замечания ревьюера\n",
    "plt.show()"
   ]
  },
  {
   "cell_type": "markdown",
   "metadata": {},
   "source": [
    "Выручка равномерно увеличивается в течение всего теста для группы А и растет для группы В, но график выручки группы В в районе 18-19 августа скачкообразно растет. Это может означать либо всплеск числа заказов, либо появление аномально дорогих заказов в выборке. \n"
   ]
  },
  {
   "cell_type": "markdown",
   "metadata": {},
   "source": [
    "### График кумулятивного среднего чека по группам"
   ]
  },
  {
   "cell_type": "code",
   "execution_count": 15,
   "metadata": {},
   "outputs": [
    {
     "data": {
      "image/png": "[encoded data removed]",
      "text/plain": [
       "<Figure size 864x360 with 1 Axes>"
      ]
     },
     "metadata": {
      "needs_background": "light"
     },
     "output_type": "display_data"
    }
   ],
   "source": [
    "plt.figure(figsize=(12, 5)) # Задали размер графика\n",
    "\n",
    "# Построим графики среднего чека по группам — разделим кумулятивную выручку на кумулятивное число заказов:\n",
    "\n",
    "plt.plot(\n",
    "    cumulativeRevenueA['date'], \n",
    "    cumulativeRevenueA['revenue'] / cumulativeRevenueA['orders'], \n",
    "    label='A'\n",
    ")\n",
    "plt.plot(\n",
    "    cumulativeRevenueB['date'], \n",
    "    cumulativeRevenueB['revenue'] / cumulativeRevenueB['orders'], \n",
    "    label='B'\n",
    ")\n",
    "\n",
    "plt.axhline(y=9200, color='grey', linestyle='--')\n",
    "plt.axhline(y=7100, color='grey', linestyle='--')\n",
    "\n",
    "plt.legend()\n",
    "plt.xlabel('Дата') # Подписали ось X\n",
    "plt.ylabel('Средний чек, у.е.') # Подписали ось Y\n",
    "plt.title('График кумулятивного среднего чека по группам') # Вывели заголовок. Код после замечания ревьюера\n",
    "plt.show()"
   ]
  },
  {
   "cell_type": "markdown",
   "metadata": {},
   "source": [
    "Средний чек в обеих группах становится равномерным ближе к концу теста: установился в районе 7000 для группы A и незначительно падает для группы B. Судя по этому и предыдущему графикам, в группу B 18-19 августа попали крупные заказы, вызвавшие резкое увеличение среднего чека и всплеск на графике. Похоже, нужно больше данных, чтобы прийти к реальному среднему чеку и установиться на его уровне."
   ]
  },
  {
   "cell_type": "markdown",
   "metadata": {},
   "source": [
    "### График относительного изменения кумулятивного среднего чека группы B к группе A"
   ]
  },
  {
   "cell_type": "code",
   "execution_count": 16,
   "metadata": {},
   "outputs": [
    {
     "data": {
      "image/png": "[encoded data removed]",
      "text/plain": [
       "<Figure size 864x360 with 1 Axes>"
      ]
     },
     "metadata": {
      "needs_background": "light"
     },
     "output_type": "display_data"
    }
   ],
   "source": [
    "# собираем данные в одном датафрейме\n",
    "mergedCumulativeRevenue = cumulativeRevenueA.merge(\n",
    "    cumulativeRevenueB, \n",
    "    left_on='date', right_on='date', how='left', suffixes=['A', 'B']\n",
    ")\n",
    "\n",
    "plt.figure(figsize=(12, 5)) # Задали размер графика\n",
    "\n",
    "# cтроим отношение средних чеков\n",
    "plt.plot(mergedCumulativeRevenue['date'], \n",
    "         (mergedCumulativeRevenue['revenueB']/mergedCumulativeRevenue['ordersB'])\n",
    "         / (mergedCumulativeRevenue['revenueA']/mergedCumulativeRevenue['ordersA']) - 1)\n",
    "\n",
    "# добавляем горизонтальную пунктирную ось X\n",
    "plt.axhline(y=0, color='black', linestyle='--')\n",
    "plt.xlabel('Дата') # Подписали ось X\n",
    "plt.ylabel('Относительное различие для кумулятивного среднего чека') # Подписали ось Y\n",
    "plt.title('График относительного изменения кумулятивного среднего чека группы B к группе A') # Вывели заголовок. Код после замечания ревьюера\n",
    "plt.show()"
   ]
  },
  {
   "cell_type": "markdown",
   "metadata": {},
   "source": [
    "Резко \"скачущий\" график различия для кумулятивного среднего чека может означать аномально высокие стоимости заказов, то есть \"выбросы\". "
   ]
  },
  {
   "cell_type": "markdown",
   "metadata": {},
   "source": [
    "### График кумулятивной конверсии по группам"
   ]
  },
  {
   "cell_type": "code",
   "execution_count": 17,
   "metadata": {},
   "outputs": [
    {
     "data": {
      "image/png": "[encoded data removed]",
      "text/plain": [
       "<Figure size 864x360 with 1 Axes>"
      ]
     },
     "metadata": {
      "needs_background": "light"
     },
     "output_type": "display_data"
    }
   ],
   "source": [
    "# Аналогично проанализируем график кумулятивной конверсии. Зададим масштаб осей методом plt.axis(). \n",
    "# Передадим ему минимальное и максимальное значения оси x; \n",
    "# минимальное и максимальное значения оси y — [\"2019-04-01\", '2019-04-23', 0, 0.015]:\n",
    "\n",
    "# считаем кумулятивную конверсию\n",
    "cumulativeData['conversion'] = cumulativeData['orders'] / cumulativeData['visitors']\n",
    "\n",
    "# отделяем данные по группе A\n",
    "cumulativeDataA = cumulativeData[cumulativeData['group']=='A']\n",
    "\n",
    "# отделяем данные по группе B\n",
    "cumulativeDataB = cumulativeData[cumulativeData['group']=='B']\n",
    "\n",
    "\n",
    "plt.figure(figsize=(12, 5)) # Задали размер графика\n",
    "\n",
    "# строим графики\n",
    "plt.plot(cumulativeDataA['date'], cumulativeDataA['conversion'], label='A')\n",
    "plt.plot(cumulativeDataB['date'], cumulativeDataB['conversion'], label='B')\n",
    "\n",
    "plt.axhline(y=0.030, color='grey', linestyle='--')\n",
    "plt.axhline(y=0.034, color='grey', linestyle='--')\n",
    "\n",
    "plt.legend()\n",
    "\n",
    "plt.axis([dt.datetime(2019, 8, 1), dt.datetime(2019, 9, 1),    # задали масштаб осей - ось Х\n",
    "          0, 0.05])                                            # ось Y\n",
    "plt.xlabel('Дата')   # Подписали ось X\n",
    "plt.ylabel('Кумулятивная конверсия')   # Подписали ось Y\n",
    "plt.title('График кумулятивной конверсии по группам') # Вывели заголовок. Код после замечания ревьюера\n",
    "plt.show()"
   ]
  },
  {
   "cell_type": "markdown",
   "metadata": {},
   "source": [
    "К седьмому дню эксперимента группы вышли примерно на одно значение и зафиксировалась, но конверсия группы B стала стабильно выше конверсии группы А."
   ]
  },
  {
   "cell_type": "markdown",
   "metadata": {},
   "source": [
    "### График относительного изменения кумулятивной конверсии группы B к группе A"
   ]
  },
  {
   "cell_type": "code",
   "execution_count": 18,
   "metadata": {},
   "outputs": [
    {
     "data": {
      "image/png": "[encoded data removed]",
      "text/plain": [
       "<Figure size 864x360 with 1 Axes>"
      ]
     },
     "metadata": {
      "needs_background": "light"
     },
     "output_type": "display_data"
    }
   ],
   "source": [
    "# Построим график относительного различия кумулятивных конверсий:\n",
    "\n",
    "mergedCumulativeConversions = (      # объединим обе таблицы кумулятивных конверсий групп А и В\n",
    "    cumulativeDataA[['date','conversion']].\n",
    "        merge(\n",
    "            cumulativeDataB[['date','conversion']], \n",
    "            left_on='date', \n",
    "            right_on='date', \n",
    "            how='left', \n",
    "            suffixes=['A', 'B']\n",
    "        )\n",
    ")\n",
    "\n",
    "plt.figure(figsize=(12, 5)) # Задали размер графика\n",
    "plt.plot(mergedCumulativeConversions['date'], \n",
    "         (\n",
    "             mergedCumulativeConversions['conversionB'] / mergedCumulativeConversions['conversionA'] - 1\n",
    "         ),\n",
    "         label=\"Относительный прирост\")\n",
    "\n",
    "\n",
    "plt.axhline(y=0, color='black', linestyle='--')\n",
    "plt.axhline(y=0.14, color='grey', linestyle='--')\n",
    "plt.axhline(y=0.1, color='grey', linestyle='--')\n",
    "\n",
    "plt.axis([dt.datetime(2019, 8, 1), dt.datetime(2019, 9, 1),    # задали масштаб осей - ось Х\n",
    "          -0.3, 0.3])                                            # ось Y\n",
    "plt.xlabel('Дата')                     # Подписали ось X\n",
    "plt.ylabel('Относительный прирост конверсии группы B относительно группы A')   # Подписали ось Y\n",
    "plt.title('График относительного изменения кумулятивной конверсии группы B к группе A') # Вывели заголовок. \n",
    "plt.show()"
   ]
  },
  {
   "cell_type": "markdown",
   "metadata": {},
   "source": [
    "В начале теста группа B с переменным успехом проигрывала группе A, затем ее показатели улучшились. Но примерно в середине теста относительный прирост конверсии начал плавно падать, потом стабилизировался в районе 0,1 и опять постепенно растёт.\n",
    "\n",
    "В целом отношение конверсии почти установилось, но сейчас делать какие-либо выводы по тесту нельзя. Сначала нужно проанализировать аномалии, возможно, они изменят картину. Сделаем это далее.\n"
   ]
  },
  {
   "cell_type": "markdown",
   "metadata": {},
   "source": [
    "### График количества заказов по пользователям"
   ]
  },
  {
   "cell_type": "code",
   "execution_count": 19,
   "metadata": {
    "scrolled": false
   },
   "outputs": [
    {
     "name": "stdout",
     "output_type": "stream",
     "text": [
      "         user_id  orders\n",
      "1023  4256040402      11\n",
      "591   2458001652      11\n",
      "569   2378935119       9\n",
      "487   2038680547       8\n",
      "44     199603092       5\n"
     ]
    }
   ],
   "source": [
    "ordersByUsers = (orders.\n",
    "    groupby('visitor_id', as_index=False).       # сгруппируем заказы по пользователям\n",
    "    agg({'transaction_id' : pd.Series.nunique})  # посчитаем агрегированные метрики на сгруппированных данных\n",
    "                  )                 \n",
    "ordersByUsers.columns = ['user_id', 'orders']\n",
    "\n",
    "print(ordersByUsers.\n",
    "      sort_values(by='orders',ascending=False).head()\n",
    "     )                                           # Посмотрим первые 5 строк с максимальным числом заказов"
   ]
  },
  {
   "cell_type": "code",
   "execution_count": 20,
   "metadata": {},
   "outputs": [
    {
     "data": {
      "image/png": "[encoded data removed]",
      "text/plain": [
       "<Figure size 432x288 with 1 Axes>"
      ]
     },
     "metadata": {
      "needs_background": "light"
     },
     "output_type": "display_data"
    }
   ],
   "source": [
    "# Построим гистограмму распределения числа заказов по пользователям методом hist().\n",
    "\n",
    "plt.hist(ordersByUsers['orders'], bins=10) \n",
    "\n",
    "plt.title('Распределение числа заказов по пользователям') # Вывели заголовок. Код после замечания ревьюера\n",
    "plt.xlabel('Число заказов, шт')                           # Подписали ось X\n",
    "plt.ylabel('Количество пользователей, чел.')              # Подписали ось Y\n",
    "plt.show()"
   ]
  },
  {
   "cell_type": "markdown",
   "metadata": {},
   "source": [
    "Видим, что есть, например, всего два пользователя с максимальным числом заказов 11, но более-менее видимые столбцы гистограммы начинаются от значения в три заказа. Но, прежде чем принимать какие-либо решения об аномальном количестве заказов, найдем границу аномальных значений с помощью перцентилей так, чтобы отсеять не более, чем от 1% до 5% наблюдений с крайними значениями. то есть посчитаем 95-й и 99-й перцентили."
   ]
  },
  {
   "cell_type": "markdown",
   "metadata": {},
   "source": [
    "### Граница для определения аномальных пользователей\n",
    "Найдем 95-й и 99-й перцентили количества заказов на пользователя"
   ]
  },
  {
   "cell_type": "code",
   "execution_count": 21,
   "metadata": {},
   "outputs": [
    {
     "name": "stdout",
     "output_type": "stream",
     "text": [
      "[1. 2. 4.]\n"
     ]
    }
   ],
   "source": [
    "# Посчитаем выборочные перцентили количества заказов на одного пользователя\n",
    "\n",
    "print(np.percentile(ordersByUsers['orders'], [90, 95, 99])) "
   ]
  },
  {
   "cell_type": "markdown",
   "metadata": {},
   "source": [
    "Не более 5% пользователей оформляли более 2 заказов, а 90% пользователей заказывали что-либо всего один раз.\n",
    "Выглядит разумным выбрать 4 заказа на одного пользователя за нижнюю границу числа заказов, и отсеять пользователей, у которых 5 заказов и более.\n"
   ]
  },
  {
   "cell_type": "markdown",
   "metadata": {},
   "source": [
    "### Точечный график стоимостей заказов"
   ]
  },
  {
   "cell_type": "code",
   "execution_count": 22,
   "metadata": {},
   "outputs": [
    {
     "data": {
      "image/png": "[encoded data removed]",
      "text/plain": [
       "<Figure size 576x360 with 1 Axes>"
      ]
     },
     "metadata": {
      "needs_background": "light"
     },
     "output_type": "display_data"
    }
   ],
   "source": [
    "# Оценим стоимость заказов \n",
    "plt.figure(figsize=(8, 5)) # Задали размер графика\n",
    "\n",
    "x_values = pd.Series(range(0, len(orders['revenue']))) # Задали значения оси Х (0, 1, 2, 3, ... до кол-ва заказов)\n",
    "\n",
    "# строим точечный график: порядковый номер заказа по оси Х и его цена по оси Y\n",
    "plt.scatter(x_values, orders['revenue'], color='green', alpha=0.3) \n",
    "\n",
    "plt.title('Точечный график стоимостей заказов') # Вывели заголовок. Код после замечания ревьюера\n",
    "plt.xlabel('Порядковый номер заказа')                     # Подписали ось X\n",
    "plt.ylabel('Стоимость заказа, у.е.')   # Подписали ось Y\n",
    "plt.show()"
   ]
  },
  {
   "cell_type": "markdown",
   "metadata": {},
   "source": [
    "Видим, что все цены заказов находятся в диапазоне примерно до 10 000 рублей, кроме двух, чья стоимость составляет около 20 000 и даже около 1 300 000 рублей, то есть в сто больше!\n",
    "По-видимому, этот самый дорогой заказ попал в группу В теста и искажал результаты (мы видели скачки на графиках). При этом такой заказ - либо просто исключение, которое проявилось не из-за тестирования гипотезы, а случайно, либо и вовсе ошибочные данные.\n",
    "\n",
    "Следует удалить аномально дорогие заказы из теста. Самые дешёвые заказы из-за маленькой стоимости слабо влияют на средний чек, их удалять не будем. По графику можно выбрать границу аномальных заказов где-то между 18 000 и 25 000 рублей, но мы найдем точные значения с помощью перцентилей так, чтобы отсеять не более, чем от 1% до 5% наблюдений с крайними значениями."
   ]
  },
  {
   "cell_type": "markdown",
   "metadata": {},
   "source": [
    "###  Граница для определения аномальных заказов\n",
    "Найдем 95-й и 99-й перцентили стоимости заказов."
   ]
  },
  {
   "cell_type": "code",
   "execution_count": 23,
   "metadata": {
    "scrolled": true
   },
   "outputs": [
    {
     "name": "stdout",
     "output_type": "stream",
     "text": [
      "[ 2978.  18168.  28000.  58233.2]\n",
      "      transaction_id  visitor_id       date  revenue group\n",
      "425        590470918  1920142716 2019-08-19  1294500     B\n",
      "1196      3936777065  2108080724 2019-08-15   202740     B\n",
      "858        192721366  1316129916 2019-08-27    93940     A\n",
      "1136       666610489  1307669133 2019-08-13    92550     A\n",
      "744       3668308183   888512513 2019-08-27    86620     B\n"
     ]
    }
   ],
   "source": [
    "print(np.percentile(orders['revenue'], [50, 90, 95, 99])) # считаем выборочные перцентили стоимости заказов \n",
    "\n",
    "print(orders.sort_values(by='revenue',ascending=False).head()) # Посмотрим первые 5 строк с максимальной стоимостью заказов "
   ]
  },
  {
   "cell_type": "markdown",
   "metadata": {},
   "source": [
    "Среди аномальных значений стоимости заказов есть как группа А, так и группа В, то есть они не связаны с проведенным экспериментом, но могут искажать результаты всего теста. Так как медианное значение (50-й перцентиль) составляет чуть меньше 3 тысяч, можно считать аномальными те значения, которые встречаются реже, чем в 5% случаев, и составляют более 28 000 (95-й перцентиль)."
   ]
  },
  {
   "cell_type": "markdown",
   "metadata": {},
   "source": [
    "### Статистическая значимость различий в конверсии между группами по «сырым» данным\n",
    "Посчитаем статистическую значимость различий в конверсии между группами по «сырым» данным — без удаления аномальных пользователей.  Чтобы подготовить выборки к проверке критерием Манна-Уитни, для начала создадим переменные ordersByUsersA и ordersByUsersB со столбцами 'userId', 'orders'. В них для пользователей, которые хотя бы 1 раз совершали заказ, укажем число заказов. "
   ]
  },
  {
   "cell_type": "code",
   "execution_count": 24,
   "metadata": {
    "scrolled": true
   },
   "outputs": [],
   "source": [
    "ordersByUsersA = (\n",
    "    orders[orders['group'] == 'A']\n",
    "    .groupby('visitor_id', as_index=False)\n",
    "    .agg({'transaction_id': pd.Series.nunique})\n",
    ")\n",
    "ordersByUsersA.columns = ['user_id', 'orders']\n",
    "\n",
    "ordersByUsersB = (\n",
    "    orders[orders['group'] == 'B']\n",
    "    .groupby('visitor_id', as_index=False)\n",
    "    .agg({'transaction_id': pd.Series.nunique})\n",
    ")\n",
    "ordersByUsersB.columns = ['user_id', 'orders'] "
   ]
  },
  {
   "cell_type": "markdown",
   "metadata": {},
   "source": [
    "Затем объявим переменные sampleA и sampleB, в которых пользователям из разных групп будет соответствовать количество заказов. Тем, кто ничего не заказал, будут соответствовать нули. Количество нулей равно разнице между суммой посетителей в группе и количеством записей о заказах. Создадим объект pd.Series нужной длины отдельно для группы А и группы В сразу в теле функции concat(). "
   ]
  },
  {
   "cell_type": "code",
   "execution_count": 25,
   "metadata": {},
   "outputs": [
    {
     "name": "stdout",
     "output_type": "stream",
     "text": [
      "18736 18916\n"
     ]
    }
   ],
   "source": [
    "# каждый элемент выборок sampleA и sampleВ — число заказов определённого пользователя, в том числе ноль\n",
    "sampleA = pd.concat(      \n",
    "    [\n",
    "        ordersByUsersA['orders'],\n",
    "        pd.Series(                 #  Создаем объект pd.Series \n",
    "            0,                     #  из нулей, \n",
    "            index = np.arange(\n",
    "                visitors[visitors['group'] == 'A']['visitors'].sum() \n",
    "                - len(ordersByUsersA['orders'])                                  \n",
    "            ), \n",
    "            name = 'orders'\n",
    "        )\n",
    "    ],\n",
    "    axis=0   # объединяем по строкам, друг за другом\n",
    ")\n",
    "\n",
    "sampleB = pd.concat(\n",
    "    [\n",
    "        ordersByUsersB['orders'],\n",
    "        pd.Series(\n",
    "            0, \n",
    "            index = np.arange(\n",
    "                visitors[visitors['group'] == 'B']['visitors'].sum() \n",
    "                - len(ordersByUsersB['orders'])\n",
    "            ), \n",
    "            name='orders')\n",
    "    ],\n",
    "    axis=0\n",
    ") \n",
    "print(len(sampleA), len(sampleB)) # Проверили длину   "
   ]
  },
  {
   "cell_type": "markdown",
   "metadata": {},
   "source": [
    "Найдём конверсию сдедующим образом. \n",
    "\n",
    "Число элементов sampleA — это количество пользователей, сумма всех элементов — количество заказов. Чтобы получить конверсию в группе, поделим сумму заказов на число пользователей, то есть, фактически, найдём среднее в выборке sampleA - применим метод mean(). Аналогично для группы B: sampleB.mean().\n",
    "Выведем относительный прирост конверсии группы B: конверсия группы B / конверсия группы A - 1. Округлим до трёх знаков после запятой."
   ]
  },
  {
   "cell_type": "markdown",
   "metadata": {},
   "source": [
    "   \n",
    "Сформулируем гипотезы:\n",
    "Н0: Нет статистической значимости различий между уровнями конверсии в группах А и В.\n",
    "Н1: Есть статистическая значимость различий между уровнями конверсии в группах А и В.\n",
    "    \n",
    "Для возможности отвержения нулевой гипотезы применим критерий Манна-Уитни. Так как есть возможность отклонения наблюдаемого значения от предполагаемого в обе стороны (конверсия А либо больше, либо меньше конверсии В), то альтернативная гипотеза является двусторонней. Учтем это, указав в критерии Манна-Уитни mannwhitneyu() параметр alternative='two-sided'. \n"
   ]
  },
  {
   "cell_type": "code",
   "execution_count": 26,
   "metadata": {},
   "outputs": [
    {
     "name": "stdout",
     "output_type": "stream",
     "text": [
      "Значение p-value: 0.017\n",
      "Отвергаем нулевую гипотезу\n"
     ]
    }
   ],
   "source": [
    "# Применим критерий Манна-Уитни mannwhitneyu() и отформатируем p-value, округлив его до трёх знаков после запятой.\n",
    "\n",
    "alpha = 0.05  # зададим критический уровень статистической значимости        \n",
    "\n",
    "results = stats.mannwhitneyu(                                                 \n",
    "    sampleA, \n",
    "    sampleB, \n",
    "    alternative='two-sided'    \n",
    ")[1]                               \n",
    "\n",
    "print('Значение p-value: {0:.3f}'.format(results))                           \n",
    "\n",
    "if results < alpha:                                                          \n",
    "    print(\"Отвергаем нулевую гипотезу\")\n",
    "else:\n",
    "    print(\"Не получилось отвергнуть нулевую гипотезу\") "
   ]
  },
  {
   "cell_type": "code",
   "execution_count": 27,
   "metadata": {},
   "outputs": [
    {
     "name": "stdout",
     "output_type": "stream",
     "text": [
      "Относительный прирост конверсии группы B: 0.138\n"
     ]
    }
   ],
   "source": [
    "print('Относительный прирост конверсии группы B: {0:.3f}'.format(sampleB.mean() / sampleA.mean() - 1))"
   ]
  },
  {
   "cell_type": "markdown",
   "metadata": {},
   "source": [
    "**Вывод**\n",
    "    \n",
    "Значение p-value = 0.017 меньше принятого критического уровня статистической значимости 0.05. Значит, нулевую гипотезу о том, что статистически значимых различий в конверсии между группами нет, мы отвергаем. Относительный прирост конверсии группы B (выигрыш) равен 13,8%.\n"
   ]
  },
  {
   "cell_type": "markdown",
   "metadata": {},
   "source": [
    "###  Статистическая значимость различий в среднем чеке заказа между группами по «сырым» данным\n",
    "Посчитаем статистическую значимость различий в среднем чеке между группами по «сырым» данным — без удаления аномальных пользователей.\n",
    "\n",
    "Чтобы рассчитать статистическую значимость различий в среднем чеке между сегментами, передадим критерию mannwhitneyu() данные о выручке с заказов."
   ]
  },
  {
   "cell_type": "markdown",
   "metadata": {},
   "source": [
    "Нулевая гипотеза: средние чеки по \"сырым\" данным по группам А и В одинаковы. \n",
    "    \n",
    "Альтернативная гипотеза: средние чеки по \"сырым\" данным  по группам А и В отличаются. Альтернативная гипотеза является двусторонней. \n",
    "\n"
   ]
  },
  {
   "cell_type": "code",
   "execution_count": 28,
   "metadata": {},
   "outputs": [
    {
     "name": "stdout",
     "output_type": "stream",
     "text": [
      "Значение p-value: 0.729\n",
      "Не получилось отвергнуть нулевую гипотезу\n"
     ]
    }
   ],
   "source": [
    "results = (\n",
    "    stats.mannwhitneyu\n",
    "    (\n",
    "        orders[orders['group']=='A']['revenue'], \n",
    "        orders[orders['group']=='B']['revenue'],\n",
    "        alternative='two-sided'      \n",
    "    )\n",
    "    [1])\n",
    "     \n",
    "print('Значение p-value: {0:.3f}'.format(results))                            \n",
    "\n",
    "if results < alpha:                                                          \n",
    "    print(\"Отвергаем нулевую гипотезу\")\n",
    "else:\n",
    "    print(\"Не получилось отвергнуть нулевую гипотезу\") "
   ]
  },
  {
   "cell_type": "markdown",
   "metadata": {},
   "source": [
    "Ещё найдём относительные различия в среднем чеке между группами:"
   ]
  },
  {
   "cell_type": "code",
   "execution_count": 29,
   "metadata": {},
   "outputs": [
    {
     "name": "stdout",
     "output_type": "stream",
     "text": [
      "Относительный прирост среднего чека: 0.259\n"
     ]
    }
   ],
   "source": [
    "print('Относительный прирост среднего чека: {0:.3f}'.format\n",
    "      (\n",
    "    orders[orders['group']=='B']['revenue'].mean()\n",
    "    / orders[orders['group']=='A']['revenue'].mean()\n",
    "    - 1)\n",
    "     ) "
   ]
  },
  {
   "cell_type": "markdown",
   "metadata": {},
   "source": [
    "P-value значительно больше 0.05. Значит, причин отвергать нулевую гипотезу нет.  Примем, что в среднем чеке нет различий, при этом средний чек группы B значительно выше среднего чека группы A (согласно п.\"График кумулятивного среднего чека по группам\"), а относительный прирост среднего чека группы В выше на 0,25. Это кажется не логичным.\n",
    "\n",
    "Проверим, связаны ли данные результаты с аномальными значениями - выбросами."
   ]
  },
  {
   "cell_type": "markdown",
   "metadata": {},
   "source": [
    "### Статистическая значимость различий в конверсии между группами по «очищенным» данным"
   ]
  },
  {
   "cell_type": "markdown",
   "metadata": {},
   "source": [
    "Примем за аномальных пользователей тех, кто совершил 5 и более заказов или совершил заказ дороже 28 000 рублей. Так мы уберём 1% пользователей с наибольшим числом заказов и не более 5% пользователей с дорогими заказами. Сделаем срезы пользователей с числом заказов больше 4 — usersWithManyOrders и пользователей, совершивших заказы дороже 28 000 — usersWithExpensiveOrders. Объединим их в таблице abnormalUsers, содержащей id таких пользователей."
   ]
  },
  {
   "cell_type": "code",
   "execution_count": 30,
   "metadata": {},
   "outputs": [
    {
     "name": "stdout",
     "output_type": "stream",
     "text": [
      "Аномальных пользователей: 59\n"
     ]
    }
   ],
   "source": [
    "usersWithManyOrders = pd.concat(\n",
    "    [\n",
    "        ordersByUsersA[ordersByUsersA['orders'] > 4]['user_id'],\n",
    "        ordersByUsersB[ordersByUsersB['orders'] > 4]['user_id'],\n",
    "    ],\n",
    "    axis=0,\n",
    ")\n",
    "\n",
    "usersWithExpensiveOrders = orders[orders['revenue'] > 28000]['visitor_id']\n",
    "\n",
    "abnormalUsers = (\n",
    "    pd.concat([usersWithManyOrders, usersWithExpensiveOrders], axis=0)\n",
    "    .drop_duplicates()\n",
    "    .sort_values()\n",
    ")\n",
    "# Узнаем, сколько всего аномальных пользователей, с помощью атрибута shape:\n",
    "print(\"Аномальных пользователей:\", abnormalUsers.shape[0]) "
   ]
  },
  {
   "cell_type": "markdown",
   "metadata": {},
   "source": [
    "Осталось провести анализ на срезе данных, исключив из рассмотрения попавших в abnormalUsers пользователей. Мы можем исключить их, так как их общее число не превышает 5%.\n",
    "\n",
    "Узнаем, как их действия повлияли на результаты теста. Посчитаем статистическую значимость различий в конверсии между группами теста по очищенным данным. Сначала подготовим выборки количества заказов по пользователям по группам теста."
   ]
  },
  {
   "cell_type": "code",
   "execution_count": 31,
   "metadata": {},
   "outputs": [
    {
     "name": "stdout",
     "output_type": "stream",
     "text": [
      "18703 18879\n"
     ]
    }
   ],
   "source": [
    "sampleAFiltered = pd.concat(\n",
    "    [\n",
    "        ordersByUsersA[\n",
    "            np.logical_not(ordersByUsersA['user_id'].isin(abnormalUsers))\n",
    "        ]['orders'],\n",
    "        pd.Series(\n",
    "            0,\n",
    "            index=np.arange(\n",
    "                visitors[visitors['group'] == 'A']['visitors'].sum()               \n",
    "                - len(ordersByUsersA['orders']) \n",
    "            ),\n",
    "            name='orders',\n",
    "        ),\n",
    "    ],\n",
    "    axis=0,\n",
    ")\n",
    "\n",
    "sampleBFiltered = pd.concat(\n",
    "    [\n",
    "        ordersByUsersB[\n",
    "            np.logical_not(ordersByUsersB['user_id'].isin(abnormalUsers))\n",
    "        ]['orders'],\n",
    "        pd.Series(\n",
    "            0,\n",
    "            index=np.arange(\n",
    "                visitors[visitors['group'] == 'B']['visitors'].sum()              \n",
    "                - len(ordersByUsersB['orders'])  \n",
    "            ),\n",
    "            name='orders',\n",
    "        ),\n",
    "    ],\n",
    "    axis=0,\n",
    ") \n",
    "print(len(sampleAFiltered), len(sampleBFiltered)) # Проверили длину\n"
   ]
  },
  {
   "cell_type": "markdown",
   "metadata": {},
   "source": [
    "\n",
    "    \n",
    "Сформулируем:\n",
    "Нулевая гипотеза: конверсии в группах А и В для фильтрованных данных одинаковы. \n",
    "    \n",
    "Альтернативная гипотеза: есть различия в конверсии между группами А и В для фильтрованных данных.\n",
    "\n",
    "Для возможности отвержения нулевой гипотезы применим к полученным выборкам критерий Манна-Уитни. Так как альтернативная гипотеза является двусторонней, укажем в критерии Манна-Уитни параметр alternative='two-sided'. "
   ]
  },
  {
   "cell_type": "code",
   "execution_count": 32,
   "metadata": {},
   "outputs": [
    {
     "name": "stdout",
     "output_type": "stream",
     "text": [
      "Значение p-value: 0.018\n",
      "Отвергаем нулевую гипотезу\n",
      "Относительный прирост конверсии группы B: 0.145\n"
     ]
    }
   ],
   "source": [
    "# Применим критерий Манна-Уитни mannwhitneyu() и отформатируем p-value, округлив его до трёх знаков после запятой.\n",
    "\n",
    "alpha = 0.05  # зададим критический уровень статистической значимости        \n",
    "\n",
    "results = stats.mannwhitneyu(                                                \n",
    "    sampleAFiltered, \n",
    "    sampleBFiltered, \n",
    "    alternative='two-sided'     # НОВЫЙ ФРАГМЕНТ КОДА\n",
    ")[1]   \n",
    "\n",
    "print('Значение p-value: {0:.3f}'.format(results))                           \n",
    "\n",
    "if results < alpha:                                                          \n",
    "    print(\"Отвергаем нулевую гипотезу\")\n",
    "else:\n",
    "    print(\"Не получилось отвергнуть нулевую гипотезу\") \n",
    "\n",
    "\n",
    "print('Относительный прирост конверсии группы B: {0:.3f}'.format(\n",
    "    sampleBFiltered.mean()\n",
    "    / sampleAFiltered.mean()\n",
    "    - 1)\n",
    ")"
   ]
  },
  {
   "cell_type": "markdown",
   "metadata": {},
   "source": [
    "\n",
    "\n",
    "**Вывод*\n",
    "    \n",
    "Значение p-value = 0.018, хоть и немного увеличилось по сравнению с \"сырыми\" данными, всё равно меньше принятого критического уровня статистической значимости 0.05. Значит, нулевую гипотезу о том, что статистически значимых различий в конверсии между группами нет, мы отвергаем.    \n",
    "Относительный прирост конверсии группы B по сравнению с группой А равен 14,5%.\n",
    "\n",
    "Выводы по конверсии не изменились.\n",
    "\n"
   ]
  },
  {
   "cell_type": "markdown",
   "metadata": {},
   "source": [
    "### Статистическая значимость различий в среднем чеке заказа между группами по «очищенным» данным"
   ]
  },
  {
   "cell_type": "markdown",
   "metadata": {},
   "source": [
    "Нулевая гипотеза: средние чеки для фильтрованных данных по группам А и В одинаковы. \n",
    "    \n",
    "Альтернативная гипотеза: средние чеки для фильтрованных данных по группам А и В отличаются.\n",
    "\n",
    "Для возможности отвержения нулевой гипотезы применим к полученным выборкам критерий Манна-Уитни. Альтернативная гипотеза является двусторонней. \n"
   ]
  },
  {
   "cell_type": "code",
   "execution_count": 33,
   "metadata": {
    "scrolled": true
   },
   "outputs": [
    {
     "name": "stdout",
     "output_type": "stream",
     "text": [
      "Значение p-value: 0.961\n",
      "Не получилось отвергнуть нулевую гипотезу\n",
      "Относительный прирост среднего чека: -0.014\n"
     ]
    }
   ],
   "source": [
    "results = (\n",
    "        stats.mannwhitneyu(\n",
    "            orders[\n",
    "                np.logical_and(\n",
    "                    orders['group'] == 'A',\n",
    "                    np.logical_not(orders['visitor_id'].isin(abnormalUsers)),\n",
    "                )\n",
    "            ]['revenue'],\n",
    "            orders[\n",
    "                np.logical_and(\n",
    "                    orders['group'] == 'B',\n",
    "                    np.logical_not(orders['visitor_id'].isin(abnormalUsers)),\n",
    "                )\n",
    "            ]['revenue'],\n",
    "            alternative='two-sided'  \n",
    "        )[1]\n",
    "    )\n",
    "\n",
    "\n",
    "print('Значение p-value: {0:.3f}'.format(results))\n",
    "        \n",
    "if results < alpha:                                                        \n",
    "    print(\"Отвергаем нулевую гипотезу\")\n",
    "else:\n",
    "    print(\"Не получилось отвергнуть нулевую гипотезу\") \n",
    "    \n",
    "print(\n",
    "    'Относительный прирост среднего чека: {0:.3f}'.format(\n",
    "        orders[\n",
    "            np.logical_and(\n",
    "                orders['group'] == 'B',\n",
    "                np.logical_not(orders['visitor_id'].isin(abnormalUsers)),\n",
    "            )\n",
    "        ]['revenue'].mean()\n",
    "        / orders[\n",
    "            np.logical_and(\n",
    "                orders['group'] == 'A',\n",
    "                np.logical_not(orders['visitor_id'].isin(abnormalUsers)),\n",
    "            )\n",
    "        ]['revenue'].mean()\n",
    "        - 1\n",
    "    )\n",
    ") \n"
   ]
  },
  {
   "cell_type": "markdown",
   "metadata": {},
   "source": [
    "P-value значительно больше 0.05. Значит, причин отвергать нулевую гипотезу для \"фильтрованных\" данных нет. При этом, как мы помним, средний чек группы B значительно выше среднего чека группы A согласно графику. Но относительный прирост среднего чека группы В по отношению к А практически нулевой (всего 1,4%, да еще и отрицательный). Теперь понятно, что выбросы очень сильно влияли на выборки в плане относительного прироста среднего чека."
   ]
  },
  {
   "cell_type": "markdown",
   "metadata": {},
   "source": [
    "## Решение по результатам АВ-теста \n",
    "\n",
    "**Выводы**\n",
    " \n",
    "- Между группами статистически значимых различий в конверсии нет;\n",
    "- График различия кумулятивной конверсии между группами сообщает, что результаты групп зафиксировались, и результаты группы B выше группы A;\n",
    "- Относительный прирост конверсии (выигрыш группы B) находится на уровне около 14% вне зависимости от фильтрации аномальных значений;\n",
    "- Нет статистически значимого различия по среднему чеку между группами ни по «сырым», ни по данным после фильтрации аномалий;\n",
    "- График различия среднего чека наводит на мысль о влиянии аномальных значений на результаты;\n",
    "- После фильтрации аномальных значений данные говорят об отсутствии прироста среднего чека группы В по отношению к группе А.\n",
    "\n",
    "Итог: \n",
    "к моменту завершения теста имеем стабильные результаты, конверсия группы B выше группы A. Исходя из этого, тест следует остановить и признать выигрыш группы В."
   ]
  },
  {
   "cell_type": "markdown",
   "metadata": {},
   "source": [
    "## Общий вывод\n",
    "\n",
    "Отделу маркетинга можно посоветовать в первую очередь проверить две гипотезы:\n",
    "- Добавить два новых канала привлечения трафика, что позволит привлекать на 30% больше пользователей;\n",
    "- Добавить форму подписки на все основные страницы, чтобы собрать базу клиентов для email-рассылок.\n",
    "\n",
    "Проводимый А/В-тест следует остановить, признав выигрыш группы В - нововведения привели к увеличению конверсии в покупателей. \n",
    "\n",
    "Так как при проведении А/В-теста в данных были ошибки, касающиеся попадания одних и тех же пользователей в обе тестируемые группы, желательно продумать, как избежать повторения ситуации в дальнейшем."
   ]
  },
  {
   "cell_type": "code",
   "execution_count": null,
   "metadata": {},
   "outputs": [],
   "source": []
  }
 ],
 "metadata": {
  "ExecuteTimeLog": [
   {
    "duration": 2932,
    "start_time": "2022-02-19T15:52:41.479Z"
   },
   {
    "duration": 2388,
    "start_time": "2022-02-19T15:53:30.537Z"
   },
   {
    "duration": 2118,
    "start_time": "2022-02-19T15:54:14.990Z"
   },
   {
    "duration": 20,
    "start_time": "2022-02-19T15:56:54.455Z"
   },
   {
    "duration": 320,
    "start_time": "2022-02-19T16:04:02.142Z"
   },
   {
    "duration": 323,
    "start_time": "2022-02-19T16:04:40.452Z"
   },
   {
    "duration": 19,
    "start_time": "2022-02-19T16:07:20.427Z"
   },
   {
    "duration": 13,
    "start_time": "2022-02-19T16:08:08.643Z"
   },
   {
    "duration": 9,
    "start_time": "2022-02-19T16:12:42.719Z"
   },
   {
    "duration": 320,
    "start_time": "2022-02-19T16:14:12.827Z"
   },
   {
    "duration": 9,
    "start_time": "2022-02-19T16:14:43.443Z"
   },
   {
    "duration": 695,
    "start_time": "2022-02-19T16:32:44.603Z"
   },
   {
    "duration": 9,
    "start_time": "2022-02-19T16:32:45.300Z"
   },
   {
    "duration": 8,
    "start_time": "2022-02-19T16:32:45.310Z"
   },
   {
    "duration": 316,
    "start_time": "2022-02-21T18:23:34.758Z"
   },
   {
    "duration": 596,
    "start_time": "2022-02-21T18:23:45.349Z"
   },
   {
    "duration": 11,
    "start_time": "2022-02-21T18:23:45.948Z"
   },
   {
    "duration": 10,
    "start_time": "2022-02-21T18:23:45.961Z"
   },
   {
    "duration": 2106,
    "start_time": "2022-02-21T18:23:45.973Z"
   },
   {
    "duration": 28,
    "start_time": "2022-02-21T18:25:58.162Z"
   },
   {
    "duration": 34,
    "start_time": "2022-02-21T18:32:23.959Z"
   },
   {
    "duration": 111,
    "start_time": "2022-02-21T18:47:47.367Z"
   },
   {
    "duration": 34,
    "start_time": "2022-02-21T18:48:12.915Z"
   },
   {
    "duration": 38,
    "start_time": "2022-02-21T18:49:40.613Z"
   },
   {
    "duration": 10,
    "start_time": "2022-02-21T18:50:16.587Z"
   },
   {
    "duration": 9,
    "start_time": "2022-02-21T18:50:19.050Z"
   },
   {
    "duration": 32,
    "start_time": "2022-02-21T18:54:36.542Z"
   },
   {
    "duration": 10,
    "start_time": "2022-02-21T18:54:57.968Z"
   },
   {
    "duration": 1298,
    "start_time": "2022-02-21T18:55:05.424Z"
   },
   {
    "duration": 1264,
    "start_time": "2022-02-21T18:57:36.707Z"
   },
   {
    "duration": 25,
    "start_time": "2022-02-21T18:58:38.756Z"
   },
   {
    "duration": 1240,
    "start_time": "2022-02-21T19:00:20.681Z"
   },
   {
    "duration": 753,
    "start_time": "2022-02-21T19:00:48.227Z"
   },
   {
    "duration": 12,
    "start_time": "2022-02-21T19:00:48.982Z"
   },
   {
    "duration": 15,
    "start_time": "2022-02-21T19:00:48.997Z"
   },
   {
    "duration": 32,
    "start_time": "2022-02-21T19:00:49.015Z"
   },
   {
    "duration": 10,
    "start_time": "2022-02-21T19:00:49.049Z"
   },
   {
    "duration": 11,
    "start_time": "2022-02-21T19:00:49.061Z"
   },
   {
    "duration": 24,
    "start_time": "2022-02-21T19:00:49.074Z"
   },
   {
    "duration": 6106,
    "start_time": "2022-02-21T19:09:24.838Z"
   },
   {
    "duration": 6956,
    "start_time": "2022-02-21T19:13:51.023Z"
   },
   {
    "duration": 742,
    "start_time": "2022-02-21T19:14:30.122Z"
   },
   {
    "duration": 12,
    "start_time": "2022-02-21T19:14:30.866Z"
   },
   {
    "duration": 30,
    "start_time": "2022-02-21T19:14:30.881Z"
   },
   {
    "duration": 62,
    "start_time": "2022-02-21T19:14:30.913Z"
   },
   {
    "duration": 10,
    "start_time": "2022-02-21T19:14:30.978Z"
   },
   {
    "duration": 19,
    "start_time": "2022-02-21T19:14:30.989Z"
   },
   {
    "duration": 35,
    "start_time": "2022-02-21T19:14:31.010Z"
   },
   {
    "duration": 6261,
    "start_time": "2022-02-21T19:14:38.643Z"
   },
   {
    "duration": 7675,
    "start_time": "2022-02-21T19:20:18.658Z"
   },
   {
    "duration": 379,
    "start_time": "2022-02-21T19:20:46.019Z"
   },
   {
    "duration": 212,
    "start_time": "2022-02-21T19:25:27.562Z"
   },
   {
    "duration": 13,
    "start_time": "2022-02-21T19:26:36.241Z"
   },
   {
    "duration": 387,
    "start_time": "2022-02-21T19:28:21.425Z"
   },
   {
    "duration": 11,
    "start_time": "2022-02-21T19:28:30.081Z"
   },
   {
    "duration": 236,
    "start_time": "2022-02-21T19:30:29.401Z"
   },
   {
    "duration": 510,
    "start_time": "2022-02-21T19:36:10.928Z"
   },
   {
    "duration": 486,
    "start_time": "2022-02-21T19:36:38.457Z"
   },
   {
    "duration": 535,
    "start_time": "2022-02-21T19:37:40.457Z"
   },
   {
    "duration": 411,
    "start_time": "2022-02-21T19:37:48.823Z"
   },
   {
    "duration": 233,
    "start_time": "2022-02-21T19:38:41.616Z"
   },
   {
    "duration": 243,
    "start_time": "2022-02-21T19:39:00.667Z"
   },
   {
    "duration": 429,
    "start_time": "2022-02-21T19:39:22.237Z"
   },
   {
    "duration": 433,
    "start_time": "2022-02-21T19:39:32.521Z"
   },
   {
    "duration": 358,
    "start_time": "2022-02-21T19:40:20.224Z"
   },
   {
    "duration": 331,
    "start_time": "2022-02-21T19:42:45.094Z"
   },
   {
    "duration": 269,
    "start_time": "2022-02-21T19:42:59.390Z"
   },
   {
    "duration": 240,
    "start_time": "2022-02-21T19:49:33.610Z"
   },
   {
    "duration": 341,
    "start_time": "2022-02-21T19:51:09.492Z"
   },
   {
    "duration": 327,
    "start_time": "2022-02-21T19:59:38.069Z"
   },
   {
    "duration": 387,
    "start_time": "2022-02-21T20:01:49.202Z"
   },
   {
    "duration": 238,
    "start_time": "2022-02-21T20:07:36.488Z"
   },
   {
    "duration": 79,
    "start_time": "2022-02-21T20:09:30.812Z"
   },
   {
    "duration": 257,
    "start_time": "2022-02-21T20:11:36.001Z"
   },
   {
    "duration": 225,
    "start_time": "2022-02-21T20:13:21.488Z"
   },
   {
    "duration": 356,
    "start_time": "2022-02-21T20:14:01.056Z"
   },
   {
    "duration": 266,
    "start_time": "2022-02-21T20:14:47.008Z"
   },
   {
    "duration": 364,
    "start_time": "2022-02-21T20:21:00.900Z"
   },
   {
    "duration": 361,
    "start_time": "2022-02-21T20:21:34.751Z"
   },
   {
    "duration": 265,
    "start_time": "2022-02-21T20:27:50.316Z"
   },
   {
    "duration": 501,
    "start_time": "2022-02-21T20:31:00.926Z"
   },
   {
    "duration": 420,
    "start_time": "2022-02-21T20:31:15.903Z"
   },
   {
    "duration": 429,
    "start_time": "2022-02-21T20:31:27.894Z"
   },
   {
    "duration": 374,
    "start_time": "2022-02-21T20:34:07.920Z"
   },
   {
    "duration": 541,
    "start_time": "2022-02-21T20:38:18.982Z"
   },
   {
    "duration": 881,
    "start_time": "2022-02-22T09:56:22.362Z"
   },
   {
    "duration": 15,
    "start_time": "2022-02-22T09:56:23.246Z"
   },
   {
    "duration": 13,
    "start_time": "2022-02-22T09:56:23.265Z"
   },
   {
    "duration": 34,
    "start_time": "2022-02-22T09:56:23.281Z"
   },
   {
    "duration": 13,
    "start_time": "2022-02-22T09:56:23.325Z"
   },
   {
    "duration": 15,
    "start_time": "2022-02-22T09:56:23.341Z"
   },
   {
    "duration": 31,
    "start_time": "2022-02-22T09:56:23.359Z"
   },
   {
    "duration": 653,
    "start_time": "2022-02-22T09:56:23.394Z"
   },
   {
    "duration": 547,
    "start_time": "2022-02-22T09:56:24.051Z"
   },
   {
    "duration": 418,
    "start_time": "2022-02-22T09:56:24.600Z"
   },
   {
    "duration": 616,
    "start_time": "2022-02-22T09:56:25.021Z"
   },
   {
    "duration": 470,
    "start_time": "2022-02-22T09:56:25.639Z"
   },
   {
    "duration": 536,
    "start_time": "2022-02-22T09:56:26.111Z"
   },
   {
    "duration": 457,
    "start_time": "2022-02-22T09:56:30.369Z"
   },
   {
    "duration": 319,
    "start_time": "2022-02-22T09:57:09.593Z"
   },
   {
    "duration": 421,
    "start_time": "2022-02-22T09:57:45.594Z"
   },
   {
    "duration": 605,
    "start_time": "2022-02-22T10:01:03.131Z"
   },
   {
    "duration": 511,
    "start_time": "2022-02-22T10:02:48.515Z"
   },
   {
    "duration": 411,
    "start_time": "2022-02-22T10:03:07.712Z"
   },
   {
    "duration": 467,
    "start_time": "2022-02-22T10:03:23.600Z"
   },
   {
    "duration": 6144,
    "start_time": "2022-02-22T10:14:43.703Z"
   },
   {
    "duration": 495,
    "start_time": "2022-02-22T10:20:38.679Z"
   },
   {
    "duration": 485,
    "start_time": "2022-02-22T10:21:10.545Z"
   },
   {
    "duration": 478,
    "start_time": "2022-02-22T10:25:18.504Z"
   },
   {
    "duration": 448,
    "start_time": "2022-02-22T10:25:26.734Z"
   },
   {
    "duration": 512,
    "start_time": "2022-02-22T10:26:06.584Z"
   },
   {
    "duration": 498,
    "start_time": "2022-02-22T10:26:19.763Z"
   },
   {
    "duration": 468,
    "start_time": "2022-02-22T10:26:34.291Z"
   },
   {
    "duration": 533,
    "start_time": "2022-02-22T10:27:56.341Z"
   },
   {
    "duration": 453,
    "start_time": "2022-02-22T10:28:20.368Z"
   },
   {
    "duration": 515,
    "start_time": "2022-02-22T10:28:46.377Z"
   },
   {
    "duration": 6735,
    "start_time": "2022-02-22T10:34:48.364Z"
   },
   {
    "duration": 6962,
    "start_time": "2022-02-22T10:37:47.528Z"
   },
   {
    "duration": 8059,
    "start_time": "2022-02-22T10:37:58.565Z"
   },
   {
    "duration": 6,
    "start_time": "2022-02-22T10:39:36.340Z"
   },
   {
    "duration": 7,
    "start_time": "2022-02-22T11:30:21.004Z"
   },
   {
    "duration": 12,
    "start_time": "2022-02-22T11:32:38.527Z"
   },
   {
    "duration": 270,
    "start_time": "2022-02-22T11:36:26.159Z"
   },
   {
    "duration": 212,
    "start_time": "2022-02-22T11:36:29.263Z"
   },
   {
    "duration": 335,
    "start_time": "2022-02-22T11:37:03.826Z"
   },
   {
    "duration": 18,
    "start_time": "2022-02-22T11:37:37.505Z"
   },
   {
    "duration": 15,
    "start_time": "2022-02-22T11:41:48.224Z"
   },
   {
    "duration": 12,
    "start_time": "2022-02-22T11:43:53.592Z"
   },
   {
    "duration": 1600,
    "start_time": "2022-02-22T12:00:47.088Z"
   },
   {
    "duration": 692,
    "start_time": "2022-02-22T12:01:03.316Z"
   },
   {
    "duration": 8,
    "start_time": "2022-02-22T12:27:46.400Z"
   },
   {
    "duration": 852,
    "start_time": "2022-02-22T12:31:33.949Z"
   },
   {
    "duration": 622,
    "start_time": "2022-02-22T12:31:56.204Z"
   },
   {
    "duration": 293,
    "start_time": "2022-02-22T12:47:50.270Z"
   },
   {
    "duration": 28,
    "start_time": "2022-02-22T13:05:19.602Z"
   },
   {
    "duration": 27,
    "start_time": "2022-02-22T13:05:50.369Z"
   },
   {
    "duration": 25,
    "start_time": "2022-02-22T13:10:04.516Z"
   },
   {
    "duration": 386,
    "start_time": "2022-02-22T13:16:22.243Z"
   },
   {
    "duration": 1450,
    "start_time": "2022-02-22T13:17:28.829Z"
   },
   {
    "duration": 17,
    "start_time": "2022-02-22T13:17:30.282Z"
   },
   {
    "duration": 16,
    "start_time": "2022-02-22T13:17:30.303Z"
   },
   {
    "duration": 59,
    "start_time": "2022-02-22T13:17:30.327Z"
   },
   {
    "duration": 13,
    "start_time": "2022-02-22T13:17:30.389Z"
   },
   {
    "duration": 22,
    "start_time": "2022-02-22T13:17:30.404Z"
   },
   {
    "duration": 49,
    "start_time": "2022-02-22T13:17:30.429Z"
   },
   {
    "duration": 620,
    "start_time": "2022-02-22T13:17:30.485Z"
   },
   {
    "duration": 449,
    "start_time": "2022-02-22T13:17:31.109Z"
   },
   {
    "duration": 591,
    "start_time": "2022-02-22T13:17:31.562Z"
   },
   {
    "duration": 527,
    "start_time": "2022-02-22T13:17:32.156Z"
   },
   {
    "duration": 438,
    "start_time": "2022-02-22T13:17:32.686Z"
   },
   {
    "duration": 524,
    "start_time": "2022-02-22T13:17:33.127Z"
   },
   {
    "duration": 300,
    "start_time": "2022-02-22T13:17:33.655Z"
   },
   {
    "duration": 287,
    "start_time": "2022-02-22T13:17:33.957Z"
   },
   {
    "duration": 7,
    "start_time": "2022-02-22T13:17:34.246Z"
   },
   {
    "duration": 413,
    "start_time": "2022-02-22T13:17:34.255Z"
   },
   {
    "duration": 12,
    "start_time": "2022-02-22T13:17:34.670Z"
   },
   {
    "duration": 265,
    "start_time": "2022-02-22T13:17:34.685Z"
   },
   {
    "duration": 30,
    "start_time": "2022-02-22T13:17:34.952Z"
   },
   {
    "duration": 100,
    "start_time": "2022-02-22T13:17:34.984Z"
   },
   {
    "duration": 76,
    "start_time": "2022-02-22T13:18:09.559Z"
   },
   {
    "duration": 10,
    "start_time": "2022-02-22T13:26:21.979Z"
   },
   {
    "duration": 11,
    "start_time": "2022-02-22T13:26:48.649Z"
   },
   {
    "duration": 73,
    "start_time": "2022-02-22T13:27:10.395Z"
   },
   {
    "duration": 13,
    "start_time": "2022-02-22T13:29:05.231Z"
   },
   {
    "duration": 513,
    "start_time": "2022-02-22T13:33:27.568Z"
   },
   {
    "duration": 596,
    "start_time": "2022-02-22T13:33:47.163Z"
   },
   {
    "duration": 540,
    "start_time": "2022-02-22T13:34:03.221Z"
   },
   {
    "duration": 500,
    "start_time": "2022-02-22T13:35:30.822Z"
   },
   {
    "duration": 640,
    "start_time": "2022-02-22T13:35:43.998Z"
   },
   {
    "duration": 532,
    "start_time": "2022-02-22T13:35:58.810Z"
   },
   {
    "duration": 7210,
    "start_time": "2022-02-22T13:45:11.915Z"
   },
   {
    "duration": 6918,
    "start_time": "2022-02-22T13:46:39.517Z"
   },
   {
    "duration": 1468,
    "start_time": "2022-02-22T13:48:02.097Z"
   },
   {
    "duration": 15,
    "start_time": "2022-02-22T13:48:03.568Z"
   },
   {
    "duration": 13,
    "start_time": "2022-02-22T13:48:03.588Z"
   },
   {
    "duration": 75,
    "start_time": "2022-02-22T13:48:03.604Z"
   },
   {
    "duration": 13,
    "start_time": "2022-02-22T13:48:03.682Z"
   },
   {
    "duration": 18,
    "start_time": "2022-02-22T13:48:03.697Z"
   },
   {
    "duration": 32,
    "start_time": "2022-02-22T13:48:03.717Z"
   },
   {
    "duration": 614,
    "start_time": "2022-02-22T13:48:03.754Z"
   },
   {
    "duration": 545,
    "start_time": "2022-02-22T13:48:04.371Z"
   },
   {
    "duration": 541,
    "start_time": "2022-02-22T13:48:04.919Z"
   },
   {
    "duration": 555,
    "start_time": "2022-02-22T13:48:05.463Z"
   },
   {
    "duration": 504,
    "start_time": "2022-02-22T13:48:06.025Z"
   },
   {
    "duration": 533,
    "start_time": "2022-02-22T13:48:06.531Z"
   },
   {
    "duration": 199,
    "start_time": "2022-02-22T13:48:07.066Z"
   },
   {
    "duration": 302,
    "start_time": "2022-02-22T13:48:07.267Z"
   },
   {
    "duration": 5,
    "start_time": "2022-02-22T13:48:07.572Z"
   },
   {
    "duration": 488,
    "start_time": "2022-02-22T13:48:07.579Z"
   },
   {
    "duration": 12,
    "start_time": "2022-02-22T13:48:08.069Z"
   },
   {
    "duration": 272,
    "start_time": "2022-02-22T13:48:08.083Z"
   },
   {
    "duration": 30,
    "start_time": "2022-02-22T13:48:08.359Z"
   },
   {
    "duration": 98,
    "start_time": "2022-02-22T13:48:08.391Z"
   },
   {
    "duration": 12,
    "start_time": "2022-02-22T13:48:08.492Z"
   },
   {
    "duration": 9,
    "start_time": "2022-02-22T13:48:08.527Z"
   },
   {
    "duration": 6773,
    "start_time": "2022-02-22T13:48:08.539Z"
   },
   {
    "duration": 7238,
    "start_time": "2022-02-22T13:49:39.344Z"
   },
   {
    "duration": 6465,
    "start_time": "2022-02-22T13:51:16.347Z"
   },
   {
    "duration": 19,
    "start_time": "2022-02-22T13:51:51.917Z"
   },
   {
    "duration": 15,
    "start_time": "2022-02-22T13:55:26.939Z"
   },
   {
    "duration": 268,
    "start_time": "2022-02-22T13:55:57.442Z"
   },
   {
    "duration": 15,
    "start_time": "2022-02-22T13:56:32.855Z"
   },
   {
    "duration": 18,
    "start_time": "2022-02-22T13:57:24.554Z"
   },
   {
    "duration": 7409,
    "start_time": "2022-02-22T14:02:28.279Z"
   },
   {
    "duration": 29,
    "start_time": "2022-02-22T14:03:02.795Z"
   },
   {
    "duration": 77,
    "start_time": "2022-02-22T14:03:06.657Z"
   },
   {
    "duration": 74,
    "start_time": "2022-02-22T14:04:08.718Z"
   },
   {
    "duration": 7388,
    "start_time": "2022-02-22T14:10:26.319Z"
   },
   {
    "duration": 22,
    "start_time": "2022-02-22T14:11:36.758Z"
   },
   {
    "duration": 23,
    "start_time": "2022-02-22T14:13:00.329Z"
   },
   {
    "duration": 1485,
    "start_time": "2022-02-22T14:25:03.896Z"
   },
   {
    "duration": 17,
    "start_time": "2022-02-22T14:25:05.385Z"
   },
   {
    "duration": 37,
    "start_time": "2022-02-22T14:25:05.406Z"
   },
   {
    "duration": 45,
    "start_time": "2022-02-22T14:25:05.446Z"
   },
   {
    "duration": 13,
    "start_time": "2022-02-22T14:25:05.493Z"
   },
   {
    "duration": 21,
    "start_time": "2022-02-22T14:25:05.509Z"
   },
   {
    "duration": 42,
    "start_time": "2022-02-22T14:25:05.533Z"
   },
   {
    "duration": 583,
    "start_time": "2022-02-22T14:25:05.579Z"
   },
   {
    "duration": 429,
    "start_time": "2022-02-22T14:25:06.165Z"
   },
   {
    "duration": 712,
    "start_time": "2022-02-22T14:25:06.597Z"
   },
   {
    "duration": 690,
    "start_time": "2022-02-22T14:25:07.312Z"
   },
   {
    "duration": 521,
    "start_time": "2022-02-22T14:25:08.005Z"
   },
   {
    "duration": 513,
    "start_time": "2022-02-22T14:25:08.530Z"
   },
   {
    "duration": 218,
    "start_time": "2022-02-22T14:25:09.045Z"
   },
   {
    "duration": 288,
    "start_time": "2022-02-22T14:25:09.265Z"
   },
   {
    "duration": 6,
    "start_time": "2022-02-22T14:25:09.555Z"
   },
   {
    "duration": 540,
    "start_time": "2022-02-22T14:25:09.563Z"
   },
   {
    "duration": 20,
    "start_time": "2022-02-22T14:25:10.106Z"
   },
   {
    "duration": 392,
    "start_time": "2022-02-22T14:25:10.129Z"
   },
   {
    "duration": 30,
    "start_time": "2022-02-22T14:25:10.526Z"
   },
   {
    "duration": 125,
    "start_time": "2022-02-22T14:25:10.559Z"
   },
   {
    "duration": 10,
    "start_time": "2022-02-22T14:25:10.688Z"
   },
   {
    "duration": 28,
    "start_time": "2022-02-22T14:25:10.703Z"
   },
   {
    "duration": 16,
    "start_time": "2022-02-22T14:25:10.734Z"
   },
   {
    "duration": 41,
    "start_time": "2022-02-22T14:25:10.753Z"
   },
   {
    "duration": 94,
    "start_time": "2022-02-22T14:25:10.797Z"
   },
   {
    "duration": 43,
    "start_time": "2022-02-22T14:25:10.894Z"
   },
   {
    "duration": 71,
    "start_time": "2022-02-22T14:31:48.144Z"
   },
   {
    "duration": 5836,
    "start_time": "2022-02-22T14:33:14.432Z"
   },
   {
    "duration": 511,
    "start_time": "2022-02-22T14:34:38.429Z"
   },
   {
    "duration": 626,
    "start_time": "2022-02-22T14:35:01.615Z"
   },
   {
    "duration": 532,
    "start_time": "2022-02-22T14:35:27.306Z"
   },
   {
    "duration": 6468,
    "start_time": "2022-02-22T14:37:44.251Z"
   },
   {
    "duration": 2985,
    "start_time": "2022-02-22T15:22:13.599Z"
   },
   {
    "duration": 17,
    "start_time": "2022-02-22T15:22:16.587Z"
   },
   {
    "duration": 13,
    "start_time": "2022-02-22T15:22:16.607Z"
   },
   {
    "duration": 48,
    "start_time": "2022-02-22T15:22:16.624Z"
   },
   {
    "duration": 13,
    "start_time": "2022-02-22T15:22:16.675Z"
   },
   {
    "duration": 14,
    "start_time": "2022-02-22T15:22:16.691Z"
   },
   {
    "duration": 31,
    "start_time": "2022-02-22T15:22:16.707Z"
   },
   {
    "duration": 605,
    "start_time": "2022-02-22T15:22:16.742Z"
   },
   {
    "duration": 439,
    "start_time": "2022-02-22T15:22:17.350Z"
   },
   {
    "duration": 547,
    "start_time": "2022-02-22T15:22:17.792Z"
   },
   {
    "duration": 512,
    "start_time": "2022-02-22T15:22:18.342Z"
   },
   {
    "duration": 511,
    "start_time": "2022-02-22T15:22:18.858Z"
   },
   {
    "duration": 771,
    "start_time": "2022-02-22T15:22:19.372Z"
   },
   {
    "duration": 352,
    "start_time": "2022-02-22T15:22:20.147Z"
   },
   {
    "duration": 289,
    "start_time": "2022-02-22T15:22:20.501Z"
   },
   {
    "duration": 6,
    "start_time": "2022-02-22T15:22:20.793Z"
   },
   {
    "duration": 467,
    "start_time": "2022-02-22T15:22:20.802Z"
   },
   {
    "duration": 12,
    "start_time": "2022-02-22T15:22:21.271Z"
   },
   {
    "duration": 233,
    "start_time": "2022-02-22T15:22:21.286Z"
   },
   {
    "duration": 32,
    "start_time": "2022-02-22T15:22:21.527Z"
   },
   {
    "duration": 97,
    "start_time": "2022-02-22T15:22:21.562Z"
   },
   {
    "duration": 12,
    "start_time": "2022-02-22T15:22:21.662Z"
   },
   {
    "duration": 9,
    "start_time": "2022-02-22T15:22:21.679Z"
   },
   {
    "duration": 48,
    "start_time": "2022-02-22T15:22:21.691Z"
   },
   {
    "duration": 36,
    "start_time": "2022-02-22T15:22:21.741Z"
   },
   {
    "duration": 102,
    "start_time": "2022-02-22T15:22:21.780Z"
   },
   {
    "duration": 23,
    "start_time": "2022-02-22T15:22:21.885Z"
   },
   {
    "duration": 1284,
    "start_time": "2022-02-22T18:13:05.341Z"
   },
   {
    "duration": 9,
    "start_time": "2022-02-22T18:13:06.627Z"
   },
   {
    "duration": 10,
    "start_time": "2022-02-22T18:13:06.638Z"
   },
   {
    "duration": 56,
    "start_time": "2022-02-22T18:13:06.650Z"
   },
   {
    "duration": 8,
    "start_time": "2022-02-22T18:13:06.708Z"
   },
   {
    "duration": 12,
    "start_time": "2022-02-22T18:13:06.718Z"
   },
   {
    "duration": 22,
    "start_time": "2022-02-22T18:13:06.732Z"
   },
   {
    "duration": 373,
    "start_time": "2022-02-22T18:13:06.757Z"
   },
   {
    "duration": 251,
    "start_time": "2022-02-22T18:13:07.132Z"
   },
   {
    "duration": 347,
    "start_time": "2022-02-22T18:13:07.385Z"
   },
   {
    "duration": 379,
    "start_time": "2022-02-22T18:13:07.734Z"
   },
   {
    "duration": 376,
    "start_time": "2022-02-22T18:13:08.115Z"
   },
   {
    "duration": 369,
    "start_time": "2022-02-22T18:13:08.493Z"
   },
   {
    "duration": 136,
    "start_time": "2022-02-22T18:13:08.864Z"
   },
   {
    "duration": 176,
    "start_time": "2022-02-22T18:13:09.002Z"
   },
   {
    "duration": 5,
    "start_time": "2022-02-22T18:13:09.180Z"
   },
   {
    "duration": 295,
    "start_time": "2022-02-22T18:13:09.187Z"
   },
   {
    "duration": 10,
    "start_time": "2022-02-22T18:13:09.484Z"
   },
   {
    "duration": 134,
    "start_time": "2022-02-22T18:13:09.496Z"
   },
   {
    "duration": 21,
    "start_time": "2022-02-22T18:13:09.632Z"
   },
   {
    "duration": 81,
    "start_time": "2022-02-22T18:13:09.655Z"
   },
   {
    "duration": 8,
    "start_time": "2022-02-22T18:13:09.737Z"
   },
   {
    "duration": 12,
    "start_time": "2022-02-22T18:13:09.748Z"
   },
   {
    "duration": 15,
    "start_time": "2022-02-22T18:13:09.762Z"
   },
   {
    "duration": 26,
    "start_time": "2022-02-22T18:13:09.779Z"
   },
   {
    "duration": 80,
    "start_time": "2022-02-22T18:13:09.807Z"
   },
   {
    "duration": 15,
    "start_time": "2022-02-22T18:13:09.889Z"
   },
   {
    "duration": 5,
    "start_time": "2022-02-22T18:19:08.529Z"
   },
   {
    "duration": 1443,
    "start_time": "2022-02-23T07:28:37.235Z"
   },
   {
    "duration": 16,
    "start_time": "2022-02-23T07:28:46.608Z"
   },
   {
    "duration": 13,
    "start_time": "2022-02-23T07:29:13.651Z"
   },
   {
    "duration": 12,
    "start_time": "2022-02-23T07:29:24.271Z"
   },
   {
    "duration": 11516,
    "start_time": "2022-02-23T07:54:34.122Z"
   },
   {
    "duration": 22,
    "start_time": "2022-02-23T07:55:02.069Z"
   },
   {
    "duration": 22,
    "start_time": "2022-02-23T07:55:36.881Z"
   },
   {
    "duration": 9636,
    "start_time": "2022-02-23T07:56:24.003Z"
   },
   {
    "duration": 355,
    "start_time": "2022-02-23T07:57:37.844Z"
   },
   {
    "duration": 1113,
    "start_time": "2022-02-23T07:57:45.500Z"
   },
   {
    "duration": 1084,
    "start_time": "2022-02-23T08:02:07.844Z"
   },
   {
    "duration": 346,
    "start_time": "2022-02-23T08:04:21.819Z"
   },
   {
    "duration": 817,
    "start_time": "2022-02-23T08:05:41.970Z"
   },
   {
    "duration": 1349,
    "start_time": "2022-02-23T08:06:27.548Z"
   },
   {
    "duration": 312,
    "start_time": "2022-02-23T08:09:50.568Z"
   },
   {
    "duration": 115,
    "start_time": "2022-02-23T08:09:59.027Z"
   },
   {
    "duration": 404,
    "start_time": "2022-02-23T08:10:39.151Z"
   },
   {
    "duration": 1388,
    "start_time": "2022-02-23T08:11:21.305Z"
   },
   {
    "duration": 16,
    "start_time": "2022-02-23T08:11:22.696Z"
   },
   {
    "duration": 15,
    "start_time": "2022-02-23T08:11:22.716Z"
   },
   {
    "duration": 12,
    "start_time": "2022-02-23T08:11:22.734Z"
   },
   {
    "duration": 14,
    "start_time": "2022-02-23T08:11:22.749Z"
   },
   {
    "duration": 5,
    "start_time": "2022-02-23T08:12:38.947Z"
   },
   {
    "duration": 14,
    "start_time": "2022-02-23T08:12:55.080Z"
   },
   {
    "duration": 16,
    "start_time": "2022-02-23T08:13:55.848Z"
   },
   {
    "duration": 407,
    "start_time": "2022-02-23T08:14:11.643Z"
   },
   {
    "duration": 1480,
    "start_time": "2022-02-23T08:14:18.421Z"
   },
   {
    "duration": 14,
    "start_time": "2022-02-23T08:14:19.904Z"
   },
   {
    "duration": 14,
    "start_time": "2022-02-23T08:14:19.921Z"
   },
   {
    "duration": 12,
    "start_time": "2022-02-23T08:14:19.938Z"
   },
   {
    "duration": 15,
    "start_time": "2022-02-23T08:14:19.953Z"
   },
   {
    "duration": 15,
    "start_time": "2022-02-23T08:15:12.335Z"
   },
   {
    "duration": 22,
    "start_time": "2022-02-23T08:15:38.561Z"
   },
   {
    "duration": 20,
    "start_time": "2022-02-23T08:15:51.633Z"
   },
   {
    "duration": 17,
    "start_time": "2022-02-23T08:16:06.480Z"
   },
   {
    "duration": 17,
    "start_time": "2022-02-23T08:16:15.569Z"
   },
   {
    "duration": 21,
    "start_time": "2022-02-23T08:16:25.327Z"
   },
   {
    "duration": 25,
    "start_time": "2022-02-23T08:16:31.790Z"
   },
   {
    "duration": 1349,
    "start_time": "2022-02-23T08:17:48.460Z"
   },
   {
    "duration": 16,
    "start_time": "2022-02-23T08:18:07.334Z"
   },
   {
    "duration": 24,
    "start_time": "2022-02-23T08:18:25.878Z"
   },
   {
    "duration": 18,
    "start_time": "2022-02-23T08:18:32.939Z"
   },
   {
    "duration": 17,
    "start_time": "2022-02-23T08:18:39.972Z"
   },
   {
    "duration": 14,
    "start_time": "2022-02-23T08:18:52.260Z"
   },
   {
    "duration": 17,
    "start_time": "2022-02-23T08:22:01.975Z"
   },
   {
    "duration": 529,
    "start_time": "2022-02-23T08:22:47.922Z"
   },
   {
    "duration": 640,
    "start_time": "2022-02-23T08:23:27.269Z"
   },
   {
    "duration": 553,
    "start_time": "2022-02-23T08:23:51.393Z"
   },
   {
    "duration": 515,
    "start_time": "2022-02-23T08:24:46.372Z"
   },
   {
    "duration": 642,
    "start_time": "2022-02-23T08:25:42.036Z"
   },
   {
    "duration": 15,
    "start_time": "2022-02-23T08:26:41.348Z"
   },
   {
    "duration": 19,
    "start_time": "2022-02-23T08:27:42.286Z"
   },
   {
    "duration": 19,
    "start_time": "2022-02-23T08:28:09.586Z"
   },
   {
    "duration": 120,
    "start_time": "2022-02-23T08:30:20.001Z"
   },
   {
    "duration": 202,
    "start_time": "2022-02-23T08:30:49.556Z"
   },
   {
    "duration": 21,
    "start_time": "2022-02-23T08:31:12.510Z"
   },
   {
    "duration": 1044,
    "start_time": "2022-02-23T08:31:55.670Z"
   },
   {
    "duration": 116,
    "start_time": "2022-02-23T08:32:52.503Z"
   },
   {
    "duration": 364,
    "start_time": "2022-02-23T08:33:13.036Z"
   },
   {
    "duration": 1144,
    "start_time": "2022-02-23T08:33:41.441Z"
   },
   {
    "duration": 1078,
    "start_time": "2022-02-23T08:34:13.054Z"
   },
   {
    "duration": 20,
    "start_time": "2022-02-23T08:34:20.155Z"
   },
   {
    "duration": 19,
    "start_time": "2022-02-23T08:35:30.331Z"
   },
   {
    "duration": 17,
    "start_time": "2022-02-23T08:38:36.285Z"
   },
   {
    "duration": 22,
    "start_time": "2022-02-23T08:40:18.601Z"
   },
   {
    "duration": 424,
    "start_time": "2022-02-23T08:50:39.108Z"
   },
   {
    "duration": 28,
    "start_time": "2022-02-23T08:50:51.238Z"
   },
   {
    "duration": 1494,
    "start_time": "2022-02-23T08:51:22.009Z"
   },
   {
    "duration": 17,
    "start_time": "2022-02-23T08:51:23.506Z"
   },
   {
    "duration": 24,
    "start_time": "2022-02-23T08:51:23.527Z"
   },
   {
    "duration": 20,
    "start_time": "2022-02-23T08:51:23.554Z"
   },
   {
    "duration": 781,
    "start_time": "2022-02-23T08:51:27.727Z"
   },
   {
    "duration": 33,
    "start_time": "2022-02-23T08:51:52.940Z"
   },
   {
    "duration": 34,
    "start_time": "2022-02-23T08:53:07.197Z"
   },
   {
    "duration": 531,
    "start_time": "2022-02-23T08:53:26.872Z"
   },
   {
    "duration": 25,
    "start_time": "2022-02-23T08:54:28.339Z"
   },
   {
    "duration": 23,
    "start_time": "2022-02-23T08:54:53.821Z"
   },
   {
    "duration": 169,
    "start_time": "2022-02-23T08:59:09.926Z"
   },
   {
    "duration": 29,
    "start_time": "2022-02-23T08:59:22.685Z"
   },
   {
    "duration": 397,
    "start_time": "2022-02-23T08:59:46.397Z"
   },
   {
    "duration": 1560,
    "start_time": "2022-02-23T09:00:14.904Z"
   },
   {
    "duration": 11,
    "start_time": "2022-02-23T09:00:16.467Z"
   },
   {
    "duration": 22,
    "start_time": "2022-02-23T09:00:16.480Z"
   },
   {
    "duration": 29,
    "start_time": "2022-02-23T09:00:16.505Z"
   },
   {
    "duration": 20,
    "start_time": "2022-02-23T09:02:07.405Z"
   },
   {
    "duration": 17,
    "start_time": "2022-02-23T09:02:16.005Z"
   },
   {
    "duration": 130,
    "start_time": "2022-02-23T09:03:13.293Z"
   },
   {
    "duration": 660,
    "start_time": "2022-02-23T09:03:22.717Z"
   },
   {
    "duration": 810,
    "start_time": "2022-02-23T09:03:51.506Z"
   },
   {
    "duration": 62,
    "start_time": "2022-02-23T09:04:02.930Z"
   },
   {
    "duration": 31,
    "start_time": "2022-02-23T09:04:23.565Z"
   },
   {
    "duration": 33,
    "start_time": "2022-02-23T09:04:29.525Z"
   },
   {
    "duration": 32,
    "start_time": "2022-02-23T09:04:35.933Z"
   },
   {
    "duration": 1546,
    "start_time": "2022-02-23T09:04:57.792Z"
   },
   {
    "duration": 12,
    "start_time": "2022-02-23T09:04:59.340Z"
   },
   {
    "duration": 17,
    "start_time": "2022-02-23T09:04:59.355Z"
   },
   {
    "duration": 35,
    "start_time": "2022-02-23T09:04:59.375Z"
   },
   {
    "duration": 770,
    "start_time": "2022-02-23T09:05:47.173Z"
   },
   {
    "duration": 769,
    "start_time": "2022-02-23T09:06:15.944Z"
   },
   {
    "duration": 368,
    "start_time": "2022-02-23T09:06:32.024Z"
   },
   {
    "duration": 400,
    "start_time": "2022-02-23T09:06:47.108Z"
   },
   {
    "duration": 32,
    "start_time": "2022-02-23T09:07:00.058Z"
   },
   {
    "duration": 34,
    "start_time": "2022-02-23T09:07:09.097Z"
   },
   {
    "duration": 29,
    "start_time": "2022-02-23T09:07:23.289Z"
   },
   {
    "duration": 30,
    "start_time": "2022-02-23T09:07:59.664Z"
   },
   {
    "duration": 26,
    "start_time": "2022-02-23T09:09:29.743Z"
   },
   {
    "duration": 24,
    "start_time": "2022-02-23T09:12:12.546Z"
   },
   {
    "duration": 25,
    "start_time": "2022-02-23T09:12:22.849Z"
   },
   {
    "duration": 24,
    "start_time": "2022-02-23T09:12:42.447Z"
   },
   {
    "duration": 24,
    "start_time": "2022-02-23T09:13:03.651Z"
   },
   {
    "duration": 130,
    "start_time": "2022-02-23T09:13:30.971Z"
   },
   {
    "duration": 15,
    "start_time": "2022-02-23T09:13:36.676Z"
   },
   {
    "duration": 14,
    "start_time": "2022-02-23T09:13:40.730Z"
   },
   {
    "duration": 39,
    "start_time": "2022-02-23T09:13:45.341Z"
   },
   {
    "duration": 31,
    "start_time": "2022-02-23T09:14:14.229Z"
   },
   {
    "duration": 23,
    "start_time": "2022-02-23T09:14:25.376Z"
   },
   {
    "duration": 115,
    "start_time": "2022-02-23T09:14:50.353Z"
   },
   {
    "duration": 123,
    "start_time": "2022-02-23T09:14:55.979Z"
   },
   {
    "duration": 1798,
    "start_time": "2022-02-23T09:15:10.095Z"
   },
   {
    "duration": 27,
    "start_time": "2022-02-23T09:16:59.377Z"
   },
   {
    "duration": 31,
    "start_time": "2022-02-23T09:17:39.724Z"
   },
   {
    "duration": 36,
    "start_time": "2022-02-23T09:17:54.431Z"
   },
   {
    "duration": 32,
    "start_time": "2022-02-23T09:18:30.523Z"
   },
   {
    "duration": 1811,
    "start_time": "2022-02-23T09:20:15.989Z"
   },
   {
    "duration": 13,
    "start_time": "2022-02-23T09:20:17.802Z"
   },
   {
    "duration": 32,
    "start_time": "2022-02-23T09:20:17.820Z"
   },
   {
    "duration": 16,
    "start_time": "2022-02-23T09:20:17.855Z"
   },
   {
    "duration": 2443,
    "start_time": "2022-02-23T09:20:17.875Z"
   },
   {
    "duration": 63,
    "start_time": "2022-02-23T09:20:20.321Z"
   },
   {
    "duration": 14,
    "start_time": "2022-02-23T09:20:20.387Z"
   },
   {
    "duration": 16,
    "start_time": "2022-02-23T09:20:20.403Z"
   },
   {
    "duration": 42,
    "start_time": "2022-02-23T09:20:20.424Z"
   },
   {
    "duration": 782,
    "start_time": "2022-02-23T09:20:20.471Z"
   },
   {
    "duration": 450,
    "start_time": "2022-02-23T09:20:21.256Z"
   },
   {
    "duration": 601,
    "start_time": "2022-02-23T09:20:21.713Z"
   },
   {
    "duration": 566,
    "start_time": "2022-02-23T09:20:22.318Z"
   },
   {
    "duration": 639,
    "start_time": "2022-02-23T09:20:22.887Z"
   },
   {
    "duration": 534,
    "start_time": "2022-02-23T09:20:23.529Z"
   },
   {
    "duration": 226,
    "start_time": "2022-02-23T09:20:24.065Z"
   },
   {
    "duration": 443,
    "start_time": "2022-02-23T09:20:24.294Z"
   },
   {
    "duration": 6,
    "start_time": "2022-02-23T09:20:24.739Z"
   },
   {
    "duration": 442,
    "start_time": "2022-02-23T09:20:24.748Z"
   },
   {
    "duration": 26,
    "start_time": "2022-02-23T09:20:25.192Z"
   },
   {
    "duration": 249,
    "start_time": "2022-02-23T09:20:25.222Z"
   },
   {
    "duration": 40,
    "start_time": "2022-02-23T09:20:25.474Z"
   },
   {
    "duration": 74,
    "start_time": "2022-02-23T09:20:25.518Z"
   },
   {
    "duration": 18,
    "start_time": "2022-02-23T09:20:25.611Z"
   },
   {
    "duration": 9,
    "start_time": "2022-02-23T09:20:25.632Z"
   },
   {
    "duration": 14,
    "start_time": "2022-02-23T09:20:25.643Z"
   },
   {
    "duration": 67,
    "start_time": "2022-02-23T09:20:25.662Z"
   },
   {
    "duration": 80,
    "start_time": "2022-02-23T09:20:25.732Z"
   },
   {
    "duration": 23,
    "start_time": "2022-02-23T09:20:25.814Z"
   },
   {
    "duration": 9,
    "start_time": "2022-02-23T09:23:28.532Z"
   },
   {
    "duration": 14,
    "start_time": "2022-02-23T09:23:42.259Z"
   },
   {
    "duration": 138,
    "start_time": "2022-02-23T09:28:12.408Z"
   },
   {
    "duration": 12,
    "start_time": "2022-02-23T09:28:17.032Z"
   },
   {
    "duration": 11,
    "start_time": "2022-02-23T09:28:50.101Z"
   },
   {
    "duration": 10,
    "start_time": "2022-02-23T09:36:17.374Z"
   },
   {
    "duration": 10,
    "start_time": "2022-02-23T09:36:28.926Z"
   },
   {
    "duration": 10,
    "start_time": "2022-02-23T09:43:26.622Z"
   },
   {
    "duration": 119,
    "start_time": "2022-02-23T09:44:19.402Z"
   },
   {
    "duration": 9,
    "start_time": "2022-02-23T09:44:25.934Z"
   },
   {
    "duration": 393,
    "start_time": "2022-02-23T09:55:25.607Z"
   },
   {
    "duration": 426,
    "start_time": "2022-02-23T10:00:54.104Z"
   },
   {
    "duration": 532,
    "start_time": "2022-02-23T10:01:58.294Z"
   },
   {
    "duration": 505,
    "start_time": "2022-02-23T10:02:16.108Z"
   },
   {
    "duration": 642,
    "start_time": "2022-02-23T10:02:50.473Z"
   },
   {
    "duration": 502,
    "start_time": "2022-02-23T10:03:30.130Z"
   },
   {
    "duration": 562,
    "start_time": "2022-02-23T10:04:30.298Z"
   },
   {
    "duration": 622,
    "start_time": "2022-02-23T10:05:11.975Z"
   },
   {
    "duration": 526,
    "start_time": "2022-02-23T10:07:12.291Z"
   },
   {
    "duration": 273,
    "start_time": "2022-02-23T10:12:34.658Z"
   },
   {
    "duration": 483,
    "start_time": "2022-02-23T10:17:37.450Z"
   },
   {
    "duration": 529,
    "start_time": "2022-02-23T10:21:21.190Z"
   },
   {
    "duration": 364,
    "start_time": "2022-02-23T10:21:46.250Z"
   },
   {
    "duration": 444,
    "start_time": "2022-02-23T10:22:43.336Z"
   },
   {
    "duration": 444,
    "start_time": "2022-02-23T10:23:02.455Z"
   },
   {
    "duration": 535,
    "start_time": "2022-02-23T10:29:45.611Z"
   },
   {
    "duration": 496,
    "start_time": "2022-02-23T10:30:00.087Z"
   },
   {
    "duration": 531,
    "start_time": "2022-02-23T10:33:45.739Z"
   },
   {
    "duration": 599,
    "start_time": "2022-02-23T10:33:55.602Z"
   },
   {
    "duration": 28,
    "start_time": "2022-02-23T10:40:25.561Z"
   },
   {
    "duration": 14,
    "start_time": "2022-02-23T10:40:51.994Z"
   },
   {
    "duration": 15,
    "start_time": "2022-02-23T10:41:02.826Z"
   },
   {
    "duration": 140,
    "start_time": "2022-02-23T10:41:21.232Z"
   },
   {
    "duration": 13,
    "start_time": "2022-02-23T10:41:26.188Z"
   },
   {
    "duration": 1605,
    "start_time": "2022-02-23T10:46:33.499Z"
   },
   {
    "duration": 13,
    "start_time": "2022-02-23T10:46:35.107Z"
   },
   {
    "duration": 26,
    "start_time": "2022-02-23T10:46:35.124Z"
   },
   {
    "duration": 16,
    "start_time": "2022-02-23T10:46:35.153Z"
   },
   {
    "duration": 861,
    "start_time": "2022-02-23T10:46:35.171Z"
   },
   {
    "duration": 65,
    "start_time": "2022-02-23T10:46:36.036Z"
   },
   {
    "duration": 24,
    "start_time": "2022-02-23T10:46:36.103Z"
   },
   {
    "duration": 12,
    "start_time": "2022-02-23T10:46:36.132Z"
   },
   {
    "duration": 31,
    "start_time": "2022-02-23T10:46:36.147Z"
   },
   {
    "duration": 40,
    "start_time": "2022-02-23T10:46:36.180Z"
   },
   {
    "duration": 15,
    "start_time": "2022-02-23T10:46:36.223Z"
   },
   {
    "duration": 602,
    "start_time": "2022-02-23T10:46:36.241Z"
   },
   {
    "duration": 555,
    "start_time": "2022-02-23T10:46:36.846Z"
   },
   {
    "duration": 530,
    "start_time": "2022-02-23T10:46:37.419Z"
   },
   {
    "duration": 514,
    "start_time": "2022-02-23T10:46:37.952Z"
   },
   {
    "duration": 609,
    "start_time": "2022-02-23T10:46:38.468Z"
   },
   {
    "duration": 527,
    "start_time": "2022-02-23T10:46:39.079Z"
   },
   {
    "duration": 238,
    "start_time": "2022-02-23T10:46:39.609Z"
   },
   {
    "duration": 298,
    "start_time": "2022-02-23T10:46:39.850Z"
   },
   {
    "duration": 6,
    "start_time": "2022-02-23T10:46:40.151Z"
   },
   {
    "duration": 490,
    "start_time": "2022-02-23T10:46:40.160Z"
   },
   {
    "duration": 13,
    "start_time": "2022-02-23T10:46:40.653Z"
   },
   {
    "duration": 247,
    "start_time": "2022-02-23T10:46:40.670Z"
   },
   {
    "duration": 13,
    "start_time": "2022-02-23T10:46:40.921Z"
   },
   {
    "duration": 10,
    "start_time": "2022-02-23T10:46:40.936Z"
   },
   {
    "duration": 12,
    "start_time": "2022-02-23T10:46:40.948Z"
   },
   {
    "duration": 9,
    "start_time": "2022-02-23T10:46:40.963Z"
   },
   {
    "duration": 56,
    "start_time": "2022-02-23T10:46:40.975Z"
   },
   {
    "duration": 16,
    "start_time": "2022-02-23T10:46:41.034Z"
   },
   {
    "duration": 8,
    "start_time": "2022-02-23T10:46:41.052Z"
   },
   {
    "duration": 61,
    "start_time": "2022-02-23T10:46:41.063Z"
   },
   {
    "duration": 14,
    "start_time": "2022-02-23T10:47:05.160Z"
   },
   {
    "duration": 18,
    "start_time": "2022-02-23T10:48:01.506Z"
   },
   {
    "duration": 343,
    "start_time": "2022-02-23T16:18:11.109Z"
   },
   {
    "duration": 370,
    "start_time": "2022-02-23T16:18:20.307Z"
   },
   {
    "duration": 1150,
    "start_time": "2022-02-23T16:18:35.219Z"
   },
   {
    "duration": 7,
    "start_time": "2022-02-23T16:18:36.371Z"
   },
   {
    "duration": 21,
    "start_time": "2022-02-23T16:18:36.380Z"
   },
   {
    "duration": 19,
    "start_time": "2022-02-23T16:18:36.402Z"
   },
   {
    "duration": 505,
    "start_time": "2022-02-23T16:18:36.423Z"
   },
   {
    "duration": 75,
    "start_time": "2022-02-23T16:18:36.930Z"
   },
   {
    "duration": 9,
    "start_time": "2022-02-23T16:18:37.007Z"
   },
   {
    "duration": 9,
    "start_time": "2022-02-23T16:18:37.019Z"
   },
   {
    "duration": 17,
    "start_time": "2022-02-23T16:18:37.030Z"
   },
   {
    "duration": 6,
    "start_time": "2022-02-23T16:18:37.048Z"
   },
   {
    "duration": 6,
    "start_time": "2022-02-23T16:18:37.056Z"
   },
   {
    "duration": 343,
    "start_time": "2022-02-23T16:18:37.064Z"
   },
   {
    "duration": 304,
    "start_time": "2022-02-23T16:18:37.409Z"
   },
   {
    "duration": 407,
    "start_time": "2022-02-23T16:18:37.715Z"
   },
   {
    "duration": 351,
    "start_time": "2022-02-23T16:18:38.124Z"
   },
   {
    "duration": 407,
    "start_time": "2022-02-23T16:18:38.477Z"
   },
   {
    "duration": 330,
    "start_time": "2022-02-23T16:18:38.885Z"
   },
   {
    "duration": 134,
    "start_time": "2022-02-23T16:18:39.217Z"
   },
   {
    "duration": 163,
    "start_time": "2022-02-23T16:18:39.353Z"
   },
   {
    "duration": 3,
    "start_time": "2022-02-23T16:18:39.518Z"
   },
   {
    "duration": 324,
    "start_time": "2022-02-23T16:18:39.522Z"
   },
   {
    "duration": 8,
    "start_time": "2022-02-23T16:18:39.848Z"
   },
   {
    "duration": 136,
    "start_time": "2022-02-23T16:18:39.859Z"
   },
   {
    "duration": 9,
    "start_time": "2022-02-23T16:18:39.997Z"
   },
   {
    "duration": 5,
    "start_time": "2022-02-23T16:21:03.503Z"
   },
   {
    "duration": 6,
    "start_time": "2022-02-23T16:24:18.689Z"
   },
   {
    "duration": 424,
    "start_time": "2022-02-23T16:25:04.870Z"
   },
   {
    "duration": 305,
    "start_time": "2022-02-23T16:25:16.325Z"
   },
   {
    "duration": 6,
    "start_time": "2022-02-23T16:25:23.896Z"
   },
   {
    "duration": 5,
    "start_time": "2022-02-23T16:25:42.772Z"
   },
   {
    "duration": 7,
    "start_time": "2022-02-23T16:34:05.576Z"
   },
   {
    "duration": 6,
    "start_time": "2022-02-23T16:35:48.339Z"
   },
   {
    "duration": 335,
    "start_time": "2022-02-23T16:36:49.053Z"
   },
   {
    "duration": 1143,
    "start_time": "2022-02-23T16:40:45.046Z"
   },
   {
    "duration": 7,
    "start_time": "2022-02-23T16:40:46.191Z"
   },
   {
    "duration": 13,
    "start_time": "2022-02-23T16:40:46.200Z"
   },
   {
    "duration": 9,
    "start_time": "2022-02-23T16:40:46.215Z"
   },
   {
    "duration": 579,
    "start_time": "2022-02-23T16:40:46.226Z"
   },
   {
    "duration": 50,
    "start_time": "2022-02-23T16:40:46.807Z"
   },
   {
    "duration": 8,
    "start_time": "2022-02-23T16:40:46.858Z"
   },
   {
    "duration": 9,
    "start_time": "2022-02-23T16:40:46.868Z"
   },
   {
    "duration": 17,
    "start_time": "2022-02-23T16:40:46.879Z"
   },
   {
    "duration": 7,
    "start_time": "2022-02-23T16:40:46.898Z"
   },
   {
    "duration": 7,
    "start_time": "2022-02-23T16:40:46.906Z"
   },
   {
    "duration": 322,
    "start_time": "2022-02-23T16:40:46.914Z"
   },
   {
    "duration": 281,
    "start_time": "2022-02-23T16:40:47.237Z"
   },
   {
    "duration": 400,
    "start_time": "2022-02-23T16:40:47.520Z"
   },
   {
    "duration": 373,
    "start_time": "2022-02-23T16:40:47.922Z"
   },
   {
    "duration": 408,
    "start_time": "2022-02-23T16:40:48.297Z"
   },
   {
    "duration": 377,
    "start_time": "2022-02-23T16:40:48.707Z"
   },
   {
    "duration": 109,
    "start_time": "2022-02-23T16:40:49.085Z"
   },
   {
    "duration": 161,
    "start_time": "2022-02-23T16:40:49.196Z"
   },
   {
    "duration": 3,
    "start_time": "2022-02-23T16:40:49.359Z"
   },
   {
    "duration": 290,
    "start_time": "2022-02-23T16:40:49.364Z"
   },
   {
    "duration": 9,
    "start_time": "2022-02-23T16:40:49.656Z"
   },
   {
    "duration": 120,
    "start_time": "2022-02-23T16:40:49.667Z"
   },
   {
    "duration": 7,
    "start_time": "2022-02-23T16:40:49.788Z"
   },
   {
    "duration": 9,
    "start_time": "2022-02-23T16:40:49.797Z"
   },
   {
    "duration": 28,
    "start_time": "2022-02-23T16:40:49.807Z"
   },
   {
    "duration": 6,
    "start_time": "2022-02-23T16:40:49.839Z"
   },
   {
    "duration": 9,
    "start_time": "2022-02-23T16:40:49.847Z"
   },
   {
    "duration": 10,
    "start_time": "2022-02-23T16:40:49.858Z"
   },
   {
    "duration": 6,
    "start_time": "2022-02-23T16:40:49.870Z"
   },
   {
    "duration": 16,
    "start_time": "2022-02-23T16:40:49.877Z"
   },
   {
    "duration": 7,
    "start_time": "2022-02-23T16:42:53.291Z"
   },
   {
    "duration": 9,
    "start_time": "2022-02-23T16:42:57.559Z"
   },
   {
    "duration": 96,
    "start_time": "2022-02-23T16:50:05.072Z"
   },
   {
    "duration": 8,
    "start_time": "2022-02-23T16:50:26.390Z"
   },
   {
    "duration": 4,
    "start_time": "2022-02-23T16:51:18.910Z"
   },
   {
    "duration": 109,
    "start_time": "2022-02-23T16:54:02.417Z"
   },
   {
    "duration": 14,
    "start_time": "2022-02-23T16:54:28.224Z"
   },
   {
    "duration": 14,
    "start_time": "2022-02-23T16:54:57.756Z"
   },
   {
    "duration": 1105,
    "start_time": "2022-02-23T16:55:11.259Z"
   },
   {
    "duration": 7,
    "start_time": "2022-02-23T16:55:12.366Z"
   },
   {
    "duration": 12,
    "start_time": "2022-02-23T16:55:12.375Z"
   },
   {
    "duration": 9,
    "start_time": "2022-02-23T16:55:12.388Z"
   },
   {
    "duration": 460,
    "start_time": "2022-02-23T16:55:12.398Z"
   },
   {
    "duration": 82,
    "start_time": "2022-02-23T16:55:12.860Z"
   },
   {
    "duration": 9,
    "start_time": "2022-02-23T16:55:12.943Z"
   },
   {
    "duration": 9,
    "start_time": "2022-02-23T16:55:12.954Z"
   },
   {
    "duration": 17,
    "start_time": "2022-02-23T16:55:12.965Z"
   },
   {
    "duration": 8,
    "start_time": "2022-02-23T16:55:12.984Z"
   },
   {
    "duration": 7,
    "start_time": "2022-02-23T16:55:12.994Z"
   },
   {
    "duration": 369,
    "start_time": "2022-02-23T16:55:13.002Z"
   },
   {
    "duration": 308,
    "start_time": "2022-02-23T16:55:13.373Z"
   },
   {
    "duration": 407,
    "start_time": "2022-02-23T16:55:13.683Z"
   },
   {
    "duration": 353,
    "start_time": "2022-02-23T16:55:14.092Z"
   },
   {
    "duration": 437,
    "start_time": "2022-02-23T16:55:14.447Z"
   },
   {
    "duration": 341,
    "start_time": "2022-02-23T16:55:14.885Z"
   },
   {
    "duration": 119,
    "start_time": "2022-02-23T16:55:15.228Z"
   },
   {
    "duration": 162,
    "start_time": "2022-02-23T16:55:15.348Z"
   },
   {
    "duration": 4,
    "start_time": "2022-02-23T16:55:15.512Z"
   },
   {
    "duration": 327,
    "start_time": "2022-02-23T16:55:15.517Z"
   },
   {
    "duration": 7,
    "start_time": "2022-02-23T16:55:15.845Z"
   },
   {
    "duration": 108,
    "start_time": "2022-02-23T16:55:15.854Z"
   },
   {
    "duration": 8,
    "start_time": "2022-02-23T16:55:15.964Z"
   },
   {
    "duration": 9,
    "start_time": "2022-02-23T16:55:15.974Z"
   },
   {
    "duration": 5,
    "start_time": "2022-02-23T16:55:15.985Z"
   },
   {
    "duration": 8,
    "start_time": "2022-02-23T16:55:15.992Z"
   },
   {
    "duration": 39,
    "start_time": "2022-02-23T16:55:16.002Z"
   },
   {
    "duration": 12,
    "start_time": "2022-02-23T16:55:16.043Z"
   },
   {
    "duration": 12,
    "start_time": "2022-02-23T16:55:16.057Z"
   },
   {
    "duration": 7,
    "start_time": "2022-02-23T16:55:16.070Z"
   },
   {
    "duration": 15,
    "start_time": "2022-02-23T16:55:16.079Z"
   },
   {
    "duration": 294,
    "start_time": "2022-02-23T17:06:14.711Z"
   },
   {
    "duration": 1684,
    "start_time": "2022-02-23T18:57:20.175Z"
   },
   {
    "duration": 14,
    "start_time": "2022-02-23T18:57:21.865Z"
   },
   {
    "duration": 24,
    "start_time": "2022-02-23T18:57:21.882Z"
   },
   {
    "duration": 17,
    "start_time": "2022-02-23T18:57:21.910Z"
   },
   {
    "duration": 104517,
    "start_time": "2022-02-23T18:57:21.929Z"
   },
   {
    "duration": 89,
    "start_time": "2022-02-23T18:59:06.450Z"
   },
   {
    "duration": 15,
    "start_time": "2022-02-23T18:59:06.544Z"
   },
   {
    "duration": 15,
    "start_time": "2022-02-23T18:59:06.562Z"
   },
   {
    "duration": 38,
    "start_time": "2022-02-23T18:59:06.580Z"
   },
   {
    "duration": 10,
    "start_time": "2022-02-23T18:59:06.621Z"
   },
   {
    "duration": 9,
    "start_time": "2022-02-23T18:59:06.633Z"
   },
   {
    "duration": 617,
    "start_time": "2022-02-23T18:59:06.644Z"
   },
   {
    "duration": 549,
    "start_time": "2022-02-23T18:59:07.264Z"
   },
   {
    "duration": 554,
    "start_time": "2022-02-23T18:59:07.815Z"
   },
   {
    "duration": 619,
    "start_time": "2022-02-23T18:59:08.371Z"
   },
   {
    "duration": 549,
    "start_time": "2022-02-23T18:59:08.992Z"
   },
   {
    "duration": 561,
    "start_time": "2022-02-23T18:59:09.544Z"
   },
   {
    "duration": 216,
    "start_time": "2022-02-23T18:59:10.111Z"
   },
   {
    "duration": 302,
    "start_time": "2022-02-23T18:59:10.329Z"
   },
   {
    "duration": 6,
    "start_time": "2022-02-23T18:59:10.634Z"
   },
   {
    "duration": 452,
    "start_time": "2022-02-23T18:59:10.642Z"
   },
   {
    "duration": 21,
    "start_time": "2022-02-23T18:59:11.101Z"
   },
   {
    "duration": 258,
    "start_time": "2022-02-23T18:59:11.125Z"
   },
   {
    "duration": 33,
    "start_time": "2022-02-23T18:59:11.386Z"
   },
   {
    "duration": 13,
    "start_time": "2022-02-23T18:59:11.421Z"
   },
   {
    "duration": 8,
    "start_time": "2022-02-23T18:59:11.437Z"
   },
   {
    "duration": 16,
    "start_time": "2022-02-23T18:59:11.448Z"
   },
   {
    "duration": 47,
    "start_time": "2022-02-23T18:59:11.467Z"
   },
   {
    "duration": 19,
    "start_time": "2022-02-23T18:59:11.516Z"
   },
   {
    "duration": 14,
    "start_time": "2022-02-23T18:59:11.538Z"
   },
   {
    "duration": 9,
    "start_time": "2022-02-23T18:59:11.555Z"
   },
   {
    "duration": 56,
    "start_time": "2022-02-23T18:59:11.567Z"
   },
   {
    "duration": 5,
    "start_time": "2022-02-23T18:59:24.926Z"
   },
   {
    "duration": 342,
    "start_time": "2022-02-23T20:16:48.324Z"
   },
   {
    "duration": 1687,
    "start_time": "2022-02-23T20:16:58.316Z"
   },
   {
    "duration": 13,
    "start_time": "2022-02-23T20:17:00.006Z"
   },
   {
    "duration": 29,
    "start_time": "2022-02-23T20:17:00.022Z"
   },
   {
    "duration": 16,
    "start_time": "2022-02-23T20:17:00.054Z"
   },
   {
    "duration": 668,
    "start_time": "2022-02-23T20:17:00.073Z"
   },
   {
    "duration": 60,
    "start_time": "2022-02-23T20:17:00.744Z"
   },
   {
    "duration": 16,
    "start_time": "2022-02-23T20:17:00.806Z"
   },
   {
    "duration": 35,
    "start_time": "2022-02-23T20:17:00.826Z"
   },
   {
    "duration": 43,
    "start_time": "2022-02-23T20:17:00.865Z"
   },
   {
    "duration": 14,
    "start_time": "2022-02-23T20:17:00.911Z"
   },
   {
    "duration": 10,
    "start_time": "2022-02-23T20:17:00.928Z"
   },
   {
    "duration": 644,
    "start_time": "2022-02-23T20:17:00.941Z"
   },
   {
    "duration": 542,
    "start_time": "2022-02-23T20:17:01.587Z"
   },
   {
    "duration": 557,
    "start_time": "2022-02-23T20:17:02.132Z"
   },
   {
    "duration": 542,
    "start_time": "2022-02-23T20:17:02.692Z"
   },
   {
    "duration": 634,
    "start_time": "2022-02-23T20:17:03.237Z"
   },
   {
    "duration": 592,
    "start_time": "2022-02-23T20:17:03.873Z"
   },
   {
    "duration": 226,
    "start_time": "2022-02-23T20:17:04.467Z"
   },
   {
    "duration": 344,
    "start_time": "2022-02-23T20:17:04.696Z"
   },
   {
    "duration": 6,
    "start_time": "2022-02-23T20:17:05.043Z"
   },
   {
    "duration": 466,
    "start_time": "2022-02-23T20:17:05.051Z"
   },
   {
    "duration": 18,
    "start_time": "2022-02-23T20:17:05.519Z"
   },
   {
    "duration": 321,
    "start_time": "2022-02-23T20:17:05.539Z"
   },
   {
    "duration": 12,
    "start_time": "2022-02-23T20:17:05.863Z"
   },
   {
    "duration": 84,
    "start_time": "2022-02-23T20:17:05.878Z"
   },
   {
    "duration": 127,
    "start_time": "2022-02-23T20:17:05.964Z"
   },
   {
    "duration": 265,
    "start_time": "2022-02-23T20:17:06.098Z"
   },
   {
    "duration": 47,
    "start_time": "2022-02-23T20:17:06.367Z"
   },
   {
    "duration": 18,
    "start_time": "2022-02-23T20:17:06.417Z"
   },
   {
    "duration": 31,
    "start_time": "2022-02-23T20:17:06.437Z"
   },
   {
    "duration": 18,
    "start_time": "2022-02-23T20:17:06.471Z"
   },
   {
    "duration": 44,
    "start_time": "2022-02-23T20:17:06.492Z"
   },
   {
    "duration": 1229,
    "start_time": "2022-02-25T17:04:11.231Z"
   },
   {
    "duration": 9,
    "start_time": "2022-02-25T17:04:12.461Z"
   },
   {
    "duration": 19,
    "start_time": "2022-02-25T17:04:12.472Z"
   },
   {
    "duration": 12,
    "start_time": "2022-02-25T17:04:12.493Z"
   },
   {
    "duration": 408,
    "start_time": "2022-02-25T17:04:12.506Z"
   },
   {
    "duration": 67,
    "start_time": "2022-02-25T17:04:12.916Z"
   },
   {
    "duration": 10,
    "start_time": "2022-02-25T17:04:12.985Z"
   },
   {
    "duration": 11,
    "start_time": "2022-02-25T17:04:12.998Z"
   },
   {
    "duration": 21,
    "start_time": "2022-02-25T17:04:13.012Z"
   },
   {
    "duration": 7,
    "start_time": "2022-02-25T17:04:13.036Z"
   },
   {
    "duration": 776,
    "start_time": "2022-02-25T17:04:15.946Z"
   },
   {
    "duration": 7,
    "start_time": "2022-02-25T17:04:28.304Z"
   },
   {
    "duration": 8,
    "start_time": "2022-02-25T17:04:44.174Z"
   },
   {
    "duration": 273,
    "start_time": "2022-02-25T17:08:31.919Z"
   },
   {
    "duration": 8,
    "start_time": "2022-02-25T17:10:04.105Z"
   },
   {
    "duration": 275,
    "start_time": "2022-02-25T17:11:09.325Z"
   },
   {
    "duration": 11,
    "start_time": "2022-02-25T17:11:25.393Z"
   },
   {
    "duration": 7,
    "start_time": "2022-02-25T17:20:44.882Z"
   },
   {
    "duration": 8,
    "start_time": "2022-02-25T18:00:32.589Z"
   },
   {
    "duration": 1318,
    "start_time": "2022-02-25T18:01:15.948Z"
   },
   {
    "duration": 8,
    "start_time": "2022-02-25T18:01:17.268Z"
   },
   {
    "duration": 20,
    "start_time": "2022-02-25T18:01:17.279Z"
   },
   {
    "duration": 12,
    "start_time": "2022-02-25T18:01:17.301Z"
   },
   {
    "duration": 396,
    "start_time": "2022-02-25T18:01:17.315Z"
   },
   {
    "duration": 101,
    "start_time": "2022-02-25T18:01:17.714Z"
   },
   {
    "duration": 11,
    "start_time": "2022-02-25T18:01:17.817Z"
   },
   {
    "duration": 12,
    "start_time": "2022-02-25T18:01:17.831Z"
   },
   {
    "duration": 29,
    "start_time": "2022-02-25T18:01:17.845Z"
   },
   {
    "duration": 15,
    "start_time": "2022-02-25T18:01:17.876Z"
   },
   {
    "duration": 8,
    "start_time": "2022-02-25T18:01:17.893Z"
   },
   {
    "duration": 10,
    "start_time": "2022-02-25T18:01:17.903Z"
   },
   {
    "duration": 420,
    "start_time": "2022-02-25T18:01:17.915Z"
   },
   {
    "duration": 413,
    "start_time": "2022-02-25T18:01:18.337Z"
   },
   {
    "duration": 502,
    "start_time": "2022-02-25T18:01:18.752Z"
   },
   {
    "duration": 444,
    "start_time": "2022-02-25T18:01:19.256Z"
   },
   {
    "duration": 481,
    "start_time": "2022-02-25T18:01:19.702Z"
   },
   {
    "duration": 405,
    "start_time": "2022-02-25T18:01:20.185Z"
   },
   {
    "duration": 153,
    "start_time": "2022-02-25T18:01:20.593Z"
   },
   {
    "duration": 249,
    "start_time": "2022-02-25T18:01:20.749Z"
   },
   {
    "duration": 5,
    "start_time": "2022-02-25T18:01:20.999Z"
   },
   {
    "duration": 376,
    "start_time": "2022-02-25T18:01:21.006Z"
   },
   {
    "duration": 10,
    "start_time": "2022-02-25T18:01:21.384Z"
   },
   {
    "duration": 366,
    "start_time": "2022-02-25T18:10:11.939Z"
   },
   {
    "duration": 123,
    "start_time": "2022-02-25T18:10:22.764Z"
   },
   {
    "duration": 9,
    "start_time": "2022-02-25T18:10:25.567Z"
   },
   {
    "duration": 11,
    "start_time": "2022-02-25T18:11:45.735Z"
   },
   {
    "duration": 10,
    "start_time": "2022-02-25T18:12:19.345Z"
   },
   {
    "duration": 11,
    "start_time": "2022-02-25T18:14:15.742Z"
   },
   {
    "duration": 17,
    "start_time": "2022-02-25T18:14:15.756Z"
   },
   {
    "duration": 4,
    "start_time": "2022-02-25T18:14:15.776Z"
   },
   {
    "duration": 13,
    "start_time": "2022-02-25T18:14:15.782Z"
   },
   {
    "duration": 7,
    "start_time": "2022-02-25T18:14:15.797Z"
   },
   {
    "duration": 13,
    "start_time": "2022-02-25T18:14:15.806Z"
   },
   {
    "duration": 13,
    "start_time": "2022-02-25T18:14:15.821Z"
   },
   {
    "duration": 36,
    "start_time": "2022-02-25T18:14:15.836Z"
   },
   {
    "duration": 21,
    "start_time": "2022-02-25T18:14:15.875Z"
   },
   {
    "duration": 11,
    "start_time": "2022-02-25T18:20:11.397Z"
   },
   {
    "duration": 12,
    "start_time": "2022-02-25T18:20:17.734Z"
   },
   {
    "duration": 1294,
    "start_time": "2022-02-25T18:23:47.480Z"
   },
   {
    "duration": 9,
    "start_time": "2022-02-25T18:23:48.776Z"
   },
   {
    "duration": 20,
    "start_time": "2022-02-25T18:23:48.787Z"
   },
   {
    "duration": 12,
    "start_time": "2022-02-25T18:23:48.809Z"
   },
   {
    "duration": 391,
    "start_time": "2022-02-25T18:23:48.823Z"
   },
   {
    "duration": 66,
    "start_time": "2022-02-25T18:23:49.217Z"
   },
   {
    "duration": 11,
    "start_time": "2022-02-25T18:23:49.285Z"
   },
   {
    "duration": 11,
    "start_time": "2022-02-25T18:23:49.299Z"
   },
   {
    "duration": 25,
    "start_time": "2022-02-25T18:23:49.312Z"
   },
   {
    "duration": 7,
    "start_time": "2022-02-25T18:23:49.339Z"
   },
   {
    "duration": 26,
    "start_time": "2022-02-25T18:23:49.348Z"
   },
   {
    "duration": 14,
    "start_time": "2022-02-25T18:23:49.376Z"
   },
   {
    "duration": 397,
    "start_time": "2022-02-25T18:23:49.392Z"
   },
   {
    "duration": 393,
    "start_time": "2022-02-25T18:23:49.790Z"
   },
   {
    "duration": 444,
    "start_time": "2022-02-25T18:23:50.185Z"
   },
   {
    "duration": 440,
    "start_time": "2022-02-25T18:23:50.631Z"
   },
   {
    "duration": 526,
    "start_time": "2022-02-25T18:23:51.073Z"
   },
   {
    "duration": 425,
    "start_time": "2022-02-25T18:23:51.602Z"
   },
   {
    "duration": 157,
    "start_time": "2022-02-25T18:23:52.029Z"
   },
   {
    "duration": 242,
    "start_time": "2022-02-25T18:23:52.189Z"
   },
   {
    "duration": 5,
    "start_time": "2022-02-25T18:23:52.434Z"
   },
   {
    "duration": 386,
    "start_time": "2022-02-25T18:23:52.441Z"
   },
   {
    "duration": 11,
    "start_time": "2022-02-25T18:23:52.830Z"
   },
   {
    "duration": 162,
    "start_time": "2022-02-25T18:23:52.844Z"
   },
   {
    "duration": 10,
    "start_time": "2022-02-25T18:23:53.008Z"
   },
   {
    "duration": 12,
    "start_time": "2022-02-25T18:23:53.020Z"
   },
   {
    "duration": 4,
    "start_time": "2022-02-25T18:23:53.034Z"
   },
   {
    "duration": 34,
    "start_time": "2022-02-25T18:23:53.041Z"
   },
   {
    "duration": 8,
    "start_time": "2022-02-25T18:23:53.077Z"
   },
   {
    "duration": 11,
    "start_time": "2022-02-25T18:23:53.087Z"
   },
   {
    "duration": 14,
    "start_time": "2022-02-25T18:23:53.100Z"
   },
   {
    "duration": 9,
    "start_time": "2022-02-25T18:23:53.116Z"
   },
   {
    "duration": 54,
    "start_time": "2022-02-25T18:23:53.127Z"
   },
   {
    "duration": 401,
    "start_time": "2022-02-25T19:08:49.671Z"
   },
   {
    "duration": 393,
    "start_time": "2022-02-25T19:09:36.921Z"
   },
   {
    "duration": 1221,
    "start_time": "2022-02-25T19:18:37.036Z"
   },
   {
    "duration": 9,
    "start_time": "2022-02-25T19:18:38.259Z"
   },
   {
    "duration": 15,
    "start_time": "2022-02-25T19:18:38.270Z"
   },
   {
    "duration": 12,
    "start_time": "2022-02-25T19:18:38.287Z"
   },
   {
    "duration": 418,
    "start_time": "2022-02-25T19:18:38.301Z"
   },
   {
    "duration": 58,
    "start_time": "2022-02-25T19:18:38.721Z"
   },
   {
    "duration": 10,
    "start_time": "2022-02-25T19:18:38.781Z"
   },
   {
    "duration": 14,
    "start_time": "2022-02-25T19:18:38.793Z"
   },
   {
    "duration": 21,
    "start_time": "2022-02-25T19:18:38.810Z"
   },
   {
    "duration": 8,
    "start_time": "2022-02-25T19:18:38.833Z"
   },
   {
    "duration": 27,
    "start_time": "2022-02-25T19:18:38.844Z"
   },
   {
    "duration": 10,
    "start_time": "2022-02-25T19:18:38.873Z"
   },
   {
    "duration": 398,
    "start_time": "2022-02-25T19:18:38.885Z"
   },
   {
    "duration": 394,
    "start_time": "2022-02-25T19:18:39.285Z"
   },
   {
    "duration": 442,
    "start_time": "2022-02-25T19:18:39.681Z"
   },
   {
    "duration": 384,
    "start_time": "2022-02-25T19:18:40.125Z"
   },
   {
    "duration": 473,
    "start_time": "2022-02-25T19:18:40.511Z"
   },
   {
    "duration": 393,
    "start_time": "2022-02-25T19:18:40.986Z"
   },
   {
    "duration": 123,
    "start_time": "2022-02-25T19:18:41.381Z"
   },
   {
    "duration": 213,
    "start_time": "2022-02-25T19:18:41.506Z"
   },
   {
    "duration": 4,
    "start_time": "2022-02-25T19:18:41.721Z"
   },
   {
    "duration": 353,
    "start_time": "2022-02-25T19:18:41.727Z"
   },
   {
    "duration": 10,
    "start_time": "2022-02-25T19:18:42.082Z"
   },
   {
    "duration": 141,
    "start_time": "2022-02-25T19:18:42.094Z"
   },
   {
    "duration": 9,
    "start_time": "2022-02-25T19:18:42.237Z"
   },
   {
    "duration": 26,
    "start_time": "2022-02-25T19:18:42.248Z"
   },
   {
    "duration": 3,
    "start_time": "2022-02-25T19:18:42.277Z"
   },
   {
    "duration": 10,
    "start_time": "2022-02-25T19:18:42.282Z"
   },
   {
    "duration": 7,
    "start_time": "2022-02-25T19:18:42.294Z"
   },
   {
    "duration": 13,
    "start_time": "2022-02-25T19:18:42.303Z"
   },
   {
    "duration": 19,
    "start_time": "2022-02-25T19:18:42.318Z"
   },
   {
    "duration": 32,
    "start_time": "2022-02-25T19:18:42.339Z"
   },
   {
    "duration": 17,
    "start_time": "2022-02-25T19:18:42.372Z"
   }
  ],
  "kernelspec": {
   "display_name": "Python 3",
   "language": "python",
   "name": "python3"
  },
  "language_info": {
   "codemirror_mode": {
    "name": "ipython",
    "version": 3
   },
   "file_extension": ".py",
   "mimetype": "text/x-python",
   "name": "python",
   "nbconvert_exporter": "python",
   "pygments_lexer": "ipython3",
   "version": "3.8.8"
  },
  "toc": {
   "base_numbering": 1,
   "nav_menu": {
    "height": "12px",
    "width": "160px"
   },
   "number_sections": true,
   "sideBar": true,
   "skip_h1_title": true,
   "title_cell": "Table of Contents",
   "title_sidebar": "Contents",
   "toc_cell": false,
   "toc_position": {
    "height": "calc(100% - 180px)",
    "left": "10px",
    "top": "150px",
    "width": "165px"
   },
   "toc_section_display": true,
   "toc_window_display": false
  }
 },
 "nbformat": 4,
 "nbformat_minor": 2
}
