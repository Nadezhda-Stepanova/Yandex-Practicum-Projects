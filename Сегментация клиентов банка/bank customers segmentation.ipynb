{
 "cells": [
  {
   "cell_type": "markdown",
   "metadata": {},
   "source": [
    "# Банки — Сегментация пользователей по потреблению\n"
   ]
  },
  {
   "cell_type": "markdown",
   "metadata": {},
   "source": [
    "## Задача\n",
    "\n",
    "- Проанализировать клиентов регионального банка и сегментировать пользователей по количеству потребляемых продуктов.\n",
    "- На основании поведения клиентов определить вероятность их ухода и предложить меры по удержанию клиентов (предложение релевантного банковского продукта).\n",
    "- Проверить гипотезу различия дохода между теми клиентами, которые пользуются двумя продуктами банка, и теми, которые пользуются одним."
   ]
  },
  {
   "cell_type": "markdown",
   "metadata": {},
   "source": [
    "## Описание данных\n",
    "Датасет содержит данные о клиентах банка «Метанпром». Банк располагается в Ярославле и областных городах: Ростов Великий и Рыбинск.\n",
    "Колонки:\n",
    "- userid — идентификатор пользователя,\n",
    "- score — баллы кредитного скоринга,\n",
    "- City — город,\n",
    "- Gender — пол,\n",
    "- Age — возраст,\n",
    "- Objects — количество объектов в собственности,\n",
    "- Balance — баланс на счёте,\n",
    "- Products — количество продуктов, которыми пользуется клиент,\n",
    "- CreditCard — есть ли кредитная карта,\n",
    "- Loyalty — активный клиент,\n",
    "- estimated_salary — заработная плата клиента,\n",
    "- Churn — ушёл или нет."
   ]
  },
  {
   "cell_type": "markdown",
   "metadata": {},
   "source": [
    "## Предобработка данных \n"
   ]
  },
  {
   "cell_type": "code",
   "execution_count": 1,
   "metadata": {
    "scrolled": false
   },
   "outputs": [
    {
     "name": "stdout",
     "output_type": "stream",
     "text": [
      "Requirement already satisfied: phik in c:\\programdata\\anaconda3\\lib\\site-packages (0.12.2)\n",
      "Requirement already satisfied: scipy>=1.5.2 in c:\\programdata\\anaconda3\\lib\\site-packages (from phik) (1.6.2)\n",
      "Requirement already satisfied: pandas>=0.25.1 in c:\\programdata\\anaconda3\\lib\\site-packages (from phik) (1.2.4)\n",
      "Requirement already satisfied: matplotlib>=2.2.3 in c:\\programdata\\anaconda3\\lib\\site-packages (from phik) (3.3.4)\n",
      "Requirement already satisfied: numpy>=1.18.0 in c:\\programdata\\anaconda3\\lib\\site-packages (from phik) (1.20.1)\n",
      "Requirement already satisfied: joblib>=0.14.1 in c:\\programdata\\anaconda3\\lib\\site-packages (from phik) (1.0.1)\n",
      "Requirement already satisfied: pyparsing!=2.0.4,!=2.1.2,!=2.1.6,>=2.0.3 in c:\\programdata\\anaconda3\\lib\\site-packages (from matplotlib>=2.2.3->phik) (2.4.7)\n",
      "Requirement already satisfied: pillow>=6.2.0 in c:\\programdata\\anaconda3\\lib\\site-packages (from matplotlib>=2.2.3->phik) (8.2.0)\n",
      "Requirement already satisfied: kiwisolver>=1.0.1 in c:\\programdata\\anaconda3\\lib\\site-packages (from matplotlib>=2.2.3->phik) (1.3.1)\n",
      "Requirement already satisfied: cycler>=0.10 in c:\\programdata\\anaconda3\\lib\\site-packages (from matplotlib>=2.2.3->phik) (0.10.0)\n",
      "Requirement already satisfied: python-dateutil>=2.1 in c:\\programdata\\anaconda3\\lib\\site-packages (from matplotlib>=2.2.3->phik) (2.8.1)\n",
      "Requirement already satisfied: six in c:\\programdata\\anaconda3\\lib\\site-packages (from cycler>=0.10->matplotlib>=2.2.3->phik) (1.15.0)\n",
      "Requirement already satisfied: pytz>=2017.3 in c:\\programdata\\anaconda3\\lib\\site-packages (from pandas>=0.25.1->phik) (2021.1)\n"
     ]
    }
   ],
   "source": [
    "! pip install phik"
   ]
  },
  {
   "cell_type": "code",
   "execution_count": 2,
   "metadata": {},
   "outputs": [],
   "source": [
    "import pandas as pd     # Импортируем необходимые библиотеки\n",
    "import matplotlib.pyplot as plt\n",
    "import seaborn as sns\n",
    "import numpy as np\n",
    "\n",
    "import warnings # отключили предупреждения          #\n",
    "warnings.filterwarnings('ignore')                   #\n",
    "\n",
    "from scipy import stats as st  # для статистики\n",
    "\n",
    "import phik\n",
    "from phik import resources, report\n",
    "from phik.report import plot_correlation_matrix"
   ]
  },
  {
   "cell_type": "code",
   "execution_count": 3,
   "metadata": {
    "scrolled": true
   },
   "outputs": [
    {
     "name": "stdout",
     "output_type": "stream",
     "text": [
      "<class 'pandas.core.frame.DataFrame'>\n",
      "RangeIndex: 10000 entries, 0 to 9999\n",
      "Data columns (total 12 columns):\n",
      " #   Column            Non-Null Count  Dtype  \n",
      "---  ------            --------------  -----  \n",
      " 0   userid            10000 non-null  int64  \n",
      " 1   score             10000 non-null  int64  \n",
      " 2   City              10000 non-null  object \n",
      " 3   Gender            10000 non-null  object \n",
      " 4   Age               10000 non-null  int64  \n",
      " 5   Objects           10000 non-null  int64  \n",
      " 6   Balance           6383 non-null   float64\n",
      " 7   Products          10000 non-null  int64  \n",
      " 8   CreditCard        10000 non-null  int64  \n",
      " 9   Loyalty           10000 non-null  int64  \n",
      " 10  estimated_salary  10000 non-null  float64\n",
      " 11  Churn             10000 non-null  int64  \n",
      "dtypes: float64(2), int64(8), object(2)\n",
      "memory usage: 937.6+ KB\n"
     ]
    },
    {
     "data": {
      "text/html": [
       "<div>\n",
       "<style scoped>\n",
       "    .dataframe tbody tr th:only-of-type {\n",
       "        vertical-align: middle;\n",
       "    }\n",
       "\n",
       "    .dataframe tbody tr th {\n",
       "        vertical-align: top;\n",
       "    }\n",
       "\n",
       "    .dataframe thead th {\n",
       "        text-align: right;\n",
       "    }\n",
       "</style>\n",
       "<table border=\"1\" class=\"dataframe\">\n",
       "  <thead>\n",
       "    <tr style=\"text-align: right;\">\n",
       "      <th></th>\n",
       "      <th>userid</th>\n",
       "      <th>score</th>\n",
       "      <th>City</th>\n",
       "      <th>Gender</th>\n",
       "      <th>Age</th>\n",
       "      <th>Objects</th>\n",
       "      <th>Balance</th>\n",
       "      <th>Products</th>\n",
       "      <th>CreditCard</th>\n",
       "      <th>Loyalty</th>\n",
       "      <th>estimated_salary</th>\n",
       "      <th>Churn</th>\n",
       "    </tr>\n",
       "  </thead>\n",
       "  <tbody>\n",
       "    <tr>\n",
       "      <th>0</th>\n",
       "      <td>15677338</td>\n",
       "      <td>619</td>\n",
       "      <td>Ярославль</td>\n",
       "      <td>Ж</td>\n",
       "      <td>42</td>\n",
       "      <td>2</td>\n",
       "      <td>NaN</td>\n",
       "      <td>1</td>\n",
       "      <td>1</td>\n",
       "      <td>1</td>\n",
       "      <td>101348.88</td>\n",
       "      <td>1</td>\n",
       "    </tr>\n",
       "    <tr>\n",
       "      <th>1</th>\n",
       "      <td>15690047</td>\n",
       "      <td>608</td>\n",
       "      <td>Рыбинск</td>\n",
       "      <td>Ж</td>\n",
       "      <td>41</td>\n",
       "      <td>1</td>\n",
       "      <td>83807.86</td>\n",
       "      <td>1</td>\n",
       "      <td>0</td>\n",
       "      <td>1</td>\n",
       "      <td>112542.58</td>\n",
       "      <td>0</td>\n",
       "    </tr>\n",
       "    <tr>\n",
       "      <th>2</th>\n",
       "      <td>15662040</td>\n",
       "      <td>502</td>\n",
       "      <td>Ярославль</td>\n",
       "      <td>Ж</td>\n",
       "      <td>42</td>\n",
       "      <td>8</td>\n",
       "      <td>159660.80</td>\n",
       "      <td>3</td>\n",
       "      <td>1</td>\n",
       "      <td>0</td>\n",
       "      <td>113931.57</td>\n",
       "      <td>1</td>\n",
       "    </tr>\n",
       "    <tr>\n",
       "      <th>3</th>\n",
       "      <td>15744090</td>\n",
       "      <td>699</td>\n",
       "      <td>Ярославль</td>\n",
       "      <td>Ж</td>\n",
       "      <td>39</td>\n",
       "      <td>1</td>\n",
       "      <td>NaN</td>\n",
       "      <td>2</td>\n",
       "      <td>0</td>\n",
       "      <td>0</td>\n",
       "      <td>93826.63</td>\n",
       "      <td>0</td>\n",
       "    </tr>\n",
       "    <tr>\n",
       "      <th>4</th>\n",
       "      <td>15780624</td>\n",
       "      <td>850</td>\n",
       "      <td>Рыбинск</td>\n",
       "      <td>Ж</td>\n",
       "      <td>43</td>\n",
       "      <td>2</td>\n",
       "      <td>125510.82</td>\n",
       "      <td>1</td>\n",
       "      <td>1</td>\n",
       "      <td>1</td>\n",
       "      <td>79084.10</td>\n",
       "      <td>0</td>\n",
       "    </tr>\n",
       "  </tbody>\n",
       "</table>\n",
       "</div>"
      ],
      "text/plain": [
       "     userid  score       City Gender  Age  Objects    Balance  Products  \\\n",
       "0  15677338    619  Ярославль      Ж   42        2        NaN         1   \n",
       "1  15690047    608    Рыбинск      Ж   41        1   83807.86         1   \n",
       "2  15662040    502  Ярославль      Ж   42        8  159660.80         3   \n",
       "3  15744090    699  Ярославль      Ж   39        1        NaN         2   \n",
       "4  15780624    850    Рыбинск      Ж   43        2  125510.82         1   \n",
       "\n",
       "   CreditCard  Loyalty  estimated_salary  Churn  \n",
       "0           1        1         101348.88      1  \n",
       "1           0        1         112542.58      0  \n",
       "2           1        0         113931.57      1  \n",
       "3           0        0          93826.63      0  \n",
       "4           1        1          79084.10      0  "
      ]
     },
     "execution_count": 3,
     "metadata": {},
     "output_type": "execute_result"
    }
   ],
   "source": [
    "data = pd.read_csv('bank_dataset.csv')  # Считываем данные из файла\n",
    "data.info()                                       # Смотрим имеющуюся информацию\n",
    "data.head()"
   ]
  },
  {
   "cell_type": "markdown",
   "metadata": {},
   "source": [
    "Имеем датафрейм на 10 000 строк. Этого достаточно, чтобы пытаться находить какие-либо закономерности."
   ]
  },
  {
   "cell_type": "markdown",
   "metadata": {},
   "source": [
    "### Наименования колонок\n",
    "Видим, что для корректности наименований колонок достаточно переименовать их в соответствии с правилами хорошего стиля, заменив на нижний регистр. "
   ]
  },
  {
   "cell_type": "code",
   "execution_count": 4,
   "metadata": {
    "scrolled": true
   },
   "outputs": [
    {
     "data": {
      "text/plain": [
       "Index(['userid', 'score', 'city', 'gender', 'age', 'objects', 'balance',\n",
       "       'products', 'creditcard', 'loyalty', 'estimated_salary', 'churn'],\n",
       "      dtype='object')"
      ]
     },
     "execution_count": 4,
     "metadata": {},
     "output_type": "execute_result"
    }
   ],
   "source": [
    "data.columns = data.columns.str.lower()  # использовали метод df.columns.str.lower\n",
    "data.columns"
   ]
  },
  {
   "cell_type": "markdown",
   "metadata": {},
   "source": [
    "### Типы данных\n",
    "Посмотрим на соответствие типов. Вообще все типы соответствуют своим целям. Можно было бы применить тип boolean для столбцов creditcard и churn, но и значения 0 и 1 как integer вполне подходят.\n",
    "\n",
    "Выведем информацию об основных статистических характеристиках данных: минимальные, максимальные, средние значения, стандартные отклонения. Воспользуемся методом describe()."
   ]
  },
  {
   "cell_type": "code",
   "execution_count": 5,
   "metadata": {
    "scrolled": true
   },
   "outputs": [
    {
     "data": {
      "text/html": [
       "<div>\n",
       "<style scoped>\n",
       "    .dataframe tbody tr th:only-of-type {\n",
       "        vertical-align: middle;\n",
       "    }\n",
       "\n",
       "    .dataframe tbody tr th {\n",
       "        vertical-align: top;\n",
       "    }\n",
       "\n",
       "    .dataframe thead th {\n",
       "        text-align: right;\n",
       "    }\n",
       "</style>\n",
       "<table border=\"1\" class=\"dataframe\">\n",
       "  <thead>\n",
       "    <tr style=\"text-align: right;\">\n",
       "      <th></th>\n",
       "      <th>count</th>\n",
       "      <th>mean</th>\n",
       "      <th>std</th>\n",
       "      <th>min</th>\n",
       "      <th>25%</th>\n",
       "      <th>50%</th>\n",
       "      <th>75%</th>\n",
       "      <th>max</th>\n",
       "    </tr>\n",
       "  </thead>\n",
       "  <tbody>\n",
       "    <tr>\n",
       "      <th>userid</th>\n",
       "      <td>10000.00</td>\n",
       "      <td>15733676.57</td>\n",
       "      <td>71936.19</td>\n",
       "      <td>15608437.00</td>\n",
       "      <td>15671264.25</td>\n",
       "      <td>15733474.00</td>\n",
       "      <td>15795969.75</td>\n",
       "      <td>15858426.00</td>\n",
       "    </tr>\n",
       "    <tr>\n",
       "      <th>score</th>\n",
       "      <td>10000.00</td>\n",
       "      <td>650.53</td>\n",
       "      <td>96.65</td>\n",
       "      <td>350.00</td>\n",
       "      <td>584.00</td>\n",
       "      <td>652.00</td>\n",
       "      <td>718.00</td>\n",
       "      <td>850.00</td>\n",
       "    </tr>\n",
       "    <tr>\n",
       "      <th>age</th>\n",
       "      <td>10000.00</td>\n",
       "      <td>38.92</td>\n",
       "      <td>10.49</td>\n",
       "      <td>18.00</td>\n",
       "      <td>32.00</td>\n",
       "      <td>37.00</td>\n",
       "      <td>44.00</td>\n",
       "      <td>92.00</td>\n",
       "    </tr>\n",
       "    <tr>\n",
       "      <th>objects</th>\n",
       "      <td>10000.00</td>\n",
       "      <td>5.01</td>\n",
       "      <td>2.89</td>\n",
       "      <td>0.00</td>\n",
       "      <td>3.00</td>\n",
       "      <td>5.00</td>\n",
       "      <td>7.00</td>\n",
       "      <td>10.00</td>\n",
       "    </tr>\n",
       "    <tr>\n",
       "      <th>balance</th>\n",
       "      <td>6383.00</td>\n",
       "      <td>119827.49</td>\n",
       "      <td>30095.06</td>\n",
       "      <td>3768.69</td>\n",
       "      <td>100181.98</td>\n",
       "      <td>119839.69</td>\n",
       "      <td>139512.29</td>\n",
       "      <td>250898.09</td>\n",
       "    </tr>\n",
       "    <tr>\n",
       "      <th>products</th>\n",
       "      <td>10000.00</td>\n",
       "      <td>1.53</td>\n",
       "      <td>0.58</td>\n",
       "      <td>1.00</td>\n",
       "      <td>1.00</td>\n",
       "      <td>1.00</td>\n",
       "      <td>2.00</td>\n",
       "      <td>4.00</td>\n",
       "    </tr>\n",
       "    <tr>\n",
       "      <th>creditcard</th>\n",
       "      <td>10000.00</td>\n",
       "      <td>0.71</td>\n",
       "      <td>0.46</td>\n",
       "      <td>0.00</td>\n",
       "      <td>0.00</td>\n",
       "      <td>1.00</td>\n",
       "      <td>1.00</td>\n",
       "      <td>1.00</td>\n",
       "    </tr>\n",
       "    <tr>\n",
       "      <th>loyalty</th>\n",
       "      <td>10000.00</td>\n",
       "      <td>0.52</td>\n",
       "      <td>0.50</td>\n",
       "      <td>0.00</td>\n",
       "      <td>0.00</td>\n",
       "      <td>1.00</td>\n",
       "      <td>1.00</td>\n",
       "      <td>1.00</td>\n",
       "    </tr>\n",
       "    <tr>\n",
       "      <th>estimated_salary</th>\n",
       "      <td>10000.00</td>\n",
       "      <td>100090.24</td>\n",
       "      <td>57510.49</td>\n",
       "      <td>11.58</td>\n",
       "      <td>51002.11</td>\n",
       "      <td>100193.91</td>\n",
       "      <td>149388.25</td>\n",
       "      <td>199992.48</td>\n",
       "    </tr>\n",
       "    <tr>\n",
       "      <th>churn</th>\n",
       "      <td>10000.00</td>\n",
       "      <td>0.20</td>\n",
       "      <td>0.40</td>\n",
       "      <td>0.00</td>\n",
       "      <td>0.00</td>\n",
       "      <td>0.00</td>\n",
       "      <td>0.00</td>\n",
       "      <td>1.00</td>\n",
       "    </tr>\n",
       "  </tbody>\n",
       "</table>\n",
       "</div>"
      ],
      "text/plain": [
       "                    count        mean      std         min         25%  \\\n",
       "userid           10000.00 15733676.57 71936.19 15608437.00 15671264.25   \n",
       "score            10000.00      650.53    96.65      350.00      584.00   \n",
       "age              10000.00       38.92    10.49       18.00       32.00   \n",
       "objects          10000.00        5.01     2.89        0.00        3.00   \n",
       "balance           6383.00   119827.49 30095.06     3768.69   100181.98   \n",
       "products         10000.00        1.53     0.58        1.00        1.00   \n",
       "creditcard       10000.00        0.71     0.46        0.00        0.00   \n",
       "loyalty          10000.00        0.52     0.50        0.00        0.00   \n",
       "estimated_salary 10000.00   100090.24 57510.49       11.58    51002.11   \n",
       "churn            10000.00        0.20     0.40        0.00        0.00   \n",
       "\n",
       "                         50%         75%         max  \n",
       "userid           15733474.00 15795969.75 15858426.00  \n",
       "score                 652.00      718.00      850.00  \n",
       "age                    37.00       44.00       92.00  \n",
       "objects                 5.00        7.00       10.00  \n",
       "balance            119839.69   139512.29   250898.09  \n",
       "products                1.00        2.00        4.00  \n",
       "creditcard              1.00        1.00        1.00  \n",
       "loyalty                 1.00        1.00        1.00  \n",
       "estimated_salary   100193.91   149388.25   199992.48  \n",
       "churn                   0.00        0.00        1.00  "
      ]
     },
     "execution_count": 5,
     "metadata": {},
     "output_type": "execute_result"
    }
   ],
   "source": [
    "pd.set_option('display.float_format', '{:.2f}'.format)  # Все числа float в таблице будут отражаться с 2 знаками после запятой\n",
    "\n",
    "data.describe().T  # транспонировали для удобства восприятия таблицы"
   ]
  },
  {
   "cell_type": "markdown",
   "metadata": {},
   "source": [
    "Видим, что значения корректны, находятся в пределах разумного, creditcard и churn принимают значения только 0 и 1, значения активности (loyalty) тоже 0 и 1.\n",
    "\n",
    "Число продуктов, которыми пользуются клиенты банка, колеблется в пределах от 1 до 4."
   ]
  },
  {
   "cell_type": "markdown",
   "metadata": {},
   "source": [
    "### Дубликаты\n",
    "Исследуем дубликаты. Удалим их, если необходимо."
   ]
  },
  {
   "cell_type": "code",
   "execution_count": 6,
   "metadata": {},
   "outputs": [
    {
     "name": "stdout",
     "output_type": "stream",
     "text": [
      "Количество дубликатов в таблице: 0\n",
      "Количество уникальных пользователей (клиентов): 10000\n"
     ]
    }
   ],
   "source": [
    "print('Количество дубликатов в таблице:', data.duplicated().sum())\n",
    "print('Количество уникальных пользователей (клиентов):', data['userid'].nunique())"
   ]
  },
  {
   "cell_type": "markdown",
   "metadata": {},
   "source": [
    "### Пропущенные значения   \n",
    "Исследуем пропущенные значения. Уточним, что они означают, если есть такая информация. Решим, стоит ли заменить их при возможности. \n",
    "\n",
    "Пропуски есть только в столбце balance — баланс на счёте, причем это только дебетовый баланс (по информации от тимлида). Возможно, это только те клиенты, которые имеют только кредитные карты. Или те, кто уже ушел из банка. Проверим гипотезы. Выведем информацию только по клиентам с пропущенным балансом. "
   ]
  },
  {
   "cell_type": "code",
   "execution_count": 7,
   "metadata": {
    "scrolled": true
   },
   "outputs": [
    {
     "name": "stdout",
     "output_type": "stream",
     "text": [
      "Пропусков баланса: 3617\n"
     ]
    }
   ],
   "source": [
    "print('Пропусков баланса:', data.loc[np.isnan(data['balance'])].shape[0])   "
   ]
  },
  {
   "cell_type": "markdown",
   "metadata": {},
   "source": [
    "Пропусков слишком много (треть от общего количества), чтобы можно было просто удалить их."
   ]
  },
  {
   "cell_type": "code",
   "execution_count": 8,
   "metadata": {
    "scrolled": false
   },
   "outputs": [
    {
     "data": {
      "text/html": [
       "<div>\n",
       "<style scoped>\n",
       "    .dataframe tbody tr th:only-of-type {\n",
       "        vertical-align: middle;\n",
       "    }\n",
       "\n",
       "    .dataframe tbody tr th {\n",
       "        vertical-align: top;\n",
       "    }\n",
       "\n",
       "    .dataframe thead th {\n",
       "        text-align: right;\n",
       "    }\n",
       "</style>\n",
       "<table border=\"1\" class=\"dataframe\">\n",
       "  <thead>\n",
       "    <tr style=\"text-align: right;\">\n",
       "      <th></th>\n",
       "      <th>userid</th>\n",
       "      <th>score</th>\n",
       "      <th>city</th>\n",
       "      <th>gender</th>\n",
       "      <th>age</th>\n",
       "      <th>objects</th>\n",
       "      <th>balance</th>\n",
       "      <th>products</th>\n",
       "      <th>creditcard</th>\n",
       "      <th>loyalty</th>\n",
       "      <th>estimated_salary</th>\n",
       "      <th>churn</th>\n",
       "    </tr>\n",
       "  </thead>\n",
       "  <tbody>\n",
       "    <tr>\n",
       "      <th>0</th>\n",
       "      <td>15677338</td>\n",
       "      <td>619</td>\n",
       "      <td>Ярославль</td>\n",
       "      <td>Ж</td>\n",
       "      <td>42</td>\n",
       "      <td>2</td>\n",
       "      <td>NaN</td>\n",
       "      <td>1</td>\n",
       "      <td>1</td>\n",
       "      <td>1</td>\n",
       "      <td>101348.88</td>\n",
       "      <td>1</td>\n",
       "    </tr>\n",
       "    <tr>\n",
       "      <th>3</th>\n",
       "      <td>15744090</td>\n",
       "      <td>699</td>\n",
       "      <td>Ярославль</td>\n",
       "      <td>Ж</td>\n",
       "      <td>39</td>\n",
       "      <td>1</td>\n",
       "      <td>NaN</td>\n",
       "      <td>2</td>\n",
       "      <td>0</td>\n",
       "      <td>0</td>\n",
       "      <td>93826.63</td>\n",
       "      <td>0</td>\n",
       "    </tr>\n",
       "    <tr>\n",
       "      <th>6</th>\n",
       "      <td>15635267</td>\n",
       "      <td>822</td>\n",
       "      <td>Ярославль</td>\n",
       "      <td>М</td>\n",
       "      <td>50</td>\n",
       "      <td>7</td>\n",
       "      <td>NaN</td>\n",
       "      <td>2</td>\n",
       "      <td>1</td>\n",
       "      <td>1</td>\n",
       "      <td>10062.80</td>\n",
       "      <td>0</td>\n",
       "    </tr>\n",
       "    <tr>\n",
       "      <th>11</th>\n",
       "      <td>15779909</td>\n",
       "      <td>497</td>\n",
       "      <td>Рыбинск</td>\n",
       "      <td>М</td>\n",
       "      <td>24</td>\n",
       "      <td>3</td>\n",
       "      <td>NaN</td>\n",
       "      <td>2</td>\n",
       "      <td>1</td>\n",
       "      <td>0</td>\n",
       "      <td>76390.01</td>\n",
       "      <td>0</td>\n",
       "    </tr>\n",
       "    <tr>\n",
       "      <th>12</th>\n",
       "      <td>15675000</td>\n",
       "      <td>476</td>\n",
       "      <td>Ярославль</td>\n",
       "      <td>Ж</td>\n",
       "      <td>34</td>\n",
       "      <td>10</td>\n",
       "      <td>NaN</td>\n",
       "      <td>2</td>\n",
       "      <td>1</td>\n",
       "      <td>0</td>\n",
       "      <td>26260.98</td>\n",
       "      <td>0</td>\n",
       "    </tr>\n",
       "  </tbody>\n",
       "</table>\n",
       "</div>"
      ],
      "text/plain": [
       "      userid  score       city gender  age  objects  balance  products  \\\n",
       "0   15677338    619  Ярославль      Ж   42        2      NaN         1   \n",
       "3   15744090    699  Ярославль      Ж   39        1      NaN         2   \n",
       "6   15635267    822  Ярославль      М   50        7      NaN         2   \n",
       "11  15779909    497    Рыбинск      М   24        3      NaN         2   \n",
       "12  15675000    476  Ярославль      Ж   34       10      NaN         2   \n",
       "\n",
       "    creditcard  loyalty  estimated_salary  churn  \n",
       "0            1        1         101348.88      1  \n",
       "3            0        0          93826.63      0  \n",
       "6            1        1          10062.80      0  \n",
       "11           1        0          76390.01      0  \n",
       "12           1        0          26260.98      0  "
      ]
     },
     "execution_count": 8,
     "metadata": {},
     "output_type": "execute_result"
    }
   ],
   "source": [
    "data.loc[np.isnan(data['balance'])].head()"
   ]
  },
  {
   "cell_type": "markdown",
   "metadata": {},
   "source": [
    "Обе гипотезы оказались ложными. Даже в первых строках есть те, у кого нет кредитной карты, и те, кто не ушел из банка. Предположение, что система просто не успела отработать и проставить \"1\" для ушедших даже не рассматривается ввиду слишком большого числа клиентов с NaN.\n",
    "\n",
    "Еще раз посмотрим на статистические данные. "
   ]
  },
  {
   "cell_type": "code",
   "execution_count": 9,
   "metadata": {
    "scrolled": false
   },
   "outputs": [
    {
     "data": {
      "text/html": [
       "<div>\n",
       "<style scoped>\n",
       "    .dataframe tbody tr th:only-of-type {\n",
       "        vertical-align: middle;\n",
       "    }\n",
       "\n",
       "    .dataframe tbody tr th {\n",
       "        vertical-align: top;\n",
       "    }\n",
       "\n",
       "    .dataframe thead th {\n",
       "        text-align: right;\n",
       "    }\n",
       "</style>\n",
       "<table border=\"1\" class=\"dataframe\">\n",
       "  <thead>\n",
       "    <tr style=\"text-align: right;\">\n",
       "      <th></th>\n",
       "      <th>count</th>\n",
       "      <th>mean</th>\n",
       "      <th>std</th>\n",
       "      <th>min</th>\n",
       "      <th>25%</th>\n",
       "      <th>50%</th>\n",
       "      <th>75%</th>\n",
       "      <th>max</th>\n",
       "    </tr>\n",
       "  </thead>\n",
       "  <tbody>\n",
       "    <tr>\n",
       "      <th>userid</th>\n",
       "      <td>3617.00</td>\n",
       "      <td>15734685.59</td>\n",
       "      <td>71947.49</td>\n",
       "      <td>15608442.00</td>\n",
       "      <td>15672255.00</td>\n",
       "      <td>15736083.00</td>\n",
       "      <td>15796286.00</td>\n",
       "      <td>15858100.00</td>\n",
       "    </tr>\n",
       "    <tr>\n",
       "      <th>score</th>\n",
       "      <td>3617.00</td>\n",
       "      <td>649.45</td>\n",
       "      <td>96.16</td>\n",
       "      <td>350.00</td>\n",
       "      <td>583.00</td>\n",
       "      <td>651.00</td>\n",
       "      <td>717.00</td>\n",
       "      <td>850.00</td>\n",
       "    </tr>\n",
       "    <tr>\n",
       "      <th>age</th>\n",
       "      <td>3617.00</td>\n",
       "      <td>38.43</td>\n",
       "      <td>10.49</td>\n",
       "      <td>18.00</td>\n",
       "      <td>31.00</td>\n",
       "      <td>37.00</td>\n",
       "      <td>43.00</td>\n",
       "      <td>88.00</td>\n",
       "    </tr>\n",
       "    <tr>\n",
       "      <th>objects</th>\n",
       "      <td>3617.00</td>\n",
       "      <td>5.07</td>\n",
       "      <td>2.86</td>\n",
       "      <td>0.00</td>\n",
       "      <td>3.00</td>\n",
       "      <td>5.00</td>\n",
       "      <td>7.00</td>\n",
       "      <td>10.00</td>\n",
       "    </tr>\n",
       "    <tr>\n",
       "      <th>balance</th>\n",
       "      <td>0.00</td>\n",
       "      <td>NaN</td>\n",
       "      <td>NaN</td>\n",
       "      <td>NaN</td>\n",
       "      <td>NaN</td>\n",
       "      <td>NaN</td>\n",
       "      <td>NaN</td>\n",
       "      <td>NaN</td>\n",
       "    </tr>\n",
       "    <tr>\n",
       "      <th>products</th>\n",
       "      <td>3617.00</td>\n",
       "      <td>1.78</td>\n",
       "      <td>0.50</td>\n",
       "      <td>1.00</td>\n",
       "      <td>1.00</td>\n",
       "      <td>2.00</td>\n",
       "      <td>2.00</td>\n",
       "      <td>4.00</td>\n",
       "    </tr>\n",
       "    <tr>\n",
       "      <th>creditcard</th>\n",
       "      <td>3617.00</td>\n",
       "      <td>0.72</td>\n",
       "      <td>0.45</td>\n",
       "      <td>0.00</td>\n",
       "      <td>0.00</td>\n",
       "      <td>1.00</td>\n",
       "      <td>1.00</td>\n",
       "      <td>1.00</td>\n",
       "    </tr>\n",
       "    <tr>\n",
       "      <th>loyalty</th>\n",
       "      <td>3617.00</td>\n",
       "      <td>0.52</td>\n",
       "      <td>0.50</td>\n",
       "      <td>0.00</td>\n",
       "      <td>0.00</td>\n",
       "      <td>1.00</td>\n",
       "      <td>1.00</td>\n",
       "      <td>1.00</td>\n",
       "    </tr>\n",
       "    <tr>\n",
       "      <th>estimated_salary</th>\n",
       "      <td>3617.00</td>\n",
       "      <td>98983.56</td>\n",
       "      <td>57730.83</td>\n",
       "      <td>90.07</td>\n",
       "      <td>49506.82</td>\n",
       "      <td>98618.79</td>\n",
       "      <td>148330.97</td>\n",
       "      <td>199992.48</td>\n",
       "    </tr>\n",
       "    <tr>\n",
       "      <th>churn</th>\n",
       "      <td>3617.00</td>\n",
       "      <td>0.14</td>\n",
       "      <td>0.35</td>\n",
       "      <td>0.00</td>\n",
       "      <td>0.00</td>\n",
       "      <td>0.00</td>\n",
       "      <td>0.00</td>\n",
       "      <td>1.00</td>\n",
       "    </tr>\n",
       "  </tbody>\n",
       "</table>\n",
       "</div>"
      ],
      "text/plain": [
       "                   count        mean      std         min         25%  \\\n",
       "userid           3617.00 15734685.59 71947.49 15608442.00 15672255.00   \n",
       "score            3617.00      649.45    96.16      350.00      583.00   \n",
       "age              3617.00       38.43    10.49       18.00       31.00   \n",
       "objects          3617.00        5.07     2.86        0.00        3.00   \n",
       "balance             0.00         NaN      NaN         NaN         NaN   \n",
       "products         3617.00        1.78     0.50        1.00        1.00   \n",
       "creditcard       3617.00        0.72     0.45        0.00        0.00   \n",
       "loyalty          3617.00        0.52     0.50        0.00        0.00   \n",
       "estimated_salary 3617.00    98983.56 57730.83       90.07    49506.82   \n",
       "churn            3617.00        0.14     0.35        0.00        0.00   \n",
       "\n",
       "                         50%         75%         max  \n",
       "userid           15736083.00 15796286.00 15858100.00  \n",
       "score                 651.00      717.00      850.00  \n",
       "age                    37.00       43.00       88.00  \n",
       "objects                 5.00        7.00       10.00  \n",
       "balance                  NaN         NaN         NaN  \n",
       "products                2.00        2.00        4.00  \n",
       "creditcard              1.00        1.00        1.00  \n",
       "loyalty                 1.00        1.00        1.00  \n",
       "estimated_salary    98618.79   148330.97   199992.48  \n",
       "churn                   0.00        0.00        1.00  "
      ]
     },
     "execution_count": 9,
     "metadata": {},
     "output_type": "execute_result"
    }
   ],
   "source": [
    "data.loc[np.isnan(data['balance'])].describe().T  # Статистика по пользователям с пропущенным балансом"
   ]
  },
  {
   "cell_type": "markdown",
   "metadata": {},
   "source": [
    "Посмотрим статистику отдельно по тем пользователям, у которых баланс указан, сравним с предыдущей и попробуем выяснить закономерности."
   ]
  },
  {
   "cell_type": "code",
   "execution_count": 10,
   "metadata": {
    "scrolled": true
   },
   "outputs": [
    {
     "data": {
      "text/html": [
       "<div>\n",
       "<style scoped>\n",
       "    .dataframe tbody tr th:only-of-type {\n",
       "        vertical-align: middle;\n",
       "    }\n",
       "\n",
       "    .dataframe tbody tr th {\n",
       "        vertical-align: top;\n",
       "    }\n",
       "\n",
       "    .dataframe thead th {\n",
       "        text-align: right;\n",
       "    }\n",
       "</style>\n",
       "<table border=\"1\" class=\"dataframe\">\n",
       "  <thead>\n",
       "    <tr style=\"text-align: right;\">\n",
       "      <th></th>\n",
       "      <th>count</th>\n",
       "      <th>mean</th>\n",
       "      <th>std</th>\n",
       "      <th>min</th>\n",
       "      <th>25%</th>\n",
       "      <th>50%</th>\n",
       "      <th>75%</th>\n",
       "      <th>max</th>\n",
       "    </tr>\n",
       "  </thead>\n",
       "  <tbody>\n",
       "    <tr>\n",
       "      <th>userid</th>\n",
       "      <td>6383.00</td>\n",
       "      <td>15733104.80</td>\n",
       "      <td>71929.13</td>\n",
       "      <td>15608437.00</td>\n",
       "      <td>15670940.00</td>\n",
       "      <td>15732262.00</td>\n",
       "      <td>15795842.00</td>\n",
       "      <td>15858426.00</td>\n",
       "    </tr>\n",
       "    <tr>\n",
       "      <th>score</th>\n",
       "      <td>6383.00</td>\n",
       "      <td>651.14</td>\n",
       "      <td>96.93</td>\n",
       "      <td>350.00</td>\n",
       "      <td>584.00</td>\n",
       "      <td>652.00</td>\n",
       "      <td>718.00</td>\n",
       "      <td>850.00</td>\n",
       "    </tr>\n",
       "    <tr>\n",
       "      <th>age</th>\n",
       "      <td>6383.00</td>\n",
       "      <td>39.20</td>\n",
       "      <td>10.48</td>\n",
       "      <td>18.00</td>\n",
       "      <td>32.00</td>\n",
       "      <td>38.00</td>\n",
       "      <td>44.00</td>\n",
       "      <td>92.00</td>\n",
       "    </tr>\n",
       "    <tr>\n",
       "      <th>objects</th>\n",
       "      <td>6383.00</td>\n",
       "      <td>4.98</td>\n",
       "      <td>2.91</td>\n",
       "      <td>0.00</td>\n",
       "      <td>2.00</td>\n",
       "      <td>5.00</td>\n",
       "      <td>8.00</td>\n",
       "      <td>10.00</td>\n",
       "    </tr>\n",
       "    <tr>\n",
       "      <th>balance</th>\n",
       "      <td>6383.00</td>\n",
       "      <td>119827.49</td>\n",
       "      <td>30095.06</td>\n",
       "      <td>3768.69</td>\n",
       "      <td>100181.98</td>\n",
       "      <td>119839.69</td>\n",
       "      <td>139512.29</td>\n",
       "      <td>250898.09</td>\n",
       "    </tr>\n",
       "    <tr>\n",
       "      <th>products</th>\n",
       "      <td>6383.00</td>\n",
       "      <td>1.39</td>\n",
       "      <td>0.58</td>\n",
       "      <td>1.00</td>\n",
       "      <td>1.00</td>\n",
       "      <td>1.00</td>\n",
       "      <td>2.00</td>\n",
       "      <td>4.00</td>\n",
       "    </tr>\n",
       "    <tr>\n",
       "      <th>creditcard</th>\n",
       "      <td>6383.00</td>\n",
       "      <td>0.70</td>\n",
       "      <td>0.46</td>\n",
       "      <td>0.00</td>\n",
       "      <td>0.00</td>\n",
       "      <td>1.00</td>\n",
       "      <td>1.00</td>\n",
       "      <td>1.00</td>\n",
       "    </tr>\n",
       "    <tr>\n",
       "      <th>loyalty</th>\n",
       "      <td>6383.00</td>\n",
       "      <td>0.51</td>\n",
       "      <td>0.50</td>\n",
       "      <td>0.00</td>\n",
       "      <td>0.00</td>\n",
       "      <td>1.00</td>\n",
       "      <td>1.00</td>\n",
       "      <td>1.00</td>\n",
       "    </tr>\n",
       "    <tr>\n",
       "      <th>estimated_salary</th>\n",
       "      <td>6383.00</td>\n",
       "      <td>100717.35</td>\n",
       "      <td>57380.32</td>\n",
       "      <td>11.58</td>\n",
       "      <td>51736.85</td>\n",
       "      <td>101139.30</td>\n",
       "      <td>149596.61</td>\n",
       "      <td>199970.74</td>\n",
       "    </tr>\n",
       "    <tr>\n",
       "      <th>churn</th>\n",
       "      <td>6383.00</td>\n",
       "      <td>0.24</td>\n",
       "      <td>0.43</td>\n",
       "      <td>0.00</td>\n",
       "      <td>0.00</td>\n",
       "      <td>0.00</td>\n",
       "      <td>0.00</td>\n",
       "      <td>1.00</td>\n",
       "    </tr>\n",
       "  </tbody>\n",
       "</table>\n",
       "</div>"
      ],
      "text/plain": [
       "                   count        mean      std         min         25%  \\\n",
       "userid           6383.00 15733104.80 71929.13 15608437.00 15670940.00   \n",
       "score            6383.00      651.14    96.93      350.00      584.00   \n",
       "age              6383.00       39.20    10.48       18.00       32.00   \n",
       "objects          6383.00        4.98     2.91        0.00        2.00   \n",
       "balance          6383.00   119827.49 30095.06     3768.69   100181.98   \n",
       "products         6383.00        1.39     0.58        1.00        1.00   \n",
       "creditcard       6383.00        0.70     0.46        0.00        0.00   \n",
       "loyalty          6383.00        0.51     0.50        0.00        0.00   \n",
       "estimated_salary 6383.00   100717.35 57380.32       11.58    51736.85   \n",
       "churn            6383.00        0.24     0.43        0.00        0.00   \n",
       "\n",
       "                         50%         75%         max  \n",
       "userid           15732262.00 15795842.00 15858426.00  \n",
       "score                 652.00      718.00      850.00  \n",
       "age                    38.00       44.00       92.00  \n",
       "objects                 5.00        8.00       10.00  \n",
       "balance            119839.69   139512.29   250898.09  \n",
       "products                1.00        2.00        4.00  \n",
       "creditcard              1.00        1.00        1.00  \n",
       "loyalty                 1.00        1.00        1.00  \n",
       "estimated_salary   101139.30   149596.61   199970.74  \n",
       "churn                   0.00        0.00        1.00  "
      ]
     },
     "execution_count": 10,
     "metadata": {},
     "output_type": "execute_result"
    }
   ],
   "source": [
    "data.dropna().describe().T  "
   ]
  },
  {
   "cell_type": "markdown",
   "metadata": {},
   "source": [
    "Немного отличаются медианное значение и стандартное отклонение для количества продуктов и оттока, ну и можно посмотреть, скажем, наличие кредитки. Поподробнее рассмотрим их и не попавшие в describe() столбцы с текстовыми (object) значениями - пол и город.  Для удобства создадим столбец 'tick_balance' со значениями 0 - баланс не указан (NaN) и 1 - баланс указан."
   ]
  },
  {
   "cell_type": "code",
   "execution_count": 11,
   "metadata": {},
   "outputs": [
    {
     "data": {
      "text/html": [
       "<div>\n",
       "<style scoped>\n",
       "    .dataframe tbody tr th:only-of-type {\n",
       "        vertical-align: middle;\n",
       "    }\n",
       "\n",
       "    .dataframe tbody tr th {\n",
       "        vertical-align: top;\n",
       "    }\n",
       "\n",
       "    .dataframe thead th {\n",
       "        text-align: right;\n",
       "    }\n",
       "</style>\n",
       "<table border=\"1\" class=\"dataframe\">\n",
       "  <thead>\n",
       "    <tr style=\"text-align: right;\">\n",
       "      <th></th>\n",
       "      <th>userid</th>\n",
       "      <th>score</th>\n",
       "      <th>city</th>\n",
       "      <th>gender</th>\n",
       "      <th>age</th>\n",
       "      <th>objects</th>\n",
       "      <th>balance</th>\n",
       "      <th>products</th>\n",
       "      <th>creditcard</th>\n",
       "      <th>loyalty</th>\n",
       "      <th>estimated_salary</th>\n",
       "      <th>churn</th>\n",
       "      <th>tick_balance</th>\n",
       "    </tr>\n",
       "  </thead>\n",
       "  <tbody>\n",
       "    <tr>\n",
       "      <th>0</th>\n",
       "      <td>15677338</td>\n",
       "      <td>619</td>\n",
       "      <td>Ярославль</td>\n",
       "      <td>Ж</td>\n",
       "      <td>42</td>\n",
       "      <td>2</td>\n",
       "      <td>NaN</td>\n",
       "      <td>1</td>\n",
       "      <td>1</td>\n",
       "      <td>1</td>\n",
       "      <td>101348.88</td>\n",
       "      <td>1</td>\n",
       "      <td>0</td>\n",
       "    </tr>\n",
       "    <tr>\n",
       "      <th>1</th>\n",
       "      <td>15690047</td>\n",
       "      <td>608</td>\n",
       "      <td>Рыбинск</td>\n",
       "      <td>Ж</td>\n",
       "      <td>41</td>\n",
       "      <td>1</td>\n",
       "      <td>83807.86</td>\n",
       "      <td>1</td>\n",
       "      <td>0</td>\n",
       "      <td>1</td>\n",
       "      <td>112542.58</td>\n",
       "      <td>0</td>\n",
       "      <td>1</td>\n",
       "    </tr>\n",
       "    <tr>\n",
       "      <th>2</th>\n",
       "      <td>15662040</td>\n",
       "      <td>502</td>\n",
       "      <td>Ярославль</td>\n",
       "      <td>Ж</td>\n",
       "      <td>42</td>\n",
       "      <td>8</td>\n",
       "      <td>159660.80</td>\n",
       "      <td>3</td>\n",
       "      <td>1</td>\n",
       "      <td>0</td>\n",
       "      <td>113931.57</td>\n",
       "      <td>1</td>\n",
       "      <td>1</td>\n",
       "    </tr>\n",
       "    <tr>\n",
       "      <th>3</th>\n",
       "      <td>15744090</td>\n",
       "      <td>699</td>\n",
       "      <td>Ярославль</td>\n",
       "      <td>Ж</td>\n",
       "      <td>39</td>\n",
       "      <td>1</td>\n",
       "      <td>NaN</td>\n",
       "      <td>2</td>\n",
       "      <td>0</td>\n",
       "      <td>0</td>\n",
       "      <td>93826.63</td>\n",
       "      <td>0</td>\n",
       "      <td>0</td>\n",
       "    </tr>\n",
       "    <tr>\n",
       "      <th>4</th>\n",
       "      <td>15780624</td>\n",
       "      <td>850</td>\n",
       "      <td>Рыбинск</td>\n",
       "      <td>Ж</td>\n",
       "      <td>43</td>\n",
       "      <td>2</td>\n",
       "      <td>125510.82</td>\n",
       "      <td>1</td>\n",
       "      <td>1</td>\n",
       "      <td>1</td>\n",
       "      <td>79084.10</td>\n",
       "      <td>0</td>\n",
       "      <td>1</td>\n",
       "    </tr>\n",
       "  </tbody>\n",
       "</table>\n",
       "</div>"
      ],
      "text/plain": [
       "     userid  score       city gender  age  objects   balance  products  \\\n",
       "0  15677338    619  Ярославль      Ж   42        2       NaN         1   \n",
       "1  15690047    608    Рыбинск      Ж   41        1  83807.86         1   \n",
       "2  15662040    502  Ярославль      Ж   42        8 159660.80         3   \n",
       "3  15744090    699  Ярославль      Ж   39        1       NaN         2   \n",
       "4  15780624    850    Рыбинск      Ж   43        2 125510.82         1   \n",
       "\n",
       "   creditcard  loyalty  estimated_salary  churn  tick_balance  \n",
       "0           1        1         101348.88      1             0  \n",
       "1           0        1         112542.58      0             1  \n",
       "2           1        0         113931.57      1             1  \n",
       "3           0        0          93826.63      0             0  \n",
       "4           1        1          79084.10      0             1  "
      ]
     },
     "execution_count": 11,
     "metadata": {},
     "output_type": "execute_result"
    }
   ],
   "source": [
    "data['tick_balance'] = 1                                 # Создали столбец, где всем значениям присвоили 1\n",
    "data['tick_balance'].loc[np.isnan(data['balance'])] = 0  # Переприсвоили 0 там, где баланс NaN\n",
    "data.head()                                              # Смотрим, что получилось"
   ]
  },
  {
   "cell_type": "markdown",
   "metadata": {},
   "source": [
    "### Функция для вывода гистограмм\n",
    "\n",
    "Опишем функцию для вывода гистограмм по какому-либо признаку с делением по еще одному признаку. Это пригодится и в дальнейшем."
   ]
  },
  {
   "cell_type": "code",
   "execution_count": 12,
   "metadata": {},
   "outputs": [],
   "source": [
    "def my_displot(df, column_, hue_=None, bin_s=10, title=None, xlabel=None, ylabel=None):\n",
    "    sns.displot(\n",
    "        x=column_,\n",
    "        hue=hue_,       # разбивка цветом по дополнительному признаку\n",
    "        bins = bin_s,\n",
    "        multiple='stack',  # накопительные\n",
    "        data=df\n",
    "    )\n",
    "            \n",
    "    plt.xlabel(xlabel)\n",
    "    plt.ylabel(ylabel)\n",
    "    plt.title(title)    \n",
    "    #plt.show()   "
   ]
  },
  {
   "cell_type": "code",
   "execution_count": 13,
   "metadata": {
    "scrolled": false
   },
   "outputs": [
    {
     "data": {
      "image/png": "[encoded data removed]",
      "text/plain": [
       "<Figure size 479.25x360 with 1 Axes>"
      ]
     },
     "metadata": {
      "needs_background": "light"
     },
     "output_type": "display_data"
    },
    {
     "data": {
      "image/png": "[encoded data removed]",
      "text/plain": [
       "<Figure size 406.75x360 with 1 Axes>"
      ]
     },
     "metadata": {
      "needs_background": "light"
     },
     "output_type": "display_data"
    },
    {
     "data": {
      "image/png": "[encoded data removed]",
      "text/plain": [
       "<Figure size 411.5x360 with 1 Axes>"
      ]
     },
     "metadata": {
      "needs_background": "light"
     },
     "output_type": "display_data"
    },
    {
     "data": {
      "image/png": "[encoded data removed]",
      "text/plain": [
       "<Figure size 418.625x360 with 1 Axes>"
      ]
     },
     "metadata": {
      "needs_background": "light"
     },
     "output_type": "display_data"
    },
    {
     "data": {
      "image/png": "[encoded data removed]",
      "text/plain": [
       "<Figure size 402.375x360 with 1 Axes>"
      ]
     },
     "metadata": {
      "needs_background": "light"
     },
     "output_type": "display_data"
    }
   ],
   "source": [
    "# Создадим список признаков, интересующих в плане отсутствия баланса:\n",
    "feature_list = ['city', 'gender', 'products', 'creditcard', 'churn']  \n",
    "\n",
    "# В цикле вызовем построение гистограмм с разбивкой по признаку:\n",
    "for feature in feature_list:\n",
    "    my_displot(data, \n",
    "               'tick_balance', # Построение гистограммы в два столбца \"нет баланса\" - \"баланс указан\"\n",
    "               feature,        # Дополнительный признак \n",
    "               bin_s=3, \n",
    "               title=feature, # Заголовок - название признака\n",
    "               xlabel='Баланс не указан /    указан')"
   ]
  },
  {
   "cell_type": "markdown",
   "metadata": {},
   "source": [
    "Самый первый график дает интересный результат, в г. Ростов Великий всегда указан баланс на счете, а в двух других городах примерно в половине случаев он не указывается. По-видимому, не указанный баланс как-то связан с отделением банка, причем в Ростове Великом это поле является обязательным для заполнения, а в двух других городах - нет.\n",
    "\n",
    "Еще можно заметить, что для клиентов с одним банковским продуктом баланс указан примерно в 80% случаев, а у тех, у кого их два, он чаще не указывается. Выдвинем гипотезу, что возможные пропуски могут быть связаны со сложностями подсчета в зависимости от количества видов продукта, которым пользуется клиент. Тогда в Ростове картина по их количеству будет отличаться (скажем, у всех только один продукт)."
   ]
  },
  {
   "cell_type": "markdown",
   "metadata": {},
   "source": [
    "Посмотрим, как распределено количество продуктов для Ростова, и есть ли там кредитные карты."
   ]
  },
  {
   "cell_type": "code",
   "execution_count": 14,
   "metadata": {
    "scrolled": false
   },
   "outputs": [
    {
     "data": {
      "image/png": "[encoded data removed]",
      "text/plain": [
       "<Figure size 360x360 with 1 Axes>"
      ]
     },
     "metadata": {
      "needs_background": "light"
     },
     "output_type": "display_data"
    }
   ],
   "source": [
    "my_displot(data.query('city == \"Ростов Великий\"'), \n",
    "           'products',        \n",
    "                    # Дополнительный признак отсутствует \n",
    "            # bin_s не указываем \n",
    "            title='Гистограмма распределения в г. Ростов по количеству продуктов',\n",
    "            xlabel='Количество продуктов, шт')"
   ]
  },
  {
   "cell_type": "code",
   "execution_count": 15,
   "metadata": {},
   "outputs": [
    {
     "data": {
      "image/png": "[encoded data removed]",
      "text/plain": [
       "<Figure size 360x360 with 1 Axes>"
      ]
     },
     "metadata": {
      "needs_background": "light"
     },
     "output_type": "display_data"
    }
   ],
   "source": [
    "my_displot(data.query('city == \"Ростов Великий\" & products == 1'), # Ростов и только один продукт - предполагаемая кредитка\n",
    "           'creditcard',        \n",
    "                    # Дополнительный признак отсутствует \n",
    "                    # bin_s не указываем \n",
    "            title='Гистограмма распределения в г. Ростов по наличию кредитных карт',\n",
    "            xlabel='Нет карты / есть карта')"
   ]
  },
  {
   "cell_type": "markdown",
   "metadata": {},
   "source": [
    "Ничего особенного не выявлено, значит, количество продуктов или наличие только кредитной карты никак не влияет на подсчет баланса, и версия о сложностях подсчета при нескольких банковских продуктах не нашла поддержку. "
   ]
  },
  {
   "cell_type": "markdown",
   "metadata": {},
   "source": [
    "### Вывод по пропускам \n",
    "Не указанный баланс зависит от того, каким отделением банка предоставлялись данные. Отделения в г. Ростов Великий данные предоставили полностью, в двух других городах примерно в каждом втором случае баланс по каким-либо неизвестным на данный момент причинам в базу данных не попал (можно предположить, скорее, техническую ошибку, но можно и банковскую политику отдельных отделений банка).\n",
    "\n",
    "Так как для дальнейших целей анализа в этот раз нам не потребуются данные по балансу (нас интересует количество используемых банковских продуктов и возможность удержать клиента вне зависимости от баланса его денежных средств), пропуски заполнять не будем. Включать в анализ дополнительный столбец \"tick_balance\" так же не станем.\n"
   ]
  },
  {
   "cell_type": "markdown",
   "metadata": {},
   "source": [
    "## Исследовательский анализ данных\n",
    "\n",
    "Сегментация пользователей на основе данных о количестве потребляемых продуктов. Цель исследования: на основании сегментации определить вероятность их ухода."
   ]
  },
  {
   "cell_type": "markdown",
   "metadata": {},
   "source": [
    "### Сегментация (категоризация) пользователей по количеству используемых банковских продуктов\n",
    "\n",
    "На основе значений столбца Products нужно разделить клиентов на N категорий. Как мы уже видели, количество продуктов колеблется от 1 до 4. Посмотрим, как клиенты распределены по числу продуктов. Построим столбчатую гистограмму."
   ]
  },
  {
   "cell_type": "code",
   "execution_count": 16,
   "metadata": {},
   "outputs": [
    {
     "data": {
      "image/png": "[encoded data removed]",
      "text/plain": [
       "<Figure size 360x360 with 1 Axes>"
      ]
     },
     "metadata": {
      "needs_background": "light"
     },
     "output_type": "display_data"
    }
   ],
   "source": [
    "# используем определенную выше функцию\n",
    "my_displot(data,          \n",
    "           'products',        \n",
    "                    # Дополнительный признак отсутствует \n",
    "                    # bin_s не указываем \n",
    "            title='Зависимость количества клиентов от числа используемых продуктов', # Заголовок \n",
    "            xlabel='Количество продуктов, шт',\n",
    "            ylabel='Количество клиентов, чел'\n",
    "          )"
   ]
  },
  {
   "cell_type": "markdown",
   "metadata": {},
   "source": [
    "Выделяется три сегмента: с одним банковским продуктом, с двумя и малочисленный сегмент 3 или 4 продукта. Добавим к нашему датафрейму столбец \"категория\", разбив клиентов на категории \"1\", \"2\" и \"3\", включив в последнюю тех, у кого используются 3 и более продуктов."
   ]
  },
  {
   "cell_type": "code",
   "execution_count": 17,
   "metadata": {},
   "outputs": [],
   "source": [
    "cat = {1: 1, 2: 2, 3: 3, 4: 3}  # Создали словарь, где ключ - кол-во продуктов, значения - категория\n",
    "\n",
    "data['category'] = data['products'].replace(cat)  # Категоризируем с помощью replace, создав новый столбец 'category'\n"
   ]
  },
  {
   "cell_type": "markdown",
   "metadata": {},
   "source": [
    "### Проверка влияния категории клиента на вероятность ухода\n"
   ]
  },
  {
   "cell_type": "markdown",
   "metadata": {},
   "source": [
    "#### Определим зависимость категории и вероятности ухода\n",
    "\n",
    "Внутри каждой категории посмотрим на процент ушедших (столбец Churn). Представим в виде гистограммы с разбивкой цветом."
   ]
  },
  {
   "cell_type": "code",
   "execution_count": 18,
   "metadata": {
    "scrolled": false
   },
   "outputs": [
    {
     "data": {
      "image/png": "[encoded data removed]",
      "text/plain": [
       "<Figure size 402.375x360 with 1 Axes>"
      ]
     },
     "metadata": {
      "needs_background": "light"
     },
     "output_type": "display_data"
    }
   ],
   "source": [
    "my_displot(data,         \n",
    "           'category',        \n",
    "           'churn',         # Дополнительный признак \n",
    "            bin_s=4, \n",
    "            title='Зависимость количества клиентов и оттока от категории',  \n",
    "            xlabel='Категория',\n",
    "            ylabel='Количество клиентов, чел'\n",
    "          )"
   ]
  },
  {
   "cell_type": "markdown",
   "metadata": {},
   "source": [
    "Наиболее подвержена уходу третья категория (3-4 банковских продукта). Также высока доля уходящих (больше четверти) в первой категории (только один продукт)."
   ]
  },
  {
   "cell_type": "code",
   "execution_count": 19,
   "metadata": {
    "scrolled": false
   },
   "outputs": [
    {
     "name": "stdout",
     "output_type": "stream",
     "text": [
      "Размер третьей группы: 326\n"
     ]
    }
   ],
   "source": [
    "print('Размер третьей группы:', len(data.query('category == 3')))"
   ]
  },
  {
   "cell_type": "markdown",
   "metadata": {},
   "source": [
    "От 10 000 клиентов, описанных в данных, это лишь чуть больше 3%. Не очень показательно в целом, но имеет право быть отнесено к отдельной категории, так как в этой группе очень высокий отток клиентов."
   ]
  },
  {
   "cell_type": "markdown",
   "metadata": {},
   "source": [
    "#### Внутри каждой категории определим дополнительные показатели и создадим матрицы корреляций\n",
    "\n",
    "Как мы выяснили, баланс на счете в нашем случае не является показателем ввиду большого числа пропусков. Поэтому выделим остальные признаки, которые могут оказаться показательными при имеющейся сегментации. Это будут: наличие кредитной карты, активность, количество объектов в собственности, город, пол, возраст, баллы кредитного скоринга и оцененная зарплата. Запишем их в переменной characteristic.\n",
    "\n",
    "Создадим матрицы корреляций для выделенных сегментов и визуализируем их в виде тепловых карт. На их основе посмотрим, есть ли взаимосвязь дополнительных показателей и группы сегментации."
   ]
  },
  {
   "cell_type": "code",
   "execution_count": 20,
   "metadata": {
    "scrolled": false
   },
   "outputs": [
    {
     "data": {
      "image/png": "[encoded data removed]",
      "text/plain": [
       "<Figure size 720x720 with 2 Axes>"
      ]
     },
     "metadata": {
      "needs_background": "light"
     },
     "output_type": "display_data"
    },
    {
     "data": {
      "image/png": "[encoded data removed]",
      "text/plain": [
       "<Figure size 720x720 with 2 Axes>"
      ]
     },
     "metadata": {
      "needs_background": "light"
     },
     "output_type": "display_data"
    },
    {
     "data": {
      "image/png": "[encoded data removed]",
      "text/plain": [
       "<Figure size 720x720 with 2 Axes>"
      ]
     },
     "metadata": {
      "needs_background": "light"
     },
     "output_type": "display_data"
    }
   ],
   "source": [
    "characteristic = ['score', 'city', 'gender', 'age', 'objects', 'creditcard', 'loyalty', 'estimated_salary', 'churn']\n",
    "for n in range(1, 4):\n",
    "\n",
    "    cm = data.query('category == @n')[characteristic].corr() # вычисляем матрицу корреляций\n",
    "    plt.figure(figsize=(10, 10))\n",
    "\n",
    "    sns.heatmap(cm, annot=True, square=True) # тепловая карта с подписями для матрицы корреляций \n",
    "    plt.title('Тепловая карта корреляций для клиентов сегмента '+ str(n))\n",
    "    plt.show()\n"
   ]
  },
  {
   "cell_type": "markdown",
   "metadata": {},
   "source": [
    "   \n",
    "**Выводы на основе матриц корреляции** \n",
    "\n",
    "- В первом сегменте (1 банковский продукт) есть незначительная корреляция лояльности (активности) и возраста, а также наличия кредитной карты и объектов в собственности (что логично при кредитах, но не связано с оттоком). Наибольшая корреляция наблюдается у возраста и оттока - 0,3.\n",
    "\n",
    "- Во втором сегменте (2 продукта) также есть незначительная корреляция лояльности и возраста. Корреляция возраста и ухода - 0,19.\n",
    "\n",
    "- В третьем сегменте слабые корреляции количества объектов и возраста, лояльности и количества объектов, но эти данные нам ни о чем не говорят. Также есть слабая корреляция предполагаемого уровня доходов и оттока. Так как уровень дохода всего лишь предполагаемый, эти данные можно не учитывать. Как и в предыдущих сегментах наиболее ярко выражена корреляция возраста и ухода - 0,25.\n",
    "\n",
    "\n",
    "- В первом и третьем сегменте лояльность (активность) и отток обратно коррелируют друг с другом, значения отрицательные: -0,2 и -0,14. Это означает, что при росте одного другое уменьшается, то есть увеличение активности уменьшает вероятность скорого ухода, и наоборот. \n",
    "\n",
    "Хотя для большинства клиентов наблюдается взаимосвязь возраста и активности, непосредственно активность не связана с оттоком, рассматривать ее не будем.\n",
    "\n",
    "Как ни странно, матрицы показывают, что score — баллы кредитного скоринга, никак не коррелируют с оттоком. На их основе невозможно предсказать поведение клиента. \n"
   ]
  },
  {
   "cell_type": "markdown",
   "metadata": {},
   "source": [
    "Столбцы 'city' и 'gender' не попали в обычную матрицу корреляций. Категоризируем эти признаки.\n"
   ]
  },
  {
   "cell_type": "code",
   "execution_count": 21,
   "metadata": {},
   "outputs": [
    {
     "data": {
      "text/html": [
       "<div>\n",
       "<style scoped>\n",
       "    .dataframe tbody tr th:only-of-type {\n",
       "        vertical-align: middle;\n",
       "    }\n",
       "\n",
       "    .dataframe tbody tr th {\n",
       "        vertical-align: top;\n",
       "    }\n",
       "\n",
       "    .dataframe thead th {\n",
       "        text-align: right;\n",
       "    }\n",
       "</style>\n",
       "<table border=\"1\" class=\"dataframe\">\n",
       "  <thead>\n",
       "    <tr style=\"text-align: right;\">\n",
       "      <th></th>\n",
       "      <th>userid</th>\n",
       "      <th>score</th>\n",
       "      <th>age</th>\n",
       "      <th>objects</th>\n",
       "      <th>balance</th>\n",
       "      <th>products</th>\n",
       "      <th>creditcard</th>\n",
       "      <th>loyalty</th>\n",
       "      <th>estimated_salary</th>\n",
       "      <th>churn</th>\n",
       "      <th>tick_balance</th>\n",
       "      <th>category</th>\n",
       "      <th>gender_Ж</th>\n",
       "      <th>gender_М</th>\n",
       "      <th>city_Ростов Великий</th>\n",
       "      <th>city_Рыбинск</th>\n",
       "      <th>city_Ярославль</th>\n",
       "    </tr>\n",
       "  </thead>\n",
       "  <tbody>\n",
       "    <tr>\n",
       "      <th>0</th>\n",
       "      <td>15677338</td>\n",
       "      <td>619</td>\n",
       "      <td>42</td>\n",
       "      <td>2</td>\n",
       "      <td>NaN</td>\n",
       "      <td>1</td>\n",
       "      <td>1</td>\n",
       "      <td>1</td>\n",
       "      <td>101348.88</td>\n",
       "      <td>1</td>\n",
       "      <td>0</td>\n",
       "      <td>1</td>\n",
       "      <td>1</td>\n",
       "      <td>0</td>\n",
       "      <td>0</td>\n",
       "      <td>0</td>\n",
       "      <td>1</td>\n",
       "    </tr>\n",
       "    <tr>\n",
       "      <th>1</th>\n",
       "      <td>15690047</td>\n",
       "      <td>608</td>\n",
       "      <td>41</td>\n",
       "      <td>1</td>\n",
       "      <td>83807.86</td>\n",
       "      <td>1</td>\n",
       "      <td>0</td>\n",
       "      <td>1</td>\n",
       "      <td>112542.58</td>\n",
       "      <td>0</td>\n",
       "      <td>1</td>\n",
       "      <td>1</td>\n",
       "      <td>1</td>\n",
       "      <td>0</td>\n",
       "      <td>0</td>\n",
       "      <td>1</td>\n",
       "      <td>0</td>\n",
       "    </tr>\n",
       "    <tr>\n",
       "      <th>2</th>\n",
       "      <td>15662040</td>\n",
       "      <td>502</td>\n",
       "      <td>42</td>\n",
       "      <td>8</td>\n",
       "      <td>159660.80</td>\n",
       "      <td>3</td>\n",
       "      <td>1</td>\n",
       "      <td>0</td>\n",
       "      <td>113931.57</td>\n",
       "      <td>1</td>\n",
       "      <td>1</td>\n",
       "      <td>3</td>\n",
       "      <td>1</td>\n",
       "      <td>0</td>\n",
       "      <td>0</td>\n",
       "      <td>0</td>\n",
       "      <td>1</td>\n",
       "    </tr>\n",
       "    <tr>\n",
       "      <th>3</th>\n",
       "      <td>15744090</td>\n",
       "      <td>699</td>\n",
       "      <td>39</td>\n",
       "      <td>1</td>\n",
       "      <td>NaN</td>\n",
       "      <td>2</td>\n",
       "      <td>0</td>\n",
       "      <td>0</td>\n",
       "      <td>93826.63</td>\n",
       "      <td>0</td>\n",
       "      <td>0</td>\n",
       "      <td>2</td>\n",
       "      <td>1</td>\n",
       "      <td>0</td>\n",
       "      <td>0</td>\n",
       "      <td>0</td>\n",
       "      <td>1</td>\n",
       "    </tr>\n",
       "    <tr>\n",
       "      <th>4</th>\n",
       "      <td>15780624</td>\n",
       "      <td>850</td>\n",
       "      <td>43</td>\n",
       "      <td>2</td>\n",
       "      <td>125510.82</td>\n",
       "      <td>1</td>\n",
       "      <td>1</td>\n",
       "      <td>1</td>\n",
       "      <td>79084.10</td>\n",
       "      <td>0</td>\n",
       "      <td>1</td>\n",
       "      <td>1</td>\n",
       "      <td>1</td>\n",
       "      <td>0</td>\n",
       "      <td>0</td>\n",
       "      <td>1</td>\n",
       "      <td>0</td>\n",
       "    </tr>\n",
       "  </tbody>\n",
       "</table>\n",
       "</div>"
      ],
      "text/plain": [
       "     userid  score  age  objects   balance  products  creditcard  loyalty  \\\n",
       "0  15677338    619   42        2       NaN         1           1        1   \n",
       "1  15690047    608   41        1  83807.86         1           0        1   \n",
       "2  15662040    502   42        8 159660.80         3           1        0   \n",
       "3  15744090    699   39        1       NaN         2           0        0   \n",
       "4  15780624    850   43        2 125510.82         1           1        1   \n",
       "\n",
       "   estimated_salary  churn  tick_balance  category  gender_Ж  gender_М  \\\n",
       "0         101348.88      1             0         1         1         0   \n",
       "1         112542.58      0             1         1         1         0   \n",
       "2         113931.57      1             1         3         1         0   \n",
       "3          93826.63      0             0         2         1         0   \n",
       "4          79084.10      0             1         1         1         0   \n",
       "\n",
       "   city_Ростов Великий  city_Рыбинск  city_Ярославль  \n",
       "0                    0             0               1  \n",
       "1                    0             1               0  \n",
       "2                    0             0               1  \n",
       "3                    0             0               1  \n",
       "4                    0             1               0  "
      ]
     },
     "execution_count": 21,
     "metadata": {},
     "output_type": "execute_result"
    }
   ],
   "source": [
    "data_new = pd.get_dummies(data, columns=['gender', 'city'])  # применили унитарное кодирование (One Hot Encoding)\n",
    "data_new.head()"
   ]
  },
  {
   "cell_type": "markdown",
   "metadata": {},
   "source": [
    "Еще раз создадим набор столбцов, включающий категории городов и пола. Затем воспользуемся библиотекой phik. Найдем глобальную корреляцию признаков и матрицу корреляций."
   ]
  },
  {
   "cell_type": "code",
   "execution_count": 22,
   "metadata": {},
   "outputs": [],
   "source": [
    "df=data_new.drop(columns=['userid', 'balance', 'tick_balance', 'category']) \n",
    "              # Создали новый датафрейм для удобства без трех столбцов, не требующихся для анализа"
   ]
  },
  {
   "cell_type": "code",
   "execution_count": 23,
   "metadata": {
    "scrolled": false
   },
   "outputs": [
    {
     "name": "stdout",
     "output_type": "stream",
     "text": [
      "interval columns not set, guessing: ['score', 'age', 'objects', 'products', 'creditcard', 'loyalty', 'estimated_salary', 'churn', 'gender_Ж', 'gender_М', 'city_Ростов Великий', 'city_Рыбинск', 'city_Ярославль']\n"
     ]
    },
    {
     "data": {
      "image/png": "[encoded data removed]",
      "text/plain": [
       "<Figure size 288x360 with 2 Axes>"
      ]
     },
     "metadata": {
      "needs_background": "light"
     },
     "output_type": "display_data"
    }
   ],
   "source": [
    "# Глобальная корреляция, выражающая общую корреляцию одной переменной со всеми другими переменными в наборе данных\n",
    "global_correlation, global_labels = df.global_phik() \n",
    "\n",
    "plot_correlation_matrix(global_correlation, \n",
    "                        x_labels=[''], y_labels=global_labels,\n",
    "                        figsize=(4, 5)\n",
    "                       )\n",
    "plt.tight_layout()"
   ]
  },
  {
   "cell_type": "markdown",
   "metadata": {},
   "source": [
    "Как видим, наибольшая корреляция с остальными признаками (не берем в расчет появившиеся категории городов и пола, они сильно коррелируют друг с другом) наблюдается как раз у интересующего нас столбца churn, затем количество продуктов и возраст, в меньшей степени лояльность и кредитный скоринг. Отдельно нужно будет рассмотреть влияние города и пол. На это и обратим внимание далее."
   ]
  },
  {
   "cell_type": "code",
   "execution_count": 24,
   "metadata": {
    "scrolled": false
   },
   "outputs": [
    {
     "name": "stdout",
     "output_type": "stream",
     "text": [
      "interval columns not set, guessing: ['score', 'age', 'objects', 'products', 'creditcard', 'loyalty', 'estimated_salary', 'churn', 'gender_Ж', 'gender_М', 'city_Ростов Великий', 'city_Рыбинск', 'city_Ярославль']\n"
     ]
    },
    {
     "data": {
      "image/png": "[encoded data removed]",
      "text/plain": [
       "<Figure size 720x648 with 2 Axes>"
      ]
     },
     "metadata": {
      "needs_background": "light"
     },
     "output_type": "display_data"
    }
   ],
   "source": [
    "# Корреляция phik для всех переменных\n",
    "phik_overview = df.phik_matrix()\n",
    "\n",
    "plot_correlation_matrix(phik_overview.values, \n",
    "                        x_labels=phik_overview.columns, \n",
    "                        y_labels=phik_overview.index, \n",
    "                        figsize=(10, 9)\n",
    "                       )\n",
    "plt.tight_layout()"
   ]
  },
  {
   "cell_type": "markdown",
   "metadata": {},
   "source": [
    "#### Выводы на основе матриц корреляции\n",
    "\n",
    "За пределами рассматриваемых значений корреляции оттока с остальными признаками наблюдается некоторая связь возраста и лояльности (активности), а также возраста и количества продуктов. \n",
    "\n",
    "Наибольшая корреляция оттока наблюдается с возрастом и с количеством продуктов. Подтвердилась корреляция оттока и активности, а также интересно будет посмотреть на корреляцию оттока и города, оттока и пола клиента.\n"
   ]
  },
  {
   "cell_type": "markdown",
   "metadata": {},
   "source": [
    "#### Изучение взаимосвязи возраста с активностью \n",
    "\n",
    "Изучим взаимосвязь возраста и лояльности в целом. Построим гистограмму без накопления для распределения признака - возраст."
   ]
  },
  {
   "cell_type": "code",
   "execution_count": 25,
   "metadata": {
    "scrolled": false
   },
   "outputs": [
    {
     "data": {
      "image/png": "[encoded data removed]",
      "text/plain": [
       "<Figure size 402.375x360 with 1 Axes>"
      ]
     },
     "metadata": {
      "needs_background": "light"
     },
     "output_type": "display_data"
    }
   ],
   "source": [
    "sns.displot(x='age',\n",
    "         bins=20,\n",
    "         hue='loyalty',       # разбивка цветом по дополнительному признаку, без накопления\n",
    "         data=df)  \n",
    "plt.show()\n"
   ]
  },
  {
   "cell_type": "markdown",
   "metadata": {},
   "source": [
    "Не очевидный вывод. Примерно до 33-34 лет среди клиентов немного больше тех, кто проявляет свою активность, затем в возрастной категории от 34-35 лет до 50-52 общая активность снижается, а после 55 лет активных клиентов опять становится подавляющее большинство.  "
   ]
  },
  {
   "cell_type": "markdown",
   "metadata": {},
   "source": [
    "#### Изучение взаимосвязи оттока с другими признаками по выделенным категориям клиентов (количеству продуктов)"
   ]
  },
  {
   "cell_type": "code",
   "execution_count": 26,
   "metadata": {
    "scrolled": false
   },
   "outputs": [
    {
     "name": "stdout",
     "output_type": "stream",
     "text": [
      "На графиках ниже использованы цвета: blue - для тех, кто остались, orange - отток\n"
     ]
    },
    {
     "data": {
      "image/png": "[encoded data removed]",
      "text/plain": [
       "<Figure size 432x288 with 1 Axes>"
      ]
     },
     "metadata": {
      "needs_background": "light"
     },
     "output_type": "display_data"
    },
    {
     "data": {
      "image/png": "[encoded data removed]",
      "text/plain": [
       "<Figure size 432x288 with 1 Axes>"
      ]
     },
     "metadata": {
      "needs_background": "light"
     },
     "output_type": "display_data"
    },
    {
     "data": {
      "image/png": "[encoded data removed]",
      "text/plain": [
       "<Figure size 432x288 with 1 Axes>"
      ]
     },
     "metadata": {
      "needs_background": "light"
     },
     "output_type": "display_data"
    }
   ],
   "source": [
    "print('На графиках ниже использованы цвета: blue - для тех, кто остались, orange - отток')\n",
    "\n",
    "for n in range(1, 4):  # В цикле построим графики для всех трех категорий\n",
    "    \n",
    "    sns.distplot(data.query('churn == 0 & category == @n')['age'], bins = 12, color='blue') \n",
    "    sns.distplot(data.query('churn == 1 & category == @n')['age'], bins = 12, color='orange')\n",
    "    \n",
    "    plt.xlabel('Возраст, лет')\n",
    "    plt.title('Категория ' + str(n))\n",
    "    plt.show()\n"
   ]
  },
  {
   "cell_type": "markdown",
   "metadata": {},
   "source": [
    "#### Выводы по возрасту\n",
    "В целом чем клиенты старше, тем более склонны к оттоку. В первой группе отток возрастает уже к 30 годам пользователей, во второй позже, к 40. \n",
    "\n",
    "Третья группа не очень показательна ввиду малочисленности, но в ней после 45 лет клиента практически все клиенты уходят, за исключением нескольких 65+.\n",
    "\n",
    "С выводами по возрасту вообще надо быть осторожными, так как после определенной границы отток обуславливается естественными причинами (смертью)."
   ]
  },
  {
   "cell_type": "markdown",
   "metadata": {},
   "source": [
    "**Выводы**\n",
    "\n",
    "- В первом сегменте \"в группу риска\" попадают клиенты старше 30 лет. Доля оттока с увеличением возраста только растет.\n",
    "- Во втором сегменте доля ушедших намного меньше, доля оттока увеличивается после 40 лет.\n",
    "- Третий сегмент не показателен в плане возраста."
   ]
  },
  {
   "cell_type": "markdown",
   "metadata": {},
   "source": [
    "### Функция для вывода графиков по признакам\n",
    "\n",
    "Опишем функцию для вывода графиков по какому-либо признаку, скоррелированному с оттоком, с делением по категориям клиентов."
   ]
  },
  {
   "cell_type": "code",
   "execution_count": 27,
   "metadata": {},
   "outputs": [],
   "source": [
    "# Определим функцию отрисовки графика по требуемому признаку    \n",
    "def my_catplot(col_y, dat=data, x='category', hue='churn'):\n",
    "\n",
    "    sns.catplot(               # используем catplot\n",
    "        x, col=col_y, \n",
    "        col_wrap=3,            # не более 3х графиков в ряд  \n",
    "        data=dat, hue=hue,\n",
    "        kind='count',          # подсчет количества\n",
    "        height=4, aspect=.8    # высота графиков и толщина столбцов\n",
    "    )\n",
    "    plt.show()   "
   ]
  },
  {
   "cell_type": "code",
   "execution_count": 28,
   "metadata": {
    "scrolled": false
   },
   "outputs": [
    {
     "data": {
      "image/png": "[encoded data removed]",
      "text/plain": [
       "<Figure size 733.575x288 with 3 Axes>"
      ]
     },
     "metadata": {
      "needs_background": "light"
     },
     "output_type": "display_data"
    },
    {
     "data": {
      "image/png": "[encoded data removed]",
      "text/plain": [
       "<Figure size 733.575x288 with 2 Axes>"
      ]
     },
     "metadata": {
      "needs_background": "light"
     },
     "output_type": "display_data"
    },
    {
     "data": {
      "image/png": "[encoded data removed]",
      "text/plain": [
       "<Figure size 733.575x288 with 2 Axes>"
      ]
     },
     "metadata": {
      "needs_background": "light"
     },
     "output_type": "display_data"
    }
   ],
   "source": [
    "feature_list = ['city', 'gender', 'loyalty'] # список признаков на анализ\n",
    "for feature in feature_list:\n",
    "    my_catplot(feature)"
   ]
  },
  {
   "cell_type": "markdown",
   "metadata": {},
   "source": [
    "#### Выводы по городу, полу, лояльности\n",
    "По городам в целом: больше всего клиентов уходит в Ростове Великом, меньше в Рыбинске, меньше всего в Ярославле.\n",
    "\n",
    "По городам и категориям:\n",
    "- В первой категории отток в порядке убывания: Ростов (почти столько же, сколько отсталось), затем Ярославль и Рыбинск примерно в равных долях (треть от оставшихся). Отток во всех городах выше, чем для 2й категории.\n",
    "- Во второй категории в порядке убывания: Ростов, Рыбинск, Ярославль. Наименьший отток среди трех групп.\n",
    "- В третьей категории: Ростов, Ярославль, Рыбинск. В целом наибольший отток в процентном соотношении среди групп.\n",
    "\n",
    "В зависимости от пола: \n",
    "- Отток мужчин меньше - не зависимо от категории (количества используемых продуктов).\n",
    "- Наибольшая доля уходящих - среди женщин в первой категории, наименьшая - среди мужчин во второй. Третью категорию анализировать сложно ввиду малочисленности и практически поголовного оттока.  \n",
    "\n",
    "По лояльности: \n",
    "- Меньше лояльность (активность) - больше отток.\n",
    "- Наибольший отток среди 1 категории, не лояльных; наименьший - среди 2 категории + активных клиентов."
   ]
  },
  {
   "cell_type": "code",
   "execution_count": 29,
   "metadata": {
    "scrolled": true
   },
   "outputs": [
    {
     "data": {
      "image/png": "[encoded data removed]",
      "text/plain": [
       "<Figure size 733.575x288 with 2 Axes>"
      ]
     },
     "metadata": {
      "needs_background": "light"
     },
     "output_type": "display_data"
    }
   ],
   "source": [
    "my_catplot('creditcard') # отдельно посмотрим признак - есть кредитная карта"
   ]
  },
  {
   "cell_type": "markdown",
   "metadata": {},
   "source": [
    "Отдельно хотелось проверить гипотезу об иной долее оттока (большей или меньшей) владельцев единственного продукта - кредитной карты. Тепловая карта давала ничтожно малый коэффициент корреляции (ноль или 0,03) для пар кредитка - отток и кредитка - количество продуктов. И из гистограмм очевидно, что нет никакой разницы, является ли единственным продуктом кредитная карта, или есть помимо нее еще что-либо. Учтем это при дальнейших рекомендациях и не будем каким-либо образом акцентировать внимание именно на этом продукте."
   ]
  },
  {
   "cell_type": "markdown",
   "metadata": {},
   "source": [
    "##  Проверка статистических гипотез\n",
    "\n",
    "Сформулируем гипотезы и проверим их методами статистического анализа."
   ]
  },
  {
   "cell_type": "markdown",
   "metadata": {},
   "source": [
    "### Гипотеза №1. Доход клиентов, которые пользуются двумя продуктами банка, и теми, которые пользуются одним, отличается\n",
    "\n",
    "Сначала проверим, подходят ли наши выборки для проверки статистических гипотез. Проведем анализ на предмет выбросов. Найдем, на сколько отличается количество пользователей в группах.\n",
    "\n",
    "Для начала изучим распределение предполагаемого дохода ('estimated_salary')."
   ]
  },
  {
   "cell_type": "code",
   "execution_count": 30,
   "metadata": {},
   "outputs": [
    {
     "data": {
      "image/png": "[encoded data removed]",
      "text/plain": [
       "<Figure size 432x288 with 1 Axes>"
      ]
     },
     "metadata": {
      "needs_background": "light"
     },
     "output_type": "display_data"
    }
   ],
   "source": [
    "sns.distplot(data['estimated_salary'], bins = 10, color='blue')\n",
    "\n",
    "plt.xlabel('Доход')\n",
    "plt.title('Гистограмма распределения дохода')    \n",
    "plt.show()"
   ]
  },
  {
   "cell_type": "markdown",
   "metadata": {},
   "source": [
    "Не похоже, что мы имеем дело с нормально распределенными данными. Посмотрим на выбросы."
   ]
  },
  {
   "cell_type": "code",
   "execution_count": 31,
   "metadata": {},
   "outputs": [
    {
     "data": {
      "image/png": "[encoded data removed]",
      "text/plain": [
       "<Figure size 432x288 with 1 Axes>"
      ]
     },
     "metadata": {
      "needs_background": "light"
     },
     "output_type": "display_data"
    }
   ],
   "source": [
    "x_values = pd.Series(range(0,len(data['estimated_salary'])))\n",
    "plt.scatter(x_values, data['estimated_salary'], alpha = 0.3) \n",
    "plt.show()"
   ]
  },
  {
   "cell_type": "markdown",
   "metadata": {},
   "source": [
    "Выбросов не наблюдается, о том же говорят и статистические данные по этому столбцу (квартили распределены равномерно, среднее арифметическое очень близко к медианному значению). "
   ]
  },
  {
   "cell_type": "code",
   "execution_count": 32,
   "metadata": {
    "scrolled": true
   },
   "outputs": [
    {
     "name": "stdout",
     "output_type": "stream",
     "text": [
      "Отношение размеров групп: 1.1076252723311546\n"
     ]
    }
   ],
   "source": [
    "print('Отношение размеров групп:', len(data.query('category == 1')) / len(data.query('category == 2')))"
   ]
  },
  {
   "cell_type": "markdown",
   "metadata": {},
   "source": [
    "Сформулируем гипотезы:\n",
    "- H0: Нет статистической значимости различий между уровнями признака дохода в рассматриваемых выборках (группах);\n",
    "- H1: Есть статистическая значимость различий между уровнями признака дохода в рассматриваемых выборках.\n",
    "\n",
    "Так как мы имеем дело со значениями, не подчиняющимися нормальному распределению, и с выборками, отличающимися по размеру, то для возможности отвержения нулевой гипотезы применим непараметрический критерий Манна-Уитни. Так как отклонение наблюдаемого значения от предполагаемого возможно в обе стороны (доход первой группы либо больше, либо меньше дохода второй), то альтернативная гипотеза является двусторонней. Учтем это, указав в критерии Манна-Уитни mannwhitneyu() параметр alternative='two-sided'."
   ]
  },
  {
   "cell_type": "code",
   "execution_count": 33,
   "metadata": {
    "scrolled": true
   },
   "outputs": [
    {
     "name": "stdout",
     "output_type": "stream",
     "text": [
      "p-значение:  0.4079566651927651\n",
      "Не получилось отвергнуть нулевую гипотезу, вывод о различии сделать нельзя.\n"
     ]
    }
   ],
   "source": [
    "alpha = 0.01  # Задали критический уровень статистической значимости\n",
    "\n",
    "results = st.mannwhitneyu(\n",
    "    data.query('category == 1')['estimated_salary'], \n",
    "    data.query('category == 2')['estimated_salary'],\n",
    "    alternative='two-sided')  # Тест двусторонний\n",
    "\n",
    "print('p-значение: ', results.pvalue)\n",
    "\n",
    "if results.pvalue < alpha:\n",
    "    print('Отвергаем нулевую гипотезу: разница статистически значима.')\n",
    "else:\n",
    "    print(\n",
    "        'Не получилось отвергнуть нулевую гипотезу, вывод о различии сделать нельзя.'\n",
    "    ) "
   ]
  },
  {
   "cell_type": "markdown",
   "metadata": {},
   "source": [
    "Вывод о различии доходов сделать нельзя, так как статистически значимого отличия между группами при принятом уровне статистической значимости в 0.01 нет."
   ]
  },
  {
   "cell_type": "markdown",
   "metadata": {},
   "source": [
    "### Гипотеза №2. Возраст клиентов, ушедших из банка, и тех, кто остался, отличается\n",
    "\n",
    "Выбросов по возрасту нет. Распределение возрастп подчиняется нормальному закону. Размер групп в данном случае не важен, так как используем двусторонний непараметрический критерий Манна-Уитни.\n",
    "\n",
    "Сформулируем гипотезы:\n",
    "- H0: Нет статистической значимости различий между уровнями признака \"возраст\" в рассматриваемых выборках (группах);\n",
    "- H1: Есть статистическая значимость различий между уровнями признака \"возраст\" в рассматриваемых выборках."
   ]
  },
  {
   "cell_type": "code",
   "execution_count": 34,
   "metadata": {},
   "outputs": [
    {
     "name": "stdout",
     "output_type": "stream",
     "text": [
      "p-значение:  3.2104014319371675e-230\n",
      "Отвергаем нулевую гипотезу: разница статистически значима.\n"
     ]
    }
   ],
   "source": [
    "alpha = 0.01  # Задали критический уровень статистической значимости\n",
    "\n",
    "results = st.mannwhitneyu(\n",
    "    data.query('churn == 0')['age'], \n",
    "    data.query('churn == 1')['age'],\n",
    "    alternative='two-sided')  # Тест двусторонний\n",
    "\n",
    "print('p-значение: ', results.pvalue)\n",
    "\n",
    "if results.pvalue < alpha:\n",
    "    print('Отвергаем нулевую гипотезу: разница статистически значима.')\n",
    "else:\n",
    "    print(\n",
    "        'Не получилось отвергнуть нулевую гипотезу, вывод о различии сделать нельзя.'\n",
    "    ) "
   ]
  },
  {
   "cell_type": "markdown",
   "metadata": {},
   "source": [
    "Даже при уровне статистической значимости 0,01 мы отвергаем нулевую гипотезу, то есть признаем, что разница в возрасте среди ушедших и среди оставшихся статистически значима. Это подтверждает выводы на основе гистограмм из п. 4.2.4, что более молодые остаются чаще."
   ]
  },
  {
   "cell_type": "markdown",
   "metadata": {},
   "source": [
    "### Гипотеза №3. Баллы кредитного скоринга клиентов, пользующихся двумя продуктами банка, и тех, кто пользуется одним, отличаются\n",
    "\n",
    "Выбросов, согласно статистическим данным, нет. Аналогично предыдущим проверкам гипотез, используем критерий Манна-Уилка.\n",
    "\n",
    "Гипотезы:\n",
    "- H0: Нет статистической значимости различий между уровнями признака \"баллы кредитного скоринга\" в рассматриваемых выборках (группах);\n",
    "- H1: Есть статистическая значимость различий между уровнями признака \"баллы кредитного скоринга\" в рассматриваемых выборках."
   ]
  },
  {
   "cell_type": "code",
   "execution_count": 35,
   "metadata": {
    "scrolled": true
   },
   "outputs": [
    {
     "name": "stdout",
     "output_type": "stream",
     "text": [
      "p-значение:  0.15729739033138807\n",
      "Не получилось отвергнуть нулевую гипотезу, вывод о различии сделать нельзя.\n"
     ]
    }
   ],
   "source": [
    "alpha = 0.01  # Задали критический уровень статистической значимости\n",
    "\n",
    "results = st.mannwhitneyu(\n",
    "    data.query('category == 1')['score'], \n",
    "    data.query('category == 2')['score'],\n",
    "    alternative='two-sided')  # Тест двусторонний\n",
    "\n",
    "print('p-значение: ', results.pvalue)\n",
    "\n",
    "if results.pvalue < alpha:\n",
    "    print('Отвергаем нулевую гипотезу: разница статистически значима.')\n",
    "else:\n",
    "    print(\n",
    "        'Не получилось отвергнуть нулевую гипотезу, вывод о различии сделать нельзя.'\n",
    "    ) "
   ]
  },
  {
   "cell_type": "markdown",
   "metadata": {},
   "source": [
    "Да, как и показали ранее матрицы корреляции, баллы кредитного скоринга при уровне статистической значимости в 0,01 статистически значимых отличий в группах не имеют."
   ]
  },
  {
   "cell_type": "markdown",
   "metadata": {},
   "source": [
    "### Выводы по проверкам статистических гипотез\n",
    "\n",
    "- Нет статистически значимой разницы в распределении признака между группой А и В. (Оцененный доход клиентов и баллы кредитного скоринга среди выделенных сегментов клиентов банка - имеющих один или два банковских продукта- не имеют статистически значимых отличий). \n",
    "\n",
    "- Возраст клиента имеет статистическую значимость при оттоке. "
   ]
  },
  {
   "cell_type": "markdown",
   "metadata": {},
   "source": [
    "### Итак, имеем:\n",
    "\n",
    "- Клиенты, имеющие два банковских продукта в своем распоряжении, уходят реже, чем те, у кого только один продукт или 3-4. Поэтому основной задачей должно стоять предложение второго банковского продукта тем, у кого уже есть один, так как данный сегмент клиентов наиболее многочисленен, но склонен к оттоку.\n",
    "- Потеря лояльности (активности клиента) довольно тесно связана с оттоком, поэтому менеджерам желательно поддерживать активность клиента, привлекая его внимание в случае отсутствия действий в принятый срок какими-либо предложениями нового продукта (что особенно актуально для первого сегмента, то есть имеющих всего один продукт) либо изменениями условий или бонусами (актуальнее для второго сегмента, чтобы не увеличивать число продуктов). \n",
    "- Особое внимание следует уделять клиентам старше 30 лет (для первого сегмента) и 40 лет (для второго сегмента), причем чем старше клиент, тем внимательнее к нему относиться, так как с увеличением возраста клиента возрастает вероятность его оттока.\n",
    "- Для тех клиентов, у кого продуктов уже 3 или 4, можно было бы попытаться вносить предложения снизить число продуктов до двух, но, ввиду малочисленности данного сегмента клиентов (всего около 3%) и отсутствия на данный момент информации о технической возможности, данная рекомендация может не выполняться или выполняться в последнюю очередь.\n"
   ]
  },
  {
   "cell_type": "markdown",
   "metadata": {},
   "source": [
    "## Выводы и рекомендации в зависимости от сегмента клиента\n",
    "\n",
    "Общая стратегия. Коммуникация, активизирующая действия клиентов, увеличивает вероятность удержания. \n",
    "Активизировать действия клиентов и предотвратить снижение вовлеченности можно звонками, письмами (рассылками) с предложениями, бонусами, эксклюзивными и персонализированными предложениями вне привязки к праздничным датам или даже просто письмами, например, к дню рождения. Особенно актуально повысить качество обслуживания и лояльность в городах Ростов Великий и Рыбинск, так как там отток больше, чем в отделениях Ярославля. Имеет смысл дополнительно уделять внимание клиентам старше 35 лет, повышая их информированность о продуктах и услугах.\n",
    "\n",
    "В целом, в зоне риска находятся клиенты, имеющие один признак или их сочетание из следующих: имеющие всего один банковский продукт, проживающие в городах Ростов Великий или Рыбинск, возраста 35-50 лет, преимущественно женщины. Портрет наименее склонного к оттоку клиента: молодой мужчина из Ярославля, активно пользующийся двумя продуктами банка. Противоположность - женщина из Ростова после 40 лет с одним банковским продуктом.\n",
    "\n",
    "Так как привлечение нового клиента обходится в несколько раз дороже, чем удержание старого, на основе проведенного исследования можно попытаться составить ряд предложений, способных удержать клиентов на длительной перспективе.\n",
    "\n",
    "Для уже имеющих два и более продукта не стоит активно предлагать новые карты или кредиты, но можно постараться предложить продукты на долгосрочные контракты (накопительные или инвестиционные счета); при достаточно большом балансе или количестве имеющихся в собственности объектов - сейфовые ячейки; для всех уровней дохода - кэшбэк и бонусы. В зависимости от баллов скоринга можно предложить кредит наличными или оформление ипотеки.\n",
    "\n",
    "Для тех, у кого пока имеется только один банковский продукт, выбор предложений намного шире. Можно предложить, например, вторую карту, отличную от имеющейся (дебетовую или кредитную), при имеющейся дебетовой карте открыть накопительный или инвестиционный счет. Преимущественно при небольшом количестве объектов в собственности (до 3-4) - предлагать ипотечный кредит или кредит наличными на покупку. Кэшбэк, бонусы обязательны к предложению всем клиентам.\n",
    "\n",
    "Прочие меры по повышению лояльности клиентов находятся в ведении отдела маркетинга. Аналитик данных всегда готов провести исследования и подтвердить или отвергнуть гипотезу об эффективности проведенных мероприятий по удержанию клиентов. "
   ]
  },
  {
   "cell_type": "markdown",
   "metadata": {},
   "source": [
    "## Визуальные материалы\n",
    "\n",
    "* [Дашборд](https://public.tableau.com/app/profile/nadezhda8107/viz/dash_banks/Dashboard1)\n",
    "* [Презентация](https://disk.yandex.ru/i/jNO2zXmc9NKrAg)"
   ]
  }
 ],
 "metadata": {
  "ExecuteTimeLog": [
   {
    "duration": 169,
    "start_time": "2022-04-30T09:38:44.823Z"
   },
   {
    "duration": 8181,
    "start_time": "2022-04-30T09:45:28.332Z"
   },
   {
    "duration": 554,
    "start_time": "2022-04-30T09:51:25.863Z"
   },
   {
    "duration": 365,
    "start_time": "2022-04-30T09:51:54.151Z"
   },
   {
    "duration": 369,
    "start_time": "2022-04-30T09:52:24.595Z"
   },
   {
    "duration": 394,
    "start_time": "2022-04-30T09:53:03.453Z"
   },
   {
    "duration": 9,
    "start_time": "2022-04-30T09:54:13.425Z"
   },
   {
    "duration": 9,
    "start_time": "2022-04-30T09:54:20.180Z"
   },
   {
    "duration": 393,
    "start_time": "2022-04-30T09:56:31.485Z"
   },
   {
    "duration": 400,
    "start_time": "2022-05-03T08:23:17.870Z"
   },
   {
    "duration": 674,
    "start_time": "2022-05-03T08:24:34.618Z"
   },
   {
    "duration": 43,
    "start_time": "2022-05-03T08:24:58.089Z"
   },
   {
    "duration": 10,
    "start_time": "2022-05-03T08:31:11.340Z"
   },
   {
    "duration": 35,
    "start_time": "2022-05-03T08:37:07.249Z"
   },
   {
    "duration": 31,
    "start_time": "2022-05-03T08:38:48.899Z"
   },
   {
    "duration": 10,
    "start_time": "2022-05-03T08:44:49.969Z"
   },
   {
    "duration": 37,
    "start_time": "2022-05-03T08:51:20.791Z"
   },
   {
    "duration": 3,
    "start_time": "2022-05-03T08:57:07.833Z"
   },
   {
    "duration": 93,
    "start_time": "2022-05-03T08:58:47.225Z"
   },
   {
    "duration": 16,
    "start_time": "2022-05-03T08:59:10.890Z"
   },
   {
    "duration": 14,
    "start_time": "2022-05-03T09:00:14.183Z"
   },
   {
    "duration": 10,
    "start_time": "2022-05-03T09:00:22.052Z"
   },
   {
    "duration": 27,
    "start_time": "2022-05-03T09:00:58.329Z"
   },
   {
    "duration": 11,
    "start_time": "2022-05-03T09:01:09.960Z"
   },
   {
    "duration": 10,
    "start_time": "2022-05-03T09:01:31.462Z"
   },
   {
    "duration": 8,
    "start_time": "2022-05-03T09:02:35.449Z"
   },
   {
    "duration": 9,
    "start_time": "2022-05-03T09:04:03.858Z"
   },
   {
    "duration": 17,
    "start_time": "2022-05-03T09:06:45.052Z"
   },
   {
    "duration": 38,
    "start_time": "2022-05-03T09:07:21.873Z"
   },
   {
    "duration": 44,
    "start_time": "2022-05-03T09:08:06.544Z"
   },
   {
    "duration": 13,
    "start_time": "2022-05-03T09:08:24.226Z"
   },
   {
    "duration": 941,
    "start_time": "2022-05-03T09:09:13.299Z"
   },
   {
    "duration": 14,
    "start_time": "2022-05-03T09:09:26.661Z"
   },
   {
    "duration": 29,
    "start_time": "2022-05-03T09:10:07.009Z"
   },
   {
    "duration": 13,
    "start_time": "2022-05-03T09:10:55.881Z"
   },
   {
    "duration": 6,
    "start_time": "2022-05-03T09:14:35.705Z"
   },
   {
    "duration": 11,
    "start_time": "2022-05-03T09:15:02.869Z"
   },
   {
    "duration": 1031,
    "start_time": "2022-05-03T10:01:14.808Z"
   },
   {
    "duration": 47,
    "start_time": "2022-05-03T10:04:21.341Z"
   },
   {
    "duration": 18,
    "start_time": "2022-05-03T10:04:28.880Z"
   },
   {
    "duration": 15,
    "start_time": "2022-05-03T10:05:08.146Z"
   },
   {
    "duration": 5,
    "start_time": "2022-05-03T10:12:08.530Z"
   },
   {
    "duration": 19,
    "start_time": "2022-05-03T10:12:20.082Z"
   },
   {
    "duration": 6,
    "start_time": "2022-05-03T10:12:47.862Z"
   },
   {
    "duration": 119,
    "start_time": "2022-05-03T10:17:22.310Z"
   },
   {
    "duration": 123,
    "start_time": "2022-05-03T10:18:06.192Z"
   },
   {
    "duration": 122,
    "start_time": "2022-05-03T10:18:33.060Z"
   },
   {
    "duration": 93,
    "start_time": "2022-05-03T10:19:08.289Z"
   },
   {
    "duration": 159,
    "start_time": "2022-05-03T10:19:31.696Z"
   },
   {
    "duration": 3,
    "start_time": "2022-05-03T10:19:44.282Z"
   },
   {
    "duration": 98,
    "start_time": "2022-05-03T10:19:50.252Z"
   },
   {
    "duration": 92,
    "start_time": "2022-05-03T10:20:27.448Z"
   },
   {
    "duration": 172,
    "start_time": "2022-05-03T10:23:13.467Z"
   },
   {
    "duration": 108,
    "start_time": "2022-05-03T10:23:29.100Z"
   },
   {
    "duration": 11,
    "start_time": "2022-05-03T10:24:20.116Z"
   },
   {
    "duration": 14,
    "start_time": "2022-05-03T10:24:47.542Z"
   },
   {
    "duration": 13,
    "start_time": "2022-05-03T10:24:53.343Z"
   },
   {
    "duration": 13,
    "start_time": "2022-05-03T10:25:00.077Z"
   },
   {
    "duration": 1111,
    "start_time": "2022-05-03T10:25:40.660Z"
   },
   {
    "duration": 41,
    "start_time": "2022-05-03T10:25:41.773Z"
   },
   {
    "duration": 9,
    "start_time": "2022-05-03T10:25:41.815Z"
   },
   {
    "duration": 50,
    "start_time": "2022-05-03T10:25:41.826Z"
   },
   {
    "duration": 10,
    "start_time": "2022-05-03T10:25:41.877Z"
   },
   {
    "duration": 5,
    "start_time": "2022-05-03T10:25:41.888Z"
   },
   {
    "duration": 13,
    "start_time": "2022-05-03T10:25:41.895Z"
   },
   {
    "duration": 56,
    "start_time": "2022-05-03T10:25:41.910Z"
   },
   {
    "duration": 133,
    "start_time": "2022-05-03T10:25:41.968Z"
   },
   {
    "duration": 406,
    "start_time": "2022-05-03T10:29:58.992Z"
   },
   {
    "duration": 475,
    "start_time": "2022-05-03T10:30:48.331Z"
   },
   {
    "duration": 469,
    "start_time": "2022-05-03T10:31:02.154Z"
   },
   {
    "duration": 444,
    "start_time": "2022-05-03T10:31:09.882Z"
   },
   {
    "duration": 481,
    "start_time": "2022-05-03T10:31:27.030Z"
   },
   {
    "duration": 461,
    "start_time": "2022-05-03T10:31:44.449Z"
   },
   {
    "duration": 111,
    "start_time": "2022-05-03T10:31:55.864Z"
   },
   {
    "duration": 511,
    "start_time": "2022-05-03T10:32:11.102Z"
   },
   {
    "duration": 112,
    "start_time": "2022-05-03T10:47:34.825Z"
   },
   {
    "duration": 28,
    "start_time": "2022-05-03T10:48:33.343Z"
   },
   {
    "duration": 548,
    "start_time": "2022-05-03T10:48:43.840Z"
   },
   {
    "duration": 542,
    "start_time": "2022-05-03T10:54:26.581Z"
   },
   {
    "duration": 633,
    "start_time": "2022-05-03T10:57:26.772Z"
   },
   {
    "duration": 666,
    "start_time": "2022-05-03T10:57:35.644Z"
   },
   {
    "duration": 787,
    "start_time": "2022-05-03T10:58:15.518Z"
   },
   {
    "duration": 657,
    "start_time": "2022-05-03T10:59:19.716Z"
   },
   {
    "duration": 662,
    "start_time": "2022-05-03T11:00:09.388Z"
   },
   {
    "duration": 140,
    "start_time": "2022-05-03T11:13:12.301Z"
   },
   {
    "duration": 1413,
    "start_time": "2022-05-03T11:17:53.178Z"
   },
   {
    "duration": 47,
    "start_time": "2022-05-03T11:17:54.594Z"
   },
   {
    "duration": 10,
    "start_time": "2022-05-03T11:17:54.643Z"
   },
   {
    "duration": 31,
    "start_time": "2022-05-03T11:17:54.655Z"
   },
   {
    "duration": 12,
    "start_time": "2022-05-03T11:17:54.688Z"
   },
   {
    "duration": 5,
    "start_time": "2022-05-03T11:17:54.702Z"
   },
   {
    "duration": 45,
    "start_time": "2022-05-03T11:17:54.709Z"
   },
   {
    "duration": 29,
    "start_time": "2022-05-03T11:17:54.756Z"
   },
   {
    "duration": 141,
    "start_time": "2022-05-03T11:17:54.787Z"
   },
   {
    "duration": 119,
    "start_time": "2022-05-03T11:17:54.930Z"
   },
   {
    "duration": 172,
    "start_time": "2022-05-03T11:17:55.050Z"
   },
   {
    "duration": 0,
    "start_time": "2022-05-03T11:17:55.224Z"
   },
   {
    "duration": 4626,
    "start_time": "2022-05-03T11:19:23.068Z"
   },
   {
    "duration": 445,
    "start_time": "2022-05-03T11:19:41.494Z"
   },
   {
    "duration": 450,
    "start_time": "2022-05-03T11:19:54.834Z"
   },
   {
    "duration": 422,
    "start_time": "2022-05-03T11:21:44.134Z"
   },
   {
    "duration": 10,
    "start_time": "2022-05-03T11:23:06.503Z"
   },
   {
    "duration": 12,
    "start_time": "2022-05-03T11:24:37.128Z"
   },
   {
    "duration": 12,
    "start_time": "2022-05-03T11:25:50.390Z"
   },
   {
    "duration": 12,
    "start_time": "2022-05-03T11:27:45.416Z"
   },
   {
    "duration": 12,
    "start_time": "2022-05-03T11:27:53.072Z"
   },
   {
    "duration": 13,
    "start_time": "2022-05-03T11:28:48.074Z"
   },
   {
    "duration": 11,
    "start_time": "2022-05-03T11:29:19.790Z"
   },
   {
    "duration": 1202,
    "start_time": "2022-05-03T11:29:41.321Z"
   },
   {
    "duration": 48,
    "start_time": "2022-05-03T11:29:42.525Z"
   },
   {
    "duration": 8,
    "start_time": "2022-05-03T11:29:42.575Z"
   },
   {
    "duration": 31,
    "start_time": "2022-05-03T11:29:42.586Z"
   },
   {
    "duration": 30,
    "start_time": "2022-05-03T11:29:42.618Z"
   },
   {
    "duration": 5,
    "start_time": "2022-05-03T11:29:42.649Z"
   },
   {
    "duration": 11,
    "start_time": "2022-05-03T11:29:42.656Z"
   },
   {
    "duration": 29,
    "start_time": "2022-05-03T11:29:42.668Z"
   },
   {
    "duration": 152,
    "start_time": "2022-05-03T11:29:42.699Z"
   },
   {
    "duration": 11,
    "start_time": "2022-05-03T11:29:57.862Z"
   },
   {
    "duration": 16,
    "start_time": "2022-05-03T11:30:07.036Z"
   },
   {
    "duration": 5,
    "start_time": "2022-05-03T11:39:33.936Z"
   },
   {
    "duration": 15,
    "start_time": "2022-05-03T11:39:50.565Z"
   },
   {
    "duration": 15,
    "start_time": "2022-05-03T11:40:37.268Z"
   },
   {
    "duration": 16,
    "start_time": "2022-05-03T11:43:42.367Z"
   },
   {
    "duration": 521,
    "start_time": "2022-05-03T11:46:45.593Z"
   },
   {
    "duration": 643,
    "start_time": "2022-05-03T11:47:15.617Z"
   },
   {
    "duration": 667,
    "start_time": "2022-05-03T11:48:01.281Z"
   },
   {
    "duration": 722,
    "start_time": "2022-05-03T12:10:30.367Z"
   },
   {
    "duration": 695,
    "start_time": "2022-05-03T12:13:33.857Z"
   },
   {
    "duration": 819,
    "start_time": "2022-05-03T12:15:03.712Z"
   },
   {
    "duration": 586,
    "start_time": "2022-05-03T12:15:32.508Z"
   },
   {
    "duration": 580,
    "start_time": "2022-05-03T12:16:35.292Z"
   },
   {
    "duration": 1229,
    "start_time": "2022-05-03T12:18:09.186Z"
   },
   {
    "duration": 1875,
    "start_time": "2022-05-03T12:18:20.149Z"
   },
   {
    "duration": 2112,
    "start_time": "2022-05-03T12:30:15.568Z"
   },
   {
    "duration": 1753,
    "start_time": "2022-05-03T12:31:07.380Z"
   },
   {
    "duration": 1789,
    "start_time": "2022-05-03T12:33:49.182Z"
   },
   {
    "duration": 7,
    "start_time": "2022-05-03T12:45:34.032Z"
   },
   {
    "duration": 281,
    "start_time": "2022-05-03T13:07:04.466Z"
   },
   {
    "duration": 4,
    "start_time": "2022-05-03T13:08:26.230Z"
   },
   {
    "duration": 235,
    "start_time": "2022-05-03T13:12:01.949Z"
   },
   {
    "duration": 10,
    "start_time": "2022-05-03T13:16:49.382Z"
   },
   {
    "duration": 1556,
    "start_time": "2022-05-03T13:18:32.024Z"
   },
   {
    "duration": 253,
    "start_time": "2022-05-03T13:19:17.607Z"
   },
   {
    "duration": 183,
    "start_time": "2022-05-03T13:19:30.354Z"
   },
   {
    "duration": 1996,
    "start_time": "2022-05-03T13:20:47.194Z"
   },
   {
    "duration": 114,
    "start_time": "2022-05-03T15:25:37.513Z"
   },
   {
    "duration": 145,
    "start_time": "2022-05-03T15:26:28.032Z"
   },
   {
    "duration": 197,
    "start_time": "2022-05-03T15:26:49.839Z"
   },
   {
    "duration": 170,
    "start_time": "2022-05-03T15:28:25.257Z"
   },
   {
    "duration": 11,
    "start_time": "2022-05-03T15:35:49.207Z"
   },
   {
    "duration": 161,
    "start_time": "2022-05-03T15:42:16.973Z"
   },
   {
    "duration": 214,
    "start_time": "2022-05-03T15:43:37.391Z"
   },
   {
    "duration": 3,
    "start_time": "2022-05-03T15:49:46.400Z"
   },
   {
    "duration": 152,
    "start_time": "2022-05-03T15:51:04.948Z"
   },
   {
    "duration": 22,
    "start_time": "2022-05-03T15:52:04.625Z"
   },
   {
    "duration": 21,
    "start_time": "2022-05-03T15:54:22.438Z"
   },
   {
    "duration": 17,
    "start_time": "2022-05-03T16:00:37.657Z"
   },
   {
    "duration": 22,
    "start_time": "2022-05-03T16:00:52.365Z"
   },
   {
    "duration": 196,
    "start_time": "2022-05-03T16:10:59.534Z"
   },
   {
    "duration": 184,
    "start_time": "2022-05-03T16:11:05.504Z"
   },
   {
    "duration": 222,
    "start_time": "2022-05-03T16:28:19.409Z"
   },
   {
    "duration": 219,
    "start_time": "2022-05-03T16:31:52.460Z"
   },
   {
    "duration": 16,
    "start_time": "2022-05-03T16:41:40.614Z"
   },
   {
    "duration": 16,
    "start_time": "2022-05-03T16:41:49.093Z"
   },
   {
    "duration": 15,
    "start_time": "2022-05-03T16:41:58.591Z"
   },
   {
    "duration": 23,
    "start_time": "2022-05-03T16:55:17.096Z"
   },
   {
    "duration": 1390,
    "start_time": "2022-05-04T18:49:07.737Z"
   },
   {
    "duration": 54,
    "start_time": "2022-05-04T18:49:09.130Z"
   },
   {
    "duration": 9,
    "start_time": "2022-05-04T18:49:09.186Z"
   },
   {
    "duration": 30,
    "start_time": "2022-05-04T18:49:09.198Z"
   },
   {
    "duration": 29,
    "start_time": "2022-05-04T18:49:09.230Z"
   },
   {
    "duration": 9,
    "start_time": "2022-05-04T18:49:09.263Z"
   },
   {
    "duration": 11,
    "start_time": "2022-05-04T18:49:09.274Z"
   },
   {
    "duration": 30,
    "start_time": "2022-05-04T18:49:09.286Z"
   },
   {
    "duration": 209,
    "start_time": "2022-05-04T18:49:09.318Z"
   },
   {
    "duration": 6,
    "start_time": "2022-05-04T18:49:09.530Z"
   },
   {
    "duration": 600,
    "start_time": "2022-05-04T18:49:09.538Z"
   },
   {
    "duration": 13,
    "start_time": "2022-05-04T18:49:10.140Z"
   },
   {
    "duration": 1954,
    "start_time": "2022-05-04T18:49:10.155Z"
   },
   {
    "duration": 215,
    "start_time": "2022-05-04T18:49:12.111Z"
   },
   {
    "duration": 1608,
    "start_time": "2022-05-04T18:49:12.328Z"
   },
   {
    "duration": 239,
    "start_time": "2022-05-04T18:49:13.938Z"
   },
   {
    "duration": 236,
    "start_time": "2022-05-04T18:49:14.180Z"
   },
   {
    "duration": 15,
    "start_time": "2022-05-04T18:49:14.419Z"
   },
   {
    "duration": 26,
    "start_time": "2022-05-04T18:49:14.436Z"
   },
   {
    "duration": 38,
    "start_time": "2022-05-04T18:49:14.463Z"
   },
   {
    "duration": 18,
    "start_time": "2022-05-04T18:49:14.505Z"
   },
   {
    "duration": 137,
    "start_time": "2022-05-05T06:36:48.895Z"
   },
   {
    "duration": 265,
    "start_time": "2022-05-05T06:37:48.665Z"
   },
   {
    "duration": 1368,
    "start_time": "2022-05-05T06:38:02.116Z"
   },
   {
    "duration": 50,
    "start_time": "2022-05-05T06:38:03.486Z"
   },
   {
    "duration": 145,
    "start_time": "2022-05-05T06:38:04.426Z"
   },
   {
    "duration": 36,
    "start_time": "2022-05-05T06:38:06.427Z"
   },
   {
    "duration": 103,
    "start_time": "2022-05-07T07:57:39.136Z"
   },
   {
    "duration": 1323,
    "start_time": "2022-05-07T08:02:13.348Z"
   },
   {
    "duration": 68,
    "start_time": "2022-05-07T08:02:14.673Z"
   },
   {
    "duration": 18,
    "start_time": "2022-05-07T08:02:55.196Z"
   },
   {
    "duration": 4,
    "start_time": "2022-05-07T08:03:05.594Z"
   },
   {
    "duration": 92,
    "start_time": "2022-05-07T08:04:18.765Z"
   },
   {
    "duration": 9,
    "start_time": "2022-05-07T08:04:44.873Z"
   },
   {
    "duration": 8,
    "start_time": "2022-05-07T08:04:54.264Z"
   },
   {
    "duration": 7,
    "start_time": "2022-05-07T08:05:29.115Z"
   },
   {
    "duration": 8,
    "start_time": "2022-05-07T08:05:41.048Z"
   },
   {
    "duration": 9,
    "start_time": "2022-05-07T08:05:48.081Z"
   },
   {
    "duration": 8,
    "start_time": "2022-05-07T08:05:58.408Z"
   },
   {
    "duration": 9,
    "start_time": "2022-05-07T08:07:18.808Z"
   },
   {
    "duration": 9,
    "start_time": "2022-05-07T08:08:05.983Z"
   },
   {
    "duration": 9,
    "start_time": "2022-05-07T08:08:29.287Z"
   },
   {
    "duration": 10,
    "start_time": "2022-05-07T08:08:40.009Z"
   },
   {
    "duration": 41,
    "start_time": "2022-05-07T08:09:03.214Z"
   },
   {
    "duration": 10,
    "start_time": "2022-05-07T08:09:08.109Z"
   },
   {
    "duration": 4,
    "start_time": "2022-05-07T08:09:12.761Z"
   },
   {
    "duration": 1216,
    "start_time": "2022-05-07T08:10:04.012Z"
   },
   {
    "duration": 50,
    "start_time": "2022-05-07T08:10:05.230Z"
   },
   {
    "duration": 5,
    "start_time": "2022-05-07T08:10:08.316Z"
   },
   {
    "duration": 99,
    "start_time": "2022-05-07T08:10:31.941Z"
   },
   {
    "duration": 5,
    "start_time": "2022-05-07T08:10:47.354Z"
   },
   {
    "duration": 1113,
    "start_time": "2022-05-07T08:11:43.055Z"
   },
   {
    "duration": 44,
    "start_time": "2022-05-07T08:11:44.170Z"
   },
   {
    "duration": 21,
    "start_time": "2022-05-07T08:11:47.619Z"
   },
   {
    "duration": 17,
    "start_time": "2022-05-07T08:12:03.707Z"
   },
   {
    "duration": 5,
    "start_time": "2022-05-07T08:12:27.739Z"
   },
   {
    "duration": 34,
    "start_time": "2022-05-07T08:16:57.432Z"
   },
   {
    "duration": 104,
    "start_time": "2022-05-07T08:21:28.572Z"
   },
   {
    "duration": 9,
    "start_time": "2022-05-07T08:21:31.730Z"
   },
   {
    "duration": 246,
    "start_time": "2022-05-07T08:22:08.642Z"
   },
   {
    "duration": 16,
    "start_time": "2022-05-07T08:25:42.536Z"
   },
   {
    "duration": 124,
    "start_time": "2022-05-07T09:00:14.335Z"
   },
   {
    "duration": 32,
    "start_time": "2022-05-07T09:01:04.631Z"
   },
   {
    "duration": 30,
    "start_time": "2022-05-07T09:02:53.960Z"
   },
   {
    "duration": 4,
    "start_time": "2022-05-07T09:03:11.074Z"
   },
   {
    "duration": 29,
    "start_time": "2022-05-07T09:03:19.922Z"
   },
   {
    "duration": 28,
    "start_time": "2022-05-07T09:03:37.723Z"
   },
   {
    "duration": 4,
    "start_time": "2022-05-07T09:06:06.551Z"
   },
   {
    "duration": 27,
    "start_time": "2022-05-07T09:06:12.334Z"
   },
   {
    "duration": 37,
    "start_time": "2022-05-07T09:06:35.621Z"
   },
   {
    "duration": 524,
    "start_time": "2022-05-07T09:06:55.165Z"
   },
   {
    "duration": 507,
    "start_time": "2022-05-07T09:07:15.588Z"
   },
   {
    "duration": 5,
    "start_time": "2022-05-07T09:08:01.137Z"
   },
   {
    "duration": 4,
    "start_time": "2022-05-07T09:08:11.271Z"
   },
   {
    "duration": 611,
    "start_time": "2022-05-07T09:08:13.972Z"
   },
   {
    "duration": 584,
    "start_time": "2022-05-07T09:08:52.073Z"
   },
   {
    "duration": 106,
    "start_time": "2022-05-07T09:12:30.554Z"
   },
   {
    "duration": 142,
    "start_time": "2022-05-07T09:13:01.615Z"
   },
   {
    "duration": 4,
    "start_time": "2022-05-07T09:13:32.556Z"
   },
   {
    "duration": 498,
    "start_time": "2022-05-07T09:13:52.553Z"
   },
   {
    "duration": 541,
    "start_time": "2022-05-07T09:14:10.711Z"
   },
   {
    "duration": 616,
    "start_time": "2022-05-07T09:14:37.971Z"
   },
   {
    "duration": 24,
    "start_time": "2022-05-07T09:15:32.280Z"
   },
   {
    "duration": 16,
    "start_time": "2022-05-07T09:15:43.087Z"
   },
   {
    "duration": 5,
    "start_time": "2022-05-07T09:19:53.204Z"
   },
   {
    "duration": 4,
    "start_time": "2022-05-07T09:20:12.038Z"
   },
   {
    "duration": 610,
    "start_time": "2022-05-07T09:20:16.239Z"
   },
   {
    "duration": 4,
    "start_time": "2022-05-07T09:20:42.662Z"
   },
   {
    "duration": 713,
    "start_time": "2022-05-07T09:20:47.036Z"
   },
   {
    "duration": 6,
    "start_time": "2022-05-07T09:26:26.557Z"
   },
   {
    "duration": 18,
    "start_time": "2022-05-07T09:26:36.134Z"
   },
   {
    "duration": 9,
    "start_time": "2022-05-07T09:27:59.760Z"
   },
   {
    "duration": 22,
    "start_time": "2022-05-07T09:28:06.191Z"
   },
   {
    "duration": 18,
    "start_time": "2022-05-07T09:28:34.326Z"
   },
   {
    "duration": 12,
    "start_time": "2022-05-07T09:29:47.142Z"
   },
   {
    "duration": 29,
    "start_time": "2022-05-07T09:30:30.487Z"
   },
   {
    "duration": 22,
    "start_time": "2022-05-07T09:31:04.378Z"
   },
   {
    "duration": 17,
    "start_time": "2022-05-07T09:31:26.809Z"
   },
   {
    "duration": 18,
    "start_time": "2022-05-07T09:33:35.278Z"
   },
   {
    "duration": 604,
    "start_time": "2022-05-07T09:34:03.926Z"
   },
   {
    "duration": 537,
    "start_time": "2022-05-07T09:34:51.625Z"
   },
   {
    "duration": 529,
    "start_time": "2022-05-07T09:36:21.455Z"
   },
   {
    "duration": 4,
    "start_time": "2022-05-07T09:36:26.316Z"
   },
   {
    "duration": 466,
    "start_time": "2022-05-07T09:36:28.674Z"
   },
   {
    "duration": 4,
    "start_time": "2022-05-07T09:57:31.457Z"
   },
   {
    "duration": 260,
    "start_time": "2022-05-07T09:57:41.468Z"
   },
   {
    "duration": 495,
    "start_time": "2022-05-07T09:57:48.948Z"
   },
   {
    "duration": 262,
    "start_time": "2022-05-07T09:58:24.054Z"
   },
   {
    "duration": 464,
    "start_time": "2022-05-07T09:59:00.850Z"
   },
   {
    "duration": 4,
    "start_time": "2022-05-07T10:00:17.965Z"
   },
   {
    "duration": 439,
    "start_time": "2022-05-07T10:00:20.471Z"
   },
   {
    "duration": 507,
    "start_time": "2022-05-07T10:01:48.219Z"
   },
   {
    "duration": 501,
    "start_time": "2022-05-07T10:02:42.600Z"
   },
   {
    "duration": 461,
    "start_time": "2022-05-07T10:03:40.566Z"
   },
   {
    "duration": 444,
    "start_time": "2022-05-07T10:04:02.396Z"
   },
   {
    "duration": 427,
    "start_time": "2022-05-07T10:04:17.705Z"
   },
   {
    "duration": 4,
    "start_time": "2022-05-07T10:09:36.438Z"
   },
   {
    "duration": 2402,
    "start_time": "2022-05-07T10:09:38.311Z"
   },
   {
    "duration": 2680,
    "start_time": "2022-05-07T10:11:13.830Z"
   },
   {
    "duration": 2358,
    "start_time": "2022-05-07T10:20:51.177Z"
   },
   {
    "duration": 9,
    "start_time": "2022-05-07T10:26:35.750Z"
   },
   {
    "duration": 4,
    "start_time": "2022-05-07T10:40:35.623Z"
   },
   {
    "duration": 10,
    "start_time": "2022-05-07T10:41:00.398Z"
   },
   {
    "duration": 523,
    "start_time": "2022-05-07T10:52:38.467Z"
   },
   {
    "duration": 540,
    "start_time": "2022-05-07T10:52:58.571Z"
   },
   {
    "duration": 471,
    "start_time": "2022-05-07T10:53:12.165Z"
   },
   {
    "duration": 425,
    "start_time": "2022-05-07T10:54:01.348Z"
   },
   {
    "duration": 281,
    "start_time": "2022-05-07T10:54:21.934Z"
   },
   {
    "duration": 299,
    "start_time": "2022-05-07T10:54:35.346Z"
   },
   {
    "duration": 126,
    "start_time": "2022-05-07T10:55:04.424Z"
   },
   {
    "duration": 506,
    "start_time": "2022-05-07T10:55:11.026Z"
   },
   {
    "duration": 107,
    "start_time": "2022-05-07T11:01:23.583Z"
   },
   {
    "duration": 288,
    "start_time": "2022-05-07T11:02:02.685Z"
   },
   {
    "duration": 11,
    "start_time": "2022-05-07T11:18:31.816Z"
   },
   {
    "duration": 4,
    "start_time": "2022-05-07T11:19:19.425Z"
   },
   {
    "duration": 2745,
    "start_time": "2022-05-07T11:19:29.899Z"
   },
   {
    "duration": 315,
    "start_time": "2022-05-07T11:19:44.073Z"
   },
   {
    "duration": 10,
    "start_time": "2022-05-07T11:20:02.043Z"
   },
   {
    "duration": 401,
    "start_time": "2022-05-07T11:20:09.476Z"
   },
   {
    "duration": 325,
    "start_time": "2022-05-07T11:20:27.665Z"
   },
   {
    "duration": 1779,
    "start_time": "2022-05-07T11:28:21.066Z"
   },
   {
    "duration": 19,
    "start_time": "2022-05-07T11:28:34.933Z"
   },
   {
    "duration": 5,
    "start_time": "2022-05-07T11:29:05.580Z"
   },
   {
    "duration": 506,
    "start_time": "2022-05-07T11:29:11.533Z"
   },
   {
    "duration": 9,
    "start_time": "2022-05-07T11:30:31.871Z"
   },
   {
    "duration": 279,
    "start_time": "2022-05-07T12:03:50.187Z"
   },
   {
    "duration": 350,
    "start_time": "2022-05-07T12:04:52.172Z"
   },
   {
    "duration": 332,
    "start_time": "2022-05-07T12:04:59.958Z"
   },
   {
    "duration": 233,
    "start_time": "2022-05-07T12:05:38.610Z"
   },
   {
    "duration": 310,
    "start_time": "2022-05-07T12:06:37.155Z"
   },
   {
    "duration": 1236,
    "start_time": "2022-05-07T12:29:32.737Z"
   },
   {
    "duration": 10,
    "start_time": "2022-05-07T12:31:57.680Z"
   },
   {
    "duration": 11,
    "start_time": "2022-05-07T14:01:56.079Z"
   },
   {
    "duration": 10,
    "start_time": "2022-05-07T14:02:43.696Z"
   },
   {
    "duration": 105,
    "start_time": "2022-05-07T14:03:28.506Z"
   },
   {
    "duration": 5554,
    "start_time": "2022-05-07T14:03:34.089Z"
   },
   {
    "duration": 260,
    "start_time": "2022-05-07T14:03:53.844Z"
   },
   {
    "duration": 4,
    "start_time": "2022-05-07T14:04:09.785Z"
   },
   {
    "duration": 63,
    "start_time": "2022-05-07T14:04:09.791Z"
   },
   {
    "duration": 5,
    "start_time": "2022-05-07T14:04:09.856Z"
   },
   {
    "duration": 63,
    "start_time": "2022-05-07T14:04:09.863Z"
   },
   {
    "duration": 10,
    "start_time": "2022-05-07T14:04:09.928Z"
   },
   {
    "duration": 7,
    "start_time": "2022-05-07T14:04:09.939Z"
   },
   {
    "duration": 12,
    "start_time": "2022-05-07T14:04:09.947Z"
   },
   {
    "duration": 32,
    "start_time": "2022-05-07T14:04:09.961Z"
   },
   {
    "duration": 38,
    "start_time": "2022-05-07T14:04:09.995Z"
   },
   {
    "duration": 14,
    "start_time": "2022-05-07T14:04:10.035Z"
   },
   {
    "duration": 4,
    "start_time": "2022-05-07T14:04:10.073Z"
   },
   {
    "duration": 2540,
    "start_time": "2022-05-07T14:04:10.079Z"
   },
   {
    "duration": 342,
    "start_time": "2022-05-07T14:04:12.621Z"
   },
   {
    "duration": 390,
    "start_time": "2022-05-07T14:04:12.974Z"
   },
   {
    "duration": 292,
    "start_time": "2022-05-07T14:04:13.366Z"
   },
   {
    "duration": 15,
    "start_time": "2022-05-07T14:04:13.661Z"
   },
   {
    "duration": 503,
    "start_time": "2022-05-07T14:04:13.678Z"
   },
   {
    "duration": 9,
    "start_time": "2022-05-07T14:04:14.183Z"
   },
   {
    "duration": 1779,
    "start_time": "2022-05-07T14:04:14.193Z"
   },
   {
    "duration": 1368,
    "start_time": "2022-05-07T14:04:15.974Z"
   },
   {
    "duration": 0,
    "start_time": "2022-05-07T14:04:17.343Z"
   },
   {
    "duration": 0,
    "start_time": "2022-05-07T14:04:17.345Z"
   },
   {
    "duration": 0,
    "start_time": "2022-05-07T14:04:17.346Z"
   },
   {
    "duration": 0,
    "start_time": "2022-05-07T14:04:17.347Z"
   },
   {
    "duration": 0,
    "start_time": "2022-05-07T14:04:17.348Z"
   },
   {
    "duration": 0,
    "start_time": "2022-05-07T14:04:17.349Z"
   },
   {
    "duration": 0,
    "start_time": "2022-05-07T14:04:17.350Z"
   },
   {
    "duration": 0,
    "start_time": "2022-05-07T14:04:17.351Z"
   },
   {
    "duration": 1324,
    "start_time": "2022-05-07T14:06:11.339Z"
   },
   {
    "duration": 599,
    "start_time": "2022-05-07T14:06:28.684Z"
   },
   {
    "duration": 1901,
    "start_time": "2022-05-07T14:08:08.050Z"
   },
   {
    "duration": 252,
    "start_time": "2022-05-07T14:08:20.942Z"
   },
   {
    "duration": 498,
    "start_time": "2022-05-07T14:10:00.156Z"
   },
   {
    "duration": 17794,
    "start_time": "2022-05-07T14:16:55.551Z"
   },
   {
    "duration": 9,
    "start_time": "2022-05-07T14:19:43.829Z"
   },
   {
    "duration": 22,
    "start_time": "2022-05-07T14:20:07.298Z"
   },
   {
    "duration": 29,
    "start_time": "2022-05-07T14:21:25.827Z"
   },
   {
    "duration": 25,
    "start_time": "2022-05-07T14:21:49.869Z"
   },
   {
    "duration": 5,
    "start_time": "2022-05-07T14:23:24.544Z"
   },
   {
    "duration": 4,
    "start_time": "2022-05-07T14:23:29.431Z"
   },
   {
    "duration": 14,
    "start_time": "2022-05-07T14:23:40.178Z"
   },
   {
    "duration": 239,
    "start_time": "2022-05-07T14:24:06.648Z"
   },
   {
    "duration": 236,
    "start_time": "2022-05-07T14:24:16.333Z"
   },
   {
    "duration": 17111,
    "start_time": "2022-05-07T14:24:20.875Z"
   },
   {
    "duration": 20,
    "start_time": "2022-05-07T14:24:37.988Z"
   },
   {
    "duration": 20,
    "start_time": "2022-05-07T14:24:51.528Z"
   },
   {
    "duration": 4,
    "start_time": "2022-05-07T14:25:24.676Z"
   },
   {
    "duration": 297,
    "start_time": "2022-05-07T14:25:42.411Z"
   },
   {
    "duration": 2165,
    "start_time": "2022-05-07T14:28:53.533Z"
   },
   {
    "duration": 1422,
    "start_time": "2022-05-07T14:28:55.700Z"
   },
   {
    "duration": 45,
    "start_time": "2022-05-07T14:28:57.124Z"
   },
   {
    "duration": 6,
    "start_time": "2022-05-07T14:28:57.171Z"
   },
   {
    "duration": 45,
    "start_time": "2022-05-07T14:28:57.180Z"
   },
   {
    "duration": 11,
    "start_time": "2022-05-07T14:28:57.227Z"
   },
   {
    "duration": 6,
    "start_time": "2022-05-07T14:28:57.240Z"
   },
   {
    "duration": 34,
    "start_time": "2022-05-07T14:28:57.248Z"
   },
   {
    "duration": 48,
    "start_time": "2022-05-07T14:28:57.283Z"
   },
   {
    "duration": 77,
    "start_time": "2022-05-07T14:28:57.333Z"
   },
   {
    "duration": 16,
    "start_time": "2022-05-07T14:28:57.412Z"
   },
   {
    "duration": 10,
    "start_time": "2022-05-07T14:28:57.430Z"
   },
   {
    "duration": 2489,
    "start_time": "2022-05-07T14:28:57.441Z"
   },
   {
    "duration": 346,
    "start_time": "2022-05-07T14:28:59.933Z"
   },
   {
    "duration": 367,
    "start_time": "2022-05-07T14:29:00.281Z"
   },
   {
    "duration": 315,
    "start_time": "2022-05-07T14:29:00.650Z"
   },
   {
    "duration": 10,
    "start_time": "2022-05-07T14:29:00.967Z"
   },
   {
    "duration": 518,
    "start_time": "2022-05-07T14:29:00.979Z"
   },
   {
    "duration": 8,
    "start_time": "2022-05-07T14:29:01.499Z"
   },
   {
    "duration": 1850,
    "start_time": "2022-05-07T14:29:01.509Z"
   },
   {
    "duration": 28,
    "start_time": "2022-05-07T14:29:03.361Z"
   },
   {
    "duration": 4,
    "start_time": "2022-05-07T14:29:03.391Z"
   },
   {
    "duration": 245,
    "start_time": "2022-05-07T14:55:11.079Z"
   },
   {
    "duration": 344,
    "start_time": "2022-05-07T15:05:43.752Z"
   },
   {
    "duration": 241,
    "start_time": "2022-05-07T15:06:45.529Z"
   },
   {
    "duration": 4,
    "start_time": "2022-05-07T15:07:35.624Z"
   },
   {
    "duration": 554,
    "start_time": "2022-05-07T15:08:24.771Z"
   },
   {
    "duration": 571,
    "start_time": "2022-05-07T15:09:03.266Z"
   },
   {
    "duration": 682,
    "start_time": "2022-05-07T15:09:18.007Z"
   },
   {
    "duration": 606,
    "start_time": "2022-05-07T15:09:47.110Z"
   },
   {
    "duration": 553,
    "start_time": "2022-05-07T15:10:18.494Z"
   },
   {
    "duration": 2092,
    "start_time": "2022-05-07T15:13:35.201Z"
   },
   {
    "duration": 1418,
    "start_time": "2022-05-07T15:13:37.296Z"
   },
   {
    "duration": 45,
    "start_time": "2022-05-07T15:13:38.715Z"
   },
   {
    "duration": 5,
    "start_time": "2022-05-07T15:13:38.761Z"
   },
   {
    "duration": 35,
    "start_time": "2022-05-07T15:13:38.769Z"
   },
   {
    "duration": 11,
    "start_time": "2022-05-07T15:13:38.806Z"
   },
   {
    "duration": 6,
    "start_time": "2022-05-07T15:13:38.819Z"
   },
   {
    "duration": 15,
    "start_time": "2022-05-07T15:13:38.827Z"
   },
   {
    "duration": 58,
    "start_time": "2022-05-07T15:13:38.844Z"
   },
   {
    "duration": 34,
    "start_time": "2022-05-07T15:13:38.904Z"
   },
   {
    "duration": 35,
    "start_time": "2022-05-07T15:13:38.939Z"
   },
   {
    "duration": 4,
    "start_time": "2022-05-07T15:13:38.976Z"
   },
   {
    "duration": 2545,
    "start_time": "2022-05-07T15:13:38.981Z"
   },
   {
    "duration": 352,
    "start_time": "2022-05-07T15:13:41.529Z"
   },
   {
    "duration": 364,
    "start_time": "2022-05-07T15:13:41.882Z"
   },
   {
    "duration": 310,
    "start_time": "2022-05-07T15:13:42.248Z"
   },
   {
    "duration": 13,
    "start_time": "2022-05-07T15:13:42.560Z"
   },
   {
    "duration": 502,
    "start_time": "2022-05-07T15:13:42.574Z"
   },
   {
    "duration": 7,
    "start_time": "2022-05-07T15:13:43.078Z"
   },
   {
    "duration": 1775,
    "start_time": "2022-05-07T15:13:43.087Z"
   },
   {
    "duration": 29,
    "start_time": "2022-05-07T15:13:44.864Z"
   },
   {
    "duration": 5,
    "start_time": "2022-05-07T15:14:03.522Z"
   },
   {
    "duration": 539,
    "start_time": "2022-05-07T15:14:39.123Z"
   },
   {
    "duration": 1176,
    "start_time": "2022-05-07T15:20:58.301Z"
   },
   {
    "duration": 105,
    "start_time": "2022-05-07T15:21:51.554Z"
   },
   {
    "duration": 1294,
    "start_time": "2022-05-07T15:21:57.851Z"
   },
   {
    "duration": 544,
    "start_time": "2022-05-07T15:22:32.006Z"
   },
   {
    "duration": 529,
    "start_time": "2022-05-07T15:22:46.218Z"
   },
   {
    "duration": 553,
    "start_time": "2022-05-07T15:22:50.873Z"
   },
   {
    "duration": 622,
    "start_time": "2022-05-07T15:23:02.421Z"
   },
   {
    "duration": 1218,
    "start_time": "2022-05-07T15:23:10.021Z"
   },
   {
    "duration": 26,
    "start_time": "2022-05-07T15:28:36.431Z"
   },
   {
    "duration": 17,
    "start_time": "2022-05-07T15:36:03.348Z"
   },
   {
    "duration": 27,
    "start_time": "2022-05-07T15:36:52.568Z"
   },
   {
    "duration": 2126,
    "start_time": "2022-05-07T15:39:11.126Z"
   },
   {
    "duration": 1450,
    "start_time": "2022-05-07T15:39:13.255Z"
   },
   {
    "duration": 45,
    "start_time": "2022-05-07T15:39:14.706Z"
   },
   {
    "duration": 7,
    "start_time": "2022-05-07T15:39:14.754Z"
   },
   {
    "duration": 41,
    "start_time": "2022-05-07T15:39:14.763Z"
   },
   {
    "duration": 12,
    "start_time": "2022-05-07T15:39:14.806Z"
   },
   {
    "duration": 6,
    "start_time": "2022-05-07T15:39:14.820Z"
   },
   {
    "duration": 18,
    "start_time": "2022-05-07T15:39:14.828Z"
   },
   {
    "duration": 32,
    "start_time": "2022-05-07T15:39:14.873Z"
   },
   {
    "duration": 34,
    "start_time": "2022-05-07T15:39:14.908Z"
   },
   {
    "duration": 36,
    "start_time": "2022-05-07T15:39:14.944Z"
   },
   {
    "duration": 4,
    "start_time": "2022-05-07T15:39:14.982Z"
   },
   {
    "duration": 2632,
    "start_time": "2022-05-07T15:39:14.988Z"
   },
   {
    "duration": 354,
    "start_time": "2022-05-07T15:39:17.621Z"
   },
   {
    "duration": 372,
    "start_time": "2022-05-07T15:39:17.977Z"
   },
   {
    "duration": 309,
    "start_time": "2022-05-07T15:39:18.351Z"
   },
   {
    "duration": 15,
    "start_time": "2022-05-07T15:39:18.662Z"
   },
   {
    "duration": 468,
    "start_time": "2022-05-07T15:39:18.679Z"
   },
   {
    "duration": 25,
    "start_time": "2022-05-07T15:39:19.149Z"
   },
   {
    "duration": 1790,
    "start_time": "2022-05-07T15:39:19.176Z"
   },
   {
    "duration": 25,
    "start_time": "2022-05-07T15:39:25.304Z"
   },
   {
    "duration": 40,
    "start_time": "2022-05-07T15:39:48.722Z"
   },
   {
    "duration": 24,
    "start_time": "2022-05-07T15:39:57.134Z"
   },
   {
    "duration": 18,
    "start_time": "2022-05-07T15:40:41.126Z"
   },
   {
    "duration": 18,
    "start_time": "2022-05-07T15:40:58.694Z"
   },
   {
    "duration": 116,
    "start_time": "2022-05-07T15:45:37.142Z"
   },
   {
    "duration": 11,
    "start_time": "2022-05-07T15:48:05.870Z"
   },
   {
    "duration": 9,
    "start_time": "2022-05-07T15:48:24.719Z"
   },
   {
    "duration": 3,
    "start_time": "2022-05-07T15:48:43.997Z"
   },
   {
    "duration": 3,
    "start_time": "2022-05-07T15:48:47.586Z"
   },
   {
    "duration": 5,
    "start_time": "2022-05-07T15:48:55.995Z"
   },
   {
    "duration": 12,
    "start_time": "2022-05-07T15:49:44.826Z"
   },
   {
    "duration": 15,
    "start_time": "2022-05-07T15:51:21.351Z"
   },
   {
    "duration": 18,
    "start_time": "2022-05-07T15:51:43.690Z"
   },
   {
    "duration": 5,
    "start_time": "2022-05-07T15:53:04.741Z"
   },
   {
    "duration": 933,
    "start_time": "2022-05-07T15:53:10.230Z"
   },
   {
    "duration": 5,
    "start_time": "2022-05-07T15:54:42.694Z"
   },
   {
    "duration": 925,
    "start_time": "2022-05-07T15:54:45.382Z"
   },
   {
    "duration": 2359,
    "start_time": "2022-05-07T15:55:05.706Z"
   },
   {
    "duration": 5,
    "start_time": "2022-05-07T15:56:21.048Z"
   },
   {
    "duration": 790,
    "start_time": "2022-05-07T15:56:23.075Z"
   },
   {
    "duration": 2085,
    "start_time": "2022-05-07T16:00:37.824Z"
   },
   {
    "duration": 2055,
    "start_time": "2022-05-07T16:00:53.239Z"
   },
   {
    "duration": 2070,
    "start_time": "2022-05-07T16:07:19.295Z"
   },
   {
    "duration": 1214,
    "start_time": "2022-05-07T16:25:17.436Z"
   },
   {
    "duration": 7200,
    "start_time": "2022-05-07T16:26:11.482Z"
   },
   {
    "duration": 1194,
    "start_time": "2022-05-07T16:26:55.881Z"
   },
   {
    "duration": 1240,
    "start_time": "2022-05-07T16:33:12.002Z"
   },
   {
    "duration": 1290,
    "start_time": "2022-05-07T16:35:11.296Z"
   },
   {
    "duration": 1382,
    "start_time": "2022-05-07T16:35:27.938Z"
   },
   {
    "duration": 4,
    "start_time": "2022-05-07T16:36:03.897Z"
   },
   {
    "duration": 19,
    "start_time": "2022-05-07T16:36:08.510Z"
   },
   {
    "duration": 2107,
    "start_time": "2022-05-07T16:36:45.986Z"
   },
   {
    "duration": 1291,
    "start_time": "2022-05-07T16:36:48.095Z"
   },
   {
    "duration": 41,
    "start_time": "2022-05-07T16:36:49.387Z"
   },
   {
    "duration": 5,
    "start_time": "2022-05-07T16:36:49.430Z"
   },
   {
    "duration": 37,
    "start_time": "2022-05-07T16:36:49.436Z"
   },
   {
    "duration": 10,
    "start_time": "2022-05-07T16:36:49.475Z"
   },
   {
    "duration": 5,
    "start_time": "2022-05-07T16:36:49.487Z"
   },
   {
    "duration": 13,
    "start_time": "2022-05-07T16:36:49.493Z"
   },
   {
    "duration": 30,
    "start_time": "2022-05-07T16:36:49.507Z"
   },
   {
    "duration": 62,
    "start_time": "2022-05-07T16:36:49.539Z"
   },
   {
    "duration": 12,
    "start_time": "2022-05-07T16:36:49.603Z"
   },
   {
    "duration": 4,
    "start_time": "2022-05-07T16:36:53.429Z"
   },
   {
    "duration": 2376,
    "start_time": "2022-05-07T16:36:55.679Z"
   },
   {
    "duration": 2066,
    "start_time": "2022-05-07T16:37:39.449Z"
   },
   {
    "duration": 4,
    "start_time": "2022-05-07T16:37:41.518Z"
   },
   {
    "duration": 43,
    "start_time": "2022-05-07T16:37:41.524Z"
   },
   {
    "duration": 4,
    "start_time": "2022-05-07T16:37:41.569Z"
   },
   {
    "duration": 36,
    "start_time": "2022-05-07T16:37:41.575Z"
   },
   {
    "duration": 12,
    "start_time": "2022-05-07T16:37:41.612Z"
   },
   {
    "duration": 5,
    "start_time": "2022-05-07T16:37:41.626Z"
   },
   {
    "duration": 16,
    "start_time": "2022-05-07T16:37:41.632Z"
   },
   {
    "duration": 33,
    "start_time": "2022-05-07T16:37:41.673Z"
   },
   {
    "duration": 32,
    "start_time": "2022-05-07T16:37:41.708Z"
   },
   {
    "duration": 32,
    "start_time": "2022-05-07T16:37:41.742Z"
   },
   {
    "duration": 4,
    "start_time": "2022-05-07T16:37:41.776Z"
   },
   {
    "duration": 2572,
    "start_time": "2022-05-07T16:37:41.781Z"
   },
   {
    "duration": 333,
    "start_time": "2022-05-07T16:37:44.355Z"
   },
   {
    "duration": 266,
    "start_time": "2022-05-07T16:37:44.689Z"
   },
   {
    "duration": 301,
    "start_time": "2022-05-07T16:37:44.956Z"
   },
   {
    "duration": 14,
    "start_time": "2022-05-07T16:37:45.259Z"
   },
   {
    "duration": 468,
    "start_time": "2022-05-07T16:37:45.275Z"
   },
   {
    "duration": 7,
    "start_time": "2022-05-07T16:37:45.745Z"
   },
   {
    "duration": 1757,
    "start_time": "2022-05-07T16:37:45.754Z"
   },
   {
    "duration": 18,
    "start_time": "2022-05-07T16:37:59.193Z"
   },
   {
    "duration": 6,
    "start_time": "2022-05-07T16:38:02.847Z"
   },
   {
    "duration": 931,
    "start_time": "2022-05-07T16:38:06.122Z"
   },
   {
    "duration": 1991,
    "start_time": "2022-05-07T16:38:14.190Z"
   },
   {
    "duration": 1231,
    "start_time": "2022-05-07T16:38:39.329Z"
   },
   {
    "duration": 1178,
    "start_time": "2022-05-07T16:41:04.542Z"
   },
   {
    "duration": 1150,
    "start_time": "2022-05-07T16:44:02.526Z"
   },
   {
    "duration": 1208,
    "start_time": "2022-05-07T16:44:39.988Z"
   },
   {
    "duration": 1131,
    "start_time": "2022-05-07T16:47:42.746Z"
   },
   {
    "duration": 1118,
    "start_time": "2022-05-07T16:47:53.659Z"
   },
   {
    "duration": 4,
    "start_time": "2022-05-07T16:48:04.439Z"
   },
   {
    "duration": 111,
    "start_time": "2022-05-07T16:48:08.277Z"
   },
   {
    "duration": 2092,
    "start_time": "2022-05-07T16:48:34.270Z"
   },
   {
    "duration": 1355,
    "start_time": "2022-05-07T16:48:36.365Z"
   },
   {
    "duration": 43,
    "start_time": "2022-05-07T16:48:37.722Z"
   },
   {
    "duration": 4,
    "start_time": "2022-05-07T16:48:37.767Z"
   },
   {
    "duration": 37,
    "start_time": "2022-05-07T16:48:37.774Z"
   },
   {
    "duration": 10,
    "start_time": "2022-05-07T16:48:37.812Z"
   },
   {
    "duration": 5,
    "start_time": "2022-05-07T16:48:37.823Z"
   },
   {
    "duration": 16,
    "start_time": "2022-05-07T16:48:37.829Z"
   },
   {
    "duration": 43,
    "start_time": "2022-05-07T16:48:37.847Z"
   },
   {
    "duration": 34,
    "start_time": "2022-05-07T16:48:37.891Z"
   },
   {
    "duration": 12,
    "start_time": "2022-05-07T16:48:37.927Z"
   },
   {
    "duration": 5,
    "start_time": "2022-05-07T16:48:37.940Z"
   },
   {
    "duration": 2433,
    "start_time": "2022-05-07T16:48:37.947Z"
   },
   {
    "duration": 302,
    "start_time": "2022-05-07T16:48:40.383Z"
   },
   {
    "duration": 260,
    "start_time": "2022-05-07T16:48:40.687Z"
   },
   {
    "duration": 404,
    "start_time": "2022-05-07T16:48:40.949Z"
   },
   {
    "duration": 5,
    "start_time": "2022-05-07T16:48:41.354Z"
   },
   {
    "duration": 492,
    "start_time": "2022-05-07T16:48:41.360Z"
   },
   {
    "duration": 23,
    "start_time": "2022-05-07T16:48:41.854Z"
   },
   {
    "duration": 1744,
    "start_time": "2022-05-07T16:48:41.879Z"
   },
   {
    "duration": 18,
    "start_time": "2022-05-07T16:48:43.624Z"
   },
   {
    "duration": 5,
    "start_time": "2022-05-07T16:48:43.644Z"
   },
   {
    "duration": 803,
    "start_time": "2022-05-07T16:48:43.651Z"
   },
   {
    "duration": 2058,
    "start_time": "2022-05-07T16:48:44.456Z"
   },
   {
    "duration": 1237,
    "start_time": "2022-05-07T16:49:09.537Z"
   },
   {
    "duration": 4,
    "start_time": "2022-05-07T16:50:03.635Z"
   },
   {
    "duration": 5,
    "start_time": "2022-05-07T16:50:08.466Z"
   },
   {
    "duration": 108,
    "start_time": "2022-05-07T16:50:12.020Z"
   },
   {
    "duration": 1139,
    "start_time": "2022-05-07T16:50:28.455Z"
   },
   {
    "duration": 1670,
    "start_time": "2022-05-07T16:52:13.157Z"
   },
   {
    "duration": 1277,
    "start_time": "2022-05-07T16:52:37.034Z"
   },
   {
    "duration": 511,
    "start_time": "2022-05-07T16:55:24.315Z"
   },
   {
    "duration": 436,
    "start_time": "2022-05-07T16:55:40.305Z"
   },
   {
    "duration": 514,
    "start_time": "2022-05-07T16:56:27.782Z"
   },
   {
    "duration": 187,
    "start_time": "2022-05-07T17:03:37.831Z"
   },
   {
    "duration": 1577,
    "start_time": "2022-05-07T17:03:48.170Z"
   },
   {
    "duration": 1336,
    "start_time": "2022-05-07T17:16:42.446Z"
   },
   {
    "duration": 12,
    "start_time": "2022-05-07T17:18:19.022Z"
   },
   {
    "duration": 699,
    "start_time": "2022-05-07T17:25:36.862Z"
   },
   {
    "duration": 118,
    "start_time": "2022-05-07T17:28:21.861Z"
   },
   {
    "duration": 99,
    "start_time": "2022-05-07T17:28:28.088Z"
   },
   {
    "duration": 118,
    "start_time": "2022-05-07T17:28:48.786Z"
   },
   {
    "duration": 109,
    "start_time": "2022-05-07T17:29:04.806Z"
   },
   {
    "duration": 475,
    "start_time": "2022-05-07T17:29:13.556Z"
   },
   {
    "duration": 342,
    "start_time": "2022-05-07T17:39:20.451Z"
   },
   {
    "duration": 102,
    "start_time": "2022-05-07T17:39:57.686Z"
   },
   {
    "duration": 102,
    "start_time": "2022-05-07T17:40:10.985Z"
   },
   {
    "duration": 105,
    "start_time": "2022-05-07T17:40:15.348Z"
   },
   {
    "duration": 389,
    "start_time": "2022-05-07T17:40:25.811Z"
   },
   {
    "duration": 341,
    "start_time": "2022-05-07T17:41:04.759Z"
   },
   {
    "duration": 315,
    "start_time": "2022-05-07T17:41:17.192Z"
   },
   {
    "duration": 268,
    "start_time": "2022-05-07T17:41:36.954Z"
   },
   {
    "duration": 241,
    "start_time": "2022-05-07T17:42:19.964Z"
   },
   {
    "duration": 14,
    "start_time": "2022-05-07T17:43:11.680Z"
   },
   {
    "duration": 3,
    "start_time": "2022-05-07T17:43:57.052Z"
   },
   {
    "duration": 13,
    "start_time": "2022-05-07T17:44:05.550Z"
   },
   {
    "duration": 267,
    "start_time": "2022-05-07T17:44:35.600Z"
   },
   {
    "duration": 291,
    "start_time": "2022-05-07T17:44:53.382Z"
   },
   {
    "duration": 11,
    "start_time": "2022-05-07T17:46:02.647Z"
   },
   {
    "duration": 20,
    "start_time": "2022-05-07T17:46:11.719Z"
   },
   {
    "duration": 11,
    "start_time": "2022-05-07T17:46:27.840Z"
   },
   {
    "duration": 306,
    "start_time": "2022-05-07T17:46:51.863Z"
   },
   {
    "duration": 8790,
    "start_time": "2022-05-07T18:03:22.071Z"
   },
   {
    "duration": 9064,
    "start_time": "2022-05-07T18:03:41.268Z"
   },
   {
    "duration": 1644,
    "start_time": "2022-05-07T18:04:17.841Z"
   },
   {
    "duration": 2056,
    "start_time": "2022-05-07T18:05:56.410Z"
   },
   {
    "duration": 1358,
    "start_time": "2022-05-07T18:05:58.468Z"
   },
   {
    "duration": 48,
    "start_time": "2022-05-07T18:05:59.828Z"
   },
   {
    "duration": 5,
    "start_time": "2022-05-07T18:05:59.877Z"
   },
   {
    "duration": 33,
    "start_time": "2022-05-07T18:05:59.884Z"
   },
   {
    "duration": 10,
    "start_time": "2022-05-07T18:05:59.919Z"
   },
   {
    "duration": 4,
    "start_time": "2022-05-07T18:05:59.930Z"
   },
   {
    "duration": 37,
    "start_time": "2022-05-07T18:05:59.936Z"
   },
   {
    "duration": 33,
    "start_time": "2022-05-07T18:05:59.975Z"
   },
   {
    "duration": 38,
    "start_time": "2022-05-07T18:06:00.010Z"
   },
   {
    "duration": 35,
    "start_time": "2022-05-07T18:06:00.050Z"
   },
   {
    "duration": 4,
    "start_time": "2022-05-07T18:06:00.086Z"
   },
   {
    "duration": 2563,
    "start_time": "2022-05-07T18:06:00.091Z"
   },
   {
    "duration": 335,
    "start_time": "2022-05-07T18:06:02.658Z"
   },
   {
    "duration": 259,
    "start_time": "2022-05-07T18:06:02.995Z"
   },
   {
    "duration": 395,
    "start_time": "2022-05-07T18:06:03.256Z"
   },
   {
    "duration": 5,
    "start_time": "2022-05-07T18:06:03.653Z"
   },
   {
    "duration": 476,
    "start_time": "2022-05-07T18:06:03.673Z"
   },
   {
    "duration": 8,
    "start_time": "2022-05-07T18:06:04.174Z"
   },
   {
    "duration": 1753,
    "start_time": "2022-05-07T18:06:04.183Z"
   },
   {
    "duration": 16,
    "start_time": "2022-05-07T18:06:05.938Z"
   },
   {
    "duration": 4,
    "start_time": "2022-05-07T18:06:05.956Z"
   },
   {
    "duration": 781,
    "start_time": "2022-05-07T18:06:05.972Z"
   },
   {
    "duration": 2108,
    "start_time": "2022-05-07T18:06:06.754Z"
   },
   {
    "duration": 618,
    "start_time": "2022-05-07T18:06:08.863Z"
   },
   {
    "duration": 213,
    "start_time": "2022-05-07T18:06:09.483Z"
   },
   {
    "duration": 1537,
    "start_time": "2022-05-07T18:06:09.698Z"
   },
   {
    "duration": 198,
    "start_time": "2022-05-07T18:06:11.237Z"
   },
   {
    "duration": 0,
    "start_time": "2022-05-07T18:06:11.436Z"
   },
   {
    "duration": 0,
    "start_time": "2022-05-07T18:06:11.437Z"
   },
   {
    "duration": 0,
    "start_time": "2022-05-07T18:06:11.438Z"
   },
   {
    "duration": 0,
    "start_time": "2022-05-07T18:06:11.439Z"
   },
   {
    "duration": 0,
    "start_time": "2022-05-07T18:06:11.440Z"
   },
   {
    "duration": 0,
    "start_time": "2022-05-07T18:06:11.441Z"
   },
   {
    "duration": 0,
    "start_time": "2022-05-07T18:06:11.442Z"
   },
   {
    "duration": 1139,
    "start_time": "2022-05-07T18:07:44.582Z"
   },
   {
    "duration": 1032,
    "start_time": "2022-05-07T18:08:25.733Z"
   },
   {
    "duration": 442,
    "start_time": "2022-05-07T18:08:40.718Z"
   },
   {
    "duration": 572,
    "start_time": "2022-05-07T18:09:35.101Z"
   },
   {
    "duration": 539,
    "start_time": "2022-05-07T18:11:03.027Z"
   },
   {
    "duration": 406,
    "start_time": "2022-05-07T18:12:17.890Z"
   },
   {
    "duration": 434,
    "start_time": "2022-05-07T18:29:18.139Z"
   },
   {
    "duration": 552,
    "start_time": "2022-05-07T18:30:52.593Z"
   },
   {
    "duration": 660,
    "start_time": "2022-05-07T18:31:05.189Z"
   },
   {
    "duration": 513,
    "start_time": "2022-05-07T18:31:11.869Z"
   },
   {
    "duration": 459,
    "start_time": "2022-05-07T18:31:19.898Z"
   },
   {
    "duration": 433,
    "start_time": "2022-05-07T18:31:30.198Z"
   },
   {
    "duration": 492,
    "start_time": "2022-05-07T18:31:59.534Z"
   },
   {
    "duration": 439,
    "start_time": "2022-05-07T18:32:15.573Z"
   },
   {
    "duration": 482,
    "start_time": "2022-05-07T18:33:30.658Z"
   },
   {
    "duration": 443,
    "start_time": "2022-05-07T18:33:54.869Z"
   },
   {
    "duration": 471,
    "start_time": "2022-05-07T18:34:25.336Z"
   },
   {
    "duration": 650,
    "start_time": "2022-05-07T18:34:38.740Z"
   },
   {
    "duration": 540,
    "start_time": "2022-05-07T18:35:07.995Z"
   },
   {
    "duration": 105,
    "start_time": "2022-05-07T18:40:44.505Z"
   },
   {
    "duration": 101,
    "start_time": "2022-05-07T18:40:57.124Z"
   },
   {
    "duration": 408,
    "start_time": "2022-05-07T18:41:17.990Z"
   },
   {
    "duration": 3,
    "start_time": "2022-05-07T18:42:26.887Z"
   },
   {
    "duration": 4,
    "start_time": "2022-05-07T18:46:19.065Z"
   },
   {
    "duration": 4,
    "start_time": "2022-05-07T18:46:26.859Z"
   },
   {
    "duration": 589,
    "start_time": "2022-05-07T18:46:30.137Z"
   },
   {
    "duration": 571,
    "start_time": "2022-05-07T18:46:38.986Z"
   },
   {
    "duration": 1632,
    "start_time": "2022-05-07T18:48:40.643Z"
   },
   {
    "duration": 1515,
    "start_time": "2022-05-07T18:51:16.832Z"
   },
   {
    "duration": 10191,
    "start_time": "2022-05-07T18:52:46.591Z"
   },
   {
    "duration": 1855,
    "start_time": "2022-05-07T18:54:03.786Z"
   },
   {
    "duration": 99,
    "start_time": "2022-05-07T18:58:13.846Z"
   },
   {
    "duration": 291,
    "start_time": "2022-05-07T18:58:22.918Z"
   },
   {
    "duration": 631,
    "start_time": "2022-05-07T18:58:41.058Z"
   },
   {
    "duration": 18,
    "start_time": "2022-05-07T19:00:09.090Z"
   },
   {
    "duration": 654,
    "start_time": "2022-05-07T19:00:39.126Z"
   },
   {
    "duration": 518,
    "start_time": "2022-05-07T19:01:43.471Z"
   },
   {
    "duration": 541,
    "start_time": "2022-05-07T19:03:59.178Z"
   },
   {
    "duration": 510,
    "start_time": "2022-05-07T19:04:27.735Z"
   },
   {
    "duration": 609,
    "start_time": "2022-05-07T19:04:42.184Z"
   },
   {
    "duration": 510,
    "start_time": "2022-05-07T19:06:53.760Z"
   },
   {
    "duration": 488,
    "start_time": "2022-05-07T19:07:05.401Z"
   },
   {
    "duration": 150,
    "start_time": "2022-05-07T19:44:37.129Z"
   },
   {
    "duration": 188,
    "start_time": "2022-05-07T19:45:06.670Z"
   },
   {
    "duration": 9,
    "start_time": "2022-05-07T19:45:13.218Z"
   },
   {
    "duration": 16,
    "start_time": "2022-05-07T19:53:51.150Z"
   },
   {
    "duration": 15,
    "start_time": "2022-05-07T19:53:59.821Z"
   },
   {
    "duration": 4330,
    "start_time": "2022-05-08T07:36:38.938Z"
   },
   {
    "duration": 1998,
    "start_time": "2022-05-08T07:36:43.271Z"
   },
   {
    "duration": 64,
    "start_time": "2022-05-08T07:36:45.272Z"
   },
   {
    "duration": 7,
    "start_time": "2022-05-08T07:36:45.339Z"
   },
   {
    "duration": 48,
    "start_time": "2022-05-08T07:36:45.351Z"
   },
   {
    "duration": 18,
    "start_time": "2022-05-08T07:36:45.401Z"
   },
   {
    "duration": 35,
    "start_time": "2022-05-08T07:36:45.421Z"
   },
   {
    "duration": 25,
    "start_time": "2022-05-08T07:36:45.458Z"
   },
   {
    "duration": 56,
    "start_time": "2022-05-08T07:36:45.486Z"
   },
   {
    "duration": 54,
    "start_time": "2022-05-08T07:36:45.553Z"
   },
   {
    "duration": 44,
    "start_time": "2022-05-08T07:36:45.610Z"
   },
   {
    "duration": 24,
    "start_time": "2022-05-08T07:36:45.656Z"
   },
   {
    "duration": 3612,
    "start_time": "2022-05-08T07:36:45.682Z"
   },
   {
    "duration": 467,
    "start_time": "2022-05-08T07:36:49.298Z"
   },
   {
    "duration": 387,
    "start_time": "2022-05-08T07:36:49.767Z"
   },
   {
    "duration": 478,
    "start_time": "2022-05-08T07:36:50.156Z"
   },
   {
    "duration": 19,
    "start_time": "2022-05-08T07:36:50.637Z"
   },
   {
    "duration": 721,
    "start_time": "2022-05-08T07:36:50.658Z"
   },
   {
    "duration": 10,
    "start_time": "2022-05-08T07:36:51.382Z"
   },
   {
    "duration": 2468,
    "start_time": "2022-05-08T07:36:51.395Z"
   },
   {
    "duration": 28,
    "start_time": "2022-05-08T07:36:53.866Z"
   },
   {
    "duration": 7,
    "start_time": "2022-05-08T07:36:53.897Z"
   },
   {
    "duration": 1187,
    "start_time": "2022-05-08T07:36:53.907Z"
   },
   {
    "duration": 3015,
    "start_time": "2022-05-08T07:36:55.097Z"
   },
   {
    "duration": 790,
    "start_time": "2022-05-08T07:36:58.115Z"
   },
   {
    "duration": 780,
    "start_time": "2022-05-08T07:36:58.907Z"
   },
   {
    "duration": 6,
    "start_time": "2022-05-08T07:36:59.689Z"
   },
   {
    "duration": 2047,
    "start_time": "2022-05-08T07:36:59.697Z"
   },
   {
    "duration": 635,
    "start_time": "2022-05-08T07:38:41.705Z"
   },
   {
    "duration": 3288,
    "start_time": "2022-05-08T09:15:15.414Z"
   },
   {
    "duration": 1791,
    "start_time": "2022-05-08T09:15:18.705Z"
   },
   {
    "duration": 63,
    "start_time": "2022-05-08T09:15:20.498Z"
   },
   {
    "duration": 6,
    "start_time": "2022-05-08T09:15:20.564Z"
   },
   {
    "duration": 56,
    "start_time": "2022-05-08T09:15:20.573Z"
   },
   {
    "duration": 34,
    "start_time": "2022-05-08T09:15:20.631Z"
   },
   {
    "duration": 6,
    "start_time": "2022-05-08T09:15:20.667Z"
   },
   {
    "duration": 19,
    "start_time": "2022-05-08T09:15:20.675Z"
   },
   {
    "duration": 80,
    "start_time": "2022-05-08T09:15:20.696Z"
   },
   {
    "duration": 54,
    "start_time": "2022-05-08T09:15:20.780Z"
   },
   {
    "duration": 31,
    "start_time": "2022-05-08T09:15:20.836Z"
   },
   {
    "duration": 12,
    "start_time": "2022-05-08T09:15:20.870Z"
   },
   {
    "duration": 3797,
    "start_time": "2022-05-08T09:15:20.885Z"
   },
   {
    "duration": 531,
    "start_time": "2022-05-08T09:15:24.685Z"
   },
   {
    "duration": 470,
    "start_time": "2022-05-08T09:15:25.218Z"
   },
   {
    "duration": 537,
    "start_time": "2022-05-08T09:15:25.691Z"
   },
   {
    "duration": 7,
    "start_time": "2022-05-08T09:15:26.230Z"
   },
   {
    "duration": 708,
    "start_time": "2022-05-08T09:15:26.240Z"
   },
   {
    "duration": 10,
    "start_time": "2022-05-08T09:15:26.953Z"
   },
   {
    "duration": 2636,
    "start_time": "2022-05-08T09:15:26.966Z"
   },
   {
    "duration": 27,
    "start_time": "2022-05-08T09:15:29.604Z"
   },
   {
    "duration": 23,
    "start_time": "2022-05-08T09:15:29.633Z"
   },
   {
    "duration": 1224,
    "start_time": "2022-05-08T09:15:29.658Z"
   },
   {
    "duration": 3111,
    "start_time": "2022-05-08T09:15:30.885Z"
   },
   {
    "duration": 856,
    "start_time": "2022-05-08T09:15:33.999Z"
   },
   {
    "duration": 815,
    "start_time": "2022-05-08T09:15:34.857Z"
   },
   {
    "duration": 5,
    "start_time": "2022-05-08T09:15:35.674Z"
   },
   {
    "duration": 2147,
    "start_time": "2022-05-08T09:15:35.685Z"
   },
   {
    "duration": 679,
    "start_time": "2022-05-08T09:15:37.835Z"
   },
   {
    "duration": 413,
    "start_time": "2022-05-08T09:15:38.516Z"
   },
   {
    "duration": 330,
    "start_time": "2022-05-08T09:15:38.931Z"
   },
   {
    "duration": 15,
    "start_time": "2022-05-08T09:15:39.264Z"
   },
   {
    "duration": 32,
    "start_time": "2022-05-08T09:15:39.283Z"
   },
   {
    "duration": 63,
    "start_time": "2022-05-08T09:15:39.317Z"
   },
   {
    "duration": 31,
    "start_time": "2022-05-08T09:15:39.383Z"
   },
   {
    "duration": 210,
    "start_time": "2022-05-09T16:51:20.812Z"
   },
   {
    "duration": 216,
    "start_time": "2022-05-09T16:51:52.826Z"
   },
   {
    "duration": 213,
    "start_time": "2022-05-09T16:52:27.938Z"
   },
   {
    "duration": 199,
    "start_time": "2022-05-09T16:54:24.280Z"
   },
   {
    "duration": 251,
    "start_time": "2022-05-09T16:56:44.787Z"
   },
   {
    "duration": 4143,
    "start_time": "2022-05-10T11:40:03.355Z"
   },
   {
    "duration": 1804,
    "start_time": "2022-05-10T11:40:07.500Z"
   },
   {
    "duration": 59,
    "start_time": "2022-05-10T11:40:09.307Z"
   },
   {
    "duration": 6,
    "start_time": "2022-05-10T11:40:09.368Z"
   },
   {
    "duration": 39,
    "start_time": "2022-05-10T11:40:09.376Z"
   },
   {
    "duration": 40,
    "start_time": "2022-05-10T11:40:09.417Z"
   },
   {
    "duration": 6,
    "start_time": "2022-05-10T11:40:09.459Z"
   },
   {
    "duration": 37,
    "start_time": "2022-05-10T11:40:09.466Z"
   },
   {
    "duration": 36,
    "start_time": "2022-05-10T11:40:09.505Z"
   },
   {
    "duration": 44,
    "start_time": "2022-05-10T11:40:09.543Z"
   },
   {
    "duration": 16,
    "start_time": "2022-05-10T11:40:09.589Z"
   },
   {
    "duration": 17,
    "start_time": "2022-05-10T11:40:09.607Z"
   },
   {
    "duration": 2969,
    "start_time": "2022-05-10T11:40:09.626Z"
   },
   {
    "duration": 483,
    "start_time": "2022-05-10T11:40:12.600Z"
   },
   {
    "duration": 430,
    "start_time": "2022-05-10T11:40:13.085Z"
   },
   {
    "duration": 512,
    "start_time": "2022-05-10T11:40:13.518Z"
   },
   {
    "duration": 6,
    "start_time": "2022-05-10T11:40:14.032Z"
   },
   {
    "duration": 728,
    "start_time": "2022-05-10T11:40:14.039Z"
   },
   {
    "duration": 8,
    "start_time": "2022-05-10T11:40:14.770Z"
   },
   {
    "duration": 1850,
    "start_time": "2022-05-10T11:40:14.779Z"
   },
   {
    "duration": 34,
    "start_time": "2022-05-10T11:40:16.630Z"
   },
   {
    "duration": 6,
    "start_time": "2022-05-10T11:40:16.666Z"
   },
   {
    "duration": 873,
    "start_time": "2022-05-10T11:40:16.674Z"
   },
   {
    "duration": 2283,
    "start_time": "2022-05-10T11:40:17.549Z"
   },
   {
    "duration": 872,
    "start_time": "2022-05-10T11:40:19.835Z"
   },
   {
    "duration": 931,
    "start_time": "2022-05-10T11:40:20.710Z"
   },
   {
    "duration": 6,
    "start_time": "2022-05-10T11:40:21.643Z"
   },
   {
    "duration": 2328,
    "start_time": "2022-05-10T11:40:21.655Z"
   },
   {
    "duration": 724,
    "start_time": "2022-05-10T11:40:23.985Z"
   },
   {
    "duration": 297,
    "start_time": "2022-05-10T11:40:24.712Z"
   },
   {
    "duration": 223,
    "start_time": "2022-05-10T11:40:25.011Z"
   },
   {
    "duration": 25,
    "start_time": "2022-05-10T11:40:25.237Z"
   },
   {
    "duration": 39,
    "start_time": "2022-05-10T11:40:25.264Z"
   },
   {
    "duration": 30,
    "start_time": "2022-05-10T11:40:25.305Z"
   },
   {
    "duration": 40,
    "start_time": "2022-05-10T11:40:25.338Z"
   },
   {
    "duration": 148,
    "start_time": "2022-05-10T14:39:13.008Z"
   }
  ],
  "kernelspec": {
   "display_name": "Python 3",
   "language": "python",
   "name": "python3"
  },
  "language_info": {
   "codemirror_mode": {
    "name": "ipython",
    "version": 3
   },
   "file_extension": ".py",
   "mimetype": "text/x-python",
   "name": "python",
   "nbconvert_exporter": "python",
   "pygments_lexer": "ipython3",
   "version": "3.8.8"
  },
  "toc": {
   "base_numbering": 1,
   "nav_menu": {},
   "number_sections": true,
   "sideBar": true,
   "skip_h1_title": true,
   "title_cell": "Table of Contents",
   "title_sidebar": "Contents",
   "toc_cell": false,
   "toc_position": {
    "height": "566.4px",
    "left": "72px",
    "top": "111.125px",
    "width": "360px"
   },
   "toc_section_display": true,
   "toc_window_display": true
  }
 },
 "nbformat": 4,
 "nbformat_minor": 2
}
