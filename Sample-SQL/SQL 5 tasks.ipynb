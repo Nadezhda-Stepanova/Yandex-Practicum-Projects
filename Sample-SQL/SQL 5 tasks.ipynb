{
 "cells": [
  {
   "cell_type": "markdown",
   "metadata": {},
   "source": [
    "# Сервис для чтения книг по подписке"
   ]
  },
  {
   "cell_type": "markdown",
   "metadata": {},
   "source": [
    "## Цель исследования\n",
    "\n",
    "Компания купила крупный сервис для чтения книг по подписке. Задача: проанализировать базу данных. В ней — информация о книгах, издательствах, авторах, а также пользовательские обзоры книг. Эти данные помогут сформулировать ценностное предложение для нового продукта."
   ]
  },
  {
   "cell_type": "markdown",
   "metadata": {},
   "source": [
    "## Описание данных\n",
    "Таблица **books**\n",
    "содержит данные о книгах:\n",
    "- `book_id` — идентификатор книги;\n",
    "- `author_id` — идентификатор автора;\n",
    "- `title` — название книги;\n",
    "- `num_pages` — количество страниц;\n",
    "- `publication_date` — дата публикации книги;\n",
    "- `publisher_id` — идентификатор издателя.\n",
    "\n",
    "Таблица **authors**\n",
    "содержит данные об авторах:\n",
    "- `author_id` — идентификатор автора;\n",
    "- `author` — имя автора.\n",
    "\n",
    "Таблица **publishers**\n",
    "содержит данные об издательствах:\n",
    "- `publisher_id` — идентификатор издательства;\n",
    "- `publisher` — название издательства.\n",
    "\n",
    "Таблица **ratings**\n",
    "содержит данные о пользовательских оценках книг:\n",
    "- `rating_id` — идентификатор оценки;\n",
    "- `book_id` — идентификатор книги;\n",
    "- `username` — имя пользователя, оставившего оценку;\n",
    "- `rating` — оценка книги.\n",
    "\n",
    "Таблица **reviews**\n",
    "содержит данные о пользовательских обзорах на книги:\n",
    "- `review_id` — идентификатор обзора;\n",
    "- `book_id` — идентификатор книги;\n",
    "- `username` — имя пользователя, написавшего обзор;\n",
    "- `text` — текст обзора."
   ]
  },
  {
   "cell_type": "code",
   "execution_count": 1,
   "metadata": {},
   "outputs": [],
   "source": [
    "# импортируем библиотеки\n",
    "import pandas as pd\n",
    "from sqlalchemy import create_engine\n",
    "# устанавливаем параметры\n",
    "db_config = {'user': 'praktikum_student', # имя пользователя\n",
    "'pwd': 'Sdf4$2;d-d30pp', # пароль\n",
    "'host': 'rc1b-wcoijxj3yxfsf3fs.mdb.yandexcloud.net',\n",
    "'port': 6432, # порт подключения\n",
    "'db': 'data-analyst-final-project-db'} # название базы данных\n",
    "connection_string = 'postgresql://{}:{}@{}:{}/{}'.format(db_config['user'],\n",
    "db_config['pwd'],\n",
    "db_config['host'],\n",
    "db_config['port'],\n",
    "db_config['db'])\n",
    "# сохраняем коннектор\n",
    "engine = create_engine(connection_string, connect_args={'sslmode':'require'})"
   ]
  },
  {
   "cell_type": "markdown",
   "metadata": {},
   "source": [
    "Посмотрим на структуру данных, выведем информацию по всем таблицам."
   ]
  },
  {
   "cell_type": "code",
   "execution_count": 2,
   "metadata": {},
   "outputs": [
    {
     "data": {
      "text/html": [
       "<div>\n",
       "<style scoped>\n",
       "    .dataframe tbody tr th:only-of-type {\n",
       "        vertical-align: middle;\n",
       "    }\n",
       "\n",
       "    .dataframe tbody tr th {\n",
       "        vertical-align: top;\n",
       "    }\n",
       "\n",
       "    .dataframe thead th {\n",
       "        text-align: right;\n",
       "    }\n",
       "</style>\n",
       "<table border=\"1\" class=\"dataframe\">\n",
       "  <thead>\n",
       "    <tr style=\"text-align: right;\">\n",
       "      <th></th>\n",
       "      <th>book_id</th>\n",
       "      <th>author_id</th>\n",
       "      <th>title</th>\n",
       "      <th>num_pages</th>\n",
       "      <th>publication_date</th>\n",
       "      <th>publisher_id</th>\n",
       "    </tr>\n",
       "  </thead>\n",
       "  <tbody>\n",
       "    <tr>\n",
       "      <th>0</th>\n",
       "      <td>1</td>\n",
       "      <td>546</td>\n",
       "      <td>'Salem's Lot</td>\n",
       "      <td>594</td>\n",
       "      <td>2005-11-01</td>\n",
       "      <td>93</td>\n",
       "    </tr>\n",
       "    <tr>\n",
       "      <th>1</th>\n",
       "      <td>2</td>\n",
       "      <td>465</td>\n",
       "      <td>1 000 Places to See Before You Die</td>\n",
       "      <td>992</td>\n",
       "      <td>2003-05-22</td>\n",
       "      <td>336</td>\n",
       "    </tr>\n",
       "    <tr>\n",
       "      <th>2</th>\n",
       "      <td>3</td>\n",
       "      <td>407</td>\n",
       "      <td>13 Little Blue Envelopes (Little Blue Envelope...</td>\n",
       "      <td>322</td>\n",
       "      <td>2010-12-21</td>\n",
       "      <td>135</td>\n",
       "    </tr>\n",
       "    <tr>\n",
       "      <th>3</th>\n",
       "      <td>4</td>\n",
       "      <td>82</td>\n",
       "      <td>1491: New Revelations of the Americas Before C...</td>\n",
       "      <td>541</td>\n",
       "      <td>2006-10-10</td>\n",
       "      <td>309</td>\n",
       "    </tr>\n",
       "    <tr>\n",
       "      <th>4</th>\n",
       "      <td>5</td>\n",
       "      <td>125</td>\n",
       "      <td>1776</td>\n",
       "      <td>386</td>\n",
       "      <td>2006-07-04</td>\n",
       "      <td>268</td>\n",
       "    </tr>\n",
       "    <tr>\n",
       "      <th>...</th>\n",
       "      <td>...</td>\n",
       "      <td>...</td>\n",
       "      <td>...</td>\n",
       "      <td>...</td>\n",
       "      <td>...</td>\n",
       "      <td>...</td>\n",
       "    </tr>\n",
       "    <tr>\n",
       "      <th>995</th>\n",
       "      <td>996</td>\n",
       "      <td>571</td>\n",
       "      <td>Wyrd Sisters (Discworld  #6; Witches #2)</td>\n",
       "      <td>265</td>\n",
       "      <td>2001-02-06</td>\n",
       "      <td>147</td>\n",
       "    </tr>\n",
       "    <tr>\n",
       "      <th>996</th>\n",
       "      <td>997</td>\n",
       "      <td>454</td>\n",
       "      <td>Xenocide (Ender's Saga  #3)</td>\n",
       "      <td>592</td>\n",
       "      <td>1996-07-15</td>\n",
       "      <td>297</td>\n",
       "    </tr>\n",
       "    <tr>\n",
       "      <th>997</th>\n",
       "      <td>998</td>\n",
       "      <td>201</td>\n",
       "      <td>Year of Wonders</td>\n",
       "      <td>358</td>\n",
       "      <td>2002-04-30</td>\n",
       "      <td>212</td>\n",
       "    </tr>\n",
       "    <tr>\n",
       "      <th>998</th>\n",
       "      <td>999</td>\n",
       "      <td>94</td>\n",
       "      <td>You Suck (A Love Story  #2)</td>\n",
       "      <td>328</td>\n",
       "      <td>2007-01-16</td>\n",
       "      <td>331</td>\n",
       "    </tr>\n",
       "    <tr>\n",
       "      <th>999</th>\n",
       "      <td>1000</td>\n",
       "      <td>509</td>\n",
       "      <td>Zen and the Art of Motorcycle Maintenance: An ...</td>\n",
       "      <td>540</td>\n",
       "      <td>2006-04-25</td>\n",
       "      <td>143</td>\n",
       "    </tr>\n",
       "  </tbody>\n",
       "</table>\n",
       "<p>1000 rows × 6 columns</p>\n",
       "</div>"
      ],
      "text/plain": [
       "     book_id  author_id                                              title  \\\n",
       "0          1        546                                       'Salem's Lot   \n",
       "1          2        465                 1 000 Places to See Before You Die   \n",
       "2          3        407  13 Little Blue Envelopes (Little Blue Envelope...   \n",
       "3          4         82  1491: New Revelations of the Americas Before C...   \n",
       "4          5        125                                               1776   \n",
       "..       ...        ...                                                ...   \n",
       "995      996        571           Wyrd Sisters (Discworld  #6; Witches #2)   \n",
       "996      997        454                        Xenocide (Ender's Saga  #3)   \n",
       "997      998        201                                    Year of Wonders   \n",
       "998      999         94                        You Suck (A Love Story  #2)   \n",
       "999     1000        509  Zen and the Art of Motorcycle Maintenance: An ...   \n",
       "\n",
       "     num_pages publication_date  publisher_id  \n",
       "0          594       2005-11-01            93  \n",
       "1          992       2003-05-22           336  \n",
       "2          322       2010-12-21           135  \n",
       "3          541       2006-10-10           309  \n",
       "4          386       2006-07-04           268  \n",
       "..         ...              ...           ...  \n",
       "995        265       2001-02-06           147  \n",
       "996        592       1996-07-15           297  \n",
       "997        358       2002-04-30           212  \n",
       "998        328       2007-01-16           331  \n",
       "999        540       2006-04-25           143  \n",
       "\n",
       "[1000 rows x 6 columns]"
      ]
     },
     "execution_count": 2,
     "metadata": {},
     "output_type": "execute_result"
    }
   ],
   "source": [
    "query = ''' SELECT *\n",
    "              FROM books;                \n",
    "        '''\n",
    "pd.io.sql.read_sql(query, con = engine)"
   ]
  },
  {
   "cell_type": "code",
   "execution_count": 3,
   "metadata": {},
   "outputs": [
    {
     "data": {
      "text/html": [
       "<div>\n",
       "<style scoped>\n",
       "    .dataframe tbody tr th:only-of-type {\n",
       "        vertical-align: middle;\n",
       "    }\n",
       "\n",
       "    .dataframe tbody tr th {\n",
       "        vertical-align: top;\n",
       "    }\n",
       "\n",
       "    .dataframe thead th {\n",
       "        text-align: right;\n",
       "    }\n",
       "</style>\n",
       "<table border=\"1\" class=\"dataframe\">\n",
       "  <thead>\n",
       "    <tr style=\"text-align: right;\">\n",
       "      <th></th>\n",
       "      <th>author_id</th>\n",
       "      <th>author</th>\n",
       "    </tr>\n",
       "  </thead>\n",
       "  <tbody>\n",
       "    <tr>\n",
       "      <th>0</th>\n",
       "      <td>1</td>\n",
       "      <td>A.S. Byatt</td>\n",
       "    </tr>\n",
       "    <tr>\n",
       "      <th>1</th>\n",
       "      <td>2</td>\n",
       "      <td>Aesop/Laura Harris/Laura Gibbs</td>\n",
       "    </tr>\n",
       "    <tr>\n",
       "      <th>2</th>\n",
       "      <td>3</td>\n",
       "      <td>Agatha Christie</td>\n",
       "    </tr>\n",
       "    <tr>\n",
       "      <th>3</th>\n",
       "      <td>4</td>\n",
       "      <td>Alan Brennert</td>\n",
       "    </tr>\n",
       "    <tr>\n",
       "      <th>4</th>\n",
       "      <td>5</td>\n",
       "      <td>Alan Moore/David   Lloyd</td>\n",
       "    </tr>\n",
       "    <tr>\n",
       "      <th>...</th>\n",
       "      <td>...</td>\n",
       "      <td>...</td>\n",
       "    </tr>\n",
       "    <tr>\n",
       "      <th>631</th>\n",
       "      <td>632</td>\n",
       "      <td>William Strunk Jr./E.B. White</td>\n",
       "    </tr>\n",
       "    <tr>\n",
       "      <th>632</th>\n",
       "      <td>633</td>\n",
       "      <td>Zadie Smith</td>\n",
       "    </tr>\n",
       "    <tr>\n",
       "      <th>633</th>\n",
       "      <td>634</td>\n",
       "      <td>Zilpha Keatley Snyder</td>\n",
       "    </tr>\n",
       "    <tr>\n",
       "      <th>634</th>\n",
       "      <td>635</td>\n",
       "      <td>Zora Neale Hurston</td>\n",
       "    </tr>\n",
       "    <tr>\n",
       "      <th>635</th>\n",
       "      <td>636</td>\n",
       "      <td>Åsne Seierstad/Ingrid Christopherson</td>\n",
       "    </tr>\n",
       "  </tbody>\n",
       "</table>\n",
       "<p>636 rows × 2 columns</p>\n",
       "</div>"
      ],
      "text/plain": [
       "     author_id                                author\n",
       "0            1                            A.S. Byatt\n",
       "1            2        Aesop/Laura Harris/Laura Gibbs\n",
       "2            3                       Agatha Christie\n",
       "3            4                         Alan Brennert\n",
       "4            5              Alan Moore/David   Lloyd\n",
       "..         ...                                   ...\n",
       "631        632         William Strunk Jr./E.B. White\n",
       "632        633                           Zadie Smith\n",
       "633        634                 Zilpha Keatley Snyder\n",
       "634        635                    Zora Neale Hurston\n",
       "635        636  Åsne Seierstad/Ingrid Christopherson\n",
       "\n",
       "[636 rows x 2 columns]"
      ]
     },
     "execution_count": 3,
     "metadata": {},
     "output_type": "execute_result"
    }
   ],
   "source": [
    "query = ''' SELECT *\n",
    "              FROM authors;                \n",
    "        '''\n",
    "pd.io.sql.read_sql(query, con = engine)"
   ]
  },
  {
   "cell_type": "code",
   "execution_count": 4,
   "metadata": {},
   "outputs": [
    {
     "data": {
      "text/html": [
       "<div>\n",
       "<style scoped>\n",
       "    .dataframe tbody tr th:only-of-type {\n",
       "        vertical-align: middle;\n",
       "    }\n",
       "\n",
       "    .dataframe tbody tr th {\n",
       "        vertical-align: top;\n",
       "    }\n",
       "\n",
       "    .dataframe thead th {\n",
       "        text-align: right;\n",
       "    }\n",
       "</style>\n",
       "<table border=\"1\" class=\"dataframe\">\n",
       "  <thead>\n",
       "    <tr style=\"text-align: right;\">\n",
       "      <th></th>\n",
       "      <th>publisher_id</th>\n",
       "      <th>publisher</th>\n",
       "    </tr>\n",
       "  </thead>\n",
       "  <tbody>\n",
       "    <tr>\n",
       "      <th>0</th>\n",
       "      <td>1</td>\n",
       "      <td>Ace</td>\n",
       "    </tr>\n",
       "    <tr>\n",
       "      <th>1</th>\n",
       "      <td>2</td>\n",
       "      <td>Ace Book</td>\n",
       "    </tr>\n",
       "    <tr>\n",
       "      <th>2</th>\n",
       "      <td>3</td>\n",
       "      <td>Ace Books</td>\n",
       "    </tr>\n",
       "    <tr>\n",
       "      <th>3</th>\n",
       "      <td>4</td>\n",
       "      <td>Ace Hardcover</td>\n",
       "    </tr>\n",
       "    <tr>\n",
       "      <th>4</th>\n",
       "      <td>5</td>\n",
       "      <td>Addison Wesley Publishing Company</td>\n",
       "    </tr>\n",
       "    <tr>\n",
       "      <th>...</th>\n",
       "      <td>...</td>\n",
       "      <td>...</td>\n",
       "    </tr>\n",
       "    <tr>\n",
       "      <th>335</th>\n",
       "      <td>336</td>\n",
       "      <td>Workman Publishing Company</td>\n",
       "    </tr>\n",
       "    <tr>\n",
       "      <th>336</th>\n",
       "      <td>337</td>\n",
       "      <td>Wyatt Book</td>\n",
       "    </tr>\n",
       "    <tr>\n",
       "      <th>337</th>\n",
       "      <td>338</td>\n",
       "      <td>Yale University Press</td>\n",
       "    </tr>\n",
       "    <tr>\n",
       "      <th>338</th>\n",
       "      <td>339</td>\n",
       "      <td>Yearling</td>\n",
       "    </tr>\n",
       "    <tr>\n",
       "      <th>339</th>\n",
       "      <td>340</td>\n",
       "      <td>Yearling Books</td>\n",
       "    </tr>\n",
       "  </tbody>\n",
       "</table>\n",
       "<p>340 rows × 2 columns</p>\n",
       "</div>"
      ],
      "text/plain": [
       "     publisher_id                          publisher\n",
       "0               1                                Ace\n",
       "1               2                           Ace Book\n",
       "2               3                          Ace Books\n",
       "3               4                      Ace Hardcover\n",
       "4               5  Addison Wesley Publishing Company\n",
       "..            ...                                ...\n",
       "335           336         Workman Publishing Company\n",
       "336           337                         Wyatt Book\n",
       "337           338              Yale University Press\n",
       "338           339                           Yearling\n",
       "339           340                     Yearling Books\n",
       "\n",
       "[340 rows x 2 columns]"
      ]
     },
     "execution_count": 4,
     "metadata": {},
     "output_type": "execute_result"
    }
   ],
   "source": [
    "query = ''' SELECT *\n",
    "              FROM publishers;                \n",
    "        '''\n",
    "pd.io.sql.read_sql(query, con = engine)"
   ]
  },
  {
   "cell_type": "code",
   "execution_count": 5,
   "metadata": {},
   "outputs": [
    {
     "data": {
      "text/html": [
       "<div>\n",
       "<style scoped>\n",
       "    .dataframe tbody tr th:only-of-type {\n",
       "        vertical-align: middle;\n",
       "    }\n",
       "\n",
       "    .dataframe tbody tr th {\n",
       "        vertical-align: top;\n",
       "    }\n",
       "\n",
       "    .dataframe thead th {\n",
       "        text-align: right;\n",
       "    }\n",
       "</style>\n",
       "<table border=\"1\" class=\"dataframe\">\n",
       "  <thead>\n",
       "    <tr style=\"text-align: right;\">\n",
       "      <th></th>\n",
       "      <th>rating_id</th>\n",
       "      <th>book_id</th>\n",
       "      <th>username</th>\n",
       "      <th>rating</th>\n",
       "    </tr>\n",
       "  </thead>\n",
       "  <tbody>\n",
       "    <tr>\n",
       "      <th>0</th>\n",
       "      <td>1</td>\n",
       "      <td>1</td>\n",
       "      <td>ryanfranco</td>\n",
       "      <td>4</td>\n",
       "    </tr>\n",
       "    <tr>\n",
       "      <th>1</th>\n",
       "      <td>2</td>\n",
       "      <td>1</td>\n",
       "      <td>grantpatricia</td>\n",
       "      <td>2</td>\n",
       "    </tr>\n",
       "    <tr>\n",
       "      <th>2</th>\n",
       "      <td>3</td>\n",
       "      <td>1</td>\n",
       "      <td>brandtandrea</td>\n",
       "      <td>5</td>\n",
       "    </tr>\n",
       "    <tr>\n",
       "      <th>3</th>\n",
       "      <td>4</td>\n",
       "      <td>2</td>\n",
       "      <td>lorichen</td>\n",
       "      <td>3</td>\n",
       "    </tr>\n",
       "    <tr>\n",
       "      <th>4</th>\n",
       "      <td>5</td>\n",
       "      <td>2</td>\n",
       "      <td>mariokeller</td>\n",
       "      <td>2</td>\n",
       "    </tr>\n",
       "    <tr>\n",
       "      <th>...</th>\n",
       "      <td>...</td>\n",
       "      <td>...</td>\n",
       "      <td>...</td>\n",
       "      <td>...</td>\n",
       "    </tr>\n",
       "    <tr>\n",
       "      <th>6451</th>\n",
       "      <td>6452</td>\n",
       "      <td>1000</td>\n",
       "      <td>carolrodriguez</td>\n",
       "      <td>4</td>\n",
       "    </tr>\n",
       "    <tr>\n",
       "      <th>6452</th>\n",
       "      <td>6453</td>\n",
       "      <td>1000</td>\n",
       "      <td>wendy18</td>\n",
       "      <td>4</td>\n",
       "    </tr>\n",
       "    <tr>\n",
       "      <th>6453</th>\n",
       "      <td>6454</td>\n",
       "      <td>1000</td>\n",
       "      <td>jarvispaul</td>\n",
       "      <td>5</td>\n",
       "    </tr>\n",
       "    <tr>\n",
       "      <th>6454</th>\n",
       "      <td>6455</td>\n",
       "      <td>1000</td>\n",
       "      <td>zross</td>\n",
       "      <td>2</td>\n",
       "    </tr>\n",
       "    <tr>\n",
       "      <th>6455</th>\n",
       "      <td>6456</td>\n",
       "      <td>1000</td>\n",
       "      <td>fharris</td>\n",
       "      <td>5</td>\n",
       "    </tr>\n",
       "  </tbody>\n",
       "</table>\n",
       "<p>6456 rows × 4 columns</p>\n",
       "</div>"
      ],
      "text/plain": [
       "      rating_id  book_id        username  rating\n",
       "0             1        1      ryanfranco       4\n",
       "1             2        1   grantpatricia       2\n",
       "2             3        1    brandtandrea       5\n",
       "3             4        2        lorichen       3\n",
       "4             5        2     mariokeller       2\n",
       "...         ...      ...             ...     ...\n",
       "6451       6452     1000  carolrodriguez       4\n",
       "6452       6453     1000         wendy18       4\n",
       "6453       6454     1000      jarvispaul       5\n",
       "6454       6455     1000           zross       2\n",
       "6455       6456     1000         fharris       5\n",
       "\n",
       "[6456 rows x 4 columns]"
      ]
     },
     "execution_count": 5,
     "metadata": {},
     "output_type": "execute_result"
    }
   ],
   "source": [
    "query = ''' SELECT *\n",
    "              FROM ratings;                \n",
    "        '''\n",
    "pd.io.sql.read_sql(query, con = engine)"
   ]
  },
  {
   "cell_type": "code",
   "execution_count": 6,
   "metadata": {},
   "outputs": [
    {
     "data": {
      "text/html": [
       "<div>\n",
       "<style scoped>\n",
       "    .dataframe tbody tr th:only-of-type {\n",
       "        vertical-align: middle;\n",
       "    }\n",
       "\n",
       "    .dataframe tbody tr th {\n",
       "        vertical-align: top;\n",
       "    }\n",
       "\n",
       "    .dataframe thead th {\n",
       "        text-align: right;\n",
       "    }\n",
       "</style>\n",
       "<table border=\"1\" class=\"dataframe\">\n",
       "  <thead>\n",
       "    <tr style=\"text-align: right;\">\n",
       "      <th></th>\n",
       "      <th>review_id</th>\n",
       "      <th>book_id</th>\n",
       "      <th>username</th>\n",
       "      <th>text</th>\n",
       "    </tr>\n",
       "  </thead>\n",
       "  <tbody>\n",
       "    <tr>\n",
       "      <th>0</th>\n",
       "      <td>1</td>\n",
       "      <td>1</td>\n",
       "      <td>brandtandrea</td>\n",
       "      <td>Mention society tell send professor analysis. ...</td>\n",
       "    </tr>\n",
       "    <tr>\n",
       "      <th>1</th>\n",
       "      <td>2</td>\n",
       "      <td>1</td>\n",
       "      <td>ryanfranco</td>\n",
       "      <td>Foot glass pretty audience hit themselves. Amo...</td>\n",
       "    </tr>\n",
       "    <tr>\n",
       "      <th>2</th>\n",
       "      <td>3</td>\n",
       "      <td>2</td>\n",
       "      <td>lorichen</td>\n",
       "      <td>Listen treat keep worry. Miss husband tax but ...</td>\n",
       "    </tr>\n",
       "    <tr>\n",
       "      <th>3</th>\n",
       "      <td>4</td>\n",
       "      <td>3</td>\n",
       "      <td>johnsonamanda</td>\n",
       "      <td>Finally month interesting blue could nature cu...</td>\n",
       "    </tr>\n",
       "    <tr>\n",
       "      <th>4</th>\n",
       "      <td>5</td>\n",
       "      <td>3</td>\n",
       "      <td>scotttamara</td>\n",
       "      <td>Nation purpose heavy give wait song will. List...</td>\n",
       "    </tr>\n",
       "    <tr>\n",
       "      <th>...</th>\n",
       "      <td>...</td>\n",
       "      <td>...</td>\n",
       "      <td>...</td>\n",
       "      <td>...</td>\n",
       "    </tr>\n",
       "    <tr>\n",
       "      <th>2788</th>\n",
       "      <td>2789</td>\n",
       "      <td>999</td>\n",
       "      <td>martinadam</td>\n",
       "      <td>Later hospital turn easy community. Fact same ...</td>\n",
       "    </tr>\n",
       "    <tr>\n",
       "      <th>2789</th>\n",
       "      <td>2790</td>\n",
       "      <td>1000</td>\n",
       "      <td>wknight</td>\n",
       "      <td>Change lose answer close pressure. Spend so now.</td>\n",
       "    </tr>\n",
       "    <tr>\n",
       "      <th>2790</th>\n",
       "      <td>2791</td>\n",
       "      <td>1000</td>\n",
       "      <td>carolrodriguez</td>\n",
       "      <td>Authority go who television entire hair guy po...</td>\n",
       "    </tr>\n",
       "    <tr>\n",
       "      <th>2791</th>\n",
       "      <td>2792</td>\n",
       "      <td>1000</td>\n",
       "      <td>wendy18</td>\n",
       "      <td>Or western offer wonder ask. More hear phone f...</td>\n",
       "    </tr>\n",
       "    <tr>\n",
       "      <th>2792</th>\n",
       "      <td>2793</td>\n",
       "      <td>1000</td>\n",
       "      <td>jarvispaul</td>\n",
       "      <td>Republican staff bit eat material measure plan...</td>\n",
       "    </tr>\n",
       "  </tbody>\n",
       "</table>\n",
       "<p>2793 rows × 4 columns</p>\n",
       "</div>"
      ],
      "text/plain": [
       "      review_id  book_id        username  \\\n",
       "0             1        1    brandtandrea   \n",
       "1             2        1      ryanfranco   \n",
       "2             3        2        lorichen   \n",
       "3             4        3   johnsonamanda   \n",
       "4             5        3     scotttamara   \n",
       "...         ...      ...             ...   \n",
       "2788       2789      999      martinadam   \n",
       "2789       2790     1000         wknight   \n",
       "2790       2791     1000  carolrodriguez   \n",
       "2791       2792     1000         wendy18   \n",
       "2792       2793     1000      jarvispaul   \n",
       "\n",
       "                                                   text  \n",
       "0     Mention society tell send professor analysis. ...  \n",
       "1     Foot glass pretty audience hit themselves. Amo...  \n",
       "2     Listen treat keep worry. Miss husband tax but ...  \n",
       "3     Finally month interesting blue could nature cu...  \n",
       "4     Nation purpose heavy give wait song will. List...  \n",
       "...                                                 ...  \n",
       "2788  Later hospital turn easy community. Fact same ...  \n",
       "2789   Change lose answer close pressure. Spend so now.  \n",
       "2790  Authority go who television entire hair guy po...  \n",
       "2791  Or western offer wonder ask. More hear phone f...  \n",
       "2792  Republican staff bit eat material measure plan...  \n",
       "\n",
       "[2793 rows x 4 columns]"
      ]
     },
     "execution_count": 6,
     "metadata": {},
     "output_type": "execute_result"
    }
   ],
   "source": [
    "query = ''' SELECT *\n",
    "              FROM reviews;               \n",
    "        '''\n",
    "pd.io.sql.read_sql(query, con = engine)"
   ]
  },
  {
   "cell_type": "markdown",
   "metadata": {},
   "source": [
    "Итак, мы имеем 1000 различных книг 635 авторов, изданных в 339 издательствах."
   ]
  },
  {
   "cell_type": "markdown",
   "metadata": {},
   "source": [
    "## Задания\n",
    "- Посчитать, сколько книг вышло после 1 января 2000 года;\n",
    "- Для каждой книги посчитать количество обзоров и среднюю оценку;\n",
    "- Определить издательство, которое выпустило наибольшее число книг толще 50 страниц, таким образом исключая из анализа брошюры;\n",
    "- Определить автора с самой высокой средней оценкой книг, учитывая только книги с 50 и более оценками;\n",
    "- Посчитать среднее количество обзоров от пользователей, которые поставили больше 50 оценок."
   ]
  },
  {
   "cell_type": "markdown",
   "metadata": {},
   "source": [
    "### Cколько книг вышло после 1 января 2000 года"
   ]
  },
  {
   "cell_type": "code",
   "execution_count": 7,
   "metadata": {},
   "outputs": [
    {
     "data": {
      "text/html": [
       "<div>\n",
       "<style scoped>\n",
       "    .dataframe tbody tr th:only-of-type {\n",
       "        vertical-align: middle;\n",
       "    }\n",
       "\n",
       "    .dataframe tbody tr th {\n",
       "        vertical-align: top;\n",
       "    }\n",
       "\n",
       "    .dataframe thead th {\n",
       "        text-align: right;\n",
       "    }\n",
       "</style>\n",
       "<table border=\"1\" class=\"dataframe\">\n",
       "  <thead>\n",
       "    <tr style=\"text-align: right;\">\n",
       "      <th></th>\n",
       "      <th>about</th>\n",
       "      <th>count</th>\n",
       "    </tr>\n",
       "  </thead>\n",
       "  <tbody>\n",
       "    <tr>\n",
       "      <th>0</th>\n",
       "      <td>Кол-во книг, вышедших после 1 января 2000 г</td>\n",
       "      <td>819</td>\n",
       "    </tr>\n",
       "  </tbody>\n",
       "</table>\n",
       "</div>"
      ],
      "text/plain": [
       "                                         about  count\n",
       "0  Кол-во книг, вышедших после 1 января 2000 г    819"
      ]
     },
     "execution_count": 7,
     "metadata": {},
     "output_type": "execute_result"
    }
   ],
   "source": [
    "# Количество книг, вышедших после 1 января 2000 года\n",
    "\n",
    "query = ''' SELECT 'Кол-во книг, вышедших после 1 января 2000 г' AS about,\n",
    "                    COUNT(DISTINCT book_id) \n",
    "              FROM books\n",
    "             WHERE publication_date > '2000-01-01';\n",
    "        '''\n",
    "\n",
    "pd.io.sql.read_sql(query, con = engine)"
   ]
  },
  {
   "cell_type": "markdown",
   "metadata": {},
   "source": [
    "Большая часть книг вышла после этой даты (819 из 1000)."
   ]
  },
  {
   "cell_type": "markdown",
   "metadata": {},
   "source": [
    "### Для каждой книги посчитать количество обзоров и среднюю оценку"
   ]
  },
  {
   "cell_type": "code",
   "execution_count": 8,
   "metadata": {
    "scrolled": true
   },
   "outputs": [
    {
     "data": {
      "text/html": [
       "<div>\n",
       "<style scoped>\n",
       "    .dataframe tbody tr th:only-of-type {\n",
       "        vertical-align: middle;\n",
       "    }\n",
       "\n",
       "    .dataframe tbody tr th {\n",
       "        vertical-align: top;\n",
       "    }\n",
       "\n",
       "    .dataframe thead th {\n",
       "        text-align: right;\n",
       "    }\n",
       "</style>\n",
       "<table border=\"1\" class=\"dataframe\">\n",
       "  <thead>\n",
       "    <tr style=\"text-align: right;\">\n",
       "      <th></th>\n",
       "      <th>title</th>\n",
       "      <th>review_number</th>\n",
       "      <th>mean_rating</th>\n",
       "    </tr>\n",
       "  </thead>\n",
       "  <tbody>\n",
       "    <tr>\n",
       "      <th>0</th>\n",
       "      <td>The Body in the Library (Miss Marple  #3)</td>\n",
       "      <td>2.0</td>\n",
       "      <td>4.50</td>\n",
       "    </tr>\n",
       "    <tr>\n",
       "      <th>1</th>\n",
       "      <td>Galápagos</td>\n",
       "      <td>2.0</td>\n",
       "      <td>4.50</td>\n",
       "    </tr>\n",
       "    <tr>\n",
       "      <th>2</th>\n",
       "      <td>A Tree Grows in Brooklyn</td>\n",
       "      <td>5.0</td>\n",
       "      <td>4.25</td>\n",
       "    </tr>\n",
       "    <tr>\n",
       "      <th>3</th>\n",
       "      <td>Undaunted Courage: The Pioneering First Missio...</td>\n",
       "      <td>2.0</td>\n",
       "      <td>4.00</td>\n",
       "    </tr>\n",
       "    <tr>\n",
       "      <th>4</th>\n",
       "      <td>The Prophet</td>\n",
       "      <td>4.0</td>\n",
       "      <td>4.29</td>\n",
       "    </tr>\n",
       "    <tr>\n",
       "      <th>...</th>\n",
       "      <td>...</td>\n",
       "      <td>...</td>\n",
       "      <td>...</td>\n",
       "    </tr>\n",
       "    <tr>\n",
       "      <th>987</th>\n",
       "      <td>The Cat in the Hat and Other Dr. Seuss Favorites</td>\n",
       "      <td>NaN</td>\n",
       "      <td>5.00</td>\n",
       "    </tr>\n",
       "    <tr>\n",
       "      <th>988</th>\n",
       "      <td>Anne Rice's The Vampire Lestat: A Graphic Novel</td>\n",
       "      <td>NaN</td>\n",
       "      <td>3.67</td>\n",
       "    </tr>\n",
       "    <tr>\n",
       "      <th>989</th>\n",
       "      <td>Essential Tales and Poems</td>\n",
       "      <td>NaN</td>\n",
       "      <td>4.00</td>\n",
       "    </tr>\n",
       "    <tr>\n",
       "      <th>990</th>\n",
       "      <td>Leonardo's Notebooks</td>\n",
       "      <td>NaN</td>\n",
       "      <td>4.00</td>\n",
       "    </tr>\n",
       "    <tr>\n",
       "      <th>991</th>\n",
       "      <td>The Natural Way to Draw</td>\n",
       "      <td>NaN</td>\n",
       "      <td>3.00</td>\n",
       "    </tr>\n",
       "  </tbody>\n",
       "</table>\n",
       "<p>992 rows × 3 columns</p>\n",
       "</div>"
      ],
      "text/plain": [
       "                                                 title  review_number  \\\n",
       "0            The Body in the Library (Miss Marple  #3)            2.0   \n",
       "1                                            Galápagos            2.0   \n",
       "2                             A Tree Grows in Brooklyn            5.0   \n",
       "3    Undaunted Courage: The Pioneering First Missio...            2.0   \n",
       "4                                          The Prophet            4.0   \n",
       "..                                                 ...            ...   \n",
       "987   The Cat in the Hat and Other Dr. Seuss Favorites            NaN   \n",
       "988    Anne Rice's The Vampire Lestat: A Graphic Novel            NaN   \n",
       "989                          Essential Tales and Poems            NaN   \n",
       "990                               Leonardo's Notebooks            NaN   \n",
       "991                            The Natural Way to Draw            NaN   \n",
       "\n",
       "     mean_rating  \n",
       "0           4.50  \n",
       "1           4.50  \n",
       "2           4.25  \n",
       "3           4.00  \n",
       "4           4.29  \n",
       "..           ...  \n",
       "987         5.00  \n",
       "988         3.67  \n",
       "989         4.00  \n",
       "990         4.00  \n",
       "991         3.00  \n",
       "\n",
       "[992 rows x 3 columns]"
      ]
     },
     "execution_count": 8,
     "metadata": {},
     "output_type": "execute_result"
    }
   ],
   "source": [
    "#  количество обзоров и средняя оценка для каждой книги   \n",
    "\n",
    "query = '''          \n",
    "            WITH       \n",
    "                 new_rating AS (            /* посчитали среднюю оценку  */\n",
    "                                SELECT book_id,\n",
    "                                       ROUND(AVG(rating),2) AS mean_rating\n",
    "                                  FROM ratings \n",
    "                                 GROUP BY book_id\n",
    "                               ),\n",
    "                         \n",
    "                 new_review AS (            /* посчитали кол-во ревью  */\n",
    "                                SELECT book_id,\n",
    "                                       COUNT(review_id) AS review_number\n",
    "                                  FROM reviews\n",
    "                                 GROUP BY book_id\n",
    "                               )\n",
    "                              \n",
    "          SELECT b.title,\n",
    "                 rev.review_number,\n",
    "                 rat.mean_rating\n",
    "                 \n",
    "            FROM books AS b\n",
    "            LEFT OUTER JOIN new_rating AS rat ON b.book_id = rat.book_id\n",
    "            LEFT OUTER JOIN new_review AS rev ON b.book_id = rev.book_id\n",
    "           WHERE b.num_pages > 50\n",
    "                ;            \n",
    "        '''\n",
    "\n",
    "pd.io.sql.read_sql(query, con = engine)"
   ]
  },
  {
   "cell_type": "markdown",
   "metadata": {},
   "source": [
    "###  Определить издательство, которое выпустило наибольшее число книг толще 50 страниц, таким образом исключая из анализа брошюры"
   ]
  },
  {
   "cell_type": "code",
   "execution_count": 9,
   "metadata": {},
   "outputs": [
    {
     "data": {
      "text/html": [
       "<div>\n",
       "<style scoped>\n",
       "    .dataframe tbody tr th:only-of-type {\n",
       "        vertical-align: middle;\n",
       "    }\n",
       "\n",
       "    .dataframe tbody tr th {\n",
       "        vertical-align: top;\n",
       "    }\n",
       "\n",
       "    .dataframe thead th {\n",
       "        text-align: right;\n",
       "    }\n",
       "</style>\n",
       "<table border=\"1\" class=\"dataframe\">\n",
       "  <thead>\n",
       "    <tr style=\"text-align: right;\">\n",
       "      <th></th>\n",
       "      <th>publisher</th>\n",
       "      <th>books_number</th>\n",
       "    </tr>\n",
       "  </thead>\n",
       "  <tbody>\n",
       "    <tr>\n",
       "      <th>0</th>\n",
       "      <td>Penguin Books</td>\n",
       "      <td>42</td>\n",
       "    </tr>\n",
       "  </tbody>\n",
       "</table>\n",
       "</div>"
      ],
      "text/plain": [
       "       publisher  books_number\n",
       "0  Penguin Books            42"
      ]
     },
     "execution_count": 9,
     "metadata": {},
     "output_type": "execute_result"
    }
   ],
   "source": [
    "#  Издательство, которое выпустило наибольшее число книг (толще 50 страниц)\n",
    "\n",
    "query = ''' SELECT p.publisher,\n",
    "                   COUNT(p.publisher_id) AS books_number  \n",
    "                   \n",
    "              FROM books AS b\n",
    "              LEFT OUTER JOIN publishers AS p ON b.publisher_id = p.publisher_id\n",
    "             WHERE b.num_pages > 50\n",
    "             GROUP BY p.publisher_id\n",
    "             ORDER BY COUNT(p.publisher_id) DESC\n",
    "             LIMIT 1;\n",
    "        '''\n",
    "\n",
    "pd.io.sql.read_sql(query, con = engine)"
   ]
  },
  {
   "cell_type": "markdown",
   "metadata": {},
   "source": [
    "Больше всего книг из этой базы данных выпустило издательство Penguin Books - 42 книги."
   ]
  },
  {
   "cell_type": "markdown",
   "metadata": {},
   "source": [
    "### Определить автора с самой высокой средней оценкой книг, учитывая только книги с 50 и более оценками"
   ]
  },
  {
   "cell_type": "code",
   "execution_count": 10,
   "metadata": {
    "scrolled": true
   },
   "outputs": [
    {
     "data": {
      "text/html": [
       "<div>\n",
       "<style scoped>\n",
       "    .dataframe tbody tr th:only-of-type {\n",
       "        vertical-align: middle;\n",
       "    }\n",
       "\n",
       "    .dataframe tbody tr th {\n",
       "        vertical-align: top;\n",
       "    }\n",
       "\n",
       "    .dataframe thead th {\n",
       "        text-align: right;\n",
       "    }\n",
       "</style>\n",
       "<table border=\"1\" class=\"dataframe\">\n",
       "  <thead>\n",
       "    <tr style=\"text-align: right;\">\n",
       "      <th></th>\n",
       "      <th>author</th>\n",
       "      <th>mean_rating</th>\n",
       "    </tr>\n",
       "  </thead>\n",
       "  <tbody>\n",
       "    <tr>\n",
       "      <th>0</th>\n",
       "      <td>J.K. Rowling/Mary GrandPré</td>\n",
       "      <td>4.414634</td>\n",
       "    </tr>\n",
       "  </tbody>\n",
       "</table>\n",
       "</div>"
      ],
      "text/plain": [
       "                       author  mean_rating\n",
       "0  J.K. Rowling/Mary GrandPré     4.414634"
      ]
     },
     "execution_count": 10,
     "metadata": {},
     "output_type": "execute_result"
    }
   ],
   "source": [
    "#  Автор с самой высокой средней оценкой книги (учитены только книги с 50 и более оценками)\n",
    "\n",
    "query = '''   WITH    \n",
    "                   select_book AS (            /* Сразу нашли одну книгу из \">=50 оценок\" и max AVG */\n",
    "                                   SELECT book_id,\n",
    "                                          AVG(rating) AS mean_rating  /* Нашли средний рейтинг книг */\n",
    "                                     FROM ratings \n",
    "                                    GROUP BY book_id\n",
    "                                   HAVING COUNT(rating_id) >= 50 /* Оставили только книги с 50 и более оценками */ \n",
    "                                    ORDER BY AVG(rating) DESC     /* Сортировка по убыванию */\n",
    "                                    LIMIT 1                       /* Один (первый) элемент - MAX значение */\n",
    "                                  )\n",
    "            SELECT a.author,\n",
    "                   sb.mean_rating\n",
    "           \n",
    "              FROM select_book AS sb\n",
    "              LEFT OUTER JOIN books AS b ON sb.book_id  = b.book_id\n",
    "              LEFT OUTER JOIN authors AS a ON b.author_id  = a.author_id;\n",
    "              \n",
    "        '''\n",
    "\n",
    "pd.io.sql.read_sql(query, con = engine)"
   ]
  },
  {
   "cell_type": "markdown",
   "metadata": {},
   "source": [
    "Это J.K. Rowling/Mary GrandPré"
   ]
  },
  {
   "cell_type": "markdown",
   "metadata": {},
   "source": [
    "### Посчитать среднее количество обзоров от пользователей, которые поставили больше 50 оценок"
   ]
  },
  {
   "cell_type": "code",
   "execution_count": 11,
   "metadata": {},
   "outputs": [
    {
     "data": {
      "text/html": [
       "<div>\n",
       "<style scoped>\n",
       "    .dataframe tbody tr th:only-of-type {\n",
       "        vertical-align: middle;\n",
       "    }\n",
       "\n",
       "    .dataframe tbody tr th {\n",
       "        vertical-align: top;\n",
       "    }\n",
       "\n",
       "    .dataframe thead th {\n",
       "        text-align: right;\n",
       "    }\n",
       "</style>\n",
       "<table border=\"1\" class=\"dataframe\">\n",
       "  <thead>\n",
       "    <tr style=\"text-align: right;\">\n",
       "      <th></th>\n",
       "      <th>mean_review</th>\n",
       "    </tr>\n",
       "  </thead>\n",
       "  <tbody>\n",
       "    <tr>\n",
       "      <th>0</th>\n",
       "      <td>24.33</td>\n",
       "    </tr>\n",
       "  </tbody>\n",
       "</table>\n",
       "</div>"
      ],
      "text/plain": [
       "   mean_review\n",
       "0        24.33"
      ]
     },
     "execution_count": 11,
     "metadata": {},
     "output_type": "execute_result"
    }
   ],
   "source": [
    "# Среднее количество обзоров от пользователей, которые поставили больше 50 оценок\n",
    "\n",
    "query = ''' WITH       \n",
    "                 new_rating AS (            /* отобрали пользователей с кол-вом оценок > 50) */\n",
    "                                SELECT username\n",
    "                                  FROM ratings \n",
    "                                 GROUP BY username\n",
    "                                HAVING COUNT(book_id) > 50\n",
    "                               ),\n",
    "                               \n",
    "                 new_review AS (            /* посчитали кол-во ревью у пользователей */\n",
    "                               SELECT username,\n",
    "                                      COUNT(book_id) AS reviews_number\n",
    "                                 FROM reviews\n",
    "                                GROUP BY username\n",
    "                               )\n",
    "                              \n",
    "          SELECT ROUND(AVG(nrev.reviews_number),2) AS mean_review   \n",
    "                                            /*  Нашли среднее арифм. в сводной таблице и округлили */\n",
    "            FROM new_review AS nrev\n",
    "           INNER JOIN new_rating AS nrat ON nrat.username = nrev.username; \n",
    "        '''\n",
    "pd.io.sql.read_sql(query, con = engine)"
   ]
  },
  {
   "cell_type": "markdown",
   "metadata": {},
   "source": [
    "Наиболее активные пользователи (критики) оставляют в среднем порядка 24-25 отзывов на прочитанные книги."
   ]
  }
 ],
 "metadata": {
  "ExecuteTimeLog": [
   {
    "duration": 6858,
    "start_time": "2022-05-15T08:21:26.247Z"
   },
   {
    "duration": 301,
    "start_time": "2022-05-15T08:21:33.107Z"
   },
   {
    "duration": 86,
    "start_time": "2022-05-15T08:21:33.410Z"
   },
   {
    "duration": 82,
    "start_time": "2022-05-15T08:21:33.498Z"
   },
   {
    "duration": 80,
    "start_time": "2022-05-15T08:21:33.583Z"
   },
   {
    "duration": 79,
    "start_time": "2022-05-15T08:21:33.665Z"
   },
   {
    "duration": 78,
    "start_time": "2022-05-15T08:21:33.745Z"
   },
   {
    "duration": 95,
    "start_time": "2022-05-15T08:21:33.825Z"
   },
   {
    "duration": 79,
    "start_time": "2022-05-15T08:21:33.921Z"
   },
   {
    "duration": 82,
    "start_time": "2022-05-15T08:21:34.001Z"
   },
   {
    "duration": 82,
    "start_time": "2022-05-15T08:21:34.085Z"
   },
   {
    "duration": 80,
    "start_time": "2022-05-15T08:22:27.279Z"
   },
   {
    "duration": 6705,
    "start_time": "2022-05-15T08:23:26.126Z"
   },
   {
    "duration": 278,
    "start_time": "2022-05-15T08:23:32.832Z"
   },
   {
    "duration": 73,
    "start_time": "2022-05-15T08:23:33.112Z"
   },
   {
    "duration": 73,
    "start_time": "2022-05-15T08:23:33.187Z"
   },
   {
    "duration": 76,
    "start_time": "2022-05-15T08:23:33.261Z"
   },
   {
    "duration": 73,
    "start_time": "2022-05-15T08:23:33.339Z"
   },
   {
    "duration": 71,
    "start_time": "2022-05-15T08:23:33.414Z"
   },
   {
    "duration": 85,
    "start_time": "2022-05-15T08:23:33.487Z"
   },
   {
    "duration": 75,
    "start_time": "2022-05-15T08:23:33.574Z"
   },
   {
    "duration": 77,
    "start_time": "2022-05-15T08:23:33.651Z"
   },
   {
    "duration": 73,
    "start_time": "2022-05-15T08:23:33.730Z"
   },
   {
    "duration": 8721,
    "start_time": "2022-05-15T12:53:12.423Z"
   },
   {
    "duration": 307,
    "start_time": "2022-05-15T12:53:21.147Z"
   },
   {
    "duration": 88,
    "start_time": "2022-05-15T12:53:21.458Z"
   },
   {
    "duration": 83,
    "start_time": "2022-05-15T12:53:21.548Z"
   },
   {
    "duration": 78,
    "start_time": "2022-05-15T12:53:21.635Z"
   },
   {
    "duration": 96,
    "start_time": "2022-05-15T12:53:21.715Z"
   },
   {
    "duration": 92,
    "start_time": "2022-05-15T12:53:21.813Z"
   },
   {
    "duration": 94,
    "start_time": "2022-05-15T12:53:21.907Z"
   },
   {
    "duration": 92,
    "start_time": "2022-05-15T12:53:22.003Z"
   },
   {
    "duration": 96,
    "start_time": "2022-05-15T12:53:22.098Z"
   },
   {
    "duration": 93,
    "start_time": "2022-05-15T12:53:22.197Z"
   },
   {
    "duration": 100,
    "start_time": "2022-05-15T12:54:09.786Z"
   },
   {
    "duration": 80,
    "start_time": "2022-05-15T12:54:14.336Z"
   },
   {
    "duration": 6826,
    "start_time": "2022-05-15T15:16:40.186Z"
   },
   {
    "duration": 304,
    "start_time": "2022-05-15T15:16:47.015Z"
   },
   {
    "duration": 79,
    "start_time": "2022-05-15T15:16:47.321Z"
   },
   {
    "duration": 81,
    "start_time": "2022-05-15T15:16:47.402Z"
   },
   {
    "duration": 103,
    "start_time": "2022-05-15T15:16:47.487Z"
   },
   {
    "duration": 74,
    "start_time": "2022-05-15T15:16:47.592Z"
   },
   {
    "duration": 67,
    "start_time": "2022-05-15T15:16:47.668Z"
   },
   {
    "duration": 89,
    "start_time": "2022-05-15T15:16:47.737Z"
   },
   {
    "duration": 73,
    "start_time": "2022-05-15T15:16:47.828Z"
   },
   {
    "duration": 77,
    "start_time": "2022-05-15T15:16:47.904Z"
   },
   {
    "duration": 71,
    "start_time": "2022-05-15T15:16:47.983Z"
   },
   {
    "duration": 293,
    "start_time": "2022-05-15T15:21:59.692Z"
   },
   {
    "duration": 203,
    "start_time": "2022-05-15T15:22:22.054Z"
   },
   {
    "duration": 172,
    "start_time": "2022-05-15T15:22:53.367Z"
   },
   {
    "duration": 168,
    "start_time": "2022-05-15T15:23:28.722Z"
   },
   {
    "duration": 96,
    "start_time": "2022-05-15T15:23:40.178Z"
   },
   {
    "duration": 101,
    "start_time": "2022-05-15T15:31:33.176Z"
   },
   {
    "duration": 98,
    "start_time": "2022-05-15T16:29:08.032Z"
   },
   {
    "duration": 98,
    "start_time": "2022-05-15T16:30:32.505Z"
   },
   {
    "duration": 5712,
    "start_time": "2022-05-15T16:30:54.695Z"
   },
   {
    "duration": 236,
    "start_time": "2022-05-15T16:31:00.409Z"
   },
   {
    "duration": 66,
    "start_time": "2022-05-15T16:31:00.648Z"
   },
   {
    "duration": 67,
    "start_time": "2022-05-15T16:31:00.717Z"
   },
   {
    "duration": 91,
    "start_time": "2022-05-15T16:31:00.786Z"
   },
   {
    "duration": 63,
    "start_time": "2022-05-15T16:31:00.880Z"
   },
   {
    "duration": 63,
    "start_time": "2022-05-15T16:31:00.945Z"
   },
   {
    "duration": 80,
    "start_time": "2022-05-15T16:31:01.010Z"
   },
   {
    "duration": 80,
    "start_time": "2022-05-15T16:31:01.092Z"
   },
   {
    "duration": 64,
    "start_time": "2022-05-15T16:31:01.176Z"
   },
   {
    "duration": 67,
    "start_time": "2022-05-15T16:31:01.242Z"
   },
   {
    "duration": 68,
    "start_time": "2022-05-15T16:31:01.311Z"
   },
   {
    "duration": 67,
    "start_time": "2022-05-15T16:32:11.671Z"
   },
   {
    "duration": 94,
    "start_time": "2022-05-15T16:38:46.583Z"
   },
   {
    "duration": 271,
    "start_time": "2022-05-15T16:46:22.278Z"
   },
   {
    "duration": 204,
    "start_time": "2022-05-15T16:46:59.778Z"
   },
   {
    "duration": 273,
    "start_time": "2022-05-15T16:48:38.465Z"
   },
   {
    "duration": 107,
    "start_time": "2022-05-15T16:49:20.044Z"
   },
   {
    "duration": 66,
    "start_time": "2022-05-15T16:50:47.861Z"
   },
   {
    "duration": 109,
    "start_time": "2022-05-15T16:51:40.639Z"
   },
   {
    "duration": 66,
    "start_time": "2022-05-15T16:58:46.568Z"
   },
   {
    "duration": 226,
    "start_time": "2022-05-15T17:09:38.120Z"
   },
   {
    "duration": 82,
    "start_time": "2022-05-15T17:11:28.499Z"
   },
   {
    "duration": 92,
    "start_time": "2022-05-15T17:13:07.053Z"
   },
   {
    "duration": 92,
    "start_time": "2022-05-15T17:14:51.532Z"
   },
   {
    "duration": 90,
    "start_time": "2022-05-15T17:20:06.698Z"
   },
   {
    "duration": 93,
    "start_time": "2022-05-15T17:27:35.226Z"
   },
   {
    "duration": 74,
    "start_time": "2022-05-15T17:27:51.624Z"
   },
   {
    "duration": 107,
    "start_time": "2022-05-15T17:28:43.243Z"
   },
   {
    "duration": 63,
    "start_time": "2022-05-15T17:29:42.112Z"
   },
   {
    "duration": 94,
    "start_time": "2022-05-15T17:33:23.160Z"
   },
   {
    "duration": 63,
    "start_time": "2022-05-15T17:34:06.394Z"
   },
   {
    "duration": 66,
    "start_time": "2022-05-15T17:35:21.679Z"
   },
   {
    "duration": 64,
    "start_time": "2022-05-15T17:38:15.575Z"
   },
   {
    "duration": 5625,
    "start_time": "2022-05-15T17:40:31.583Z"
   },
   {
    "duration": 236,
    "start_time": "2022-05-15T17:40:37.211Z"
   },
   {
    "duration": 68,
    "start_time": "2022-05-15T17:40:37.449Z"
   },
   {
    "duration": 67,
    "start_time": "2022-05-15T17:40:37.519Z"
   },
   {
    "duration": 94,
    "start_time": "2022-05-15T17:40:37.589Z"
   },
   {
    "duration": 84,
    "start_time": "2022-05-15T17:40:37.685Z"
   },
   {
    "duration": 64,
    "start_time": "2022-05-15T17:40:37.771Z"
   },
   {
    "duration": 4,
    "start_time": "2022-05-15T17:40:37.837Z"
   },
   {
    "duration": 82,
    "start_time": "2022-05-15T17:40:37.844Z"
   },
   {
    "duration": 64,
    "start_time": "2022-05-15T17:40:37.929Z"
   },
   {
    "duration": 67,
    "start_time": "2022-05-15T17:40:37.995Z"
   },
   {
    "duration": 64,
    "start_time": "2022-05-15T17:40:38.065Z"
   },
   {
    "duration": 7895,
    "start_time": "2022-05-16T18:17:10.919Z"
   },
   {
    "duration": 270,
    "start_time": "2022-05-16T18:17:18.817Z"
   },
   {
    "duration": 80,
    "start_time": "2022-05-16T18:17:19.089Z"
   },
   {
    "duration": 74,
    "start_time": "2022-05-16T18:17:19.171Z"
   },
   {
    "duration": 111,
    "start_time": "2022-05-16T18:17:19.250Z"
   },
   {
    "duration": 93,
    "start_time": "2022-05-16T18:17:19.363Z"
   },
   {
    "duration": 69,
    "start_time": "2022-05-16T18:17:19.458Z"
   },
   {
    "duration": 4,
    "start_time": "2022-05-16T18:17:19.530Z"
   },
   {
    "duration": 114,
    "start_time": "2022-05-16T18:17:19.542Z"
   },
   {
    "duration": 71,
    "start_time": "2022-05-16T18:17:19.658Z"
   },
   {
    "duration": 75,
    "start_time": "2022-05-16T18:17:19.732Z"
   },
   {
    "duration": 73,
    "start_time": "2022-05-16T18:17:19.809Z"
   },
   {
    "duration": 290,
    "start_time": "2022-05-16T18:41:59.848Z"
   },
   {
    "duration": 185,
    "start_time": "2022-05-16T18:42:21.845Z"
   },
   {
    "duration": 186,
    "start_time": "2022-05-16T18:42:49.758Z"
   },
   {
    "duration": 68,
    "start_time": "2022-05-16T18:48:24.149Z"
   },
   {
    "duration": 91,
    "start_time": "2022-05-16T18:48:54.864Z"
   },
   {
    "duration": 72,
    "start_time": "2022-05-16T18:49:31.582Z"
   },
   {
    "duration": 72,
    "start_time": "2022-05-16T18:50:33.612Z"
   },
   {
    "duration": 79,
    "start_time": "2022-05-16T18:52:26.099Z"
   },
   {
    "duration": 81,
    "start_time": "2022-05-16T18:52:57.005Z"
   },
   {
    "duration": 68,
    "start_time": "2022-05-16T18:53:52.635Z"
   },
   {
    "duration": 72,
    "start_time": "2022-05-16T18:56:39.604Z"
   },
   {
    "duration": 71,
    "start_time": "2022-05-16T18:59:43.948Z"
   },
   {
    "duration": 251,
    "start_time": "2022-05-16T19:09:56.568Z"
   },
   {
    "duration": 205,
    "start_time": "2022-05-16T19:10:12.754Z"
   },
   {
    "duration": 187,
    "start_time": "2022-05-16T19:11:02.944Z"
   },
   {
    "duration": 215,
    "start_time": "2022-05-16T19:11:21.068Z"
   },
   {
    "duration": 3890,
    "start_time": "2022-05-16T19:12:50.182Z"
   },
   {
    "duration": 208,
    "start_time": "2022-05-16T19:13:06.541Z"
   },
   {
    "duration": 182,
    "start_time": "2022-05-16T19:13:20.993Z"
   },
   {
    "duration": 476,
    "start_time": "2022-05-16T19:14:10.842Z"
   },
   {
    "duration": 258,
    "start_time": "2022-05-16T19:15:42.088Z"
   },
   {
    "duration": 202,
    "start_time": "2022-05-16T19:15:58.492Z"
   },
   {
    "duration": 210,
    "start_time": "2022-05-16T19:16:12.720Z"
   },
   {
    "duration": 202,
    "start_time": "2022-05-16T19:18:39.151Z"
   },
   {
    "duration": 70,
    "start_time": "2022-05-16T19:18:55.052Z"
   },
   {
    "duration": 72,
    "start_time": "2022-05-16T19:19:04.146Z"
   },
   {
    "duration": 74,
    "start_time": "2022-05-16T19:20:35.374Z"
   },
   {
    "duration": 184,
    "start_time": "2022-05-16T19:21:43.066Z"
   },
   {
    "duration": 70,
    "start_time": "2022-05-16T19:22:06.696Z"
   },
   {
    "duration": 70,
    "start_time": "2022-05-16T19:22:39.326Z"
   },
   {
    "duration": 70,
    "start_time": "2022-05-16T19:30:08.018Z"
   },
   {
    "duration": 73,
    "start_time": "2022-05-16T19:34:28.486Z"
   },
   {
    "duration": 72,
    "start_time": "2022-05-16T19:36:59.028Z"
   },
   {
    "duration": 70,
    "start_time": "2022-05-16T19:37:19.172Z"
   },
   {
    "duration": 71,
    "start_time": "2022-05-16T19:37:37.879Z"
   },
   {
    "duration": 82,
    "start_time": "2022-05-16T19:42:16.865Z"
   },
   {
    "duration": 203,
    "start_time": "2022-05-16T19:43:40.737Z"
   },
   {
    "duration": 79,
    "start_time": "2022-05-16T19:43:57.433Z"
   },
   {
    "duration": 215,
    "start_time": "2022-05-16T19:48:27.137Z"
   },
   {
    "duration": 209,
    "start_time": "2022-05-16T19:48:52.144Z"
   },
   {
    "duration": 70,
    "start_time": "2022-05-16T19:49:28.678Z"
   },
   {
    "duration": 196,
    "start_time": "2022-05-16T19:50:07.413Z"
   },
   {
    "duration": 199,
    "start_time": "2022-05-16T19:50:32.606Z"
   },
   {
    "duration": 70,
    "start_time": "2022-05-16T19:50:44.208Z"
   },
   {
    "duration": 69,
    "start_time": "2022-05-16T19:51:46.974Z"
   },
   {
    "duration": 69,
    "start_time": "2022-05-16T20:05:31.949Z"
   },
   {
    "duration": 71,
    "start_time": "2022-05-16T20:05:50.439Z"
   },
   {
    "duration": 1892,
    "start_time": "2022-05-16T20:13:37.034Z"
   },
   {
    "duration": 77,
    "start_time": "2022-05-16T20:14:04.805Z"
   },
   {
    "duration": 132,
    "start_time": "2022-05-16T20:14:24.878Z"
   },
   {
    "duration": 138,
    "start_time": "2022-05-16T20:15:39.494Z"
   },
   {
    "duration": 223,
    "start_time": "2022-05-16T20:17:39.826Z"
   },
   {
    "duration": 70,
    "start_time": "2022-05-16T20:17:49.133Z"
   },
   {
    "duration": 71,
    "start_time": "2022-05-16T20:19:48.855Z"
   },
   {
    "duration": 73,
    "start_time": "2022-05-16T20:29:00.858Z"
   },
   {
    "duration": 6453,
    "start_time": "2022-05-16T20:53:58.973Z"
   },
   {
    "duration": 248,
    "start_time": "2022-05-16T20:54:05.429Z"
   },
   {
    "duration": 69,
    "start_time": "2022-05-16T20:54:05.680Z"
   },
   {
    "duration": 68,
    "start_time": "2022-05-16T20:54:05.752Z"
   },
   {
    "duration": 107,
    "start_time": "2022-05-16T20:54:05.822Z"
   },
   {
    "duration": 85,
    "start_time": "2022-05-16T20:54:05.931Z"
   },
   {
    "duration": 66,
    "start_time": "2022-05-16T20:54:06.018Z"
   },
   {
    "duration": 3,
    "start_time": "2022-05-16T20:54:06.086Z"
   },
   {
    "duration": 102,
    "start_time": "2022-05-16T20:54:06.091Z"
   },
   {
    "duration": 66,
    "start_time": "2022-05-16T20:54:06.197Z"
   },
   {
    "duration": 70,
    "start_time": "2022-05-16T20:54:06.265Z"
   },
   {
    "duration": 69,
    "start_time": "2022-05-16T20:54:06.338Z"
   },
   {
    "duration": 66,
    "start_time": "2022-05-16T20:54:06.409Z"
   },
   {
    "duration": 6351,
    "start_time": "2022-05-16T20:54:53.944Z"
   },
   {
    "duration": 233,
    "start_time": "2022-05-16T20:55:00.298Z"
   },
   {
    "duration": 67,
    "start_time": "2022-05-16T20:55:00.533Z"
   },
   {
    "duration": 67,
    "start_time": "2022-05-16T20:55:00.602Z"
   },
   {
    "duration": 101,
    "start_time": "2022-05-16T20:55:00.672Z"
   },
   {
    "duration": 83,
    "start_time": "2022-05-16T20:55:00.775Z"
   },
   {
    "duration": 62,
    "start_time": "2022-05-16T20:55:00.861Z"
   },
   {
    "duration": 3,
    "start_time": "2022-05-16T20:55:00.926Z"
   },
   {
    "duration": 119,
    "start_time": "2022-05-16T20:55:00.931Z"
   },
   {
    "duration": 64,
    "start_time": "2022-05-16T20:55:01.053Z"
   },
   {
    "duration": 67,
    "start_time": "2022-05-16T20:55:01.119Z"
   },
   {
    "duration": 67,
    "start_time": "2022-05-16T20:55:01.189Z"
   },
   {
    "duration": 66,
    "start_time": "2022-05-16T20:55:01.258Z"
   },
   {
    "duration": 13245,
    "start_time": "2022-05-17T14:32:01.587Z"
   },
   {
    "duration": 43,
    "start_time": "2022-05-17T14:32:14.834Z"
   },
   {
    "duration": 13,
    "start_time": "2022-05-17T14:32:14.878Z"
   },
   {
    "duration": 12,
    "start_time": "2022-05-17T14:32:14.892Z"
   },
   {
    "duration": 24,
    "start_time": "2022-05-17T14:32:14.906Z"
   },
   {
    "duration": 34,
    "start_time": "2022-05-17T14:32:14.931Z"
   },
   {
    "duration": 12,
    "start_time": "2022-05-17T14:32:14.966Z"
   },
   {
    "duration": 3,
    "start_time": "2022-05-17T14:32:14.979Z"
   },
   {
    "duration": 33,
    "start_time": "2022-05-17T14:32:14.983Z"
   },
   {
    "duration": 12,
    "start_time": "2022-05-17T14:32:15.017Z"
   },
   {
    "duration": 32,
    "start_time": "2022-05-17T14:32:15.031Z"
   },
   {
    "duration": 14,
    "start_time": "2022-05-17T14:32:15.065Z"
   },
   {
    "duration": 13,
    "start_time": "2022-05-17T14:48:26.710Z"
   },
   {
    "duration": 4,
    "start_time": "2022-05-17T15:05:45.076Z"
   },
   {
    "duration": 39,
    "start_time": "2022-05-17T15:05:45.081Z"
   },
   {
    "duration": 12,
    "start_time": "2022-05-17T15:05:45.121Z"
   },
   {
    "duration": 16,
    "start_time": "2022-05-17T15:05:45.135Z"
   },
   {
    "duration": 24,
    "start_time": "2022-05-17T15:05:45.153Z"
   },
   {
    "duration": 18,
    "start_time": "2022-05-17T15:05:45.179Z"
   },
   {
    "duration": 11,
    "start_time": "2022-05-17T15:05:45.198Z"
   },
   {
    "duration": 2,
    "start_time": "2022-05-17T15:05:45.210Z"
   },
   {
    "duration": 24,
    "start_time": "2022-05-17T15:05:45.214Z"
   },
   {
    "duration": 10,
    "start_time": "2022-05-17T15:05:45.240Z"
   },
   {
    "duration": 14,
    "start_time": "2022-05-17T15:05:45.264Z"
   },
   {
    "duration": 11,
    "start_time": "2022-05-17T15:05:45.280Z"
   },
   {
    "duration": 12,
    "start_time": "2022-05-17T15:05:45.292Z"
   },
   {
    "duration": 11946,
    "start_time": "2022-05-17T15:09:47.087Z"
   },
   {
    "duration": 36,
    "start_time": "2022-05-17T15:09:59.035Z"
   },
   {
    "duration": 14,
    "start_time": "2022-05-17T15:09:59.073Z"
   },
   {
    "duration": 15,
    "start_time": "2022-05-17T15:09:59.089Z"
   },
   {
    "duration": 26,
    "start_time": "2022-05-17T15:09:59.107Z"
   },
   {
    "duration": 43,
    "start_time": "2022-05-17T15:09:59.135Z"
   },
   {
    "duration": 10,
    "start_time": "2022-05-17T15:09:59.180Z"
   },
   {
    "duration": 5,
    "start_time": "2022-05-17T15:09:59.191Z"
   },
   {
    "duration": 29,
    "start_time": "2022-05-17T15:09:59.197Z"
   },
   {
    "duration": 11,
    "start_time": "2022-05-17T15:09:59.228Z"
   },
   {
    "duration": 16,
    "start_time": "2022-05-17T15:09:59.241Z"
   },
   {
    "duration": 14,
    "start_time": "2022-05-17T15:09:59.259Z"
   },
   {
    "duration": 23,
    "start_time": "2022-05-17T15:09:59.275Z"
   },
   {
    "duration": 14,
    "start_time": "2022-05-17T15:10:52.389Z"
   },
   {
    "duration": 4,
    "start_time": "2022-05-17T15:11:09.419Z"
   },
   {
    "duration": 42,
    "start_time": "2022-05-17T15:11:09.425Z"
   },
   {
    "duration": 12,
    "start_time": "2022-05-17T15:11:09.469Z"
   },
   {
    "duration": 12,
    "start_time": "2022-05-17T15:11:09.482Z"
   },
   {
    "duration": 25,
    "start_time": "2022-05-17T15:11:09.496Z"
   },
   {
    "duration": 18,
    "start_time": "2022-05-17T15:11:09.522Z"
   },
   {
    "duration": 24,
    "start_time": "2022-05-17T15:11:09.541Z"
   },
   {
    "duration": 3,
    "start_time": "2022-05-17T15:11:09.566Z"
   },
   {
    "duration": 30,
    "start_time": "2022-05-17T15:11:09.570Z"
   },
   {
    "duration": 12,
    "start_time": "2022-05-17T15:11:09.601Z"
   },
   {
    "duration": 14,
    "start_time": "2022-05-17T15:11:09.615Z"
   },
   {
    "duration": 12,
    "start_time": "2022-05-17T15:11:09.630Z"
   },
   {
    "duration": 21,
    "start_time": "2022-05-17T15:11:09.644Z"
   }
  ],
  "kernelspec": {
   "display_name": "Python 3",
   "language": "python",
   "name": "python3"
  },
  "language_info": {
   "codemirror_mode": {
    "name": "ipython",
    "version": 3
   },
   "file_extension": ".py",
   "mimetype": "text/x-python",
   "name": "python",
   "nbconvert_exporter": "python",
   "pygments_lexer": "ipython3",
   "version": "3.8.8"
  },
  "toc": {
   "base_numbering": 1,
   "nav_menu": {},
   "number_sections": false,
   "sideBar": true,
   "skip_h1_title": false,
   "title_cell": "Table of Contents",
   "title_sidebar": "Contents",
   "toc_cell": false,
   "toc_position": {},
   "toc_section_display": true,
   "toc_window_display": true
  }
 },
 "nbformat": 4,
 "nbformat_minor": 2
}
