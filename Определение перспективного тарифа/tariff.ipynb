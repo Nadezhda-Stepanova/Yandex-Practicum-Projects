{
 "cells": [
  {
   "cell_type": "markdown",
   "metadata": {},
   "source": [
    "# Определение перспективного тарифа для телеком-компании"
   ]
  },
  {
   "cell_type": "markdown",
   "metadata": {},
   "source": [
    "## Задача"
   ]
  },
  {
   "cell_type": "markdown",
   "metadata": {},
   "source": [
    "Заказчик - федеральный оператор сотовой связи компании «Мегалайн». Клиентам предлагают два тарифных плана: «Смарт» и «Ультра». Нужно проанализировать поведение клиентов и сделать вывод, какой тариф приносит больше денег. Результаты исследования будут учтены при корректировке рекламного бюджета.\n",
    "Предстоит сделать предварительный анализ тарифов на небольшой выборке клиентов. Имеются данные 500 пользователей «Мегалайна»: кто они, откуда, каким тарифом пользуются, сколько звонков и сообщений каждый отправил за 2018 год. \n",
    "\n",
    "Описание тарифов.\n",
    "- Тариф «Смарт»\n",
    "1.\tЕжемесячная плата: 550 рублей\n",
    "2.\tВключено 500 минут разговора, 50 сообщений и 15 Гб интернет-трафика\n",
    "3.\tСтоимость услуг сверх тарифного пакета: 1. минута разговора: 3 рубля («Мегалайн» всегда округляет вверх значения минут и мегабайтов. Если пользователь проговорил всего 1 секунду, в тарифе засчитывается целая минута); 2. сообщение: 3 рубля; 3. 1 Гб интернет-трафика: 200 рублей.\n",
    "- Тариф «Ультра»\n",
    "1.\tЕжемесячная плата: 1950 рублей\n",
    "2.\tВключено 3000 минут разговора, 1000 сообщений и 30 Гб интернет-трафика\n",
    "3.\tСтоимость услуг сверх тарифного пакета: 1. минута разговора: 1 рубль; 2. сообщение: 1 рубль; 3. 1 Гб интернет-трафика: 150 рублей.\n",
    "Примечание:\n",
    "«Мегалайн» всегда округляет секунды до минут, а мегабайты — до гигабайт. Каждый звонок округляется отдельно: даже если он длился всего 1 секунду, будет засчитан как 1 минута.\n",
    "Для веб-трафика отдельные сессии не считаются. Вместо этого общая сумма за месяц округляется в бо́льшую сторону. Если абонент использует 1025 мегабайт в этом месяце, с него возьмут плату за 2 гигабайта."
   ]
  },
  {
   "cell_type": "markdown",
   "metadata": {},
   "source": [
    "\n",
    "##  Изучение общей информации\n",
    "\n",
    "Путь к файлам:\n",
    "\n",
    "- /datasets/calls.csv\n",
    "- /datasets/internet.csv\n",
    "- /datasets/messages.csv\n",
    "- /datasets/tariffs.csv\n",
    "- /datasets/users.csv\n",
    "\n",
    "Импортируем pandas и другие библиотеки, переносим данные из файлов в датафреймы."
   ]
  },
  {
   "cell_type": "code",
   "execution_count": 1,
   "metadata": {},
   "outputs": [],
   "source": [
    "import pandas as pd         # Импортируем необходимые библиотеки \n",
    "import numpy as np  \n",
    "import matplotlib.pyplot as plt\n",
    "from scipy import stats as st\n",
    "\n",
    "import warnings             # отключили предупреждения         \n",
    "warnings.filterwarnings('ignore')                   "
   ]
  },
  {
   "cell_type": "code",
   "execution_count": 2,
   "metadata": {},
   "outputs": [],
   "source": [
    "data_calls = pd.read_csv('calls.csv')\n",
    "data_internet = pd.read_csv('internet.csv')\n",
    "data_messages = pd.read_csv('messages.csv')\n",
    "data_tariffs = pd.read_csv('tariffs.csv')\n",
    "data_users = pd.read_csv('users.csv')"
   ]
  },
  {
   "cell_type": "markdown",
   "metadata": {},
   "source": [
    "Из описания данных имеем следующую информацию:\n",
    "\n",
    "Таблица users (информация о пользователях):\n",
    "•\tuser_id — уникальный идентификатор пользователя\n",
    "•\tfirst_name — имя пользователя\n",
    "•\tlast_name — фамилия пользователя\n",
    "•\tage — возраст пользователя (годы)\n",
    "•\treg_date — дата подключения тарифа (день, месяц, год)\n",
    "•\tchurn_date — дата прекращения пользования тарифом (если значение пропущено, то тариф ещё действовал на момент выгрузки данных)\n",
    "•\tcity — город проживания пользователя\n",
    "•\ttarif — название тарифного плана\n",
    "\n",
    "Таблица calls (информация о звонках):\n",
    "•\tid — уникальный номер звонка\n",
    "•\tcall_date — дата звонка\n",
    "•\tduration — длительность звонка в минутах\n",
    "•\tuser_id — идентификатор пользователя, сделавшего звонок\n",
    "\n",
    "Таблица messages (информация о сообщениях):\n",
    "•\tid — уникальный номер сообщения\n",
    "•\tmessage_date — дата сообщения\n",
    "•\tuser_id — идентификатор пользователя, отправившего сообщение\n",
    "\n",
    "Таблица internet (информация об интернет-сессиях):\n",
    "•\tid — уникальный номер сессии\n",
    "•\tmb_used — объём потраченного за сессию интернет-трафика (в мегабайтах)\n",
    "•\tsession_date — дата интернет-сессии\n",
    "•\tuser_id — идентификатор пользователя\n",
    "\n",
    "Таблица tariffs (информация о тарифах):\n",
    "•\ttariff_name — название тарифа\n",
    "•\trub_monthly_fee — ежемесячная абонентская плата в рублях\n",
    "•\tminutes_included — количество минут разговора в месяц, включённых в абонентскую плату\n",
    "•\tmessages_included — количество сообщений в месяц, включённых в абонентскую плату\n",
    "•\tmb_per_month_included — объём интернет-трафика, включённого в абонентскую плату (в мегабайтах)\n",
    "•\trub_per_minute — стоимость минуты разговора сверх тарифного пакета (например, если в тарифе 100 минут разговора в месяц, то со 101 минуты будет взиматься плата)\n",
    "•\trub_per_message — стоимость отправки сообщения сверх тарифного пакета\n",
    "•\trub_per_gb — стоимость дополнительного гигабайта интернет-трафика сверх тарифного пакета (1 гигабайт = 1024 мегабайта)"
   ]
  },
  {
   "cell_type": "code",
   "execution_count": 3,
   "metadata": {
    "scrolled": false
   },
   "outputs": [
    {
     "name": "stdout",
     "output_type": "stream",
     "text": [
      "<class 'pandas.core.frame.DataFrame'>\n",
      "RangeIndex: 500 entries, 0 to 499\n",
      "Data columns (total 8 columns):\n",
      " #   Column      Non-Null Count  Dtype \n",
      "---  ------      --------------  ----- \n",
      " 0   user_id     500 non-null    int64 \n",
      " 1   age         500 non-null    int64 \n",
      " 2   churn_date  38 non-null     object\n",
      " 3   city        500 non-null    object\n",
      " 4   first_name  500 non-null    object\n",
      " 5   last_name   500 non-null    object\n",
      " 6   reg_date    500 non-null    object\n",
      " 7   tariff      500 non-null    object\n",
      "dtypes: int64(2), object(6)\n",
      "memory usage: 31.4+ KB\n"
     ]
    }
   ],
   "source": [
    "data_users.info()  # Данные о пользователях"
   ]
  },
  {
   "cell_type": "code",
   "execution_count": 4,
   "metadata": {},
   "outputs": [
    {
     "data": {
      "text/html": [
       "<div>\n",
       "<style scoped>\n",
       "    .dataframe tbody tr th:only-of-type {\n",
       "        vertical-align: middle;\n",
       "    }\n",
       "\n",
       "    .dataframe tbody tr th {\n",
       "        vertical-align: top;\n",
       "    }\n",
       "\n",
       "    .dataframe thead th {\n",
       "        text-align: right;\n",
       "    }\n",
       "</style>\n",
       "<table border=\"1\" class=\"dataframe\">\n",
       "  <thead>\n",
       "    <tr style=\"text-align: right;\">\n",
       "      <th></th>\n",
       "      <th>user_id</th>\n",
       "      <th>age</th>\n",
       "      <th>churn_date</th>\n",
       "      <th>city</th>\n",
       "      <th>first_name</th>\n",
       "      <th>last_name</th>\n",
       "      <th>reg_date</th>\n",
       "      <th>tariff</th>\n",
       "    </tr>\n",
       "  </thead>\n",
       "  <tbody>\n",
       "    <tr>\n",
       "      <th>0</th>\n",
       "      <td>1000</td>\n",
       "      <td>52</td>\n",
       "      <td>NaN</td>\n",
       "      <td>Краснодар</td>\n",
       "      <td>Рафаил</td>\n",
       "      <td>Верещагин</td>\n",
       "      <td>2018-05-25</td>\n",
       "      <td>ultra</td>\n",
       "    </tr>\n",
       "    <tr>\n",
       "      <th>1</th>\n",
       "      <td>1001</td>\n",
       "      <td>41</td>\n",
       "      <td>NaN</td>\n",
       "      <td>Москва</td>\n",
       "      <td>Иван</td>\n",
       "      <td>Ежов</td>\n",
       "      <td>2018-11-01</td>\n",
       "      <td>smart</td>\n",
       "    </tr>\n",
       "    <tr>\n",
       "      <th>2</th>\n",
       "      <td>1002</td>\n",
       "      <td>59</td>\n",
       "      <td>NaN</td>\n",
       "      <td>Стерлитамак</td>\n",
       "      <td>Евгений</td>\n",
       "      <td>Абрамович</td>\n",
       "      <td>2018-06-17</td>\n",
       "      <td>smart</td>\n",
       "    </tr>\n",
       "    <tr>\n",
       "      <th>3</th>\n",
       "      <td>1003</td>\n",
       "      <td>23</td>\n",
       "      <td>NaN</td>\n",
       "      <td>Москва</td>\n",
       "      <td>Белла</td>\n",
       "      <td>Белякова</td>\n",
       "      <td>2018-08-17</td>\n",
       "      <td>ultra</td>\n",
       "    </tr>\n",
       "    <tr>\n",
       "      <th>4</th>\n",
       "      <td>1004</td>\n",
       "      <td>68</td>\n",
       "      <td>NaN</td>\n",
       "      <td>Новокузнецк</td>\n",
       "      <td>Татьяна</td>\n",
       "      <td>Авдеенко</td>\n",
       "      <td>2018-05-14</td>\n",
       "      <td>ultra</td>\n",
       "    </tr>\n",
       "  </tbody>\n",
       "</table>\n",
       "</div>"
      ],
      "text/plain": [
       "   user_id  age churn_date         city first_name  last_name    reg_date  \\\n",
       "0     1000   52        NaN    Краснодар     Рафаил  Верещагин  2018-05-25   \n",
       "1     1001   41        NaN       Москва       Иван       Ежов  2018-11-01   \n",
       "2     1002   59        NaN  Стерлитамак    Евгений  Абрамович  2018-06-17   \n",
       "3     1003   23        NaN       Москва      Белла   Белякова  2018-08-17   \n",
       "4     1004   68        NaN  Новокузнецк    Татьяна   Авдеенко  2018-05-14   \n",
       "\n",
       "  tariff  \n",
       "0  ultra  \n",
       "1  smart  \n",
       "2  smart  \n",
       "3  ultra  \n",
       "4  ultra  "
      ]
     },
     "metadata": {},
     "output_type": "display_data"
    }
   ],
   "source": [
    "display(data_users.head())"
   ]
  },
  {
   "cell_type": "markdown",
   "metadata": {},
   "source": [
    "Имеем 500 строк, 8 столбцов; только в столбце 'churn_date' есть пропущенные значения, но они означают, что тариф ещё действовал на момент выгрузки данных. Кроме столбцов дат формат соответствует содержимому данных."
   ]
  },
  {
   "cell_type": "code",
   "execution_count": 5,
   "metadata": {},
   "outputs": [
    {
     "name": "stdout",
     "output_type": "stream",
     "text": [
      "['ultra' 'smart']\n"
     ]
    }
   ],
   "source": [
    "print(data_users['tariff'].unique())             # Вывели список уникальных значений столбца тарифа"
   ]
  },
  {
   "cell_type": "markdown",
   "metadata": {},
   "source": [
    "Итак, кроме 'ultra' и 'smart' других случайных значений нет."
   ]
  },
  {
   "cell_type": "code",
   "execution_count": 6,
   "metadata": {},
   "outputs": [
    {
     "name": "stdout",
     "output_type": "stream",
     "text": [
      "<class 'pandas.core.frame.DataFrame'>\n",
      "RangeIndex: 202607 entries, 0 to 202606\n",
      "Data columns (total 4 columns):\n",
      " #   Column     Non-Null Count   Dtype  \n",
      "---  ------     --------------   -----  \n",
      " 0   id         202607 non-null  object \n",
      " 1   call_date  202607 non-null  object \n",
      " 2   duration   202607 non-null  float64\n",
      " 3   user_id    202607 non-null  int64  \n",
      "dtypes: float64(1), int64(1), object(2)\n",
      "memory usage: 6.2+ MB\n"
     ]
    },
    {
     "data": {
      "text/html": [
       "<div>\n",
       "<style scoped>\n",
       "    .dataframe tbody tr th:only-of-type {\n",
       "        vertical-align: middle;\n",
       "    }\n",
       "\n",
       "    .dataframe tbody tr th {\n",
       "        vertical-align: top;\n",
       "    }\n",
       "\n",
       "    .dataframe thead th {\n",
       "        text-align: right;\n",
       "    }\n",
       "</style>\n",
       "<table border=\"1\" class=\"dataframe\">\n",
       "  <thead>\n",
       "    <tr style=\"text-align: right;\">\n",
       "      <th></th>\n",
       "      <th>id</th>\n",
       "      <th>call_date</th>\n",
       "      <th>duration</th>\n",
       "      <th>user_id</th>\n",
       "    </tr>\n",
       "  </thead>\n",
       "  <tbody>\n",
       "    <tr>\n",
       "      <th>0</th>\n",
       "      <td>1000_0</td>\n",
       "      <td>2018-07-25</td>\n",
       "      <td>0.00</td>\n",
       "      <td>1000</td>\n",
       "    </tr>\n",
       "    <tr>\n",
       "      <th>1</th>\n",
       "      <td>1000_1</td>\n",
       "      <td>2018-08-17</td>\n",
       "      <td>0.00</td>\n",
       "      <td>1000</td>\n",
       "    </tr>\n",
       "    <tr>\n",
       "      <th>2</th>\n",
       "      <td>1000_2</td>\n",
       "      <td>2018-06-11</td>\n",
       "      <td>2.85</td>\n",
       "      <td>1000</td>\n",
       "    </tr>\n",
       "    <tr>\n",
       "      <th>3</th>\n",
       "      <td>1000_3</td>\n",
       "      <td>2018-09-21</td>\n",
       "      <td>13.80</td>\n",
       "      <td>1000</td>\n",
       "    </tr>\n",
       "    <tr>\n",
       "      <th>4</th>\n",
       "      <td>1000_4</td>\n",
       "      <td>2018-12-15</td>\n",
       "      <td>5.18</td>\n",
       "      <td>1000</td>\n",
       "    </tr>\n",
       "  </tbody>\n",
       "</table>\n",
       "</div>"
      ],
      "text/plain": [
       "       id   call_date  duration  user_id\n",
       "0  1000_0  2018-07-25      0.00     1000\n",
       "1  1000_1  2018-08-17      0.00     1000\n",
       "2  1000_2  2018-06-11      2.85     1000\n",
       "3  1000_3  2018-09-21     13.80     1000\n",
       "4  1000_4  2018-12-15      5.18     1000"
      ]
     },
     "metadata": {},
     "output_type": "display_data"
    }
   ],
   "source": [
    "data_calls.info()  # Данные о звонках\n",
    "display(data_calls.head())"
   ]
  },
  {
   "cell_type": "markdown",
   "metadata": {},
   "source": [
    "В таблице 202 607 строк (звонков), 4 столбца; пропущенных значений нет, есть нулевая длительность звонка - это пропущенные звонки. Тип 'call_date' - object.\n",
    "\n",
    "Длительность звонков дана в минутах с дробной частью. Так как по условиям тарифа для минут идет округление в большую сторону, округлим эти значения. Используем math.ceil().\n",
    "\n",
    "Затем полученные целые значения переведем в тип int."
   ]
  },
  {
   "cell_type": "code",
   "execution_count": 7,
   "metadata": {
    "scrolled": true
   },
   "outputs": [
    {
     "data": {
      "text/html": [
       "<div>\n",
       "<style scoped>\n",
       "    .dataframe tbody tr th:only-of-type {\n",
       "        vertical-align: middle;\n",
       "    }\n",
       "\n",
       "    .dataframe tbody tr th {\n",
       "        vertical-align: top;\n",
       "    }\n",
       "\n",
       "    .dataframe thead th {\n",
       "        text-align: right;\n",
       "    }\n",
       "</style>\n",
       "<table border=\"1\" class=\"dataframe\">\n",
       "  <thead>\n",
       "    <tr style=\"text-align: right;\">\n",
       "      <th></th>\n",
       "      <th>id</th>\n",
       "      <th>call_date</th>\n",
       "      <th>duration</th>\n",
       "      <th>user_id</th>\n",
       "    </tr>\n",
       "  </thead>\n",
       "  <tbody>\n",
       "    <tr>\n",
       "      <th>0</th>\n",
       "      <td>1000_0</td>\n",
       "      <td>2018-07-25</td>\n",
       "      <td>0.0</td>\n",
       "      <td>1000</td>\n",
       "    </tr>\n",
       "    <tr>\n",
       "      <th>1</th>\n",
       "      <td>1000_1</td>\n",
       "      <td>2018-08-17</td>\n",
       "      <td>0.0</td>\n",
       "      <td>1000</td>\n",
       "    </tr>\n",
       "    <tr>\n",
       "      <th>2</th>\n",
       "      <td>1000_2</td>\n",
       "      <td>2018-06-11</td>\n",
       "      <td>3.0</td>\n",
       "      <td>1000</td>\n",
       "    </tr>\n",
       "    <tr>\n",
       "      <th>3</th>\n",
       "      <td>1000_3</td>\n",
       "      <td>2018-09-21</td>\n",
       "      <td>14.0</td>\n",
       "      <td>1000</td>\n",
       "    </tr>\n",
       "    <tr>\n",
       "      <th>4</th>\n",
       "      <td>1000_4</td>\n",
       "      <td>2018-12-15</td>\n",
       "      <td>6.0</td>\n",
       "      <td>1000</td>\n",
       "    </tr>\n",
       "  </tbody>\n",
       "</table>\n",
       "</div>"
      ],
      "text/plain": [
       "       id   call_date  duration  user_id\n",
       "0  1000_0  2018-07-25       0.0     1000\n",
       "1  1000_1  2018-08-17       0.0     1000\n",
       "2  1000_2  2018-06-11       3.0     1000\n",
       "3  1000_3  2018-09-21      14.0     1000\n",
       "4  1000_4  2018-12-15       6.0     1000"
      ]
     },
     "metadata": {},
     "output_type": "display_data"
    }
   ],
   "source": [
    "data_calls['duration'] = data_calls['duration'].apply(np.ceil)   # округлили в большую сторону\n",
    "\n",
    "display(data_calls.head())                                       # смотрим, что получилось "
   ]
  },
  {
   "cell_type": "code",
   "execution_count": 8,
   "metadata": {},
   "outputs": [],
   "source": [
    "data_calls['duration'] = data_calls['duration'].astype(int)         # привели к целочисленному типу"
   ]
  },
  {
   "cell_type": "code",
   "execution_count": 9,
   "metadata": {
    "scrolled": false
   },
   "outputs": [
    {
     "name": "stdout",
     "output_type": "stream",
     "text": [
      "<class 'pandas.core.frame.DataFrame'>\n",
      "RangeIndex: 149396 entries, 0 to 149395\n",
      "Data columns (total 5 columns):\n",
      " #   Column        Non-Null Count   Dtype  \n",
      "---  ------        --------------   -----  \n",
      " 0   Unnamed: 0    149396 non-null  int64  \n",
      " 1   id            149396 non-null  object \n",
      " 2   mb_used       149396 non-null  float64\n",
      " 3   session_date  149396 non-null  object \n",
      " 4   user_id       149396 non-null  int64  \n",
      "dtypes: float64(1), int64(2), object(2)\n",
      "memory usage: 5.7+ MB\n"
     ]
    }
   ],
   "source": [
    "data_internet.info()                                                # Данные об использовании интернет-трафика"
   ]
  },
  {
   "cell_type": "code",
   "execution_count": 10,
   "metadata": {},
   "outputs": [
    {
     "data": {
      "text/html": [
       "<div>\n",
       "<style scoped>\n",
       "    .dataframe tbody tr th:only-of-type {\n",
       "        vertical-align: middle;\n",
       "    }\n",
       "\n",
       "    .dataframe tbody tr th {\n",
       "        vertical-align: top;\n",
       "    }\n",
       "\n",
       "    .dataframe thead th {\n",
       "        text-align: right;\n",
       "    }\n",
       "</style>\n",
       "<table border=\"1\" class=\"dataframe\">\n",
       "  <thead>\n",
       "    <tr style=\"text-align: right;\">\n",
       "      <th></th>\n",
       "      <th>Unnamed: 0</th>\n",
       "      <th>id</th>\n",
       "      <th>mb_used</th>\n",
       "      <th>session_date</th>\n",
       "      <th>user_id</th>\n",
       "    </tr>\n",
       "  </thead>\n",
       "  <tbody>\n",
       "    <tr>\n",
       "      <th>0</th>\n",
       "      <td>0</td>\n",
       "      <td>1000_0</td>\n",
       "      <td>112.95</td>\n",
       "      <td>2018-11-25</td>\n",
       "      <td>1000</td>\n",
       "    </tr>\n",
       "    <tr>\n",
       "      <th>1</th>\n",
       "      <td>1</td>\n",
       "      <td>1000_1</td>\n",
       "      <td>1052.81</td>\n",
       "      <td>2018-09-07</td>\n",
       "      <td>1000</td>\n",
       "    </tr>\n",
       "    <tr>\n",
       "      <th>2</th>\n",
       "      <td>2</td>\n",
       "      <td>1000_2</td>\n",
       "      <td>1197.26</td>\n",
       "      <td>2018-06-25</td>\n",
       "      <td>1000</td>\n",
       "    </tr>\n",
       "    <tr>\n",
       "      <th>3</th>\n",
       "      <td>3</td>\n",
       "      <td>1000_3</td>\n",
       "      <td>550.27</td>\n",
       "      <td>2018-08-22</td>\n",
       "      <td>1000</td>\n",
       "    </tr>\n",
       "    <tr>\n",
       "      <th>4</th>\n",
       "      <td>4</td>\n",
       "      <td>1000_4</td>\n",
       "      <td>302.56</td>\n",
       "      <td>2018-09-24</td>\n",
       "      <td>1000</td>\n",
       "    </tr>\n",
       "  </tbody>\n",
       "</table>\n",
       "</div>"
      ],
      "text/plain": [
       "   Unnamed: 0      id  mb_used session_date  user_id\n",
       "0           0  1000_0   112.95   2018-11-25     1000\n",
       "1           1  1000_1  1052.81   2018-09-07     1000\n",
       "2           2  1000_2  1197.26   2018-06-25     1000\n",
       "3           3  1000_3   550.27   2018-08-22     1000\n",
       "4           4  1000_4   302.56   2018-09-24     1000"
      ]
     },
     "metadata": {},
     "output_type": "display_data"
    }
   ],
   "source": [
    "display(data_internet.head()) "
   ]
  },
  {
   "cell_type": "markdown",
   "metadata": {},
   "source": [
    "Прмимо заявленных столбцов id, mb_used, session_date, user_id присутствует столбец с неизвестными значениями 'Unnamed: 0'."
   ]
  },
  {
   "cell_type": "code",
   "execution_count": 11,
   "metadata": {
    "scrolled": true
   },
   "outputs": [
    {
     "data": {
      "text/html": [
       "<div>\n",
       "<style scoped>\n",
       "    .dataframe tbody tr th:only-of-type {\n",
       "        vertical-align: middle;\n",
       "    }\n",
       "\n",
       "    .dataframe tbody tr th {\n",
       "        vertical-align: top;\n",
       "    }\n",
       "\n",
       "    .dataframe thead th {\n",
       "        text-align: right;\n",
       "    }\n",
       "</style>\n",
       "<table border=\"1\" class=\"dataframe\">\n",
       "  <thead>\n",
       "    <tr style=\"text-align: right;\">\n",
       "      <th></th>\n",
       "      <th>Unnamed: 0</th>\n",
       "      <th>id</th>\n",
       "      <th>mb_used</th>\n",
       "      <th>session_date</th>\n",
       "      <th>user_id</th>\n",
       "    </tr>\n",
       "  </thead>\n",
       "  <tbody>\n",
       "    <tr>\n",
       "      <th>149391</th>\n",
       "      <td>149391</td>\n",
       "      <td>1499_152</td>\n",
       "      <td>318.90</td>\n",
       "      <td>2018-10-03</td>\n",
       "      <td>1499</td>\n",
       "    </tr>\n",
       "    <tr>\n",
       "      <th>149392</th>\n",
       "      <td>149392</td>\n",
       "      <td>1499_153</td>\n",
       "      <td>490.13</td>\n",
       "      <td>2018-12-14</td>\n",
       "      <td>1499</td>\n",
       "    </tr>\n",
       "    <tr>\n",
       "      <th>149393</th>\n",
       "      <td>149393</td>\n",
       "      <td>1499_154</td>\n",
       "      <td>0.00</td>\n",
       "      <td>2018-10-27</td>\n",
       "      <td>1499</td>\n",
       "    </tr>\n",
       "    <tr>\n",
       "      <th>149394</th>\n",
       "      <td>149394</td>\n",
       "      <td>1499_155</td>\n",
       "      <td>1246.32</td>\n",
       "      <td>2018-11-26</td>\n",
       "      <td>1499</td>\n",
       "    </tr>\n",
       "    <tr>\n",
       "      <th>149395</th>\n",
       "      <td>149395</td>\n",
       "      <td>1499_156</td>\n",
       "      <td>544.37</td>\n",
       "      <td>2018-10-26</td>\n",
       "      <td>1499</td>\n",
       "    </tr>\n",
       "  </tbody>\n",
       "</table>\n",
       "</div>"
      ],
      "text/plain": [
       "        Unnamed: 0        id  mb_used session_date  user_id\n",
       "149391      149391  1499_152   318.90   2018-10-03     1499\n",
       "149392      149392  1499_153   490.13   2018-12-14     1499\n",
       "149393      149393  1499_154     0.00   2018-10-27     1499\n",
       "149394      149394  1499_155  1246.32   2018-11-26     1499\n",
       "149395      149395  1499_156   544.37   2018-10-26     1499"
      ]
     },
     "metadata": {},
     "output_type": "display_data"
    }
   ],
   "source": [
    "display(data_internet.tail())                              # Напечатали последние строки таблицы"
   ]
  },
  {
   "cell_type": "markdown",
   "metadata": {},
   "source": [
    "Столбец `Unnamed: 0` дублирует индекс. Дело в том, что таблица уже содержала в себе столбец с индексами, а пандас при чтении добавил еще один. Так как никакой дополнительной информации он не несет, можем удалить.\n",
    "В результате получим датафрейм с 149 395 строками и 4 столбцами. Аналогично предыдущим таблицам дата представлена как object."
   ]
  },
  {
   "cell_type": "code",
   "execution_count": 12,
   "metadata": {
    "scrolled": false
   },
   "outputs": [
    {
     "data": {
      "text/html": [
       "<div>\n",
       "<style scoped>\n",
       "    .dataframe tbody tr th:only-of-type {\n",
       "        vertical-align: middle;\n",
       "    }\n",
       "\n",
       "    .dataframe tbody tr th {\n",
       "        vertical-align: top;\n",
       "    }\n",
       "\n",
       "    .dataframe thead th {\n",
       "        text-align: right;\n",
       "    }\n",
       "</style>\n",
       "<table border=\"1\" class=\"dataframe\">\n",
       "  <thead>\n",
       "    <tr style=\"text-align: right;\">\n",
       "      <th></th>\n",
       "      <th>id</th>\n",
       "      <th>mb_used</th>\n",
       "      <th>session_date</th>\n",
       "      <th>user_id</th>\n",
       "    </tr>\n",
       "  </thead>\n",
       "  <tbody>\n",
       "    <tr>\n",
       "      <th>0</th>\n",
       "      <td>1000_0</td>\n",
       "      <td>112.95</td>\n",
       "      <td>2018-11-25</td>\n",
       "      <td>1000</td>\n",
       "    </tr>\n",
       "    <tr>\n",
       "      <th>1</th>\n",
       "      <td>1000_1</td>\n",
       "      <td>1052.81</td>\n",
       "      <td>2018-09-07</td>\n",
       "      <td>1000</td>\n",
       "    </tr>\n",
       "    <tr>\n",
       "      <th>2</th>\n",
       "      <td>1000_2</td>\n",
       "      <td>1197.26</td>\n",
       "      <td>2018-06-25</td>\n",
       "      <td>1000</td>\n",
       "    </tr>\n",
       "    <tr>\n",
       "      <th>3</th>\n",
       "      <td>1000_3</td>\n",
       "      <td>550.27</td>\n",
       "      <td>2018-08-22</td>\n",
       "      <td>1000</td>\n",
       "    </tr>\n",
       "    <tr>\n",
       "      <th>4</th>\n",
       "      <td>1000_4</td>\n",
       "      <td>302.56</td>\n",
       "      <td>2018-09-24</td>\n",
       "      <td>1000</td>\n",
       "    </tr>\n",
       "    <tr>\n",
       "      <th>...</th>\n",
       "      <td>...</td>\n",
       "      <td>...</td>\n",
       "      <td>...</td>\n",
       "      <td>...</td>\n",
       "    </tr>\n",
       "    <tr>\n",
       "      <th>149391</th>\n",
       "      <td>1499_152</td>\n",
       "      <td>318.90</td>\n",
       "      <td>2018-10-03</td>\n",
       "      <td>1499</td>\n",
       "    </tr>\n",
       "    <tr>\n",
       "      <th>149392</th>\n",
       "      <td>1499_153</td>\n",
       "      <td>490.13</td>\n",
       "      <td>2018-12-14</td>\n",
       "      <td>1499</td>\n",
       "    </tr>\n",
       "    <tr>\n",
       "      <th>149393</th>\n",
       "      <td>1499_154</td>\n",
       "      <td>0.00</td>\n",
       "      <td>2018-10-27</td>\n",
       "      <td>1499</td>\n",
       "    </tr>\n",
       "    <tr>\n",
       "      <th>149394</th>\n",
       "      <td>1499_155</td>\n",
       "      <td>1246.32</td>\n",
       "      <td>2018-11-26</td>\n",
       "      <td>1499</td>\n",
       "    </tr>\n",
       "    <tr>\n",
       "      <th>149395</th>\n",
       "      <td>1499_156</td>\n",
       "      <td>544.37</td>\n",
       "      <td>2018-10-26</td>\n",
       "      <td>1499</td>\n",
       "    </tr>\n",
       "  </tbody>\n",
       "</table>\n",
       "<p>149396 rows × 4 columns</p>\n",
       "</div>"
      ],
      "text/plain": [
       "              id  mb_used session_date  user_id\n",
       "0         1000_0   112.95   2018-11-25     1000\n",
       "1         1000_1  1052.81   2018-09-07     1000\n",
       "2         1000_2  1197.26   2018-06-25     1000\n",
       "3         1000_3   550.27   2018-08-22     1000\n",
       "4         1000_4   302.56   2018-09-24     1000\n",
       "...          ...      ...          ...      ...\n",
       "149391  1499_152   318.90   2018-10-03     1499\n",
       "149392  1499_153   490.13   2018-12-14     1499\n",
       "149393  1499_154     0.00   2018-10-27     1499\n",
       "149394  1499_155  1246.32   2018-11-26     1499\n",
       "149395  1499_156   544.37   2018-10-26     1499\n",
       "\n",
       "[149396 rows x 4 columns]"
      ]
     },
     "execution_count": 12,
     "metadata": {},
     "output_type": "execute_result"
    }
   ],
   "source": [
    "data_internet.drop('Unnamed: 0', axis=1) #  Удалили столбец\n"
   ]
  },
  {
   "cell_type": "markdown",
   "metadata": {},
   "source": [
    "Объем трафика в Мб представлен числом с дробной частью. Так как по условиям тарифа для мегабайтов идет округление в большую сторону, округлим эти значения.\n",
    "Затем полученные целые значения переведем в тип int."
   ]
  },
  {
   "cell_type": "code",
   "execution_count": 13,
   "metadata": {},
   "outputs": [
    {
     "name": "stdout",
     "output_type": "stream",
     "text": [
      "<class 'pandas.core.frame.DataFrame'>\n",
      "RangeIndex: 149396 entries, 0 to 149395\n",
      "Data columns (total 5 columns):\n",
      " #   Column        Non-Null Count   Dtype \n",
      "---  ------        --------------   ----- \n",
      " 0   Unnamed: 0    149396 non-null  int64 \n",
      " 1   id            149396 non-null  object\n",
      " 2   mb_used       149396 non-null  int32 \n",
      " 3   session_date  149396 non-null  object\n",
      " 4   user_id       149396 non-null  int64 \n",
      "dtypes: int32(1), int64(2), object(2)\n",
      "memory usage: 5.1+ MB\n"
     ]
    }
   ],
   "source": [
    "data_internet['mb_used'] = data_internet['mb_used'].apply(np.ceil).astype(int)\n",
    "\n",
    "data_internet.info()                    # Проверяем"
   ]
  },
  {
   "cell_type": "code",
   "execution_count": 14,
   "metadata": {},
   "outputs": [
    {
     "name": "stdout",
     "output_type": "stream",
     "text": [
      "<class 'pandas.core.frame.DataFrame'>\n",
      "RangeIndex: 123036 entries, 0 to 123035\n",
      "Data columns (total 3 columns):\n",
      " #   Column        Non-Null Count   Dtype \n",
      "---  ------        --------------   ----- \n",
      " 0   id            123036 non-null  object\n",
      " 1   message_date  123036 non-null  object\n",
      " 2   user_id       123036 non-null  int64 \n",
      "dtypes: int64(1), object(2)\n",
      "memory usage: 2.8+ MB\n"
     ]
    }
   ],
   "source": [
    "data_messages.info()                       # Данные о СМС"
   ]
  },
  {
   "cell_type": "markdown",
   "metadata": {},
   "source": [
    "Датафрейм размера 123 036 строк на 3 столбца. Аналогично предыдущему без пропущенных значений, дата типа object."
   ]
  },
  {
   "cell_type": "code",
   "execution_count": 15,
   "metadata": {},
   "outputs": [
    {
     "name": "stdout",
     "output_type": "stream",
     "text": [
      "<class 'pandas.core.frame.DataFrame'>\n",
      "RangeIndex: 2 entries, 0 to 1\n",
      "Data columns (total 8 columns):\n",
      " #   Column                 Non-Null Count  Dtype \n",
      "---  ------                 --------------  ----- \n",
      " 0   messages_included      2 non-null      int64 \n",
      " 1   mb_per_month_included  2 non-null      int64 \n",
      " 2   minutes_included       2 non-null      int64 \n",
      " 3   rub_monthly_fee        2 non-null      int64 \n",
      " 4   rub_per_gb             2 non-null      int64 \n",
      " 5   rub_per_message        2 non-null      int64 \n",
      " 6   rub_per_minute         2 non-null      int64 \n",
      " 7   tariff_name            2 non-null      object\n",
      "dtypes: int64(7), object(1)\n",
      "memory usage: 256.0+ bytes\n"
     ]
    },
    {
     "data": {
      "text/html": [
       "<div>\n",
       "<style scoped>\n",
       "    .dataframe tbody tr th:only-of-type {\n",
       "        vertical-align: middle;\n",
       "    }\n",
       "\n",
       "    .dataframe tbody tr th {\n",
       "        vertical-align: top;\n",
       "    }\n",
       "\n",
       "    .dataframe thead th {\n",
       "        text-align: right;\n",
       "    }\n",
       "</style>\n",
       "<table border=\"1\" class=\"dataframe\">\n",
       "  <thead>\n",
       "    <tr style=\"text-align: right;\">\n",
       "      <th></th>\n",
       "      <th>messages_included</th>\n",
       "      <th>mb_per_month_included</th>\n",
       "      <th>minutes_included</th>\n",
       "      <th>rub_monthly_fee</th>\n",
       "      <th>rub_per_gb</th>\n",
       "      <th>rub_per_message</th>\n",
       "      <th>rub_per_minute</th>\n",
       "      <th>tariff_name</th>\n",
       "    </tr>\n",
       "  </thead>\n",
       "  <tbody>\n",
       "    <tr>\n",
       "      <th>0</th>\n",
       "      <td>50</td>\n",
       "      <td>15360</td>\n",
       "      <td>500</td>\n",
       "      <td>550</td>\n",
       "      <td>200</td>\n",
       "      <td>3</td>\n",
       "      <td>3</td>\n",
       "      <td>smart</td>\n",
       "    </tr>\n",
       "    <tr>\n",
       "      <th>1</th>\n",
       "      <td>1000</td>\n",
       "      <td>30720</td>\n",
       "      <td>3000</td>\n",
       "      <td>1950</td>\n",
       "      <td>150</td>\n",
       "      <td>1</td>\n",
       "      <td>1</td>\n",
       "      <td>ultra</td>\n",
       "    </tr>\n",
       "  </tbody>\n",
       "</table>\n",
       "</div>"
      ],
      "text/plain": [
       "   messages_included  mb_per_month_included  minutes_included  \\\n",
       "0                 50                  15360               500   \n",
       "1               1000                  30720              3000   \n",
       "\n",
       "   rub_monthly_fee  rub_per_gb  rub_per_message  rub_per_minute tariff_name  \n",
       "0              550         200                3               3       smart  \n",
       "1             1950         150                1               1       ultra  "
      ]
     },
     "metadata": {},
     "output_type": "display_data"
    }
   ],
   "source": [
    "data_tariffs.info()                        # Данные тарифных планах\n",
    "display(data_tariffs.head())"
   ]
  },
  {
   "cell_type": "markdown",
   "metadata": {},
   "source": [
    "Всего две строки - описание тарифных планов. Что включено: сообщений, МБ, минут. Стоимость сверх пакета. Все значения кроме имени тарифа целочисленны, пропусков нет."
   ]
  },
  {
   "cell_type": "markdown",
   "metadata": {},
   "source": [
    "\n",
    "## Подготовка данных\n",
    "\n",
    "Приведем данные к нужным типам, если потребуется. Попробуем найти и исправить ошибки в данных, если они есть.\n",
    "\n",
    "Посчитаем для каждого пользователя:\n",
    "- количество сделанных звонков и израсходованных минут разговора по месяцам;\n",
    "- количество отправленных сообщений по месяцам;\n",
    "- объем израсходованного интернет-трафика по месяцам;\n",
    "- помесячную выручку с каждого пользователя.\n"
   ]
  },
  {
   "cell_type": "markdown",
   "metadata": {},
   "source": [
    "### Предварительная подготовка данных\n",
    "Приведем столбцы дат к соотвествующему типу во всех таблицах. Начнем с таблицы data_users."
   ]
  },
  {
   "cell_type": "code",
   "execution_count": 16,
   "metadata": {
    "scrolled": true
   },
   "outputs": [
    {
     "name": "stdout",
     "output_type": "stream",
     "text": [
      "<class 'pandas.core.frame.DataFrame'>\n",
      "RangeIndex: 500 entries, 0 to 499\n",
      "Data columns (total 8 columns):\n",
      " #   Column      Non-Null Count  Dtype         \n",
      "---  ------      --------------  -----         \n",
      " 0   user_id     500 non-null    int64         \n",
      " 1   age         500 non-null    int64         \n",
      " 2   churn_date  38 non-null     object        \n",
      " 3   city        500 non-null    object        \n",
      " 4   first_name  500 non-null    object        \n",
      " 5   last_name   500 non-null    object        \n",
      " 6   reg_date    500 non-null    datetime64[ns]\n",
      " 7   tariff      500 non-null    object        \n",
      "dtypes: datetime64[ns](1), int64(2), object(5)\n",
      "memory usage: 31.4+ KB\n"
     ]
    }
   ],
   "source": [
    "data_users['reg_date'] = (pd.\n",
    "                          to_datetime(data_users['reg_date'],  # заменили тип на datetime\n",
    "                                      format='%Y-%m-%d'\n",
    "                                     )            \n",
    "                         )\n",
    "data_users.info()"
   ]
  },
  {
   "cell_type": "code",
   "execution_count": 17,
   "metadata": {
    "scrolled": true
   },
   "outputs": [
    {
     "name": "stdout",
     "output_type": "stream",
     "text": [
      "2018-01-01 00:00:00 2018-12-31 00:00:00\n"
     ]
    }
   ],
   "source": [
    "print(data_users['reg_date'].min(), \n",
    "      data_users['reg_date'].max()\n",
    "     )                                   # узнаем охват дат регистрации"
   ]
  },
  {
   "cell_type": "markdown",
   "metadata": {},
   "source": [
    "Так как охвачен весь диапазон 2018 года, можно заменить пропущенные значения в столбце 'churn_date' (дата прекращения пользования тарифом) на 2018-12-31, помня, что теперь это столбец означает дату последнего пользования тарифом в 2018 году. Можно было бы добавить такой новый столбец, но в поставленной задаче заполнения пропусков в имеющемся вполне достаточно.\n",
    "\n",
    "Столбец 'reg_date' пропусков не имеет."
   ]
  },
  {
   "cell_type": "code",
   "execution_count": 18,
   "metadata": {},
   "outputs": [
    {
     "name": "stdout",
     "output_type": "stream",
     "text": [
      "<class 'pandas.core.frame.DataFrame'>\n",
      "RangeIndex: 500 entries, 0 to 499\n",
      "Data columns (total 8 columns):\n",
      " #   Column      Non-Null Count  Dtype         \n",
      "---  ------      --------------  -----         \n",
      " 0   user_id     500 non-null    int64         \n",
      " 1   age         500 non-null    int64         \n",
      " 2   churn_date  500 non-null    datetime64[ns]\n",
      " 3   city        500 non-null    object        \n",
      " 4   first_name  500 non-null    object        \n",
      " 5   last_name   500 non-null    object        \n",
      " 6   reg_date    500 non-null    datetime64[ns]\n",
      " 7   tariff      500 non-null    object        \n",
      "dtypes: datetime64[ns](2), int64(2), object(4)\n",
      "memory usage: 31.4+ KB\n"
     ]
    }
   ],
   "source": [
    "data_users['churn_date'] = (data_users['churn_date'].\n",
    "                            fillna('2018-12-31')                    # замена пропусков\n",
    "                           )\n",
    "data_users['churn_date'] = (pd.\n",
    "                            to_datetime(data_users['churn_date'],   # заменили тип на datetime\n",
    "                                        format='%Y-%m-%d'\n",
    "                                       )     \n",
    "                           )\n",
    "\n",
    "data_users.info()                                     "
   ]
  },
  {
   "cell_type": "markdown",
   "metadata": {},
   "source": [
    "Изменили тип на соответствующий представлению дат datetime64 и избавились от пропущенных значений.\n",
    "\n",
    "Аналогично изменим тип в оставшихся трех таблицах."
   ]
  },
  {
   "cell_type": "code",
   "execution_count": 19,
   "metadata": {},
   "outputs": [],
   "source": [
    "data_calls['call_date'] = (pd.\n",
    "                           to_datetime(data_calls['call_date'],   # заменили тип на datetime\n",
    "                                       format='%Y-%m-%d'\n",
    "                                      )  \n",
    "                          )\n",
    "data_messages['message_date'] = (pd.\n",
    "                                 to_datetime(data_messages['message_date'], \n",
    "                                             format='%Y-%m-%d'\n",
    "                                            )\n",
    "                                )\n",
    "data_internet['session_date'] = (pd.\n",
    "                                 to_datetime(data_internet['session_date'], \n",
    "                                             format='%Y-%m-%d'\n",
    "                                            )\n",
    "                                )"
   ]
  },
  {
   "cell_type": "markdown",
   "metadata": {},
   "source": [
    "Посмотрим, какую еще информацию мы можем получить из таблиц. Например, интересует, нет ли отрицательных значений. Используем describe(). В data_messages только идентификатор пользователя, дата сессии и уникальный номер сообщения, describe() не нужен."
   ]
  },
  {
   "cell_type": "code",
   "execution_count": 20,
   "metadata": {},
   "outputs": [
    {
     "name": "stdout",
     "output_type": "stream",
     "text": [
      "           user_id        age\n",
      "count   500.000000  500.00000\n",
      "mean   1249.500000   46.58800\n",
      "std     144.481833   16.66763\n",
      "min    1000.000000   18.00000\n",
      "25%    1124.750000   32.00000\n",
      "50%    1249.500000   46.00000\n",
      "75%    1374.250000   62.00000\n",
      "max    1499.000000   75.00000 \n",
      "\n",
      "            duration        user_id\n",
      "count  202607.000000  202607.000000\n",
      "mean        7.158198    1253.940619\n",
      "std         5.959173     144.722751\n",
      "min         0.000000    1000.000000\n",
      "25%         2.000000    1126.000000\n",
      "50%         6.000000    1260.000000\n",
      "75%        11.000000    1379.000000\n",
      "max        38.000000    1499.000000 \n",
      "\n",
      "          Unnamed: 0        mb_used        user_id\n",
      "count  149396.000000  149396.000000  149396.000000\n",
      "mean    74697.500000     370.622098    1252.099842\n",
      "std     43127.054745     278.387019     144.050823\n",
      "min         0.000000       0.000000    1000.000000\n",
      "25%     37348.750000     139.000000    1130.000000\n",
      "50%     74697.500000     349.000000    1251.000000\n",
      "75%    112046.250000     560.000000    1380.000000\n",
      "max    149395.000000    1725.000000    1499.000000\n"
     ]
    }
   ],
   "source": [
    "print(data_users.describe(), '\\n')\n",
    "print(data_calls.describe(), '\\n')\n",
    "print(data_internet.describe())"
   ]
  },
  {
   "cell_type": "markdown",
   "metadata": {},
   "source": [
    "Функция describe() описала нам все числовые значения:\n",
    "- отрицательных нет; \n",
    "- возраст в пределах нормы от 18 до 75 лет;  \n",
    "- user_id от 1000 до 1499; \n",
    "- максимальные значения в пределах допустимого; \n",
    "- нулевые значения в звонках означают пропущенные звонки (с нулевой длительностью); \n",
    "- нулевые значения в интернет-трафике - это просто нулевой трафик.\n",
    "\n",
    "Поясню чуть подробнее с интернет-трафиком. Сессии интернет-трафика размером 0 Мб можно не считать ошибкой или пропуском и не пытаться их заполнить. Первый вариант: в этот день не было выхода в интернет вообще. Второй вариант: если были другие ненулевые сессии в этот день. У большинства операторов есть не тарифицируемый порог трафика, возникающий, чаще всего, при переподключении с 3G на 4G и обратно. Каждый раз, когда ваш телефон принимает или совершает голосовой вызов, он автоматически переключается из режима 4G в режим 3G из-за особенностей LTE - это технология только для передачи данных. После завершения голосового вызова телефон снова переключается в режим 4G. Это может происходить и при выключенном интернете. \n",
    "\n",
    "Так гласит всезнающий интернет, но и собственный опыт говорит о том, что нулевые сессии бывают. Поэтому считаем сессии 0 Мб допустимыми и не тарифицируемыми (не влияющими на нашу статистику и выручку с пользователя)."
   ]
  },
  {
   "cell_type": "markdown",
   "metadata": {},
   "source": [
    "Посмотрим, есть ли дубликаты в таблице (по идентификаторам звонков / сообщений / сессий)."
   ]
  },
  {
   "cell_type": "code",
   "execution_count": 21,
   "metadata": {
    "scrolled": true
   },
   "outputs": [
    {
     "name": "stdout",
     "output_type": "stream",
     "text": [
      "Дубликатов в таблице \"users\": 0\n",
      "Дубликатов в таблице \"calls\": 0\n",
      "Дубликатов в таблице \"messages\": 0\n",
      "Дубликатов в таблице \"internet\": 0\n"
     ]
    }
   ],
   "source": [
    "print('Дубликатов в таблице \"users\":', data_users.duplicated().sum())\n",
    "print('Дубликатов в таблице \"calls\":', data_calls.duplicated().sum()) \n",
    "print('Дубликатов в таблице \"messages\":', data_messages.duplicated().sum())\n",
    "print('Дубликатов в таблице \"internet\":', data_internet.duplicated().sum())"
   ]
  },
  {
   "cell_type": "markdown",
   "metadata": {},
   "source": [
    "Вывод: имеем только уникальные данные."
   ]
  },
  {
   "cell_type": "markdown",
   "metadata": {},
   "source": [
    "Добавим в каждую из таблиц с данными по звонкам, сообщениям, трафику дополнительный столбец с номером месяца, так как анализ в дальнейшем пойдет по месяцам."
   ]
  },
  {
   "cell_type": "code",
   "execution_count": 22,
   "metadata": {},
   "outputs": [],
   "source": [
    "data_calls['month'] = pd.DatetimeIndex(data_calls['call_date']).month  # Использовали класс DatetimeIndex\n",
    "data_messages['month'] = pd.DatetimeIndex(data_messages['message_date']).month\n",
    "data_internet['month'] = pd.DatetimeIndex(data_internet['session_date']).month"
   ]
  },
  {
   "cell_type": "markdown",
   "metadata": {},
   "source": [
    "### Создание сводных таблиц\n",
    "Посчитаем для каждого пользователя:\n",
    "- количество израсходованных минут разговора по месяцам;\n",
    "- количество отправленных сообщений по месяцам;\n",
    "- объем израсходованного интернет-трафика по месяцам;"
   ]
  },
  {
   "cell_type": "code",
   "execution_count": 23,
   "metadata": {},
   "outputs": [
    {
     "data": {
      "text/html": [
       "<div>\n",
       "<style scoped>\n",
       "    .dataframe tbody tr th:only-of-type {\n",
       "        vertical-align: middle;\n",
       "    }\n",
       "\n",
       "    .dataframe tbody tr th {\n",
       "        vertical-align: top;\n",
       "    }\n",
       "\n",
       "    .dataframe thead th {\n",
       "        text-align: right;\n",
       "    }\n",
       "</style>\n",
       "<table border=\"1\" class=\"dataframe\">\n",
       "  <thead>\n",
       "    <tr style=\"text-align: right;\">\n",
       "      <th></th>\n",
       "      <th>user_id</th>\n",
       "      <th>month</th>\n",
       "      <th>duration</th>\n",
       "    </tr>\n",
       "  </thead>\n",
       "  <tbody>\n",
       "    <tr>\n",
       "      <th>0</th>\n",
       "      <td>1000</td>\n",
       "      <td>5</td>\n",
       "      <td>159</td>\n",
       "    </tr>\n",
       "    <tr>\n",
       "      <th>1</th>\n",
       "      <td>1000</td>\n",
       "      <td>6</td>\n",
       "      <td>172</td>\n",
       "    </tr>\n",
       "    <tr>\n",
       "      <th>2</th>\n",
       "      <td>1000</td>\n",
       "      <td>7</td>\n",
       "      <td>340</td>\n",
       "    </tr>\n",
       "    <tr>\n",
       "      <th>3</th>\n",
       "      <td>1000</td>\n",
       "      <td>8</td>\n",
       "      <td>408</td>\n",
       "    </tr>\n",
       "    <tr>\n",
       "      <th>4</th>\n",
       "      <td>1000</td>\n",
       "      <td>9</td>\n",
       "      <td>466</td>\n",
       "    </tr>\n",
       "  </tbody>\n",
       "</table>\n",
       "</div>"
      ],
      "text/plain": [
       "   user_id  month  duration\n",
       "0     1000      5       159\n",
       "1     1000      6       172\n",
       "2     1000      7       340\n",
       "3     1000      8       408\n",
       "4     1000      9       466"
      ]
     },
     "metadata": {},
     "output_type": "display_data"
    }
   ],
   "source": [
    "# количество израсходованных минут разговора по месяцам\n",
    "\n",
    "duration_calls = (data_calls.\n",
    "                  groupby(['user_id', 'month']).\n",
    "                  agg({'duration': 'sum'}).\n",
    "                  fillna(0).\n",
    "                  reset_index()\n",
    "                 )\n",
    "display(duration_calls.head())"
   ]
  },
  {
   "cell_type": "markdown",
   "metadata": {},
   "source": [
    "Аналогично создадим таблицы по месяцам и пользователям для количества сообщений и объема трафика."
   ]
  },
  {
   "cell_type": "code",
   "execution_count": 24,
   "metadata": {},
   "outputs": [
    {
     "data": {
      "text/html": [
       "<div>\n",
       "<style scoped>\n",
       "    .dataframe tbody tr th:only-of-type {\n",
       "        vertical-align: middle;\n",
       "    }\n",
       "\n",
       "    .dataframe tbody tr th {\n",
       "        vertical-align: top;\n",
       "    }\n",
       "\n",
       "    .dataframe thead th {\n",
       "        text-align: right;\n",
       "    }\n",
       "</style>\n",
       "<table border=\"1\" class=\"dataframe\">\n",
       "  <thead>\n",
       "    <tr style=\"text-align: right;\">\n",
       "      <th></th>\n",
       "      <th>user_id</th>\n",
       "      <th>month</th>\n",
       "      <th>messages</th>\n",
       "    </tr>\n",
       "  </thead>\n",
       "  <tbody>\n",
       "    <tr>\n",
       "      <th>0</th>\n",
       "      <td>1000</td>\n",
       "      <td>5</td>\n",
       "      <td>22</td>\n",
       "    </tr>\n",
       "    <tr>\n",
       "      <th>1</th>\n",
       "      <td>1000</td>\n",
       "      <td>6</td>\n",
       "      <td>60</td>\n",
       "    </tr>\n",
       "    <tr>\n",
       "      <th>2</th>\n",
       "      <td>1000</td>\n",
       "      <td>7</td>\n",
       "      <td>75</td>\n",
       "    </tr>\n",
       "    <tr>\n",
       "      <th>3</th>\n",
       "      <td>1000</td>\n",
       "      <td>8</td>\n",
       "      <td>81</td>\n",
       "    </tr>\n",
       "    <tr>\n",
       "      <th>4</th>\n",
       "      <td>1000</td>\n",
       "      <td>9</td>\n",
       "      <td>57</td>\n",
       "    </tr>\n",
       "  </tbody>\n",
       "</table>\n",
       "</div>"
      ],
      "text/plain": [
       "   user_id  month  messages\n",
       "0     1000      5        22\n",
       "1     1000      6        60\n",
       "2     1000      7        75\n",
       "3     1000      8        81\n",
       "4     1000      9        57"
      ]
     },
     "metadata": {},
     "output_type": "display_data"
    }
   ],
   "source": [
    "     # количество отправленных сообщений по месяцам\n",
    "\n",
    "count_messages = (data_messages.\n",
    "                  groupby(['user_id', 'month']).\n",
    "                  agg({'id': 'count'}).\n",
    "                  fillna(0).\n",
    "                  reset_index()\n",
    "                 ) \n",
    "\n",
    "count_messages.columns = ['user_id', 'month', 'messages']  # Переименовали столбец для большей наглядности\n",
    "display(count_messages.head())"
   ]
  },
  {
   "cell_type": "code",
   "execution_count": 25,
   "metadata": {},
   "outputs": [
    {
     "data": {
      "text/html": [
       "<div>\n",
       "<style scoped>\n",
       "    .dataframe tbody tr th:only-of-type {\n",
       "        vertical-align: middle;\n",
       "    }\n",
       "\n",
       "    .dataframe tbody tr th {\n",
       "        vertical-align: top;\n",
       "    }\n",
       "\n",
       "    .dataframe thead th {\n",
       "        text-align: right;\n",
       "    }\n",
       "</style>\n",
       "<table border=\"1\" class=\"dataframe\">\n",
       "  <thead>\n",
       "    <tr style=\"text-align: right;\">\n",
       "      <th></th>\n",
       "      <th>user_id</th>\n",
       "      <th>month</th>\n",
       "      <th>mb_used</th>\n",
       "    </tr>\n",
       "  </thead>\n",
       "  <tbody>\n",
       "    <tr>\n",
       "      <th>0</th>\n",
       "      <td>1000</td>\n",
       "      <td>5</td>\n",
       "      <td>2256</td>\n",
       "    </tr>\n",
       "    <tr>\n",
       "      <th>1</th>\n",
       "      <td>1000</td>\n",
       "      <td>6</td>\n",
       "      <td>23257</td>\n",
       "    </tr>\n",
       "    <tr>\n",
       "      <th>2</th>\n",
       "      <td>1000</td>\n",
       "      <td>7</td>\n",
       "      <td>14016</td>\n",
       "    </tr>\n",
       "    <tr>\n",
       "      <th>3</th>\n",
       "      <td>1000</td>\n",
       "      <td>8</td>\n",
       "      <td>14070</td>\n",
       "    </tr>\n",
       "    <tr>\n",
       "      <th>4</th>\n",
       "      <td>1000</td>\n",
       "      <td>9</td>\n",
       "      <td>14581</td>\n",
       "    </tr>\n",
       "  </tbody>\n",
       "</table>\n",
       "</div>"
      ],
      "text/plain": [
       "   user_id  month  mb_used\n",
       "0     1000      5     2256\n",
       "1     1000      6    23257\n",
       "2     1000      7    14016\n",
       "3     1000      8    14070\n",
       "4     1000      9    14581"
      ]
     },
     "metadata": {},
     "output_type": "display_data"
    }
   ],
   "source": [
    "     # объем израсходованного интернет-трафика по месяцам\n",
    "\n",
    "mb_traffic = (data_internet.\n",
    "              groupby(['user_id', 'month']).\n",
    "              agg({'mb_used': 'sum'}).\n",
    "              fillna(0).\n",
    "              reset_index()\n",
    "             ) \n",
    "display(mb_traffic.head()) # посмотрим, что получилось"
   ]
  },
  {
   "cell_type": "markdown",
   "metadata": {},
   "source": [
    "Ежемесячный интернет-трафик необходимо округлить согласно правилам \"Мегалайн\" (мегабайты до гигабайт).\n",
    "Напишем функцию перевода. Мегабайты нужно поделить на 1024 и округлить. Поступим аналогично округлению в большую сторону, как для минут, но прибавим не половину от 1024 , то есть 512, а чуть меньше - 511,5, поскольку плавающая запятая в результете деления вносит свои коррективы и при делении 1024 на 1024 дает чуть больше 1 где-то в десятитысячных долях."
   ]
  },
  {
   "cell_type": "code",
   "execution_count": 26,
   "metadata": {
    "scrolled": true
   },
   "outputs": [],
   "source": [
    "def conversion_mb_gb(mb):           # Объявим функцию\n",
    "    return round((mb+511.5)/1024)\n",
    "\n",
    "                                    # Применим ее ко всем элементам и изменим тип на int:      \n",
    "mb_traffic['gb_used'] = (mb_traffic['mb_used'].\n",
    "                         apply(conversion_mb_gb).\n",
    "                         astype(int)\n",
    "                        ) \n",
    "                                                  "
   ]
  },
  {
   "cell_type": "markdown",
   "metadata": {},
   "source": [
    "Теперь посмотрим, как сработал код функции."
   ]
  },
  {
   "cell_type": "code",
   "execution_count": 27,
   "metadata": {},
   "outputs": [
    {
     "data": {
      "text/html": [
       "<div>\n",
       "<style scoped>\n",
       "    .dataframe tbody tr th:only-of-type {\n",
       "        vertical-align: middle;\n",
       "    }\n",
       "\n",
       "    .dataframe tbody tr th {\n",
       "        vertical-align: top;\n",
       "    }\n",
       "\n",
       "    .dataframe thead th {\n",
       "        text-align: right;\n",
       "    }\n",
       "</style>\n",
       "<table border=\"1\" class=\"dataframe\">\n",
       "  <thead>\n",
       "    <tr style=\"text-align: right;\">\n",
       "      <th></th>\n",
       "      <th>user_id</th>\n",
       "      <th>month</th>\n",
       "      <th>mb_used</th>\n",
       "      <th>gb_used</th>\n",
       "    </tr>\n",
       "  </thead>\n",
       "  <tbody>\n",
       "    <tr>\n",
       "      <th>0</th>\n",
       "      <td>1000</td>\n",
       "      <td>5</td>\n",
       "      <td>2256</td>\n",
       "      <td>3</td>\n",
       "    </tr>\n",
       "    <tr>\n",
       "      <th>1</th>\n",
       "      <td>1000</td>\n",
       "      <td>6</td>\n",
       "      <td>23257</td>\n",
       "      <td>23</td>\n",
       "    </tr>\n",
       "    <tr>\n",
       "      <th>2</th>\n",
       "      <td>1000</td>\n",
       "      <td>7</td>\n",
       "      <td>14016</td>\n",
       "      <td>14</td>\n",
       "    </tr>\n",
       "    <tr>\n",
       "      <th>3</th>\n",
       "      <td>1000</td>\n",
       "      <td>8</td>\n",
       "      <td>14070</td>\n",
       "      <td>14</td>\n",
       "    </tr>\n",
       "    <tr>\n",
       "      <th>4</th>\n",
       "      <td>1000</td>\n",
       "      <td>9</td>\n",
       "      <td>14581</td>\n",
       "      <td>15</td>\n",
       "    </tr>\n",
       "  </tbody>\n",
       "</table>\n",
       "</div>"
      ],
      "text/plain": [
       "   user_id  month  mb_used  gb_used\n",
       "0     1000      5     2256        3\n",
       "1     1000      6    23257       23\n",
       "2     1000      7    14016       14\n",
       "3     1000      8    14070       14\n",
       "4     1000      9    14581       15"
      ]
     },
     "metadata": {},
     "output_type": "display_data"
    }
   ],
   "source": [
    "display(mb_traffic.head())"
   ]
  },
  {
   "cell_type": "markdown",
   "metadata": {},
   "source": [
    "Итак, имеем три новые сводные таблицы. \n",
    "\n",
    "В них включены только те месяцы, когда совершались звонки или другие действия. Период до и после действия договора нас не интересует. Могли быть не включены в таблицу месяцы, если не было никакой активности, и, по идее, за них тоже надо взимать плату как за пакет согласно тарифу. Но вычислять их мы не будем, а будем условно считать, что на период отпуска без связи все услуги были приостановлены, если таковое имело место. Тогда плата логично не будет посчитана (условно равна 0).\n",
    "\n",
    "Для дальнейших целей (вычислить помесячную выручку с каждого пользователя) необходимо объединить их по user_id и month. За основную возьмем таблицу users (информация о пользователях). "
   ]
  },
  {
   "cell_type": "code",
   "execution_count": 28,
   "metadata": {
    "scrolled": true
   },
   "outputs": [
    {
     "name": "stdout",
     "output_type": "stream",
     "text": [
      "Размер таблицы: (3214, 6)\n"
     ]
    },
    {
     "data": {
      "text/html": [
       "<div>\n",
       "<style scoped>\n",
       "    .dataframe tbody tr th:only-of-type {\n",
       "        vertical-align: middle;\n",
       "    }\n",
       "\n",
       "    .dataframe tbody tr th {\n",
       "        vertical-align: top;\n",
       "    }\n",
       "\n",
       "    .dataframe thead th {\n",
       "        text-align: right;\n",
       "    }\n",
       "</style>\n",
       "<table border=\"1\" class=\"dataframe\">\n",
       "  <thead>\n",
       "    <tr style=\"text-align: right;\">\n",
       "      <th></th>\n",
       "      <th>user_id</th>\n",
       "      <th>month</th>\n",
       "      <th>duration</th>\n",
       "      <th>messages</th>\n",
       "      <th>mb_used</th>\n",
       "      <th>gb_used</th>\n",
       "    </tr>\n",
       "  </thead>\n",
       "  <tbody>\n",
       "    <tr>\n",
       "      <th>0</th>\n",
       "      <td>1000</td>\n",
       "      <td>5</td>\n",
       "      <td>159.0</td>\n",
       "      <td>22.0</td>\n",
       "      <td>2256.0</td>\n",
       "      <td>3.0</td>\n",
       "    </tr>\n",
       "    <tr>\n",
       "      <th>1</th>\n",
       "      <td>1000</td>\n",
       "      <td>6</td>\n",
       "      <td>172.0</td>\n",
       "      <td>60.0</td>\n",
       "      <td>23257.0</td>\n",
       "      <td>23.0</td>\n",
       "    </tr>\n",
       "    <tr>\n",
       "      <th>2</th>\n",
       "      <td>1000</td>\n",
       "      <td>7</td>\n",
       "      <td>340.0</td>\n",
       "      <td>75.0</td>\n",
       "      <td>14016.0</td>\n",
       "      <td>14.0</td>\n",
       "    </tr>\n",
       "    <tr>\n",
       "      <th>3</th>\n",
       "      <td>1000</td>\n",
       "      <td>8</td>\n",
       "      <td>408.0</td>\n",
       "      <td>81.0</td>\n",
       "      <td>14070.0</td>\n",
       "      <td>14.0</td>\n",
       "    </tr>\n",
       "    <tr>\n",
       "      <th>4</th>\n",
       "      <td>1000</td>\n",
       "      <td>9</td>\n",
       "      <td>466.0</td>\n",
       "      <td>57.0</td>\n",
       "      <td>14581.0</td>\n",
       "      <td>15.0</td>\n",
       "    </tr>\n",
       "  </tbody>\n",
       "</table>\n",
       "</div>"
      ],
      "text/plain": [
       "   user_id  month  duration  messages  mb_used  gb_used\n",
       "0     1000      5     159.0      22.0   2256.0      3.0\n",
       "1     1000      6     172.0      60.0  23257.0     23.0\n",
       "2     1000      7     340.0      75.0  14016.0     14.0\n",
       "3     1000      8     408.0      81.0  14070.0     14.0\n",
       "4     1000      9     466.0      57.0  14581.0     15.0"
      ]
     },
     "metadata": {},
     "output_type": "display_data"
    }
   ],
   "source": [
    "united_data = (duration_calls.\n",
    "               merge(count_messages, \n",
    "                     on=['user_id', 'month'], \n",
    "                     how='outer'\n",
    "                    ).\n",
    "               merge(mb_traffic, \n",
    "                     on=['user_id', 'month'], \n",
    "                     how='outer'\n",
    "                    )\n",
    "              )\n",
    "\n",
    "print('Размер таблицы:', united_data.shape)\n",
    "display(united_data.head())"
   ]
  },
  {
   "cell_type": "markdown",
   "metadata": {},
   "source": [
    "В таблице могут оказаться пропущенные значения. Заменим их на 0. Затем проверим."
   ]
  },
  {
   "cell_type": "code",
   "execution_count": 29,
   "metadata": {},
   "outputs": [
    {
     "name": "stdout",
     "output_type": "stream",
     "text": [
      "Количество пропусков до: 559\n",
      "Количество пропусков после: 0\n"
     ]
    }
   ],
   "source": [
    "print('Количество пропусков до:', united_data.isna().sum().sum())\n",
    "\n",
    "united_data = united_data.fillna(0)\n",
    "print('Количество пропусков после:', united_data.isna().sum().sum())"
   ]
  },
  {
   "cell_type": "markdown",
   "metadata": {},
   "source": [
    "Объединим сводную таблицу с данными абонентов, добавим два столбца (месяцы регистрации и расторжения договора) и разобьем полученное на две таблицы согласно тарифу, так как в дальнейшем мы будем сравнивать эти два датафрейма."
   ]
  },
  {
   "cell_type": "code",
   "execution_count": 30,
   "metadata": {
    "scrolled": true
   },
   "outputs": [],
   "source": [
    "united_data = (data_users.\n",
    "               merge(united_data, \n",
    "                     on=['user_id'], \n",
    "                     how='outer').\n",
    "               fillna(0)  # Объединяем таблицы\n",
    "              )\n"
   ]
  },
  {
   "cell_type": "code",
   "execution_count": 31,
   "metadata": {},
   "outputs": [],
   "source": [
    "data_smart = united_data.loc[united_data['tariff'] == 'smart'] # разбили на две таблицы согласно тарифу\n",
    "data_ultra = united_data.loc[united_data['tariff'] == 'ultra']"
   ]
  },
  {
   "cell_type": "markdown",
   "metadata": {},
   "source": [
    "### Подсчет ежемесячной платы "
   ]
  },
  {
   "cell_type": "markdown",
   "metadata": {},
   "source": [
    "Теперь, наконец, посчитаем помесячную выручку с каждого пользователя - плату за месяц. Вычтем пакеты из суммарной длительности звонков, количества сообщений и интернет-трафика; остаток умножим на значение из тарифного плана; прибавим абонентскую плату, соответствующую тарифному плану.\n",
    "\n",
    "Для нахождения остатка минут нам необходимо найти максимум из значений \"0\" и разности длительности звонков и размера пакета. \n",
    "\n",
    "Зададим значения переменных - условия тарифов."
   ]
  },
  {
   "cell_type": "code",
   "execution_count": 32,
   "metadata": {},
   "outputs": [],
   "source": [
    "# Цены сверх пакетов\n",
    "minute_smart = data_tariffs.rub_per_minute[0]    # 0 - Smart\n",
    "minute_ultra = data_tariffs.rub_per_minute[1]    # 1 - Ultra\n",
    "message_smart = data_tariffs.rub_per_message[0]\n",
    "message_ultra = data_tariffs.rub_per_message[1]\n",
    "gb_smart = data_tariffs.rub_per_gb[0]\n",
    "gb_ultra = data_tariffs.rub_per_gb[1]\n",
    "\n",
    "# Пакеты\n",
    "pack_minute_smart = data_tariffs.minutes_included[0] \n",
    "pack_minute_ultra = data_tariffs.minutes_included[1]\n",
    "pack_message_smart = data_tariffs.messages_included[0]\n",
    "pack_message_ultra = data_tariffs.messages_included[1]\n",
    "pack_gb_smart = data_tariffs.mb_per_month_included[0]/1024 # Так как данные в таблице data_tariffs в Мб, перевели в Гб\n",
    "pack_gb_ultra = data_tariffs.mb_per_month_included[1]/1024\n",
    "\n",
    "# Ежемесячная плата\n",
    "pay_smart = data_tariffs.rub_monthly_fee[0]\n",
    "pay_ultra = data_tariffs.rub_monthly_fee[1] "
   ]
  },
  {
   "cell_type": "code",
   "execution_count": 33,
   "metadata": {},
   "outputs": [],
   "source": [
    "data_smart['pay'] = (\n",
    "    np.maximum(0, data_smart['duration'] - pack_minute_smart) * minute_smart  \n",
    "    + np.maximum(0, data_smart['messages'] - pack_message_smart) * message_smart \n",
    "    + np.maximum(0, data_smart['gb_used'] - pack_gb_smart) * gb_smart \n",
    "    + pay_smart\n",
    ")\n",
    "\n",
    "data_ultra['pay'] = (\n",
    "    np.maximum(0, data_ultra['duration'] - pack_minute_ultra) * minute_ultra \n",
    "    + np.maximum(0, data_ultra['messages'] - pack_message_ultra) * message_ultra \n",
    "    + np.maximum(0, data_ultra['gb_used'] - pack_gb_ultra) * gb_ultra \n",
    "    + pay_ultra\n",
    ")"
   ]
  },
  {
   "cell_type": "markdown",
   "metadata": {},
   "source": [
    "## Анализ данных\n",
    "\n",
    "Опишем поведение клиентов оператора, исходя из выборки. \n",
    "- Сколько минут разговора требуется пользователям каждого тарифа в месяц.\n",
    "- Сколько сообщений и какой объём интернет-трафика необходим? \n",
    "\n",
    "- Посчитаем среднее количество, дисперсию и стандартное отклонение. \n",
    "- Построим гистограммы, опишем распределения."
   ]
  },
  {
   "cell_type": "markdown",
   "metadata": {},
   "source": [
    "### Диаграммы"
   ]
  },
  {
   "cell_type": "code",
   "execution_count": 34,
   "metadata": {},
   "outputs": [
    {
     "data": {
      "text/plain": [
       "Text(0, 0.5, 'Среднее количество минут')"
      ]
     },
     "execution_count": 34,
     "metadata": {},
     "output_type": "execute_result"
    },
    {
     "data": {
      "image/png": "[encoded data removed]",
      "text/plain": [
       "<Figure size 576x288 with 1 Axes>"
      ]
     },
     "metadata": {
      "needs_background": "light"
     },
     "output_type": "display_data"
    }
   ],
   "source": [
    "ax = (data_smart.               # Smart                        # применили присвоение параметру ax первой диаграммы, \n",
    "      pivot_table(index='month',                               # чтобы вывести обе на одном графике\n",
    "                  values='duration', \n",
    "                  aggfunc='mean'\n",
    "                 ).\n",
    "      plot(kind='bar', \n",
    "           figsize=(8, 4), \n",
    "           grid=True, \n",
    "           ylim=(0, 700), \n",
    "           color='green'\n",
    "          )                \n",
    "     )\n",
    "\n",
    "(data_ultra.                    # Ultra\n",
    " pivot_table(index='month', \n",
    "             values='duration', \n",
    "             aggfunc='mean'\n",
    "            ).\n",
    " plot(kind='bar', \n",
    "      figsize=(8, 4), \n",
    "      grid=True, \n",
    "      ylim=(0, 700), \n",
    "      rot=0, \n",
    "      alpha=0.7, \n",
    "      ax=ax)           \n",
    ")\n",
    "\n",
    "plt.legend(['smart', 'ultra'])\n",
    "plt.xlabel('Месяцы')                   # Подписали ось X\n",
    "plt.ylabel('Среднее количество минут') # Подписали ось Y"
   ]
  },
  {
   "cell_type": "markdown",
   "metadata": {},
   "source": [
    "Как видим, в среднем пользователи тарифа \"Ультра\" говорят примерно по 500 минут в месяц, что на 100 минут в месяц больше, чем пользователи тарифа \"Смарт\". В обеих группах к концу года число минут незначительно растет. И если пользователи \"Смарт\" в среднем лишь немного не \"дотягивают\" до полного пакета в 500 минут, то пользователи \"Ультра\" не используют и одной пятой части своего пакета в 3000 минут."
   ]
  },
  {
   "cell_type": "code",
   "execution_count": 35,
   "metadata": {
    "scrolled": true
   },
   "outputs": [
    {
     "data": {
      "text/plain": [
       "Text(0, 0.5, 'Среднее количество сообщений')"
      ]
     },
     "execution_count": 35,
     "metadata": {},
     "output_type": "execute_result"
    },
    {
     "data": {
      "image/png": "[encoded data removed]",
      "text/plain": [
       "<Figure size 576x288 with 1 Axes>"
      ]
     },
     "metadata": {
      "needs_background": "light"
     },
     "output_type": "display_data"
    }
   ],
   "source": [
    "ax = (data_smart.                       # Smart\n",
    "      pivot_table(index='month', \n",
    "                  values='messages', \n",
    "                  aggfunc='mean'\n",
    "                 ).\n",
    "      plot(kind='bar', \n",
    "           figsize=(8, 4), \n",
    "           grid=True, \n",
    "           color='green'\n",
    "          )                \n",
    "     )\n",
    "\n",
    "(data_ultra.                            # Ultra\n",
    " pivot_table(index='month', \n",
    "             values='messages', \n",
    "             aggfunc='mean'\n",
    "            ).\n",
    " plot(kind='bar', \n",
    "      figsize=(8, 4), \n",
    "      grid=True, \n",
    "      rot=0, \n",
    "      alpha=0.7, \n",
    "      ax=ax)             \n",
    ")\n",
    "\n",
    "plt.legend(['smart', 'ultra'])\n",
    "plt.xlabel('Месяцы')                         # Подписали ось абсцисс X\n",
    "plt.ylabel('Среднее количество сообщений')   # Ось ординат Y"
   ]
  },
  {
   "cell_type": "markdown",
   "metadata": {},
   "source": [
    "На диаграмме с числом сообщений примерно такая картина: в среднем пользователи тарифа \"Смарт\" стабильно посылают около 35 сообщений в месяц, а пользователи тарифа \"Ультра\"на 5-10 штук больше, а в феврале даже меньше. Число отправленных сообщений у \"Ультра\" к концу года увеличивается. Обе группы в среднем не выходят на пределы своих пакетов, а у \"Ультра\" не используется и 1/20 часть пакета."
   ]
  },
  {
   "cell_type": "code",
   "execution_count": 36,
   "metadata": {
    "scrolled": true
   },
   "outputs": [
    {
     "data": {
      "text/plain": [
       "Text(0, 0.5, 'Среднее количество Гб')"
      ]
     },
     "execution_count": 36,
     "metadata": {},
     "output_type": "execute_result"
    },
    {
     "data": {
      "image/png": "[encoded data removed]",
      "text/plain": [
       "<Figure size 576x288 with 1 Axes>"
      ]
     },
     "metadata": {
      "needs_background": "light"
     },
     "output_type": "display_data"
    }
   ],
   "source": [
    "ax = (data_smart.                               # Smart\n",
    "      pivot_table(index='month', \n",
    "                  values='gb_used', \n",
    "                  aggfunc='mean'\n",
    "                 ).\n",
    "      plot(kind='bar', \n",
    "           figsize=(8, 4), \n",
    "           grid=True, \n",
    "           color='green')                \n",
    "     )\n",
    "\n",
    "(data_ultra.                                    # Ultra\n",
    " pivot_table(index='month', \n",
    "             values='gb_used', \n",
    "             aggfunc='mean'\n",
    "            ).\n",
    " plot(kind='bar', \n",
    "      figsize=(8, 4), \n",
    "      grid=True, \n",
    "      rot=0, \n",
    "      alpha=0.7, \n",
    "      ax=ax)            \n",
    ")\n",
    "\n",
    "plt.legend(['smart', 'ultra'])\n",
    "plt.xlabel('Месяцы')                           # Подписали ось X\n",
    "plt.ylabel('Среднее количество Гб')            # Подписали ось Y"
   ]
  },
  {
   "cell_type": "markdown",
   "metadata": {},
   "source": [
    "На диаграмме с объемом интернет-трафика среднее достаточно стабильно находится в районе 20 Гб для \"Ультра\" и около 17 Гб для \"Смарт\".  И если пользователи \"Смарт\" в среднем превышают трафик из своего пакета на 2-3 Гб, то пользователи \"Ультра\" используют около 2/3 пакета Гб."
   ]
  },
  {
   "cell_type": "markdown",
   "metadata": {},
   "source": [
    "Предварительная гипотеза: пользователи тарифа \"Ультра\" не переплачивают сверх своей абонентской платы, а пользователи тарифа \"Смарт\" достаточно часто переплачивают за интернет-трафик сверх своего пакета."
   ]
  },
  {
   "cell_type": "markdown",
   "metadata": {},
   "source": [
    "### Среднее количество, дисперсия и стандартное отклонение"
   ]
  },
  {
   "cell_type": "code",
   "execution_count": 37,
   "metadata": {},
   "outputs": [
    {
     "data": {
      "text/html": [
       "<div>\n",
       "<style scoped>\n",
       "    .dataframe tbody tr th:only-of-type {\n",
       "        vertical-align: middle;\n",
       "    }\n",
       "\n",
       "    .dataframe tbody tr th {\n",
       "        vertical-align: top;\n",
       "    }\n",
       "\n",
       "    .dataframe thead th {\n",
       "        text-align: right;\n",
       "    }\n",
       "</style>\n",
       "<table border=\"1\" class=\"dataframe\">\n",
       "  <thead>\n",
       "    <tr style=\"text-align: right;\">\n",
       "      <th></th>\n",
       "      <th>count</th>\n",
       "      <th>mean</th>\n",
       "      <th>std</th>\n",
       "      <th>min</th>\n",
       "      <th>25%</th>\n",
       "      <th>50%</th>\n",
       "      <th>75%</th>\n",
       "      <th>max</th>\n",
       "    </tr>\n",
       "  </thead>\n",
       "  <tbody>\n",
       "    <tr>\n",
       "      <th>user_id</th>\n",
       "      <td>2230.0</td>\n",
       "      <td>1246.562332</td>\n",
       "      <td>146.110501</td>\n",
       "      <td>1001.0</td>\n",
       "      <td>1121.00</td>\n",
       "      <td>1240.0</td>\n",
       "      <td>1376.0</td>\n",
       "      <td>1499.0</td>\n",
       "    </tr>\n",
       "    <tr>\n",
       "      <th>age</th>\n",
       "      <td>2230.0</td>\n",
       "      <td>46.557848</td>\n",
       "      <td>16.349865</td>\n",
       "      <td>18.0</td>\n",
       "      <td>32.00</td>\n",
       "      <td>47.0</td>\n",
       "      <td>62.0</td>\n",
       "      <td>75.0</td>\n",
       "    </tr>\n",
       "    <tr>\n",
       "      <th>month</th>\n",
       "      <td>2230.0</td>\n",
       "      <td>8.343049</td>\n",
       "      <td>2.925006</td>\n",
       "      <td>0.0</td>\n",
       "      <td>6.00</td>\n",
       "      <td>9.0</td>\n",
       "      <td>11.0</td>\n",
       "      <td>12.0</td>\n",
       "    </tr>\n",
       "    <tr>\n",
       "      <th>duration</th>\n",
       "      <td>2230.0</td>\n",
       "      <td>417.747534</td>\n",
       "      <td>190.476754</td>\n",
       "      <td>0.0</td>\n",
       "      <td>282.00</td>\n",
       "      <td>421.5</td>\n",
       "      <td>545.0</td>\n",
       "      <td>1435.0</td>\n",
       "    </tr>\n",
       "    <tr>\n",
       "      <th>messages</th>\n",
       "      <td>2230.0</td>\n",
       "      <td>33.369058</td>\n",
       "      <td>28.230396</td>\n",
       "      <td>0.0</td>\n",
       "      <td>10.00</td>\n",
       "      <td>28.0</td>\n",
       "      <td>51.0</td>\n",
       "      <td>143.0</td>\n",
       "    </tr>\n",
       "    <tr>\n",
       "      <th>mb_used</th>\n",
       "      <td>2230.0</td>\n",
       "      <td>16221.910762</td>\n",
       "      <td>5886.299627</td>\n",
       "      <td>0.0</td>\n",
       "      <td>12645.25</td>\n",
       "      <td>16529.0</td>\n",
       "      <td>20068.0</td>\n",
       "      <td>38610.0</td>\n",
       "    </tr>\n",
       "    <tr>\n",
       "      <th>gb_used</th>\n",
       "      <td>2230.0</td>\n",
       "      <td>16.352018</td>\n",
       "      <td>5.767620</td>\n",
       "      <td>0.0</td>\n",
       "      <td>13.00</td>\n",
       "      <td>17.0</td>\n",
       "      <td>20.0</td>\n",
       "      <td>38.0</td>\n",
       "    </tr>\n",
       "    <tr>\n",
       "      <th>pay</th>\n",
       "      <td>2230.0</td>\n",
       "      <td>1294.305381</td>\n",
       "      <td>820.900496</td>\n",
       "      <td>550.0</td>\n",
       "      <td>550.00</td>\n",
       "      <td>1037.0</td>\n",
       "      <td>1750.0</td>\n",
       "      <td>6770.0</td>\n",
       "    </tr>\n",
       "  </tbody>\n",
       "</table>\n",
       "</div>"
      ],
      "text/plain": [
       "           count          mean          std     min       25%      50%  \\\n",
       "user_id   2230.0   1246.562332   146.110501  1001.0   1121.00   1240.0   \n",
       "age       2230.0     46.557848    16.349865    18.0     32.00     47.0   \n",
       "month     2230.0      8.343049     2.925006     0.0      6.00      9.0   \n",
       "duration  2230.0    417.747534   190.476754     0.0    282.00    421.5   \n",
       "messages  2230.0     33.369058    28.230396     0.0     10.00     28.0   \n",
       "mb_used   2230.0  16221.910762  5886.299627     0.0  12645.25  16529.0   \n",
       "gb_used   2230.0     16.352018     5.767620     0.0     13.00     17.0   \n",
       "pay       2230.0   1294.305381   820.900496   550.0    550.00   1037.0   \n",
       "\n",
       "              75%      max  \n",
       "user_id    1376.0   1499.0  \n",
       "age          62.0     75.0  \n",
       "month        11.0     12.0  \n",
       "duration    545.0   1435.0  \n",
       "messages     51.0    143.0  \n",
       "mb_used   20068.0  38610.0  \n",
       "gb_used      20.0     38.0  \n",
       "pay        1750.0   6770.0  "
      ]
     },
     "execution_count": 37,
     "metadata": {},
     "output_type": "execute_result"
    }
   ],
   "source": [
    "data_smart.describe().T"
   ]
  },
  {
   "cell_type": "markdown",
   "metadata": {},
   "source": [
    "Данные говорят о том, что для тарифа \"Смарт\" и число минут, и сообщений, и Гб может превышать пакет (это max). Сверх тарифа не переплачивает только четверть пользователей (первый квартиль), медиана превышает абонентскую плату вдвое, а третий квартиль втрое. "
   ]
  },
  {
   "cell_type": "code",
   "execution_count": 38,
   "metadata": {
    "scrolled": true
   },
   "outputs": [
    {
     "data": {
      "text/html": [
       "<div>\n",
       "<style scoped>\n",
       "    .dataframe tbody tr th:only-of-type {\n",
       "        vertical-align: middle;\n",
       "    }\n",
       "\n",
       "    .dataframe tbody tr th {\n",
       "        vertical-align: top;\n",
       "    }\n",
       "\n",
       "    .dataframe thead th {\n",
       "        text-align: right;\n",
       "    }\n",
       "</style>\n",
       "<table border=\"1\" class=\"dataframe\">\n",
       "  <thead>\n",
       "    <tr style=\"text-align: right;\">\n",
       "      <th></th>\n",
       "      <th>count</th>\n",
       "      <th>mean</th>\n",
       "      <th>std</th>\n",
       "      <th>min</th>\n",
       "      <th>25%</th>\n",
       "      <th>50%</th>\n",
       "      <th>75%</th>\n",
       "      <th>max</th>\n",
       "    </tr>\n",
       "  </thead>\n",
       "  <tbody>\n",
       "    <tr>\n",
       "      <th>user_id</th>\n",
       "      <td>986.0</td>\n",
       "      <td>1262.957404</td>\n",
       "      <td>140.689268</td>\n",
       "      <td>1000.0</td>\n",
       "      <td>1143.0</td>\n",
       "      <td>1277.0</td>\n",
       "      <td>1381.00</td>\n",
       "      <td>1495.0</td>\n",
       "    </tr>\n",
       "    <tr>\n",
       "      <th>age</th>\n",
       "      <td>986.0</td>\n",
       "      <td>46.838742</td>\n",
       "      <td>17.099807</td>\n",
       "      <td>18.0</td>\n",
       "      <td>30.0</td>\n",
       "      <td>45.0</td>\n",
       "      <td>63.00</td>\n",
       "      <td>75.0</td>\n",
       "    </tr>\n",
       "    <tr>\n",
       "      <th>month</th>\n",
       "      <td>986.0</td>\n",
       "      <td>8.242394</td>\n",
       "      <td>2.882305</td>\n",
       "      <td>0.0</td>\n",
       "      <td>6.0</td>\n",
       "      <td>9.0</td>\n",
       "      <td>11.00</td>\n",
       "      <td>12.0</td>\n",
       "    </tr>\n",
       "    <tr>\n",
       "      <th>duration</th>\n",
       "      <td>986.0</td>\n",
       "      <td>526.089249</td>\n",
       "      <td>317.887549</td>\n",
       "      <td>0.0</td>\n",
       "      <td>282.5</td>\n",
       "      <td>518.0</td>\n",
       "      <td>751.75</td>\n",
       "      <td>1673.0</td>\n",
       "    </tr>\n",
       "    <tr>\n",
       "      <th>messages</th>\n",
       "      <td>986.0</td>\n",
       "      <td>49.313387</td>\n",
       "      <td>47.806040</td>\n",
       "      <td>0.0</td>\n",
       "      <td>6.0</td>\n",
       "      <td>38.0</td>\n",
       "      <td>78.75</td>\n",
       "      <td>224.0</td>\n",
       "    </tr>\n",
       "    <tr>\n",
       "      <th>mb_used</th>\n",
       "      <td>986.0</td>\n",
       "      <td>19467.137931</td>\n",
       "      <td>10110.255401</td>\n",
       "      <td>0.0</td>\n",
       "      <td>11761.0</td>\n",
       "      <td>19320.0</td>\n",
       "      <td>26860.25</td>\n",
       "      <td>49789.0</td>\n",
       "    </tr>\n",
       "    <tr>\n",
       "      <th>gb_used</th>\n",
       "      <td>986.0</td>\n",
       "      <td>19.506085</td>\n",
       "      <td>9.880425</td>\n",
       "      <td>0.0</td>\n",
       "      <td>12.0</td>\n",
       "      <td>19.0</td>\n",
       "      <td>27.00</td>\n",
       "      <td>49.0</td>\n",
       "    </tr>\n",
       "    <tr>\n",
       "      <th>pay</th>\n",
       "      <td>986.0</td>\n",
       "      <td>2070.943205</td>\n",
       "      <td>378.629673</td>\n",
       "      <td>1950.0</td>\n",
       "      <td>1950.0</td>\n",
       "      <td>1950.0</td>\n",
       "      <td>1950.00</td>\n",
       "      <td>4800.0</td>\n",
       "    </tr>\n",
       "  </tbody>\n",
       "</table>\n",
       "</div>"
      ],
      "text/plain": [
       "          count          mean           std     min      25%      50%  \\\n",
       "user_id   986.0   1262.957404    140.689268  1000.0   1143.0   1277.0   \n",
       "age       986.0     46.838742     17.099807    18.0     30.0     45.0   \n",
       "month     986.0      8.242394      2.882305     0.0      6.0      9.0   \n",
       "duration  986.0    526.089249    317.887549     0.0    282.5    518.0   \n",
       "messages  986.0     49.313387     47.806040     0.0      6.0     38.0   \n",
       "mb_used   986.0  19467.137931  10110.255401     0.0  11761.0  19320.0   \n",
       "gb_used   986.0     19.506085      9.880425     0.0     12.0     19.0   \n",
       "pay       986.0   2070.943205    378.629673  1950.0   1950.0   1950.0   \n",
       "\n",
       "               75%      max  \n",
       "user_id    1381.00   1495.0  \n",
       "age          63.00     75.0  \n",
       "month        11.00     12.0  \n",
       "duration    751.75   1673.0  \n",
       "messages     78.75    224.0  \n",
       "mb_used   26860.25  49789.0  \n",
       "gb_used      27.00     49.0  \n",
       "pay        1950.00   4800.0  "
      ]
     },
     "execution_count": 38,
     "metadata": {},
     "output_type": "execute_result"
    }
   ],
   "source": [
    "data_ultra.describe().T"
   ]
  },
  {
   "cell_type": "markdown",
   "metadata": {},
   "source": [
    "По числу минут и сообщений никто из пользователей \"Ультра\" не выходит за пределы пакета, а вот за интернет-трафик переплатить могут. При этом даже пользователи в пределах третьего квартиля платят только абонентскую плату.\n",
    "\n",
    "Число пользователей, пользующихся тарифом \"Смарт\" более чем в два раза превышает пользователей \"Ультра\"."
   ]
  },
  {
   "cell_type": "markdown",
   "metadata": {},
   "source": [
    "Функция describe() уже подсчитала стандартное отклонение выборки, но можем посчитать дисперсию и стандартное отклонение методами библиотеки numpy."
   ]
  },
  {
   "cell_type": "code",
   "execution_count": 39,
   "metadata": {},
   "outputs": [
    {
     "name": "stdout",
     "output_type": "stream",
     "text": [
      "Дисперсия для выборки Smart: 673877\n",
      "Стандартное отклонение для выборки Smart: 820\n"
     ]
    }
   ],
   "source": [
    "variance_estimate_smart = np.var(data_smart['pay'], \n",
    "                                 ddof=1\n",
    "                                )                        # Считаем дисперсию по выборке\n",
    "\n",
    "standard_dev_smart = np.std(data_smart['pay'], \n",
    "                            ddof=1\n",
    "                           )                             # Стандартное отклонение по выборке\n",
    "\n",
    "print('Дисперсия для выборки Smart:', \n",
    "      int(variance_estimate_smart)                       # отбрасываем цифры после запятой\n",
    "     )  \n",
    "print('Стандартное отклонение для выборки Smart:', \n",
    "      int(standard_dev_smart)\n",
    "     )"
   ]
  },
  {
   "cell_type": "code",
   "execution_count": 40,
   "metadata": {},
   "outputs": [
    {
     "name": "stdout",
     "output_type": "stream",
     "text": [
      "Дисперсия для выборки Ultra: 143360\n",
      "Стандартное отклонение для выборки Ultra: 378\n"
     ]
    }
   ],
   "source": [
    "variance_estimate_ultra = np.var(data_ultra['pay'], \n",
    "                                 ddof=1\n",
    "                                )                        # Считаем дисперсию по выборке\n",
    "\n",
    "standard_dev_ultra = np.std(data_ultra['pay'], \n",
    "                            ddof=1\n",
    "                           )                             # Стандартное отклонение по выборке\n",
    "\n",
    "print('Дисперсия для выборки Ultra:', \n",
    "      int(variance_estimate_ultra)\n",
    "     )\n",
    "print('Стандартное отклонение для выборки Ultra:', \n",
    "      int(standard_dev_ultra)\n",
    "     )"
   ]
  },
  {
   "cell_type": "markdown",
   "metadata": {},
   "source": [
    "Для выборки \"Ультра\" стандартное отклонение (показатель рассеивания значений) в два раза меньше, чем для \"Смарт\". Это означает, что плата по тарифу \"Ультра\" менее подвержена скачкам, что хорошо видно и по значениям: минимум, 1й, 2й и 3й квартили равны ежемесячной плате - 1950 руб."
   ]
  },
  {
   "cell_type": "markdown",
   "metadata": {},
   "source": [
    "Добавим дисперсию и std.\n",
    "    \n",
    "Стандартное отклонение std получено для обоих тарифов для всех столбцов с помощью метода describe() и соответствует посчитанному с помощью np.std. Поэтому можно вывести на экран стандартное отклонение из describe() и дисперсию как квадрат стандартного отклонения по очередности для длительности звонков, количества СМС и потраченных Гб. Либо можно с помощью np.var и np.std. Используем оба варианта.\n"
   ]
  },
  {
   "cell_type": "code",
   "execution_count": 41,
   "metadata": {
    "scrolled": true
   },
   "outputs": [
    {
     "name": "stdout",
     "output_type": "stream",
     "text": [
      "Дисперсия длительности звонка для Smart: 36281\n",
      "Стандартное отклонение длительности звонка для Smart: 190\n",
      "\n",
      "Дисперсия длительности звонка для Ultra: 101052\n",
      "Стандартное отклонение длительности звонка для Ultra: 318\n"
     ]
    }
   ],
   "source": [
    "duration_standard_dev_smart = data_smart['duration'].describe()['std']  # Стандартное отклонение \n",
    "duration_variance_estimate_smart = duration_standard_dev_smart ** 2     # Дисперсия\n",
    "\n",
    "print('Дисперсия длительности звонка для Smart:', round(duration_variance_estimate_smart))\n",
    "print('Стандартное отклонение длительности звонка для Smart:', round(duration_standard_dev_smart))\n",
    "\n",
    "\n",
    "duration_standard_dev_ultra = data_ultra['duration'].describe()['std']  # Стандартное отклонение \n",
    "duration_variance_estimate_ultra = duration_standard_dev_ultra ** 2     # Дисперсия\n",
    "\n",
    "print('\\nДисперсия длительности звонка для Ultra:', round(duration_variance_estimate_ultra))\n",
    "print('Стандартное отклонение длительности звонка для Ultra:', round(duration_standard_dev_ultra))"
   ]
  },
  {
   "cell_type": "markdown",
   "metadata": {},
   "source": [
    "\n",
    "Видим, что разброс звонков вокруг среднего значения у тарифа Smart в полтора раза меньше, чем у Ultra.\n",
    "    \n",
    "Найдем теперь дисперсию и стандартное отклонение для сообщений и интернет-трафика."
   ]
  },
  {
   "cell_type": "code",
   "execution_count": 42,
   "metadata": {},
   "outputs": [
    {
     "name": "stdout",
     "output_type": "stream",
     "text": [
      "Дисперсия количества сообщений для Smart: 797\n",
      "Стандартное отклонение количества сообщений для Smart: 28\n",
      "\n",
      "Дисперсия количества сообщений для Ultra: 2285\n",
      "Стандартное отклонение количества сообщений для Ultra: 48\n"
     ]
    }
   ],
   "source": [
    "messages_standard_dev_smart = data_smart['messages'].describe()['std']  # Стандартное отклонение \n",
    "messages_variance_estimate_smart = messages_standard_dev_smart ** 2     # Дисперсия\n",
    "\n",
    "print('Дисперсия количества сообщений для Smart:', round(messages_variance_estimate_smart))\n",
    "print('Стандартное отклонение количества сообщений для Smart:', round(messages_standard_dev_smart))\n",
    "\n",
    "\n",
    "messages_standard_dev_ultra = data_ultra['messages'].describe()['std']  # Стандартное отклонение \n",
    "messages_variance_estimate_ultra = messages_standard_dev_ultra ** 2     # Дисперсия\n",
    "\n",
    "print('\\nДисперсия количества сообщений для Ultra:', round(messages_variance_estimate_ultra))\n",
    "print('Стандартное отклонение количества сообщений для Ultra:', round(messages_standard_dev_ultra))"
   ]
  },
  {
   "cell_type": "markdown",
   "metadata": {},
   "source": [
    "Разброс количества сообщений вокруг среднего у тарифа Smart тоже примерно в полтора раза меньше, чем у Ultra.\n"
   ]
  },
  {
   "cell_type": "code",
   "execution_count": 43,
   "metadata": {},
   "outputs": [
    {
     "name": "stdout",
     "output_type": "stream",
     "text": [
      "Дисперсия интернет-трафика для Smart: 33\n",
      "Стандартное отклонение интернет-трафика для Smart: 6\n",
      "\n",
      "Дисперсия интернет-трафика для Ultra: 98\n",
      "Стандартное отклонение интернет-трафика для Ultra: 10\n"
     ]
    }
   ],
   "source": [
    "print('Дисперсия интернет-трафика для Smart:', round(np.var(data_smart['gb_used'])))              # Дисперсия\n",
    "print('Стандартное отклонение интернет-трафика для Smart:', round(np.std(data_smart['gb_used']))) # Стандартное отклонение \n",
    "\n",
    "print('\\nДисперсия интернет-трафика для Ultra:', round(np.var(data_ultra['gb_used'])))            # Дисперсия\n",
    "print('Стандартное отклонение интернет-трафика для Ultra:', round(np.std(data_ultra['gb_used']))) # Стандартное отклонение "
   ]
  },
  {
   "cell_type": "markdown",
   "metadata": {},
   "source": [
    "\n",
    "И для гигабайт мы снова наблюдаем подобную картину, стандартное отклонение у тарифа Smart тоже примерно в полтора раза меньше, чем у Ultra.\n",
    "    \n",
    "Общий вывод: у пользователей тарифа Ultra разброс использованных возможностей связи примерно в полтора раза выше, чем у пользователей тарифа Smart, и их действия более непредсказуемы.\n"
   ]
  },
  {
   "cell_type": "markdown",
   "metadata": {},
   "source": [
    "### Гистограммы"
   ]
  },
  {
   "cell_type": "markdown",
   "metadata": {},
   "source": [
    "Построим гистограмму для выручки с пользователей разных тарифов."
   ]
  },
  {
   "cell_type": "code",
   "execution_count": 44,
   "metadata": {},
   "outputs": [
    {
     "data": {
      "text/plain": [
       "Text(0.5, 0, 'Оплата, руб')"
      ]
     },
     "execution_count": 44,
     "metadata": {},
     "output_type": "execute_result"
    },
    {
     "data": {
      "image/png": "[encoded data removed]",
      "text/plain": [
       "<Figure size 576x360 with 1 Axes>"
      ]
     },
     "metadata": {
      "needs_background": "light"
     },
     "output_type": "display_data"
    }
   ],
   "source": [
    "ax = (data_smart.\n",
    "      hist('pay', \n",
    "           bins=30, \n",
    "           figsize=(8, 5), \n",
    "           range=(0, 7000), \n",
    "           color='green'\n",
    "          )\n",
    "     )\n",
    "      \n",
    "(data_ultra.\n",
    " hist('pay', \n",
    "      bins=30, \n",
    "      figsize=(8, 5), \n",
    "      range=(0, 7000), \n",
    "      ax=ax,       # присвоили ax=ax\n",
    "      alpha=0.7)\n",
    ")\n",
    "\n",
    "plt.legend(['smart', 'ultra'])\n",
    "\n",
    "plt.xlabel('Оплата, руб') #  ось X"
   ]
  },
  {
   "cell_type": "markdown",
   "metadata": {},
   "source": [
    "Обе гистограммы похожи на распределение Пуассона. "
   ]
  },
  {
   "cell_type": "code",
   "execution_count": 45,
   "metadata": {},
   "outputs": [
    {
     "data": {
      "text/plain": [
       "Text(0.5, 0, 'Длительность звонков, мин')"
      ]
     },
     "execution_count": 45,
     "metadata": {},
     "output_type": "execute_result"
    },
    {
     "data": {
      "image/png": "[encoded data removed]",
      "text/plain": [
       "<Figure size 576x360 with 1 Axes>"
      ]
     },
     "metadata": {
      "needs_background": "light"
     },
     "output_type": "display_data"
    }
   ],
   "source": [
    "ax = (data_smart.\n",
    "      hist('duration', \n",
    "           bins=25,\n",
    "           figsize=(8, 5), \n",
    "           color='green', \n",
    "           alpha=0.7\n",
    "          )  \n",
    "     )\n",
    "      \n",
    "(data_ultra.\n",
    " hist('duration', \n",
    "      bins=25, \n",
    "      figsize=(8, 5), \n",
    "      ax=ax, \n",
    "      alpha=0.7)\n",
    ")\n",
    "\n",
    "plt.legend(['smart', 'ultra'])\n",
    "plt.xlabel('Длительность звонков, мин')   #  ось X"
   ]
  },
  {
   "cell_type": "markdown",
   "metadata": {},
   "source": [
    "Звонки у тарифа Smart больше похожи на нормальное распределение с пиком как раз в районе пакета минут. А вот у Ultra характер распределения не понятен."
   ]
  },
  {
   "cell_type": "code",
   "execution_count": 46,
   "metadata": {
    "scrolled": false
   },
   "outputs": [
    {
     "data": {
      "text/plain": [
       "Text(0.5, 0, 'Количество сообщений')"
      ]
     },
     "execution_count": 46,
     "metadata": {},
     "output_type": "execute_result"
    },
    {
     "data": {
      "image/png": "[encoded data removed]",
      "text/plain": [
       "<Figure size 576x360 with 1 Axes>"
      ]
     },
     "metadata": {
      "needs_background": "light"
     },
     "output_type": "display_data"
    }
   ],
   "source": [
    "ax = (data_smart.\n",
    "      hist('messages', \n",
    "           bins=30, \n",
    "           figsize=(8, 5), \n",
    "           color='green', \n",
    "           alpha=0.7\n",
    "          )\n",
    "     )\n",
    "      \n",
    "(data_ultra.\n",
    " hist('messages', \n",
    "      bins=30, \n",
    "      figsize=(8, 5), \n",
    "      ax=ax, \n",
    "      alpha=0.7\n",
    "     )\n",
    ")\n",
    "\n",
    "plt.legend(['smart', 'ultra'])\n",
    "plt.xlabel('Количество сообщений') #  ось X"
   ]
  },
  {
   "cell_type": "code",
   "execution_count": 47,
   "metadata": {},
   "outputs": [
    {
     "data": {
      "text/plain": [
       "Text(0.5, 0, 'Интернет-трафик, Гб')"
      ]
     },
     "execution_count": 47,
     "metadata": {},
     "output_type": "execute_result"
    },
    {
     "data": {
      "image/png": "[encoded data removed]",
      "text/plain": [
       "<Figure size 576x360 with 1 Axes>"
      ]
     },
     "metadata": {
      "needs_background": "light"
     },
     "output_type": "display_data"
    }
   ],
   "source": [
    "ax = (data_smart.\n",
    "      hist('gb_used', \n",
    "           bins=15, \n",
    "           figsize=(8, 5), \n",
    "           color='green', \n",
    "           alpha=0.7\n",
    "          )\n",
    "     )\n",
    "      \n",
    "(data_ultra.\n",
    " hist('gb_used', \n",
    "      bins=15, \n",
    "      figsize=(8, 5), \n",
    "      ax=ax, \n",
    "      alpha=0.7\n",
    "     )\n",
    ")\n",
    "\n",
    "plt.legend(['smart', 'ultra'])\n",
    "plt.xlabel('Интернет-трафик, Гб')   # ось X"
   ]
  },
  {
   "cell_type": "markdown",
   "metadata": {},
   "source": [
    "\n",
    "Гистограммы по количеству сообщений и по гигабайтам трафика подтверждают полученный ранее из величин стандартного отклонения вывод, что разброс у Ultra выше, чем у тарифа Smart - \"хвосты\" у Ultra длиннее, явных пиков нет.\n"
   ]
  },
  {
   "cell_type": "markdown",
   "metadata": {},
   "source": [
    "\n",
    "## Проверка гипотез\n",
    "Проверим две гипотезы:\n",
    "- средняя выручка пользователей тарифов «Ультра» и «Смарт» различаются;\n",
    "- средняя выручка пользователей из Москвы отличается от выручки пользователей из других регионов.\n",
    "\n",
    "\n",
    "Формулировка нулевой гипотезы звучит либо как \"среднее совокупности равно конкретному значению\", либо как \"средние значения совокупностей равны между собой\", то есть всегда используется знак равенства. У нас две выборки, и нам подходит второй вариант. Альтернативная гипотезы, соответственно, будет звучать как \"средние двух совокупностей не равны между собой\".\n",
    "\n",
    "Для проверки обеих гипотез используем критерий st.ttest_ind(), так как имеем выборки двух генеральных совокупностей."
   ]
  },
  {
   "cell_type": "markdown",
   "metadata": {},
   "source": [
    "### Гипотеза: средняя выручка пользователей тарифов «Ультра» и «Смарт» одинакова"
   ]
  },
  {
   "cell_type": "markdown",
   "metadata": {},
   "source": [
    "Нулевая гипотеза: средняя выручка пользователей тарифов «Ультра» и «Смарт» одинакова (средние двух выборок равны между собой);\n",
    "альтернативная: средняя выручка пользователей тарифа «Ультра» отличается от «Смарт».\n",
    "\n",
    "Зададим пороговое значение alpha 0,01."
   ]
  },
  {
   "cell_type": "code",
   "execution_count": 48,
   "metadata": {},
   "outputs": [
    {
     "name": "stdout",
     "output_type": "stream",
     "text": [
      "p-значение: 1.7023268870439853e-158\n",
      "Отвергаем нулевую гипотезу\n"
     ]
    }
   ],
   "source": [
    "alpha = 0.01 #  критический уровень статистической значимости\n",
    "\n",
    "results = st.ttest_ind(data_smart['pay'], data_ultra['pay']) \n",
    "\n",
    "print('p-значение:', results.pvalue)\n",
    "\n",
    "if results.pvalue < alpha:\n",
    "    print(\"Отвергаем нулевую гипотезу\")\n",
    "else:\n",
    "    print(\"Не получилось отвергнуть нулевую гипотезу\")\n",
    "\n"
   ]
  },
  {
   "cell_type": "markdown",
   "metadata": {},
   "source": [
    "Значит, нулевая гипотеза, скорее всего, не верна, и действительна альтернативная гипотеза: средние выручки отличаются. А так как при исследовании выборки в зависимости от тарифа у нас получались средние значения 1295 р (\"Смарт\") и 2071 р (\"Ультра\"), то можно допустить, что, действительно, это так."
   ]
  },
  {
   "cell_type": "markdown",
   "metadata": {},
   "source": [
    "### Гипотеза: средняя выручка пользователей из Москвы отличается от выручки пользователей из других регионов"
   ]
  },
  {
   "cell_type": "markdown",
   "metadata": {},
   "source": [
    "Для проверки гипотезы, что средняя выручка пользователей из Москвы отличается от выручки пользователей из других регионов, формулируем нулевую гипотезу: средняя выручка пользователей из Москвы и пользователей из других регионов одинакова; альтернативная: они отличаются.\n",
    "\n",
    "Но сначала объединим две таблицы с тарифами, чтобы дальше использовать срезы: отдельно пользователи из Москвы, отдельно все остальные. Объединяем, добавив вторую (ultra) в конец (снизу под smart) методом append()."
   ]
  },
  {
   "cell_type": "code",
   "execution_count": 49,
   "metadata": {},
   "outputs": [],
   "source": [
    "data_city = data_smart.append(data_ultra) "
   ]
  },
  {
   "cell_type": "code",
   "execution_count": 50,
   "metadata": {},
   "outputs": [
    {
     "name": "stdout",
     "output_type": "stream",
     "text": [
      "p-значение: 0.5277299573181309\n",
      "Не получилось отвергнуть нулевую гипотезу\n"
     ]
    }
   ],
   "source": [
    "alpha = 0.05 #  критический уровень статистической значимости\n",
    "\n",
    "results = st.ttest_ind(data_city[data_city['city']=='Москва']['pay'], data_city[data_city['city']!='Москва']['pay']) \n",
    "    # использовали срезы по условию: город - Москва или не Москва.\n",
    "\n",
    "print('p-значение:', results.pvalue)\n",
    "\n",
    "if results.pvalue < alpha:\n",
    "    print(\"Отвергаем нулевую гипотезу\")\n",
    "else:\n",
    "    print(\"Не получилось отвергнуть нулевую гипотезу\")"
   ]
  },
  {
   "cell_type": "markdown",
   "metadata": {},
   "source": [
    "Отвергнуть нулевую гипотезу, что Москва отличается по выручке от остальных регионов, не удалось;  попробуем найти среднюю выручку по срезам по городам."
   ]
  },
  {
   "cell_type": "code",
   "execution_count": 51,
   "metadata": {},
   "outputs": [
    {
     "name": "stdout",
     "output_type": "stream",
     "text": [
      "Выручка с пользователей в г. Москва в среднем составляет: 1551\n",
      "Выручка с пользователей по другим городам в среднем составляет: 1528\n"
     ]
    }
   ],
   "source": [
    "print('Выручка с пользователей в г. Москва в среднем составляет: {:.0f}'.format(\n",
    "    data_city[data_city['city']=='Москва']['pay'].\n",
    "    mean()\n",
    ")\n",
    "     )\n",
    "print('Выручка с пользователей по другим городам в среднем составляет: {:.0f}'.format(\n",
    "    data_city[data_city['city']!='Москва']['pay'].\n",
    "    mean()\n",
    ")\n",
    "     )"
   ]
  },
  {
   "cell_type": "markdown",
   "metadata": {},
   "source": [
    "Получили достаточно близкие значения средних арифметических. В целом, можно сделать вывод, что, скорее всего, средняя выручка по Москве не сильно отличается от выручки в других городах."
   ]
  },
  {
   "cell_type": "markdown",
   "metadata": {},
   "source": [
    "\n",
    "## Общий вывод\n",
    "\n",
    "При исследовании выборки в 500 пользователей тарифов \"Смарт\" и \"Ультра\" мы пришли к заключению, что со значительной долей вероятности тариф \"Ультра\" приносит больше доходов, чем тариф \"Смарт\", при незначительно отличающейся активности абонентов этих тарифных планов. \n",
    "\n",
    "Отдельно по г. Москва результаты не выделяются из общей массы, а средняя выручка не будет значительно отличаться от данных всей страны."
   ]
  },
  {
   "cell_type": "markdown",
   "metadata": {},
   "source": [
    "   \n",
    "Итог: \n",
    "    \n",
    "Согласно данным имеющейся выборки, объем полученных услуг пользователей \"Ультра\" не более чем в полтора раза превышает объем аналогичных услуг у \"Смарт\". При этом тариф \"Ультра\" за единицу в среднем приносит почти в два раза больше дохода. Таким образом, для увеличения доходов компании следует увеличить долю более выгодного компании тарифа \"Ультра\".   "
   ]
  }
 ],
 "metadata": {
  "ExecuteTimeLog": [
   {
    "duration": 864,
    "start_time": "2021-12-20T15:29:30.130Z"
   },
   {
    "duration": 582,
    "start_time": "2021-12-20T15:29:42.545Z"
   },
   {
    "duration": 1220,
    "start_time": "2021-12-20T15:29:51.198Z"
   },
   {
    "duration": 685,
    "start_time": "2021-12-20T15:32:14.793Z"
   },
   {
    "duration": 12,
    "start_time": "2021-12-20T15:38:17.796Z"
   },
   {
    "duration": 30,
    "start_time": "2021-12-20T15:39:41.937Z"
   },
   {
    "duration": 38,
    "start_time": "2021-12-20T15:41:26.368Z"
   },
   {
    "duration": 5,
    "start_time": "2021-12-20T15:49:15.161Z"
   },
   {
    "duration": 43,
    "start_time": "2021-12-20T15:52:52.685Z"
   },
   {
    "duration": 12,
    "start_time": "2021-12-20T16:01:22.779Z"
   },
   {
    "duration": 23,
    "start_time": "2021-12-20T16:07:32.292Z"
   },
   {
    "duration": 26,
    "start_time": "2021-12-20T16:08:10.991Z"
   },
   {
    "duration": 26,
    "start_time": "2021-12-20T16:10:13.634Z"
   },
   {
    "duration": 13,
    "start_time": "2021-12-20T16:34:58.611Z"
   },
   {
    "duration": 6,
    "start_time": "2021-12-20T16:37:59.983Z"
   },
   {
    "duration": 5,
    "start_time": "2021-12-20T16:51:43.943Z"
   },
   {
    "duration": 11,
    "start_time": "2021-12-20T16:53:16.303Z"
   },
   {
    "duration": 6,
    "start_time": "2021-12-20T16:53:23.246Z"
   },
   {
    "duration": 17,
    "start_time": "2021-12-20T16:53:25.734Z"
   },
   {
    "duration": 108,
    "start_time": "2021-12-20T16:58:31.009Z"
   },
   {
    "duration": 41,
    "start_time": "2021-12-20T17:01:08.701Z"
   },
   {
    "duration": 15,
    "start_time": "2021-12-20T17:01:44.576Z"
   },
   {
    "duration": 48,
    "start_time": "2021-12-20T17:02:05.064Z"
   },
   {
    "duration": 22,
    "start_time": "2021-12-20T17:03:51.495Z"
   },
   {
    "duration": 87,
    "start_time": "2021-12-20T17:04:38.544Z"
   },
   {
    "duration": 78,
    "start_time": "2021-12-20T17:05:08.781Z"
   },
   {
    "duration": 86,
    "start_time": "2021-12-20T17:11:19.433Z"
   },
   {
    "duration": 658,
    "start_time": "2021-12-20T17:19:54.437Z"
   },
   {
    "duration": 9,
    "start_time": "2021-12-20T17:20:11.515Z"
   },
   {
    "duration": 234,
    "start_time": "2021-12-20T17:22:23.416Z"
   },
   {
    "duration": 10,
    "start_time": "2021-12-20T17:29:31.378Z"
   },
   {
    "duration": 15,
    "start_time": "2021-12-20T17:29:51.789Z"
   },
   {
    "duration": 63,
    "start_time": "2021-12-20T17:41:20.387Z"
   },
   {
    "duration": 78,
    "start_time": "2021-12-20T17:41:42.998Z"
   },
   {
    "duration": 52,
    "start_time": "2021-12-20T17:43:02.268Z"
   },
   {
    "duration": 4,
    "start_time": "2021-12-20T17:45:06.484Z"
   },
   {
    "duration": 12,
    "start_time": "2021-12-20T17:45:16.279Z"
   },
   {
    "duration": 646,
    "start_time": "2021-12-20T17:51:50.062Z"
   },
   {
    "duration": 48,
    "start_time": "2021-12-20T17:52:11.492Z"
   },
   {
    "duration": 5,
    "start_time": "2021-12-20T17:52:19.908Z"
   },
   {
    "duration": 1238,
    "start_time": "2021-12-20T17:53:24.375Z"
   },
   {
    "duration": 35,
    "start_time": "2021-12-20T17:53:25.616Z"
   },
   {
    "duration": 6,
    "start_time": "2021-12-20T17:53:25.654Z"
   },
   {
    "duration": 33,
    "start_time": "2021-12-20T17:53:25.663Z"
   },
   {
    "duration": 36,
    "start_time": "2021-12-20T17:53:25.723Z"
   },
   {
    "duration": 13,
    "start_time": "2021-12-20T17:53:25.762Z"
   },
   {
    "duration": 56,
    "start_time": "2021-12-20T17:53:25.777Z"
   },
   {
    "duration": 29,
    "start_time": "2021-12-20T17:53:25.838Z"
   },
   {
    "duration": 18,
    "start_time": "2021-12-20T17:53:25.870Z"
   },
   {
    "duration": 42,
    "start_time": "2021-12-20T17:53:25.890Z"
   },
   {
    "duration": 30,
    "start_time": "2021-12-20T17:53:25.934Z"
   },
   {
    "duration": 27,
    "start_time": "2021-12-20T17:53:25.967Z"
   },
   {
    "duration": 110,
    "start_time": "2021-12-20T17:53:25.996Z"
   },
   {
    "duration": 76,
    "start_time": "2021-12-20T17:53:26.109Z"
   },
   {
    "duration": 252,
    "start_time": "2021-12-20T17:53:26.187Z"
   },
   {
    "duration": 67,
    "start_time": "2021-12-20T17:53:26.441Z"
   },
   {
    "duration": 65,
    "start_time": "2021-12-20T17:53:26.511Z"
   },
   {
    "duration": 16,
    "start_time": "2021-12-20T17:53:39.790Z"
   },
   {
    "duration": 98,
    "start_time": "2021-12-20T18:05:13.177Z"
   },
   {
    "duration": 50,
    "start_time": "2021-12-20T18:14:01.175Z"
   },
   {
    "duration": 50,
    "start_time": "2021-12-20T18:14:28.516Z"
   },
   {
    "duration": 69,
    "start_time": "2021-12-20T18:15:24.938Z"
   },
   {
    "duration": 352,
    "start_time": "2021-12-20T18:23:43.838Z"
   },
   {
    "duration": 1268,
    "start_time": "2021-12-20T18:23:58.579Z"
   },
   {
    "duration": 38,
    "start_time": "2021-12-20T18:23:59.850Z"
   },
   {
    "duration": 9,
    "start_time": "2021-12-20T18:23:59.892Z"
   },
   {
    "duration": 50,
    "start_time": "2021-12-20T18:23:59.905Z"
   },
   {
    "duration": 435,
    "start_time": "2021-12-20T18:23:59.958Z"
   },
   {
    "duration": -94921,
    "start_time": "2021-12-20T18:25:35.318Z"
   },
   {
    "duration": -94923,
    "start_time": "2021-12-20T18:25:35.322Z"
   },
   {
    "duration": -94925,
    "start_time": "2021-12-20T18:25:35.326Z"
   },
   {
    "duration": -94927,
    "start_time": "2021-12-20T18:25:35.330Z"
   },
   {
    "duration": -94927,
    "start_time": "2021-12-20T18:25:35.332Z"
   },
   {
    "duration": -94938,
    "start_time": "2021-12-20T18:25:35.345Z"
   },
   {
    "duration": -94943,
    "start_time": "2021-12-20T18:25:35.351Z"
   },
   {
    "duration": -94942,
    "start_time": "2021-12-20T18:25:35.353Z"
   },
   {
    "duration": -94943,
    "start_time": "2021-12-20T18:25:35.355Z"
   },
   {
    "duration": -94942,
    "start_time": "2021-12-20T18:25:35.356Z"
   },
   {
    "duration": -94943,
    "start_time": "2021-12-20T18:25:35.358Z"
   },
   {
    "duration": -94942,
    "start_time": "2021-12-20T18:25:35.359Z"
   },
   {
    "duration": -94943,
    "start_time": "2021-12-20T18:25:35.361Z"
   },
   {
    "duration": -94942,
    "start_time": "2021-12-20T18:25:35.362Z"
   },
   {
    "duration": -94943,
    "start_time": "2021-12-20T18:25:35.364Z"
   },
   {
    "duration": -94942,
    "start_time": "2021-12-20T18:25:35.365Z"
   },
   {
    "duration": 303,
    "start_time": "2021-12-20T18:24:43.967Z"
   },
   {
    "duration": 286,
    "start_time": "2021-12-20T18:25:33.794Z"
   },
   {
    "duration": 587,
    "start_time": "2021-12-20T18:25:45.335Z"
   },
   {
    "duration": 267,
    "start_time": "2021-12-20T18:27:59.401Z"
   },
   {
    "duration": 649,
    "start_time": "2021-12-20T18:28:24.464Z"
   },
   {
    "duration": 88,
    "start_time": "2021-12-20T18:37:41.814Z"
   },
   {
    "duration": 363,
    "start_time": "2021-12-20T18:37:49.886Z"
   },
   {
    "duration": 322,
    "start_time": "2021-12-20T18:39:00.687Z"
   },
   {
    "duration": 15,
    "start_time": "2021-12-20T18:40:34.663Z"
   },
   {
    "duration": 15,
    "start_time": "2021-12-20T18:48:22.704Z"
   },
   {
    "duration": 13,
    "start_time": "2021-12-20T18:48:33.591Z"
   },
   {
    "duration": 1285,
    "start_time": "2021-12-20T18:48:58.272Z"
   },
   {
    "duration": 31,
    "start_time": "2021-12-20T18:48:59.560Z"
   },
   {
    "duration": 20,
    "start_time": "2021-12-20T18:48:59.594Z"
   },
   {
    "duration": 58,
    "start_time": "2021-12-20T18:48:59.617Z"
   },
   {
    "duration": 19,
    "start_time": "2021-12-20T18:49:11.274Z"
   },
   {
    "duration": 17,
    "start_time": "2021-12-20T18:50:16.093Z"
   },
   {
    "duration": 39,
    "start_time": "2021-12-20T18:50:16.114Z"
   },
   {
    "duration": 11,
    "start_time": "2021-12-20T18:50:16.157Z"
   },
   {
    "duration": 29,
    "start_time": "2021-12-20T18:50:16.171Z"
   },
   {
    "duration": 48,
    "start_time": "2021-12-20T18:50:16.203Z"
   },
   {
    "duration": 16,
    "start_time": "2021-12-20T18:50:16.253Z"
   },
   {
    "duration": 15,
    "start_time": "2021-12-20T18:50:16.271Z"
   },
   {
    "duration": 38,
    "start_time": "2021-12-20T18:50:16.288Z"
   },
   {
    "duration": 28,
    "start_time": "2021-12-20T18:50:16.330Z"
   },
   {
    "duration": 117,
    "start_time": "2021-12-20T18:50:16.361Z"
   },
   {
    "duration": 89,
    "start_time": "2021-12-20T18:50:16.480Z"
   },
   {
    "duration": 277,
    "start_time": "2021-12-20T18:50:16.572Z"
   },
   {
    "duration": 87,
    "start_time": "2021-12-20T18:50:16.852Z"
   },
   {
    "duration": 53,
    "start_time": "2021-12-20T18:50:16.942Z"
   },
   {
    "duration": 31,
    "start_time": "2021-12-20T18:50:16.998Z"
   },
   {
    "duration": 47,
    "start_time": "2021-12-20T18:50:17.031Z"
   },
   {
    "duration": 98,
    "start_time": "2021-12-20T18:50:17.081Z"
   },
   {
    "duration": 1523,
    "start_time": "2021-12-20T18:50:41.325Z"
   },
   {
    "duration": 32,
    "start_time": "2021-12-20T18:50:42.851Z"
   },
   {
    "duration": 13,
    "start_time": "2021-12-20T18:50:42.887Z"
   },
   {
    "duration": 78,
    "start_time": "2021-12-20T18:50:42.903Z"
   },
   {
    "duration": 34,
    "start_time": "2021-12-20T18:50:42.984Z"
   },
   {
    "duration": 59,
    "start_time": "2021-12-20T18:50:43.021Z"
   },
   {
    "duration": 14,
    "start_time": "2021-12-20T18:50:43.083Z"
   },
   {
    "duration": 70,
    "start_time": "2021-12-20T18:50:43.104Z"
   },
   {
    "duration": 55,
    "start_time": "2021-12-20T18:50:43.178Z"
   },
   {
    "duration": 36,
    "start_time": "2021-12-20T18:50:43.237Z"
   },
   {
    "duration": 14,
    "start_time": "2021-12-20T18:50:43.276Z"
   },
   {
    "duration": 34,
    "start_time": "2021-12-20T18:50:43.293Z"
   },
   {
    "duration": 43,
    "start_time": "2021-12-20T18:50:43.334Z"
   },
   {
    "duration": 127,
    "start_time": "2021-12-20T18:50:43.380Z"
   },
   {
    "duration": 97,
    "start_time": "2021-12-20T18:50:43.509Z"
   },
   {
    "duration": 300,
    "start_time": "2021-12-20T18:50:43.609Z"
   },
   {
    "duration": 81,
    "start_time": "2021-12-20T18:50:43.911Z"
   },
   {
    "duration": 69,
    "start_time": "2021-12-20T18:50:43.995Z"
   },
   {
    "duration": 14,
    "start_time": "2021-12-20T18:50:44.067Z"
   },
   {
    "duration": 72,
    "start_time": "2021-12-20T18:50:44.083Z"
   },
   {
    "duration": 84,
    "start_time": "2021-12-20T18:50:44.157Z"
   },
   {
    "duration": 516,
    "start_time": "2021-12-21T15:45:57.080Z"
   },
   {
    "duration": 1457,
    "start_time": "2021-12-21T15:46:12.037Z"
   },
   {
    "duration": 32,
    "start_time": "2021-12-21T15:46:13.496Z"
   },
   {
    "duration": 6,
    "start_time": "2021-12-21T15:46:13.531Z"
   },
   {
    "duration": 53,
    "start_time": "2021-12-21T15:46:13.540Z"
   },
   {
    "duration": 19,
    "start_time": "2021-12-21T15:46:13.595Z"
   },
   {
    "duration": 59,
    "start_time": "2021-12-21T15:46:13.617Z"
   },
   {
    "duration": 12,
    "start_time": "2021-12-21T15:46:13.678Z"
   },
   {
    "duration": 9,
    "start_time": "2021-12-21T15:46:13.694Z"
   },
   {
    "duration": 72,
    "start_time": "2021-12-21T15:46:13.707Z"
   },
   {
    "duration": 36,
    "start_time": "2021-12-21T15:46:13.782Z"
   },
   {
    "duration": 16,
    "start_time": "2021-12-21T15:46:13.820Z"
   },
   {
    "duration": 16,
    "start_time": "2021-12-21T15:46:13.862Z"
   },
   {
    "duration": 7,
    "start_time": "2021-12-21T15:46:13.881Z"
   },
   {
    "duration": 14,
    "start_time": "2021-12-21T15:46:13.892Z"
   },
   {
    "duration": 141,
    "start_time": "2021-12-21T15:46:13.908Z"
   },
   {
    "duration": 83,
    "start_time": "2021-12-21T15:46:14.051Z"
   },
   {
    "duration": 238,
    "start_time": "2021-12-21T15:46:14.164Z"
   },
   {
    "duration": 93,
    "start_time": "2021-12-21T15:46:14.405Z"
   },
   {
    "duration": 65,
    "start_time": "2021-12-21T15:46:14.500Z"
   },
   {
    "duration": 14,
    "start_time": "2021-12-21T15:46:14.567Z"
   },
   {
    "duration": 42,
    "start_time": "2021-12-21T15:46:14.584Z"
   },
   {
    "duration": 100,
    "start_time": "2021-12-21T15:46:14.629Z"
   },
   {
    "duration": 124,
    "start_time": "2021-12-21T15:47:38.527Z"
   },
   {
    "duration": 421,
    "start_time": "2021-12-21T15:49:09.510Z"
   },
   {
    "duration": 569,
    "start_time": "2021-12-21T15:49:28.536Z"
   },
   {
    "duration": 1304,
    "start_time": "2021-12-21T15:50:46.186Z"
   },
   {
    "duration": 34,
    "start_time": "2021-12-21T15:50:47.493Z"
   },
   {
    "duration": 23,
    "start_time": "2021-12-21T15:50:47.530Z"
   },
   {
    "duration": 58,
    "start_time": "2021-12-21T15:50:47.556Z"
   },
   {
    "duration": 21,
    "start_time": "2021-12-21T15:50:47.617Z"
   },
   {
    "duration": 11,
    "start_time": "2021-12-21T15:50:47.641Z"
   },
   {
    "duration": 60,
    "start_time": "2021-12-21T15:50:47.655Z"
   },
   {
    "duration": 18,
    "start_time": "2021-12-21T15:50:47.721Z"
   },
   {
    "duration": 42,
    "start_time": "2021-12-21T15:50:47.742Z"
   },
   {
    "duration": 34,
    "start_time": "2021-12-21T15:50:47.788Z"
   },
   {
    "duration": 46,
    "start_time": "2021-12-21T15:50:47.824Z"
   },
   {
    "duration": 16,
    "start_time": "2021-12-21T15:50:47.872Z"
   },
   {
    "duration": 24,
    "start_time": "2021-12-21T15:50:47.891Z"
   },
   {
    "duration": 25,
    "start_time": "2021-12-21T15:50:47.918Z"
   },
   {
    "duration": 38,
    "start_time": "2021-12-21T15:50:47.945Z"
   },
   {
    "duration": 99,
    "start_time": "2021-12-21T15:50:47.985Z"
   },
   {
    "duration": 94,
    "start_time": "2021-12-21T15:50:48.087Z"
   },
   {
    "duration": 253,
    "start_time": "2021-12-21T15:50:48.184Z"
   },
   {
    "duration": 96,
    "start_time": "2021-12-21T15:50:48.440Z"
   },
   {
    "duration": 71,
    "start_time": "2021-12-21T15:50:48.539Z"
   },
   {
    "duration": 15,
    "start_time": "2021-12-21T15:50:48.612Z"
   },
   {
    "duration": 65,
    "start_time": "2021-12-21T15:50:48.630Z"
   },
   {
    "duration": 88,
    "start_time": "2021-12-21T15:50:48.699Z"
   },
   {
    "duration": 1558,
    "start_time": "2021-12-21T15:59:33.468Z"
   },
   {
    "duration": 32,
    "start_time": "2021-12-21T15:59:35.029Z"
   },
   {
    "duration": 9,
    "start_time": "2021-12-21T15:59:35.065Z"
   },
   {
    "duration": 61,
    "start_time": "2021-12-21T15:59:35.077Z"
   },
   {
    "duration": 31,
    "start_time": "2021-12-21T15:59:35.141Z"
   },
   {
    "duration": 6,
    "start_time": "2021-12-21T15:59:35.175Z"
   },
   {
    "duration": 28,
    "start_time": "2021-12-21T15:59:35.184Z"
   },
   {
    "duration": 45,
    "start_time": "2021-12-21T15:59:35.218Z"
   },
   {
    "duration": 12,
    "start_time": "2021-12-21T15:59:35.267Z"
   },
   {
    "duration": 24,
    "start_time": "2021-12-21T15:59:35.282Z"
   },
   {
    "duration": 69,
    "start_time": "2021-12-21T15:59:35.309Z"
   },
   {
    "duration": 26,
    "start_time": "2021-12-21T15:59:35.380Z"
   },
   {
    "duration": 26,
    "start_time": "2021-12-21T15:59:35.409Z"
   },
   {
    "duration": 13,
    "start_time": "2021-12-21T15:59:35.463Z"
   },
   {
    "duration": 24,
    "start_time": "2021-12-21T15:59:35.479Z"
   },
   {
    "duration": 31,
    "start_time": "2021-12-21T15:59:35.506Z"
   },
   {
    "duration": 121,
    "start_time": "2021-12-21T15:59:35.541Z"
   },
   {
    "duration": 76,
    "start_time": "2021-12-21T15:59:35.665Z"
   },
   {
    "duration": 257,
    "start_time": "2021-12-21T15:59:35.743Z"
   },
   {
    "duration": 102,
    "start_time": "2021-12-21T15:59:36.004Z"
   },
   {
    "duration": 84,
    "start_time": "2021-12-21T15:59:36.110Z"
   },
   {
    "duration": 17,
    "start_time": "2021-12-21T15:59:36.197Z"
   },
   {
    "duration": 85,
    "start_time": "2021-12-21T15:59:36.220Z"
   },
   {
    "duration": 128,
    "start_time": "2021-12-21T15:59:36.309Z"
   },
   {
    "duration": 897,
    "start_time": "2021-12-21T16:19:29.984Z"
   },
   {
    "duration": 7,
    "start_time": "2021-12-21T16:19:53.980Z"
   },
   {
    "duration": 8,
    "start_time": "2021-12-21T16:21:06.580Z"
   },
   {
    "duration": 9,
    "start_time": "2021-12-21T16:21:19.907Z"
   },
   {
    "duration": 9,
    "start_time": "2021-12-21T16:23:04.916Z"
   },
   {
    "duration": 10,
    "start_time": "2021-12-21T16:23:29.284Z"
   },
   {
    "duration": 8,
    "start_time": "2021-12-21T16:23:56.428Z"
   },
   {
    "duration": 10,
    "start_time": "2021-12-21T16:24:06.268Z"
   },
   {
    "duration": 12,
    "start_time": "2021-12-21T16:24:26.564Z"
   },
   {
    "duration": 11,
    "start_time": "2021-12-21T16:24:37.612Z"
   },
   {
    "duration": 12,
    "start_time": "2021-12-21T16:24:43.500Z"
   },
   {
    "duration": 24,
    "start_time": "2021-12-21T16:29:22.167Z"
   },
   {
    "duration": 46,
    "start_time": "2021-12-21T16:29:29.523Z"
   },
   {
    "duration": 338,
    "start_time": "2021-12-21T16:32:53.380Z"
   },
   {
    "duration": 1359,
    "start_time": "2021-12-21T16:33:04.456Z"
   },
   {
    "duration": 37,
    "start_time": "2021-12-21T16:33:05.817Z"
   },
   {
    "duration": 37,
    "start_time": "2021-12-21T16:33:05.857Z"
   },
   {
    "duration": 72,
    "start_time": "2021-12-21T16:33:05.897Z"
   },
   {
    "duration": 53,
    "start_time": "2021-12-21T16:33:05.973Z"
   },
   {
    "duration": 7,
    "start_time": "2021-12-21T16:33:06.029Z"
   },
   {
    "duration": 63,
    "start_time": "2021-12-21T16:33:06.039Z"
   },
   {
    "duration": 18,
    "start_time": "2021-12-21T16:33:06.106Z"
   },
   {
    "duration": 24,
    "start_time": "2021-12-21T16:33:06.130Z"
   },
   {
    "duration": 48,
    "start_time": "2021-12-21T16:33:06.162Z"
   },
   {
    "duration": 35,
    "start_time": "2021-12-21T16:33:06.213Z"
   },
   {
    "duration": 42,
    "start_time": "2021-12-21T16:33:06.250Z"
   },
   {
    "duration": 32,
    "start_time": "2021-12-21T16:33:06.295Z"
   },
   {
    "duration": 37,
    "start_time": "2021-12-21T16:33:06.330Z"
   },
   {
    "duration": 19,
    "start_time": "2021-12-21T16:33:06.370Z"
   },
   {
    "duration": 51,
    "start_time": "2021-12-21T16:33:06.392Z"
   },
   {
    "duration": 151,
    "start_time": "2021-12-21T16:33:06.446Z"
   },
   {
    "duration": 93,
    "start_time": "2021-12-21T16:33:06.600Z"
   },
   {
    "duration": 221,
    "start_time": "2021-12-21T16:33:06.696Z"
   },
   {
    "duration": 84,
    "start_time": "2021-12-21T16:33:06.919Z"
   },
   {
    "duration": 80,
    "start_time": "2021-12-21T16:33:07.006Z"
   },
   {
    "duration": 31,
    "start_time": "2021-12-21T16:33:07.089Z"
   },
   {
    "duration": 91,
    "start_time": "2021-12-21T16:33:07.123Z"
   },
   {
    "duration": 82,
    "start_time": "2021-12-21T16:33:07.217Z"
   },
   {
    "duration": 32,
    "start_time": "2021-12-21T16:33:13.575Z"
   },
   {
    "duration": 735,
    "start_time": "2021-12-21T16:33:58.015Z"
   },
   {
    "duration": 33,
    "start_time": "2021-12-21T16:34:25.110Z"
   },
   {
    "duration": 34,
    "start_time": "2021-12-21T16:34:33.302Z"
   },
   {
    "duration": 347,
    "start_time": "2021-12-21T16:40:17.860Z"
   },
   {
    "duration": 1305,
    "start_time": "2021-12-21T16:40:27.583Z"
   },
   {
    "duration": 31,
    "start_time": "2021-12-21T16:40:28.891Z"
   },
   {
    "duration": 4,
    "start_time": "2021-12-21T16:40:28.926Z"
   },
   {
    "duration": 44,
    "start_time": "2021-12-21T16:40:28.933Z"
   },
   {
    "duration": 19,
    "start_time": "2021-12-21T16:40:28.979Z"
   },
   {
    "duration": 7,
    "start_time": "2021-12-21T16:40:29.001Z"
   },
   {
    "duration": 51,
    "start_time": "2021-12-21T16:40:29.011Z"
   },
   {
    "duration": 12,
    "start_time": "2021-12-21T16:40:29.067Z"
   },
   {
    "duration": 12,
    "start_time": "2021-12-21T16:40:29.082Z"
   },
   {
    "duration": 27,
    "start_time": "2021-12-21T16:40:29.097Z"
   },
   {
    "duration": 72,
    "start_time": "2021-12-21T16:40:29.127Z"
   },
   {
    "duration": 27,
    "start_time": "2021-12-21T16:40:29.202Z"
   },
   {
    "duration": 43,
    "start_time": "2021-12-21T16:40:29.232Z"
   },
   {
    "duration": 47,
    "start_time": "2021-12-21T16:40:29.278Z"
   },
   {
    "duration": 26,
    "start_time": "2021-12-21T16:40:29.328Z"
   },
   {
    "duration": 36,
    "start_time": "2021-12-21T16:40:29.358Z"
   },
   {
    "duration": 112,
    "start_time": "2021-12-21T16:40:29.396Z"
   },
   {
    "duration": 90,
    "start_time": "2021-12-21T16:40:29.511Z"
   },
   {
    "duration": 240,
    "start_time": "2021-12-21T16:40:29.604Z"
   },
   {
    "duration": 83,
    "start_time": "2021-12-21T16:40:29.846Z"
   },
   {
    "duration": 85,
    "start_time": "2021-12-21T16:40:29.931Z"
   },
   {
    "duration": 23,
    "start_time": "2021-12-21T16:40:30.018Z"
   },
   {
    "duration": 45,
    "start_time": "2021-12-21T16:40:30.065Z"
   },
   {
    "duration": 100,
    "start_time": "2021-12-21T16:40:30.112Z"
   },
   {
    "duration": 38,
    "start_time": "2021-12-21T16:40:34.864Z"
   },
   {
    "duration": 28,
    "start_time": "2021-12-21T16:41:18.433Z"
   },
   {
    "duration": 1420,
    "start_time": "2021-12-21T16:42:06.462Z"
   },
   {
    "duration": 51,
    "start_time": "2021-12-21T16:42:07.885Z"
   },
   {
    "duration": 6,
    "start_time": "2021-12-21T16:42:07.940Z"
   },
   {
    "duration": 62,
    "start_time": "2021-12-21T16:42:07.949Z"
   },
   {
    "duration": 20,
    "start_time": "2021-12-21T16:42:08.014Z"
   },
   {
    "duration": 6,
    "start_time": "2021-12-21T16:42:08.036Z"
   },
   {
    "duration": 58,
    "start_time": "2021-12-21T16:42:08.044Z"
   },
   {
    "duration": 11,
    "start_time": "2021-12-21T16:42:08.106Z"
   },
   {
    "duration": 15,
    "start_time": "2021-12-21T16:42:08.120Z"
   },
   {
    "duration": 39,
    "start_time": "2021-12-21T16:42:08.137Z"
   },
   {
    "duration": 37,
    "start_time": "2021-12-21T16:42:08.179Z"
   },
   {
    "duration": 53,
    "start_time": "2021-12-21T16:42:08.219Z"
   },
   {
    "duration": 17,
    "start_time": "2021-12-21T16:42:08.275Z"
   },
   {
    "duration": 13,
    "start_time": "2021-12-21T16:42:08.296Z"
   },
   {
    "duration": 6,
    "start_time": "2021-12-21T16:42:08.312Z"
   },
   {
    "duration": 59,
    "start_time": "2021-12-21T16:42:08.320Z"
   },
   {
    "duration": 130,
    "start_time": "2021-12-21T16:42:08.382Z"
   },
   {
    "duration": 89,
    "start_time": "2021-12-21T16:42:08.515Z"
   },
   {
    "duration": 270,
    "start_time": "2021-12-21T16:42:08.607Z"
   },
   {
    "duration": 83,
    "start_time": "2021-12-21T16:42:08.880Z"
   },
   {
    "duration": 67,
    "start_time": "2021-12-21T16:42:08.965Z"
   },
   {
    "duration": 36,
    "start_time": "2021-12-21T16:42:09.034Z"
   },
   {
    "duration": 45,
    "start_time": "2021-12-21T16:42:09.076Z"
   },
   {
    "duration": 116,
    "start_time": "2021-12-21T16:42:09.124Z"
   },
   {
    "duration": 46,
    "start_time": "2021-12-21T16:42:09.242Z"
   },
   {
    "duration": 1242,
    "start_time": "2021-12-21T16:47:44.110Z"
   },
   {
    "duration": 34,
    "start_time": "2021-12-21T16:47:45.355Z"
   },
   {
    "duration": 5,
    "start_time": "2021-12-21T16:47:45.393Z"
   },
   {
    "duration": 34,
    "start_time": "2021-12-21T16:47:45.401Z"
   },
   {
    "duration": 19,
    "start_time": "2021-12-21T16:47:45.463Z"
   },
   {
    "duration": 5,
    "start_time": "2021-12-21T16:47:45.485Z"
   },
   {
    "duration": 24,
    "start_time": "2021-12-21T16:47:45.493Z"
   },
   {
    "duration": 50,
    "start_time": "2021-12-21T16:47:45.523Z"
   },
   {
    "duration": 12,
    "start_time": "2021-12-21T16:47:45.577Z"
   },
   {
    "duration": 25,
    "start_time": "2021-12-21T16:47:45.591Z"
   },
   {
    "duration": 69,
    "start_time": "2021-12-21T16:47:45.618Z"
   },
   {
    "duration": 25,
    "start_time": "2021-12-21T16:47:45.690Z"
   },
   {
    "duration": 51,
    "start_time": "2021-12-21T16:47:45.718Z"
   },
   {
    "duration": 15,
    "start_time": "2021-12-21T16:47:45.773Z"
   },
   {
    "duration": 7,
    "start_time": "2021-12-21T16:47:45.791Z"
   },
   {
    "duration": 14,
    "start_time": "2021-12-21T16:47:45.800Z"
   },
   {
    "duration": 135,
    "start_time": "2021-12-21T16:47:45.817Z"
   },
   {
    "duration": 82,
    "start_time": "2021-12-21T16:47:45.954Z"
   },
   {
    "duration": 263,
    "start_time": "2021-12-21T16:47:46.039Z"
   },
   {
    "duration": 77,
    "start_time": "2021-12-21T16:47:46.304Z"
   },
   {
    "duration": 64,
    "start_time": "2021-12-21T16:47:46.383Z"
   },
   {
    "duration": 24,
    "start_time": "2021-12-21T16:47:46.462Z"
   },
   {
    "duration": 42,
    "start_time": "2021-12-21T16:47:46.491Z"
   },
   {
    "duration": 98,
    "start_time": "2021-12-21T16:47:46.536Z"
   },
   {
    "duration": 38,
    "start_time": "2021-12-21T16:47:46.637Z"
   },
   {
    "duration": 15,
    "start_time": "2021-12-21T16:47:46.677Z"
   },
   {
    "duration": 18,
    "start_time": "2021-12-21T16:47:46.694Z"
   },
   {
    "duration": 7,
    "start_time": "2021-12-21T16:56:29.994Z"
   },
   {
    "duration": 64,
    "start_time": "2021-12-21T16:56:44.454Z"
   },
   {
    "duration": 9410,
    "start_time": "2021-12-21T16:59:32.894Z"
   },
   {
    "duration": 8946,
    "start_time": "2021-12-21T16:59:56.507Z"
   },
   {
    "duration": 31,
    "start_time": "2021-12-21T17:00:26.030Z"
   },
   {
    "duration": 23,
    "start_time": "2021-12-21T17:01:05.020Z"
   },
   {
    "duration": 29,
    "start_time": "2021-12-21T17:03:14.806Z"
   },
   {
    "duration": 28,
    "start_time": "2021-12-21T17:03:27.830Z"
   },
   {
    "duration": 163,
    "start_time": "2021-12-21T17:04:25.398Z"
   },
   {
    "duration": 109,
    "start_time": "2021-12-21T17:04:51.496Z"
   },
   {
    "duration": 107,
    "start_time": "2021-12-21T17:04:59.947Z"
   },
   {
    "duration": 7777,
    "start_time": "2021-12-21T17:05:05.590Z"
   },
   {
    "duration": 10360,
    "start_time": "2021-12-21T17:05:24.294Z"
   },
   {
    "duration": 8240,
    "start_time": "2021-12-21T17:05:50.703Z"
   },
   {
    "duration": 29,
    "start_time": "2021-12-21T17:08:02.910Z"
   },
   {
    "duration": 21,
    "start_time": "2021-12-21T17:08:16.309Z"
   },
   {
    "duration": 10,
    "start_time": "2021-12-21T17:09:54.395Z"
   },
   {
    "duration": 5,
    "start_time": "2021-12-21T17:10:43.317Z"
   },
   {
    "duration": 5,
    "start_time": "2021-12-21T17:12:13.286Z"
   },
   {
    "duration": 50,
    "start_time": "2021-12-21T17:13:26.859Z"
   },
   {
    "duration": 46,
    "start_time": "2021-12-21T17:13:39.474Z"
   },
   {
    "duration": 102,
    "start_time": "2021-12-21T17:15:46.414Z"
   },
   {
    "duration": 318,
    "start_time": "2021-12-21T17:26:14.540Z"
   },
   {
    "duration": 35,
    "start_time": "2021-12-21T17:26:36.821Z"
   },
   {
    "duration": 297,
    "start_time": "2021-12-21T17:26:55.293Z"
   },
   {
    "duration": 287,
    "start_time": "2021-12-21T17:27:54.203Z"
   },
   {
    "duration": 8,
    "start_time": "2021-12-21T17:28:05.164Z"
   },
   {
    "duration": 293,
    "start_time": "2021-12-21T17:31:08.394Z"
   },
   {
    "duration": 8,
    "start_time": "2021-12-21T17:31:44.859Z"
   },
   {
    "duration": 39,
    "start_time": "2021-12-21T17:31:49.203Z"
   },
   {
    "duration": 10,
    "start_time": "2021-12-21T17:32:32.458Z"
   },
   {
    "duration": 36,
    "start_time": "2021-12-21T17:32:34.939Z"
   },
   {
    "duration": 11,
    "start_time": "2021-12-21T17:33:46.276Z"
   },
   {
    "duration": 37,
    "start_time": "2021-12-21T17:33:49.443Z"
   },
   {
    "duration": 15,
    "start_time": "2021-12-21T17:35:13.817Z"
   },
   {
    "duration": 12,
    "start_time": "2021-12-21T17:50:44.225Z"
   },
   {
    "duration": 1813,
    "start_time": "2021-12-21T18:01:25.259Z"
   },
   {
    "duration": 41,
    "start_time": "2021-12-21T18:01:27.075Z"
   },
   {
    "duration": 5,
    "start_time": "2021-12-21T18:01:27.119Z"
   },
   {
    "duration": 82,
    "start_time": "2021-12-21T18:01:27.127Z"
   },
   {
    "duration": 18,
    "start_time": "2021-12-21T18:01:27.211Z"
   },
   {
    "duration": 6,
    "start_time": "2021-12-21T18:01:27.232Z"
   },
   {
    "duration": 38,
    "start_time": "2021-12-21T18:01:27.264Z"
   },
   {
    "duration": 12,
    "start_time": "2021-12-21T18:01:27.306Z"
   },
   {
    "duration": 43,
    "start_time": "2021-12-21T18:01:27.322Z"
   },
   {
    "duration": 30,
    "start_time": "2021-12-21T18:01:27.370Z"
   },
   {
    "duration": 77,
    "start_time": "2021-12-21T18:01:27.404Z"
   },
   {
    "duration": 31,
    "start_time": "2021-12-21T18:01:27.484Z"
   },
   {
    "duration": 47,
    "start_time": "2021-12-21T18:01:27.518Z"
   },
   {
    "duration": 17,
    "start_time": "2021-12-21T18:01:27.568Z"
   },
   {
    "duration": 6,
    "start_time": "2021-12-21T18:01:27.588Z"
   },
   {
    "duration": 21,
    "start_time": "2021-12-21T18:01:27.597Z"
   },
   {
    "duration": 110,
    "start_time": "2021-12-21T18:01:27.662Z"
   },
   {
    "duration": 102,
    "start_time": "2021-12-21T18:01:27.775Z"
   },
   {
    "duration": 310,
    "start_time": "2021-12-21T18:01:27.880Z"
   },
   {
    "duration": 101,
    "start_time": "2021-12-21T18:01:28.193Z"
   },
   {
    "duration": 103,
    "start_time": "2021-12-21T18:01:28.297Z"
   },
   {
    "duration": 166,
    "start_time": "2021-12-21T18:01:28.403Z"
   },
   {
    "duration": -95665,
    "start_time": "2021-12-21T18:03:04.238Z"
   },
   {
    "duration": -95665,
    "start_time": "2021-12-21T18:03:04.240Z"
   },
   {
    "duration": -95663,
    "start_time": "2021-12-21T18:03:04.241Z"
   },
   {
    "duration": -95663,
    "start_time": "2021-12-21T18:03:04.243Z"
   },
   {
    "duration": -95663,
    "start_time": "2021-12-21T18:03:04.245Z"
   },
   {
    "duration": -95662,
    "start_time": "2021-12-21T18:03:04.246Z"
   },
   {
    "duration": -95663,
    "start_time": "2021-12-21T18:03:04.251Z"
   },
   {
    "duration": -95663,
    "start_time": "2021-12-21T18:03:04.253Z"
   },
   {
    "duration": 24,
    "start_time": "2021-12-21T18:01:46.643Z"
   },
   {
    "duration": 5,
    "start_time": "2021-12-21T18:01:53.051Z"
   },
   {
    "duration": 42,
    "start_time": "2021-12-21T18:01:53.059Z"
   },
   {
    "duration": 93,
    "start_time": "2021-12-21T18:01:53.105Z"
   },
   {
    "duration": 20,
    "start_time": "2021-12-21T18:01:53.201Z"
   },
   {
    "duration": 40,
    "start_time": "2021-12-21T18:01:53.225Z"
   },
   {
    "duration": 14,
    "start_time": "2021-12-21T18:01:53.268Z"
   },
   {
    "duration": 14,
    "start_time": "2021-12-21T18:01:53.284Z"
   },
   {
    "duration": 77,
    "start_time": "2021-12-21T18:01:53.301Z"
   },
   {
    "duration": 1315,
    "start_time": "2021-12-21T18:03:28.220Z"
   },
   {
    "duration": 47,
    "start_time": "2021-12-21T18:03:29.539Z"
   },
   {
    "duration": 6,
    "start_time": "2021-12-21T18:03:29.590Z"
   },
   {
    "duration": 87,
    "start_time": "2021-12-21T18:03:29.600Z"
   },
   {
    "duration": 25,
    "start_time": "2021-12-21T18:03:29.691Z"
   },
   {
    "duration": 6,
    "start_time": "2021-12-21T18:03:29.719Z"
   },
   {
    "duration": 52,
    "start_time": "2021-12-21T18:03:29.729Z"
   },
   {
    "duration": 13,
    "start_time": "2021-12-21T18:03:29.785Z"
   },
   {
    "duration": 16,
    "start_time": "2021-12-21T18:03:29.803Z"
   },
   {
    "duration": 71,
    "start_time": "2021-12-21T18:03:29.823Z"
   },
   {
    "duration": 66,
    "start_time": "2021-12-21T18:03:29.897Z"
   },
   {
    "duration": 30,
    "start_time": "2021-12-21T18:03:29.966Z"
   },
   {
    "duration": 17,
    "start_time": "2021-12-21T18:03:29.999Z"
   },
   {
    "duration": 49,
    "start_time": "2021-12-21T18:03:30.019Z"
   },
   {
    "duration": 19,
    "start_time": "2021-12-21T18:03:30.071Z"
   },
   {
    "duration": 18,
    "start_time": "2021-12-21T18:03:30.094Z"
   },
   {
    "duration": 127,
    "start_time": "2021-12-21T18:03:30.115Z"
   },
   {
    "duration": 90,
    "start_time": "2021-12-21T18:03:30.245Z"
   },
   {
    "duration": 352,
    "start_time": "2021-12-21T18:03:30.339Z"
   },
   {
    "duration": 95,
    "start_time": "2021-12-21T18:03:30.694Z"
   },
   {
    "duration": 103,
    "start_time": "2021-12-21T18:03:30.793Z"
   },
   {
    "duration": 32,
    "start_time": "2021-12-21T18:03:30.899Z"
   },
   {
    "duration": 27,
    "start_time": "2021-12-21T18:03:30.938Z"
   },
   {
    "duration": 59,
    "start_time": "2021-12-21T18:03:30.968Z"
   },
   {
    "duration": 101,
    "start_time": "2021-12-21T18:03:31.031Z"
   },
   {
    "duration": 35,
    "start_time": "2021-12-21T18:03:31.135Z"
   },
   {
    "duration": 18,
    "start_time": "2021-12-21T18:03:31.172Z"
   },
   {
    "duration": 31,
    "start_time": "2021-12-21T18:03:31.192Z"
   },
   {
    "duration": 18,
    "start_time": "2021-12-21T18:03:31.225Z"
   },
   {
    "duration": 38,
    "start_time": "2021-12-21T18:03:31.262Z"
   },
   {
    "duration": 1468,
    "start_time": "2021-12-21T18:05:43.965Z"
   },
   {
    "duration": 40,
    "start_time": "2021-12-21T18:05:45.437Z"
   },
   {
    "duration": 7,
    "start_time": "2021-12-21T18:05:45.480Z"
   },
   {
    "duration": 73,
    "start_time": "2021-12-21T18:05:45.490Z"
   },
   {
    "duration": 26,
    "start_time": "2021-12-21T18:05:45.567Z"
   },
   {
    "duration": 8,
    "start_time": "2021-12-21T18:05:45.596Z"
   },
   {
    "duration": 69,
    "start_time": "2021-12-21T18:05:45.607Z"
   },
   {
    "duration": 16,
    "start_time": "2021-12-21T18:05:45.681Z"
   },
   {
    "duration": 14,
    "start_time": "2021-12-21T18:05:45.701Z"
   },
   {
    "duration": 65,
    "start_time": "2021-12-21T18:05:45.718Z"
   },
   {
    "duration": 37,
    "start_time": "2021-12-21T18:05:45.786Z"
   },
   {
    "duration": 56,
    "start_time": "2021-12-21T18:05:45.826Z"
   },
   {
    "duration": 19,
    "start_time": "2021-12-21T18:05:45.885Z"
   },
   {
    "duration": 15,
    "start_time": "2021-12-21T18:05:45.908Z"
   },
   {
    "duration": 7,
    "start_time": "2021-12-21T18:05:45.962Z"
   },
   {
    "duration": 18,
    "start_time": "2021-12-21T18:05:45.972Z"
   },
   {
    "duration": 164,
    "start_time": "2021-12-21T18:05:45.993Z"
   },
   {
    "duration": 113,
    "start_time": "2021-12-21T18:05:46.160Z"
   },
   {
    "duration": 313,
    "start_time": "2021-12-21T18:05:46.276Z"
   },
   {
    "duration": 87,
    "start_time": "2021-12-21T18:05:46.591Z"
   },
   {
    "duration": 66,
    "start_time": "2021-12-21T18:05:46.680Z"
   },
   {
    "duration": 45,
    "start_time": "2021-12-21T18:05:46.749Z"
   },
   {
    "duration": 6,
    "start_time": "2021-12-21T18:05:46.799Z"
   },
   {
    "duration": 79,
    "start_time": "2021-12-21T18:05:46.809Z"
   },
   {
    "duration": 117,
    "start_time": "2021-12-21T18:05:46.891Z"
   },
   {
    "duration": 64,
    "start_time": "2021-12-21T18:05:47.011Z"
   },
   {
    "duration": 18,
    "start_time": "2021-12-21T18:05:47.078Z"
   },
   {
    "duration": 25,
    "start_time": "2021-12-21T18:05:47.100Z"
   },
   {
    "duration": 471,
    "start_time": "2021-12-21T18:05:47.128Z"
   },
   {
    "duration": -95603,
    "start_time": "2021-12-21T18:07:23.205Z"
   },
   {
    "duration": 10,
    "start_time": "2021-12-21T18:07:18.184Z"
   },
   {
    "duration": 29,
    "start_time": "2021-12-21T18:07:26.153Z"
   },
   {
    "duration": 43,
    "start_time": "2021-12-21T18:08:33.799Z"
   },
   {
    "duration": 317,
    "start_time": "2021-12-21T18:08:59.958Z"
   },
   {
    "duration": 292,
    "start_time": "2021-12-21T18:09:11.889Z"
   },
   {
    "duration": 81,
    "start_time": "2021-12-21T18:15:00.522Z"
   },
   {
    "duration": 33,
    "start_time": "2021-12-21T18:15:04.111Z"
   },
   {
    "duration": 17,
    "start_time": "2021-12-21T18:15:07.955Z"
   },
   {
    "duration": 14,
    "start_time": "2021-12-21T18:15:09.791Z"
   },
   {
    "duration": 14,
    "start_time": "2021-12-21T18:15:13.126Z"
   },
   {
    "duration": 37,
    "start_time": "2021-12-21T18:15:15.407Z"
   },
   {
    "duration": 1764,
    "start_time": "2021-12-21T18:16:05.191Z"
   },
   {
    "duration": 49,
    "start_time": "2021-12-21T18:16:06.958Z"
   },
   {
    "duration": 7,
    "start_time": "2021-12-21T18:16:07.012Z"
   },
   {
    "duration": 84,
    "start_time": "2021-12-21T18:16:07.023Z"
   },
   {
    "duration": 26,
    "start_time": "2021-12-21T18:16:07.111Z"
   },
   {
    "duration": 23,
    "start_time": "2021-12-21T18:16:07.140Z"
   },
   {
    "duration": 37,
    "start_time": "2021-12-21T18:16:07.166Z"
   },
   {
    "duration": 17,
    "start_time": "2021-12-21T18:16:07.207Z"
   },
   {
    "duration": 46,
    "start_time": "2021-12-21T18:16:07.230Z"
   },
   {
    "duration": 33,
    "start_time": "2021-12-21T18:16:07.281Z"
   },
   {
    "duration": 80,
    "start_time": "2021-12-21T18:16:07.317Z"
   },
   {
    "duration": 32,
    "start_time": "2021-12-21T18:16:07.400Z"
   },
   {
    "duration": 45,
    "start_time": "2021-12-21T18:16:07.435Z"
   },
   {
    "duration": 13,
    "start_time": "2021-12-21T18:16:07.482Z"
   },
   {
    "duration": 12,
    "start_time": "2021-12-21T18:16:07.497Z"
   },
   {
    "duration": 53,
    "start_time": "2021-12-21T18:16:07.511Z"
   },
   {
    "duration": 120,
    "start_time": "2021-12-21T18:16:07.567Z"
   },
   {
    "duration": 97,
    "start_time": "2021-12-21T18:16:07.690Z"
   },
   {
    "duration": 239,
    "start_time": "2021-12-21T18:16:07.790Z"
   },
   {
    "duration": 92,
    "start_time": "2021-12-21T18:16:08.031Z"
   },
   {
    "duration": 80,
    "start_time": "2021-12-21T18:16:08.125Z"
   },
   {
    "duration": 23,
    "start_time": "2021-12-21T18:16:08.208Z"
   },
   {
    "duration": 33,
    "start_time": "2021-12-21T18:16:08.234Z"
   },
   {
    "duration": 68,
    "start_time": "2021-12-21T18:16:08.270Z"
   },
   {
    "duration": 85,
    "start_time": "2021-12-21T18:16:08.340Z"
   },
   {
    "duration": 20,
    "start_time": "2021-12-21T18:16:08.427Z"
   },
   {
    "duration": 33,
    "start_time": "2021-12-21T18:16:08.452Z"
   },
   {
    "duration": 52,
    "start_time": "2021-12-21T18:16:08.488Z"
   },
   {
    "duration": 52,
    "start_time": "2021-12-21T18:16:08.543Z"
   },
   {
    "duration": 29,
    "start_time": "2021-12-21T18:16:08.597Z"
   },
   {
    "duration": 34,
    "start_time": "2021-12-21T18:16:08.629Z"
   },
   {
    "duration": 44,
    "start_time": "2021-12-21T18:16:28.808Z"
   },
   {
    "duration": 406,
    "start_time": "2021-12-21T18:22:21.008Z"
   },
   {
    "duration": 1325,
    "start_time": "2021-12-21T18:23:01.234Z"
   },
   {
    "duration": 31,
    "start_time": "2021-12-21T18:23:02.562Z"
   },
   {
    "duration": 5,
    "start_time": "2021-12-21T18:23:02.596Z"
   },
   {
    "duration": 71,
    "start_time": "2021-12-21T18:23:02.604Z"
   },
   {
    "duration": 20,
    "start_time": "2021-12-21T18:23:02.677Z"
   },
   {
    "duration": 5,
    "start_time": "2021-12-21T18:23:02.699Z"
   },
   {
    "duration": 67,
    "start_time": "2021-12-21T18:23:02.706Z"
   },
   {
    "duration": 12,
    "start_time": "2021-12-21T18:23:02.777Z"
   },
   {
    "duration": 14,
    "start_time": "2021-12-21T18:23:02.792Z"
   },
   {
    "duration": 59,
    "start_time": "2021-12-21T18:23:02.809Z"
   },
   {
    "duration": 51,
    "start_time": "2021-12-21T18:23:02.871Z"
   },
   {
    "duration": 38,
    "start_time": "2021-12-21T18:23:02.925Z"
   },
   {
    "duration": 18,
    "start_time": "2021-12-21T18:23:02.965Z"
   },
   {
    "duration": 12,
    "start_time": "2021-12-21T18:23:02.985Z"
   },
   {
    "duration": 6,
    "start_time": "2021-12-21T18:23:02.999Z"
   },
   {
    "duration": 61,
    "start_time": "2021-12-21T18:23:03.007Z"
   },
   {
    "duration": 158,
    "start_time": "2021-12-21T18:23:03.071Z"
   },
   {
    "duration": 121,
    "start_time": "2021-12-21T18:23:03.232Z"
   },
   {
    "duration": 303,
    "start_time": "2021-12-21T18:23:03.356Z"
   },
   {
    "duration": 101,
    "start_time": "2021-12-21T18:23:03.664Z"
   },
   {
    "duration": 99,
    "start_time": "2021-12-21T18:23:03.768Z"
   },
   {
    "duration": 30,
    "start_time": "2021-12-21T18:23:03.870Z"
   },
   {
    "duration": 6,
    "start_time": "2021-12-21T18:23:03.907Z"
   },
   {
    "duration": 71,
    "start_time": "2021-12-21T18:23:03.917Z"
   },
   {
    "duration": 98,
    "start_time": "2021-12-21T18:23:03.990Z"
   },
   {
    "duration": 22,
    "start_time": "2021-12-21T18:23:04.092Z"
   },
   {
    "duration": 15,
    "start_time": "2021-12-21T18:23:04.117Z"
   },
   {
    "duration": 40,
    "start_time": "2021-12-21T18:23:04.135Z"
   },
   {
    "duration": 18,
    "start_time": "2021-12-21T18:23:04.179Z"
   },
   {
    "duration": 73,
    "start_time": "2021-12-21T18:23:04.200Z"
   },
   {
    "duration": 4,
    "start_time": "2021-12-21T18:23:04.275Z"
   },
   {
    "duration": 9,
    "start_time": "2021-12-21T18:27:15.171Z"
   },
   {
    "duration": 8,
    "start_time": "2021-12-21T18:29:02.107Z"
   },
   {
    "duration": 16,
    "start_time": "2021-12-21T18:30:24.163Z"
   },
   {
    "duration": 5,
    "start_time": "2021-12-21T18:35:24.066Z"
   },
   {
    "duration": 8,
    "start_time": "2021-12-21T18:36:06.337Z"
   },
   {
    "duration": 7,
    "start_time": "2021-12-21T18:37:06.987Z"
   },
   {
    "duration": 1426,
    "start_time": "2021-12-21T18:50:30.524Z"
   },
   {
    "duration": 33,
    "start_time": "2021-12-21T18:50:31.952Z"
   },
   {
    "duration": 5,
    "start_time": "2021-12-21T18:50:31.988Z"
   },
   {
    "duration": 37,
    "start_time": "2021-12-21T18:50:31.996Z"
   },
   {
    "duration": 22,
    "start_time": "2021-12-21T18:50:32.063Z"
   },
   {
    "duration": 5,
    "start_time": "2021-12-21T18:50:32.088Z"
   },
   {
    "duration": 22,
    "start_time": "2021-12-21T18:50:32.096Z"
   },
   {
    "duration": 11,
    "start_time": "2021-12-21T18:50:32.122Z"
   },
   {
    "duration": 12,
    "start_time": "2021-12-21T18:50:32.164Z"
   },
   {
    "duration": 24,
    "start_time": "2021-12-21T18:50:32.178Z"
   },
   {
    "duration": 76,
    "start_time": "2021-12-21T18:50:32.204Z"
   },
   {
    "duration": 18,
    "start_time": "2021-12-21T18:50:32.283Z"
   },
   {
    "duration": 18,
    "start_time": "2021-12-21T18:50:32.303Z"
   },
   {
    "duration": 41,
    "start_time": "2021-12-21T18:50:32.324Z"
   },
   {
    "duration": 14,
    "start_time": "2021-12-21T18:50:32.368Z"
   },
   {
    "duration": 17,
    "start_time": "2021-12-21T18:50:32.384Z"
   },
   {
    "duration": 131,
    "start_time": "2021-12-21T18:50:32.403Z"
   },
   {
    "duration": 89,
    "start_time": "2021-12-21T18:50:32.537Z"
   },
   {
    "duration": 303,
    "start_time": "2021-12-21T18:50:32.628Z"
   },
   {
    "duration": 97,
    "start_time": "2021-12-21T18:50:32.934Z"
   },
   {
    "duration": 99,
    "start_time": "2021-12-21T18:50:33.034Z"
   },
   {
    "duration": 41,
    "start_time": "2021-12-21T18:50:33.136Z"
   },
   {
    "duration": 7,
    "start_time": "2021-12-21T18:50:33.183Z"
   },
   {
    "duration": 74,
    "start_time": "2021-12-21T18:50:33.193Z"
   },
   {
    "duration": 118,
    "start_time": "2021-12-21T18:50:33.270Z"
   },
   {
    "duration": 29,
    "start_time": "2021-12-21T18:50:33.391Z"
   },
   {
    "duration": 39,
    "start_time": "2021-12-21T18:50:33.423Z"
   },
   {
    "duration": 33,
    "start_time": "2021-12-21T18:50:33.465Z"
   },
   {
    "duration": 18,
    "start_time": "2021-12-21T18:50:33.501Z"
   },
   {
    "duration": 41,
    "start_time": "2021-12-21T18:50:33.522Z"
   },
   {
    "duration": 12,
    "start_time": "2021-12-21T18:50:33.565Z"
   },
   {
    "duration": 20,
    "start_time": "2021-12-21T18:50:33.580Z"
   },
   {
    "duration": 24,
    "start_time": "2021-12-21T18:53:20.494Z"
   },
   {
    "duration": 5,
    "start_time": "2021-12-21T19:23:06.529Z"
   },
   {
    "duration": 4,
    "start_time": "2021-12-21T19:23:17.233Z"
   },
   {
    "duration": 5,
    "start_time": "2021-12-21T19:23:21.792Z"
   },
   {
    "duration": 112,
    "start_time": "2021-12-21T19:25:01.962Z"
   },
   {
    "duration": 98,
    "start_time": "2021-12-21T19:25:52.921Z"
   },
   {
    "duration": 396,
    "start_time": "2021-12-21T19:26:24.984Z"
   },
   {
    "duration": 298,
    "start_time": "2021-12-21T19:26:32.824Z"
   },
   {
    "duration": 628,
    "start_time": "2021-12-21T19:27:44.368Z"
   },
   {
    "duration": 1367,
    "start_time": "2021-12-21T19:28:57.820Z"
   },
   {
    "duration": 45,
    "start_time": "2021-12-21T19:28:59.190Z"
   },
   {
    "duration": 5,
    "start_time": "2021-12-21T19:28:59.238Z"
   },
   {
    "duration": 52,
    "start_time": "2021-12-21T19:28:59.246Z"
   },
   {
    "duration": 25,
    "start_time": "2021-12-21T19:28:59.301Z"
   },
   {
    "duration": 5,
    "start_time": "2021-12-21T19:28:59.328Z"
   },
   {
    "duration": 38,
    "start_time": "2021-12-21T19:28:59.336Z"
   },
   {
    "duration": 25,
    "start_time": "2021-12-21T19:28:59.379Z"
   },
   {
    "duration": 30,
    "start_time": "2021-12-21T19:28:59.408Z"
   },
   {
    "duration": 57,
    "start_time": "2021-12-21T19:28:59.441Z"
   },
   {
    "duration": 50,
    "start_time": "2021-12-21T19:28:59.501Z"
   },
   {
    "duration": 29,
    "start_time": "2021-12-21T19:28:59.554Z"
   },
   {
    "duration": 43,
    "start_time": "2021-12-21T19:28:59.586Z"
   },
   {
    "duration": 38,
    "start_time": "2021-12-21T19:28:59.631Z"
   },
   {
    "duration": 20,
    "start_time": "2021-12-21T19:28:59.672Z"
   },
   {
    "duration": 33,
    "start_time": "2021-12-21T19:28:59.695Z"
   },
   {
    "duration": 151,
    "start_time": "2021-12-21T19:28:59.736Z"
   },
   {
    "duration": 83,
    "start_time": "2021-12-21T19:28:59.889Z"
   },
   {
    "duration": 457,
    "start_time": "2021-12-21T19:28:59.974Z"
   },
   {
    "duration": 71,
    "start_time": "2021-12-21T19:29:00.462Z"
   },
   {
    "duration": 85,
    "start_time": "2021-12-21T19:29:00.536Z"
   },
   {
    "duration": 44,
    "start_time": "2021-12-21T19:29:00.625Z"
   },
   {
    "duration": 28,
    "start_time": "2021-12-21T19:29:00.675Z"
   },
   {
    "duration": 71,
    "start_time": "2021-12-21T19:29:00.706Z"
   },
   {
    "duration": 109,
    "start_time": "2021-12-21T19:29:00.780Z"
   },
   {
    "duration": 24,
    "start_time": "2021-12-21T19:29:00.892Z"
   },
   {
    "duration": 20,
    "start_time": "2021-12-21T19:29:00.920Z"
   },
   {
    "duration": 61,
    "start_time": "2021-12-21T19:29:00.942Z"
   },
   {
    "duration": 40,
    "start_time": "2021-12-21T19:29:01.006Z"
   },
   {
    "duration": 49,
    "start_time": "2021-12-21T19:29:01.049Z"
   },
   {
    "duration": 17,
    "start_time": "2021-12-21T19:29:01.101Z"
   },
   {
    "duration": 391,
    "start_time": "2021-12-21T19:29:04.823Z"
   },
   {
    "duration": 318,
    "start_time": "2021-12-21T19:29:35.656Z"
   },
   {
    "duration": 361,
    "start_time": "2021-12-21T19:31:32.656Z"
   },
   {
    "duration": 383,
    "start_time": "2021-12-21T19:34:45.296Z"
   },
   {
    "duration": 412,
    "start_time": "2021-12-21T19:35:49.742Z"
   },
   {
    "duration": 306,
    "start_time": "2021-12-21T19:35:52.667Z"
   },
   {
    "duration": 10346,
    "start_time": "2021-12-21T19:36:40.560Z"
   },
   {
    "duration": 420,
    "start_time": "2021-12-21T19:40:22.365Z"
   },
   {
    "duration": 294,
    "start_time": "2021-12-21T19:41:33.431Z"
   },
   {
    "duration": 9487,
    "start_time": "2021-12-21T19:41:50.111Z"
   },
   {
    "duration": 536,
    "start_time": "2021-12-21T19:42:51.511Z"
   },
   {
    "duration": 10881,
    "start_time": "2021-12-21T19:43:42.846Z"
   },
   {
    "duration": 323,
    "start_time": "2021-12-21T19:46:18.951Z"
   },
   {
    "duration": 320,
    "start_time": "2021-12-21T19:50:44.614Z"
   },
   {
    "duration": 14,
    "start_time": "2021-12-21T19:53:20.997Z"
   },
   {
    "duration": 329,
    "start_time": "2021-12-21T19:56:56.143Z"
   },
   {
    "duration": 587,
    "start_time": "2021-12-21T19:57:22.436Z"
   },
   {
    "duration": 330,
    "start_time": "2021-12-21T19:58:36.844Z"
   },
   {
    "duration": 419,
    "start_time": "2021-12-21T19:59:45.262Z"
   },
   {
    "duration": 84,
    "start_time": "2021-12-21T20:00:59.948Z"
   },
   {
    "duration": 302,
    "start_time": "2021-12-21T20:04:05.052Z"
   },
   {
    "duration": 78,
    "start_time": "2021-12-21T20:04:17.717Z"
   },
   {
    "duration": 74,
    "start_time": "2021-12-21T20:04:48.349Z"
   },
   {
    "duration": 73,
    "start_time": "2021-12-21T20:07:30.942Z"
   },
   {
    "duration": 73,
    "start_time": "2021-12-21T20:07:43.381Z"
   },
   {
    "duration": 1310,
    "start_time": "2021-12-21T20:08:18.833Z"
   },
   {
    "duration": 34,
    "start_time": "2021-12-21T20:08:20.146Z"
   },
   {
    "duration": 6,
    "start_time": "2021-12-21T20:08:20.183Z"
   },
   {
    "duration": 34,
    "start_time": "2021-12-21T20:08:20.192Z"
   },
   {
    "duration": 20,
    "start_time": "2021-12-21T20:08:20.263Z"
   },
   {
    "duration": 5,
    "start_time": "2021-12-21T20:08:20.286Z"
   },
   {
    "duration": 27,
    "start_time": "2021-12-21T20:08:20.293Z"
   },
   {
    "duration": 42,
    "start_time": "2021-12-21T20:08:20.323Z"
   },
   {
    "duration": 13,
    "start_time": "2021-12-21T20:08:20.369Z"
   },
   {
    "duration": 24,
    "start_time": "2021-12-21T20:08:20.385Z"
   },
   {
    "duration": 66,
    "start_time": "2021-12-21T20:08:20.411Z"
   },
   {
    "duration": 19,
    "start_time": "2021-12-21T20:08:20.480Z"
   },
   {
    "duration": 22,
    "start_time": "2021-12-21T20:08:20.501Z"
   },
   {
    "duration": 40,
    "start_time": "2021-12-21T20:08:20.526Z"
   },
   {
    "duration": 6,
    "start_time": "2021-12-21T20:08:20.568Z"
   },
   {
    "duration": 15,
    "start_time": "2021-12-21T20:08:20.576Z"
   },
   {
    "duration": 128,
    "start_time": "2021-12-21T20:08:20.593Z"
   },
   {
    "duration": 88,
    "start_time": "2021-12-21T20:08:20.723Z"
   },
   {
    "duration": 249,
    "start_time": "2021-12-21T20:08:20.814Z"
   },
   {
    "duration": 74,
    "start_time": "2021-12-21T20:08:21.065Z"
   },
   {
    "duration": 80,
    "start_time": "2021-12-21T20:08:21.141Z"
   },
   {
    "duration": 16,
    "start_time": "2021-12-21T20:08:21.223Z"
   },
   {
    "duration": 5,
    "start_time": "2021-12-21T20:08:21.264Z"
   },
   {
    "duration": 56,
    "start_time": "2021-12-21T20:08:21.272Z"
   },
   {
    "duration": 89,
    "start_time": "2021-12-21T20:08:21.330Z"
   },
   {
    "duration": 22,
    "start_time": "2021-12-21T20:08:21.421Z"
   },
   {
    "duration": 15,
    "start_time": "2021-12-21T20:08:21.462Z"
   },
   {
    "duration": 15,
    "start_time": "2021-12-21T20:08:21.480Z"
   },
   {
    "duration": 15,
    "start_time": "2021-12-21T20:08:21.497Z"
   },
   {
    "duration": 82,
    "start_time": "2021-12-21T20:08:21.515Z"
   },
   {
    "duration": 16,
    "start_time": "2021-12-21T20:08:21.600Z"
   },
   {
    "duration": 71,
    "start_time": "2021-12-21T20:08:30.649Z"
   },
   {
    "duration": 28,
    "start_time": "2021-12-21T20:09:05.147Z"
   },
   {
    "duration": 33,
    "start_time": "2021-12-21T20:11:23.354Z"
   },
   {
    "duration": 935,
    "start_time": "2021-12-21T20:11:38.233Z"
   },
   {
    "duration": 308,
    "start_time": "2021-12-21T20:12:13.114Z"
   },
   {
    "duration": 467,
    "start_time": "2021-12-21T20:12:54.386Z"
   },
   {
    "duration": 12,
    "start_time": "2021-12-21T20:13:52.402Z"
   },
   {
    "duration": 307,
    "start_time": "2021-12-21T20:15:46.474Z"
   },
   {
    "duration": 1431,
    "start_time": "2021-12-21T20:17:00.428Z"
   },
   {
    "duration": 399,
    "start_time": "2021-12-21T20:17:22.900Z"
   },
   {
    "duration": 60,
    "start_time": "2021-12-21T20:17:56.221Z"
   },
   {
    "duration": 72,
    "start_time": "2021-12-21T20:18:09.874Z"
   },
   {
    "duration": 9995,
    "start_time": "2021-12-21T20:18:55.577Z"
   },
   {
    "duration": 109,
    "start_time": "2021-12-21T20:19:51.577Z"
   },
   {
    "duration": 70,
    "start_time": "2021-12-21T20:23:05.440Z"
   },
   {
    "duration": 1480,
    "start_time": "2021-12-22T17:35:35.325Z"
   },
   {
    "duration": 29,
    "start_time": "2021-12-22T17:35:36.807Z"
   },
   {
    "duration": 665,
    "start_time": "2021-12-22T17:35:36.839Z"
   },
   {
    "duration": 661,
    "start_time": "2021-12-22T17:35:37.507Z"
   },
   {
    "duration": 201,
    "start_time": "2021-12-22T17:35:38.171Z"
   },
   {
    "duration": 6,
    "start_time": "2021-12-22T17:35:38.374Z"
   },
   {
    "duration": 127,
    "start_time": "2021-12-22T17:35:38.382Z"
   },
   {
    "duration": 182,
    "start_time": "2021-12-22T17:35:38.513Z"
   },
   {
    "duration": 125,
    "start_time": "2021-12-22T17:35:38.699Z"
   },
   {
    "duration": 298,
    "start_time": "2021-12-22T17:35:38.828Z"
   },
   {
    "duration": 452,
    "start_time": "2021-12-22T17:35:39.129Z"
   },
   {
    "duration": 245,
    "start_time": "2021-12-22T17:35:39.584Z"
   },
   {
    "duration": 383,
    "start_time": "2021-12-22T17:35:39.832Z"
   },
   {
    "duration": 258,
    "start_time": "2021-12-22T17:35:40.218Z"
   },
   {
    "duration": 377,
    "start_time": "2021-12-22T17:35:40.478Z"
   },
   {
    "duration": 561,
    "start_time": "2021-12-22T17:35:40.858Z"
   },
   {
    "duration": 648,
    "start_time": "2021-12-22T17:35:41.422Z"
   },
   {
    "duration": 306,
    "start_time": "2021-12-22T17:35:42.073Z"
   },
   {
    "duration": 509,
    "start_time": "2021-12-22T17:35:42.382Z"
   },
   {
    "duration": 688,
    "start_time": "2021-12-22T17:35:42.894Z"
   },
   {
    "duration": 535,
    "start_time": "2021-12-22T17:35:43.585Z"
   },
   {
    "duration": 383,
    "start_time": "2021-12-22T17:35:44.123Z"
   },
   {
    "duration": 315,
    "start_time": "2021-12-22T17:35:44.509Z"
   },
   {
    "duration": 338,
    "start_time": "2021-12-22T17:35:44.827Z"
   },
   {
    "duration": 266,
    "start_time": "2021-12-22T17:35:45.167Z"
   },
   {
    "duration": 745,
    "start_time": "2021-12-22T17:35:45.436Z"
   },
   {
    "duration": 378,
    "start_time": "2021-12-22T17:35:46.185Z"
   },
   {
    "duration": 388,
    "start_time": "2021-12-22T17:35:46.566Z"
   },
   {
    "duration": 523,
    "start_time": "2021-12-22T17:35:46.956Z"
   },
   {
    "duration": 318,
    "start_time": "2021-12-22T17:35:47.482Z"
   },
   {
    "duration": 199,
    "start_time": "2021-12-22T17:35:47.803Z"
   },
   {
    "duration": 93,
    "start_time": "2021-12-22T17:36:47.130Z"
   },
   {
    "duration": 7638,
    "start_time": "2021-12-22T17:37:14.618Z"
   },
   {
    "duration": 6234,
    "start_time": "2021-12-22T17:46:59.281Z"
   },
   {
    "duration": 67,
    "start_time": "2021-12-22T17:47:42.368Z"
   },
   {
    "duration": 6503,
    "start_time": "2021-12-22T17:48:39.328Z"
   },
   {
    "duration": 90,
    "start_time": "2021-12-22T17:49:54.704Z"
   },
   {
    "duration": 6463,
    "start_time": "2021-12-22T17:50:08.198Z"
   },
   {
    "duration": 6075,
    "start_time": "2021-12-22T17:50:55.184Z"
   },
   {
    "duration": 4937,
    "start_time": "2021-12-22T17:52:19.390Z"
   },
   {
    "duration": 73,
    "start_time": "2021-12-22T17:53:09.664Z"
   },
   {
    "duration": 79,
    "start_time": "2021-12-22T17:53:28.072Z"
   },
   {
    "duration": 80,
    "start_time": "2021-12-22T18:08:56.989Z"
   },
   {
    "duration": 273,
    "start_time": "2021-12-22T18:12:23.310Z"
   },
   {
    "duration": 269,
    "start_time": "2021-12-22T18:13:53.559Z"
   },
   {
    "duration": 26,
    "start_time": "2021-12-22T18:14:31.828Z"
   },
   {
    "duration": 4,
    "start_time": "2021-12-22T18:16:17.612Z"
   },
   {
    "duration": 25,
    "start_time": "2021-12-22T18:17:23.860Z"
   },
   {
    "duration": 1274,
    "start_time": "2021-12-22T18:26:29.432Z"
   },
   {
    "duration": 209,
    "start_time": "2021-12-22T18:26:30.708Z"
   },
   {
    "duration": 853,
    "start_time": "2021-12-22T18:26:30.922Z"
   },
   {
    "duration": 1211,
    "start_time": "2021-12-22T18:26:31.778Z"
   },
   {
    "duration": 293,
    "start_time": "2021-12-22T18:26:32.992Z"
   },
   {
    "duration": 495,
    "start_time": "2021-12-22T18:26:33.287Z"
   },
   {
    "duration": 441,
    "start_time": "2021-12-22T18:26:33.785Z"
   },
   {
    "duration": 299,
    "start_time": "2021-12-22T18:26:34.229Z"
   },
   {
    "duration": 266,
    "start_time": "2021-12-22T18:26:34.532Z"
   },
   {
    "duration": 367,
    "start_time": "2021-12-22T18:26:34.802Z"
   },
   {
    "duration": 418,
    "start_time": "2021-12-22T18:26:35.172Z"
   },
   {
    "duration": 282,
    "start_time": "2021-12-22T18:26:35.593Z"
   },
   {
    "duration": 352,
    "start_time": "2021-12-22T18:26:35.877Z"
   },
   {
    "duration": 251,
    "start_time": "2021-12-22T18:26:36.232Z"
   },
   {
    "duration": 300,
    "start_time": "2021-12-22T18:26:36.486Z"
   },
   {
    "duration": 399,
    "start_time": "2021-12-22T18:26:36.788Z"
   },
   {
    "duration": 378,
    "start_time": "2021-12-22T18:26:37.189Z"
   },
   {
    "duration": 549,
    "start_time": "2021-12-22T18:26:37.570Z"
   },
   {
    "duration": 1195,
    "start_time": "2021-12-22T18:26:38.122Z"
   },
   {
    "duration": 808,
    "start_time": "2021-12-22T18:26:39.319Z"
   },
   {
    "duration": 1294,
    "start_time": "2021-12-22T18:26:40.129Z"
   },
   {
    "duration": 1476,
    "start_time": "2021-12-22T18:26:41.425Z"
   },
   {
    "duration": -95578,
    "start_time": "2021-12-22T18:28:18.482Z"
   },
   {
    "duration": -95673,
    "start_time": "2021-12-22T18:28:18.579Z"
   },
   {
    "duration": -95700,
    "start_time": "2021-12-22T18:28:18.608Z"
   },
   {
    "duration": -95703,
    "start_time": "2021-12-22T18:28:18.613Z"
   },
   {
    "duration": -95706,
    "start_time": "2021-12-22T18:28:18.617Z"
   },
   {
    "duration": -95708,
    "start_time": "2021-12-22T18:28:18.621Z"
   },
   {
    "duration": -95710,
    "start_time": "2021-12-22T18:28:18.624Z"
   },
   {
    "duration": -95710,
    "start_time": "2021-12-22T18:28:18.626Z"
   },
   {
    "duration": 18,
    "start_time": "2021-12-22T18:27:25.482Z"
   },
   {
    "duration": 18,
    "start_time": "2021-12-22T18:27:35.364Z"
   },
   {
    "duration": 460,
    "start_time": "2021-12-22T18:27:35.384Z"
   },
   {
    "duration": 957,
    "start_time": "2021-12-22T18:27:35.847Z"
   },
   {
    "duration": 596,
    "start_time": "2021-12-22T18:27:36.807Z"
   },
   {
    "duration": 341,
    "start_time": "2021-12-22T18:27:37.406Z"
   },
   {
    "duration": 708,
    "start_time": "2021-12-22T18:27:37.750Z"
   },
   {
    "duration": -95636,
    "start_time": "2021-12-22T18:29:14.098Z"
   },
   {
    "duration": -95637,
    "start_time": "2021-12-22T18:29:14.101Z"
   },
   {
    "duration": -95636,
    "start_time": "2021-12-22T18:29:14.103Z"
   },
   {
    "duration": 12,
    "start_time": "2021-12-22T18:28:49.321Z"
   },
   {
    "duration": 6,
    "start_time": "2021-12-22T18:28:52.906Z"
   },
   {
    "duration": 3306,
    "start_time": "2021-12-22T18:29:22.259Z"
   },
   {
    "duration": 1273,
    "start_time": "2021-12-22T18:29:45.752Z"
   },
   {
    "duration": 31,
    "start_time": "2021-12-22T18:29:47.027Z"
   },
   {
    "duration": 1147,
    "start_time": "2021-12-22T18:29:47.061Z"
   },
   {
    "duration": 1179,
    "start_time": "2021-12-22T18:29:48.211Z"
   },
   {
    "duration": 1174,
    "start_time": "2021-12-22T18:29:49.392Z"
   },
   {
    "duration": 1134,
    "start_time": "2021-12-22T18:29:50.570Z"
   },
   {
    "duration": 624,
    "start_time": "2021-12-22T18:29:51.706Z"
   },
   {
    "duration": 818,
    "start_time": "2021-12-22T18:29:52.334Z"
   },
   {
    "duration": 822,
    "start_time": "2021-12-22T18:29:53.154Z"
   },
   {
    "duration": 669,
    "start_time": "2021-12-22T18:29:53.978Z"
   },
   {
    "duration": 380,
    "start_time": "2021-12-22T18:29:54.650Z"
   },
   {
    "duration": 432,
    "start_time": "2021-12-22T18:29:55.033Z"
   },
   {
    "duration": 1132,
    "start_time": "2021-12-22T18:29:55.467Z"
   },
   {
    "duration": 768,
    "start_time": "2021-12-22T18:29:56.601Z"
   },
   {
    "duration": 790,
    "start_time": "2021-12-22T18:29:57.372Z"
   },
   {
    "duration": 630,
    "start_time": "2021-12-22T18:29:58.165Z"
   },
   {
    "duration": 1136,
    "start_time": "2021-12-22T18:29:58.797Z"
   },
   {
    "duration": 660,
    "start_time": "2021-12-22T18:29:59.936Z"
   },
   {
    "duration": 946,
    "start_time": "2021-12-22T18:30:00.599Z"
   },
   {
    "duration": 710,
    "start_time": "2021-12-22T18:30:01.548Z"
   },
   {
    "duration": 827,
    "start_time": "2021-12-22T18:30:02.261Z"
   },
   {
    "duration": 649,
    "start_time": "2021-12-22T18:30:03.090Z"
   },
   {
    "duration": 1134,
    "start_time": "2021-12-22T18:30:03.743Z"
   },
   {
    "duration": 1240,
    "start_time": "2021-12-22T18:30:04.879Z"
   },
   {
    "duration": 8,
    "start_time": "2021-12-22T18:30:11.522Z"
   },
   {
    "duration": 640,
    "start_time": "2021-12-22T18:30:15.786Z"
   },
   {
    "duration": 493,
    "start_time": "2021-12-22T18:32:31.330Z"
   },
   {
    "duration": 13,
    "start_time": "2021-12-22T18:33:44.411Z"
   },
   {
    "duration": 61,
    "start_time": "2021-12-22T18:34:12.194Z"
   },
   {
    "duration": 73,
    "start_time": "2021-12-22T18:36:21.654Z"
   },
   {
    "duration": 76,
    "start_time": "2021-12-22T18:36:46.049Z"
   },
   {
    "duration": 260,
    "start_time": "2021-12-22T18:38:28.639Z"
   },
   {
    "duration": 37,
    "start_time": "2021-12-22T18:38:48.178Z"
   },
   {
    "duration": 93,
    "start_time": "2021-12-22T18:39:45.904Z"
   },
   {
    "duration": 263,
    "start_time": "2021-12-22T18:41:39.265Z"
   },
   {
    "duration": 37,
    "start_time": "2021-12-22T18:43:50.594Z"
   },
   {
    "duration": 31,
    "start_time": "2021-12-22T18:46:24.719Z"
   },
   {
    "duration": 31,
    "start_time": "2021-12-22T18:50:29.968Z"
   },
   {
    "duration": 32,
    "start_time": "2021-12-22T18:50:37.933Z"
   },
   {
    "duration": 29,
    "start_time": "2021-12-22T18:52:09.438Z"
   },
   {
    "duration": 287,
    "start_time": "2021-12-22T18:52:30.759Z"
   },
   {
    "duration": 1250,
    "start_time": "2021-12-22T18:53:21.342Z"
   },
   {
    "duration": 31,
    "start_time": "2021-12-22T18:53:22.595Z"
   },
   {
    "duration": 588,
    "start_time": "2021-12-22T18:53:22.629Z"
   },
   {
    "duration": 801,
    "start_time": "2021-12-22T18:53:23.220Z"
   },
   {
    "duration": 261,
    "start_time": "2021-12-22T18:53:24.024Z"
   },
   {
    "duration": 540,
    "start_time": "2021-12-22T18:53:24.288Z"
   },
   {
    "duration": 640,
    "start_time": "2021-12-22T18:53:24.830Z"
   },
   {
    "duration": 475,
    "start_time": "2021-12-22T18:53:25.472Z"
   },
   {
    "duration": 375,
    "start_time": "2021-12-22T18:53:25.951Z"
   },
   {
    "duration": 293,
    "start_time": "2021-12-22T18:53:26.330Z"
   },
   {
    "duration": 262,
    "start_time": "2021-12-22T18:53:26.626Z"
   },
   {
    "duration": 239,
    "start_time": "2021-12-22T18:53:26.890Z"
   },
   {
    "duration": 395,
    "start_time": "2021-12-22T18:53:27.131Z"
   },
   {
    "duration": 413,
    "start_time": "2021-12-22T18:53:27.529Z"
   },
   {
    "duration": 415,
    "start_time": "2021-12-22T18:53:27.944Z"
   },
   {
    "duration": 355,
    "start_time": "2021-12-22T18:53:28.362Z"
   },
   {
    "duration": 487,
    "start_time": "2021-12-22T18:53:28.719Z"
   },
   {
    "duration": 419,
    "start_time": "2021-12-22T18:53:29.209Z"
   },
   {
    "duration": 480,
    "start_time": "2021-12-22T18:53:29.631Z"
   },
   {
    "duration": 663,
    "start_time": "2021-12-22T18:53:30.113Z"
   },
   {
    "duration": 717,
    "start_time": "2021-12-22T18:53:30.779Z"
   },
   {
    "duration": 342,
    "start_time": "2021-12-22T18:53:31.503Z"
   },
   {
    "duration": 31,
    "start_time": "2021-12-22T18:53:45.920Z"
   },
   {
    "duration": 1088,
    "start_time": "2021-12-22T18:54:00.530Z"
   },
   {
    "duration": 27,
    "start_time": "2021-12-22T18:54:52.809Z"
   },
   {
    "duration": 29,
    "start_time": "2021-12-22T18:56:00.103Z"
   },
   {
    "duration": 9,
    "start_time": "2021-12-22T18:56:19.646Z"
   },
   {
    "duration": 11,
    "start_time": "2021-12-22T18:56:23.671Z"
   },
   {
    "duration": 35,
    "start_time": "2021-12-22T18:56:27.197Z"
   },
   {
    "duration": 10,
    "start_time": "2021-12-22T18:56:56.788Z"
   },
   {
    "duration": 11,
    "start_time": "2021-12-22T18:57:23.152Z"
   },
   {
    "duration": 329,
    "start_time": "2021-12-22T19:03:10.032Z"
   },
   {
    "duration": 257,
    "start_time": "2021-12-22T19:03:49.542Z"
   },
   {
    "duration": 28,
    "start_time": "2021-12-22T19:04:03.511Z"
   },
   {
    "duration": 260,
    "start_time": "2021-12-22T19:05:17.134Z"
   },
   {
    "duration": 82,
    "start_time": "2021-12-22T19:10:31.870Z"
   },
   {
    "duration": 1255,
    "start_time": "2021-12-22T19:10:32.667Z"
   },
   {
    "duration": 34,
    "start_time": "2021-12-22T19:10:33.924Z"
   },
   {
    "duration": 256,
    "start_time": "2021-12-22T19:10:33.962Z"
   },
   {
    "duration": 289,
    "start_time": "2021-12-22T19:10:34.221Z"
   },
   {
    "duration": 261,
    "start_time": "2021-12-22T19:10:34.513Z"
   },
   {
    "duration": 276,
    "start_time": "2021-12-22T19:10:34.777Z"
   },
   {
    "duration": 445,
    "start_time": "2021-12-22T19:10:35.055Z"
   },
   {
    "duration": 711,
    "start_time": "2021-12-22T19:10:35.504Z"
   },
   {
    "duration": 350,
    "start_time": "2021-12-22T19:10:36.218Z"
   },
   {
    "duration": 112,
    "start_time": "2021-12-22T19:10:36.570Z"
   },
   {
    "duration": 239,
    "start_time": "2021-12-22T19:10:36.684Z"
   },
   {
    "duration": 495,
    "start_time": "2021-12-22T19:10:36.926Z"
   },
   {
    "duration": 443,
    "start_time": "2021-12-22T19:10:37.423Z"
   },
   {
    "duration": 663,
    "start_time": "2021-12-22T19:10:37.869Z"
   },
   {
    "duration": 437,
    "start_time": "2021-12-22T19:10:38.535Z"
   },
   {
    "duration": 494,
    "start_time": "2021-12-22T19:10:38.975Z"
   },
   {
    "duration": 413,
    "start_time": "2021-12-22T19:10:39.471Z"
   },
   {
    "duration": 338,
    "start_time": "2021-12-22T19:10:39.886Z"
   },
   {
    "duration": 400,
    "start_time": "2021-12-22T19:10:40.226Z"
   },
   {
    "duration": 208,
    "start_time": "2021-12-22T19:10:40.630Z"
   },
   {
    "duration": 507,
    "start_time": "2021-12-22T19:10:40.841Z"
   },
   {
    "duration": 730,
    "start_time": "2021-12-22T19:10:41.350Z"
   },
   {
    "duration": 288,
    "start_time": "2021-12-22T19:10:42.084Z"
   },
   {
    "duration": 259,
    "start_time": "2021-12-22T19:10:42.374Z"
   },
   {
    "duration": 297,
    "start_time": "2021-12-22T19:10:42.636Z"
   },
   {
    "duration": 343,
    "start_time": "2021-12-22T19:10:42.935Z"
   },
   {
    "duration": 205,
    "start_time": "2021-12-22T19:10:43.281Z"
   },
   {
    "duration": 289,
    "start_time": "2021-12-22T19:10:43.488Z"
   },
   {
    "duration": 410,
    "start_time": "2021-12-22T19:10:43.780Z"
   },
   {
    "duration": 709,
    "start_time": "2021-12-22T19:10:44.192Z"
   },
   {
    "duration": 409,
    "start_time": "2021-12-22T19:11:14.055Z"
   },
   {
    "duration": 272,
    "start_time": "2021-12-22T19:13:26.854Z"
   },
   {
    "duration": 283,
    "start_time": "2021-12-22T19:14:17.469Z"
   },
   {
    "duration": 48,
    "start_time": "2021-12-22T19:14:34.862Z"
   },
   {
    "duration": 50,
    "start_time": "2021-12-22T19:17:17.603Z"
   },
   {
    "duration": 295,
    "start_time": "2021-12-22T19:18:21.014Z"
   },
   {
    "duration": 278,
    "start_time": "2021-12-22T19:18:36.159Z"
   },
   {
    "duration": 290,
    "start_time": "2021-12-22T19:19:02.877Z"
   },
   {
    "duration": 56,
    "start_time": "2021-12-22T19:20:20.574Z"
   },
   {
    "duration": 301,
    "start_time": "2021-12-22T19:24:02.932Z"
   },
   {
    "duration": 66,
    "start_time": "2021-12-22T19:24:26.172Z"
   },
   {
    "duration": 87,
    "start_time": "2021-12-22T19:29:05.679Z"
   },
   {
    "duration": 63,
    "start_time": "2021-12-22T19:29:27.725Z"
   },
   {
    "duration": 84,
    "start_time": "2021-12-22T19:37:07.106Z"
   },
   {
    "duration": 91,
    "start_time": "2021-12-22T19:37:41.146Z"
   },
   {
    "duration": 65,
    "start_time": "2021-12-22T19:38:09.907Z"
   },
   {
    "duration": 253,
    "start_time": "2021-12-22T20:09:06.619Z"
   },
   {
    "duration": 263,
    "start_time": "2021-12-22T20:10:19.641Z"
   },
   {
    "duration": 95,
    "start_time": "2021-12-22T20:16:58.015Z"
   },
   {
    "duration": 60,
    "start_time": "2021-12-22T20:17:32.572Z"
   },
   {
    "duration": 68,
    "start_time": "2021-12-22T20:18:39.293Z"
   },
   {
    "duration": 116,
    "start_time": "2021-12-22T20:19:42.504Z"
   },
   {
    "duration": 69,
    "start_time": "2021-12-22T20:20:11.046Z"
   },
   {
    "duration": 76,
    "start_time": "2021-12-22T20:21:04.407Z"
   },
   {
    "duration": 75,
    "start_time": "2021-12-22T20:21:21.653Z"
   },
   {
    "duration": 52,
    "start_time": "2021-12-22T20:24:02.263Z"
   },
   {
    "duration": 1261,
    "start_time": "2021-12-22T20:26:20.536Z"
   },
   {
    "duration": 30,
    "start_time": "2021-12-22T20:26:21.800Z"
   },
   {
    "duration": 5,
    "start_time": "2021-12-22T20:26:21.833Z"
   },
   {
    "duration": 36,
    "start_time": "2021-12-22T20:26:21.841Z"
   },
   {
    "duration": 43,
    "start_time": "2021-12-22T20:26:21.880Z"
   },
   {
    "duration": 5,
    "start_time": "2021-12-22T20:26:21.926Z"
   },
   {
    "duration": 22,
    "start_time": "2021-12-22T20:26:21.933Z"
   },
   {
    "duration": 11,
    "start_time": "2021-12-22T20:26:21.958Z"
   },
   {
    "duration": 47,
    "start_time": "2021-12-22T20:26:21.972Z"
   },
   {
    "duration": 22,
    "start_time": "2021-12-22T20:26:22.024Z"
   },
   {
    "duration": 33,
    "start_time": "2021-12-22T20:26:22.049Z"
   },
   {
    "duration": 21,
    "start_time": "2021-12-22T20:26:22.116Z"
   },
   {
    "duration": 17,
    "start_time": "2021-12-22T20:26:22.140Z"
   },
   {
    "duration": 12,
    "start_time": "2021-12-22T20:26:22.159Z"
   },
   {
    "duration": 46,
    "start_time": "2021-12-22T20:26:22.173Z"
   },
   {
    "duration": 13,
    "start_time": "2021-12-22T20:26:22.222Z"
   },
   {
    "duration": 124,
    "start_time": "2021-12-22T20:26:22.238Z"
   },
   {
    "duration": 108,
    "start_time": "2021-12-22T20:26:22.364Z"
   },
   {
    "duration": 248,
    "start_time": "2021-12-22T20:26:22.475Z"
   },
   {
    "duration": 69,
    "start_time": "2021-12-22T20:26:22.725Z"
   },
   {
    "duration": 55,
    "start_time": "2021-12-22T20:26:22.797Z"
   },
   {
    "duration": 17,
    "start_time": "2021-12-22T20:26:22.855Z"
   },
   {
    "duration": 52,
    "start_time": "2021-12-22T20:26:22.875Z"
   },
   {
    "duration": 28,
    "start_time": "2021-12-22T20:26:22.929Z"
   },
   {
    "duration": 9,
    "start_time": "2021-12-22T20:26:22.959Z"
   },
   {
    "duration": 15,
    "start_time": "2021-12-22T20:26:22.971Z"
   },
   {
    "duration": 58,
    "start_time": "2021-12-22T20:26:22.990Z"
   },
   {
    "duration": 10,
    "start_time": "2021-12-22T20:26:23.051Z"
   },
   {
    "duration": 66,
    "start_time": "2021-12-22T20:26:23.063Z"
   },
   {
    "duration": 14,
    "start_time": "2021-12-22T20:26:23.131Z"
   },
   {
    "duration": 76,
    "start_time": "2021-12-22T20:26:23.147Z"
   },
   {
    "duration": 43,
    "start_time": "2021-12-22T20:27:52.411Z"
   },
   {
    "duration": 1304,
    "start_time": "2021-12-22T20:28:32.834Z"
   },
   {
    "duration": 31,
    "start_time": "2021-12-22T20:28:34.141Z"
   },
   {
    "duration": 5,
    "start_time": "2021-12-22T20:28:34.175Z"
   },
   {
    "duration": 47,
    "start_time": "2021-12-22T20:28:34.182Z"
   },
   {
    "duration": 18,
    "start_time": "2021-12-22T20:28:34.232Z"
   },
   {
    "duration": 5,
    "start_time": "2021-12-22T20:28:34.252Z"
   },
   {
    "duration": 23,
    "start_time": "2021-12-22T20:28:34.259Z"
   },
   {
    "duration": 40,
    "start_time": "2021-12-22T20:28:34.285Z"
   },
   {
    "duration": 12,
    "start_time": "2021-12-22T20:28:34.329Z"
   },
   {
    "duration": 23,
    "start_time": "2021-12-22T20:28:34.344Z"
   },
   {
    "duration": 70,
    "start_time": "2021-12-22T20:28:34.369Z"
   },
   {
    "duration": 20,
    "start_time": "2021-12-22T20:28:34.441Z"
   },
   {
    "duration": 16,
    "start_time": "2021-12-22T20:28:34.463Z"
   },
   {
    "duration": 45,
    "start_time": "2021-12-22T20:28:34.481Z"
   },
   {
    "duration": 7,
    "start_time": "2021-12-22T20:28:34.528Z"
   },
   {
    "duration": 16,
    "start_time": "2021-12-22T20:28:34.537Z"
   },
   {
    "duration": 132,
    "start_time": "2021-12-22T20:28:34.556Z"
   },
   {
    "duration": 84,
    "start_time": "2021-12-22T20:28:34.690Z"
   },
   {
    "duration": 249,
    "start_time": "2021-12-22T20:28:34.776Z"
   },
   {
    "duration": 98,
    "start_time": "2021-12-22T20:28:35.029Z"
   },
   {
    "duration": 40,
    "start_time": "2021-12-22T20:28:35.129Z"
   },
   {
    "duration": 45,
    "start_time": "2021-12-22T20:28:35.172Z"
   },
   {
    "duration": 35,
    "start_time": "2021-12-22T20:28:43.355Z"
   },
   {
    "duration": 33,
    "start_time": "2021-12-22T20:29:02.213Z"
   },
   {
    "duration": 349,
    "start_time": "2021-12-22T20:29:24.006Z"
   },
   {
    "duration": 34,
    "start_time": "2021-12-22T20:29:34.916Z"
   },
   {
    "duration": 29,
    "start_time": "2021-12-22T20:30:01.875Z"
   },
   {
    "duration": 9,
    "start_time": "2021-12-22T20:30:07.029Z"
   },
   {
    "duration": 10,
    "start_time": "2021-12-22T20:30:10.627Z"
   },
   {
    "duration": 32,
    "start_time": "2021-12-22T20:33:06.373Z"
   },
   {
    "duration": 9,
    "start_time": "2021-12-22T20:33:10.094Z"
   },
   {
    "duration": 28,
    "start_time": "2021-12-22T20:33:49.980Z"
   },
   {
    "duration": 14,
    "start_time": "2021-12-22T20:33:53.820Z"
   },
   {
    "duration": 49,
    "start_time": "2021-12-22T20:33:59.140Z"
   },
   {
    "duration": 53,
    "start_time": "2021-12-22T20:34:18.483Z"
   },
   {
    "duration": 321,
    "start_time": "2021-12-22T20:37:54.011Z"
   },
   {
    "duration": 280,
    "start_time": "2021-12-22T20:38:52.182Z"
   },
   {
    "duration": 317,
    "start_time": "2021-12-22T20:39:31.636Z"
   },
   {
    "duration": 336,
    "start_time": "2021-12-22T20:41:05.457Z"
   },
   {
    "duration": 50,
    "start_time": "2021-12-22T20:42:24.181Z"
   },
   {
    "duration": 81,
    "start_time": "2021-12-22T20:42:41.788Z"
   },
   {
    "duration": 11,
    "start_time": "2021-12-22T20:47:40.919Z"
   },
   {
    "duration": 58,
    "start_time": "2021-12-22T20:47:48.541Z"
   },
   {
    "duration": 318,
    "start_time": "2021-12-22T20:52:14.443Z"
   },
   {
    "duration": 52,
    "start_time": "2021-12-22T20:52:49.099Z"
   },
   {
    "duration": 61,
    "start_time": "2021-12-22T20:53:05.570Z"
   },
   {
    "duration": 1173,
    "start_time": "2021-12-23T18:09:26.895Z"
   },
   {
    "duration": 26,
    "start_time": "2021-12-23T18:09:28.071Z"
   },
   {
    "duration": 5,
    "start_time": "2021-12-23T18:09:28.100Z"
   },
   {
    "duration": 27,
    "start_time": "2021-12-23T18:09:28.107Z"
   },
   {
    "duration": 20,
    "start_time": "2021-12-23T18:09:28.136Z"
   },
   {
    "duration": 14,
    "start_time": "2021-12-23T18:09:28.159Z"
   },
   {
    "duration": 20,
    "start_time": "2021-12-23T18:09:28.175Z"
   },
   {
    "duration": 11,
    "start_time": "2021-12-23T18:09:28.197Z"
   },
   {
    "duration": 15,
    "start_time": "2021-12-23T18:09:28.212Z"
   },
   {
    "duration": 39,
    "start_time": "2021-12-23T18:09:28.241Z"
   },
   {
    "duration": 27,
    "start_time": "2021-12-23T18:09:28.282Z"
   },
   {
    "duration": 15,
    "start_time": "2021-12-23T18:09:28.312Z"
   },
   {
    "duration": 27,
    "start_time": "2021-12-23T18:09:28.329Z"
   },
   {
    "duration": 43,
    "start_time": "2021-12-23T18:09:28.358Z"
   },
   {
    "duration": 6,
    "start_time": "2021-12-23T18:09:28.403Z"
   },
   {
    "duration": 17,
    "start_time": "2021-12-23T18:09:28.410Z"
   },
   {
    "duration": 105,
    "start_time": "2021-12-23T18:09:28.430Z"
   },
   {
    "duration": 78,
    "start_time": "2021-12-23T18:09:28.537Z"
   },
   {
    "duration": 233,
    "start_time": "2021-12-23T18:09:28.617Z"
   },
   {
    "duration": 60,
    "start_time": "2021-12-23T18:09:28.853Z"
   },
   {
    "duration": 52,
    "start_time": "2021-12-23T18:09:28.915Z"
   },
   {
    "duration": 22,
    "start_time": "2021-12-23T18:09:28.969Z"
   },
   {
    "duration": 23,
    "start_time": "2021-12-23T18:09:28.993Z"
   },
   {
    "duration": 48,
    "start_time": "2021-12-23T18:09:29.018Z"
   },
   {
    "duration": 8,
    "start_time": "2021-12-23T18:09:29.069Z"
   },
   {
    "duration": 10,
    "start_time": "2021-12-23T18:09:29.079Z"
   },
   {
    "duration": 23,
    "start_time": "2021-12-23T18:09:29.092Z"
   },
   {
    "duration": 8,
    "start_time": "2021-12-23T18:09:29.161Z"
   },
   {
    "duration": 26,
    "start_time": "2021-12-23T18:09:29.170Z"
   },
   {
    "duration": 10,
    "start_time": "2021-12-23T18:09:29.197Z"
   },
   {
    "duration": 76,
    "start_time": "2021-12-23T18:09:29.209Z"
   },
   {
    "duration": 3,
    "start_time": "2021-12-23T18:12:07.471Z"
   },
   {
    "duration": 27,
    "start_time": "2021-12-23T18:12:15.981Z"
   },
   {
    "duration": 29,
    "start_time": "2021-12-23T18:13:37.075Z"
   },
   {
    "duration": 2,
    "start_time": "2021-12-23T18:21:26.421Z"
   },
   {
    "duration": 3,
    "start_time": "2021-12-23T18:26:46.261Z"
   },
   {
    "duration": 51,
    "start_time": "2021-12-23T18:27:19.285Z"
   },
   {
    "duration": 22,
    "start_time": "2021-12-23T18:28:26.555Z"
   },
   {
    "duration": 51,
    "start_time": "2021-12-23T18:28:30.869Z"
   },
   {
    "duration": 41,
    "start_time": "2021-12-23T18:29:16.861Z"
   },
   {
    "duration": 54,
    "start_time": "2021-12-23T18:29:56.980Z"
   },
   {
    "duration": 41,
    "start_time": "2021-12-23T18:30:19.004Z"
   },
   {
    "duration": 5,
    "start_time": "2021-12-23T18:34:21.323Z"
   },
   {
    "duration": 42,
    "start_time": "2021-12-23T18:34:24.660Z"
   },
   {
    "duration": 6,
    "start_time": "2021-12-23T18:34:55.715Z"
   },
   {
    "duration": 44,
    "start_time": "2021-12-23T18:34:59.769Z"
   },
   {
    "duration": 43,
    "start_time": "2021-12-23T18:35:23.788Z"
   },
   {
    "duration": 44,
    "start_time": "2021-12-23T18:36:04.484Z"
   },
   {
    "duration": 302,
    "start_time": "2021-12-23T18:45:14.767Z"
   },
   {
    "duration": 201,
    "start_time": "2021-12-23T18:45:50.887Z"
   },
   {
    "duration": 209,
    "start_time": "2021-12-23T18:46:18.314Z"
   },
   {
    "duration": 369,
    "start_time": "2021-12-23T18:47:10.187Z"
   },
   {
    "duration": 246,
    "start_time": "2021-12-23T18:47:18.782Z"
   },
   {
    "duration": 245,
    "start_time": "2021-12-23T18:47:28.547Z"
   },
   {
    "duration": 272,
    "start_time": "2021-12-23T18:47:44.024Z"
   },
   {
    "duration": 233,
    "start_time": "2021-12-23T18:48:09.713Z"
   },
   {
    "duration": 264,
    "start_time": "2021-12-23T18:49:15.377Z"
   },
   {
    "duration": 481,
    "start_time": "2021-12-23T18:49:59.473Z"
   },
   {
    "duration": 356,
    "start_time": "2021-12-23T18:53:27.839Z"
   },
   {
    "duration": 259,
    "start_time": "2021-12-23T18:53:37.721Z"
   },
   {
    "duration": 1256,
    "start_time": "2021-12-23T18:53:54.271Z"
   },
   {
    "duration": 307,
    "start_time": "2021-12-23T18:53:55.529Z"
   },
   {
    "duration": -96895,
    "start_time": "2021-12-23T18:55:32.734Z"
   },
   {
    "duration": -96896,
    "start_time": "2021-12-23T18:55:32.736Z"
   },
   {
    "duration": -96899,
    "start_time": "2021-12-23T18:55:32.741Z"
   },
   {
    "duration": -96900,
    "start_time": "2021-12-23T18:55:32.743Z"
   },
   {
    "duration": -96900,
    "start_time": "2021-12-23T18:55:32.744Z"
   },
   {
    "duration": -96901,
    "start_time": "2021-12-23T18:55:32.746Z"
   },
   {
    "duration": -96901,
    "start_time": "2021-12-23T18:55:32.748Z"
   },
   {
    "duration": -96902,
    "start_time": "2021-12-23T18:55:32.750Z"
   },
   {
    "duration": -96902,
    "start_time": "2021-12-23T18:55:32.751Z"
   },
   {
    "duration": -96903,
    "start_time": "2021-12-23T18:55:32.753Z"
   },
   {
    "duration": -96904,
    "start_time": "2021-12-23T18:55:32.755Z"
   },
   {
    "duration": -96904,
    "start_time": "2021-12-23T18:55:32.756Z"
   },
   {
    "duration": -96906,
    "start_time": "2021-12-23T18:55:32.760Z"
   },
   {
    "duration": -96907,
    "start_time": "2021-12-23T18:55:32.762Z"
   },
   {
    "duration": -96907,
    "start_time": "2021-12-23T18:55:32.763Z"
   },
   {
    "duration": -96949,
    "start_time": "2021-12-23T18:55:32.806Z"
   },
   {
    "duration": -96950,
    "start_time": "2021-12-23T18:55:32.808Z"
   },
   {
    "duration": -96952,
    "start_time": "2021-12-23T18:55:32.811Z"
   },
   {
    "duration": -96953,
    "start_time": "2021-12-23T18:55:32.813Z"
   },
   {
    "duration": -96954,
    "start_time": "2021-12-23T18:55:32.815Z"
   },
   {
    "duration": -96955,
    "start_time": "2021-12-23T18:55:32.817Z"
   },
   {
    "duration": -96956,
    "start_time": "2021-12-23T18:55:32.819Z"
   },
   {
    "duration": -96955,
    "start_time": "2021-12-23T18:55:32.820Z"
   },
   {
    "duration": -96956,
    "start_time": "2021-12-23T18:55:32.822Z"
   },
   {
    "duration": -96957,
    "start_time": "2021-12-23T18:55:32.824Z"
   },
   {
    "duration": -97052,
    "start_time": "2021-12-23T18:55:32.921Z"
   },
   {
    "duration": -97067,
    "start_time": "2021-12-23T18:55:32.937Z"
   },
   {
    "duration": -97068,
    "start_time": "2021-12-23T18:55:32.939Z"
   },
   {
    "duration": -97068,
    "start_time": "2021-12-23T18:55:32.940Z"
   },
   {
    "duration": -97069,
    "start_time": "2021-12-23T18:55:32.942Z"
   },
   {
    "duration": -97069,
    "start_time": "2021-12-23T18:55:32.943Z"
   },
   {
    "duration": -97070,
    "start_time": "2021-12-23T18:55:32.945Z"
   },
   {
    "duration": -97070,
    "start_time": "2021-12-23T18:55:32.946Z"
   },
   {
    "duration": -97071,
    "start_time": "2021-12-23T18:55:32.948Z"
   },
   {
    "duration": 86,
    "start_time": "2021-12-23T18:54:28.013Z"
   },
   {
    "duration": 25,
    "start_time": "2021-12-23T18:54:31.002Z"
   },
   {
    "duration": 4,
    "start_time": "2021-12-23T18:54:31.030Z"
   },
   {
    "duration": 34,
    "start_time": "2021-12-23T18:54:31.036Z"
   },
   {
    "duration": 19,
    "start_time": "2021-12-23T18:54:31.072Z"
   },
   {
    "duration": 6,
    "start_time": "2021-12-23T18:54:31.093Z"
   },
   {
    "duration": 40,
    "start_time": "2021-12-23T18:54:31.101Z"
   },
   {
    "duration": 9,
    "start_time": "2021-12-23T18:54:31.144Z"
   },
   {
    "duration": 16,
    "start_time": "2021-12-23T18:54:31.157Z"
   },
   {
    "duration": 25,
    "start_time": "2021-12-23T18:54:31.175Z"
   },
   {
    "duration": 67,
    "start_time": "2021-12-23T18:54:31.202Z"
   },
   {
    "duration": 25,
    "start_time": "2021-12-23T18:54:31.271Z"
   },
   {
    "duration": 12,
    "start_time": "2021-12-23T18:54:31.298Z"
   },
   {
    "duration": 33,
    "start_time": "2021-12-23T18:54:31.313Z"
   },
   {
    "duration": 36,
    "start_time": "2021-12-23T18:54:31.348Z"
   },
   {
    "duration": 17,
    "start_time": "2021-12-23T18:54:31.387Z"
   },
   {
    "duration": 91,
    "start_time": "2021-12-23T18:54:31.406Z"
   },
   {
    "duration": 77,
    "start_time": "2021-12-23T18:54:31.499Z"
   },
   {
    "duration": 219,
    "start_time": "2021-12-23T18:54:31.578Z"
   },
   {
    "duration": 73,
    "start_time": "2021-12-23T18:54:31.799Z"
   },
   {
    "duration": 38,
    "start_time": "2021-12-23T18:54:31.874Z"
   },
   {
    "duration": 37,
    "start_time": "2021-12-23T18:54:31.914Z"
   },
   {
    "duration": 33,
    "start_time": "2021-12-23T18:54:31.954Z"
   },
   {
    "duration": 29,
    "start_time": "2021-12-23T18:54:31.991Z"
   },
   {
    "duration": 5,
    "start_time": "2021-12-23T18:54:32.042Z"
   },
   {
    "duration": 10,
    "start_time": "2021-12-23T18:54:32.049Z"
   },
   {
    "duration": 23,
    "start_time": "2021-12-23T18:54:32.061Z"
   },
   {
    "duration": 9,
    "start_time": "2021-12-23T18:54:32.086Z"
   },
   {
    "duration": 45,
    "start_time": "2021-12-23T18:54:32.097Z"
   },
   {
    "duration": 9,
    "start_time": "2021-12-23T18:54:32.145Z"
   },
   {
    "duration": 2,
    "start_time": "2021-12-23T18:54:32.156Z"
   },
   {
    "duration": 9,
    "start_time": "2021-12-23T18:54:32.160Z"
   },
   {
    "duration": 74,
    "start_time": "2021-12-23T18:54:32.171Z"
   },
   {
    "duration": 688,
    "start_time": "2021-12-23T18:54:32.247Z"
   },
   {
    "duration": 313,
    "start_time": "2021-12-23T18:54:32.941Z"
   },
   {
    "duration": 514,
    "start_time": "2021-12-23T18:55:46.008Z"
   },
   {
    "duration": 309,
    "start_time": "2021-12-23T18:56:54.839Z"
   },
   {
    "duration": 372,
    "start_time": "2021-12-23T18:58:16.584Z"
   },
   {
    "duration": 360,
    "start_time": "2021-12-23T18:58:29.972Z"
   },
   {
    "duration": 348,
    "start_time": "2021-12-23T18:58:53.903Z"
   },
   {
    "duration": 370,
    "start_time": "2021-12-23T18:59:10.882Z"
   },
   {
    "duration": 281,
    "start_time": "2021-12-23T18:59:31.453Z"
   },
   {
    "duration": 366,
    "start_time": "2021-12-23T18:59:40.856Z"
   },
   {
    "duration": 339,
    "start_time": "2021-12-23T18:59:56.504Z"
   },
   {
    "duration": 340,
    "start_time": "2021-12-23T19:00:11.408Z"
   },
   {
    "duration": 433,
    "start_time": "2021-12-23T19:03:50.472Z"
   },
   {
    "duration": 331,
    "start_time": "2021-12-23T19:04:23.856Z"
   },
   {
    "duration": 327,
    "start_time": "2021-12-23T19:04:39.014Z"
   },
   {
    "duration": 298,
    "start_time": "2021-12-23T19:06:08.560Z"
   },
   {
    "duration": 373,
    "start_time": "2021-12-23T19:06:21.710Z"
   },
   {
    "duration": 336,
    "start_time": "2021-12-23T19:15:51.285Z"
   },
   {
    "duration": 294,
    "start_time": "2021-12-23T19:16:50.712Z"
   },
   {
    "duration": 63,
    "start_time": "2021-12-23T19:27:10.638Z"
   },
   {
    "duration": 69,
    "start_time": "2021-12-23T19:27:27.278Z"
   },
   {
    "duration": 24,
    "start_time": "2021-12-23T19:31:34.437Z"
   },
   {
    "duration": 1265,
    "start_time": "2021-12-23T19:31:42.479Z"
   },
   {
    "duration": 125,
    "start_time": "2021-12-23T19:31:43.747Z"
   },
   {
    "duration": 21,
    "start_time": "2021-12-23T19:31:43.875Z"
   },
   {
    "duration": 6,
    "start_time": "2021-12-23T19:31:43.899Z"
   },
   {
    "duration": 64,
    "start_time": "2021-12-23T19:31:43.907Z"
   },
   {
    "duration": 12,
    "start_time": "2021-12-23T19:31:43.973Z"
   },
   {
    "duration": 6,
    "start_time": "2021-12-23T19:31:43.987Z"
   },
   {
    "duration": 54,
    "start_time": "2021-12-23T19:31:43.996Z"
   },
   {
    "duration": 9,
    "start_time": "2021-12-23T19:31:44.054Z"
   },
   {
    "duration": 14,
    "start_time": "2021-12-23T19:31:44.066Z"
   },
   {
    "duration": 24,
    "start_time": "2021-12-23T19:31:44.082Z"
   },
   {
    "duration": 50,
    "start_time": "2021-12-23T19:31:44.110Z"
   },
   {
    "duration": 17,
    "start_time": "2021-12-23T19:31:44.162Z"
   },
   {
    "duration": 23,
    "start_time": "2021-12-23T19:31:44.182Z"
   },
   {
    "duration": 10,
    "start_time": "2021-12-23T19:31:44.207Z"
   },
   {
    "duration": 7,
    "start_time": "2021-12-23T19:31:44.242Z"
   },
   {
    "duration": 18,
    "start_time": "2021-12-23T19:31:44.252Z"
   },
   {
    "duration": 138,
    "start_time": "2021-12-23T19:31:44.272Z"
   },
   {
    "duration": 89,
    "start_time": "2021-12-23T19:31:44.413Z"
   },
   {
    "duration": 261,
    "start_time": "2021-12-23T19:31:44.504Z"
   },
   {
    "duration": 62,
    "start_time": "2021-12-23T19:31:44.768Z"
   },
   {
    "duration": 45,
    "start_time": "2021-12-23T19:31:44.833Z"
   },
   {
    "duration": 28,
    "start_time": "2021-12-23T19:31:44.880Z"
   },
   {
    "duration": 51,
    "start_time": "2021-12-23T19:31:44.911Z"
   },
   {
    "duration": 35,
    "start_time": "2021-12-23T19:31:44.965Z"
   },
   {
    "duration": 7,
    "start_time": "2021-12-23T19:31:45.003Z"
   },
   {
    "duration": 12,
    "start_time": "2021-12-23T19:31:45.044Z"
   },
   {
    "duration": 32,
    "start_time": "2021-12-23T19:31:45.058Z"
   },
   {
    "duration": 8,
    "start_time": "2021-12-23T19:31:45.092Z"
   },
   {
    "duration": 43,
    "start_time": "2021-12-23T19:31:45.102Z"
   },
   {
    "duration": 12,
    "start_time": "2021-12-23T19:31:45.147Z"
   },
   {
    "duration": 4,
    "start_time": "2021-12-23T19:31:45.161Z"
   },
   {
    "duration": 15,
    "start_time": "2021-12-23T19:31:45.167Z"
   },
   {
    "duration": 76,
    "start_time": "2021-12-23T19:31:45.184Z"
   },
   {
    "duration": 435,
    "start_time": "2021-12-23T19:31:45.261Z"
   },
   {
    "duration": 330,
    "start_time": "2021-12-23T19:31:45.699Z"
   },
   {
    "duration": 435,
    "start_time": "2021-12-23T19:31:46.031Z"
   },
   {
    "duration": 56,
    "start_time": "2021-12-23T19:31:46.468Z"
   },
   {
    "duration": 48,
    "start_time": "2021-12-23T19:33:10.016Z"
   },
   {
    "duration": 160,
    "start_time": "2021-12-23T20:00:37.652Z"
   },
   {
    "duration": 7,
    "start_time": "2021-12-23T20:01:14.098Z"
   },
   {
    "duration": 44,
    "start_time": "2021-12-23T20:03:06.302Z"
   },
   {
    "duration": 6,
    "start_time": "2021-12-23T20:03:16.884Z"
   },
   {
    "duration": 6,
    "start_time": "2021-12-23T20:05:14.148Z"
   },
   {
    "duration": 484,
    "start_time": "2021-12-23T20:05:59.725Z"
   },
   {
    "duration": 8,
    "start_time": "2021-12-23T20:06:23.117Z"
   },
   {
    "duration": 7,
    "start_time": "2021-12-23T20:06:55.404Z"
   },
   {
    "duration": 11,
    "start_time": "2021-12-23T20:07:00.134Z"
   },
   {
    "duration": 225,
    "start_time": "2021-12-23T20:19:11.582Z"
   },
   {
    "duration": 242,
    "start_time": "2021-12-23T20:19:34.346Z"
   },
   {
    "duration": 373,
    "start_time": "2021-12-23T20:20:10.154Z"
   },
   {
    "duration": 251,
    "start_time": "2021-12-23T20:22:59.194Z"
   },
   {
    "duration": 339,
    "start_time": "2021-12-23T20:23:19.787Z"
   },
   {
    "duration": 286,
    "start_time": "2021-12-23T20:23:42.893Z"
   },
   {
    "duration": 309,
    "start_time": "2021-12-23T20:24:07.018Z"
   },
   {
    "duration": 324,
    "start_time": "2021-12-23T20:25:30.503Z"
   },
   {
    "duration": 460,
    "start_time": "2021-12-23T20:25:51.751Z"
   },
   {
    "duration": 509,
    "start_time": "2021-12-23T20:26:22.313Z"
   },
   {
    "duration": 380,
    "start_time": "2021-12-23T20:26:36.825Z"
   },
   {
    "duration": 335,
    "start_time": "2021-12-23T20:28:11.258Z"
   },
   {
    "duration": 442,
    "start_time": "2021-12-23T20:28:42.129Z"
   },
   {
    "duration": 565,
    "start_time": "2021-12-23T20:33:22.168Z"
   },
   {
    "duration": 522,
    "start_time": "2021-12-23T20:33:50.170Z"
   },
   {
    "duration": 388,
    "start_time": "2021-12-23T20:34:13.697Z"
   },
   {
    "duration": 356,
    "start_time": "2021-12-23T20:34:27.047Z"
   },
   {
    "duration": 341,
    "start_time": "2021-12-23T20:34:35.072Z"
   },
   {
    "duration": 257,
    "start_time": "2021-12-23T21:10:16.194Z"
   },
   {
    "duration": 382,
    "start_time": "2021-12-23T21:11:09.922Z"
   },
   {
    "duration": 2299,
    "start_time": "2021-12-23T21:11:19.394Z"
   },
   {
    "duration": 364,
    "start_time": "2021-12-23T21:12:20.273Z"
   },
   {
    "duration": 269,
    "start_time": "2021-12-23T21:15:11.537Z"
   },
   {
    "duration": 496,
    "start_time": "2021-12-23T21:15:40.041Z"
   },
   {
    "duration": 5,
    "start_time": "2021-12-23T21:16:45.736Z"
   },
   {
    "duration": 1719,
    "start_time": "2021-12-23T21:33:07.337Z"
   },
   {
    "duration": 1705,
    "start_time": "2021-12-23T21:35:38.535Z"
   },
   {
    "duration": 6,
    "start_time": "2021-12-23T21:35:56.639Z"
   },
   {
    "duration": 14,
    "start_time": "2021-12-23T21:40:05.909Z"
   },
   {
    "duration": 6844,
    "start_time": "2021-12-23T21:40:08.639Z"
   },
   {
    "duration": 270,
    "start_time": "2021-12-23T21:40:47.424Z"
   },
   {
    "duration": 281,
    "start_time": "2021-12-23T21:40:56.901Z"
   },
   {
    "duration": 957,
    "start_time": "2021-12-25T13:59:24.812Z"
   },
   {
    "duration": 481,
    "start_time": "2021-12-25T13:59:25.771Z"
   },
   {
    "duration": 20,
    "start_time": "2021-12-25T13:59:26.254Z"
   },
   {
    "duration": 4,
    "start_time": "2021-12-25T13:59:26.276Z"
   },
   {
    "duration": 30,
    "start_time": "2021-12-25T13:59:26.281Z"
   },
   {
    "duration": 11,
    "start_time": "2021-12-25T13:59:26.313Z"
   },
   {
    "duration": 4,
    "start_time": "2021-12-25T13:59:26.326Z"
   },
   {
    "duration": 43,
    "start_time": "2021-12-25T13:59:26.333Z"
   },
   {
    "duration": 7,
    "start_time": "2021-12-25T13:59:26.378Z"
   },
   {
    "duration": 9,
    "start_time": "2021-12-25T13:59:26.387Z"
   },
   {
    "duration": 19,
    "start_time": "2021-12-25T13:59:26.398Z"
   },
   {
    "duration": 50,
    "start_time": "2021-12-25T13:59:26.418Z"
   },
   {
    "duration": 14,
    "start_time": "2021-12-25T13:59:26.469Z"
   },
   {
    "duration": 11,
    "start_time": "2021-12-25T13:59:26.485Z"
   },
   {
    "duration": 9,
    "start_time": "2021-12-25T13:59:26.497Z"
   },
   {
    "duration": 6,
    "start_time": "2021-12-25T13:59:26.507Z"
   },
   {
    "duration": 9,
    "start_time": "2021-12-25T13:59:26.514Z"
   },
   {
    "duration": 105,
    "start_time": "2021-12-25T13:59:26.524Z"
   },
   {
    "duration": 70,
    "start_time": "2021-12-25T13:59:26.631Z"
   },
   {
    "duration": 172,
    "start_time": "2021-12-25T13:59:26.703Z"
   },
   {
    "duration": 49,
    "start_time": "2021-12-25T13:59:26.877Z"
   },
   {
    "duration": 44,
    "start_time": "2021-12-25T13:59:26.928Z"
   },
   {
    "duration": 18,
    "start_time": "2021-12-25T13:59:26.976Z"
   },
   {
    "duration": 23,
    "start_time": "2021-12-25T13:59:26.996Z"
   },
   {
    "duration": 45,
    "start_time": "2021-12-25T13:59:27.021Z"
   },
   {
    "duration": 6,
    "start_time": "2021-12-25T13:59:27.068Z"
   },
   {
    "duration": 10,
    "start_time": "2021-12-25T13:59:27.075Z"
   },
   {
    "duration": 23,
    "start_time": "2021-12-25T13:59:27.086Z"
   },
   {
    "duration": 6,
    "start_time": "2021-12-25T13:59:27.111Z"
   },
   {
    "duration": 42,
    "start_time": "2021-12-25T13:59:27.119Z"
   },
   {
    "duration": 9,
    "start_time": "2021-12-25T13:59:27.162Z"
   },
   {
    "duration": 3,
    "start_time": "2021-12-25T13:59:27.173Z"
   },
   {
    "duration": 5,
    "start_time": "2021-12-25T13:59:27.177Z"
   },
   {
    "duration": 34,
    "start_time": "2021-12-25T13:59:27.183Z"
   },
   {
    "duration": 294,
    "start_time": "2021-12-25T13:59:27.219Z"
   },
   {
    "duration": 256,
    "start_time": "2021-12-25T13:59:27.514Z"
   },
   {
    "duration": 261,
    "start_time": "2021-12-25T13:59:27.771Z"
   },
   {
    "duration": 45,
    "start_time": "2021-12-25T13:59:28.033Z"
   },
   {
    "duration": 33,
    "start_time": "2021-12-25T13:59:28.080Z"
   },
   {
    "duration": 5,
    "start_time": "2021-12-25T13:59:28.115Z"
   },
   {
    "duration": 6,
    "start_time": "2021-12-25T13:59:28.121Z"
   },
   {
    "duration": 350,
    "start_time": "2021-12-25T13:59:28.129Z"
   },
   {
    "duration": 5,
    "start_time": "2021-12-25T13:59:28.481Z"
   },
   {
    "duration": 22,
    "start_time": "2021-12-25T13:59:28.487Z"
   },
   {
    "duration": 341,
    "start_time": "2021-12-25T13:59:28.511Z"
   },
   {
    "duration": -97144,
    "start_time": "2021-12-25T14:01:05.998Z"
   },
   {
    "duration": 34,
    "start_time": "2021-12-25T14:00:14.941Z"
   },
   {
    "duration": 9,
    "start_time": "2021-12-25T14:09:34.070Z"
   },
   {
    "duration": 361,
    "start_time": "2021-12-25T14:09:36.348Z"
   },
   {
    "duration": 22,
    "start_time": "2021-12-25T14:09:47.557Z"
   },
   {
    "duration": 287,
    "start_time": "2021-12-25T14:11:48.405Z"
   },
   {
    "duration": 29,
    "start_time": "2021-12-25T14:12:39.080Z"
   },
   {
    "duration": 5,
    "start_time": "2021-12-25T14:13:45.570Z"
   },
   {
    "duration": 35,
    "start_time": "2021-12-25T14:18:43.796Z"
   },
   {
    "duration": 35,
    "start_time": "2021-12-25T14:20:49.399Z"
   },
   {
    "duration": 9,
    "start_time": "2021-12-25T14:25:21.059Z"
   },
   {
    "duration": 7,
    "start_time": "2021-12-25T14:26:48.757Z"
   },
   {
    "duration": 7,
    "start_time": "2021-12-25T14:35:30.770Z"
   },
   {
    "duration": 5,
    "start_time": "2021-12-25T14:35:38.490Z"
   },
   {
    "duration": 67,
    "start_time": "2021-12-25T14:54:55.258Z"
   },
   {
    "duration": 2293,
    "start_time": "2021-12-25T14:55:21.150Z"
   },
   {
    "duration": 53,
    "start_time": "2021-12-25T14:55:33.051Z"
   },
   {
    "duration": 9,
    "start_time": "2021-12-25T14:55:48.786Z"
   },
   {
    "duration": 9,
    "start_time": "2021-12-25T14:56:31.074Z"
   },
   {
    "duration": 8,
    "start_time": "2021-12-25T14:57:27.947Z"
   },
   {
    "duration": 8,
    "start_time": "2021-12-25T14:58:13.762Z"
   },
   {
    "duration": 9,
    "start_time": "2021-12-25T15:00:41.905Z"
   },
   {
    "duration": 8,
    "start_time": "2021-12-25T15:03:34.632Z"
   },
   {
    "duration": 8,
    "start_time": "2021-12-25T15:03:47.520Z"
   },
   {
    "duration": 9,
    "start_time": "2021-12-25T15:04:16.696Z"
   },
   {
    "duration": 1025,
    "start_time": "2021-12-25T15:33:41.375Z"
   },
   {
    "duration": 482,
    "start_time": "2021-12-25T15:33:42.402Z"
   },
   {
    "duration": 16,
    "start_time": "2021-12-25T15:33:42.886Z"
   },
   {
    "duration": 3,
    "start_time": "2021-12-25T15:33:42.904Z"
   },
   {
    "duration": 29,
    "start_time": "2021-12-25T15:33:42.908Z"
   },
   {
    "duration": 14,
    "start_time": "2021-12-25T15:33:42.961Z"
   },
   {
    "duration": 9,
    "start_time": "2021-12-25T15:33:42.977Z"
   },
   {
    "duration": 21,
    "start_time": "2021-12-25T15:33:42.987Z"
   },
   {
    "duration": 8,
    "start_time": "2021-12-25T15:33:43.011Z"
   },
   {
    "duration": 9,
    "start_time": "2021-12-25T15:33:43.021Z"
   },
   {
    "duration": 41,
    "start_time": "2021-12-25T15:33:43.032Z"
   },
   {
    "duration": 25,
    "start_time": "2021-12-25T15:33:43.075Z"
   },
   {
    "duration": 14,
    "start_time": "2021-12-25T15:33:43.102Z"
   },
   {
    "duration": 12,
    "start_time": "2021-12-25T15:33:43.118Z"
   },
   {
    "duration": 44,
    "start_time": "2021-12-25T15:33:43.131Z"
   },
   {
    "duration": 9,
    "start_time": "2021-12-25T15:33:43.177Z"
   },
   {
    "duration": 13,
    "start_time": "2021-12-25T15:33:43.187Z"
   },
   {
    "duration": 90,
    "start_time": "2021-12-25T15:33:43.201Z"
   },
   {
    "duration": 67,
    "start_time": "2021-12-25T15:33:43.293Z"
   },
   {
    "duration": 156,
    "start_time": "2021-12-25T15:33:43.368Z"
   },
   {
    "duration": 61,
    "start_time": "2021-12-25T15:33:43.526Z"
   },
   {
    "duration": 29,
    "start_time": "2021-12-25T15:33:43.589Z"
   },
   {
    "duration": 44,
    "start_time": "2021-12-25T15:33:43.620Z"
   },
   {
    "duration": 26,
    "start_time": "2021-12-25T15:33:43.666Z"
   },
   {
    "duration": 25,
    "start_time": "2021-12-25T15:33:43.694Z"
   },
   {
    "duration": 6,
    "start_time": "2021-12-25T15:33:48.800Z"
   },
   {
    "duration": 7,
    "start_time": "2021-12-25T15:33:59.544Z"
   },
   {
    "duration": 1387,
    "start_time": "2021-12-25T15:35:21.767Z"
   },
   {
    "duration": 267,
    "start_time": "2021-12-25T15:36:07.153Z"
   },
   {
    "duration": 1334,
    "start_time": "2021-12-25T15:37:58.206Z"
   },
   {
    "duration": 526,
    "start_time": "2021-12-25T15:40:28.479Z"
   },
   {
    "duration": 439,
    "start_time": "2021-12-25T15:40:51.751Z"
   },
   {
    "duration": 5,
    "start_time": "2021-12-25T15:41:04.896Z"
   },
   {
    "duration": 5,
    "start_time": "2021-12-25T15:42:04.415Z"
   },
   {
    "duration": 5,
    "start_time": "2021-12-25T15:42:43.056Z"
   },
   {
    "duration": 3,
    "start_time": "2021-12-25T15:43:14.384Z"
   },
   {
    "duration": 5,
    "start_time": "2021-12-25T15:44:11.950Z"
   },
   {
    "duration": 266,
    "start_time": "2021-12-25T15:51:23.134Z"
   },
   {
    "duration": 1166,
    "start_time": "2021-12-25T15:51:56.585Z"
   },
   {
    "duration": 573,
    "start_time": "2021-12-25T15:51:59.768Z"
   },
   {
    "duration": 7,
    "start_time": "2021-12-25T15:52:14.010Z"
   },
   {
    "duration": 425,
    "start_time": "2021-12-25T15:52:17.821Z"
   },
   {
    "duration": 3,
    "start_time": "2021-12-25T15:52:18.248Z"
   },
   {
    "duration": 28,
    "start_time": "2021-12-25T15:52:18.253Z"
   },
   {
    "duration": 7,
    "start_time": "2021-12-25T15:52:18.284Z"
   },
   {
    "duration": 32,
    "start_time": "2021-12-25T15:52:18.293Z"
   },
   {
    "duration": 365,
    "start_time": "2021-12-25T15:52:18.327Z"
   },
   {
    "duration": -97060,
    "start_time": "2021-12-25T15:53:55.754Z"
   },
   {
    "duration": 262,
    "start_time": "2021-12-25T15:56:26.033Z"
   },
   {
    "duration": 280,
    "start_time": "2021-12-25T15:57:21.820Z"
   },
   {
    "duration": 322,
    "start_time": "2021-12-25T15:59:44.866Z"
   },
   {
    "duration": 297,
    "start_time": "2021-12-25T16:00:54.004Z"
   },
   {
    "duration": 31,
    "start_time": "2021-12-25T16:01:41.870Z"
   },
   {
    "duration": 267,
    "start_time": "2021-12-25T16:10:25.419Z"
   },
   {
    "duration": 408,
    "start_time": "2021-12-25T16:10:34.002Z"
   },
   {
    "duration": 2,
    "start_time": "2021-12-25T16:10:34.412Z"
   },
   {
    "duration": 15,
    "start_time": "2021-12-25T16:10:34.416Z"
   },
   {
    "duration": 3,
    "start_time": "2021-12-25T16:10:34.432Z"
   },
   {
    "duration": 28,
    "start_time": "2021-12-25T16:10:34.437Z"
   },
   {
    "duration": 8,
    "start_time": "2021-12-25T16:10:34.467Z"
   },
   {
    "duration": 3,
    "start_time": "2021-12-25T16:10:34.477Z"
   },
   {
    "duration": 17,
    "start_time": "2021-12-25T16:10:34.482Z"
   },
   {
    "duration": 7,
    "start_time": "2021-12-25T16:10:34.502Z"
   },
   {
    "duration": 8,
    "start_time": "2021-12-25T16:10:34.511Z"
   },
   {
    "duration": 41,
    "start_time": "2021-12-25T16:10:34.521Z"
   },
   {
    "duration": 20,
    "start_time": "2021-12-25T16:10:34.564Z"
   },
   {
    "duration": 13,
    "start_time": "2021-12-25T16:10:34.586Z"
   },
   {
    "duration": 11,
    "start_time": "2021-12-25T16:10:34.601Z"
   },
   {
    "duration": 8,
    "start_time": "2021-12-25T16:10:34.613Z"
   },
   {
    "duration": 38,
    "start_time": "2021-12-25T16:10:34.623Z"
   },
   {
    "duration": 9,
    "start_time": "2021-12-25T16:10:34.663Z"
   },
   {
    "duration": 79,
    "start_time": "2021-12-25T16:10:34.674Z"
   },
   {
    "duration": 55,
    "start_time": "2021-12-25T16:10:34.755Z"
   },
   {
    "duration": 189,
    "start_time": "2021-12-25T16:10:34.812Z"
   },
   {
    "duration": 66,
    "start_time": "2021-12-25T16:10:35.002Z"
   },
   {
    "duration": 22,
    "start_time": "2021-12-25T16:10:35.070Z"
   },
   {
    "duration": 14,
    "start_time": "2021-12-25T16:10:35.094Z"
   },
   {
    "duration": 27,
    "start_time": "2021-12-25T16:10:35.110Z"
   },
   {
    "duration": 43,
    "start_time": "2021-12-25T16:10:35.139Z"
   },
   {
    "duration": 5,
    "start_time": "2021-12-25T16:10:35.183Z"
   },
   {
    "duration": 9,
    "start_time": "2021-12-25T16:10:35.191Z"
   },
   {
    "duration": 22,
    "start_time": "2021-12-25T16:10:35.201Z"
   },
   {
    "duration": 6,
    "start_time": "2021-12-25T16:10:35.224Z"
   },
   {
    "duration": 10,
    "start_time": "2021-12-25T16:10:35.260Z"
   },
   {
    "duration": 11,
    "start_time": "2021-12-25T16:10:35.272Z"
   },
   {
    "duration": 3,
    "start_time": "2021-12-25T16:10:35.285Z"
   },
   {
    "duration": 6,
    "start_time": "2021-12-25T16:10:35.290Z"
   },
   {
    "duration": 15,
    "start_time": "2021-12-25T16:10:38.971Z"
   },
   {
    "duration": 9,
    "start_time": "2021-12-25T16:11:14.128Z"
   },
   {
    "duration": 1140,
    "start_time": "2021-12-25T16:28:06.073Z"
   },
   {
    "duration": 503,
    "start_time": "2021-12-25T16:28:07.215Z"
   },
   {
    "duration": 16,
    "start_time": "2021-12-25T16:28:07.721Z"
   },
   {
    "duration": 25,
    "start_time": "2021-12-25T16:28:07.739Z"
   },
   {
    "duration": 45,
    "start_time": "2021-12-25T16:28:07.767Z"
   },
   {
    "duration": 11,
    "start_time": "2021-12-25T16:28:07.814Z"
   },
   {
    "duration": 20,
    "start_time": "2021-12-25T16:28:07.827Z"
   },
   {
    "duration": 41,
    "start_time": "2021-12-25T16:28:07.848Z"
   },
   {
    "duration": 8,
    "start_time": "2021-12-25T16:28:07.892Z"
   },
   {
    "duration": 23,
    "start_time": "2021-12-25T16:28:07.902Z"
   },
   {
    "duration": 23,
    "start_time": "2021-12-25T16:28:07.926Z"
   },
   {
    "duration": 32,
    "start_time": "2021-12-25T16:28:07.951Z"
   },
   {
    "duration": 14,
    "start_time": "2021-12-25T16:28:07.985Z"
   },
   {
    "duration": 10,
    "start_time": "2021-12-25T16:28:08.001Z"
   },
   {
    "duration": 9,
    "start_time": "2021-12-25T16:28:08.013Z"
   },
   {
    "duration": 5,
    "start_time": "2021-12-25T16:28:08.024Z"
   },
   {
    "duration": 38,
    "start_time": "2021-12-25T16:28:08.031Z"
   },
   {
    "duration": 78,
    "start_time": "2021-12-25T16:28:08.072Z"
   },
   {
    "duration": 66,
    "start_time": "2021-12-25T16:28:08.161Z"
   },
   {
    "duration": 206,
    "start_time": "2021-12-25T16:28:08.229Z"
   },
   {
    "duration": 70,
    "start_time": "2021-12-25T16:28:08.437Z"
   },
   {
    "duration": 29,
    "start_time": "2021-12-25T16:28:08.509Z"
   },
   {
    "duration": 48,
    "start_time": "2021-12-25T16:28:08.540Z"
   },
   {
    "duration": 24,
    "start_time": "2021-12-25T16:28:08.589Z"
   },
   {
    "duration": 5,
    "start_time": "2021-12-25T16:28:08.616Z"
   },
   {
    "duration": 24,
    "start_time": "2021-12-25T16:28:08.623Z"
   },
   {
    "duration": 38,
    "start_time": "2021-12-25T16:28:08.650Z"
   },
   {
    "duration": 8,
    "start_time": "2021-12-25T16:28:08.690Z"
   },
   {
    "duration": 13,
    "start_time": "2021-12-25T16:28:08.701Z"
   },
   {
    "duration": 8,
    "start_time": "2021-12-25T16:28:08.716Z"
   },
   {
    "duration": 35,
    "start_time": "2021-12-25T16:28:08.726Z"
   },
   {
    "duration": 5,
    "start_time": "2021-12-25T16:28:08.765Z"
   },
   {
    "duration": 18,
    "start_time": "2021-12-25T16:28:08.772Z"
   },
   {
    "duration": 328,
    "start_time": "2021-12-25T16:28:08.793Z"
   },
   {
    "duration": 284,
    "start_time": "2021-12-25T16:28:09.123Z"
   },
   {
    "duration": 303,
    "start_time": "2021-12-25T16:28:09.408Z"
   },
   {
    "duration": 58,
    "start_time": "2021-12-25T16:28:09.713Z"
   },
   {
    "duration": 38,
    "start_time": "2021-12-25T16:28:09.775Z"
   },
   {
    "duration": 4,
    "start_time": "2021-12-25T16:28:09.815Z"
   },
   {
    "duration": 7,
    "start_time": "2021-12-25T16:28:09.821Z"
   },
   {
    "duration": 407,
    "start_time": "2021-12-25T16:28:09.830Z"
   },
   {
    "duration": 6,
    "start_time": "2021-12-25T16:28:10.239Z"
   },
   {
    "duration": 34,
    "start_time": "2021-12-25T16:28:10.247Z"
   },
   {
    "duration": 28,
    "start_time": "2021-12-25T16:28:10.283Z"
   },
   {
    "duration": 24,
    "start_time": "2021-12-25T16:28:10.314Z"
   },
   {
    "duration": 12,
    "start_time": "2021-12-25T16:31:30.064Z"
   },
   {
    "duration": 7,
    "start_time": "2021-12-25T16:31:35.668Z"
   },
   {
    "duration": 966,
    "start_time": "2021-12-25T16:32:09.217Z"
   },
   {
    "duration": 463,
    "start_time": "2021-12-25T16:32:10.185Z"
   },
   {
    "duration": 10,
    "start_time": "2021-12-25T16:32:10.650Z"
   },
   {
    "duration": 12,
    "start_time": "2021-12-25T16:32:10.662Z"
   },
   {
    "duration": 5,
    "start_time": "2021-12-25T16:32:10.676Z"
   },
   {
    "duration": 26,
    "start_time": "2021-12-25T16:32:10.682Z"
   },
   {
    "duration": 10,
    "start_time": "2021-12-25T16:32:10.710Z"
   },
   {
    "duration": 4,
    "start_time": "2021-12-25T16:32:10.723Z"
   },
   {
    "duration": 47,
    "start_time": "2021-12-25T16:32:10.729Z"
   },
   {
    "duration": 7,
    "start_time": "2021-12-25T16:32:10.778Z"
   },
   {
    "duration": 13,
    "start_time": "2021-12-25T16:32:10.787Z"
   },
   {
    "duration": 19,
    "start_time": "2021-12-25T16:32:10.802Z"
   },
   {
    "duration": 46,
    "start_time": "2021-12-25T16:32:10.823Z"
   },
   {
    "duration": 14,
    "start_time": "2021-12-25T16:32:10.871Z"
   },
   {
    "duration": 12,
    "start_time": "2021-12-25T16:32:10.887Z"
   },
   {
    "duration": 11,
    "start_time": "2021-12-25T16:32:10.900Z"
   },
   {
    "duration": 13,
    "start_time": "2021-12-25T16:32:10.912Z"
   },
   {
    "duration": 21,
    "start_time": "2021-12-25T16:32:10.926Z"
   },
   {
    "duration": 77,
    "start_time": "2021-12-25T16:32:10.949Z"
   },
   {
    "duration": 69,
    "start_time": "2021-12-25T16:32:11.028Z"
   },
   {
    "duration": 162,
    "start_time": "2021-12-25T16:32:11.098Z"
   },
   {
    "duration": 48,
    "start_time": "2021-12-25T16:32:11.262Z"
   },
   {
    "duration": 27,
    "start_time": "2021-12-25T16:32:11.313Z"
   },
   {
    "duration": 21,
    "start_time": "2021-12-25T16:32:11.360Z"
   },
   {
    "duration": 22,
    "start_time": "2021-12-25T16:32:11.383Z"
   },
   {
    "duration": 5,
    "start_time": "2021-12-25T16:32:11.407Z"
   },
   {
    "duration": 9,
    "start_time": "2021-12-25T16:32:11.414Z"
   },
   {
    "duration": 47,
    "start_time": "2021-12-25T16:32:11.425Z"
   },
   {
    "duration": 8,
    "start_time": "2021-12-25T16:32:11.474Z"
   },
   {
    "duration": 9,
    "start_time": "2021-12-25T16:32:11.484Z"
   },
   {
    "duration": 8,
    "start_time": "2021-12-25T16:32:11.494Z"
   },
   {
    "duration": 2,
    "start_time": "2021-12-25T16:32:11.503Z"
   },
   {
    "duration": 6,
    "start_time": "2021-12-25T16:32:11.507Z"
   },
   {
    "duration": 11,
    "start_time": "2021-12-25T16:32:11.514Z"
   },
   {
    "duration": 275,
    "start_time": "2021-12-25T16:32:11.561Z"
   },
   {
    "duration": 268,
    "start_time": "2021-12-25T16:32:11.838Z"
   },
   {
    "duration": 257,
    "start_time": "2021-12-25T16:32:12.107Z"
   },
   {
    "duration": 34,
    "start_time": "2021-12-25T16:32:12.366Z"
   },
   {
    "duration": 33,
    "start_time": "2021-12-25T16:32:12.401Z"
   },
   {
    "duration": 28,
    "start_time": "2021-12-25T16:32:12.435Z"
   },
   {
    "duration": 7,
    "start_time": "2021-12-25T16:32:12.465Z"
   },
   {
    "duration": 326,
    "start_time": "2021-12-25T16:32:12.473Z"
   },
   {
    "duration": 4,
    "start_time": "2021-12-25T16:32:12.801Z"
   },
   {
    "duration": 9,
    "start_time": "2021-12-25T16:32:12.807Z"
   },
   {
    "duration": 9,
    "start_time": "2021-12-25T16:32:12.817Z"
   },
   {
    "duration": 7,
    "start_time": "2021-12-25T16:32:12.827Z"
   },
   {
    "duration": 6,
    "start_time": "2021-12-25T16:50:12.986Z"
   },
   {
    "duration": 13,
    "start_time": "2021-12-25T16:50:22.879Z"
   },
   {
    "duration": 8,
    "start_time": "2021-12-25T16:51:02.162Z"
   },
   {
    "duration": 8341,
    "start_time": "2021-12-25T16:51:53.392Z"
   },
   {
    "duration": 6,
    "start_time": "2021-12-25T16:52:24.590Z"
   },
   {
    "duration": 6,
    "start_time": "2021-12-25T16:52:30.174Z"
   },
   {
    "duration": 1086,
    "start_time": "2021-12-25T16:54:05.350Z"
   },
   {
    "duration": 513,
    "start_time": "2021-12-25T16:54:06.438Z"
   },
   {
    "duration": 16,
    "start_time": "2021-12-25T16:54:06.954Z"
   },
   {
    "duration": 28,
    "start_time": "2021-12-25T16:54:06.975Z"
   },
   {
    "duration": 6,
    "start_time": "2021-12-25T16:54:07.005Z"
   },
   {
    "duration": 34,
    "start_time": "2021-12-25T16:54:07.012Z"
   },
   {
    "duration": 22,
    "start_time": "2021-12-25T16:54:07.048Z"
   },
   {
    "duration": 11,
    "start_time": "2021-12-25T16:54:07.073Z"
   },
   {
    "duration": 30,
    "start_time": "2021-12-25T16:54:07.086Z"
   },
   {
    "duration": 9,
    "start_time": "2021-12-25T16:54:07.118Z"
   },
   {
    "duration": 12,
    "start_time": "2021-12-25T16:54:07.129Z"
   },
   {
    "duration": 53,
    "start_time": "2021-12-25T16:54:07.143Z"
   },
   {
    "duration": 31,
    "start_time": "2021-12-25T16:54:07.198Z"
   },
   {
    "duration": 19,
    "start_time": "2021-12-25T16:54:07.231Z"
   },
   {
    "duration": 17,
    "start_time": "2021-12-25T16:54:07.251Z"
   },
   {
    "duration": 16,
    "start_time": "2021-12-25T16:54:07.270Z"
   },
   {
    "duration": 13,
    "start_time": "2021-12-25T16:54:07.288Z"
   },
   {
    "duration": 14,
    "start_time": "2021-12-25T16:54:07.303Z"
   },
   {
    "duration": 89,
    "start_time": "2021-12-25T16:54:07.319Z"
   },
   {
    "duration": 76,
    "start_time": "2021-12-25T16:54:07.410Z"
   },
   {
    "duration": 193,
    "start_time": "2021-12-25T16:54:07.487Z"
   },
   {
    "duration": 53,
    "start_time": "2021-12-25T16:54:07.682Z"
   },
   {
    "duration": 47,
    "start_time": "2021-12-25T16:54:07.739Z"
   },
   {
    "duration": 25,
    "start_time": "2021-12-25T16:54:07.788Z"
   },
   {
    "duration": 48,
    "start_time": "2021-12-25T16:54:07.815Z"
   },
   {
    "duration": 10,
    "start_time": "2021-12-25T16:54:07.866Z"
   },
   {
    "duration": 21,
    "start_time": "2021-12-25T16:54:07.881Z"
   },
   {
    "duration": 22,
    "start_time": "2021-12-25T16:54:07.904Z"
   },
   {
    "duration": 7,
    "start_time": "2021-12-25T16:54:07.928Z"
   },
   {
    "duration": 10,
    "start_time": "2021-12-25T16:54:07.936Z"
   },
   {
    "duration": 12,
    "start_time": "2021-12-25T16:54:07.968Z"
   },
   {
    "duration": 6,
    "start_time": "2021-12-25T16:54:07.982Z"
   },
   {
    "duration": 7,
    "start_time": "2021-12-25T16:54:07.990Z"
   },
   {
    "duration": 12,
    "start_time": "2021-12-25T16:54:07.999Z"
   },
   {
    "duration": 406,
    "start_time": "2021-12-25T16:54:08.013Z"
   },
   {
    "duration": 370,
    "start_time": "2021-12-25T16:54:08.421Z"
   },
   {
    "duration": 337,
    "start_time": "2021-12-25T16:54:08.794Z"
   },
   {
    "duration": 57,
    "start_time": "2021-12-25T16:54:09.133Z"
   },
   {
    "duration": 41,
    "start_time": "2021-12-25T16:54:09.192Z"
   },
   {
    "duration": 6,
    "start_time": "2021-12-25T16:54:09.235Z"
   },
   {
    "duration": 21,
    "start_time": "2021-12-25T16:54:09.243Z"
   },
   {
    "duration": 453,
    "start_time": "2021-12-25T16:54:09.268Z"
   },
   {
    "duration": 6,
    "start_time": "2021-12-25T16:54:09.723Z"
   },
   {
    "duration": 9,
    "start_time": "2021-12-25T16:54:09.731Z"
   },
   {
    "duration": 34,
    "start_time": "2021-12-25T16:54:09.742Z"
   },
   {
    "duration": 17,
    "start_time": "2021-12-25T16:54:09.782Z"
   },
   {
    "duration": 1338,
    "start_time": "2021-12-26T15:40:39.211Z"
   },
   {
    "duration": 621,
    "start_time": "2021-12-26T15:40:40.551Z"
   },
   {
    "duration": 10,
    "start_time": "2021-12-26T15:40:41.175Z"
   },
   {
    "duration": 27,
    "start_time": "2021-12-26T15:40:41.188Z"
   },
   {
    "duration": 10,
    "start_time": "2021-12-26T15:40:41.217Z"
   },
   {
    "duration": 38,
    "start_time": "2021-12-26T15:40:41.229Z"
   },
   {
    "duration": 16,
    "start_time": "2021-12-26T15:40:41.270Z"
   },
   {
    "duration": 6,
    "start_time": "2021-12-26T15:40:41.290Z"
   },
   {
    "duration": 28,
    "start_time": "2021-12-26T15:40:41.299Z"
   },
   {
    "duration": 14,
    "start_time": "2021-12-26T15:40:41.330Z"
   },
   {
    "duration": 12,
    "start_time": "2021-12-26T15:40:41.346Z"
   },
   {
    "duration": 27,
    "start_time": "2021-12-26T15:40:41.360Z"
   },
   {
    "duration": 34,
    "start_time": "2021-12-26T15:40:41.390Z"
   },
   {
    "duration": 18,
    "start_time": "2021-12-26T15:40:41.427Z"
   },
   {
    "duration": 16,
    "start_time": "2021-12-26T15:40:41.448Z"
   },
   {
    "duration": 12,
    "start_time": "2021-12-26T15:40:41.467Z"
   },
   {
    "duration": 14,
    "start_time": "2021-12-26T15:40:41.481Z"
   },
   {
    "duration": 17,
    "start_time": "2021-12-26T15:40:41.497Z"
   },
   {
    "duration": 107,
    "start_time": "2021-12-26T15:40:41.516Z"
   },
   {
    "duration": 108,
    "start_time": "2021-12-26T15:40:41.626Z"
   },
   {
    "duration": 288,
    "start_time": "2021-12-26T15:40:41.736Z"
   },
   {
    "duration": 111,
    "start_time": "2021-12-26T15:40:42.027Z"
   },
   {
    "duration": 93,
    "start_time": "2021-12-26T15:40:42.144Z"
   },
   {
    "duration": 29,
    "start_time": "2021-12-26T15:40:42.240Z"
   },
   {
    "duration": 30,
    "start_time": "2021-12-26T15:40:42.271Z"
   },
   {
    "duration": 8,
    "start_time": "2021-12-26T15:40:42.304Z"
   },
   {
    "duration": 9,
    "start_time": "2021-12-26T15:40:42.324Z"
   },
   {
    "duration": 29,
    "start_time": "2021-12-26T15:40:42.335Z"
   },
   {
    "duration": 9,
    "start_time": "2021-12-26T15:40:42.366Z"
   },
   {
    "duration": 14,
    "start_time": "2021-12-26T15:40:42.378Z"
   },
   {
    "duration": 28,
    "start_time": "2021-12-26T15:40:42.395Z"
   },
   {
    "duration": 3,
    "start_time": "2021-12-26T15:40:42.425Z"
   },
   {
    "duration": 534,
    "start_time": "2021-12-26T15:40:42.430Z"
   },
   {
    "duration": -2156,
    "start_time": "2021-12-26T15:40:45.122Z"
   },
   {
    "duration": -2158,
    "start_time": "2021-12-26T15:40:45.126Z"
   },
   {
    "duration": -2159,
    "start_time": "2021-12-26T15:40:45.129Z"
   },
   {
    "duration": -2158,
    "start_time": "2021-12-26T15:40:45.130Z"
   },
   {
    "duration": -2160,
    "start_time": "2021-12-26T15:40:45.133Z"
   },
   {
    "duration": -2164,
    "start_time": "2021-12-26T15:40:45.139Z"
   },
   {
    "duration": -2167,
    "start_time": "2021-12-26T15:40:45.143Z"
   },
   {
    "duration": -2201,
    "start_time": "2021-12-26T15:40:45.179Z"
   },
   {
    "duration": -2203,
    "start_time": "2021-12-26T15:40:45.183Z"
   },
   {
    "duration": -2202,
    "start_time": "2021-12-26T15:40:45.184Z"
   },
   {
    "duration": -2201,
    "start_time": "2021-12-26T15:40:45.185Z"
   },
   {
    "duration": -2201,
    "start_time": "2021-12-26T15:40:45.186Z"
   },
   {
    "duration": -2165,
    "start_time": "2021-12-26T15:40:45.188Z"
   },
   {
    "duration": 362,
    "start_time": "2021-12-26T15:52:58.383Z"
   },
   {
    "duration": 369,
    "start_time": "2021-12-26T15:53:04.947Z"
   },
   {
    "duration": 6,
    "start_time": "2021-12-26T15:53:23.353Z"
   },
   {
    "duration": 6,
    "start_time": "2021-12-26T15:54:01.143Z"
   },
   {
    "duration": 396,
    "start_time": "2021-12-26T15:55:09.177Z"
   },
   {
    "duration": 6,
    "start_time": "2021-12-26T15:55:15.479Z"
   },
   {
    "duration": 6,
    "start_time": "2021-12-26T16:07:37.209Z"
   },
   {
    "duration": 7,
    "start_time": "2021-12-26T16:08:12.251Z"
   },
   {
    "duration": 7,
    "start_time": "2021-12-26T16:08:42.563Z"
   },
   {
    "duration": 5,
    "start_time": "2021-12-26T16:10:17.467Z"
   },
   {
    "duration": 6,
    "start_time": "2021-12-26T16:10:28.267Z"
   },
   {
    "duration": 7,
    "start_time": "2021-12-26T16:10:31.357Z"
   },
   {
    "duration": 33,
    "start_time": "2021-12-26T16:15:26.172Z"
   },
   {
    "duration": 440,
    "start_time": "2021-12-26T16:21:37.489Z"
   },
   {
    "duration": 561,
    "start_time": "2021-12-26T16:21:37.933Z"
   },
   {
    "duration": 428,
    "start_time": "2021-12-26T16:21:38.498Z"
   },
   {
    "duration": 53,
    "start_time": "2021-12-26T16:21:38.929Z"
   },
   {
    "duration": 68,
    "start_time": "2021-12-26T16:21:38.985Z"
   },
   {
    "duration": 16270,
    "start_time": "2021-12-26T16:21:39.055Z"
   },
   {
    "duration": -2239,
    "start_time": "2021-12-26T16:21:57.568Z"
   },
   {
    "duration": -2239,
    "start_time": "2021-12-26T16:21:57.570Z"
   },
   {
    "duration": -2238,
    "start_time": "2021-12-26T16:21:57.571Z"
   },
   {
    "duration": -2238,
    "start_time": "2021-12-26T16:21:57.573Z"
   },
   {
    "duration": -2237,
    "start_time": "2021-12-26T16:21:57.574Z"
   },
   {
    "duration": -2236,
    "start_time": "2021-12-26T16:21:57.575Z"
   },
   {
    "duration": 469,
    "start_time": "2021-12-26T16:22:19.708Z"
   },
   {
    "duration": 10869,
    "start_time": "2021-12-26T16:23:50.300Z"
   },
   {
    "duration": -2251,
    "start_time": "2021-12-26T16:24:03.423Z"
   },
   {
    "duration": 9529,
    "start_time": "2021-12-26T16:24:14.977Z"
   },
   {
    "duration": 433,
    "start_time": "2021-12-26T19:35:40.782Z"
   },
   {
    "duration": 1327,
    "start_time": "2021-12-26T19:35:47.214Z"
   },
   {
    "duration": 673,
    "start_time": "2021-12-26T19:35:48.545Z"
   },
   {
    "duration": 10,
    "start_time": "2021-12-26T19:35:49.221Z"
   },
   {
    "duration": 36,
    "start_time": "2021-12-26T19:35:49.233Z"
   },
   {
    "duration": 4,
    "start_time": "2021-12-26T19:35:49.272Z"
   },
   {
    "duration": 37,
    "start_time": "2021-12-26T19:35:49.278Z"
   },
   {
    "duration": 440,
    "start_time": "2021-12-26T19:35:49.317Z"
   },
   {
    "duration": 401,
    "start_time": "2021-12-26T19:35:53.985Z"
   },
   {
    "duration": 463,
    "start_time": "2021-12-26T19:37:25.337Z"
   },
   {
    "duration": 15,
    "start_time": "2021-12-26T19:40:11.250Z"
   },
   {
    "duration": 5,
    "start_time": "2021-12-26T19:40:28.521Z"
   },
   {
    "duration": 6,
    "start_time": "2021-12-26T19:40:33.609Z"
   },
   {
    "duration": 4,
    "start_time": "2021-12-26T19:41:06.570Z"
   },
   {
    "duration": 5,
    "start_time": "2021-12-26T19:58:54.584Z"
   },
   {
    "duration": 101,
    "start_time": "2021-12-26T20:02:11.531Z"
   },
   {
    "duration": 1303,
    "start_time": "2021-12-26T20:02:54.242Z"
   },
   {
    "duration": 567,
    "start_time": "2021-12-26T20:02:55.548Z"
   },
   {
    "duration": 10,
    "start_time": "2021-12-26T20:02:56.119Z"
   },
   {
    "duration": 41,
    "start_time": "2021-12-26T20:02:56.132Z"
   },
   {
    "duration": 7,
    "start_time": "2021-12-26T20:02:56.176Z"
   },
   {
    "duration": 40,
    "start_time": "2021-12-26T20:03:01.700Z"
   },
   {
    "duration": 97,
    "start_time": "2021-12-26T20:03:13.548Z"
   },
   {
    "duration": 8,
    "start_time": "2021-12-26T20:06:59.457Z"
   },
   {
    "duration": 15,
    "start_time": "2021-12-26T20:10:44.804Z"
   },
   {
    "duration": 1334,
    "start_time": "2021-12-26T20:15:04.041Z"
   },
   {
    "duration": 637,
    "start_time": "2021-12-26T20:15:05.378Z"
   },
   {
    "duration": 10,
    "start_time": "2021-12-26T20:15:06.018Z"
   },
   {
    "duration": 33,
    "start_time": "2021-12-26T20:15:06.031Z"
   },
   {
    "duration": 6,
    "start_time": "2021-12-26T20:15:06.067Z"
   },
   {
    "duration": 37,
    "start_time": "2021-12-26T20:15:06.076Z"
   },
   {
    "duration": 4,
    "start_time": "2021-12-26T20:15:06.116Z"
   },
   {
    "duration": 39,
    "start_time": "2021-12-26T20:15:06.122Z"
   },
   {
    "duration": 6,
    "start_time": "2021-12-26T20:15:06.167Z"
   },
   {
    "duration": 18,
    "start_time": "2021-12-26T20:15:06.177Z"
   },
   {
    "duration": 7,
    "start_time": "2021-12-26T20:15:06.198Z"
   },
   {
    "duration": 71,
    "start_time": "2021-12-26T20:15:06.208Z"
   },
   {
    "duration": 11,
    "start_time": "2021-12-26T20:15:06.282Z"
   },
   {
    "duration": 11,
    "start_time": "2021-12-26T20:15:06.296Z"
   },
   {
    "duration": 52,
    "start_time": "2021-12-26T20:15:06.310Z"
   },
   {
    "duration": 35,
    "start_time": "2021-12-26T20:15:06.364Z"
   },
   {
    "duration": 18,
    "start_time": "2021-12-26T20:15:06.402Z"
   },
   {
    "duration": 42,
    "start_time": "2021-12-26T20:15:06.423Z"
   },
   {
    "duration": 12,
    "start_time": "2021-12-26T20:15:06.468Z"
   },
   {
    "duration": 8,
    "start_time": "2021-12-26T20:15:06.482Z"
   },
   {
    "duration": 14,
    "start_time": "2021-12-26T20:15:06.492Z"
   },
   {
    "duration": 136,
    "start_time": "2021-12-26T20:15:06.508Z"
   },
   {
    "duration": 84,
    "start_time": "2021-12-26T20:15:06.647Z"
   },
   {
    "duration": 249,
    "start_time": "2021-12-26T20:15:06.733Z"
   },
   {
    "duration": 82,
    "start_time": "2021-12-26T20:15:06.984Z"
   },
   {
    "duration": 37,
    "start_time": "2021-12-26T20:15:07.069Z"
   },
   {
    "duration": 53,
    "start_time": "2021-12-26T20:15:07.112Z"
   },
   {
    "duration": 34,
    "start_time": "2021-12-26T20:15:07.168Z"
   },
   {
    "duration": 8,
    "start_time": "2021-12-26T20:15:07.204Z"
   },
   {
    "duration": 13,
    "start_time": "2021-12-26T20:15:07.215Z"
   },
   {
    "duration": 34,
    "start_time": "2021-12-26T20:15:07.258Z"
   },
   {
    "duration": 9,
    "start_time": "2021-12-26T20:15:07.295Z"
   },
   {
    "duration": 15,
    "start_time": "2021-12-26T20:15:07.307Z"
   },
   {
    "duration": 46,
    "start_time": "2021-12-26T20:15:07.324Z"
   },
   {
    "duration": 3,
    "start_time": "2021-12-26T20:15:07.373Z"
   },
   {
    "duration": 506,
    "start_time": "2021-12-26T20:15:07.378Z"
   },
   {
    "duration": -97556,
    "start_time": "2021-12-26T20:16:45.443Z"
   },
   {
    "duration": -97558,
    "start_time": "2021-12-26T20:16:45.446Z"
   },
   {
    "duration": -97562,
    "start_time": "2021-12-26T20:16:45.452Z"
   },
   {
    "duration": -97563,
    "start_time": "2021-12-26T20:16:45.455Z"
   },
   {
    "duration": -97564,
    "start_time": "2021-12-26T20:16:45.457Z"
   },
   {
    "duration": -97565,
    "start_time": "2021-12-26T20:16:45.460Z"
   },
   {
    "duration": -97566,
    "start_time": "2021-12-26T20:16:45.462Z"
   },
   {
    "duration": -97567,
    "start_time": "2021-12-26T20:16:45.465Z"
   },
   {
    "duration": -97567,
    "start_time": "2021-12-26T20:16:45.466Z"
   },
   {
    "duration": -97567,
    "start_time": "2021-12-26T20:16:45.468Z"
   },
   {
    "duration": -97568,
    "start_time": "2021-12-26T20:16:45.470Z"
   },
   {
    "duration": -97568,
    "start_time": "2021-12-26T20:16:45.472Z"
   },
   {
    "duration": -97571,
    "start_time": "2021-12-26T20:16:45.476Z"
   },
   {
    "duration": 1397,
    "start_time": "2021-12-26T20:18:12.660Z"
   },
   {
    "duration": 608,
    "start_time": "2021-12-26T20:18:14.059Z"
   },
   {
    "duration": 11,
    "start_time": "2021-12-26T20:18:14.670Z"
   },
   {
    "duration": 20,
    "start_time": "2021-12-26T20:18:14.684Z"
   },
   {
    "duration": 13,
    "start_time": "2021-12-26T20:18:14.707Z"
   },
   {
    "duration": 64,
    "start_time": "2021-12-26T20:18:14.723Z"
   },
   {
    "duration": 3,
    "start_time": "2021-12-26T20:18:14.791Z"
   },
   {
    "duration": 12,
    "start_time": "2021-12-26T20:18:14.801Z"
   },
   {
    "duration": 7,
    "start_time": "2021-12-26T20:18:14.817Z"
   },
   {
    "duration": 42,
    "start_time": "2021-12-26T20:18:14.826Z"
   },
   {
    "duration": 6,
    "start_time": "2021-12-26T20:18:14.870Z"
   },
   {
    "duration": 23,
    "start_time": "2021-12-26T20:18:14.879Z"
   },
   {
    "duration": 12,
    "start_time": "2021-12-26T20:18:14.905Z"
   },
   {
    "duration": 51,
    "start_time": "2021-12-26T20:18:14.920Z"
   },
   {
    "duration": 28,
    "start_time": "2021-12-26T20:18:14.974Z"
   },
   {
    "duration": 70,
    "start_time": "2021-12-26T20:18:15.004Z"
   },
   {
    "duration": 20,
    "start_time": "2021-12-26T20:18:15.077Z"
   },
   {
    "duration": 17,
    "start_time": "2021-12-26T20:18:15.099Z"
   },
   {
    "duration": 42,
    "start_time": "2021-12-26T20:18:15.118Z"
   },
   {
    "duration": 5,
    "start_time": "2021-12-26T20:18:15.163Z"
   },
   {
    "duration": 14,
    "start_time": "2021-12-26T20:18:15.171Z"
   },
   {
    "duration": 128,
    "start_time": "2021-12-26T20:18:15.187Z"
   },
   {
    "duration": 91,
    "start_time": "2021-12-26T20:18:15.320Z"
   },
   {
    "duration": 267,
    "start_time": "2021-12-26T20:18:15.414Z"
   },
   {
    "duration": 90,
    "start_time": "2021-12-26T20:18:15.684Z"
   },
   {
    "duration": 41,
    "start_time": "2021-12-26T20:18:15.776Z"
   },
   {
    "duration": 47,
    "start_time": "2021-12-26T20:18:15.819Z"
   },
   {
    "duration": 33,
    "start_time": "2021-12-26T20:18:15.869Z"
   },
   {
    "duration": 8,
    "start_time": "2021-12-26T20:18:15.904Z"
   },
   {
    "duration": 11,
    "start_time": "2021-12-26T20:18:15.915Z"
   },
   {
    "duration": 32,
    "start_time": "2021-12-26T20:18:15.960Z"
   },
   {
    "duration": 8,
    "start_time": "2021-12-26T20:18:15.995Z"
   },
   {
    "duration": 15,
    "start_time": "2021-12-26T20:18:16.006Z"
   },
   {
    "duration": 12,
    "start_time": "2021-12-26T20:18:16.060Z"
   },
   {
    "duration": 3,
    "start_time": "2021-12-26T20:18:16.075Z"
   },
   {
    "duration": 628,
    "start_time": "2021-12-26T20:18:16.081Z"
   },
   {
    "duration": -97548,
    "start_time": "2021-12-26T20:19:54.259Z"
   },
   {
    "duration": -97550,
    "start_time": "2021-12-26T20:19:54.262Z"
   },
   {
    "duration": -97550,
    "start_time": "2021-12-26T20:19:54.264Z"
   },
   {
    "duration": -97631,
    "start_time": "2021-12-26T20:19:54.347Z"
   },
   {
    "duration": -97641,
    "start_time": "2021-12-26T20:19:54.360Z"
   },
   {
    "duration": -97643,
    "start_time": "2021-12-26T20:19:54.364Z"
   },
   {
    "duration": -97647,
    "start_time": "2021-12-26T20:19:54.370Z"
   },
   {
    "duration": -97647,
    "start_time": "2021-12-26T20:19:54.373Z"
   },
   {
    "duration": -97649,
    "start_time": "2021-12-26T20:19:54.377Z"
   },
   {
    "duration": -97650,
    "start_time": "2021-12-26T20:19:54.380Z"
   },
   {
    "duration": -97650,
    "start_time": "2021-12-26T20:19:54.383Z"
   },
   {
    "duration": -97651,
    "start_time": "2021-12-26T20:19:54.386Z"
   },
   {
    "duration": -97652,
    "start_time": "2021-12-26T20:19:54.389Z"
   },
   {
    "duration": 8,
    "start_time": "2021-12-26T20:19:16.898Z"
   },
   {
    "duration": 7,
    "start_time": "2021-12-26T20:21:18.378Z"
   },
   {
    "duration": 1305,
    "start_time": "2021-12-26T20:35:13.890Z"
   },
   {
    "duration": 620,
    "start_time": "2021-12-26T20:35:15.198Z"
   },
   {
    "duration": 11,
    "start_time": "2021-12-26T20:35:15.821Z"
   },
   {
    "duration": 34,
    "start_time": "2021-12-26T20:35:15.835Z"
   },
   {
    "duration": 6,
    "start_time": "2021-12-26T20:35:15.871Z"
   },
   {
    "duration": 38,
    "start_time": "2021-12-26T20:35:15.879Z"
   },
   {
    "duration": 3,
    "start_time": "2021-12-26T20:35:15.920Z"
   },
   {
    "duration": 35,
    "start_time": "2021-12-26T20:35:15.925Z"
   },
   {
    "duration": 5,
    "start_time": "2021-12-26T20:35:15.965Z"
   },
   {
    "duration": 14,
    "start_time": "2021-12-26T20:35:15.974Z"
   },
   {
    "duration": 7,
    "start_time": "2021-12-26T20:35:15.991Z"
   },
   {
    "duration": 66,
    "start_time": "2021-12-26T20:35:16.001Z"
   },
   {
    "duration": 13,
    "start_time": "2021-12-26T20:35:16.070Z"
   },
   {
    "duration": 14,
    "start_time": "2021-12-26T20:35:16.086Z"
   },
   {
    "duration": 66,
    "start_time": "2021-12-26T20:35:16.103Z"
   },
   {
    "duration": 47,
    "start_time": "2021-12-26T20:35:16.172Z"
   },
   {
    "duration": 45,
    "start_time": "2021-12-26T20:35:16.222Z"
   },
   {
    "duration": 16,
    "start_time": "2021-12-26T20:35:16.269Z"
   },
   {
    "duration": 14,
    "start_time": "2021-12-26T20:35:16.289Z"
   },
   {
    "duration": 6,
    "start_time": "2021-12-26T20:35:16.307Z"
   },
   {
    "duration": 17,
    "start_time": "2021-12-26T20:35:16.361Z"
   },
   {
    "duration": 135,
    "start_time": "2021-12-26T20:35:16.381Z"
   },
   {
    "duration": 92,
    "start_time": "2021-12-26T20:35:16.519Z"
   },
   {
    "duration": 247,
    "start_time": "2021-12-26T20:35:16.614Z"
   },
   {
    "duration": 70,
    "start_time": "2021-12-26T20:35:16.864Z"
   },
   {
    "duration": 62,
    "start_time": "2021-12-26T20:35:16.936Z"
   },
   {
    "duration": 53,
    "start_time": "2021-12-26T20:35:17.006Z"
   },
   {
    "duration": 35,
    "start_time": "2021-12-26T20:35:17.063Z"
   },
   {
    "duration": 10,
    "start_time": "2021-12-26T20:35:17.101Z"
   },
   {
    "duration": 15,
    "start_time": "2021-12-26T20:35:17.113Z"
   },
   {
    "duration": 33,
    "start_time": "2021-12-26T20:35:17.160Z"
   },
   {
    "duration": 9,
    "start_time": "2021-12-26T20:35:17.196Z"
   },
   {
    "duration": 52,
    "start_time": "2021-12-26T20:35:17.208Z"
   },
   {
    "duration": 12,
    "start_time": "2021-12-26T20:35:17.263Z"
   },
   {
    "duration": 3,
    "start_time": "2021-12-26T20:35:17.277Z"
   },
   {
    "duration": 7,
    "start_time": "2021-12-26T20:35:17.283Z"
   },
   {
    "duration": 21,
    "start_time": "2021-12-26T20:35:17.293Z"
   },
   {
    "duration": 469,
    "start_time": "2021-12-26T20:35:17.316Z"
   },
   {
    "duration": 445,
    "start_time": "2021-12-26T20:35:17.787Z"
   },
   {
    "duration": 424,
    "start_time": "2021-12-26T20:35:18.235Z"
   },
   {
    "duration": 56,
    "start_time": "2021-12-26T20:35:18.661Z"
   },
   {
    "duration": 82,
    "start_time": "2021-12-26T20:35:18.720Z"
   },
   {
    "duration": 8,
    "start_time": "2021-12-26T20:35:18.804Z"
   },
   {
    "duration": 10,
    "start_time": "2021-12-26T20:35:18.815Z"
   },
   {
    "duration": 592,
    "start_time": "2021-12-26T20:35:18.827Z"
   },
   {
    "duration": 8,
    "start_time": "2021-12-26T20:35:19.421Z"
   },
   {
    "duration": 32,
    "start_time": "2021-12-26T20:35:19.431Z"
   },
   {
    "duration": 12,
    "start_time": "2021-12-26T20:35:19.466Z"
   },
   {
    "duration": 10,
    "start_time": "2021-12-26T20:35:19.481Z"
   },
   {
    "duration": 438,
    "start_time": "2021-12-26T20:43:06.947Z"
   },
   {
    "duration": 435,
    "start_time": "2021-12-26T20:44:11.396Z"
   },
   {
    "duration": 462,
    "start_time": "2021-12-26T20:45:28.859Z"
   },
   {
    "duration": 429,
    "start_time": "2021-12-26T20:45:35.299Z"
   },
   {
    "duration": 571,
    "start_time": "2021-12-26T20:45:45.498Z"
   },
   {
    "duration": 446,
    "start_time": "2021-12-26T20:46:48.752Z"
   },
   {
    "duration": 431,
    "start_time": "2021-12-26T20:47:09.394Z"
   },
   {
    "duration": 423,
    "start_time": "2021-12-26T20:47:17.868Z"
   },
   {
    "duration": 434,
    "start_time": "2021-12-26T20:47:34.938Z"
   },
   {
    "duration": 423,
    "start_time": "2021-12-26T20:48:10.690Z"
   },
   {
    "duration": 423,
    "start_time": "2021-12-26T20:48:29.201Z"
   },
   {
    "duration": 419,
    "start_time": "2021-12-26T20:48:49.266Z"
   },
   {
    "duration": 427,
    "start_time": "2021-12-26T20:49:52.940Z"
   },
   {
    "duration": 436,
    "start_time": "2021-12-26T20:51:04.023Z"
   },
   {
    "duration": 8,
    "start_time": "2021-12-26T21:08:41.593Z"
   },
   {
    "duration": 1312,
    "start_time": "2021-12-26T21:12:02.560Z"
   },
   {
    "duration": 635,
    "start_time": "2021-12-26T21:12:03.875Z"
   },
   {
    "duration": 10,
    "start_time": "2021-12-26T21:12:04.513Z"
   },
   {
    "duration": 35,
    "start_time": "2021-12-26T21:12:04.526Z"
   },
   {
    "duration": 5,
    "start_time": "2021-12-26T21:12:04.564Z"
   },
   {
    "duration": 38,
    "start_time": "2021-12-26T21:12:04.571Z"
   },
   {
    "duration": 3,
    "start_time": "2021-12-26T21:12:04.612Z"
   },
   {
    "duration": 40,
    "start_time": "2021-12-26T21:12:04.619Z"
   },
   {
    "duration": 5,
    "start_time": "2021-12-26T21:12:04.662Z"
   },
   {
    "duration": 15,
    "start_time": "2021-12-26T21:12:04.669Z"
   },
   {
    "duration": 6,
    "start_time": "2021-12-26T21:12:04.686Z"
   },
   {
    "duration": 23,
    "start_time": "2021-12-26T21:12:04.694Z"
   },
   {
    "duration": 49,
    "start_time": "2021-12-26T21:12:04.719Z"
   },
   {
    "duration": 12,
    "start_time": "2021-12-26T21:12:04.770Z"
   },
   {
    "duration": 26,
    "start_time": "2021-12-26T21:12:04.785Z"
   },
   {
    "duration": 69,
    "start_time": "2021-12-26T21:12:04.814Z"
   },
   {
    "duration": 19,
    "start_time": "2021-12-26T21:12:04.885Z"
   },
   {
    "duration": 16,
    "start_time": "2021-12-26T21:12:04.906Z"
   },
   {
    "duration": 12,
    "start_time": "2021-12-26T21:12:04.925Z"
   },
   {
    "duration": 23,
    "start_time": "2021-12-26T21:12:04.939Z"
   },
   {
    "duration": 18,
    "start_time": "2021-12-26T21:12:04.964Z"
   },
   {
    "duration": 105,
    "start_time": "2021-12-26T21:12:04.984Z"
   },
   {
    "duration": 88,
    "start_time": "2021-12-26T21:12:05.095Z"
   },
   {
    "duration": 229,
    "start_time": "2021-12-26T21:12:05.186Z"
   },
   {
    "duration": 78,
    "start_time": "2021-12-26T21:12:05.418Z"
   },
   {
    "duration": 37,
    "start_time": "2021-12-26T21:12:05.499Z"
   },
   {
    "duration": 32,
    "start_time": "2021-12-26T21:12:05.538Z"
   },
   {
    "duration": 33,
    "start_time": "2021-12-26T21:12:05.572Z"
   },
   {
    "duration": 8,
    "start_time": "2021-12-26T21:12:05.607Z"
   },
   {
    "duration": 13,
    "start_time": "2021-12-26T21:12:05.617Z"
   },
   {
    "duration": 38,
    "start_time": "2021-12-26T21:12:05.632Z"
   },
   {
    "duration": 8,
    "start_time": "2021-12-26T21:12:05.673Z"
   },
   {
    "duration": 14,
    "start_time": "2021-12-26T21:12:05.684Z"
   },
   {
    "duration": 8,
    "start_time": "2021-12-26T21:12:05.700Z"
   },
   {
    "duration": 3,
    "start_time": "2021-12-26T21:12:05.711Z"
   },
   {
    "duration": 19,
    "start_time": "2021-12-26T21:12:05.716Z"
   },
   {
    "duration": 37,
    "start_time": "2021-12-26T21:12:05.738Z"
   },
   {
    "duration": 584,
    "start_time": "2021-12-26T21:12:05.778Z"
   },
   {
    "duration": 433,
    "start_time": "2021-12-26T21:12:06.365Z"
   },
   {
    "duration": 439,
    "start_time": "2021-12-26T21:12:06.800Z"
   },
   {
    "duration": 55,
    "start_time": "2021-12-26T21:12:07.241Z"
   },
   {
    "duration": 63,
    "start_time": "2021-12-26T21:12:07.298Z"
   },
   {
    "duration": 6,
    "start_time": "2021-12-26T21:12:07.364Z"
   },
   {
    "duration": 9,
    "start_time": "2021-12-26T21:12:07.373Z"
   },
   {
    "duration": 566,
    "start_time": "2021-12-26T21:12:07.384Z"
   },
   {
    "duration": 14,
    "start_time": "2021-12-26T21:12:07.953Z"
   },
   {
    "duration": 9,
    "start_time": "2021-12-26T21:12:07.969Z"
   },
   {
    "duration": 14,
    "start_time": "2021-12-26T21:12:07.980Z"
   },
   {
    "duration": 11,
    "start_time": "2021-12-26T21:12:07.997Z"
   },
   {
    "duration": 902,
    "start_time": "2021-12-27T14:54:18.506Z"
   },
   {
    "duration": 408,
    "start_time": "2021-12-27T14:54:19.410Z"
   },
   {
    "duration": 7,
    "start_time": "2021-12-27T14:54:19.820Z"
   },
   {
    "duration": 23,
    "start_time": "2021-12-27T14:54:19.829Z"
   },
   {
    "duration": 10,
    "start_time": "2021-12-27T14:54:19.854Z"
   },
   {
    "duration": 29,
    "start_time": "2021-12-27T14:54:19.865Z"
   },
   {
    "duration": 2,
    "start_time": "2021-12-27T14:54:19.896Z"
   },
   {
    "duration": 10,
    "start_time": "2021-12-27T14:54:19.900Z"
   },
   {
    "duration": 5,
    "start_time": "2021-12-27T14:54:19.912Z"
   },
   {
    "duration": 337,
    "start_time": "2021-12-27T14:54:21.154Z"
   },
   {
    "duration": 64,
    "start_time": "2021-12-27T14:54:27.371Z"
   },
   {
    "duration": 401,
    "start_time": "2021-12-27T15:06:07.077Z"
   },
   {
    "duration": 2,
    "start_time": "2021-12-27T15:06:07.479Z"
   },
   {
    "duration": 12,
    "start_time": "2021-12-27T15:06:07.483Z"
   },
   {
    "duration": 10,
    "start_time": "2021-12-27T15:06:07.497Z"
   },
   {
    "duration": 6,
    "start_time": "2021-12-27T15:06:07.508Z"
   },
   {
    "duration": 27,
    "start_time": "2021-12-27T15:06:07.516Z"
   },
   {
    "duration": 2,
    "start_time": "2021-12-27T15:06:07.545Z"
   },
   {
    "duration": 10,
    "start_time": "2021-12-27T15:06:07.552Z"
   },
   {
    "duration": 8,
    "start_time": "2021-12-27T15:06:07.564Z"
   },
   {
    "duration": 12,
    "start_time": "2021-12-27T15:06:07.574Z"
   },
   {
    "duration": 8,
    "start_time": "2021-12-27T15:06:07.588Z"
   },
   {
    "duration": 24,
    "start_time": "2021-12-27T15:06:07.598Z"
   },
   {
    "duration": 7,
    "start_time": "2021-12-27T15:06:07.624Z"
   },
   {
    "duration": 32,
    "start_time": "2021-12-27T15:06:07.633Z"
   },
   {
    "duration": 20,
    "start_time": "2021-12-27T15:06:07.667Z"
   },
   {
    "duration": 21,
    "start_time": "2021-12-27T15:06:07.688Z"
   },
   {
    "duration": 13,
    "start_time": "2021-12-27T15:06:07.710Z"
   },
   {
    "duration": 28,
    "start_time": "2021-12-27T15:06:07.725Z"
   },
   {
    "duration": 15,
    "start_time": "2021-12-27T15:06:07.754Z"
   },
   {
    "duration": 11,
    "start_time": "2021-12-27T15:06:07.770Z"
   },
   {
    "duration": 15,
    "start_time": "2021-12-27T15:06:07.782Z"
   },
   {
    "duration": 71,
    "start_time": "2021-12-27T15:06:07.799Z"
   },
   {
    "duration": 50,
    "start_time": "2021-12-27T15:06:07.874Z"
   },
   {
    "duration": 162,
    "start_time": "2021-12-27T15:06:07.926Z"
   },
   {
    "duration": 62,
    "start_time": "2021-12-27T15:06:08.090Z"
   },
   {
    "duration": 23,
    "start_time": "2021-12-27T15:06:08.154Z"
   },
   {
    "duration": 19,
    "start_time": "2021-12-27T15:06:08.178Z"
   },
   {
    "duration": 18,
    "start_time": "2021-12-27T15:06:08.198Z"
   },
   {
    "duration": 5,
    "start_time": "2021-12-27T15:06:08.217Z"
   },
   {
    "duration": 24,
    "start_time": "2021-12-27T15:06:08.224Z"
   },
   {
    "duration": 33,
    "start_time": "2021-12-27T15:06:08.249Z"
   },
   {
    "duration": 8,
    "start_time": "2021-12-27T15:06:08.284Z"
   },
   {
    "duration": 13,
    "start_time": "2021-12-27T15:06:08.294Z"
   },
   {
    "duration": 5,
    "start_time": "2021-12-27T15:06:08.308Z"
   },
   {
    "duration": 5,
    "start_time": "2021-12-27T15:06:08.314Z"
   },
   {
    "duration": 24,
    "start_time": "2021-12-27T15:06:08.321Z"
   },
   {
    "duration": 26,
    "start_time": "2021-12-27T15:06:08.347Z"
   },
   {
    "duration": 249,
    "start_time": "2021-12-27T15:06:08.375Z"
   },
   {
    "duration": 252,
    "start_time": "2021-12-27T15:06:08.626Z"
   },
   {
    "duration": 243,
    "start_time": "2021-12-27T15:06:08.879Z"
   },
   {
    "duration": 39,
    "start_time": "2021-12-27T15:06:09.124Z"
   },
   {
    "duration": 27,
    "start_time": "2021-12-27T15:06:09.165Z"
   },
   {
    "duration": 4,
    "start_time": "2021-12-27T15:06:09.194Z"
   },
   {
    "duration": 11,
    "start_time": "2021-12-27T15:06:09.199Z"
   },
   {
    "duration": 327,
    "start_time": "2021-12-27T15:06:09.211Z"
   },
   {
    "duration": 6,
    "start_time": "2021-12-27T15:06:09.540Z"
   },
   {
    "duration": 15,
    "start_time": "2021-12-27T15:06:09.550Z"
   },
   {
    "duration": 17,
    "start_time": "2021-12-27T15:06:09.566Z"
   },
   {
    "duration": 14,
    "start_time": "2021-12-27T15:06:09.584Z"
   },
   {
    "duration": 399,
    "start_time": "2021-12-27T15:06:16.507Z"
   },
   {
    "duration": 3,
    "start_time": "2021-12-27T15:06:16.908Z"
   },
   {
    "duration": 9,
    "start_time": "2021-12-27T15:06:16.913Z"
   },
   {
    "duration": 25,
    "start_time": "2021-12-27T15:06:16.924Z"
   },
   {
    "duration": 14,
    "start_time": "2021-12-27T15:06:16.950Z"
   },
   {
    "duration": 26,
    "start_time": "2021-12-27T15:06:16.966Z"
   },
   {
    "duration": 2,
    "start_time": "2021-12-27T15:06:16.993Z"
   },
   {
    "duration": 9,
    "start_time": "2021-12-27T15:06:16.996Z"
   },
   {
    "duration": 7,
    "start_time": "2021-12-27T15:06:17.007Z"
   },
   {
    "duration": 11,
    "start_time": "2021-12-27T15:06:17.016Z"
   },
   {
    "duration": 7,
    "start_time": "2021-12-27T15:06:17.028Z"
   },
   {
    "duration": 33,
    "start_time": "2021-12-27T15:06:17.036Z"
   },
   {
    "duration": 7,
    "start_time": "2021-12-27T15:06:17.070Z"
   },
   {
    "duration": 11,
    "start_time": "2021-12-27T15:06:17.079Z"
   },
   {
    "duration": 18,
    "start_time": "2021-12-27T15:06:17.092Z"
   },
   {
    "duration": 18,
    "start_time": "2021-12-27T15:06:17.112Z"
   },
   {
    "duration": 21,
    "start_time": "2021-12-27T15:06:17.132Z"
   },
   {
    "duration": 19,
    "start_time": "2021-12-27T15:06:17.155Z"
   },
   {
    "duration": 11,
    "start_time": "2021-12-27T15:06:17.175Z"
   },
   {
    "duration": 11,
    "start_time": "2021-12-27T15:06:17.187Z"
   },
   {
    "duration": 14,
    "start_time": "2021-12-27T15:06:17.200Z"
   },
   {
    "duration": 72,
    "start_time": "2021-12-27T15:06:17.216Z"
   },
   {
    "duration": 64,
    "start_time": "2021-12-27T15:06:17.290Z"
   },
   {
    "duration": 158,
    "start_time": "2021-12-27T15:06:17.355Z"
   },
   {
    "duration": 55,
    "start_time": "2021-12-27T15:06:17.515Z"
   },
   {
    "duration": 22,
    "start_time": "2021-12-27T15:06:17.571Z"
   },
   {
    "duration": 19,
    "start_time": "2021-12-27T15:06:17.596Z"
   },
   {
    "duration": 39,
    "start_time": "2021-12-27T15:06:17.616Z"
   },
   {
    "duration": 5,
    "start_time": "2021-12-27T15:06:17.656Z"
   },
   {
    "duration": 13,
    "start_time": "2021-12-27T15:06:17.662Z"
   },
   {
    "duration": 22,
    "start_time": "2021-12-27T15:06:17.676Z"
   },
   {
    "duration": 6,
    "start_time": "2021-12-27T15:06:17.700Z"
   },
   {
    "duration": 14,
    "start_time": "2021-12-27T15:06:17.707Z"
   },
   {
    "duration": 28,
    "start_time": "2021-12-27T15:06:17.723Z"
   },
   {
    "duration": 7,
    "start_time": "2021-12-27T15:06:17.753Z"
   },
   {
    "duration": 9,
    "start_time": "2021-12-27T15:06:17.762Z"
   },
   {
    "duration": 14,
    "start_time": "2021-12-27T15:06:17.772Z"
   },
   {
    "duration": 245,
    "start_time": "2021-12-27T15:07:02.856Z"
   },
   {
    "duration": 4,
    "start_time": "2021-12-27T15:07:29.427Z"
   },
   {
    "duration": 251,
    "start_time": "2021-12-27T15:07:46.690Z"
   },
   {
    "duration": 247,
    "start_time": "2021-12-27T15:08:14.954Z"
   },
   {
    "duration": 250,
    "start_time": "2021-12-27T15:08:25.399Z"
   },
   {
    "duration": 4,
    "start_time": "2021-12-27T15:09:42.241Z"
   },
   {
    "duration": 252,
    "start_time": "2021-12-27T15:09:55.654Z"
   },
   {
    "duration": 264,
    "start_time": "2021-12-27T15:10:02.156Z"
   },
   {
    "duration": 297,
    "start_time": "2021-12-27T15:11:02.788Z"
   },
   {
    "duration": 417,
    "start_time": "2021-12-27T17:54:11.305Z"
   },
   {
    "duration": 1303,
    "start_time": "2021-12-27T17:54:20.667Z"
   },
   {
    "duration": 657,
    "start_time": "2021-12-27T17:54:21.974Z"
   },
   {
    "duration": 11,
    "start_time": "2021-12-27T17:54:22.634Z"
   },
   {
    "duration": 29,
    "start_time": "2021-12-27T17:54:22.648Z"
   },
   {
    "duration": 4,
    "start_time": "2021-12-27T17:54:22.680Z"
   },
   {
    "duration": 74,
    "start_time": "2021-12-27T17:54:22.687Z"
   },
   {
    "duration": 3,
    "start_time": "2021-12-27T17:54:22.763Z"
   },
   {
    "duration": 7,
    "start_time": "2021-12-27T17:54:22.770Z"
   },
   {
    "duration": 5,
    "start_time": "2021-12-27T17:54:22.780Z"
   },
   {
    "duration": 15,
    "start_time": "2021-12-27T17:54:22.788Z"
   },
   {
    "duration": 55,
    "start_time": "2021-12-27T17:54:22.805Z"
   },
   {
    "duration": 23,
    "start_time": "2021-12-27T17:54:22.862Z"
   },
   {
    "duration": 13,
    "start_time": "2021-12-27T17:54:22.889Z"
   },
   {
    "duration": 13,
    "start_time": "2021-12-27T17:54:22.904Z"
   },
   {
    "duration": 24,
    "start_time": "2021-12-27T17:54:22.960Z"
   },
   {
    "duration": 33,
    "start_time": "2021-12-27T17:54:22.987Z"
   },
   {
    "duration": 43,
    "start_time": "2021-12-27T17:54:23.022Z"
   },
   {
    "duration": 17,
    "start_time": "2021-12-27T17:54:23.067Z"
   },
   {
    "duration": 15,
    "start_time": "2021-12-27T17:54:23.086Z"
   },
   {
    "duration": 6,
    "start_time": "2021-12-27T17:54:23.103Z"
   },
   {
    "duration": 56,
    "start_time": "2021-12-27T17:54:23.111Z"
   },
   {
    "duration": 108,
    "start_time": "2021-12-27T17:54:23.169Z"
   },
   {
    "duration": 97,
    "start_time": "2021-12-27T17:54:23.282Z"
   },
   {
    "duration": 250,
    "start_time": "2021-12-27T17:54:23.382Z"
   },
   {
    "duration": 86,
    "start_time": "2021-12-27T17:54:23.635Z"
   },
   {
    "duration": 51,
    "start_time": "2021-12-27T17:54:23.723Z"
   },
   {
    "duration": 34,
    "start_time": "2021-12-27T17:54:23.777Z"
   },
   {
    "duration": 59,
    "start_time": "2021-12-27T17:54:23.813Z"
   },
   {
    "duration": 8,
    "start_time": "2021-12-27T17:54:23.874Z"
   },
   {
    "duration": 19,
    "start_time": "2021-12-27T17:54:23.885Z"
   },
   {
    "duration": 53,
    "start_time": "2021-12-27T17:54:23.906Z"
   },
   {
    "duration": 12,
    "start_time": "2021-12-27T17:54:23.962Z"
   },
   {
    "duration": 15,
    "start_time": "2021-12-27T17:54:23.976Z"
   },
   {
    "duration": 8,
    "start_time": "2021-12-27T17:54:23.993Z"
   },
   {
    "duration": 7,
    "start_time": "2021-12-27T17:54:24.003Z"
   },
   {
    "duration": 47,
    "start_time": "2021-12-27T17:54:24.012Z"
   },
   {
    "duration": 22,
    "start_time": "2021-12-27T17:54:24.062Z"
   },
   {
    "duration": 459,
    "start_time": "2021-12-27T17:54:24.087Z"
   },
   {
    "duration": 449,
    "start_time": "2021-12-27T17:54:24.548Z"
   },
   {
    "duration": 442,
    "start_time": "2021-12-27T17:54:25.000Z"
   },
   {
    "duration": 60,
    "start_time": "2021-12-27T17:54:25.445Z"
   },
   {
    "duration": 74,
    "start_time": "2021-12-27T17:54:25.508Z"
   },
   {
    "duration": 9,
    "start_time": "2021-12-27T17:54:25.584Z"
   },
   {
    "duration": 11,
    "start_time": "2021-12-27T17:54:25.596Z"
   },
   {
    "duration": 592,
    "start_time": "2021-12-27T17:54:30.642Z"
   },
   {
    "duration": 535,
    "start_time": "2021-12-27T17:54:48.686Z"
   },
   {
    "duration": 650,
    "start_time": "2021-12-27T17:55:49.582Z"
   },
   {
    "duration": 910,
    "start_time": "2021-12-27T17:56:44.160Z"
   },
   {
    "duration": 524,
    "start_time": "2021-12-27T17:57:08.889Z"
   },
   {
    "duration": 780,
    "start_time": "2021-12-27T17:58:06.786Z"
   },
   {
    "duration": 799,
    "start_time": "2021-12-27T17:58:39.437Z"
   },
   {
    "duration": 584,
    "start_time": "2021-12-27T18:14:58.028Z"
   },
   {
    "duration": 14,
    "start_time": "2021-12-27T18:15:06.902Z"
   },
   {
    "duration": 16,
    "start_time": "2021-12-27T18:17:10.298Z"
   },
   {
    "duration": 17,
    "start_time": "2021-12-27T18:17:38.323Z"
   },
   {
    "duration": 247,
    "start_time": "2021-12-27T18:18:24.150Z"
   },
   {
    "duration": 16,
    "start_time": "2021-12-27T18:19:53.343Z"
   },
   {
    "duration": 17,
    "start_time": "2021-12-27T18:20:00.812Z"
   },
   {
    "duration": 15,
    "start_time": "2021-12-27T18:20:20.679Z"
   },
   {
    "duration": 19,
    "start_time": "2021-12-27T18:20:34.039Z"
   },
   {
    "duration": 20,
    "start_time": "2021-12-27T18:20:57.256Z"
   },
   {
    "duration": 21,
    "start_time": "2021-12-27T18:21:02.788Z"
   },
   {
    "duration": 20,
    "start_time": "2021-12-27T18:21:13.481Z"
   },
   {
    "duration": 17,
    "start_time": "2021-12-27T18:21:41.258Z"
   },
   {
    "duration": 18,
    "start_time": "2021-12-27T18:22:00.212Z"
   },
   {
    "duration": 19,
    "start_time": "2021-12-27T18:22:10.662Z"
   },
   {
    "duration": 22,
    "start_time": "2021-12-27T18:22:51.435Z"
   },
   {
    "duration": 172,
    "start_time": "2021-12-27T18:30:43.774Z"
   },
   {
    "duration": 18,
    "start_time": "2021-12-27T18:32:02.704Z"
   },
   {
    "duration": 21,
    "start_time": "2021-12-27T18:32:06.244Z"
   },
   {
    "duration": 442,
    "start_time": "2021-12-27T18:45:50.011Z"
   },
   {
    "duration": 354,
    "start_time": "2021-12-27T18:46:13.264Z"
   },
   {
    "duration": 18,
    "start_time": "2021-12-27T18:47:15.882Z"
   },
   {
    "duration": 11,
    "start_time": "2021-12-27T18:47:57.545Z"
   },
   {
    "duration": 17,
    "start_time": "2021-12-27T18:50:17.102Z"
   },
   {
    "duration": 572,
    "start_time": "2021-12-27T18:59:25.073Z"
   },
   {
    "duration": 673,
    "start_time": "2021-12-27T18:59:57.780Z"
   },
   {
    "duration": 541,
    "start_time": "2021-12-27T19:03:35.028Z"
   },
   {
    "duration": 704,
    "start_time": "2021-12-27T19:04:26.843Z"
   },
   {
    "duration": 852,
    "start_time": "2021-12-27T19:04:38.964Z"
   },
   {
    "duration": 739,
    "start_time": "2021-12-27T19:04:56.751Z"
   },
   {
    "duration": 663,
    "start_time": "2021-12-27T19:05:24.738Z"
   },
   {
    "duration": 710,
    "start_time": "2021-12-27T19:05:33.168Z"
   },
   {
    "duration": 513,
    "start_time": "2021-12-27T19:05:44.303Z"
   },
   {
    "duration": 470,
    "start_time": "2021-12-27T19:06:59.162Z"
   },
   {
    "duration": 574,
    "start_time": "2021-12-27T19:07:25.223Z"
   },
   {
    "duration": 591,
    "start_time": "2021-12-27T19:09:48.777Z"
   },
   {
    "duration": 506,
    "start_time": "2021-12-27T19:10:59.416Z"
   },
   {
    "duration": 684,
    "start_time": "2021-12-27T19:15:49.039Z"
   },
   {
    "duration": 535,
    "start_time": "2021-12-27T19:16:51.556Z"
   },
   {
    "duration": 705,
    "start_time": "2021-12-27T19:17:27.954Z"
   },
   {
    "duration": 533,
    "start_time": "2021-12-27T19:18:01.046Z"
   },
   {
    "duration": 550,
    "start_time": "2021-12-27T19:18:04.591Z"
   },
   {
    "duration": 504,
    "start_time": "2021-12-27T19:18:08.350Z"
   },
   {
    "duration": 542,
    "start_time": "2021-12-27T19:18:19.193Z"
   },
   {
    "duration": 703,
    "start_time": "2021-12-27T19:18:34.961Z"
   },
   {
    "duration": 507,
    "start_time": "2021-12-27T19:18:52.420Z"
   },
   {
    "duration": 530,
    "start_time": "2021-12-27T19:18:59.107Z"
   },
   {
    "duration": 581,
    "start_time": "2021-12-27T19:19:06.550Z"
   },
   {
    "duration": 740,
    "start_time": "2021-12-27T19:19:16.572Z"
   },
   {
    "duration": 1350,
    "start_time": "2021-12-27T19:50:48.543Z"
   },
   {
    "duration": 617,
    "start_time": "2021-12-27T19:50:49.896Z"
   },
   {
    "duration": 10,
    "start_time": "2021-12-27T19:50:50.516Z"
   },
   {
    "duration": 34,
    "start_time": "2021-12-27T19:50:50.529Z"
   },
   {
    "duration": 6,
    "start_time": "2021-12-27T19:50:50.565Z"
   },
   {
    "duration": 37,
    "start_time": "2021-12-27T19:50:50.573Z"
   },
   {
    "duration": 3,
    "start_time": "2021-12-27T19:50:50.613Z"
   },
   {
    "duration": 42,
    "start_time": "2021-12-27T19:50:50.619Z"
   },
   {
    "duration": 7,
    "start_time": "2021-12-27T19:50:50.664Z"
   },
   {
    "duration": 13,
    "start_time": "2021-12-27T19:50:50.674Z"
   },
   {
    "duration": 6,
    "start_time": "2021-12-27T19:50:50.690Z"
   },
   {
    "duration": 68,
    "start_time": "2021-12-27T19:50:50.699Z"
   },
   {
    "duration": 13,
    "start_time": "2021-12-27T19:50:50.770Z"
   },
   {
    "duration": 63,
    "start_time": "2021-12-27T19:50:50.785Z"
   },
   {
    "duration": 31,
    "start_time": "2021-12-27T19:50:50.850Z"
   },
   {
    "duration": 31,
    "start_time": "2021-12-27T19:50:50.884Z"
   },
   {
    "duration": 17,
    "start_time": "2021-12-27T19:50:50.918Z"
   },
   {
    "duration": 17,
    "start_time": "2021-12-27T19:50:50.960Z"
   },
   {
    "duration": 15,
    "start_time": "2021-12-27T19:50:50.980Z"
   },
   {
    "duration": 15,
    "start_time": "2021-12-27T19:50:50.998Z"
   },
   {
    "duration": 55,
    "start_time": "2021-12-27T19:50:51.016Z"
   },
   {
    "duration": 113,
    "start_time": "2021-12-27T19:50:51.073Z"
   },
   {
    "duration": 99,
    "start_time": "2021-12-27T19:50:51.194Z"
   },
   {
    "duration": 232,
    "start_time": "2021-12-27T19:50:51.298Z"
   },
   {
    "duration": 85,
    "start_time": "2021-12-27T19:50:51.532Z"
   },
   {
    "duration": 47,
    "start_time": "2021-12-27T19:50:51.619Z"
   },
   {
    "duration": 30,
    "start_time": "2021-12-27T19:50:51.669Z"
   },
   {
    "duration": 57,
    "start_time": "2021-12-27T19:50:51.702Z"
   },
   {
    "duration": 9,
    "start_time": "2021-12-27T19:50:51.762Z"
   },
   {
    "duration": 14,
    "start_time": "2021-12-27T19:50:51.773Z"
   },
   {
    "duration": 31,
    "start_time": "2021-12-27T19:50:51.789Z"
   },
   {
    "duration": 39,
    "start_time": "2021-12-27T19:50:51.823Z"
   },
   {
    "duration": 14,
    "start_time": "2021-12-27T19:50:51.865Z"
   },
   {
    "duration": 8,
    "start_time": "2021-12-27T19:50:51.881Z"
   },
   {
    "duration": 7,
    "start_time": "2021-12-27T19:50:51.891Z"
   },
   {
    "duration": 9,
    "start_time": "2021-12-27T19:50:51.900Z"
   },
   {
    "duration": 56,
    "start_time": "2021-12-27T19:50:51.911Z"
   },
   {
    "duration": 460,
    "start_time": "2021-12-27T19:50:51.969Z"
   },
   {
    "duration": 436,
    "start_time": "2021-12-27T19:50:52.432Z"
   },
   {
    "duration": 419,
    "start_time": "2021-12-27T19:50:52.870Z"
   },
   {
    "duration": 70,
    "start_time": "2021-12-27T19:50:53.291Z"
   },
   {
    "duration": 49,
    "start_time": "2021-12-27T19:50:53.363Z"
   },
   {
    "duration": 7,
    "start_time": "2021-12-27T19:50:53.415Z"
   },
   {
    "duration": 36,
    "start_time": "2021-12-27T19:50:53.424Z"
   },
   {
    "duration": 128,
    "start_time": "2021-12-27T19:50:53.463Z"
   },
   {
    "duration": 82,
    "start_time": "2021-12-27T19:50:53.511Z"
   },
   {
    "duration": 78,
    "start_time": "2021-12-27T19:50:53.517Z"
   },
   {
    "duration": 77,
    "start_time": "2021-12-27T19:50:53.520Z"
   },
   {
    "duration": 76,
    "start_time": "2021-12-27T19:50:53.522Z"
   },
   {
    "duration": 76,
    "start_time": "2021-12-27T19:50:53.524Z"
   },
   {
    "duration": 74,
    "start_time": "2021-12-27T19:50:53.527Z"
   },
   {
    "duration": 74,
    "start_time": "2021-12-27T19:50:53.529Z"
   },
   {
    "duration": 74,
    "start_time": "2021-12-27T19:50:53.531Z"
   },
   {
    "duration": 73,
    "start_time": "2021-12-27T19:50:53.533Z"
   },
   {
    "duration": 69,
    "start_time": "2021-12-27T19:50:53.539Z"
   },
   {
    "duration": 171,
    "start_time": "2021-12-27T19:54:44.995Z"
   },
   {
    "duration": 18,
    "start_time": "2021-12-27T19:56:00.347Z"
   },
   {
    "duration": 1280,
    "start_time": "2021-12-27T19:57:13.683Z"
   },
   {
    "duration": 624,
    "start_time": "2021-12-27T19:57:14.966Z"
   },
   {
    "duration": 10,
    "start_time": "2021-12-27T19:57:15.593Z"
   },
   {
    "duration": 22,
    "start_time": "2021-12-27T19:57:15.606Z"
   },
   {
    "duration": 30,
    "start_time": "2021-12-27T19:57:15.631Z"
   },
   {
    "duration": 39,
    "start_time": "2021-12-27T19:57:15.664Z"
   },
   {
    "duration": 3,
    "start_time": "2021-12-27T19:57:15.706Z"
   },
   {
    "duration": 7,
    "start_time": "2021-12-27T19:57:15.711Z"
   },
   {
    "duration": 5,
    "start_time": "2021-12-27T19:57:15.759Z"
   },
   {
    "duration": 22,
    "start_time": "2021-12-27T19:57:15.767Z"
   },
   {
    "duration": 7,
    "start_time": "2021-12-27T19:57:15.791Z"
   },
   {
    "duration": 25,
    "start_time": "2021-12-27T19:57:15.801Z"
   },
   {
    "duration": 41,
    "start_time": "2021-12-27T19:57:15.828Z"
   },
   {
    "duration": 12,
    "start_time": "2021-12-27T19:57:15.872Z"
   },
   {
    "duration": 25,
    "start_time": "2021-12-27T19:57:15.886Z"
   },
   {
    "duration": 67,
    "start_time": "2021-12-27T19:57:15.914Z"
   },
   {
    "duration": 19,
    "start_time": "2021-12-27T19:57:15.983Z"
   },
   {
    "duration": 17,
    "start_time": "2021-12-27T19:57:16.005Z"
   },
   {
    "duration": 42,
    "start_time": "2021-12-27T19:57:16.024Z"
   },
   {
    "duration": 6,
    "start_time": "2021-12-27T19:57:16.068Z"
   },
   {
    "duration": 20,
    "start_time": "2021-12-27T19:57:16.077Z"
   },
   {
    "duration": 182,
    "start_time": "2021-12-27T19:57:16.100Z"
   },
   {
    "duration": 108,
    "start_time": "2021-12-27T19:57:16.285Z"
   },
   {
    "duration": 232,
    "start_time": "2021-12-27T19:57:16.396Z"
   },
   {
    "duration": 86,
    "start_time": "2021-12-27T19:57:16.631Z"
   },
   {
    "duration": 51,
    "start_time": "2021-12-27T19:57:16.720Z"
   },
   {
    "duration": 31,
    "start_time": "2021-12-27T19:57:16.777Z"
   },
   {
    "duration": 62,
    "start_time": "2021-12-27T19:57:16.812Z"
   },
   {
    "duration": 9,
    "start_time": "2021-12-27T19:57:16.876Z"
   },
   {
    "duration": 12,
    "start_time": "2021-12-27T19:57:16.888Z"
   },
   {
    "duration": 61,
    "start_time": "2021-12-27T19:57:16.902Z"
   },
   {
    "duration": 10,
    "start_time": "2021-12-27T19:57:16.965Z"
   },
   {
    "duration": 16,
    "start_time": "2021-12-27T19:57:16.978Z"
   },
   {
    "duration": 9,
    "start_time": "2021-12-27T19:57:16.996Z"
   },
   {
    "duration": 4,
    "start_time": "2021-12-27T19:57:17.008Z"
   },
   {
    "duration": 48,
    "start_time": "2021-12-27T19:57:17.014Z"
   },
   {
    "duration": 19,
    "start_time": "2021-12-27T19:57:17.065Z"
   },
   {
    "duration": 480,
    "start_time": "2021-12-27T19:57:17.086Z"
   },
   {
    "duration": 608,
    "start_time": "2021-12-27T19:57:17.568Z"
   },
   {
    "duration": 449,
    "start_time": "2021-12-27T19:57:18.179Z"
   },
   {
    "duration": 57,
    "start_time": "2021-12-27T19:57:18.630Z"
   },
   {
    "duration": 52,
    "start_time": "2021-12-27T19:57:18.689Z"
   },
   {
    "duration": 7,
    "start_time": "2021-12-27T19:57:18.743Z"
   },
   {
    "duration": 7,
    "start_time": "2021-12-27T19:57:18.760Z"
   },
   {
    "duration": 16,
    "start_time": "2021-12-27T19:57:18.769Z"
   },
   {
    "duration": 18,
    "start_time": "2021-12-27T19:57:18.788Z"
   },
   {
    "duration": 9,
    "start_time": "2021-12-27T19:57:18.808Z"
   },
   {
    "duration": 777,
    "start_time": "2021-12-27T19:57:18.819Z"
   },
   {
    "duration": 663,
    "start_time": "2021-12-27T19:57:19.598Z"
   },
   {
    "duration": 556,
    "start_time": "2021-12-27T19:57:20.264Z"
   },
   {
    "duration": 523,
    "start_time": "2021-12-27T19:57:20.823Z"
   },
   {
    "duration": 15,
    "start_time": "2021-12-27T19:57:21.349Z"
   },
   {
    "duration": 9,
    "start_time": "2021-12-27T19:57:21.367Z"
   },
   {
    "duration": 15,
    "start_time": "2021-12-27T19:57:21.378Z"
   },
   {
    "duration": 13,
    "start_time": "2021-12-27T19:57:21.395Z"
   }
  ],
  "kernelspec": {
   "display_name": "Python 3",
   "language": "python",
   "name": "python3"
  },
  "language_info": {
   "codemirror_mode": {
    "name": "ipython",
    "version": 3
   },
   "file_extension": ".py",
   "mimetype": "text/x-python",
   "name": "python",
   "nbconvert_exporter": "python",
   "pygments_lexer": "ipython3",
   "version": "3.8.8"
  },
  "toc": {
   "base_numbering": 1,
   "nav_menu": {
    "height": "114px",
    "width": "294px"
   },
   "number_sections": true,
   "sideBar": true,
   "skip_h1_title": true,
   "title_cell": "Table of Contents",
   "title_sidebar": "Contents",
   "toc_cell": false,
   "toc_position": {
    "height": "calc(100% - 180px)",
    "left": "10px",
    "top": "150px",
    "width": "218px"
   },
   "toc_section_display": true,
   "toc_window_display": true
  }
 },
 "nbformat": 4,
 "nbformat_minor": 2
}
