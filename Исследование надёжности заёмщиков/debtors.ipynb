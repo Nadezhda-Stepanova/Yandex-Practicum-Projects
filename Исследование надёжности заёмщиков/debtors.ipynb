{
 "cells": [
  {
   "cell_type": "markdown",
   "metadata": {},
   "source": [
    "# Исследование надёжности заёмщиков\n",
    "\n",
    "\n",
    "**Задача** от кредитного отдел банка: разобраться, влияет ли семейное положение и количество детей клиента на факт погашения кредита в срок, чтобы учитывать это при построении модели кредитного скоринга (системы, оценивающей способность потенциального заёмщика вернуть кредит банку)."
   ]
  },
  {
   "cell_type": "markdown",
   "metadata": {},
   "source": [
    "## Общая информация"
   ]
  },
  {
   "cell_type": "code",
   "execution_count": 1,
   "metadata": {},
   "outputs": [
    {
     "name": "stdout",
     "output_type": "stream",
     "text": [
      "<class 'pandas.core.frame.DataFrame'>\n",
      "RangeIndex: 21525 entries, 0 to 21524\n",
      "Data columns (total 12 columns):\n",
      "children            21525 non-null int64\n",
      "days_employed       19351 non-null float64\n",
      "dob_years           21525 non-null int64\n",
      "education           21525 non-null object\n",
      "education_id        21525 non-null int64\n",
      "family_status       21525 non-null object\n",
      "family_status_id    21525 non-null int64\n",
      "gender              21525 non-null object\n",
      "income_type         21525 non-null object\n",
      "debt                21525 non-null int64\n",
      "total_income        19351 non-null float64\n",
      "purpose             21525 non-null object\n",
      "dtypes: float64(2), int64(5), object(5)\n",
      "memory usage: 2.0+ MB\n"
     ]
    },
    {
     "data": {
      "text/html": [
       "<div>\n",
       "<style scoped>\n",
       "    .dataframe tbody tr th:only-of-type {\n",
       "        vertical-align: middle;\n",
       "    }\n",
       "\n",
       "    .dataframe tbody tr th {\n",
       "        vertical-align: top;\n",
       "    }\n",
       "\n",
       "    .dataframe thead th {\n",
       "        text-align: right;\n",
       "    }\n",
       "</style>\n",
       "<table border=\"1\" class=\"dataframe\">\n",
       "  <thead>\n",
       "    <tr style=\"text-align: right;\">\n",
       "      <th></th>\n",
       "      <th>children</th>\n",
       "      <th>days_employed</th>\n",
       "      <th>dob_years</th>\n",
       "      <th>education</th>\n",
       "      <th>education_id</th>\n",
       "      <th>family_status</th>\n",
       "      <th>family_status_id</th>\n",
       "      <th>gender</th>\n",
       "      <th>income_type</th>\n",
       "      <th>debt</th>\n",
       "      <th>total_income</th>\n",
       "      <th>purpose</th>\n",
       "    </tr>\n",
       "  </thead>\n",
       "  <tbody>\n",
       "    <tr>\n",
       "      <td>0</td>\n",
       "      <td>1</td>\n",
       "      <td>-8437.673028</td>\n",
       "      <td>42</td>\n",
       "      <td>высшее</td>\n",
       "      <td>0</td>\n",
       "      <td>женат / замужем</td>\n",
       "      <td>0</td>\n",
       "      <td>F</td>\n",
       "      <td>сотрудник</td>\n",
       "      <td>0</td>\n",
       "      <td>253875.639453</td>\n",
       "      <td>покупка жилья</td>\n",
       "    </tr>\n",
       "    <tr>\n",
       "      <td>1</td>\n",
       "      <td>1</td>\n",
       "      <td>-4024.803754</td>\n",
       "      <td>36</td>\n",
       "      <td>среднее</td>\n",
       "      <td>1</td>\n",
       "      <td>женат / замужем</td>\n",
       "      <td>0</td>\n",
       "      <td>F</td>\n",
       "      <td>сотрудник</td>\n",
       "      <td>0</td>\n",
       "      <td>112080.014102</td>\n",
       "      <td>приобретение автомобиля</td>\n",
       "    </tr>\n",
       "    <tr>\n",
       "      <td>2</td>\n",
       "      <td>0</td>\n",
       "      <td>-5623.422610</td>\n",
       "      <td>33</td>\n",
       "      <td>Среднее</td>\n",
       "      <td>1</td>\n",
       "      <td>женат / замужем</td>\n",
       "      <td>0</td>\n",
       "      <td>M</td>\n",
       "      <td>сотрудник</td>\n",
       "      <td>0</td>\n",
       "      <td>145885.952297</td>\n",
       "      <td>покупка жилья</td>\n",
       "    </tr>\n",
       "    <tr>\n",
       "      <td>3</td>\n",
       "      <td>3</td>\n",
       "      <td>-4124.747207</td>\n",
       "      <td>32</td>\n",
       "      <td>среднее</td>\n",
       "      <td>1</td>\n",
       "      <td>женат / замужем</td>\n",
       "      <td>0</td>\n",
       "      <td>M</td>\n",
       "      <td>сотрудник</td>\n",
       "      <td>0</td>\n",
       "      <td>267628.550329</td>\n",
       "      <td>дополнительное образование</td>\n",
       "    </tr>\n",
       "    <tr>\n",
       "      <td>4</td>\n",
       "      <td>0</td>\n",
       "      <td>340266.072047</td>\n",
       "      <td>53</td>\n",
       "      <td>среднее</td>\n",
       "      <td>1</td>\n",
       "      <td>гражданский брак</td>\n",
       "      <td>1</td>\n",
       "      <td>F</td>\n",
       "      <td>пенсионер</td>\n",
       "      <td>0</td>\n",
       "      <td>158616.077870</td>\n",
       "      <td>сыграть свадьбу</td>\n",
       "    </tr>\n",
       "    <tr>\n",
       "      <td>5</td>\n",
       "      <td>0</td>\n",
       "      <td>-926.185831</td>\n",
       "      <td>27</td>\n",
       "      <td>высшее</td>\n",
       "      <td>0</td>\n",
       "      <td>гражданский брак</td>\n",
       "      <td>1</td>\n",
       "      <td>M</td>\n",
       "      <td>компаньон</td>\n",
       "      <td>0</td>\n",
       "      <td>255763.565419</td>\n",
       "      <td>покупка жилья</td>\n",
       "    </tr>\n",
       "    <tr>\n",
       "      <td>6</td>\n",
       "      <td>0</td>\n",
       "      <td>-2879.202052</td>\n",
       "      <td>43</td>\n",
       "      <td>высшее</td>\n",
       "      <td>0</td>\n",
       "      <td>женат / замужем</td>\n",
       "      <td>0</td>\n",
       "      <td>F</td>\n",
       "      <td>компаньон</td>\n",
       "      <td>0</td>\n",
       "      <td>240525.971920</td>\n",
       "      <td>операции с жильем</td>\n",
       "    </tr>\n",
       "    <tr>\n",
       "      <td>7</td>\n",
       "      <td>0</td>\n",
       "      <td>-152.779569</td>\n",
       "      <td>50</td>\n",
       "      <td>СРЕДНЕЕ</td>\n",
       "      <td>1</td>\n",
       "      <td>женат / замужем</td>\n",
       "      <td>0</td>\n",
       "      <td>M</td>\n",
       "      <td>сотрудник</td>\n",
       "      <td>0</td>\n",
       "      <td>135823.934197</td>\n",
       "      <td>образование</td>\n",
       "    </tr>\n",
       "    <tr>\n",
       "      <td>8</td>\n",
       "      <td>2</td>\n",
       "      <td>-6929.865299</td>\n",
       "      <td>35</td>\n",
       "      <td>ВЫСШЕЕ</td>\n",
       "      <td>0</td>\n",
       "      <td>гражданский брак</td>\n",
       "      <td>1</td>\n",
       "      <td>F</td>\n",
       "      <td>сотрудник</td>\n",
       "      <td>0</td>\n",
       "      <td>95856.832424</td>\n",
       "      <td>на проведение свадьбы</td>\n",
       "    </tr>\n",
       "    <tr>\n",
       "      <td>9</td>\n",
       "      <td>0</td>\n",
       "      <td>-2188.756445</td>\n",
       "      <td>41</td>\n",
       "      <td>среднее</td>\n",
       "      <td>1</td>\n",
       "      <td>женат / замужем</td>\n",
       "      <td>0</td>\n",
       "      <td>M</td>\n",
       "      <td>сотрудник</td>\n",
       "      <td>0</td>\n",
       "      <td>144425.938277</td>\n",
       "      <td>покупка жилья для семьи</td>\n",
       "    </tr>\n",
       "    <tr>\n",
       "      <td>10</td>\n",
       "      <td>2</td>\n",
       "      <td>-4171.483647</td>\n",
       "      <td>36</td>\n",
       "      <td>высшее</td>\n",
       "      <td>0</td>\n",
       "      <td>женат / замужем</td>\n",
       "      <td>0</td>\n",
       "      <td>M</td>\n",
       "      <td>компаньон</td>\n",
       "      <td>0</td>\n",
       "      <td>113943.491460</td>\n",
       "      <td>покупка недвижимости</td>\n",
       "    </tr>\n",
       "    <tr>\n",
       "      <td>11</td>\n",
       "      <td>0</td>\n",
       "      <td>-792.701887</td>\n",
       "      <td>40</td>\n",
       "      <td>среднее</td>\n",
       "      <td>1</td>\n",
       "      <td>женат / замужем</td>\n",
       "      <td>0</td>\n",
       "      <td>F</td>\n",
       "      <td>сотрудник</td>\n",
       "      <td>0</td>\n",
       "      <td>77069.234271</td>\n",
       "      <td>покупка коммерческой недвижимости</td>\n",
       "    </tr>\n",
       "    <tr>\n",
       "      <td>12</td>\n",
       "      <td>0</td>\n",
       "      <td>NaN</td>\n",
       "      <td>65</td>\n",
       "      <td>среднее</td>\n",
       "      <td>1</td>\n",
       "      <td>гражданский брак</td>\n",
       "      <td>1</td>\n",
       "      <td>M</td>\n",
       "      <td>пенсионер</td>\n",
       "      <td>0</td>\n",
       "      <td>NaN</td>\n",
       "      <td>сыграть свадьбу</td>\n",
       "    </tr>\n",
       "    <tr>\n",
       "      <td>13</td>\n",
       "      <td>0</td>\n",
       "      <td>-1846.641941</td>\n",
       "      <td>54</td>\n",
       "      <td>неоконченное высшее</td>\n",
       "      <td>2</td>\n",
       "      <td>женат / замужем</td>\n",
       "      <td>0</td>\n",
       "      <td>F</td>\n",
       "      <td>сотрудник</td>\n",
       "      <td>0</td>\n",
       "      <td>130458.228857</td>\n",
       "      <td>приобретение автомобиля</td>\n",
       "    </tr>\n",
       "    <tr>\n",
       "      <td>14</td>\n",
       "      <td>0</td>\n",
       "      <td>-1844.956182</td>\n",
       "      <td>56</td>\n",
       "      <td>высшее</td>\n",
       "      <td>0</td>\n",
       "      <td>гражданский брак</td>\n",
       "      <td>1</td>\n",
       "      <td>F</td>\n",
       "      <td>компаньон</td>\n",
       "      <td>1</td>\n",
       "      <td>165127.911772</td>\n",
       "      <td>покупка жилой недвижимости</td>\n",
       "    </tr>\n",
       "  </tbody>\n",
       "</table>\n",
       "</div>"
      ],
      "text/plain": [
       "    children  days_employed  dob_years            education  education_id  \\\n",
       "0          1   -8437.673028         42               высшее             0   \n",
       "1          1   -4024.803754         36              среднее             1   \n",
       "2          0   -5623.422610         33              Среднее             1   \n",
       "3          3   -4124.747207         32              среднее             1   \n",
       "4          0  340266.072047         53              среднее             1   \n",
       "5          0    -926.185831         27               высшее             0   \n",
       "6          0   -2879.202052         43               высшее             0   \n",
       "7          0    -152.779569         50              СРЕДНЕЕ             1   \n",
       "8          2   -6929.865299         35               ВЫСШЕЕ             0   \n",
       "9          0   -2188.756445         41              среднее             1   \n",
       "10         2   -4171.483647         36               высшее             0   \n",
       "11         0    -792.701887         40              среднее             1   \n",
       "12         0            NaN         65              среднее             1   \n",
       "13         0   -1846.641941         54  неоконченное высшее             2   \n",
       "14         0   -1844.956182         56               высшее             0   \n",
       "\n",
       "       family_status  family_status_id gender income_type  debt  \\\n",
       "0    женат / замужем                 0      F   сотрудник     0   \n",
       "1    женат / замужем                 0      F   сотрудник     0   \n",
       "2    женат / замужем                 0      M   сотрудник     0   \n",
       "3    женат / замужем                 0      M   сотрудник     0   \n",
       "4   гражданский брак                 1      F   пенсионер     0   \n",
       "5   гражданский брак                 1      M   компаньон     0   \n",
       "6    женат / замужем                 0      F   компаньон     0   \n",
       "7    женат / замужем                 0      M   сотрудник     0   \n",
       "8   гражданский брак                 1      F   сотрудник     0   \n",
       "9    женат / замужем                 0      M   сотрудник     0   \n",
       "10   женат / замужем                 0      M   компаньон     0   \n",
       "11   женат / замужем                 0      F   сотрудник     0   \n",
       "12  гражданский брак                 1      M   пенсионер     0   \n",
       "13   женат / замужем                 0      F   сотрудник     0   \n",
       "14  гражданский брак                 1      F   компаньон     1   \n",
       "\n",
       "     total_income                            purpose  \n",
       "0   253875.639453                      покупка жилья  \n",
       "1   112080.014102            приобретение автомобиля  \n",
       "2   145885.952297                      покупка жилья  \n",
       "3   267628.550329         дополнительное образование  \n",
       "4   158616.077870                    сыграть свадьбу  \n",
       "5   255763.565419                      покупка жилья  \n",
       "6   240525.971920                  операции с жильем  \n",
       "7   135823.934197                        образование  \n",
       "8    95856.832424              на проведение свадьбы  \n",
       "9   144425.938277            покупка жилья для семьи  \n",
       "10  113943.491460               покупка недвижимости  \n",
       "11   77069.234271  покупка коммерческой недвижимости  \n",
       "12            NaN                    сыграть свадьбу  \n",
       "13  130458.228857            приобретение автомобиля  \n",
       "14  165127.911772         покупка жилой недвижимости  "
      ]
     },
     "metadata": {},
     "output_type": "display_data"
    }
   ],
   "source": [
    "import pandas as pd                       # импорт библиотеку pandas\n",
    "\n",
    "from pymystem3 import Mystem              # Импортировали библиотеки для лемматизации\n",
    "from collections import Counter\n",
    "\n",
    "data = pd.read_csv('data.csv')            # сохранение данных из файла в переменной data\n",
    "data.info()                               # методом info() оцениваем объем данных в таблице\n",
    "data.head(15)                             # просматриваем первые 15 строк\n"
   ]
  },
  {
   "cell_type": "markdown",
   "metadata": {},
   "source": [
    "**Вывод**"
   ]
  },
  {
   "cell_type": "markdown",
   "metadata": {},
   "source": [
    "Итак, в таблице 12 столбцов. \n",
    "\n",
    "Согласно документации к данным:\n",
    "- children — количество детей в семье\n",
    "- days_employed — общий трудовой стаж в днях\n",
    "- dob_years — возраст клиента в годах\n",
    "- education — уровень образования клиента\n",
    "- education_id — идентификатор уровня образования\n",
    "- family_status — семейное положение\n",
    "- family_status_id — идентификатор семейного положения\n",
    "- gender — пол клиента\n",
    "- income_type — тип занятости\n",
    "- debt — имел ли задолженность по возврату кредитов\n",
    "- total_income — ежемесячный доход\n",
    "- purpose — цель получения кредита\n",
    "\n",
    "Тип данных: \n",
    "float64(2 - доход и стаж), \n",
    "int64(5 - количество детей, возраст, идентификаторы образования и семейного статуса и наличие задолженности по кредитам), object(5 - образование, семейный статус, пол, тип занятости, цель получения кредита).\n",
    "\n",
    "Так как количество значений в столбцах различается, то в данных есть пропущенные значения (столбцы 'days_employed', 'total_income').\n",
    "\n",
    "При первом просмотре таблицы данных выявляются следующие проблемы:\n",
    "\n",
    "- трудовой стаж (значения в столбце 'days_employed') может принимать как положительные, так и отрицательные значения, отдельные значения слишком велики и не могут быть днями стажа,\n",
    "- строчные буквы сочетаются с прописными,\n",
    "- данные по стажу не требуют формата float и могут быть заменены на целочисленные int,\n",
    "- цели требуют лемматизации.\n",
    "\n"
   ]
  },
  {
   "cell_type": "markdown",
   "metadata": {},
   "source": [
    "##  Предобработка данных"
   ]
  },
  {
   "cell_type": "markdown",
   "metadata": {},
   "source": [
    "### Обработка пропусков"
   ]
  },
  {
   "cell_type": "markdown",
   "metadata": {},
   "source": [
    "Для начала приведем значения столбца стажа к корректным. Узнаем, какие значения стажа считаются не в днях, а в часах. Для этого найдем максимальный возраст, вычтем из него первые 14 лет детства и умножим на 365 дней. Это будет предельным значением, после которого значение ячейки со стажем будем делить на 24 часа."
   ]
  },
  {
   "cell_type": "code",
   "execution_count": 2,
   "metadata": {
    "scrolled": true
   },
   "outputs": [
    {
     "data": {
      "text/plain": [
       "22265"
      ]
     },
     "execution_count": 2,
     "metadata": {},
     "output_type": "execute_result"
    }
   ],
   "source": [
    "max_days_employed = (data['dob_years'].max() - 14) * 365\n",
    "max_days_employed"
   ]
  },
  {
   "cell_type": "markdown",
   "metadata": {},
   "source": [
    "Теперь заменим все значения на модули (уберем отрицательные), а значения, превышающие максимально возможный стаж в днях, поделим на 24."
   ]
  },
  {
   "cell_type": "code",
   "execution_count": 3,
   "metadata": {},
   "outputs": [
    {
     "data": {
      "text/plain": [
       "14177.753001950914"
      ]
     },
     "execution_count": 3,
     "metadata": {},
     "output_type": "execute_result"
    }
   ],
   "source": [
    "data['days_employed'] = data['days_employed'].apply(abs)   #  модули (убрали отрицательные)\n",
    "\n",
    "data.loc[data['days_employed'] > max_days_employed, 'days_employed'] = (\n",
    "    data.loc[data['days_employed'] > max_days_employed, 'days_employed'] / 24\n",
    ")\n",
    "\n",
    "data.loc[4, 'days_employed']                               # проверяем на примере строки 4"
   ]
  },
  {
   "cell_type": "markdown",
   "metadata": {},
   "source": [
    "Заменяем пропуски в стаже на медианные значения."
   ]
  },
  {
   "cell_type": "code",
   "execution_count": 4,
   "metadata": {},
   "outputs": [
    {
     "name": "stdout",
     "output_type": "stream",
     "text": [
      "Пропусков до: 2174\n",
      "Пропусков после: 0\n"
     ]
    }
   ],
   "source": [
    "print('Пропусков до:', data['days_employed'].isna().sum())\n",
    "\n",
    "for age in range(data['dob_years'].min(), data['dob_years'].max()): # перебираем все возможные значения возраста\n",
    "    \n",
    "    mediana = data.loc[data['dob_years']==age, 'days_employed'].median() # находим медианное значение стажа для этого возраста\n",
    "    data.loc[(data['days_employed'].isna()) & (data['dob_years']==age), 'days_employed'] = mediana \n",
    "                                                             # значение NaN заменяем на медианное значение для такого возраста\n",
    "\n",
    "print('Пропусков после:', data['days_employed'].isna().sum()) "
   ]
  },
  {
   "cell_type": "markdown",
   "metadata": {},
   "source": [
    "Теперь заменяем пропуски в столбце дохода на медианные значения."
   ]
  },
  {
   "cell_type": "code",
   "execution_count": 5,
   "metadata": {
    "scrolled": true
   },
   "outputs": [
    {
     "name": "stdout",
     "output_type": "stream",
     "text": [
      "Пропусков до: 2174\n",
      "Пропусков после: 0\n"
     ]
    },
    {
     "data": {
      "text/plain": [
       "days_employed    14902.9\n",
       "total_income      122934\n",
       "Name: 12, dtype: object"
      ]
     },
     "metadata": {},
     "output_type": "display_data"
    }
   ],
   "source": [
    "print('Пропусков до:', data['total_income'].isna().sum())\n",
    "\n",
    "for age in range(data['dob_years'].min(), data['dob_years'].max()): # перебираем все возможные значения возраста\n",
    "    \n",
    "    mediana = data.loc[data['dob_years']==age, 'total_income'].median() # находим медианное значение дохода для этого возраста\n",
    "    data.loc[(data['total_income'].isna()) & (data['dob_years']==age), 'total_income'] = mediana \n",
    "                                                             # значение NaN заменяем на медианное значение для такого возраста\n",
    "\n",
    "print('Пропусков после:', data['total_income'].isna().sum()) \n",
    "\n",
    "\n",
    "display(data.loc[12, ['days_employed', 'total_income']])     # проверяем на примере строки 12"
   ]
  },
  {
   "cell_type": "markdown",
   "metadata": {},
   "source": [
    "Убираем прописные буквы в столбце 'education' и затем проверяем корректность значений."
   ]
  },
  {
   "cell_type": "code",
   "execution_count": 6,
   "metadata": {
    "scrolled": true
   },
   "outputs": [
    {
     "name": "stdout",
     "output_type": "stream",
     "text": [
      "['высшее' 'среднее' 'неоконченное высшее' 'начальное' 'ученая степень']\n"
     ]
    }
   ],
   "source": [
    "data['education'] = data['education'].str.lower()\n",
    "print(data['education'].unique())"
   ]
  },
  {
   "cell_type": "markdown",
   "metadata": {},
   "source": [
    "Проверяем корректность данных возраста заемщиков (количество нулевых,отрицательных значений и возраста до 18 лет). Выведем на экран первые значения столбца 'dob_years' в порядке возрастания возраста и количество таких значений."
   ]
  },
  {
   "cell_type": "code",
   "execution_count": 7,
   "metadata": {
    "scrolled": true
   },
   "outputs": [
    {
     "name": "stdout",
     "output_type": "stream",
     "text": [
      "dob_years\n",
      "0     101\n",
      "19     14\n",
      "20     51\n",
      "21    111\n",
      "22    183\n",
      "Name: dob_years, dtype: int64\n"
     ]
    }
   ],
   "source": [
    "print(data.groupby('dob_years')['dob_years'].count().head()) "
   ]
  },
  {
   "cell_type": "markdown",
   "metadata": {},
   "source": [
    "Считаем значение 0 в возрасте пропуском и заменяем на медианные значения, в остальном всё выглядит корректно."
   ]
  },
  {
   "cell_type": "code",
   "execution_count": 8,
   "metadata": {},
   "outputs": [
    {
     "name": "stdout",
     "output_type": "stream",
     "text": [
      "Осталось нулей: 0\n"
     ]
    }
   ],
   "source": [
    "mediana = int(data['dob_years'].median())                                 # находим медианное значение возраста, переводим в int\n",
    "data.loc[data['dob_years']==0, 'dob_years'] = mediana \n",
    "\n",
    "print('Осталось нулей:', data[data['dob_years']==0]['dob_years'].count()) # Проверяем, остались ли нули   "
   ]
  },
  {
   "cell_type": "markdown",
   "metadata": {},
   "source": [
    "Находим уникальные значения оставшихся столбцов, чтобы исключить в них ошибки. Используем цикл."
   ]
  },
  {
   "cell_type": "code",
   "execution_count": 9,
   "metadata": {
    "scrolled": true
   },
   "outputs": [
    {
     "name": "stdout",
     "output_type": "stream",
     "text": [
      "[0 1 2 3 4]\n",
      "['женат / замужем' 'гражданский брак' 'вдовец / вдова' 'в разводе'\n",
      " 'Не женат / не замужем']\n",
      "[0 1 2 3 4]\n",
      "['F' 'M' 'XNA']\n",
      "['сотрудник' 'пенсионер' 'компаньон' 'госслужащий' 'безработный'\n",
      " 'предприниматель' 'студент' 'в декрете']\n",
      "[0 1]\n",
      "[ 1  0  3  2 -1  4 20  5]\n"
     ]
    }
   ],
   "source": [
    "column_dict == ['education_id', 'family_status', 'family_status_id', 'gender', 'income_type', 'debt', 'children']\n",
    "for col in column_dict: \n",
    "    print(data[col].unique())"
   ]
  },
  {
   "cell_type": "markdown",
   "metadata": {},
   "source": [
    "В столбце 'gender' есть неизвестное значение 'XNA'. Уточним данные."
   ]
  },
  {
   "cell_type": "code",
   "execution_count": 11,
   "metadata": {
    "scrolled": true
   },
   "outputs": [
    {
     "name": "stdout",
     "output_type": "stream",
     "text": [
      "F      14236\n",
      "M       7288\n",
      "XNA        1\n",
      "Name: gender, dtype: int64\n"
     ]
    }
   ],
   "source": [
    "print(data['gender'].value_counts())"
   ]
  },
  {
   "cell_type": "markdown",
   "metadata": {},
   "source": [
    "Заменим на наиболее часто встречающееся значение этого столбца."
   ]
  },
  {
   "cell_type": "code",
   "execution_count": 12,
   "metadata": {},
   "outputs": [],
   "source": [
    "data.loc[data['gender']=='XNA', 'gender'] = 'F'"
   ]
  },
  {
   "cell_type": "markdown",
   "metadata": {},
   "source": [
    "В столбце 'children' есть значение \"-1\". Скорее всего, оно означает отсутствие детей, заменим такие на \"0\". Значение \"-20\" похоже на опечатку, заменим на \"2\"."
   ]
  },
  {
   "cell_type": "code",
   "execution_count": 13,
   "metadata": {},
   "outputs": [
    {
     "name": "stdout",
     "output_type": "stream",
     "text": [
      "[1 0 3 2 4 5]\n"
     ]
    }
   ],
   "source": [
    "data.loc[data['children']== -1, 'children'] = 0\n",
    "data.loc[data['children']== 20, 'children'] = 2\n",
    "\n",
    "print(data['children'].unique())  # Проверяем."
   ]
  },
  {
   "cell_type": "code",
   "execution_count": 14,
   "metadata": {},
   "outputs": [
    {
     "name": "stdout",
     "output_type": "stream",
     "text": [
      "<class 'pandas.core.frame.DataFrame'>\n",
      "RangeIndex: 21525 entries, 0 to 21524\n",
      "Data columns (total 12 columns):\n",
      "children            21525 non-null int64\n",
      "days_employed       21525 non-null float64\n",
      "dob_years           21525 non-null int64\n",
      "education           21525 non-null object\n",
      "education_id        21525 non-null int64\n",
      "family_status       21525 non-null object\n",
      "family_status_id    21525 non-null int64\n",
      "gender              21525 non-null object\n",
      "income_type         21525 non-null object\n",
      "debt                21525 non-null int64\n",
      "total_income        21525 non-null float64\n",
      "purpose             21525 non-null object\n",
      "dtypes: float64(2), int64(5), object(5)\n",
      "memory usage: 2.0+ MB\n"
     ]
    }
   ],
   "source": [
    "data.info() # Выводим на экран информацию по пролучившейся таблице."
   ]
  },
  {
   "cell_type": "markdown",
   "metadata": {},
   "source": [
    "**Вывод**"
   ]
  },
  {
   "cell_type": "markdown",
   "metadata": {},
   "source": [
    "Были обработаны имевшиеся в таблице пропуски путем заменены на медианные значения. Некорректные значения дней стажа заменены на  корректные с помощью функции abs и деления на 24. Пропуски в возрасте, обозначенные как 0, заменены на медианные. Убраны прописные буквы в столбце 'education'. Также исправлены значение 'XNA' в столбце 'gender' на 'F' и количество детей с -1 на 0 и с 20 на 2.\n",
    "Получившаяся таблица не имеет пропущенных значений, тип данных не изменился."
   ]
  },
  {
   "cell_type": "markdown",
   "metadata": {},
   "source": [
    "### Замена типа данных"
   ]
  },
  {
   "cell_type": "markdown",
   "metadata": {},
   "source": [
    "Cледует отметить, что имеет смысл заменить тип количества дней стажа 'days_employed' на int. Это нагляднее, соответствует общепринятому подсчету рабочих дней / стажа в целых числах.  Заменяем float на int."
   ]
  },
  {
   "cell_type": "code",
   "execution_count": 15,
   "metadata": {},
   "outputs": [
    {
     "name": "stdout",
     "output_type": "stream",
     "text": [
      "0     8437\n",
      "1     4024\n",
      "2     5623\n",
      "3     4124\n",
      "4    14177\n",
      "Name: days_employed, dtype: int64\n"
     ]
    }
   ],
   "source": [
    "data['days_employed'] = data['days_employed'].astype('int')  # Применяем функцию int с помощью метода apply к указанному столбцу\n",
    "\n",
    "print(data['days_employed'].head())  # Проверяем"
   ]
  },
  {
   "cell_type": "markdown",
   "metadata": {},
   "source": [
    "**Вывод**"
   ]
  },
  {
   "cell_type": "markdown",
   "metadata": {},
   "source": [
    "Изменили стаж 'days_employed' на int. \n",
    "Можно поступить подобным образом и со средним заработком, но тип float не дает преимущества в данном конкретном случае, а доход может считаться до копейки и даже долей копейки, поэтому этот столбец оставим без изменений."
   ]
  },
  {
   "cell_type": "markdown",
   "metadata": {},
   "source": [
    "### Обработка дубликатов"
   ]
  },
  {
   "cell_type": "markdown",
   "metadata": {},
   "source": [
    "Для дальнейшей корректной работы с таблицей необходимо удалить дубликаты. Применяем метод duplicated() с параметром keep = False - вывод всех совпадений и сортируем по всем столбцам. "
   ]
  },
  {
   "cell_type": "code",
   "execution_count": 16,
   "metadata": {},
   "outputs": [
    {
     "name": "stdout",
     "output_type": "stream",
     "text": [
      "Всего дубликатов: 71\n"
     ]
    },
    {
     "data": {
      "text/html": [
       "<div>\n",
       "<style scoped>\n",
       "    .dataframe tbody tr th:only-of-type {\n",
       "        vertical-align: middle;\n",
       "    }\n",
       "\n",
       "    .dataframe tbody tr th {\n",
       "        vertical-align: top;\n",
       "    }\n",
       "\n",
       "    .dataframe thead th {\n",
       "        text-align: right;\n",
       "    }\n",
       "</style>\n",
       "<table border=\"1\" class=\"dataframe\">\n",
       "  <thead>\n",
       "    <tr style=\"text-align: right;\">\n",
       "      <th></th>\n",
       "      <th>children</th>\n",
       "      <th>days_employed</th>\n",
       "      <th>dob_years</th>\n",
       "      <th>education</th>\n",
       "      <th>education_id</th>\n",
       "      <th>family_status</th>\n",
       "      <th>family_status_id</th>\n",
       "      <th>gender</th>\n",
       "      <th>income_type</th>\n",
       "      <th>debt</th>\n",
       "      <th>total_income</th>\n",
       "      <th>purpose</th>\n",
       "    </tr>\n",
       "  </thead>\n",
       "  <tbody>\n",
       "    <tr>\n",
       "      <td>15892</td>\n",
       "      <td>0</td>\n",
       "      <td>690</td>\n",
       "      <td>23</td>\n",
       "      <td>среднее</td>\n",
       "      <td>1</td>\n",
       "      <td>Не женат / не замужем</td>\n",
       "      <td>4</td>\n",
       "      <td>F</td>\n",
       "      <td>сотрудник</td>\n",
       "      <td>0</td>\n",
       "      <td>123162.782874</td>\n",
       "      <td>сделка с подержанным автомобилем</td>\n",
       "    </tr>\n",
       "    <tr>\n",
       "      <td>19321</td>\n",
       "      <td>0</td>\n",
       "      <td>690</td>\n",
       "      <td>23</td>\n",
       "      <td>среднее</td>\n",
       "      <td>1</td>\n",
       "      <td>Не женат / не замужем</td>\n",
       "      <td>4</td>\n",
       "      <td>F</td>\n",
       "      <td>сотрудник</td>\n",
       "      <td>0</td>\n",
       "      <td>123162.782874</td>\n",
       "      <td>сделка с подержанным автомобилем</td>\n",
       "    </tr>\n",
       "    <tr>\n",
       "      <td>3452</td>\n",
       "      <td>0</td>\n",
       "      <td>1315</td>\n",
       "      <td>29</td>\n",
       "      <td>высшее</td>\n",
       "      <td>0</td>\n",
       "      <td>женат / замужем</td>\n",
       "      <td>0</td>\n",
       "      <td>M</td>\n",
       "      <td>сотрудник</td>\n",
       "      <td>0</td>\n",
       "      <td>146617.644239</td>\n",
       "      <td>покупка жилой недвижимости</td>\n",
       "    </tr>\n",
       "    <tr>\n",
       "      <td>18328</td>\n",
       "      <td>0</td>\n",
       "      <td>1315</td>\n",
       "      <td>29</td>\n",
       "      <td>высшее</td>\n",
       "      <td>0</td>\n",
       "      <td>женат / замужем</td>\n",
       "      <td>0</td>\n",
       "      <td>M</td>\n",
       "      <td>сотрудник</td>\n",
       "      <td>0</td>\n",
       "      <td>146617.644239</td>\n",
       "      <td>покупка жилой недвижимости</td>\n",
       "    </tr>\n",
       "    <tr>\n",
       "      <td>4216</td>\n",
       "      <td>0</td>\n",
       "      <td>1420</td>\n",
       "      <td>30</td>\n",
       "      <td>среднее</td>\n",
       "      <td>1</td>\n",
       "      <td>женат / замужем</td>\n",
       "      <td>0</td>\n",
       "      <td>M</td>\n",
       "      <td>сотрудник</td>\n",
       "      <td>0</td>\n",
       "      <td>146944.669481</td>\n",
       "      <td>строительство жилой недвижимости</td>\n",
       "    </tr>\n",
       "    <tr>\n",
       "      <td>...</td>\n",
       "      <td>...</td>\n",
       "      <td>...</td>\n",
       "      <td>...</td>\n",
       "      <td>...</td>\n",
       "      <td>...</td>\n",
       "      <td>...</td>\n",
       "      <td>...</td>\n",
       "      <td>...</td>\n",
       "      <td>...</td>\n",
       "      <td>...</td>\n",
       "      <td>...</td>\n",
       "      <td>...</td>\n",
       "    </tr>\n",
       "    <tr>\n",
       "      <td>9238</td>\n",
       "      <td>2</td>\n",
       "      <td>1615</td>\n",
       "      <td>34</td>\n",
       "      <td>среднее</td>\n",
       "      <td>1</td>\n",
       "      <td>женат / замужем</td>\n",
       "      <td>0</td>\n",
       "      <td>F</td>\n",
       "      <td>сотрудник</td>\n",
       "      <td>0</td>\n",
       "      <td>155358.963793</td>\n",
       "      <td>покупка жилья для сдачи</td>\n",
       "    </tr>\n",
       "    <tr>\n",
       "      <td>9013</td>\n",
       "      <td>2</td>\n",
       "      <td>1799</td>\n",
       "      <td>36</td>\n",
       "      <td>высшее</td>\n",
       "      <td>0</td>\n",
       "      <td>женат / замужем</td>\n",
       "      <td>0</td>\n",
       "      <td>F</td>\n",
       "      <td>госслужащий</td>\n",
       "      <td>0</td>\n",
       "      <td>158681.482178</td>\n",
       "      <td>получение образования</td>\n",
       "    </tr>\n",
       "    <tr>\n",
       "      <td>14432</td>\n",
       "      <td>2</td>\n",
       "      <td>1799</td>\n",
       "      <td>36</td>\n",
       "      <td>высшее</td>\n",
       "      <td>0</td>\n",
       "      <td>женат / замужем</td>\n",
       "      <td>0</td>\n",
       "      <td>F</td>\n",
       "      <td>госслужащий</td>\n",
       "      <td>0</td>\n",
       "      <td>158681.482178</td>\n",
       "      <td>получение образования</td>\n",
       "    </tr>\n",
       "    <tr>\n",
       "      <td>11033</td>\n",
       "      <td>2</td>\n",
       "      <td>1891</td>\n",
       "      <td>39</td>\n",
       "      <td>среднее</td>\n",
       "      <td>1</td>\n",
       "      <td>гражданский брак</td>\n",
       "      <td>1</td>\n",
       "      <td>F</td>\n",
       "      <td>сотрудник</td>\n",
       "      <td>0</td>\n",
       "      <td>149429.152630</td>\n",
       "      <td>сыграть свадьбу</td>\n",
       "    </tr>\n",
       "    <tr>\n",
       "      <td>16902</td>\n",
       "      <td>2</td>\n",
       "      <td>1891</td>\n",
       "      <td>39</td>\n",
       "      <td>среднее</td>\n",
       "      <td>1</td>\n",
       "      <td>гражданский брак</td>\n",
       "      <td>1</td>\n",
       "      <td>F</td>\n",
       "      <td>сотрудник</td>\n",
       "      <td>0</td>\n",
       "      <td>149429.152630</td>\n",
       "      <td>сыграть свадьбу</td>\n",
       "    </tr>\n",
       "  </tbody>\n",
       "</table>\n",
       "<p>137 rows × 12 columns</p>\n",
       "</div>"
      ],
      "text/plain": [
       "       children  days_employed  dob_years education  education_id  \\\n",
       "15892         0            690         23   среднее             1   \n",
       "19321         0            690         23   среднее             1   \n",
       "3452          0           1315         29    высшее             0   \n",
       "18328         0           1315         29    высшее             0   \n",
       "4216          0           1420         30   среднее             1   \n",
       "...         ...            ...        ...       ...           ...   \n",
       "9238          2           1615         34   среднее             1   \n",
       "9013          2           1799         36    высшее             0   \n",
       "14432         2           1799         36    высшее             0   \n",
       "11033         2           1891         39   среднее             1   \n",
       "16902         2           1891         39   среднее             1   \n",
       "\n",
       "               family_status  family_status_id gender  income_type  debt  \\\n",
       "15892  Не женат / не замужем                 4      F    сотрудник     0   \n",
       "19321  Не женат / не замужем                 4      F    сотрудник     0   \n",
       "3452         женат / замужем                 0      M    сотрудник     0   \n",
       "18328        женат / замужем                 0      M    сотрудник     0   \n",
       "4216         женат / замужем                 0      M    сотрудник     0   \n",
       "...                      ...               ...    ...          ...   ...   \n",
       "9238         женат / замужем                 0      F    сотрудник     0   \n",
       "9013         женат / замужем                 0      F  госслужащий     0   \n",
       "14432        женат / замужем                 0      F  госслужащий     0   \n",
       "11033       гражданский брак                 1      F    сотрудник     0   \n",
       "16902       гражданский брак                 1      F    сотрудник     0   \n",
       "\n",
       "        total_income                           purpose  \n",
       "15892  123162.782874  сделка с подержанным автомобилем  \n",
       "19321  123162.782874  сделка с подержанным автомобилем  \n",
       "3452   146617.644239        покупка жилой недвижимости  \n",
       "18328  146617.644239        покупка жилой недвижимости  \n",
       "4216   146944.669481  строительство жилой недвижимости  \n",
       "...              ...                               ...  \n",
       "9238   155358.963793           покупка жилья для сдачи  \n",
       "9013   158681.482178             получение образования  \n",
       "14432  158681.482178             получение образования  \n",
       "11033  149429.152630                   сыграть свадьбу  \n",
       "16902  149429.152630                   сыграть свадьбу  \n",
       "\n",
       "[137 rows x 12 columns]"
      ]
     },
     "execution_count": 16,
     "metadata": {},
     "output_type": "execute_result"
    }
   ],
   "source": [
    "print('Всего дубликатов:', data.duplicated().sum())             # Найдем их общее количество.\n",
    "\n",
    "data[data.duplicated(keep = False)].sort_values(by = list(data.columns))"
   ]
  },
  {
   "cell_type": "markdown",
   "metadata": {},
   "source": [
    "Количество дубликатов по сравнению с общим числом строк не велико. Возможная причина появления дубликатов - замена пропущенных значений медианными. Поскольку таблица не имеет столбца с идентификатором заемщика, истинность дубликата полностью проверить не представляется возможным.\n",
    "Удаляем дубликаты с помощью метода drop_duplicates(), переименовав строки (без создания нового столбца индекса)."
   ]
  },
  {
   "cell_type": "code",
   "execution_count": 17,
   "metadata": {},
   "outputs": [
    {
     "name": "stdout",
     "output_type": "stream",
     "text": [
      "<class 'pandas.core.frame.DataFrame'>\n",
      "RangeIndex: 21454 entries, 0 to 21453\n",
      "Data columns (total 12 columns):\n",
      "children            21454 non-null int64\n",
      "days_employed       21454 non-null int64\n",
      "dob_years           21454 non-null int64\n",
      "education           21454 non-null object\n",
      "education_id        21454 non-null int64\n",
      "family_status       21454 non-null object\n",
      "family_status_id    21454 non-null int64\n",
      "gender              21454 non-null object\n",
      "income_type         21454 non-null object\n",
      "debt                21454 non-null int64\n",
      "total_income        21454 non-null float64\n",
      "purpose             21454 non-null object\n",
      "dtypes: float64(1), int64(6), object(5)\n",
      "memory usage: 2.0+ MB\n"
     ]
    }
   ],
   "source": [
    "data = data.drop_duplicates().reset_index(drop=True) \n",
    "data.info()               # проверяем таблицу на предмет пропущенных значений"
   ]
  },
  {
   "cell_type": "markdown",
   "metadata": {},
   "source": [
    "**Вывод**"
   ]
  },
  {
   "cell_type": "markdown",
   "metadata": {},
   "source": [
    "Количество строк в исходной таблице  21525, количество строк-дубликатов 71. После удаления дубликатов число строк соответственно уменьшилось и составило 21454. Тип данных не изменился."
   ]
  },
  {
   "cell_type": "markdown",
   "metadata": {},
   "source": [
    "### Лемматизация"
   ]
  },
  {
   "cell_type": "markdown",
   "metadata": {},
   "source": [
    "Осталось добавить столбец с лемматизированными целями для дальнейшего анализа заемщиков. Лемматизируем, предварительно создав единую строку из всех уникальных значений столбца 'purpose'."
   ]
  },
  {
   "cell_type": "code",
   "execution_count": 18,
   "metadata": {
    "scrolled": true
   },
   "outputs": [],
   "source": [
    "m = Mystem()                                              # Создаем объект-лемматизатор и присваиваем переменной m это значение \n",
    "  \n",
    "lemmas = m.lemmatize(' '.join(data['purpose'].unique()))  # Лемматизируем"
   ]
  },
  {
   "cell_type": "markdown",
   "metadata": {},
   "source": [
    "Выведем полученные леммы и частоту их повторений."
   ]
  },
  {
   "cell_type": "code",
   "execution_count": 19,
   "metadata": {},
   "outputs": [
    {
     "data": {
      "text/plain": [
       "Counter({'покупка': 10,\n",
       "         ' ': 96,\n",
       "         'жилье': 7,\n",
       "         'приобретение': 1,\n",
       "         'автомобиль': 9,\n",
       "         'дополнительный': 2,\n",
       "         'образование': 9,\n",
       "         'сыграть': 1,\n",
       "         'свадьба': 3,\n",
       "         'операция': 4,\n",
       "         'с': 5,\n",
       "         'на': 4,\n",
       "         'проведение': 1,\n",
       "         'для': 2,\n",
       "         'семья': 1,\n",
       "         'недвижимость': 10,\n",
       "         'коммерческий': 2,\n",
       "         'жилой': 2,\n",
       "         'строительство': 3,\n",
       "         'собственный': 1,\n",
       "         'подержать': 2,\n",
       "         'свой': 4,\n",
       "         'со': 1,\n",
       "         'заниматься': 2,\n",
       "         'сделка': 2,\n",
       "         'получение': 3,\n",
       "         'высокий': 3,\n",
       "         'профильный': 1,\n",
       "         'сдача': 1,\n",
       "         'ремонт': 1,\n",
       "         '\\n': 1})"
      ]
     },
     "execution_count": 19,
     "metadata": {},
     "output_type": "execute_result"
    }
   ],
   "source": [
    "Counter(lemmas)  "
   ]
  },
  {
   "cell_type": "markdown",
   "metadata": {},
   "source": [
    "Как видим, можно выделить наиболее часто встречающиеся категории: с покупкой жилья и недвижимости, автомобилями, свадьбой, образованием. Остальное можно отнести к категории \"прочее\".\n",
    "\n",
    "Объявим функцию, возвращающую категорию целии кредита. Применим ее для создания нового столбца \"Категория\", применив к столбцу 'purpose' объявленную функцию. Выведем количество значений в каждой категории."
   ]
  },
  {
   "cell_type": "code",
   "execution_count": 20,
   "metadata": {},
   "outputs": [
    {
     "data": {
      "text/html": [
       "<div>\n",
       "<style scoped>\n",
       "    .dataframe tbody tr th:only-of-type {\n",
       "        vertical-align: middle;\n",
       "    }\n",
       "\n",
       "    .dataframe tbody tr th {\n",
       "        vertical-align: top;\n",
       "    }\n",
       "\n",
       "    .dataframe thead th {\n",
       "        text-align: right;\n",
       "    }\n",
       "</style>\n",
       "<table border=\"1\" class=\"dataframe\">\n",
       "  <thead>\n",
       "    <tr style=\"text-align: right;\">\n",
       "      <th></th>\n",
       "      <th>purpose</th>\n",
       "      <th>category_purpose</th>\n",
       "    </tr>\n",
       "  </thead>\n",
       "  <tbody>\n",
       "    <tr>\n",
       "      <td>0</td>\n",
       "      <td>покупка жилья</td>\n",
       "      <td>недвижимость</td>\n",
       "    </tr>\n",
       "    <tr>\n",
       "      <td>1</td>\n",
       "      <td>приобретение автомобиля</td>\n",
       "      <td>автомобиль</td>\n",
       "    </tr>\n",
       "    <tr>\n",
       "      <td>2</td>\n",
       "      <td>покупка жилья</td>\n",
       "      <td>недвижимость</td>\n",
       "    </tr>\n",
       "    <tr>\n",
       "      <td>3</td>\n",
       "      <td>дополнительное образование</td>\n",
       "      <td>образование</td>\n",
       "    </tr>\n",
       "    <tr>\n",
       "      <td>4</td>\n",
       "      <td>сыграть свадьбу</td>\n",
       "      <td>свадьба</td>\n",
       "    </tr>\n",
       "    <tr>\n",
       "      <td>5</td>\n",
       "      <td>покупка жилья</td>\n",
       "      <td>недвижимость</td>\n",
       "    </tr>\n",
       "    <tr>\n",
       "      <td>6</td>\n",
       "      <td>операции с жильем</td>\n",
       "      <td>прочее</td>\n",
       "    </tr>\n",
       "    <tr>\n",
       "      <td>7</td>\n",
       "      <td>образование</td>\n",
       "      <td>образование</td>\n",
       "    </tr>\n",
       "    <tr>\n",
       "      <td>8</td>\n",
       "      <td>на проведение свадьбы</td>\n",
       "      <td>свадьба</td>\n",
       "    </tr>\n",
       "    <tr>\n",
       "      <td>9</td>\n",
       "      <td>покупка жилья для семьи</td>\n",
       "      <td>недвижимость</td>\n",
       "    </tr>\n",
       "    <tr>\n",
       "      <td>10</td>\n",
       "      <td>покупка недвижимости</td>\n",
       "      <td>недвижимость</td>\n",
       "    </tr>\n",
       "    <tr>\n",
       "      <td>11</td>\n",
       "      <td>покупка коммерческой недвижимости</td>\n",
       "      <td>недвижимость</td>\n",
       "    </tr>\n",
       "    <tr>\n",
       "      <td>12</td>\n",
       "      <td>сыграть свадьбу</td>\n",
       "      <td>свадьба</td>\n",
       "    </tr>\n",
       "    <tr>\n",
       "      <td>13</td>\n",
       "      <td>приобретение автомобиля</td>\n",
       "      <td>автомобиль</td>\n",
       "    </tr>\n",
       "    <tr>\n",
       "      <td>14</td>\n",
       "      <td>покупка жилой недвижимости</td>\n",
       "      <td>недвижимость</td>\n",
       "    </tr>\n",
       "  </tbody>\n",
       "</table>\n",
       "</div>"
      ],
      "text/plain": [
       "                              purpose category_purpose\n",
       "0                       покупка жилья     недвижимость\n",
       "1             приобретение автомобиля       автомобиль\n",
       "2                       покупка жилья     недвижимость\n",
       "3          дополнительное образование      образование\n",
       "4                     сыграть свадьбу          свадьба\n",
       "5                       покупка жилья     недвижимость\n",
       "6                   операции с жильем           прочее\n",
       "7                         образование      образование\n",
       "8               на проведение свадьбы          свадьба\n",
       "9             покупка жилья для семьи     недвижимость\n",
       "10               покупка недвижимости     недвижимость\n",
       "11  покупка коммерческой недвижимости     недвижимость\n",
       "12                    сыграть свадьбу          свадьба\n",
       "13            приобретение автомобиля       автомобиль\n",
       "14         покупка жилой недвижимости     недвижимость"
      ]
     },
     "metadata": {},
     "output_type": "display_data"
    },
    {
     "name": "stdout",
     "output_type": "stream",
     "text": [
      "Итого по категориям:\n",
      " недвижимость    8207\n",
      "автомобиль      4306\n",
      "образование     4013\n",
      "прочее          2604\n",
      "свадьба         2324\n",
      "Name: category_purpose, dtype: int64\n",
      "\n",
      " Пропущенных значений: 0\n"
     ]
    }
   ],
   "source": [
    "def categories(category_value):                                # Объявили функцию\n",
    "    category_lemmas = m.lemmatize(category_value)\n",
    "    if 'образование' in category_lemmas:\n",
    "        return 'образование'\n",
    "    elif 'автомобиль' in category_lemmas:\n",
    "        return 'автомобиль'\n",
    "    elif 'свадьба' in category_lemmas:\n",
    "        return 'свадьба'\n",
    "    elif 'операция' in category_lemmas:\n",
    "        return 'прочее'\n",
    "    elif ('жилье' in category_lemmas) or ('недвижимость' in category_lemmas):\n",
    "        return 'недвижимость'\n",
    "    else:\n",
    "        return 'прочее'\n",
    " \n",
    "data['category_purpose'] = data['purpose'].apply(categories)   # Создадим новый столбец 'category'\n",
    "\n",
    "display(data.loc[:, ['purpose', 'category_purpose']].head(15)) # Проверяем на первых 15 строках получившиеся даннные\n",
    "\n",
    "print('Итого по категориям:\\n', data['category_purpose'].value_counts())  # Подсчитываем количество значений в каждой категории\n",
    "print('\\n Пропущенных значений:', data['category_purpose'].isna().sum())"
   ]
  },
  {
   "cell_type": "markdown",
   "metadata": {},
   "source": [
    "**Вывод**"
   ]
  },
  {
   "cell_type": "markdown",
   "metadata": {},
   "source": [
    "Имеющиеся цели кредита свели к пяти наиболее часто встречающимся категориям: недвижимость, автомобиль, образование, прочее, свадьба. "
   ]
  },
  {
   "cell_type": "markdown",
   "metadata": {},
   "source": [
    "### Категоризация данных"
   ]
  },
  {
   "cell_type": "markdown",
   "metadata": {},
   "source": [
    "Разберемся, какие еще категории, представленные в таблице, могут быть полезны для дальнейшего исследования. Для этого для имеющихся категориальных переменных построим фреймы, содержащие их уникальные значения.\n",
    "\n",
    "Первое - семейное положение (в качестве индекса использовали столбец 'family_status_id')."
   ]
  },
  {
   "cell_type": "code",
   "execution_count": 21,
   "metadata": {
    "scrolled": true
   },
   "outputs": [
    {
     "data": {
      "text/html": [
       "<div>\n",
       "<style scoped>\n",
       "    .dataframe tbody tr th:only-of-type {\n",
       "        vertical-align: middle;\n",
       "    }\n",
       "\n",
       "    .dataframe tbody tr th {\n",
       "        vertical-align: top;\n",
       "    }\n",
       "\n",
       "    .dataframe thead th {\n",
       "        text-align: right;\n",
       "    }\n",
       "</style>\n",
       "<table border=\"1\" class=\"dataframe\">\n",
       "  <thead>\n",
       "    <tr style=\"text-align: right;\">\n",
       "      <th></th>\n",
       "      <th>family_status</th>\n",
       "    </tr>\n",
       "    <tr>\n",
       "      <th>family_status_id</th>\n",
       "      <th></th>\n",
       "    </tr>\n",
       "  </thead>\n",
       "  <tbody>\n",
       "    <tr>\n",
       "      <td>0</td>\n",
       "      <td>женат / замужем</td>\n",
       "    </tr>\n",
       "    <tr>\n",
       "      <td>1</td>\n",
       "      <td>гражданский брак</td>\n",
       "    </tr>\n",
       "    <tr>\n",
       "      <td>2</td>\n",
       "      <td>вдовец / вдова</td>\n",
       "    </tr>\n",
       "    <tr>\n",
       "      <td>3</td>\n",
       "      <td>в разводе</td>\n",
       "    </tr>\n",
       "    <tr>\n",
       "      <td>4</td>\n",
       "      <td>Не женат / не замужем</td>\n",
       "    </tr>\n",
       "  </tbody>\n",
       "</table>\n",
       "</div>"
      ],
      "text/plain": [
       "                          family_status\n",
       "family_status_id                       \n",
       "0                       женат / замужем\n",
       "1                      гражданский брак\n",
       "2                        вдовец / вдова\n",
       "3                             в разводе\n",
       "4                 Не женат / не замужем"
      ]
     },
     "execution_count": 21,
     "metadata": {},
     "output_type": "execute_result"
    }
   ],
   "source": [
    "data[['family_status_id', 'family_status']].drop_duplicates().set_index('family_status_id') "
   ]
  },
  {
   "cell_type": "markdown",
   "metadata": {},
   "source": [
    "Количество детей просчитаем методом value_counts()."
   ]
  },
  {
   "cell_type": "code",
   "execution_count": 22,
   "metadata": {
    "scrolled": true
   },
   "outputs": [
    {
     "data": {
      "text/plain": [
       "0    14138\n",
       "1     4808\n",
       "2     2128\n",
       "3      330\n",
       "4       41\n",
       "5        9\n",
       "Name: children, dtype: int64"
      ]
     },
     "execution_count": 22,
     "metadata": {},
     "output_type": "execute_result"
    }
   ],
   "source": [
    "data['children'].value_counts()"
   ]
  },
  {
   "cell_type": "markdown",
   "metadata": {},
   "source": [
    "Количественную переменную total_income (доход) приведем к категориальным значениям. Для этого сначала исследуем ее статистические значения."
   ]
  },
  {
   "cell_type": "code",
   "execution_count": 23,
   "metadata": {
    "scrolled": true
   },
   "outputs": [
    {
     "name": "stdout",
     "output_type": "stream",
     "text": [
      "Минимальный доход: 20667.26 руб.\n",
      "Максимальный доход: 2265604.03 руб.\n",
      "Медианное значение дохода: 146499.74 руб.\n",
      "Среднее значение дохода: 165270.98 руб.\n"
     ]
    }
   ],
   "source": [
    "min_revenue = data['total_income'].min()\n",
    "print(f'Минимальный доход: {min_revenue:.2f} руб.')\n",
    "\n",
    "max_revenue = data['total_income'].max()\n",
    "print(f'Максимальный доход: {max_revenue:.2f} руб.')\n",
    "\n",
    "median_revenue = data['total_income'].median()\n",
    "print(f'Медианное значение дохода: {median_revenue:.2f} руб.')\n",
    "\n",
    "mean_revenue = data['total_income'].mean()\n",
    "print(f'Среднее значение дохода: {mean_revenue:.2f} руб.')"
   ]
  },
  {
   "cell_type": "markdown",
   "metadata": {},
   "source": [
    "Имеем огромный разброс в доходах от 20 тысяч до 2,26 млн рублей. \n",
    "Медианное и среднее значения можно считать близкими друг к другу, это означает, что за средний доход заемщиков можно принять значения в пределах 140-170 тысяч рублей, плюс-минус еще 20 тысяч.\n",
    "Переведем количественную переменную дохода в качественную, определив границы следующим образом:\n",
    "- низкий (до 70 000) \n",
    "- ниже среднего (больше 70 000 до 120 000)\n",
    "- средний (больше 120 000 до 190 000)\n",
    "- выше среднего (больше 190 000 до 400 000)\n",
    "- высокий (более 400 000)\n",
    "\n",
    "Определим функцию, позволяющую определить категорию дохода. Создадим новый столбец 'total_income_id', применив к столбцу 'total_income' объявленную функцию."
   ]
  },
  {
   "cell_type": "code",
   "execution_count": 24,
   "metadata": {},
   "outputs": [
    {
     "data": {
      "text/html": [
       "<div>\n",
       "<style scoped>\n",
       "    .dataframe tbody tr th:only-of-type {\n",
       "        vertical-align: middle;\n",
       "    }\n",
       "\n",
       "    .dataframe tbody tr th {\n",
       "        vertical-align: top;\n",
       "    }\n",
       "\n",
       "    .dataframe thead th {\n",
       "        text-align: right;\n",
       "    }\n",
       "</style>\n",
       "<table border=\"1\" class=\"dataframe\">\n",
       "  <thead>\n",
       "    <tr style=\"text-align: right;\">\n",
       "      <th></th>\n",
       "      <th>total_income</th>\n",
       "      <th>total_income_id</th>\n",
       "    </tr>\n",
       "  </thead>\n",
       "  <tbody>\n",
       "    <tr>\n",
       "      <td>0</td>\n",
       "      <td>253875.639453</td>\n",
       "      <td>выше среднего</td>\n",
       "    </tr>\n",
       "    <tr>\n",
       "      <td>1</td>\n",
       "      <td>112080.014102</td>\n",
       "      <td>ниже среднего</td>\n",
       "    </tr>\n",
       "    <tr>\n",
       "      <td>2</td>\n",
       "      <td>145885.952297</td>\n",
       "      <td>средний</td>\n",
       "    </tr>\n",
       "    <tr>\n",
       "      <td>3</td>\n",
       "      <td>267628.550329</td>\n",
       "      <td>выше среднего</td>\n",
       "    </tr>\n",
       "    <tr>\n",
       "      <td>4</td>\n",
       "      <td>158616.077870</td>\n",
       "      <td>средний</td>\n",
       "    </tr>\n",
       "  </tbody>\n",
       "</table>\n",
       "</div>"
      ],
      "text/plain": [
       "    total_income total_income_id\n",
       "0  253875.639453   выше среднего\n",
       "1  112080.014102   ниже среднего\n",
       "2  145885.952297         средний\n",
       "3  267628.550329   выше среднего\n",
       "4  158616.077870         средний"
      ]
     },
     "metadata": {},
     "output_type": "display_data"
    },
    {
     "name": "stdout",
     "output_type": "stream",
     "text": [
      "Итого по категориям:\n",
      " средний          8798\n",
      "ниже среднего    5432\n",
      "выше среднего    5222\n",
      "низкий           1474\n",
      "высокий           528\n",
      "Name: total_income_id, dtype: int64\n"
     ]
    }
   ],
   "source": [
    "def revenue_category(revenue):  # Определяем функцию\n",
    "    if revenue <= 70000:\n",
    "        return 'низкий'\n",
    "    elif revenue <= 120000:\n",
    "        return 'ниже среднего'\n",
    "    elif revenue <= 190000:\n",
    "        return 'средний'\n",
    "    elif revenue <= 400000:\n",
    "        return 'выше среднего'\n",
    "    else:\n",
    "        return 'высокий'\n",
    "\n",
    " \n",
    "data['total_income_id'] = data['total_income'].apply(revenue_category)  # Создали новый столбец \n",
    "    \n",
    "display(data.loc[:, ['total_income', 'total_income_id']].head())        # Проверяем на первых строках получившиеся даннные\n",
    "\n",
    "print('Итого по категориям:\\n', data['total_income_id'].value_counts()) # Подсчитываем количество значений в каждой категории"
   ]
  },
  {
   "cell_type": "markdown",
   "metadata": {},
   "source": [
    "**Вывод:**\n",
    "- Имеем пять категорий семейного статуса. \n",
    "- Количество детей также можно отнести к категориальной переменной, значения от 0 (нет детей) до пяти.\n",
    "- Получившиеся данные по категориям дохода можно считать действительными, так как распределение по категориям похоже на близкое к истине. Основная часть попала в три средние категории, причем в \"средней\" наибольшее количество. Значительно меньше в категории \"низкий\" доход и еще меньше в категории \"высокий\"."
   ]
  },
  {
   "cell_type": "markdown",
   "metadata": {},
   "source": [
    "##  Несколько вопросов"
   ]
  },
  {
   "cell_type": "markdown",
   "metadata": {},
   "source": [
    "### Есть ли зависимость между наличием детей и возвратом кредита в срок?\n",
    "\n",
    "Для ответа на этот вопрос построим сводную таблицу методом pivot_table(). Затем переименуем названия получившихся столбцов. \n",
    "\n",
    "Заменим возможные пропущенные значения на 0.В дальнейшем при определении процентного соотношения деления на ноль не будет, так как любая категория количества детей встречается в таблице не менее одного раза. В применении try-except необходимости нет.\n",
    "    \n",
    "Далее найдем общее количество заемщиков в категории (посчитаем процентное отношение не вернувших кредит к общему числу) и занесем эти значения в новый столбец 'conversion_rate'. После отсортируем по доле невозврата в убывающем порядке."
   ]
  },
  {
   "cell_type": "code",
   "execution_count": 25,
   "metadata": {
    "scrolled": true
   },
   "outputs": [
    {
     "data": {
      "text/html": [
       "<div>\n",
       "<style scoped>\n",
       "    .dataframe tbody tr th:only-of-type {\n",
       "        vertical-align: middle;\n",
       "    }\n",
       "\n",
       "    .dataframe tbody tr th {\n",
       "        vertical-align: top;\n",
       "    }\n",
       "\n",
       "    .dataframe thead th {\n",
       "        text-align: right;\n",
       "    }\n",
       "</style>\n",
       "<table border=\"1\" class=\"dataframe\">\n",
       "  <thead>\n",
       "    <tr style=\"text-align: right;\">\n",
       "      <th></th>\n",
       "      <th>no_debt</th>\n",
       "      <th>debt</th>\n",
       "      <th>number_borrowers</th>\n",
       "      <th>percentage_non_return</th>\n",
       "    </tr>\n",
       "    <tr>\n",
       "      <th>children</th>\n",
       "      <th></th>\n",
       "      <th></th>\n",
       "      <th></th>\n",
       "      <th></th>\n",
       "    </tr>\n",
       "  </thead>\n",
       "  <tbody>\n",
       "    <tr>\n",
       "      <td>4</td>\n",
       "      <td>37.0</td>\n",
       "      <td>4.0</td>\n",
       "      <td>41.0</td>\n",
       "      <td>0.097561</td>\n",
       "    </tr>\n",
       "    <tr>\n",
       "      <td>2</td>\n",
       "      <td>1926.0</td>\n",
       "      <td>202.0</td>\n",
       "      <td>2128.0</td>\n",
       "      <td>0.094925</td>\n",
       "    </tr>\n",
       "    <tr>\n",
       "      <td>1</td>\n",
       "      <td>4364.0</td>\n",
       "      <td>444.0</td>\n",
       "      <td>4808.0</td>\n",
       "      <td>0.092346</td>\n",
       "    </tr>\n",
       "    <tr>\n",
       "      <td>3</td>\n",
       "      <td>303.0</td>\n",
       "      <td>27.0</td>\n",
       "      <td>330.0</td>\n",
       "      <td>0.081818</td>\n",
       "    </tr>\n",
       "    <tr>\n",
       "      <td>0</td>\n",
       "      <td>13074.0</td>\n",
       "      <td>1064.0</td>\n",
       "      <td>14138.0</td>\n",
       "      <td>0.075258</td>\n",
       "    </tr>\n",
       "    <tr>\n",
       "      <td>5</td>\n",
       "      <td>9.0</td>\n",
       "      <td>0.0</td>\n",
       "      <td>9.0</td>\n",
       "      <td>0.000000</td>\n",
       "    </tr>\n",
       "  </tbody>\n",
       "</table>\n",
       "</div>"
      ],
      "text/plain": [
       "          no_debt    debt  number_borrowers  percentage_non_return\n",
       "children                                                          \n",
       "4            37.0     4.0              41.0               0.097561\n",
       "2          1926.0   202.0            2128.0               0.094925\n",
       "1          4364.0   444.0            4808.0               0.092346\n",
       "3           303.0    27.0             330.0               0.081818\n",
       "0         13074.0  1064.0           14138.0               0.075258\n",
       "5             9.0     0.0               9.0               0.000000"
      ]
     },
     "metadata": {},
     "output_type": "display_data"
    }
   ],
   "source": [
    "\n",
    "data_pivot = data.pivot_table(index=['children'], # Группировка по столбцу 'children' - уникальные значения будут строками\n",
    "                              columns=['debt'],   # Группировка по столбцу 'debt' - его уникальные значения будут столбцами\n",
    "                              values=['gender'],  # Для подсчета количества можем взять любой столбец, это не принципиально\n",
    "                              aggfunc=['count'])  # Считаем количество функцией 'count', применив ее к столбцу 'gender'\n",
    "\n",
    "data_pivot.columns = ['no_debt', 'debt']                      # Названия получившихся столбцов\n",
    "\n",
    "data_pivot = data_pivot.fillna(0)                             # Заменили возможные пропущенные значения на 0 \n",
    "    \n",
    "data_pivot['number_borrowers'] = data_pivot['no_debt'] + data_pivot['debt'] # Нашли общее количество \n",
    "\n",
    "data_pivot['percentage_non_return'] = data_pivot['debt'] / data_pivot['number_borrowers']  # Посчитали процентное отношение \n",
    "   \n",
    "display(data_pivot.sort_values(\n",
    "    by='percentage_non_return', \n",
    "    ascending=False)                                          # Отсортируем по доле невозврата  в убывающем порядке\n",
    "       )  "
   ]
  },
  {
   "cell_type": "markdown",
   "metadata": {},
   "source": [
    "Из данных вытекает, что категоризацию по количеству детей делать не верно. На основе этой таблицы по всем имеющимся значениям сделаем вывод про некорректные данные по категориям 3, 4, 5 детей.\n",
    "\n",
    "То есть, ввиду слишком малого количества заемщиков, имеющих 3, 4, 5 детей, и, как следствие, непрезентативности выборки в этих категориях, а также ввиду близости значений доли невозврата в них к имеющим 1 и 2 детей, можно было бы распределить категории на три: \"нет детей\", \"один ребенок\", \"два и более детей\". Но на итоговый вывод это не повлияло бы, так как, судя по получившимся данным, вообще имеет смысл разбить всего на две категории: \"есть дети\" и \"нет детей\".\n",
    "\n",
    "Подсчитаем общий процент невозврата кредита по всем заемщикам, имеющим детей.\n"
   ]
  },
  {
   "cell_type": "code",
   "execution_count": 26,
   "metadata": {},
   "outputs": [
    {
     "name": "stdout",
     "output_type": "stream",
     "text": [
      "Доля невозврата среди заемщиков, имеющих детей: 9.25%\n"
     ]
    }
   ],
   "source": [
    "debt_children = data_pivot['debt'].sum() - data_pivot.loc[0, 'debt']              # Сколько заемщиков c детьми имеют долг\n",
    "\n",
    "number_borrowers_children = data_pivot['number_borrowers'].sum() - data_pivot.loc[0, 'number_borrowers'] # Всего с детьми\n",
    "\n",
    "percentage_non_return_children = debt_children / number_borrowers_children                            # Находим отношение\n",
    "\n",
    "print(f'Доля невозврата среди заемщиков, имеющих детей: {percentage_non_return_children:.2%}')    "
   ]
  },
  {
   "cell_type": "markdown",
   "metadata": {},
   "source": [
    "Создадим новую таблицу по новым критериям (есть дети - нет детей) и посчитаем конверсию.    "
   ]
  },
  {
   "cell_type": "code",
   "execution_count": 27,
   "metadata": {},
   "outputs": [
    {
     "data": {
      "text/html": [
       "<div>\n",
       "<style scoped>\n",
       "    .dataframe tbody tr th:only-of-type {\n",
       "        vertical-align: middle;\n",
       "    }\n",
       "\n",
       "    .dataframe tbody tr th {\n",
       "        vertical-align: top;\n",
       "    }\n",
       "\n",
       "    .dataframe thead th {\n",
       "        text-align: right;\n",
       "    }\n",
       "</style>\n",
       "<table border=\"1\" class=\"dataframe\">\n",
       "  <thead>\n",
       "    <tr style=\"text-align: right;\">\n",
       "      <th></th>\n",
       "      <th>no_debt</th>\n",
       "      <th>debt</th>\n",
       "      <th>number_borrowers</th>\n",
       "      <th>percentage_non_return</th>\n",
       "    </tr>\n",
       "    <tr>\n",
       "      <th>children_id</th>\n",
       "      <th></th>\n",
       "      <th></th>\n",
       "      <th></th>\n",
       "      <th></th>\n",
       "    </tr>\n",
       "  </thead>\n",
       "  <tbody>\n",
       "    <tr>\n",
       "      <td>Есть дети (1 и более)</td>\n",
       "      <td>6639</td>\n",
       "      <td>677</td>\n",
       "      <td>7316</td>\n",
       "      <td>9.25</td>\n",
       "    </tr>\n",
       "    <tr>\n",
       "      <td>Бездетные</td>\n",
       "      <td>13074</td>\n",
       "      <td>1064</td>\n",
       "      <td>14138</td>\n",
       "      <td>7.53</td>\n",
       "    </tr>\n",
       "  </tbody>\n",
       "</table>\n",
       "</div>"
      ],
      "text/plain": [
       "                       no_debt  debt  number_borrowers  percentage_non_return\n",
       "children_id                                                                  \n",
       "Есть дети (1 и более)     6639   677              7316                   9.25\n",
       "Бездетные                13074  1064             14138                   7.53"
      ]
     },
     "metadata": {},
     "output_type": "display_data"
    }
   ],
   "source": [
    "def children_category(children):                                # Определим функцию.\n",
    "    if children == 0:\n",
    "        return 'Бездетные' \n",
    "    else:\n",
    "        return 'Есть дети (1 и более)'  \n",
    "\n",
    "\n",
    "data['children_id'] = data['children'].apply(children_category) # Создали новый столбец 'children_id'\n",
    "\n",
    "data_pivot = data.pivot_table(index=['children_id'], \n",
    "                              columns=['debt'],   \n",
    "                              values=['gender'],  \n",
    "                              aggfunc=['count'])  \n",
    "\n",
    "data_pivot.columns = ['no_debt', 'debt'] \n",
    "data_pivot = data_pivot.fillna(0) \n",
    "        \n",
    "data_pivot['number_borrowers'] = data_pivot['no_debt'] + data_pivot['debt'] # Нашли общее количество заемщиков в категории\n",
    "\n",
    "data_pivot['percentage_non_return'] = (100 * data_pivot['debt'] / data_pivot['number_borrowers']).round(2) \n",
    "        #  Посчитали конверсию в процентах и округлили с помощью round() до 2 знаков после запятой\n",
    "    \n",
    "display(data_pivot.sort_values(by='percentage_non_return', ascending=False)) "
   ]
  },
  {
   "cell_type": "markdown",
   "metadata": {},
   "source": [
    "**Вывод**"
   ]
  },
  {
   "cell_type": "markdown",
   "metadata": {},
   "source": [
    "- Не имеющие детей заемщики чаще возвращают кредит, чем имеющие детей (7,51% против 9,19%). \n",
    "- Являться единственным критерием ввиду небольшого разброса результатов не может. "
   ]
  },
  {
   "cell_type": "markdown",
   "metadata": {},
   "source": [
    "### Есть ли зависимость между семейным положением и возвратом кредита в срок?\n",
    "\n",
    "Сдедаем сводную таблицу. Заменим возможные пропущенные значения на 0 аналогично предыдущей сводной таблице. Найдем общее количество заемщиков в категории, посчитаем процентное отношение не вернувших кредит к общему числу - новый столбец 'conversion_rate', и отсортируем по доле невозврата в убывающем порядке.  "
   ]
  },
  {
   "cell_type": "code",
   "execution_count": 28,
   "metadata": {},
   "outputs": [
    {
     "data": {
      "text/html": [
       "<div>\n",
       "<style scoped>\n",
       "    .dataframe tbody tr th:only-of-type {\n",
       "        vertical-align: middle;\n",
       "    }\n",
       "\n",
       "    .dataframe tbody tr th {\n",
       "        vertical-align: top;\n",
       "    }\n",
       "\n",
       "    .dataframe thead th {\n",
       "        text-align: right;\n",
       "    }\n",
       "</style>\n",
       "<table border=\"1\" class=\"dataframe\">\n",
       "  <thead>\n",
       "    <tr style=\"text-align: right;\">\n",
       "      <th></th>\n",
       "      <th></th>\n",
       "      <th>no_debt</th>\n",
       "      <th>debt</th>\n",
       "      <th>number_borrowers</th>\n",
       "      <th>percentage_non_return</th>\n",
       "    </tr>\n",
       "    <tr>\n",
       "      <th>family_status_id</th>\n",
       "      <th>family_status</th>\n",
       "      <th></th>\n",
       "      <th></th>\n",
       "      <th></th>\n",
       "      <th></th>\n",
       "    </tr>\n",
       "  </thead>\n",
       "  <tbody>\n",
       "    <tr>\n",
       "      <td>4</td>\n",
       "      <td>Не женат / не замужем</td>\n",
       "      <td>2536</td>\n",
       "      <td>274</td>\n",
       "      <td>2810</td>\n",
       "      <td>0.097509</td>\n",
       "    </tr>\n",
       "    <tr>\n",
       "      <td>1</td>\n",
       "      <td>гражданский брак</td>\n",
       "      <td>3763</td>\n",
       "      <td>388</td>\n",
       "      <td>4151</td>\n",
       "      <td>0.093471</td>\n",
       "    </tr>\n",
       "    <tr>\n",
       "      <td>0</td>\n",
       "      <td>женат / замужем</td>\n",
       "      <td>11408</td>\n",
       "      <td>931</td>\n",
       "      <td>12339</td>\n",
       "      <td>0.075452</td>\n",
       "    </tr>\n",
       "    <tr>\n",
       "      <td>3</td>\n",
       "      <td>в разводе</td>\n",
       "      <td>1110</td>\n",
       "      <td>85</td>\n",
       "      <td>1195</td>\n",
       "      <td>0.071130</td>\n",
       "    </tr>\n",
       "    <tr>\n",
       "      <td>2</td>\n",
       "      <td>вдовец / вдова</td>\n",
       "      <td>896</td>\n",
       "      <td>63</td>\n",
       "      <td>959</td>\n",
       "      <td>0.065693</td>\n",
       "    </tr>\n",
       "  </tbody>\n",
       "</table>\n",
       "</div>"
      ],
      "text/plain": [
       "                                        no_debt  debt  number_borrowers  \\\n",
       "family_status_id family_status                                            \n",
       "4                Не женат / не замужем     2536   274              2810   \n",
       "1                гражданский брак          3763   388              4151   \n",
       "0                женат / замужем          11408   931             12339   \n",
       "3                в разводе                 1110    85              1195   \n",
       "2                вдовец / вдова             896    63               959   \n",
       "\n",
       "                                        percentage_non_return  \n",
       "family_status_id family_status                                 \n",
       "4                Не женат / не замужем               0.097509  \n",
       "1                гражданский брак                    0.093471  \n",
       "0                женат / замужем                     0.075452  \n",
       "3                в разводе                           0.071130  \n",
       "2                вдовец / вдова                      0.065693  "
      ]
     },
     "metadata": {},
     "output_type": "display_data"
    }
   ],
   "source": [
    "data_pivot = data.pivot_table(index=['family_status_id', 'family_status'], \n",
    "                              columns=['debt'], \n",
    "                              values=['gender'], # Для подсчета количества можем взять любой столбец\n",
    "                              aggfunc=['count'])\n",
    "\n",
    "data_pivot.columns = ['no_debt', 'debt']         # Объявили названия получившихся столбцов\n",
    "\n",
    "data_pivot = data_pivot.fillna(0)                # Заменим возможные пропущенные значения  \n",
    "        \n",
    "data_pivot['number_borrowers'] = data_pivot['no_debt'] + data_pivot['debt'] # Нашли общее количество заемщиков в категории\n",
    "\n",
    "data_pivot['percentage_non_return'] = data_pivot['debt'] / data_pivot['number_borrowers'] \n",
    "    # Посчитали процентное отношение не вернувших кредит к общему числу - новый столбец 'conversion_rate'\n",
    "\n",
    "display(data_pivot.sort_values(by='percentage_non_return', ascending=False))  # Отсортировали в убывающем порядке"
   ]
  },
  {
   "cell_type": "markdown",
   "metadata": {},
   "source": [
    "**Вывод**"
   ]
  },
  {
   "cell_type": "markdown",
   "metadata": {},
   "source": [
    "- По полученной сводной таблице можно сделать вывод, что не женатые (не замужние) категории заемщиков имеют самый высокий процент невозврата: 9,75%. Состоящие в гражданском браке находятся близко к предыдущей категории не женатых, у них 9,35%. \n",
    "- Те, кто состоит или состоял в браке, практически на 2% от общего числа надежнее, у них процент невозврата от общего числа 7,5% и менее. \n",
    "- Так как доля вдовцов, как и находящихся в разводе, всего порядка 4% от всех данных таблицы, делать вывод об их большей надежности не совсем статистически корректно. Возможно, имеет смысл объединить их в одну категорию, так как данные по проценту невозврата близки. \n",
    "- Тенденция прослеживается, но не является критичной."
   ]
  },
  {
   "cell_type": "markdown",
   "metadata": {},
   "source": [
    "### Есть ли зависимость между уровнем дохода и возвратом кредита в срок?\n",
    "\n",
    "Поступим аналогично."
   ]
  },
  {
   "cell_type": "code",
   "execution_count": 29,
   "metadata": {},
   "outputs": [
    {
     "data": {
      "text/html": [
       "<div>\n",
       "<style scoped>\n",
       "    .dataframe tbody tr th:only-of-type {\n",
       "        vertical-align: middle;\n",
       "    }\n",
       "\n",
       "    .dataframe tbody tr th {\n",
       "        vertical-align: top;\n",
       "    }\n",
       "\n",
       "    .dataframe thead th {\n",
       "        text-align: right;\n",
       "    }\n",
       "</style>\n",
       "<table border=\"1\" class=\"dataframe\">\n",
       "  <thead>\n",
       "    <tr style=\"text-align: right;\">\n",
       "      <th></th>\n",
       "      <th>no_debt</th>\n",
       "      <th>debt</th>\n",
       "      <th>number_borrowers</th>\n",
       "      <th>percentage_non_return</th>\n",
       "    </tr>\n",
       "    <tr>\n",
       "      <th>total_income_id</th>\n",
       "      <th></th>\n",
       "      <th></th>\n",
       "      <th></th>\n",
       "      <th></th>\n",
       "    </tr>\n",
       "  </thead>\n",
       "  <tbody>\n",
       "    <tr>\n",
       "      <td>средний</td>\n",
       "      <td>8031</td>\n",
       "      <td>767</td>\n",
       "      <td>8798</td>\n",
       "      <td>0.087179</td>\n",
       "    </tr>\n",
       "    <tr>\n",
       "      <td>ниже среднего</td>\n",
       "      <td>4977</td>\n",
       "      <td>455</td>\n",
       "      <td>5432</td>\n",
       "      <td>0.083763</td>\n",
       "    </tr>\n",
       "    <tr>\n",
       "      <td>выше среднего</td>\n",
       "      <td>4835</td>\n",
       "      <td>387</td>\n",
       "      <td>5222</td>\n",
       "      <td>0.074110</td>\n",
       "    </tr>\n",
       "    <tr>\n",
       "      <td>низкий</td>\n",
       "      <td>1373</td>\n",
       "      <td>101</td>\n",
       "      <td>1474</td>\n",
       "      <td>0.068521</td>\n",
       "    </tr>\n",
       "    <tr>\n",
       "      <td>высокий</td>\n",
       "      <td>497</td>\n",
       "      <td>31</td>\n",
       "      <td>528</td>\n",
       "      <td>0.058712</td>\n",
       "    </tr>\n",
       "  </tbody>\n",
       "</table>\n",
       "</div>"
      ],
      "text/plain": [
       "                 no_debt  debt  number_borrowers  percentage_non_return\n",
       "total_income_id                                                        \n",
       "средний             8031   767              8798               0.087179\n",
       "ниже среднего       4977   455              5432               0.083763\n",
       "выше среднего       4835   387              5222               0.074110\n",
       "низкий              1373   101              1474               0.068521\n",
       "высокий              497    31               528               0.058712"
      ]
     },
     "metadata": {},
     "output_type": "display_data"
    }
   ],
   "source": [
    "data_pivot = data.pivot_table(index=['total_income_id'], \n",
    "                              columns=['debt'], \n",
    "                              values=['gender'],     # Для подсчета количества можем взять любой столбец\n",
    "                              aggfunc=['count'])\n",
    "\n",
    "data_pivot.columns = ['no_debt', 'debt']             # Объявили названия получившихся столбцов\n",
    "\n",
    "data_pivot = data_pivot.fillna(0)                    # Заменим возможные пропущенные значения на 0 \n",
    "        \n",
    "data_pivot['number_borrowers'] = data_pivot['no_debt'] + data_pivot['debt'] # Нашли общее количество заемщиков в категории\n",
    "\n",
    "data_pivot['percentage_non_return'] = data_pivot['debt'] / data_pivot['number_borrowers'] # Посчитали процентное отношение\n",
    "    \n",
    "\n",
    "display(data_pivot.sort_values(by='percentage_non_return', ascending=False))"
   ]
  },
  {
   "cell_type": "markdown",
   "metadata": {},
   "source": [
    "**Вывод**"
   ]
  },
  {
   "cell_type": "markdown",
   "metadata": {},
   "source": [
    "- Аккуратнее всего возвращают кредиты люди с самым высоким доходом и с самым низким, а хуже всего с возвратами состоит дело у имеющих средний и ниже среднего доход.\n",
    "- По сравнению с предыдущими критериями (наличие детей и семейное положение) доход влияет на способность вернуть кредит не столь сильно (худший результат 8,7% против 9,75% - семейное положение).\n",
    "- В крайних категориях подсчитанная конверсия отличается сильнее, чем по предыдущим критериям, практически на 3%. \n",
    "- В долях: количество невозвратов в полтора раза больше среди тех, кто имеет средний доход, чем среди имеющих высокий.\n",
    "- Прямой зависимости от уровня дохода нет, хотя определенные тенденции имеются."
   ]
  },
  {
   "cell_type": "markdown",
   "metadata": {},
   "source": [
    "### Как разные цели кредита влияют на его возврат в срок?"
   ]
  },
  {
   "cell_type": "code",
   "execution_count": 30,
   "metadata": {},
   "outputs": [
    {
     "data": {
      "text/html": [
       "<div>\n",
       "<style scoped>\n",
       "    .dataframe tbody tr th:only-of-type {\n",
       "        vertical-align: middle;\n",
       "    }\n",
       "\n",
       "    .dataframe tbody tr th {\n",
       "        vertical-align: top;\n",
       "    }\n",
       "\n",
       "    .dataframe thead th {\n",
       "        text-align: right;\n",
       "    }\n",
       "</style>\n",
       "<table border=\"1\" class=\"dataframe\">\n",
       "  <thead>\n",
       "    <tr style=\"text-align: right;\">\n",
       "      <th></th>\n",
       "      <th>no_debt</th>\n",
       "      <th>debt</th>\n",
       "      <th>number_borrowers</th>\n",
       "      <th>percentage_non_return</th>\n",
       "    </tr>\n",
       "    <tr>\n",
       "      <th>category_purpose</th>\n",
       "      <th></th>\n",
       "      <th></th>\n",
       "      <th></th>\n",
       "      <th></th>\n",
       "    </tr>\n",
       "  </thead>\n",
       "  <tbody>\n",
       "    <tr>\n",
       "      <td>автомобиль</td>\n",
       "      <td>3903</td>\n",
       "      <td>403</td>\n",
       "      <td>4306</td>\n",
       "      <td>0.093590</td>\n",
       "    </tr>\n",
       "    <tr>\n",
       "      <td>образование</td>\n",
       "      <td>3643</td>\n",
       "      <td>370</td>\n",
       "      <td>4013</td>\n",
       "      <td>0.092200</td>\n",
       "    </tr>\n",
       "    <tr>\n",
       "      <td>свадьба</td>\n",
       "      <td>2138</td>\n",
       "      <td>186</td>\n",
       "      <td>2324</td>\n",
       "      <td>0.080034</td>\n",
       "    </tr>\n",
       "    <tr>\n",
       "      <td>прочее</td>\n",
       "      <td>2399</td>\n",
       "      <td>205</td>\n",
       "      <td>2604</td>\n",
       "      <td>0.078725</td>\n",
       "    </tr>\n",
       "    <tr>\n",
       "      <td>недвижимость</td>\n",
       "      <td>7630</td>\n",
       "      <td>577</td>\n",
       "      <td>8207</td>\n",
       "      <td>0.070306</td>\n",
       "    </tr>\n",
       "  </tbody>\n",
       "</table>\n",
       "</div>"
      ],
      "text/plain": [
       "                  no_debt  debt  number_borrowers  percentage_non_return\n",
       "category_purpose                                                        \n",
       "автомобиль           3903   403              4306               0.093590\n",
       "образование          3643   370              4013               0.092200\n",
       "свадьба              2138   186              2324               0.080034\n",
       "прочее               2399   205              2604               0.078725\n",
       "недвижимость         7630   577              8207               0.070306"
      ]
     },
     "metadata": {},
     "output_type": "display_data"
    }
   ],
   "source": [
    "data_pivot = data.pivot_table(index=['category_purpose'], \n",
    "                              columns=['debt'], \n",
    "                              values=['gender'], \n",
    "                              aggfunc=['count'])\n",
    "\n",
    "data_pivot.columns = ['no_debt', 'debt'] \n",
    "data_pivot['number_borrowers'] = data_pivot['no_debt'] + data_pivot['debt'] \n",
    "data_pivot['percentage_non_return'] = data_pivot['debt'] / data_pivot['number_borrowers'] # Посчитали столбец 'conversion_rate'\n",
    "\n",
    "display(data_pivot.sort_values(by='percentage_non_return', ascending=False)) # Отсортировали"
   ]
  },
  {
   "cell_type": "markdown",
   "metadata": {},
   "source": [
    "**Вывод**"
   ]
  },
  {
   "cell_type": "markdown",
   "metadata": {},
   "source": [
    "- Хуже всего отдают кредиты, взятые на покупку автомобиля и образование (9 из 100 человек), чуть лучше обстоят дела с возвратом у тех, кто брал кредит на свадьбу и прочие операции (8 из 100), а самые дисциплинированные заемщики те, кто брал кредит на покупку жилья и недвижимости (7 из 100).\n",
    "- По этому критерию наименьший разброс значений невозврата.\n",
    "- Зависимость есть, но не критичная."
   ]
  },
  {
   "cell_type": "markdown",
   "metadata": {},
   "source": [
    "##  Общий вывод"
   ]
  },
  {
   "cell_type": "markdown",
   "metadata": {},
   "source": [
    "Предоставленная таблица является репрезентативной. \n",
    "В среднем по всем примененным критериям количество заемщиков, не вернувших кредиты, в крайних группах отличаются примерно в полтора раза. \n",
    "Нигде нет значений выше 9,75% или ниже 5,9%. \n",
    "**Нет ни одного критерия, который мог бы выступать в качестве основного. \n",
    "Следовательно, при построении модели кредитного скоринга необходимо рассматривать всю совокупность критериев.**"
   ]
  }
 ],
 "metadata": {
  "ExecuteTimeLog": [
   {
    "duration": 397,
    "start_time": "2021-11-21T15:04:25.158Z"
   },
   {
    "duration": 414,
    "start_time": "2021-11-21T15:07:04.393Z"
   },
   {
    "duration": 910,
    "start_time": "2021-11-21T15:07:21.270Z"
   },
   {
    "duration": 117,
    "start_time": "2021-11-21T15:39:22.485Z"
   },
   {
    "duration": 36,
    "start_time": "2021-11-21T18:53:59.502Z"
   },
   {
    "duration": 33,
    "start_time": "2021-11-21T18:54:35.769Z"
   },
   {
    "duration": 5,
    "start_time": "2021-11-21T19:18:29.533Z"
   },
   {
    "duration": 4,
    "start_time": "2021-11-21T19:24:55.912Z"
   },
   {
    "duration": 4,
    "start_time": "2021-11-21T19:25:01.585Z"
   },
   {
    "duration": 5,
    "start_time": "2021-11-21T19:25:20.576Z"
   },
   {
    "duration": 101,
    "start_time": "2021-11-21T19:25:36.659Z"
   },
   {
    "duration": 4,
    "start_time": "2021-11-21T19:25:36.763Z"
   },
   {
    "duration": 4,
    "start_time": "2021-11-21T19:25:41.215Z"
   },
   {
    "duration": 4,
    "start_time": "2021-11-21T19:26:07.535Z"
   },
   {
    "duration": 882,
    "start_time": "2021-11-21T19:27:46.419Z"
   },
   {
    "duration": 4,
    "start_time": "2021-11-21T19:27:55.338Z"
   },
   {
    "duration": 135,
    "start_time": "2021-11-21T19:28:00.967Z"
   },
   {
    "duration": 7,
    "start_time": "2021-11-21T19:31:13.364Z"
   },
   {
    "duration": 40,
    "start_time": "2021-11-21T19:31:20.893Z"
   },
   {
    "duration": 16,
    "start_time": "2021-11-21T19:36:56.524Z"
   },
   {
    "duration": 18,
    "start_time": "2021-11-21T19:42:03.092Z"
   },
   {
    "duration": 489,
    "start_time": "2021-11-21T19:42:32.027Z"
   },
   {
    "duration": 17,
    "start_time": "2021-11-21T19:42:50.468Z"
   },
   {
    "duration": 17,
    "start_time": "2021-11-21T19:43:03.835Z"
   },
   {
    "duration": 112,
    "start_time": "2021-11-21T20:03:04.956Z"
   },
   {
    "duration": 112,
    "start_time": "2021-11-21T20:03:54.760Z"
   },
   {
    "duration": 124,
    "start_time": "2021-11-21T20:07:46.920Z"
   },
   {
    "duration": 122,
    "start_time": "2021-11-21T20:08:08.408Z"
   },
   {
    "duration": 161,
    "start_time": "2021-11-21T20:10:39.824Z"
   },
   {
    "duration": 105,
    "start_time": "2021-11-21T20:11:04.081Z"
   },
   {
    "duration": 104,
    "start_time": "2021-11-21T20:11:08.415Z"
   },
   {
    "duration": 126,
    "start_time": "2021-11-21T20:12:38.577Z"
   },
   {
    "duration": 125,
    "start_time": "2021-11-21T20:13:22.617Z"
   },
   {
    "duration": 118,
    "start_time": "2021-11-21T20:15:22.976Z"
   },
   {
    "duration": 113,
    "start_time": "2021-11-21T20:16:15.960Z"
   },
   {
    "duration": 127,
    "start_time": "2021-11-21T20:16:41.199Z"
   },
   {
    "duration": 119,
    "start_time": "2021-11-21T20:17:01.759Z"
   },
   {
    "duration": 124,
    "start_time": "2021-11-21T20:19:17.399Z"
   },
   {
    "duration": 107,
    "start_time": "2021-11-21T20:19:29.710Z"
   },
   {
    "duration": 9,
    "start_time": "2021-11-21T20:19:39.559Z"
   },
   {
    "duration": 8,
    "start_time": "2021-11-21T20:20:03.073Z"
   },
   {
    "duration": 127,
    "start_time": "2021-11-21T20:20:37.040Z"
   },
   {
    "duration": 337,
    "start_time": "2021-11-21T20:21:40.921Z"
   },
   {
    "duration": 343,
    "start_time": "2021-11-21T20:24:36.237Z"
   },
   {
    "duration": 101,
    "start_time": "2021-11-21T20:24:54.333Z"
   },
   {
    "duration": 312,
    "start_time": "2021-11-21T20:26:39.278Z"
   },
   {
    "duration": 957,
    "start_time": "2021-11-22T15:43:02.896Z"
   },
   {
    "duration": 7,
    "start_time": "2021-11-22T15:43:03.857Z"
   },
   {
    "duration": 49,
    "start_time": "2021-11-22T15:43:03.867Z"
   },
   {
    "duration": 308,
    "start_time": "2021-11-22T15:54:39.336Z"
   },
   {
    "duration": 336,
    "start_time": "2021-11-22T15:56:38.337Z"
   },
   {
    "duration": 313,
    "start_time": "2021-11-22T15:57:18.319Z"
   },
   {
    "duration": 315,
    "start_time": "2021-11-22T15:57:45.847Z"
   },
   {
    "duration": 318,
    "start_time": "2021-11-22T15:57:50.966Z"
   },
   {
    "duration": 336,
    "start_time": "2021-11-22T15:58:38.566Z"
   },
   {
    "duration": 92,
    "start_time": "2021-11-22T15:59:14.873Z"
   },
   {
    "duration": 6,
    "start_time": "2021-11-22T15:59:14.967Z"
   },
   {
    "duration": 35,
    "start_time": "2021-11-22T15:59:14.976Z"
   },
   {
    "duration": 343,
    "start_time": "2021-11-22T15:59:15.015Z"
   },
   {
    "duration": 320,
    "start_time": "2021-11-22T15:59:20.165Z"
   },
   {
    "duration": 320,
    "start_time": "2021-11-22T16:01:50.237Z"
   },
   {
    "duration": 90,
    "start_time": "2021-11-22T16:01:57.094Z"
   },
   {
    "duration": 15,
    "start_time": "2021-11-22T16:01:57.187Z"
   },
   {
    "duration": 25,
    "start_time": "2021-11-22T16:01:57.205Z"
   },
   {
    "duration": 354,
    "start_time": "2021-11-22T16:01:57.232Z"
   },
   {
    "duration": 331,
    "start_time": "2021-11-22T16:01:57.589Z"
   },
   {
    "duration": 21,
    "start_time": "2021-11-22T16:08:28.796Z"
   },
   {
    "duration": -86177,
    "start_time": "2021-11-22T16:13:15.117Z"
   },
   {
    "duration": 5,
    "start_time": "2021-11-22T16:12:10.627Z"
   },
   {
    "duration": 8,
    "start_time": "2021-11-22T16:38:50.747Z"
   },
   {
    "duration": 889,
    "start_time": "2021-11-22T16:39:20.988Z"
   },
   {
    "duration": 5,
    "start_time": "2021-11-22T16:39:21.880Z"
   },
   {
    "duration": 29,
    "start_time": "2021-11-22T16:39:21.888Z"
   },
   {
    "duration": 335,
    "start_time": "2021-11-22T16:39:21.921Z"
   },
   {
    "duration": 328,
    "start_time": "2021-11-22T16:39:22.258Z"
   },
   {
    "duration": 29,
    "start_time": "2021-11-22T16:39:22.588Z"
   },
   {
    "duration": 10,
    "start_time": "2021-11-22T16:39:22.620Z"
   },
   {
    "duration": 22,
    "start_time": "2021-11-22T16:41:54.676Z"
   },
   {
    "duration": 13,
    "start_time": "2021-11-22T16:42:45.179Z"
   },
   {
    "duration": 423,
    "start_time": "2021-11-22T16:43:46.227Z"
   },
   {
    "duration": 24,
    "start_time": "2021-11-22T16:47:23.052Z"
   },
   {
    "duration": 23,
    "start_time": "2021-11-22T16:47:46.594Z"
   },
   {
    "duration": 122,
    "start_time": "2021-11-22T16:48:53.323Z"
   },
   {
    "duration": 8,
    "start_time": "2021-11-22T16:49:03.859Z"
   },
   {
    "duration": 6,
    "start_time": "2021-11-22T16:56:22.146Z"
   },
   {
    "duration": 5,
    "start_time": "2021-11-22T16:56:25.354Z"
   },
   {
    "duration": 8,
    "start_time": "2021-11-22T16:56:50.793Z"
   },
   {
    "duration": 7,
    "start_time": "2021-11-22T16:57:38.509Z"
   },
   {
    "duration": 7,
    "start_time": "2021-11-22T16:57:52.730Z"
   },
   {
    "duration": 10,
    "start_time": "2021-11-22T16:59:23.546Z"
   },
   {
    "duration": 10,
    "start_time": "2021-11-22T16:59:56.049Z"
   },
   {
    "duration": 8,
    "start_time": "2021-11-22T17:00:07.473Z"
   },
   {
    "duration": 10,
    "start_time": "2021-11-22T17:02:53.825Z"
   },
   {
    "duration": 13,
    "start_time": "2021-11-22T17:07:42.840Z"
   },
   {
    "duration": 11,
    "start_time": "2021-11-22T17:08:25.860Z"
   },
   {
    "duration": 12,
    "start_time": "2021-11-22T17:09:16.184Z"
   },
   {
    "duration": 16,
    "start_time": "2021-11-22T17:12:50.877Z"
   },
   {
    "duration": 11,
    "start_time": "2021-11-22T17:17:46.120Z"
   },
   {
    "duration": 370,
    "start_time": "2021-11-22T17:19:52.318Z"
   },
   {
    "duration": 9,
    "start_time": "2021-11-22T17:19:59.471Z"
   },
   {
    "duration": 16,
    "start_time": "2021-11-22T17:21:41.798Z"
   },
   {
    "duration": 15,
    "start_time": "2021-11-22T17:26:08.927Z"
   },
   {
    "duration": 24,
    "start_time": "2021-11-22T17:27:03.751Z"
   },
   {
    "duration": 18,
    "start_time": "2021-11-22T17:48:19.113Z"
   },
   {
    "duration": 35,
    "start_time": "2021-11-22T17:53:32.850Z"
   },
   {
    "duration": 34,
    "start_time": "2021-11-22T17:54:17.882Z"
   },
   {
    "duration": 1879,
    "start_time": "2021-11-22T17:57:08.258Z"
   },
   {
    "duration": 23,
    "start_time": "2021-11-22T17:58:08.882Z"
   },
   {
    "duration": 24,
    "start_time": "2021-11-22T17:59:42.265Z"
   },
   {
    "duration": 1569,
    "start_time": "2021-11-22T18:00:55.640Z"
   },
   {
    "duration": 1619,
    "start_time": "2021-11-22T18:02:06.713Z"
   },
   {
    "duration": 274,
    "start_time": "2021-11-23T17:10:41.599Z"
   },
   {
    "duration": 235,
    "start_time": "2021-11-23T17:10:51.542Z"
   },
   {
    "duration": 237,
    "start_time": "2021-11-23T17:11:21.885Z"
   },
   {
    "duration": 643,
    "start_time": "2021-11-23T17:12:10.463Z"
   },
   {
    "duration": 3,
    "start_time": "2021-11-23T17:12:11.108Z"
   },
   {
    "duration": 36,
    "start_time": "2021-11-23T17:12:11.113Z"
   },
   {
    "duration": 166,
    "start_time": "2021-11-23T17:12:11.150Z"
   },
   {
    "duration": 175,
    "start_time": "2021-11-23T17:12:11.318Z"
   },
   {
    "duration": 12,
    "start_time": "2021-11-23T17:12:11.495Z"
   },
   {
    "duration": 19,
    "start_time": "2021-11-23T17:12:11.508Z"
   },
   {
    "duration": 23,
    "start_time": "2021-11-23T17:12:11.529Z"
   },
   {
    "duration": 19,
    "start_time": "2021-11-23T17:12:11.554Z"
   },
   {
    "duration": 16,
    "start_time": "2021-11-23T17:12:11.575Z"
   },
   {
    "duration": 26,
    "start_time": "2021-11-23T17:12:11.593Z"
   },
   {
    "duration": 23,
    "start_time": "2021-11-23T17:12:11.620Z"
   },
   {
    "duration": 20,
    "start_time": "2021-11-23T17:12:11.645Z"
   },
   {
    "duration": 20,
    "start_time": "2021-11-23T17:12:11.666Z"
   },
   {
    "duration": 11,
    "start_time": "2021-11-23T17:12:44.522Z"
   },
   {
    "duration": 11,
    "start_time": "2021-11-23T17:13:04.598Z"
   },
   {
    "duration": 83,
    "start_time": "2021-11-23T17:13:40.280Z"
   },
   {
    "duration": 335,
    "start_time": "2021-11-23T17:13:46.369Z"
   },
   {
    "duration": 257,
    "start_time": "2021-11-23T17:14:14.687Z"
   },
   {
    "duration": 10,
    "start_time": "2021-11-23T17:14:29.609Z"
   },
   {
    "duration": 18,
    "start_time": "2021-11-23T17:16:33.194Z"
   },
   {
    "duration": 20,
    "start_time": "2021-11-23T17:16:59.192Z"
   },
   {
    "duration": 13,
    "start_time": "2021-11-23T17:31:51.955Z"
   },
   {
    "duration": 12,
    "start_time": "2021-11-23T17:32:04.229Z"
   },
   {
    "duration": 14,
    "start_time": "2021-11-23T17:46:09.017Z"
   },
   {
    "duration": 26,
    "start_time": "2021-11-23T17:47:39.068Z"
   },
   {
    "duration": 29,
    "start_time": "2021-11-23T17:47:51.804Z"
   },
   {
    "duration": 43,
    "start_time": "2021-11-23T17:50:48.634Z"
   },
   {
    "duration": 17,
    "start_time": "2021-11-23T17:56:06.690Z"
   },
   {
    "duration": 23,
    "start_time": "2021-11-23T17:56:32.876Z"
   },
   {
    "duration": 645,
    "start_time": "2021-11-23T18:10:25.308Z"
   },
   {
    "duration": 621,
    "start_time": "2021-11-23T18:10:44.841Z"
   },
   {
    "duration": 5,
    "start_time": "2021-11-23T18:11:14.109Z"
   },
   {
    "duration": 615,
    "start_time": "2021-11-23T18:15:41.973Z"
   },
   {
    "duration": 6,
    "start_time": "2021-11-23T18:30:46.767Z"
   },
   {
    "duration": 2403,
    "start_time": "2021-11-23T18:45:25.135Z"
   },
   {
    "duration": 2619,
    "start_time": "2021-11-23T18:48:53.919Z"
   },
   {
    "duration": 2551,
    "start_time": "2021-11-23T18:49:45.872Z"
   },
   {
    "duration": -87181,
    "start_time": "2021-11-23T18:52:21.968Z"
   },
   {
    "duration": 2882,
    "start_time": "2021-11-23T18:51:08.326Z"
   },
   {
    "duration": 3007,
    "start_time": "2021-11-23T18:52:55.549Z"
   },
   {
    "duration": 4030,
    "start_time": "2021-11-23T18:53:10.461Z"
   },
   {
    "duration": 2728,
    "start_time": "2021-11-23T18:54:09.539Z"
   },
   {
    "duration": 2704,
    "start_time": "2021-11-23T18:57:34.899Z"
   },
   {
    "duration": 88,
    "start_time": "2021-11-23T19:12:37.162Z"
   },
   {
    "duration": 2977,
    "start_time": "2021-11-23T19:13:50.458Z"
   },
   {
    "duration": 622,
    "start_time": "2021-11-23T19:15:06.371Z"
   },
   {
    "duration": 2610,
    "start_time": "2021-11-23T19:20:35.799Z"
   },
   {
    "duration": 82,
    "start_time": "2021-11-23T19:21:04.857Z"
   },
   {
    "duration": 87,
    "start_time": "2021-11-23T19:21:24.947Z"
   },
   {
    "duration": 2634,
    "start_time": "2021-11-23T19:21:34.928Z"
   },
   {
    "duration": 2554,
    "start_time": "2021-11-23T19:22:41.543Z"
   },
   {
    "duration": 79,
    "start_time": "2021-11-23T19:35:40.257Z"
   },
   {
    "duration": 11,
    "start_time": "2021-11-23T19:35:55.599Z"
   },
   {
    "duration": 10,
    "start_time": "2021-11-23T19:37:34.921Z"
   },
   {
    "duration": 12,
    "start_time": "2021-11-23T19:45:21.348Z"
   },
   {
    "duration": 77,
    "start_time": "2021-11-23T19:51:27.586Z"
   },
   {
    "duration": 326,
    "start_time": "2021-11-23T19:51:41.764Z"
   },
   {
    "duration": 5,
    "start_time": "2021-11-23T19:52:05.239Z"
   },
   {
    "duration": 17,
    "start_time": "2021-11-23T19:56:15.685Z"
   },
   {
    "duration": 4,
    "start_time": "2021-11-23T20:00:12.122Z"
   },
   {
    "duration": 2773,
    "start_time": "2021-11-23T20:01:34.453Z"
   },
   {
    "duration": 77,
    "start_time": "2021-11-23T20:05:12.503Z"
   },
   {
    "duration": 3,
    "start_time": "2021-11-23T20:06:58.095Z"
   },
   {
    "duration": 8,
    "start_time": "2021-11-23T20:10:08.596Z"
   },
   {
    "duration": 5,
    "start_time": "2021-11-23T20:41:35.126Z"
   },
   {
    "duration": 283,
    "start_time": "2021-11-23T20:43:24.519Z"
   },
   {
    "duration": 12,
    "start_time": "2021-11-23T20:44:08.198Z"
   },
   {
    "duration": 10,
    "start_time": "2021-11-23T20:44:16.409Z"
   },
   {
    "duration": 6734,
    "start_time": "2021-11-23T20:45:40.292Z"
   },
   {
    "duration": 21,
    "start_time": "2021-11-23T20:47:40.057Z"
   },
   {
    "duration": 19,
    "start_time": "2021-11-23T20:49:01.869Z"
   },
   {
    "duration": 17,
    "start_time": "2021-11-23T20:59:04.622Z"
   },
   {
    "duration": 17,
    "start_time": "2021-11-23T20:59:47.989Z"
   },
   {
    "duration": 641,
    "start_time": "2021-11-23T21:05:47.053Z"
   },
   {
    "duration": 605,
    "start_time": "2021-11-23T21:06:02.009Z"
   },
   {
    "duration": 5,
    "start_time": "2021-11-23T21:06:02.617Z"
   },
   {
    "duration": 20,
    "start_time": "2021-11-23T21:06:02.624Z"
   },
   {
    "duration": 300,
    "start_time": "2021-11-23T21:06:02.647Z"
   },
   {
    "duration": 288,
    "start_time": "2021-11-23T21:06:02.949Z"
   },
   {
    "duration": 21,
    "start_time": "2021-11-23T21:06:03.239Z"
   },
   {
    "duration": 7,
    "start_time": "2021-11-23T21:06:03.262Z"
   },
   {
    "duration": 10,
    "start_time": "2021-11-23T21:06:03.288Z"
   },
   {
    "duration": 13,
    "start_time": "2021-11-23T21:06:03.302Z"
   },
   {
    "duration": 7,
    "start_time": "2021-11-23T21:06:03.317Z"
   },
   {
    "duration": 8,
    "start_time": "2021-11-23T21:06:03.327Z"
   },
   {
    "duration": 13,
    "start_time": "2021-11-23T21:06:03.337Z"
   },
   {
    "duration": 16,
    "start_time": "2021-11-23T21:06:03.388Z"
   },
   {
    "duration": 11,
    "start_time": "2021-11-23T21:06:03.406Z"
   },
   {
    "duration": 70,
    "start_time": "2021-11-23T21:06:03.419Z"
   },
   {
    "duration": 24,
    "start_time": "2021-11-23T21:06:03.491Z"
   },
   {
    "duration": 632,
    "start_time": "2021-11-23T21:06:03.517Z"
   },
   {
    "duration": 5,
    "start_time": "2021-11-23T21:06:04.152Z"
   },
   {
    "duration": 3009,
    "start_time": "2021-11-23T21:06:04.158Z"
   },
   {
    "duration": 28,
    "start_time": "2021-11-23T21:06:07.169Z"
   },
   {
    "duration": 7,
    "start_time": "2021-11-23T21:06:07.199Z"
   },
   {
    "duration": 8,
    "start_time": "2021-11-23T21:06:07.208Z"
   },
   {
    "duration": 30,
    "start_time": "2021-11-23T21:06:07.218Z"
   },
   {
    "duration": 221,
    "start_time": "2021-11-24T17:00:03.489Z"
   },
   {
    "duration": 629,
    "start_time": "2021-11-24T17:01:09.165Z"
   },
   {
    "duration": 4,
    "start_time": "2021-11-24T17:01:09.796Z"
   },
   {
    "duration": 17,
    "start_time": "2021-11-24T17:01:09.802Z"
   },
   {
    "duration": 195,
    "start_time": "2021-11-24T17:01:09.821Z"
   },
   {
    "duration": 195,
    "start_time": "2021-11-24T17:01:10.017Z"
   },
   {
    "duration": 14,
    "start_time": "2021-11-24T17:01:10.213Z"
   },
   {
    "duration": 7,
    "start_time": "2021-11-24T17:01:10.229Z"
   },
   {
    "duration": 10,
    "start_time": "2021-11-24T17:01:10.238Z"
   },
   {
    "duration": 42,
    "start_time": "2021-11-24T17:01:10.250Z"
   },
   {
    "duration": 6,
    "start_time": "2021-11-24T17:01:10.294Z"
   },
   {
    "duration": 10,
    "start_time": "2021-11-24T17:01:10.301Z"
   },
   {
    "duration": 11,
    "start_time": "2021-11-24T17:01:10.313Z"
   },
   {
    "duration": 15,
    "start_time": "2021-11-24T17:01:10.325Z"
   },
   {
    "duration": 11,
    "start_time": "2021-11-24T17:01:10.342Z"
   },
   {
    "duration": 79,
    "start_time": "2021-11-24T17:01:10.355Z"
   },
   {
    "duration": 26,
    "start_time": "2021-11-24T17:01:10.436Z"
   },
   {
    "duration": 666,
    "start_time": "2021-11-24T17:01:10.463Z"
   },
   {
    "duration": 5,
    "start_time": "2021-11-24T17:01:11.132Z"
   },
   {
    "duration": 2773,
    "start_time": "2021-11-24T17:01:11.138Z"
   },
   {
    "duration": 9,
    "start_time": "2021-11-24T17:01:13.913Z"
   },
   {
    "duration": 14,
    "start_time": "2021-11-24T17:01:13.924Z"
   },
   {
    "duration": 20,
    "start_time": "2021-11-24T17:01:13.939Z"
   },
   {
    "duration": 35,
    "start_time": "2021-11-24T17:01:13.960Z"
   },
   {
    "duration": 205,
    "start_time": "2021-11-24T17:01:13.996Z"
   },
   {
    "duration": 187,
    "start_time": "2021-11-24T17:01:31.120Z"
   },
   {
    "duration": 194,
    "start_time": "2021-11-24T17:02:23.841Z"
   },
   {
    "duration": 179,
    "start_time": "2021-11-24T17:09:10.272Z"
   },
   {
    "duration": 3462,
    "start_time": "2021-11-24T17:10:57.849Z"
   },
   {
    "duration": 18,
    "start_time": "2021-11-24T17:11:58.208Z"
   },
   {
    "duration": 3383,
    "start_time": "2021-11-24T17:15:17.446Z"
   },
   {
    "duration": 17,
    "start_time": "2021-11-24T17:15:47.861Z"
   },
   {
    "duration": 3253,
    "start_time": "2021-11-24T17:16:57.216Z"
   },
   {
    "duration": 3243,
    "start_time": "2021-11-24T17:18:17.758Z"
   },
   {
    "duration": 24,
    "start_time": "2021-11-24T17:21:01.999Z"
   },
   {
    "duration": 19,
    "start_time": "2021-11-24T17:21:20.355Z"
   },
   {
    "duration": 3500,
    "start_time": "2021-11-24T17:23:31.775Z"
   },
   {
    "duration": 3262,
    "start_time": "2021-11-24T17:24:44.889Z"
   },
   {
    "duration": 220,
    "start_time": "2021-11-24T17:25:14.300Z"
   },
   {
    "duration": 201,
    "start_time": "2021-11-24T17:25:55.270Z"
   },
   {
    "duration": 3295,
    "start_time": "2021-11-24T17:26:41.830Z"
   },
   {
    "duration": 3311,
    "start_time": "2021-11-24T17:26:57.015Z"
   },
   {
    "duration": 4280,
    "start_time": "2021-11-24T17:27:20.214Z"
   },
   {
    "duration": 3547,
    "start_time": "2021-11-24T17:27:45.360Z"
   },
   {
    "duration": 5,
    "start_time": "2021-11-24T17:31:43.206Z"
   },
   {
    "duration": 19,
    "start_time": "2021-11-24T17:45:39.971Z"
   },
   {
    "duration": 199,
    "start_time": "2021-11-24T17:46:14.165Z"
   },
   {
    "duration": 21,
    "start_time": "2021-11-24T17:46:58.292Z"
   },
   {
    "duration": 41,
    "start_time": "2021-11-24T17:48:25.092Z"
   },
   {
    "duration": 738,
    "start_time": "2021-11-24T17:56:41.879Z"
   },
   {
    "duration": 22,
    "start_time": "2021-11-24T17:57:07.436Z"
   },
   {
    "duration": 19,
    "start_time": "2021-11-24T17:59:21.677Z"
   },
   {
    "duration": 68,
    "start_time": "2021-11-24T17:59:57.307Z"
   },
   {
    "duration": 4,
    "start_time": "2021-11-24T17:59:57.377Z"
   },
   {
    "duration": 18,
    "start_time": "2021-11-24T17:59:57.382Z"
   },
   {
    "duration": 195,
    "start_time": "2021-11-24T17:59:57.402Z"
   },
   {
    "duration": 196,
    "start_time": "2021-11-24T17:59:57.599Z"
   },
   {
    "duration": 13,
    "start_time": "2021-11-24T17:59:57.797Z"
   },
   {
    "duration": 6,
    "start_time": "2021-11-24T17:59:57.812Z"
   },
   {
    "duration": 8,
    "start_time": "2021-11-24T17:59:57.819Z"
   },
   {
    "duration": 9,
    "start_time": "2021-11-24T17:59:57.829Z"
   },
   {
    "duration": 5,
    "start_time": "2021-11-24T17:59:57.839Z"
   },
   {
    "duration": 48,
    "start_time": "2021-11-24T17:59:57.846Z"
   },
   {
    "duration": 10,
    "start_time": "2021-11-24T17:59:57.895Z"
   },
   {
    "duration": 9,
    "start_time": "2021-11-24T17:59:57.907Z"
   },
   {
    "duration": 4,
    "start_time": "2021-11-24T17:59:57.918Z"
   },
   {
    "duration": 80,
    "start_time": "2021-11-24T17:59:57.924Z"
   },
   {
    "duration": 24,
    "start_time": "2021-11-24T17:59:58.006Z"
   },
   {
    "duration": 689,
    "start_time": "2021-11-24T17:59:58.031Z"
   },
   {
    "duration": 6,
    "start_time": "2021-11-24T17:59:58.722Z"
   },
   {
    "duration": 2715,
    "start_time": "2021-11-24T17:59:58.730Z"
   },
   {
    "duration": 11,
    "start_time": "2021-11-24T18:00:01.447Z"
   },
   {
    "duration": 11,
    "start_time": "2021-11-24T18:00:01.460Z"
   },
   {
    "duration": 12,
    "start_time": "2021-11-24T18:00:01.492Z"
   },
   {
    "duration": 34,
    "start_time": "2021-11-24T18:00:01.506Z"
   },
   {
    "duration": 23,
    "start_time": "2021-11-24T18:00:12.829Z"
   },
   {
    "duration": 21,
    "start_time": "2021-11-24T18:02:48.221Z"
   },
   {
    "duration": 22,
    "start_time": "2021-11-24T18:04:17.781Z"
   },
   {
    "duration": 23,
    "start_time": "2021-11-24T18:15:05.968Z"
   },
   {
    "duration": 25,
    "start_time": "2021-11-24T18:16:09.531Z"
   },
   {
    "duration": 26,
    "start_time": "2021-11-24T18:19:13.025Z"
   },
   {
    "duration": 22,
    "start_time": "2021-11-24T18:19:30.380Z"
   },
   {
    "duration": 184,
    "start_time": "2021-11-24T18:46:14.657Z"
   },
   {
    "duration": 4181,
    "start_time": "2021-11-24T18:46:49.928Z"
   },
   {
    "duration": 4315,
    "start_time": "2021-11-24T18:47:53.996Z"
   },
   {
    "duration": 4457,
    "start_time": "2021-11-24T18:48:37.609Z"
   },
   {
    "duration": 4295,
    "start_time": "2021-11-24T18:49:07.887Z"
   },
   {
    "duration": 4,
    "start_time": "2021-11-24T18:50:49.505Z"
   },
   {
    "duration": 3281,
    "start_time": "2021-11-24T18:51:53.593Z"
   },
   {
    "duration": 3232,
    "start_time": "2021-11-24T18:54:52.865Z"
   },
   {
    "duration": 4,
    "start_time": "2021-11-24T18:55:03.394Z"
   },
   {
    "duration": 7,
    "start_time": "2021-11-24T19:01:55.927Z"
   },
   {
    "duration": 5,
    "start_time": "2021-11-24T19:02:20.615Z"
   },
   {
    "duration": 5,
    "start_time": "2021-11-24T19:03:13.512Z"
   },
   {
    "duration": 4,
    "start_time": "2021-11-24T19:04:18.967Z"
   },
   {
    "duration": 67,
    "start_time": "2021-11-24T19:04:23.718Z"
   },
   {
    "duration": 5,
    "start_time": "2021-11-24T19:04:23.787Z"
   },
   {
    "duration": 12,
    "start_time": "2021-11-24T19:04:23.794Z"
   },
   {
    "duration": 194,
    "start_time": "2021-11-24T19:04:23.807Z"
   },
   {
    "duration": 200,
    "start_time": "2021-11-24T19:04:24.002Z"
   },
   {
    "duration": 14,
    "start_time": "2021-11-24T19:04:24.204Z"
   },
   {
    "duration": 6,
    "start_time": "2021-11-24T19:04:24.220Z"
   },
   {
    "duration": 8,
    "start_time": "2021-11-24T19:04:24.228Z"
   },
   {
    "duration": 55,
    "start_time": "2021-11-24T19:04:24.239Z"
   },
   {
    "duration": 6,
    "start_time": "2021-11-24T19:04:24.297Z"
   },
   {
    "duration": 8,
    "start_time": "2021-11-24T19:04:24.305Z"
   },
   {
    "duration": 10,
    "start_time": "2021-11-24T19:04:24.314Z"
   },
   {
    "duration": 11,
    "start_time": "2021-11-24T19:04:24.326Z"
   },
   {
    "duration": 5,
    "start_time": "2021-11-24T19:04:24.338Z"
   },
   {
    "duration": 91,
    "start_time": "2021-11-24T19:04:24.344Z"
   },
   {
    "duration": 26,
    "start_time": "2021-11-24T19:04:24.437Z"
   },
   {
    "duration": 732,
    "start_time": "2021-11-24T19:04:24.464Z"
   },
   {
    "duration": 5,
    "start_time": "2021-11-24T19:04:25.198Z"
   },
   {
    "duration": 2829,
    "start_time": "2021-11-24T19:04:25.205Z"
   },
   {
    "duration": 12,
    "start_time": "2021-11-24T19:04:28.035Z"
   },
   {
    "duration": 5,
    "start_time": "2021-11-24T19:04:28.048Z"
   },
   {
    "duration": 38,
    "start_time": "2021-11-24T19:04:28.055Z"
   },
   {
    "duration": 22,
    "start_time": "2021-11-24T19:04:28.094Z"
   },
   {
    "duration": 24,
    "start_time": "2021-11-24T19:04:28.118Z"
   },
   {
    "duration": 6,
    "start_time": "2021-11-24T19:04:28.144Z"
   },
   {
    "duration": 5,
    "start_time": "2021-11-24T19:05:46.627Z"
   },
   {
    "duration": 6,
    "start_time": "2021-11-24T19:06:14.484Z"
   },
   {
    "duration": 7,
    "start_time": "2021-11-24T19:07:35.090Z"
   },
   {
    "duration": 22,
    "start_time": "2021-11-24T19:10:23.115Z"
   },
   {
    "duration": 21,
    "start_time": "2021-11-24T19:10:44.255Z"
   },
   {
    "duration": 24,
    "start_time": "2021-11-24T19:12:35.153Z"
   },
   {
    "duration": 28,
    "start_time": "2021-11-24T19:20:25.278Z"
   },
   {
    "duration": 22,
    "start_time": "2021-11-24T19:23:19.340Z"
   },
   {
    "duration": 26,
    "start_time": "2021-11-24T19:36:39.153Z"
   },
   {
    "duration": 583,
    "start_time": "2021-11-24T20:22:12.037Z"
   },
   {
    "duration": 4,
    "start_time": "2021-11-24T20:22:12.622Z"
   },
   {
    "duration": 17,
    "start_time": "2021-11-24T20:22:12.628Z"
   },
   {
    "duration": 194,
    "start_time": "2021-11-24T20:22:12.647Z"
   },
   {
    "duration": 193,
    "start_time": "2021-11-24T20:22:12.843Z"
   },
   {
    "duration": 14,
    "start_time": "2021-11-24T20:22:13.038Z"
   },
   {
    "duration": 7,
    "start_time": "2021-11-24T20:22:13.054Z"
   },
   {
    "duration": 34,
    "start_time": "2021-11-24T20:22:13.063Z"
   },
   {
    "duration": 13,
    "start_time": "2021-11-24T20:22:13.099Z"
   },
   {
    "duration": 6,
    "start_time": "2021-11-24T20:22:13.114Z"
   },
   {
    "duration": 9,
    "start_time": "2021-11-24T20:22:13.121Z"
   },
   {
    "duration": 9,
    "start_time": "2021-11-24T20:22:13.132Z"
   },
   {
    "duration": 48,
    "start_time": "2021-11-24T20:22:13.143Z"
   },
   {
    "duration": 5,
    "start_time": "2021-11-24T20:22:13.193Z"
   },
   {
    "duration": 46,
    "start_time": "2021-11-24T20:22:13.200Z"
   },
   {
    "duration": 55,
    "start_time": "2021-11-24T20:22:13.248Z"
   },
   {
    "duration": 675,
    "start_time": "2021-11-24T20:22:13.305Z"
   },
   {
    "duration": 12,
    "start_time": "2021-11-24T20:22:13.982Z"
   },
   {
    "duration": 2727,
    "start_time": "2021-11-24T20:22:13.996Z"
   },
   {
    "duration": 10,
    "start_time": "2021-11-24T20:22:16.725Z"
   },
   {
    "duration": 5,
    "start_time": "2021-11-24T20:22:16.737Z"
   },
   {
    "duration": 7,
    "start_time": "2021-11-24T20:22:16.744Z"
   },
   {
    "duration": 55,
    "start_time": "2021-11-24T20:22:16.754Z"
   },
   {
    "duration": 24,
    "start_time": "2021-11-24T20:22:16.811Z"
   },
   {
    "duration": 4,
    "start_time": "2021-11-24T20:22:16.837Z"
   },
   {
    "duration": 56,
    "start_time": "2021-11-24T20:22:16.843Z"
   },
   {
    "duration": 23,
    "start_time": "2021-11-24T20:22:16.901Z"
   },
   {
    "duration": 20,
    "start_time": "2021-11-24T20:22:16.926Z"
   },
   {
    "duration": 629,
    "start_time": "2021-11-24T20:46:00.590Z"
   },
   {
    "duration": 4,
    "start_time": "2021-11-24T20:46:01.221Z"
   },
   {
    "duration": 18,
    "start_time": "2021-11-24T20:46:01.226Z"
   },
   {
    "duration": 191,
    "start_time": "2021-11-24T20:46:01.245Z"
   },
   {
    "duration": 192,
    "start_time": "2021-11-24T20:46:01.438Z"
   },
   {
    "duration": 14,
    "start_time": "2021-11-24T20:46:01.631Z"
   },
   {
    "duration": 13,
    "start_time": "2021-11-24T20:46:01.647Z"
   },
   {
    "duration": 29,
    "start_time": "2021-11-24T20:46:01.663Z"
   },
   {
    "duration": 15,
    "start_time": "2021-11-24T20:46:01.695Z"
   },
   {
    "duration": 9,
    "start_time": "2021-11-24T20:46:01.712Z"
   },
   {
    "duration": 11,
    "start_time": "2021-11-24T20:46:01.723Z"
   },
   {
    "duration": 23,
    "start_time": "2021-11-24T20:46:01.735Z"
   },
   {
    "duration": 13,
    "start_time": "2021-11-24T20:46:01.760Z"
   },
   {
    "duration": 21,
    "start_time": "2021-11-24T20:46:01.774Z"
   },
   {
    "duration": 64,
    "start_time": "2021-11-24T20:46:01.796Z"
   },
   {
    "duration": 35,
    "start_time": "2021-11-24T20:46:01.862Z"
   },
   {
    "duration": 689,
    "start_time": "2021-11-24T20:46:01.899Z"
   },
   {
    "duration": 4,
    "start_time": "2021-11-24T20:46:02.590Z"
   },
   {
    "duration": 2739,
    "start_time": "2021-11-24T20:46:02.596Z"
   },
   {
    "duration": 10,
    "start_time": "2021-11-24T20:46:05.337Z"
   },
   {
    "duration": 4,
    "start_time": "2021-11-24T20:46:05.349Z"
   },
   {
    "duration": 7,
    "start_time": "2021-11-24T20:46:05.355Z"
   },
   {
    "duration": 22,
    "start_time": "2021-11-24T20:46:05.392Z"
   },
   {
    "duration": 24,
    "start_time": "2021-11-24T20:46:05.416Z"
   },
   {
    "duration": 4,
    "start_time": "2021-11-24T20:46:05.441Z"
   },
   {
    "duration": 57,
    "start_time": "2021-11-24T20:46:05.447Z"
   },
   {
    "duration": 21,
    "start_time": "2021-11-24T20:46:05.506Z"
   },
   {
    "duration": 21,
    "start_time": "2021-11-24T20:46:05.529Z"
   },
   {
    "duration": 638,
    "start_time": "2021-11-25T19:02:03.789Z"
   },
   {
    "duration": 4,
    "start_time": "2021-11-25T19:02:04.429Z"
   },
   {
    "duration": 14,
    "start_time": "2021-11-25T19:02:04.435Z"
   },
   {
    "duration": 186,
    "start_time": "2021-11-25T19:02:04.451Z"
   },
   {
    "duration": 181,
    "start_time": "2021-11-25T19:02:04.638Z"
   },
   {
    "duration": 19,
    "start_time": "2021-11-25T19:02:04.822Z"
   },
   {
    "duration": 6,
    "start_time": "2021-11-25T19:02:04.843Z"
   },
   {
    "duration": 38,
    "start_time": "2021-11-25T19:02:04.851Z"
   },
   {
    "duration": 11,
    "start_time": "2021-11-25T19:02:04.891Z"
   },
   {
    "duration": -87779,
    "start_time": "2021-11-25T19:03:59.811Z"
   },
   {
    "duration": 6511,
    "start_time": "2021-11-25T19:03:26.280Z"
   },
   {
    "duration": 6981,
    "start_time": "2021-11-25T19:03:48.610Z"
   },
   {
    "duration": 4,
    "start_time": "2021-11-25T19:04:41.135Z"
   },
   {
    "duration": 77,
    "start_time": "2021-11-25T19:07:48.717Z"
   },
   {
    "duration": 6013,
    "start_time": "2021-11-25T19:07:53.612Z"
   },
   {
    "duration": 11,
    "start_time": "2021-11-25T19:08:16.994Z"
   },
   {
    "duration": 11,
    "start_time": "2021-11-25T19:09:04.590Z"
   },
   {
    "duration": 89,
    "start_time": "2021-11-25T19:11:52.485Z"
   },
   {
    "duration": 10,
    "start_time": "2021-11-25T19:13:05.547Z"
   },
   {
    "duration": 77,
    "start_time": "2021-11-25T19:13:34.030Z"
   },
   {
    "duration": 74,
    "start_time": "2021-11-25T19:13:43.415Z"
   },
   {
    "duration": 9,
    "start_time": "2021-11-25T19:13:51.898Z"
   },
   {
    "duration": 85,
    "start_time": "2021-11-25T19:15:54.118Z"
   },
   {
    "duration": 223,
    "start_time": "2021-11-25T19:16:04.067Z"
   },
   {
    "duration": 3,
    "start_time": "2021-11-25T20:02:12.288Z"
   },
   {
    "duration": 30,
    "start_time": "2021-11-25T20:02:23.725Z"
   },
   {
    "duration": 76,
    "start_time": "2021-11-25T20:11:09.840Z"
   },
   {
    "duration": 25,
    "start_time": "2021-11-25T20:15:57.847Z"
   },
   {
    "duration": 270,
    "start_time": "2021-11-25T20:26:22.309Z"
   },
   {
    "duration": 64,
    "start_time": "2021-11-25T20:26:32.600Z"
   },
   {
    "duration": 4,
    "start_time": "2021-11-25T20:26:32.666Z"
   },
   {
    "duration": 36,
    "start_time": "2021-11-25T20:26:32.672Z"
   },
   {
    "duration": 197,
    "start_time": "2021-11-25T20:26:32.710Z"
   },
   {
    "duration": 189,
    "start_time": "2021-11-25T20:26:32.908Z"
   },
   {
    "duration": 13,
    "start_time": "2021-11-25T20:26:33.099Z"
   },
   {
    "duration": 24,
    "start_time": "2021-11-25T20:26:33.114Z"
   },
   {
    "duration": 29,
    "start_time": "2021-11-25T20:26:33.141Z"
   },
   {
    "duration": 19,
    "start_time": "2021-11-25T20:26:33.172Z"
   },
   {
    "duration": 24,
    "start_time": "2021-11-25T20:26:33.193Z"
   },
   {
    "duration": 19,
    "start_time": "2021-11-25T20:26:33.218Z"
   },
   {
    "duration": 24,
    "start_time": "2021-11-25T20:26:33.238Z"
   },
   {
    "duration": 31,
    "start_time": "2021-11-25T20:26:33.263Z"
   },
   {
    "duration": 27,
    "start_time": "2021-11-25T20:26:33.295Z"
   },
   {
    "duration": 10,
    "start_time": "2021-11-25T20:26:33.324Z"
   },
   {
    "duration": 58,
    "start_time": "2021-11-25T20:26:33.336Z"
   },
   {
    "duration": 23,
    "start_time": "2021-11-25T20:26:33.395Z"
   },
   {
    "duration": 612,
    "start_time": "2021-11-25T20:26:33.419Z"
   },
   {
    "duration": 4,
    "start_time": "2021-11-25T20:26:34.033Z"
   },
   {
    "duration": 2916,
    "start_time": "2021-11-25T20:26:34.038Z"
   },
   {
    "duration": 9,
    "start_time": "2021-11-25T20:26:36.956Z"
   },
   {
    "duration": 25,
    "start_time": "2021-11-25T20:26:36.967Z"
   },
   {
    "duration": 22,
    "start_time": "2021-11-25T20:26:36.995Z"
   },
   {
    "duration": 41,
    "start_time": "2021-11-25T20:26:37.019Z"
   },
   {
    "duration": 25,
    "start_time": "2021-11-25T20:26:37.061Z"
   },
   {
    "duration": 5,
    "start_time": "2021-11-25T20:26:38.908Z"
   },
   {
    "duration": 621,
    "start_time": "2021-11-25T20:45:46.979Z"
   },
   {
    "duration": 4,
    "start_time": "2021-11-25T20:45:47.601Z"
   },
   {
    "duration": 12,
    "start_time": "2021-11-25T20:45:47.607Z"
   },
   {
    "duration": 181,
    "start_time": "2021-11-25T20:45:47.620Z"
   },
   {
    "duration": 182,
    "start_time": "2021-11-25T20:45:47.803Z"
   },
   {
    "duration": 14,
    "start_time": "2021-11-25T20:45:47.987Z"
   },
   {
    "duration": 7,
    "start_time": "2021-11-25T20:45:48.002Z"
   },
   {
    "duration": 7,
    "start_time": "2021-11-25T20:45:48.011Z"
   },
   {
    "duration": 8,
    "start_time": "2021-11-25T20:45:48.021Z"
   },
   {
    "duration": 8,
    "start_time": "2021-11-25T20:45:48.032Z"
   },
   {
    "duration": 51,
    "start_time": "2021-11-25T20:45:48.041Z"
   },
   {
    "duration": 8,
    "start_time": "2021-11-25T20:45:48.093Z"
   },
   {
    "duration": 10,
    "start_time": "2021-11-25T20:45:48.103Z"
   },
   {
    "duration": 9,
    "start_time": "2021-11-25T20:45:48.114Z"
   },
   {
    "duration": 5,
    "start_time": "2021-11-25T20:45:48.125Z"
   },
   {
    "duration": 72,
    "start_time": "2021-11-25T20:45:48.131Z"
   },
   {
    "duration": 23,
    "start_time": "2021-11-25T20:45:48.205Z"
   },
   {
    "duration": 624,
    "start_time": "2021-11-25T20:45:48.229Z"
   },
   {
    "duration": 5,
    "start_time": "2021-11-25T20:45:48.856Z"
   },
   {
    "duration": 2588,
    "start_time": "2021-11-25T20:45:48.863Z"
   },
   {
    "duration": 9,
    "start_time": "2021-11-25T20:45:51.453Z"
   },
   {
    "duration": 27,
    "start_time": "2021-11-25T20:45:51.463Z"
   },
   {
    "duration": 6,
    "start_time": "2021-11-25T20:45:51.491Z"
   },
   {
    "duration": 19,
    "start_time": "2021-11-25T20:45:51.498Z"
   },
   {
    "duration": 20,
    "start_time": "2021-11-25T20:45:51.518Z"
   },
   {
    "duration": 4,
    "start_time": "2021-11-25T20:45:51.539Z"
   },
   {
    "duration": 62,
    "start_time": "2021-11-25T20:45:51.546Z"
   },
   {
    "duration": 22,
    "start_time": "2021-11-25T20:45:51.609Z"
   },
   {
    "duration": 20,
    "start_time": "2021-11-25T20:45:51.632Z"
   },
   {
    "duration": 48,
    "start_time": "2021-11-25T20:45:51.653Z"
   },
   {
    "duration": 77,
    "start_time": "2021-11-25T20:54:14.074Z"
   },
   {
    "duration": 78,
    "start_time": "2021-11-25T20:54:24.092Z"
   },
   {
    "duration": 9,
    "start_time": "2021-11-25T20:56:11.345Z"
   },
   {
    "duration": 597,
    "start_time": "2021-11-25T20:58:14.247Z"
   },
   {
    "duration": 4,
    "start_time": "2021-11-25T20:58:14.845Z"
   },
   {
    "duration": 14,
    "start_time": "2021-11-25T20:58:14.850Z"
   },
   {
    "duration": 185,
    "start_time": "2021-11-25T20:58:14.866Z"
   },
   {
    "duration": 178,
    "start_time": "2021-11-25T20:58:15.053Z"
   },
   {
    "duration": 12,
    "start_time": "2021-11-25T20:58:15.233Z"
   },
   {
    "duration": 14,
    "start_time": "2021-11-25T20:58:15.247Z"
   },
   {
    "duration": 15,
    "start_time": "2021-11-25T20:58:15.262Z"
   },
   {
    "duration": 17,
    "start_time": "2021-11-25T20:58:15.289Z"
   },
   {
    "duration": 7,
    "start_time": "2021-11-25T20:58:15.308Z"
   },
   {
    "duration": 6,
    "start_time": "2021-11-25T20:58:15.317Z"
   },
   {
    "duration": 9,
    "start_time": "2021-11-25T20:58:15.324Z"
   },
   {
    "duration": 13,
    "start_time": "2021-11-25T20:58:15.334Z"
   },
   {
    "duration": 39,
    "start_time": "2021-11-25T20:58:15.349Z"
   },
   {
    "duration": 5,
    "start_time": "2021-11-25T20:58:15.389Z"
   },
   {
    "duration": 45,
    "start_time": "2021-11-25T20:58:15.395Z"
   },
   {
    "duration": 49,
    "start_time": "2021-11-25T20:58:15.442Z"
   },
   {
    "duration": 612,
    "start_time": "2021-11-25T20:58:15.493Z"
   },
   {
    "duration": 4,
    "start_time": "2021-11-25T20:58:16.107Z"
   },
   {
    "duration": 2540,
    "start_time": "2021-11-25T20:58:16.113Z"
   },
   {
    "duration": 10,
    "start_time": "2021-11-25T20:58:18.654Z"
   },
   {
    "duration": 23,
    "start_time": "2021-11-25T20:58:18.665Z"
   },
   {
    "duration": 6,
    "start_time": "2021-11-25T20:58:18.690Z"
   },
   {
    "duration": 18,
    "start_time": "2021-11-25T20:58:18.698Z"
   },
   {
    "duration": 21,
    "start_time": "2021-11-25T20:58:18.718Z"
   },
   {
    "duration": 4,
    "start_time": "2021-11-25T20:58:18.740Z"
   },
   {
    "duration": 28,
    "start_time": "2021-11-25T20:58:18.787Z"
   },
   {
    "duration": 21,
    "start_time": "2021-11-25T20:58:18.817Z"
   },
   {
    "duration": 20,
    "start_time": "2021-11-25T20:58:18.840Z"
   },
   {
    "duration": 44,
    "start_time": "2021-11-25T20:58:18.861Z"
   }
  ],
  "kernelspec": {
   "display_name": "Python 3",
   "language": "python",
   "name": "python3"
  },
  "language_info": {
   "codemirror_mode": {
    "name": "ipython",
    "version": 3
   },
   "file_extension": ".py",
   "mimetype": "text/x-python",
   "name": "python",
   "nbconvert_exporter": "python",
   "pygments_lexer": "ipython3",
   "version": "3.8.8"
  },
  "toc": {
   "base_numbering": 1,
   "nav_menu": {},
   "number_sections": true,
   "sideBar": true,
   "skip_h1_title": true,
   "title_cell": "Table of Contents",
   "title_sidebar": "Contents",
   "toc_cell": false,
   "toc_position": {},
   "toc_section_display": true,
   "toc_window_display": false
  }
 },
 "nbformat": 4,
 "nbformat_minor": 2
}
