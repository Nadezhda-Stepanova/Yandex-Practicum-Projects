{
 "cells": [
  {
   "cell_type": "markdown",
   "metadata": {},
   "source": [
    "# Рынок заведений общественного питания Москвы\n",
    "\n",
    "Описание проекта\n",
    "\n",
    "**Входные данные:** Есть идея открыть небольшое кафе в Москве. Оно оригинальное — гостей должны обслуживать роботы. Проект многообещающий, но дорогой. Требуюется обратиться к инвесторам. \n",
    "\n",
    "**Задача:**\n",
    "Необходимо подготовить исследование рынка по открытым данным о заведениях общественного питания в Москве с целью заинтересовать инвесторов.  Их интересует текущее положение дел на рынке — сможет ли кафе снискать популярность на долгое время, когда все насмотрятся на роботов-официантов."
   ]
  },
  {
   "cell_type": "markdown",
   "metadata": {},
   "source": [
    "## Загрузка данных и подготовка их к анализу\n",
    "\n",
    "Загрузите данные о заведениях общественного питания Москвы. Убедитесь, что тип данных в каждой колонке — правильный, а также отсутствуют пропущенные значения и дубликаты. При необходимости обработайте их.\n",
    "Путь к файлу: /datasets/rest_data.csv. Скачать датасет\n",
    "\n",
    "**Описание данных.** \n",
    "Таблица rest_data:\n",
    "- id — идентификатор объекта;\n",
    "- object_name — название объекта общественного питания;\n",
    "- chain — сетевой ресторан;\n",
    "- object_type — тип объекта общественного питания;\n",
    "- address — адрес;\n",
    "- number — количество посадочных мест."
   ]
  },
  {
   "cell_type": "code",
   "execution_count": 1,
   "metadata": {},
   "outputs": [],
   "source": [
    "import pandas as pd # загружаем необходимые библиотеки\n",
    "import seaborn as sns\n",
    "import numpy as np\n",
    "import matplotlib.pyplot as plt\n",
    "\n",
    "from io import BytesIO\n",
    "import requests"
   ]
  },
  {
   "cell_type": "markdown",
   "metadata": {},
   "source": [
    "#### Воспользуемся внешней информацией\n",
    "\n",
    " Загрузим данные из файла, хранящегося на Google Таблицах. Это необходимо, чтобы узнать, в каких районах Москвы находятся улицы."
   ]
  },
  {
   "cell_type": "code",
   "execution_count": 2,
   "metadata": {
    "scrolled": false
   },
   "outputs": [
    {
     "data": {
      "text/html": [
       "<div>\n",
       "<style scoped>\n",
       "    .dataframe tbody tr th:only-of-type {\n",
       "        vertical-align: middle;\n",
       "    }\n",
       "\n",
       "    .dataframe tbody tr th {\n",
       "        vertical-align: top;\n",
       "    }\n",
       "\n",
       "    .dataframe thead th {\n",
       "        text-align: right;\n",
       "    }\n",
       "</style>\n",
       "<table border=\"1\" class=\"dataframe\">\n",
       "  <thead>\n",
       "    <tr style=\"text-align: right;\">\n",
       "      <th></th>\n",
       "      <th>streetname</th>\n",
       "      <th>areaid</th>\n",
       "      <th>okrug</th>\n",
       "      <th>area</th>\n",
       "    </tr>\n",
       "  </thead>\n",
       "  <tbody>\n",
       "    <tr>\n",
       "      <th>0</th>\n",
       "      <td>Выставочный переулок</td>\n",
       "      <td>17</td>\n",
       "      <td>ЦАО</td>\n",
       "      <td>Пресненский район</td>\n",
       "    </tr>\n",
       "    <tr>\n",
       "      <th>1</th>\n",
       "      <td>улица Гашека</td>\n",
       "      <td>17</td>\n",
       "      <td>ЦАО</td>\n",
       "      <td>Пресненский район</td>\n",
       "    </tr>\n",
       "    <tr>\n",
       "      <th>2</th>\n",
       "      <td>Большая Никитская улица</td>\n",
       "      <td>17</td>\n",
       "      <td>ЦАО</td>\n",
       "      <td>Пресненский район</td>\n",
       "    </tr>\n",
       "    <tr>\n",
       "      <th>3</th>\n",
       "      <td>Глубокий переулок</td>\n",
       "      <td>17</td>\n",
       "      <td>ЦАО</td>\n",
       "      <td>Пресненский район</td>\n",
       "    </tr>\n",
       "    <tr>\n",
       "      <th>4</th>\n",
       "      <td>Большой Гнездниковский переулок</td>\n",
       "      <td>17</td>\n",
       "      <td>ЦАО</td>\n",
       "      <td>Пресненский район</td>\n",
       "    </tr>\n",
       "  </tbody>\n",
       "</table>\n",
       "</div>"
      ],
      "text/plain": [
       "                        streetname  areaid okrug               area\n",
       "0             Выставочный переулок      17   ЦАО  Пресненский район\n",
       "1                     улица Гашека      17   ЦАО  Пресненский район\n",
       "2          Большая Никитская улица      17   ЦАО  Пресненский район\n",
       "3                Глубокий переулок      17   ЦАО  Пресненский район\n",
       "4  Большой Гнездниковский переулок      17   ЦАО  Пресненский район"
      ]
     },
     "execution_count": 2,
     "metadata": {},
     "output_type": "execute_result"
    }
   ],
   "source": [
    "spreadsheet_id = '17_w0IPOXBxnTGNPzGOvwfvhhHoGLKQJo5z91u-_KGlw'\n",
    "file_name = 'https://docs.google.com/spreadsheets/d/{}/export?format=csv'.format(spreadsheet_id)\n",
    "r = requests.get(file_name)\n",
    "\n",
    "streets = pd.read_csv(BytesIO(r.content))\n",
    "streets.head()"
   ]
  },
  {
   "cell_type": "code",
   "execution_count": 3,
   "metadata": {},
   "outputs": [],
   "source": [
    "streets.columns = ['street_name', 'area_id', 'okrug', 'area']  # изменили названия столбцов согласно правилам хорошего тона"
   ]
  },
  {
   "cell_type": "markdown",
   "metadata": {},
   "source": [
    "Загрузим данные из файла."
   ]
  },
  {
   "cell_type": "code",
   "execution_count": 4,
   "metadata": {
    "scrolled": false
   },
   "outputs": [
    {
     "name": "stdout",
     "output_type": "stream",
     "text": [
      "<class 'pandas.core.frame.DataFrame'>\n",
      "RangeIndex: 15366 entries, 0 to 15365\n",
      "Data columns (total 6 columns):\n",
      " #   Column       Non-Null Count  Dtype \n",
      "---  ------       --------------  ----- \n",
      " 0   id           15366 non-null  int64 \n",
      " 1   object_name  15366 non-null  object\n",
      " 2   chain        15366 non-null  object\n",
      " 3   object_type  15366 non-null  object\n",
      " 4   address      15366 non-null  object\n",
      " 5   number       15366 non-null  int64 \n",
      "dtypes: int64(2), object(4)\n",
      "memory usage: 720.4+ KB\n"
     ]
    }
   ],
   "source": [
    "rest_data = pd.read_csv('rest_data.csv')   # переносим данные из файла в датафрейм\n",
    "rest_data.info()"
   ]
  },
  {
   "cell_type": "code",
   "execution_count": 5,
   "metadata": {},
   "outputs": [
    {
     "data": {
      "text/html": [
       "<div>\n",
       "<style scoped>\n",
       "    .dataframe tbody tr th:only-of-type {\n",
       "        vertical-align: middle;\n",
       "    }\n",
       "\n",
       "    .dataframe tbody tr th {\n",
       "        vertical-align: top;\n",
       "    }\n",
       "\n",
       "    .dataframe thead th {\n",
       "        text-align: right;\n",
       "    }\n",
       "</style>\n",
       "<table border=\"1\" class=\"dataframe\">\n",
       "  <thead>\n",
       "    <tr style=\"text-align: right;\">\n",
       "      <th></th>\n",
       "      <th>id</th>\n",
       "      <th>object_name</th>\n",
       "      <th>chain</th>\n",
       "      <th>object_type</th>\n",
       "      <th>address</th>\n",
       "      <th>number</th>\n",
       "    </tr>\n",
       "  </thead>\n",
       "  <tbody>\n",
       "    <tr>\n",
       "      <th>7170</th>\n",
       "      <td>28685</td>\n",
       "      <td>1-ЫЙ МОСКОВСКИЙ КАДЕТСКИЙ КОРПУС</td>\n",
       "      <td>нет</td>\n",
       "      <td>столовая</td>\n",
       "      <td>город Москва, улица Вучетича, дом 30</td>\n",
       "      <td>260</td>\n",
       "    </tr>\n",
       "    <tr>\n",
       "      <th>1095</th>\n",
       "      <td>84529</td>\n",
       "      <td>1-й МОК</td>\n",
       "      <td>нет</td>\n",
       "      <td>столовая</td>\n",
       "      <td>город Москва, Стартовая улица, дом 1, корпус 1</td>\n",
       "      <td>100</td>\n",
       "    </tr>\n",
       "    <tr>\n",
       "      <th>14879</th>\n",
       "      <td>213667</td>\n",
       "      <td>100 личная столовая</td>\n",
       "      <td>нет</td>\n",
       "      <td>столовая</td>\n",
       "      <td>город Москва, Новодмитровская улица, дом 2, ко...</td>\n",
       "      <td>30</td>\n",
       "    </tr>\n",
       "    <tr>\n",
       "      <th>14878</th>\n",
       "      <td>213840</td>\n",
       "      <td>100 личное кафе</td>\n",
       "      <td>нет</td>\n",
       "      <td>кафе</td>\n",
       "      <td>город Москва, Новодмитровская улица, дом 2, ко...</td>\n",
       "      <td>45</td>\n",
       "    </tr>\n",
       "    <tr>\n",
       "      <th>1517</th>\n",
       "      <td>24520</td>\n",
       "      <td>1001 ночь</td>\n",
       "      <td>нет</td>\n",
       "      <td>ресторан</td>\n",
       "      <td>город Москва, Братиславская улица, дом 31, кор...</td>\n",
       "      <td>70</td>\n",
       "    </tr>\n",
       "    <tr>\n",
       "      <th>10076</th>\n",
       "      <td>171749</td>\n",
       "      <td>100лоФФка</td>\n",
       "      <td>нет</td>\n",
       "      <td>столовая</td>\n",
       "      <td>город Москва, Варшавское шоссе, дом 132, строе...</td>\n",
       "      <td>36</td>\n",
       "    </tr>\n",
       "    <tr>\n",
       "      <th>11755</th>\n",
       "      <td>188886</td>\n",
       "      <td>101 вкус</td>\n",
       "      <td>нет</td>\n",
       "      <td>кафе</td>\n",
       "      <td>город Москва, поселение Щаповское, деревня Тро...</td>\n",
       "      <td>16</td>\n",
       "    </tr>\n",
       "    <tr>\n",
       "      <th>14239</th>\n",
       "      <td>211469</td>\n",
       "      <td>13 RULES</td>\n",
       "      <td>нет</td>\n",
       "      <td>бар</td>\n",
       "      <td>город Москва, Люблинская улица, дом 165, корпус 1</td>\n",
       "      <td>15</td>\n",
       "    </tr>\n",
       "    <tr>\n",
       "      <th>13787</th>\n",
       "      <td>218120</td>\n",
       "      <td>13 RULES KRAFT BEER</td>\n",
       "      <td>нет</td>\n",
       "      <td>бар</td>\n",
       "      <td>город Москва, Артековская улица, дом 1</td>\n",
       "      <td>12</td>\n",
       "    </tr>\n",
       "    <tr>\n",
       "      <th>12294</th>\n",
       "      <td>199956</td>\n",
       "      <td>13 Rules</td>\n",
       "      <td>нет</td>\n",
       "      <td>бар</td>\n",
       "      <td>город Москва, Волховский переулок, дом 2</td>\n",
       "      <td>24</td>\n",
       "    </tr>\n",
       "  </tbody>\n",
       "</table>\n",
       "</div>"
      ],
      "text/plain": [
       "           id                       object_name chain object_type  \\\n",
       "7170    28685  1-ЫЙ МОСКОВСКИЙ КАДЕТСКИЙ КОРПУС   нет    столовая   \n",
       "1095    84529                           1-й МОК   нет    столовая   \n",
       "14879  213667               100 личная столовая   нет    столовая   \n",
       "14878  213840                   100 личное кафе   нет        кафе   \n",
       "1517    24520                         1001 ночь   нет    ресторан   \n",
       "10076  171749                         100лоФФка   нет    столовая   \n",
       "11755  188886                          101 вкус   нет        кафе   \n",
       "14239  211469                          13 RULES   нет         бар   \n",
       "13787  218120               13 RULES KRAFT BEER   нет         бар   \n",
       "12294  199956                          13 Rules   нет         бар   \n",
       "\n",
       "                                                 address  number  \n",
       "7170                город Москва, улица Вучетича, дом 30     260  \n",
       "1095      город Москва, Стартовая улица, дом 1, корпус 1     100  \n",
       "14879  город Москва, Новодмитровская улица, дом 2, ко...      30  \n",
       "14878  город Москва, Новодмитровская улица, дом 2, ко...      45  \n",
       "1517   город Москва, Братиславская улица, дом 31, кор...      70  \n",
       "10076  город Москва, Варшавское шоссе, дом 132, строе...      36  \n",
       "11755  город Москва, поселение Щаповское, деревня Тро...      16  \n",
       "14239  город Москва, Люблинская улица, дом 165, корпус 1      15  \n",
       "13787             город Москва, Артековская улица, дом 1      12  \n",
       "12294           город Москва, Волховский переулок, дом 2      24  "
      ]
     },
     "execution_count": 5,
     "metadata": {},
     "output_type": "execute_result"
    }
   ],
   "source": [
    "(rest_data.\n",
    " sort_values(by='object_name').\n",
    " head(10)\n",
    ")"
   ]
  },
  {
   "cell_type": "markdown",
   "metadata": {},
   "source": [
    "Пропущенных значений нет. Наименования столбцов соответствуют стилю.\n",
    "\n",
    "Проверим дубликаты. "
   ]
  },
  {
   "cell_type": "code",
   "execution_count": 6,
   "metadata": {
    "scrolled": true
   },
   "outputs": [
    {
     "name": "stdout",
     "output_type": "stream",
     "text": [
      "Количество дубликатов в таблице: 0\n"
     ]
    }
   ],
   "source": [
    "print('Количество дубликатов в таблице:', rest_data.duplicated().sum())"
   ]
  },
  {
   "cell_type": "markdown",
   "metadata": {},
   "source": [
    "При таком подходе дубликатов нет. \n",
    "\n",
    "Теперь проверим, какие значения есть в столбце chain (сетевой - не сетевой)."
   ]
  },
  {
   "cell_type": "code",
   "execution_count": 7,
   "metadata": {},
   "outputs": [
    {
     "name": "stdout",
     "output_type": "stream",
     "text": [
      "Уникальные значения столбца chain: ['нет' 'да']\n"
     ]
    }
   ],
   "source": [
    "print('Уникальные значения столбца chain:', rest_data['chain'].unique())"
   ]
  },
  {
   "cell_type": "markdown",
   "metadata": {},
   "source": [
    "Значений всего два, пропусков нет - всё правильно на первый взгляд."
   ]
  },
  {
   "cell_type": "markdown",
   "metadata": {},
   "source": [
    "Посмотрим, есть ли смысл проверять правильность заполнения флага \"сетевой - не сетевой\".\n",
    "\n",
    "Создадим новый столбец с уникальными названиями, для чего приведем буквы названия к нижнему регистру, а также удалим все кавычки, пробелы и слова типа \"кафе\" или \"ресторан\"."
   ]
  },
  {
   "cell_type": "code",
   "execution_count": 8,
   "metadata": {
    "scrolled": true
   },
   "outputs": [
    {
     "name": "stdout",
     "output_type": "stream",
     "text": [
      "Всего уникальных названий до: 10393\n",
      "Всего уникальных названий после: 8968\n"
     ]
    }
   ],
   "source": [
    "rest_data['name_str'] = rest_data['object_name'].str.lower()    # привели к строчным\n",
    "\n",
    "for name in ['«', '»', '\"', '-', 'пицца', 'пиццерия', 'кафе', 'кофейня', 'ресторан',\n",
    "             'предприятие', 'быстрого', 'питания', 'обслуживания', 'столовая', \n",
    "             'кухни', 'японской', 'японский', 'лаундж', 'закусочная', 'паб', 'кофе',\n",
    "             'чешская', 'пивная', 'бар', 'семейное', 'семейный', 'детское', 'детский', ' ']:\n",
    "    rest_data['name_str'] = rest_data['name_str'].str.replace(name, '')                        # Заменили на \"\"\n",
    "    \n",
    "print('Всего уникальных названий до:', len(rest_data['object_name'].unique()))\n",
    "print('Всего уникальных названий после:', len(rest_data['name_str'].unique()))"
   ]
  },
  {
   "cell_type": "markdown",
   "metadata": {},
   "source": [
    "Проверим, нет ли ошибок в определении сетевых ресторанов. Если название одно, а флаг 'chain' = 'да', то, возможно, это ошибка, и тогда ресторан считать сетевым не будем. Сначала создадим список ресторанов с получившимися уникальными названиями и их количеством (методом groupby). Потом отберем те, у которых получившееся количество равно 1."
   ]
  },
  {
   "cell_type": "code",
   "execution_count": 9,
   "metadata": {
    "scrolled": false
   },
   "outputs": [
    {
     "name": "stdout",
     "output_type": "stream",
     "text": [
      "Общее количество 197\n",
      "['', 'beverlyhillsdiner', 'bierloga', 'black&white', 'boobo', 'bubbleology', 'coffeeshop', 'cookhouse', 'delibyprimeпрайм', 'fridays', 'fridayskfc', 'goodmanгудман', 'grandcru', 'grandурюк', 'ilfornoильфорно', 'kfcволгоградский', 'makimaki', 'marmalato', 'marrakeshхинкальная', 'mcafeхинкальная', 'movenpick', 'pandaexpress', 'pizengof99спб', 'pomodoroисушидзен', 'prime(праймстар)', 'primestarпраймстар', 'starbucks,старбакс', 'starbuckscoffee', 'starbucksстарбакс', 'tajjmahal', 'theterrace', 'tokyobay', 'torrogrillторрогриль', 'travelerscoffe', 'tuttifrutti', 'upsidedown', 'vietcafeвьет', 'whiterabbite(белыйкролик)', 'авдейлиазбукавкуса', 'акат', 'алло2', 'американсити', 'американситицехпоизготовлениюпиццы', 'антикальяннаяmoskalyan', 'ариана', 'бабайклаб', 'баскинроббинс&стардогс', 'ббэндбургерсв&вбургер', 'билла', 'бистропронто', 'бодрыйденьссобой', 'боулингкосмик', 'бравакоста', 'братьякараваевых', 'бутчербизон', 'в&вбургер', 'вlackburgerчайхона№1', 'ванвок', 'васаби', 'вгости.урюк', 'виват', 'виктория', 'волконскийпекарня', 'газпромнефтьцентр', 'гансимарта', 'генацвали', 'гинонотаки', 'городскиеавтойни', 'готика', 'готовыеблюдамилти', 'грацирагаццизю', 'грузинскаякухняэzохинкальная', 'грузинскиеканикулыис', 'гудмангудвин', 'гурмания', 'даблбиблэк', 'дапино(dapino)', 'джардинодапино', 'добрынинскийипартнёры', 'домашнеесетьгородских', \"домино'сdomino,spizza\", 'донателло', 'зю', 'икеаikea', 'икондитерскаяандерсон', 'икура', 'ильпатиоilpatio', 'ис', 'кактус', 'кальянmoskalyan', 'кальяннаяflounge', 'каро', 'каффеwokker', 'клубандерсон', 'козловица', 'кондитериятирольскиепироги', 'коста', 'кулинарноебюроkitchen', 'кулинарноебюрокитчен', 'лето', 'лукойл', 'лукойлцентрнефтьпродукт', 'магазинкулинариясушисет', 'магбургеразс№16', 'магбургеразс№17', 'максбреннер', 'мания,малини', 'манияstarbucks', 'марукамэ', 'марчеллис', 'метрок&к', 'милано', 'миминохинкальная', 'мираторг', 'моллигвинз', 'мороженногоtuttifrutti', 'москвамакдоналдс', 'мскмосковскаясетькальянныхнашаболовке', 'мюнгер', 'мята', 'мятаloungeавтозаводская', 'мятаloungeоктябрьская', 'мятаloungeшаболовка', 'николай', 'нияма.пи', 'ниямапи', 'оникс', 'павлинмавлинчайхона№1', 'паолоибентоwok', 'пбоkfc', 'пбоkfcпокрышкина', 'пботеремок', 'пекареяволконский', 'пекарняхачапури', 'перекресток', 'пестоимитлес', 'пикколо', 'пиппони', 'пирогиштолле', 'пироговаяштолле', 'пиудельчибо', 'пицерияпападжонс', 'помидор', 'пончиковоеикеаikea', 'пражечка', 'приазс', 'приазсbp', 'приазсгазпромнефть', 'приазслукойл', 'сабвейsubway', 'сабвейсушивок', 'сетьмагазиновсушиwok', 'симсим', 'сказка', 'советскиевремена', 'советскиевременачебуречнаяссср', 'спб', 'спорткосмик', 'ссобойgate42', 'стардогsишаурма', 'стардогсстардогs', 'старинамиллер', 'сувлаки', 'сушитун,хрустpizza,тун', 'таймавеню', 'тамасисуши', 'территорияtimbigfamily', 'территорияясенево', 'торнадо', 'траторияsemplice', 'тратторияпримавера', 'урожай', 'урюквавилова', 'урюкхивинскаячайхона', 'фантоццирус', 'фитнесworldclass', 'хаус,экспресс', 'хачапури,одессамама', 'хинкальнаяcity', 'хинкальнаякинто', 'цинандалихинкальная', 'чайханатапчан', 'чайханаурюк', 'чайхона№1бутово', 'чинчин', 'шантимель(кондитерские)', 'шашлыкмашлык', 'шварцвальд', 'шикариильпатио', 'шоколадницамания', 'шоколадницахаус', 'шопcoffeeshopcompany', 'штирбирлиц', 'югос', 'якиторияиспорт', 'якиторияиянпримус', 'яммимикс']\n"
     ]
    }
   ],
   "source": [
    "fault_rest = (rest_data.\n",
    "              query('chain == \"да\"').\n",
    "              groupby('name_str').\n",
    "              agg({'object_type': 'count'}).\n",
    "              reset_index().\n",
    "              rename(columns={'object_type': 'object_count'})\n",
    "             )\n",
    "fault_rest_1 = fault_rest[fault_rest['object_count'] == 1].reset_index()['name_str'].to_list()\n",
    "print('Общее количество', len(fault_rest_1))\n",
    "print(fault_rest_1)"
   ]
  },
  {
   "cell_type": "code",
   "execution_count": 10,
   "metadata": {},
   "outputs": [
    {
     "data": {
      "text/html": [
       "<div>\n",
       "<style scoped>\n",
       "    .dataframe tbody tr th:only-of-type {\n",
       "        vertical-align: middle;\n",
       "    }\n",
       "\n",
       "    .dataframe tbody tr th {\n",
       "        vertical-align: top;\n",
       "    }\n",
       "\n",
       "    .dataframe thead th {\n",
       "        text-align: right;\n",
       "    }\n",
       "</style>\n",
       "<table border=\"1\" class=\"dataframe\">\n",
       "  <thead>\n",
       "    <tr style=\"text-align: right;\">\n",
       "      <th></th>\n",
       "      <th>id</th>\n",
       "      <th>object_name</th>\n",
       "      <th>chain</th>\n",
       "      <th>object_type</th>\n",
       "      <th>address</th>\n",
       "      <th>number</th>\n",
       "      <th>name_str</th>\n",
       "    </tr>\n",
       "  </thead>\n",
       "  <tbody>\n",
       "    <tr>\n",
       "      <th>20</th>\n",
       "      <td>21950</td>\n",
       "      <td>Кафе</td>\n",
       "      <td>нет</td>\n",
       "      <td>кафе</td>\n",
       "      <td>город Москва, Алтайская улица, дом 33/7</td>\n",
       "      <td>30</td>\n",
       "      <td></td>\n",
       "    </tr>\n",
       "    <tr>\n",
       "      <th>61</th>\n",
       "      <td>21214</td>\n",
       "      <td>Столовая</td>\n",
       "      <td>нет</td>\n",
       "      <td>столовая</td>\n",
       "      <td>город Москва, Бабаевская улица, дом 3</td>\n",
       "      <td>90</td>\n",
       "      <td></td>\n",
       "    </tr>\n",
       "    <tr>\n",
       "      <th>238</th>\n",
       "      <td>27703</td>\n",
       "      <td>Кафе</td>\n",
       "      <td>нет</td>\n",
       "      <td>столовая</td>\n",
       "      <td>город Москва, улица Бориса Галушкина, дом 26</td>\n",
       "      <td>45</td>\n",
       "      <td></td>\n",
       "    </tr>\n",
       "    <tr>\n",
       "      <th>347</th>\n",
       "      <td>130124</td>\n",
       "      <td>Кафе</td>\n",
       "      <td>нет</td>\n",
       "      <td>кафе</td>\n",
       "      <td>город Москва, улица Дыбенко, дом 44</td>\n",
       "      <td>40</td>\n",
       "      <td></td>\n",
       "    </tr>\n",
       "    <tr>\n",
       "      <th>361</th>\n",
       "      <td>25493</td>\n",
       "      <td>Кафе-пиццерия</td>\n",
       "      <td>нет</td>\n",
       "      <td>ресторан</td>\n",
       "      <td>город Москва, Заревый проезд, дом 12</td>\n",
       "      <td>200</td>\n",
       "      <td></td>\n",
       "    </tr>\n",
       "  </tbody>\n",
       "</table>\n",
       "</div>"
      ],
      "text/plain": [
       "         id    object_name chain object_type  \\\n",
       "20    21950           Кафе   нет        кафе   \n",
       "61    21214       Столовая   нет    столовая   \n",
       "238   27703           Кафе   нет    столовая   \n",
       "347  130124           Кафе   нет        кафе   \n",
       "361   25493  Кафе-пиццерия   нет    ресторан   \n",
       "\n",
       "                                          address  number name_str  \n",
       "20        город Москва, Алтайская улица, дом 33/7      30           \n",
       "61          город Москва, Бабаевская улица, дом 3      90           \n",
       "238  город Москва, улица Бориса Галушкина, дом 26      45           \n",
       "347           город Москва, улица Дыбенко, дом 44      40           \n",
       "361          город Москва, Заревый проезд, дом 12     200           "
      ]
     },
     "metadata": {},
     "output_type": "display_data"
    }
   ],
   "source": [
    "display(rest_data.query('name_str == \"\"').head())     # Это просто столовая, кафе и т.п."
   ]
  },
  {
   "cell_type": "markdown",
   "metadata": {},
   "source": [
    "Получившееся количество (197 шт) составляет порядка 1,3% от общего количества строк в таблице. При этом мы не можем утверждать, что, например, \"Якитория и Спорт\" и \"Якитория и Ян Примус\" не относятся к одной сети. А \"Пекарея Волконский\" попала в уникальные названия, очевидно, просто из-за опечатки. А также сеть может иметь одно заведение в указанном городе и еще несколько за его пределами. Поэтому ошибкой установленные значения \"сетевой\" не считаем. Ввиду небольшого процента заменять данные не будем."
   ]
  },
  {
   "cell_type": "markdown",
   "metadata": {},
   "source": [
    "Посмотрим, получили ли дубликаты после приведения названий к строчному виду и дальнейшей работы с ними для выявления ошибочных названий.  Проведем отбор, считая дубликатами только тогда, когда совпадают наше строчное название, адрес, количество посадочных мест."
   ]
  },
  {
   "cell_type": "code",
   "execution_count": 11,
   "metadata": {
    "scrolled": true
   },
   "outputs": [
    {
     "name": "stdout",
     "output_type": "stream",
     "text": [
      "Количество дубликатов в таблице: 104\n"
     ]
    }
   ],
   "source": [
    "print('Количество дубликатов в таблице:', \n",
    "      rest_data.\n",
    "      duplicated(subset=['name_str', 'address', 'number']).     # отбор \n",
    "      sum()\n",
    "     )"
   ]
  },
  {
   "cell_type": "markdown",
   "metadata": {},
   "source": [
    "Посмотрим, что получили."
   ]
  },
  {
   "cell_type": "code",
   "execution_count": 12,
   "metadata": {
    "scrolled": false
   },
   "outputs": [
    {
     "data": {
      "text/html": [
       "<div>\n",
       "<style scoped>\n",
       "    .dataframe tbody tr th:only-of-type {\n",
       "        vertical-align: middle;\n",
       "    }\n",
       "\n",
       "    .dataframe tbody tr th {\n",
       "        vertical-align: top;\n",
       "    }\n",
       "\n",
       "    .dataframe thead th {\n",
       "        text-align: right;\n",
       "    }\n",
       "</style>\n",
       "<table border=\"1\" class=\"dataframe\">\n",
       "  <thead>\n",
       "    <tr style=\"text-align: right;\">\n",
       "      <th></th>\n",
       "      <th>id</th>\n",
       "      <th>object_name</th>\n",
       "      <th>chain</th>\n",
       "      <th>object_type</th>\n",
       "      <th>address</th>\n",
       "      <th>number</th>\n",
       "      <th>name_str</th>\n",
       "    </tr>\n",
       "  </thead>\n",
       "  <tbody>\n",
       "    <tr>\n",
       "      <th>3397</th>\n",
       "      <td>71896</td>\n",
       "      <td>Буфет «Коникс-школьник»</td>\n",
       "      <td>нет</td>\n",
       "      <td>буфет</td>\n",
       "      <td>город Москва, улица Удальцова, дом 21</td>\n",
       "      <td>100</td>\n",
       "      <td>буфеткониксшкольник</td>\n",
       "    </tr>\n",
       "    <tr>\n",
       "      <th>3396</th>\n",
       "      <td>19814</td>\n",
       "      <td>Буфет «Коникс-Школьник»</td>\n",
       "      <td>нет</td>\n",
       "      <td>буфет</td>\n",
       "      <td>город Москва, улица Удальцова, дом 21</td>\n",
       "      <td>100</td>\n",
       "      <td>буфеткониксшкольник</td>\n",
       "    </tr>\n",
       "    <tr>\n",
       "      <th>6420</th>\n",
       "      <td>19756</td>\n",
       "      <td>БАР</td>\n",
       "      <td>нет</td>\n",
       "      <td>бар</td>\n",
       "      <td>город Москва, улица Улофа Пальме, дом 5, строе...</td>\n",
       "      <td>10</td>\n",
       "      <td></td>\n",
       "    </tr>\n",
       "    <tr>\n",
       "      <th>6423</th>\n",
       "      <td>19759</td>\n",
       "      <td>БАР</td>\n",
       "      <td>нет</td>\n",
       "      <td>бар</td>\n",
       "      <td>город Москва, улица Улофа Пальме, дом 5, строе...</td>\n",
       "      <td>10</td>\n",
       "      <td></td>\n",
       "    </tr>\n",
       "    <tr>\n",
       "      <th>3721</th>\n",
       "      <td>21049</td>\n",
       "      <td>Бар</td>\n",
       "      <td>нет</td>\n",
       "      <td>бар</td>\n",
       "      <td>город Москва, улица Фабрициуса, дом 41</td>\n",
       "      <td>20</td>\n",
       "      <td></td>\n",
       "    </tr>\n",
       "    <tr>\n",
       "      <th>3722</th>\n",
       "      <td>126244</td>\n",
       "      <td>Кафе</td>\n",
       "      <td>нет</td>\n",
       "      <td>кафе</td>\n",
       "      <td>город Москва, улица Фабрициуса, дом 41</td>\n",
       "      <td>20</td>\n",
       "      <td></td>\n",
       "    </tr>\n",
       "    <tr>\n",
       "      <th>2160</th>\n",
       "      <td>21395</td>\n",
       "      <td>Столовая ГБОУ СОШ №1571</td>\n",
       "      <td>нет</td>\n",
       "      <td>буфет</td>\n",
       "      <td>город Москва, улица Фомичёвой, дом 5</td>\n",
       "      <td>80</td>\n",
       "      <td>гбоусош№1571</td>\n",
       "    </tr>\n",
       "    <tr>\n",
       "      <th>2159</th>\n",
       "      <td>21394</td>\n",
       "      <td>Столовая ГБОУ СОШ № 1571</td>\n",
       "      <td>нет</td>\n",
       "      <td>буфет</td>\n",
       "      <td>город Москва, улица Фомичёвой, дом 5</td>\n",
       "      <td>80</td>\n",
       "      <td>гбоусош№1571</td>\n",
       "    </tr>\n",
       "    <tr>\n",
       "      <th>10510</th>\n",
       "      <td>173865</td>\n",
       "      <td>Шаурма</td>\n",
       "      <td>нет</td>\n",
       "      <td>предприятие быстрого обслуживания</td>\n",
       "      <td>город Москва, улица Черняховского, дом 4А</td>\n",
       "      <td>0</td>\n",
       "      <td>шаурма</td>\n",
       "    </tr>\n",
       "    <tr>\n",
       "      <th>10137</th>\n",
       "      <td>172648</td>\n",
       "      <td>Шаурма</td>\n",
       "      <td>нет</td>\n",
       "      <td>предприятие быстрого обслуживания</td>\n",
       "      <td>город Москва, улица Черняховского, дом 4А</td>\n",
       "      <td>0</td>\n",
       "      <td>шаурма</td>\n",
       "    </tr>\n",
       "  </tbody>\n",
       "</table>\n",
       "</div>"
      ],
      "text/plain": [
       "           id               object_name chain  \\\n",
       "3397    71896   Буфет «Коникс-школьник»   нет   \n",
       "3396    19814   Буфет «Коникс-Школьник»   нет   \n",
       "6420    19756                       БАР   нет   \n",
       "6423    19759                       БАР   нет   \n",
       "3721    21049                       Бар   нет   \n",
       "3722   126244                      Кафе   нет   \n",
       "2160    21395   Столовая ГБОУ СОШ №1571   нет   \n",
       "2159    21394  Столовая ГБОУ СОШ № 1571   нет   \n",
       "10510  173865                    Шаурма   нет   \n",
       "10137  172648                    Шаурма   нет   \n",
       "\n",
       "                             object_type  \\\n",
       "3397                               буфет   \n",
       "3396                               буфет   \n",
       "6420                                 бар   \n",
       "6423                                 бар   \n",
       "3721                                 бар   \n",
       "3722                                кафе   \n",
       "2160                               буфет   \n",
       "2159                               буфет   \n",
       "10510  предприятие быстрого обслуживания   \n",
       "10137  предприятие быстрого обслуживания   \n",
       "\n",
       "                                                 address  number  \\\n",
       "3397               город Москва, улица Удальцова, дом 21     100   \n",
       "3396               город Москва, улица Удальцова, дом 21     100   \n",
       "6420   город Москва, улица Улофа Пальме, дом 5, строе...      10   \n",
       "6423   город Москва, улица Улофа Пальме, дом 5, строе...      10   \n",
       "3721              город Москва, улица Фабрициуса, дом 41      20   \n",
       "3722              город Москва, улица Фабрициуса, дом 41      20   \n",
       "2160                город Москва, улица Фомичёвой, дом 5      80   \n",
       "2159                город Москва, улица Фомичёвой, дом 5      80   \n",
       "10510          город Москва, улица Черняховского, дом 4А       0   \n",
       "10137          город Москва, улица Черняховского, дом 4А       0   \n",
       "\n",
       "                  name_str  \n",
       "3397   буфеткониксшкольник  \n",
       "3396   буфеткониксшкольник  \n",
       "6420                        \n",
       "6423                        \n",
       "3721                        \n",
       "3722                        \n",
       "2160          гбоусош№1571  \n",
       "2159          гбоусош№1571  \n",
       "10510               шаурма  \n",
       "10137               шаурма  "
      ]
     },
     "metadata": {},
     "output_type": "display_data"
    }
   ],
   "source": [
    "display(\n",
    "    rest_data\n",
    "        [rest_data.\n",
    "             duplicated(\n",
    "                 subset=['name_str', 'address', 'number'], \n",
    "                 keep=False     # выведем все строчки\n",
    "             )\n",
    "        ].\n",
    "    sort_values(by='address').\n",
    "    tail(10)\n",
    ")"
   ]
  },
  {
   "cell_type": "markdown",
   "metadata": {},
   "source": [
    "Мы правы, дубликаты можно удалить."
   ]
  },
  {
   "cell_type": "code",
   "execution_count": 13,
   "metadata": {},
   "outputs": [
    {
     "name": "stdout",
     "output_type": "stream",
     "text": [
      "<class 'pandas.core.frame.DataFrame'>\n",
      "RangeIndex: 15262 entries, 0 to 15261\n",
      "Data columns (total 8 columns):\n",
      " #   Column       Non-Null Count  Dtype \n",
      "---  ------       --------------  ----- \n",
      " 0   index        15262 non-null  int64 \n",
      " 1   id           15262 non-null  int64 \n",
      " 2   object_name  15262 non-null  object\n",
      " 3   chain        15262 non-null  object\n",
      " 4   object_type  15262 non-null  object\n",
      " 5   address      15262 non-null  object\n",
      " 6   number       15262 non-null  int64 \n",
      " 7   name_str     15262 non-null  object\n",
      "dtypes: int64(3), object(5)\n",
      "memory usage: 954.0+ KB\n"
     ]
    }
   ],
   "source": [
    "rest_data = rest_data.drop_duplicates(subset=['name_str', 'address', 'number']).reset_index()\n",
    "rest_data.info()"
   ]
  },
  {
   "cell_type": "markdown",
   "metadata": {},
   "source": [
    "## Анализ данных"
   ]
  },
  {
   "cell_type": "markdown",
   "metadata": {},
   "source": [
    "### Соотношение видов объектов общественного питания по количеству\n",
    "\n",
    "Построим график, создав сводную таблицу."
   ]
  },
  {
   "cell_type": "code",
   "execution_count": 14,
   "metadata": {
    "scrolled": true
   },
   "outputs": [
    {
     "data": {
      "text/html": [
       "<div>\n",
       "<style scoped>\n",
       "    .dataframe tbody tr th:only-of-type {\n",
       "        vertical-align: middle;\n",
       "    }\n",
       "\n",
       "    .dataframe tbody tr th {\n",
       "        vertical-align: top;\n",
       "    }\n",
       "\n",
       "    .dataframe thead th {\n",
       "        text-align: right;\n",
       "    }\n",
       "</style>\n",
       "<table border=\"1\" class=\"dataframe\">\n",
       "  <thead>\n",
       "    <tr style=\"text-align: right;\">\n",
       "      <th>chain</th>\n",
       "      <th>да</th>\n",
       "      <th>нет</th>\n",
       "      <th>total</th>\n",
       "    </tr>\n",
       "    <tr>\n",
       "      <th>object_type</th>\n",
       "      <th></th>\n",
       "      <th></th>\n",
       "      <th></th>\n",
       "    </tr>\n",
       "  </thead>\n",
       "  <tbody>\n",
       "    <tr>\n",
       "      <th>кафе</th>\n",
       "      <td>1395</td>\n",
       "      <td>4666</td>\n",
       "      <td>6061</td>\n",
       "    </tr>\n",
       "    <tr>\n",
       "      <th>столовая</th>\n",
       "      <td>3</td>\n",
       "      <td>2580</td>\n",
       "      <td>2583</td>\n",
       "    </tr>\n",
       "    <tr>\n",
       "      <th>ресторан</th>\n",
       "      <td>543</td>\n",
       "      <td>1737</td>\n",
       "      <td>2280</td>\n",
       "    </tr>\n",
       "    <tr>\n",
       "      <th>предприятие быстрого обслуживания</th>\n",
       "      <td>788</td>\n",
       "      <td>1108</td>\n",
       "      <td>1896</td>\n",
       "    </tr>\n",
       "    <tr>\n",
       "      <th>бар</th>\n",
       "      <td>37</td>\n",
       "      <td>817</td>\n",
       "      <td>854</td>\n",
       "    </tr>\n",
       "    <tr>\n",
       "      <th>буфет</th>\n",
       "      <td>10</td>\n",
       "      <td>564</td>\n",
       "      <td>574</td>\n",
       "    </tr>\n",
       "    <tr>\n",
       "      <th>кафетерий</th>\n",
       "      <td>52</td>\n",
       "      <td>343</td>\n",
       "      <td>395</td>\n",
       "    </tr>\n",
       "    <tr>\n",
       "      <th>закусочная</th>\n",
       "      <td>56</td>\n",
       "      <td>290</td>\n",
       "      <td>346</td>\n",
       "    </tr>\n",
       "    <tr>\n",
       "      <th>магазин (отдел кулинарии)</th>\n",
       "      <td>78</td>\n",
       "      <td>195</td>\n",
       "      <td>273</td>\n",
       "    </tr>\n",
       "  </tbody>\n",
       "</table>\n",
       "</div>"
      ],
      "text/plain": [
       "chain                                да   нет  total\n",
       "object_type                                         \n",
       "кафе                               1395  4666   6061\n",
       "столовая                              3  2580   2583\n",
       "ресторан                            543  1737   2280\n",
       "предприятие быстрого обслуживания   788  1108   1896\n",
       "бар                                  37   817    854\n",
       "буфет                                10   564    574\n",
       "кафетерий                            52   343    395\n",
       "закусочная                           56   290    346\n",
       "магазин (отдел кулинарии)            78   195    273"
      ]
     },
     "metadata": {},
     "output_type": "display_data"
    }
   ],
   "source": [
    "report = (\n",
    "    rest_data.\n",
    "    pivot_table   # Создадим сводную таблицу\n",
    "    (\n",
    "        index='object_type', \n",
    "        columns='chain',   \n",
    "        values='id',       #  посчитаем по столбцу id\n",
    "        aggfunc='nunique'  #  количество уникальных значений\n",
    "    )\n",
    ")\n",
    "report['total'] = report['да'] + report['нет']   # найдем общее число заведений\n",
    "report = (\n",
    "    report.\n",
    "    sort_values   # отсортируем\n",
    "    (\n",
    "        by='total', \n",
    "        ascending=False  #  по убыванию\n",
    "    )\n",
    ")\n",
    "display(report) # Посмотрим на данные"
   ]
  },
  {
   "cell_type": "code",
   "execution_count": 15,
   "metadata": {
    "scrolled": true
   },
   "outputs": [
    {
     "data": {
      "image/png": "[encoded data removed]",
      "text/plain": [
       "<Figure size 432x288 with 1 Axes>"
      ]
     },
     "metadata": {
      "needs_background": "light"
     },
     "output_type": "display_data"
    }
   ],
   "source": [
    "(report[['да', 'нет']].\n",
    " plot(                  # строим график:\n",
    "    kind='barh',        # горизонтальная столбчатая диаграмма\n",
    "    stacked=True        # на одном столбике оба вида объектов - сетевые и не сетевые ('да', 'нет')\n",
    "     )   \n",
    ")\n",
    "\n",
    "plt.title('Виды объектов общественного питания и их количество') \n",
    "plt.xlabel('Количество, шт')\n",
    "plt.ylabel('Вид объекта')\n",
    "\n",
    "plt.show()"
   ]
  },
  {
   "cell_type": "markdown",
   "metadata": {},
   "source": [
    "### Соотношение сетевых и несетевых заведений по количеству\n",
    "\n",
    "Построим график."
   ]
  },
  {
   "cell_type": "code",
   "execution_count": 16,
   "metadata": {},
   "outputs": [
    {
     "data": {
      "text/html": [
       "<div>\n",
       "<style scoped>\n",
       "    .dataframe tbody tr th:only-of-type {\n",
       "        vertical-align: middle;\n",
       "    }\n",
       "\n",
       "    .dataframe tbody tr th {\n",
       "        vertical-align: top;\n",
       "    }\n",
       "\n",
       "    .dataframe thead th {\n",
       "        text-align: right;\n",
       "    }\n",
       "</style>\n",
       "<table border=\"1\" class=\"dataframe\">\n",
       "  <thead>\n",
       "    <tr style=\"text-align: right;\">\n",
       "      <th>object_type</th>\n",
       "      <th>бар</th>\n",
       "      <th>буфет</th>\n",
       "      <th>закусочная</th>\n",
       "      <th>кафе</th>\n",
       "      <th>кафетерий</th>\n",
       "      <th>магазин (отдел кулинарии)</th>\n",
       "      <th>предприятие быстрого обслуживания</th>\n",
       "      <th>ресторан</th>\n",
       "      <th>столовая</th>\n",
       "    </tr>\n",
       "    <tr>\n",
       "      <th>chain</th>\n",
       "      <th></th>\n",
       "      <th></th>\n",
       "      <th></th>\n",
       "      <th></th>\n",
       "      <th></th>\n",
       "      <th></th>\n",
       "      <th></th>\n",
       "      <th></th>\n",
       "      <th></th>\n",
       "    </tr>\n",
       "  </thead>\n",
       "  <tbody>\n",
       "    <tr>\n",
       "      <th>да</th>\n",
       "      <td>37</td>\n",
       "      <td>10</td>\n",
       "      <td>56</td>\n",
       "      <td>1395</td>\n",
       "      <td>52</td>\n",
       "      <td>78</td>\n",
       "      <td>788</td>\n",
       "      <td>543</td>\n",
       "      <td>3</td>\n",
       "    </tr>\n",
       "    <tr>\n",
       "      <th>нет</th>\n",
       "      <td>817</td>\n",
       "      <td>564</td>\n",
       "      <td>290</td>\n",
       "      <td>4666</td>\n",
       "      <td>343</td>\n",
       "      <td>195</td>\n",
       "      <td>1108</td>\n",
       "      <td>1737</td>\n",
       "      <td>2580</td>\n",
       "    </tr>\n",
       "  </tbody>\n",
       "</table>\n",
       "</div>"
      ],
      "text/plain": [
       "object_type  бар  буфет  закусочная  кафе  кафетерий  \\\n",
       "chain                                                  \n",
       "да            37     10          56  1395         52   \n",
       "нет          817    564         290  4666        343   \n",
       "\n",
       "object_type  магазин (отдел кулинарии)  предприятие быстрого обслуживания  \\\n",
       "chain                                                                       \n",
       "да                                  78                                788   \n",
       "нет                                195                               1108   \n",
       "\n",
       "object_type  ресторан  столовая  \n",
       "chain                            \n",
       "да                543         3  \n",
       "нет              1737      2580  "
      ]
     },
     "metadata": {},
     "output_type": "display_data"
    }
   ],
   "source": [
    "report = (\n",
    "    rest_data.\n",
    "    pivot_table   # Создадим сводную таблицу\n",
    "    (\n",
    "        index='chain', \n",
    "        columns='object_type',   \n",
    "        values='id',       #  посчитаем по столбцу id\n",
    "        aggfunc='nunique'  #  количество уникальных значений\n",
    "    )\n",
    ")\n",
    "\n",
    "display(report) # Посмотрим на данные"
   ]
  },
  {
   "cell_type": "code",
   "execution_count": 17,
   "metadata": {},
   "outputs": [
    {
     "data": {
      "image/png": "[encoded data removed]",
      "text/plain": [
       "<Figure size 432x288 with 1 Axes>"
      ]
     },
     "metadata": {
      "needs_background": "light"
     },
     "output_type": "display_data"
    }
   ],
   "source": [
    "(report.\n",
    " plot(\n",
    "    kind='bar',  #  столбчатая диаграмма\n",
    "    stacked=True, # все в одном столбике\n",
    "    rot=0    # повернули подписи\n",
    " )\n",
    ") \n",
    "\n",
    "\n",
    "plt.title('Соотношение сетевых и несетевых заведений по количеству') \n",
    "plt.xlabel('Принадлежность к сети')\n",
    "plt.ylabel('Вид объекта')\n",
    "plt.legend(bbox_to_anchor=(1, 1))  # Сдвинули легенду\n",
    "plt.show()"
   ]
  },
  {
   "cell_type": "markdown",
   "metadata": {},
   "source": [
    "### Промежуточные выводы. \n",
    "\n",
    "Ответим на вопрос, для какого вида объекта общественного питания характерно сетевое распространение."
   ]
  },
  {
   "cell_type": "markdown",
   "metadata": {},
   "source": [
    "По данным двум графикам можем сделать следующие выводы.\n",
    "\n",
    "По общему количеству:\n",
    "- больше всего кафе, их количество более чем в два раза превышает число следующей тройки лидеров: столовых, ресторанов или предприятий быстрого обслуживания;\n",
    "- самые малочисленные - это магазины (отделы кулинарии), закусочные, кафетерии, чуть больше буфетов и баров.\n",
    "\n",
    "По видам:\n",
    "- столовые и буфеты сетевыми практически не бывают; \n",
    "- больше всего доля сетевых заведений среди кафе, предприятий быстрого обслуживания и ресторанов."
   ]
  },
  {
   "cell_type": "markdown",
   "metadata": {},
   "source": [
    "Итак, сетевое распространение характерно для следующих объектов общественного питания: кафе, предприятий быстрого обслуживания и ресторанов, при этом доля сетевых заведений среди общего числа для кафе и ресторанов составляет порядка 25%, а для предприятий быстрого обслуживания - около 40%.\n"
   ]
  },
  {
   "cell_type": "markdown",
   "metadata": {},
   "source": [
    "### Соотношение числа заведений в сети и количества посадочных мест"
   ]
  },
  {
   "cell_type": "markdown",
   "metadata": {},
   "source": [
    "Отразим в переменной sets все сетевые заведения, отвечающие нашим запросам, а именно: в сети должно быть больше 1 заведения, и мы не рассматриваем крайние значения по объему сети или по количеству мест, так как наша первоначальная задача - открыть кафе, а не гиперсеть, поэтому для анализа уберем все максимальные крайние значения (выбросы)."
   ]
  },
  {
   "cell_type": "code",
   "execution_count": 18,
   "metadata": {
    "scrolled": false
   },
   "outputs": [],
   "source": [
    "sets = (rest_data.\n",
    "        query('name_str != \"\"').                # '' - это безымянные кафе, столовые и т.п., их не учитываем\n",
    "        sort_values(by=['name_str']).\n",
    "        groupby('name_str').                    # сгруппировали по имени\n",
    "        agg({'number': ['count', 'mean']}).     # нашли число заведений и среднее кол-во посадочных мест\n",
    "        reset_index()\n",
    "        )\n",
    "\n",
    "sets.columns = ['name', 'all_count', 'mean_number']\n",
    "\n",
    "perc_all_count = np.percentile(sets['all_count'], 99)         # граница выбросов - 99-й перцентиль\n",
    "perc_mean_number = np.percentile(sets['mean_number'], 99)     # граница выбросов\n",
    "\n",
    "\n",
    "sets = (sets.query('all_count > 1').                    # убрали \"сетевые\" с 1 заведением\n",
    "             query('all_count < @perc_all_count').      # убрали выбросы по общему количеству\n",
    "             query('mean_number < @perc_mean_number')   #  и выбросы по кол-ву посадочных мест\n",
    "       )"
   ]
  },
  {
   "cell_type": "code",
   "execution_count": 19,
   "metadata": {
    "scrolled": true
   },
   "outputs": [
    {
     "data": {
      "text/html": [
       "<div>\n",
       "<style scoped>\n",
       "    .dataframe tbody tr th:only-of-type {\n",
       "        vertical-align: middle;\n",
       "    }\n",
       "\n",
       "    .dataframe tbody tr th {\n",
       "        vertical-align: top;\n",
       "    }\n",
       "\n",
       "    .dataframe thead th {\n",
       "        text-align: right;\n",
       "    }\n",
       "</style>\n",
       "<table border=\"1\" class=\"dataframe\">\n",
       "  <thead>\n",
       "    <tr style=\"text-align: right;\">\n",
       "      <th></th>\n",
       "      <th>all_count</th>\n",
       "      <th>mean_number</th>\n",
       "    </tr>\n",
       "  </thead>\n",
       "  <tbody>\n",
       "    <tr>\n",
       "      <th>count</th>\n",
       "      <td>1163</td>\n",
       "      <td>1163</td>\n",
       "    </tr>\n",
       "    <tr>\n",
       "      <th>mean</th>\n",
       "      <td>3</td>\n",
       "      <td>62</td>\n",
       "    </tr>\n",
       "    <tr>\n",
       "      <th>std</th>\n",
       "      <td>1</td>\n",
       "      <td>60</td>\n",
       "    </tr>\n",
       "    <tr>\n",
       "      <th>min</th>\n",
       "      <td>2</td>\n",
       "      <td>0</td>\n",
       "    </tr>\n",
       "    <tr>\n",
       "      <th>25%</th>\n",
       "      <td>2</td>\n",
       "      <td>18</td>\n",
       "    </tr>\n",
       "    <tr>\n",
       "      <th>50%</th>\n",
       "      <td>2</td>\n",
       "      <td>44</td>\n",
       "    </tr>\n",
       "    <tr>\n",
       "      <th>75%</th>\n",
       "      <td>3</td>\n",
       "      <td>81</td>\n",
       "    </tr>\n",
       "    <tr>\n",
       "      <th>max</th>\n",
       "      <td>9</td>\n",
       "      <td>288</td>\n",
       "    </tr>\n",
       "  </tbody>\n",
       "</table>\n",
       "</div>"
      ],
      "text/plain": [
       "       all_count  mean_number\n",
       "count       1163         1163\n",
       "mean           3           62\n",
       "std            1           60\n",
       "min            2            0\n",
       "25%            2           18\n",
       "50%            2           44\n",
       "75%            3           81\n",
       "max            9          288"
      ]
     },
     "execution_count": 19,
     "metadata": {},
     "output_type": "execute_result"
    }
   ],
   "source": [
    "pd.set_option('display.float_format', '{:.0f}'.format)  # Все числа в таблице отражаются с 0 знаков после запятой\n",
    "\n",
    "sets.describe()                                         # посмотрим данные о квартилях и min, max, средних значениях"
   ]
  },
  {
   "cell_type": "markdown",
   "metadata": {},
   "source": [
    "Можно на основе этих данных считать, что \"большое количество\" заведений - это количество, большее, чем третий квартиль. Аналогично с количеством посадочных мест."
   ]
  },
  {
   "cell_type": "markdown",
   "metadata": {},
   "source": [
    "Проанализируем по отдельности 4 вида сетевых заведений, разбитых по принципу \"большое/малое количество, много/мало посадочных мест\". "
   ]
  },
  {
   "cell_type": "code",
   "execution_count": 20,
   "metadata": {},
   "outputs": [
    {
     "name": "stdout",
     "output_type": "stream",
     "text": [
      "Много ресторанов - больше 3\n",
      "Много посадочных мест - больше 81\n"
     ]
    }
   ],
   "source": [
    "mark_count = np.percentile(sets['all_count'], 75)  # Нашли третий квартиль\n",
    "mark_number = np.percentile(sets['mean_number'], 75)  \n",
    "\n",
    "print('Много ресторанов - больше', round(mark_count))\n",
    "print('Много посадочных мест - больше', round(mark_number))\n",
    "\n",
    "def categories(df):   # определили функцию для категоризации\n",
    "    \n",
    "    if (df['all_count'] <= mark_count):        # условие - малое кол-во \n",
    "        if df['mean_number'] <= mark_number:       #  условие - мало посад. мест\n",
    "            return 'мало - мало мест'\n",
    "        else:\n",
    "            return 'мало - много мест'  \n",
    "    else:                                      # иначе - большое кол-во\n",
    "        if df['mean_number'] <= mark_number:       #  условие - мало посад. мест\n",
    "            return 'много - мало мест'\n",
    "        else:\n",
    "            return 'много - много мест'\n",
    "\n",
    "\n",
    "sets['category'] = sets.apply(categories, axis=1)"
   ]
  },
  {
   "cell_type": "markdown",
   "metadata": {},
   "source": [
    "Зададим свой цвет в зависимости от присвоенной категории и построим точечный график."
   ]
  },
  {
   "cell_type": "code",
   "execution_count": 21,
   "metadata": {
    "scrolled": true
   },
   "outputs": [
    {
     "data": {
      "image/png": "[encoded data removed]",
      "text/plain": [
       "<Figure size 576x360 with 1 Axes>"
      ]
     },
     "metadata": {},
     "output_type": "display_data"
    }
   ],
   "source": [
    "sns.set_style('dark')\n",
    "plt.figure(figsize=(8, 5))\n",
    "\n",
    "sns.scatterplot(\n",
    "    data = sets, \n",
    "    x = 'all_count', \n",
    "    y = 'mean_number', \n",
    "    hue ='category',      # дополнительно раскрасим в зависимости от категории\n",
    "    alpha = 0.3           #  прозрачность\n",
    ")\n",
    "\n",
    "plt.title('График количества заведений в зависимости от размера сети и среднего количества посадочных мест') \n",
    "plt.xlabel('Общее количество заведений сети')\n",
    "plt.ylabel('Среднее количество посадочных мест')\n",
    "plt.show()"
   ]
  },
  {
   "cell_type": "markdown",
   "metadata": {},
   "source": [
    "Вывод: у сетевых заведений чем больше объем сети, тем меньше в ней в среднем посадочных мест. Большим заведением можно считать то, в котором больше 80 мест, а большинство сетей имеют 2-3 заведения."
   ]
  },
  {
   "cell_type": "markdown",
   "metadata": {},
   "source": [
    "### Среднее количество посадочных мест в зависимости от вида объекта общественного питания"
   ]
  },
  {
   "cell_type": "code",
   "execution_count": 22,
   "metadata": {},
   "outputs": [
    {
     "data": {
      "text/html": [
       "<div>\n",
       "<style scoped>\n",
       "    .dataframe tbody tr th:only-of-type {\n",
       "        vertical-align: middle;\n",
       "    }\n",
       "\n",
       "    .dataframe tbody tr th {\n",
       "        vertical-align: top;\n",
       "    }\n",
       "\n",
       "    .dataframe thead th {\n",
       "        text-align: right;\n",
       "    }\n",
       "</style>\n",
       "<table border=\"1\" class=\"dataframe\">\n",
       "  <thead>\n",
       "    <tr style=\"text-align: right;\">\n",
       "      <th></th>\n",
       "      <th>number</th>\n",
       "    </tr>\n",
       "    <tr>\n",
       "      <th>object_type</th>\n",
       "      <th></th>\n",
       "    </tr>\n",
       "  </thead>\n",
       "  <tbody>\n",
       "    <tr>\n",
       "      <th>столовая</th>\n",
       "      <td>103</td>\n",
       "    </tr>\n",
       "    <tr>\n",
       "      <th>ресторан</th>\n",
       "      <td>80</td>\n",
       "    </tr>\n",
       "    <tr>\n",
       "      <th>бар</th>\n",
       "      <td>35</td>\n",
       "    </tr>\n",
       "    <tr>\n",
       "      <th>буфет</th>\n",
       "      <td>32</td>\n",
       "    </tr>\n",
       "    <tr>\n",
       "      <th>кафе</th>\n",
       "      <td>31</td>\n",
       "    </tr>\n",
       "    <tr>\n",
       "      <th>кафетерий</th>\n",
       "      <td>6</td>\n",
       "    </tr>\n",
       "    <tr>\n",
       "      <th>предприятие быстрого обслуживания</th>\n",
       "      <td>6</td>\n",
       "    </tr>\n",
       "    <tr>\n",
       "      <th>закусочная</th>\n",
       "      <td>0</td>\n",
       "    </tr>\n",
       "    <tr>\n",
       "      <th>магазин (отдел кулинарии)</th>\n",
       "      <td>0</td>\n",
       "    </tr>\n",
       "  </tbody>\n",
       "</table>\n",
       "</div>"
      ],
      "text/plain": [
       "                                   number\n",
       "object_type                              \n",
       "столовая                              103\n",
       "ресторан                               80\n",
       "бар                                    35\n",
       "буфет                                  32\n",
       "кафе                                   31\n",
       "кафетерий                               6\n",
       "предприятие быстрого обслуживания       6\n",
       "закусочная                              0\n",
       "магазин (отдел кулинарии)               0"
      ]
     },
     "metadata": {},
     "output_type": "display_data"
    }
   ],
   "source": [
    "report = (\n",
    "    rest_data.\n",
    "    pivot_table                # Создадим сводную таблицу\n",
    "    (\n",
    "        index='object_type', \n",
    "        values='number',       #  посчитаем по столбцу посадочных мест\n",
    "        aggfunc='median'       #  медиана  \n",
    "    ).\n",
    "    sort_values(by='number', ascending = False)\n",
    ")\n",
    "\n",
    "\n",
    "display(report) # Посмотрим на данные"
   ]
  },
  {
   "cell_type": "code",
   "execution_count": 23,
   "metadata": {
    "scrolled": true
   },
   "outputs": [
    {
     "data": {
      "image/png": "[encoded data removed]",
      "text/plain": [
       "<Figure size 432x288 with 1 Axes>"
      ]
     },
     "metadata": {},
     "output_type": "display_data"
    }
   ],
   "source": [
    "report.plot(kind='barh') #  столбчатая диаграмма\n",
    "    \n",
    "plt.title('Cреднее количество посадочных мест в зависимости от вида объекта общественного питания') \n",
    "plt.xlabel('Количество, шт')\n",
    "plt.ylabel('Вид объекта')\n",
    "plt.legend('')\n",
    "plt.show()"
   ]
  },
  {
   "cell_type": "markdown",
   "metadata": {},
   "source": [
    "Самое большое количество посадочных мест предоставляется столовыми, затем ресторанами. Наименьшее число посадочных мест у предприятий быстрого обслуживания и кафетериев. Отделы кулинарии и закусочные посадочные места в основном не предоставляют (нулевые медианные значения), по-видимому, стоячие столики не считаются за посадочное место.\n"
   ]
  },
  {
   "cell_type": "markdown",
   "metadata": {},
   "source": [
    "### Топ-10 улиц по количеству объектов общественного питания"
   ]
  },
  {
   "cell_type": "markdown",
   "metadata": {},
   "source": [
    " #### Выделим информацию об улице из столбца address. "
   ]
  },
  {
   "cell_type": "code",
   "execution_count": 24,
   "metadata": {},
   "outputs": [
    {
     "data": {
      "text/html": [
       "<div>\n",
       "<style scoped>\n",
       "    .dataframe tbody tr th:only-of-type {\n",
       "        vertical-align: middle;\n",
       "    }\n",
       "\n",
       "    .dataframe tbody tr th {\n",
       "        vertical-align: top;\n",
       "    }\n",
       "\n",
       "    .dataframe thead th {\n",
       "        text-align: right;\n",
       "    }\n",
       "</style>\n",
       "<table border=\"1\" class=\"dataframe\">\n",
       "  <thead>\n",
       "    <tr style=\"text-align: right;\">\n",
       "      <th></th>\n",
       "      <th>index</th>\n",
       "      <th>id</th>\n",
       "      <th>object_name</th>\n",
       "      <th>chain</th>\n",
       "      <th>object_type</th>\n",
       "      <th>address</th>\n",
       "      <th>number</th>\n",
       "      <th>name_str</th>\n",
       "      <th>street_name</th>\n",
       "    </tr>\n",
       "  </thead>\n",
       "  <tbody>\n",
       "    <tr>\n",
       "      <th>0</th>\n",
       "      <td>0</td>\n",
       "      <td>151635</td>\n",
       "      <td>СМЕТАНА</td>\n",
       "      <td>нет</td>\n",
       "      <td>кафе</td>\n",
       "      <td>город Москва, улица Егора Абакумова, дом 9</td>\n",
       "      <td>48</td>\n",
       "      <td>сметана</td>\n",
       "      <td>улица Егора Абакумова</td>\n",
       "    </tr>\n",
       "    <tr>\n",
       "      <th>1</th>\n",
       "      <td>1</td>\n",
       "      <td>77874</td>\n",
       "      <td>Родник</td>\n",
       "      <td>нет</td>\n",
       "      <td>кафе</td>\n",
       "      <td>город Москва, улица Талалихина, дом 2/1, корпус 1</td>\n",
       "      <td>35</td>\n",
       "      <td>родник</td>\n",
       "      <td>улица Талалихина</td>\n",
       "    </tr>\n",
       "    <tr>\n",
       "      <th>2</th>\n",
       "      <td>2</td>\n",
       "      <td>24309</td>\n",
       "      <td>Кафе «Академия»</td>\n",
       "      <td>нет</td>\n",
       "      <td>кафе</td>\n",
       "      <td>город Москва, Абельмановская улица, дом 6</td>\n",
       "      <td>95</td>\n",
       "      <td>академия</td>\n",
       "      <td>Абельмановская улица</td>\n",
       "    </tr>\n",
       "    <tr>\n",
       "      <th>3</th>\n",
       "      <td>3</td>\n",
       "      <td>21894</td>\n",
       "      <td>ПИЦЦЕТОРИЯ</td>\n",
       "      <td>да</td>\n",
       "      <td>кафе</td>\n",
       "      <td>город Москва, Абрамцевская улица, дом 1</td>\n",
       "      <td>40</td>\n",
       "      <td>пиццетория</td>\n",
       "      <td>Абрамцевская улица</td>\n",
       "    </tr>\n",
       "    <tr>\n",
       "      <th>4</th>\n",
       "      <td>4</td>\n",
       "      <td>119365</td>\n",
       "      <td>Кафе «Вишневая метель»</td>\n",
       "      <td>нет</td>\n",
       "      <td>кафе</td>\n",
       "      <td>город Москва, Абрамцевская улица, дом 9, корпус 1</td>\n",
       "      <td>50</td>\n",
       "      <td>вишневаяметель</td>\n",
       "      <td>Абрамцевская улица</td>\n",
       "    </tr>\n",
       "  </tbody>\n",
       "</table>\n",
       "</div>"
      ],
      "text/plain": [
       "   index      id             object_name chain object_type  \\\n",
       "0      0  151635                 СМЕТАНА   нет        кафе   \n",
       "1      1   77874                  Родник   нет        кафе   \n",
       "2      2   24309         Кафе «Академия»   нет        кафе   \n",
       "3      3   21894              ПИЦЦЕТОРИЯ    да        кафе   \n",
       "4      4  119365  Кафе «Вишневая метель»   нет        кафе   \n",
       "\n",
       "                                             address  number        name_str  \\\n",
       "0         город Москва, улица Егора Абакумова, дом 9      48         сметана   \n",
       "1  город Москва, улица Талалихина, дом 2/1, корпус 1      35          родник   \n",
       "2          город Москва, Абельмановская улица, дом 6      95        академия   \n",
       "3            город Москва, Абрамцевская улица, дом 1      40      пиццетория   \n",
       "4  город Москва, Абрамцевская улица, дом 9, корпус 1      50  вишневаяметель   \n",
       "\n",
       "             street_name  \n",
       "0  улица Егора Абакумова  \n",
       "1       улица Талалихина  \n",
       "2   Абельмановская улица  \n",
       "3     Абрамцевская улица  \n",
       "4     Абрамцевская улица  "
      ]
     },
     "execution_count": 24,
     "metadata": {},
     "output_type": "execute_result"
    }
   ],
   "source": [
    "rest_data['street_name'] = (\n",
    "    rest_data['address'].\n",
    "    apply(                             # применим lambda-функцию\n",
    "        lambda x: x.split(',')         # разбиваем столбец на список, по разделителю ','\n",
    "        [1]                            # берем второй элемент (индекс [1]) получившегося списка \n",
    "          )                            # (первый - город Москва, третий - дом и тд) \n",
    ")\n",
    "\n",
    "rest_data['street_name'] = rest_data['street_name'].str.strip()  # убрали пробелы с концов строки\n",
    "\n",
    "rest_data.head()"
   ]
  },
  {
   "cell_type": "code",
   "execution_count": 25,
   "metadata": {
    "scrolled": true
   },
   "outputs": [
    {
     "data": {
      "text/html": [
       "<div>\n",
       "<style scoped>\n",
       "    .dataframe tbody tr th:only-of-type {\n",
       "        vertical-align: middle;\n",
       "    }\n",
       "\n",
       "    .dataframe tbody tr th {\n",
       "        vertical-align: top;\n",
       "    }\n",
       "\n",
       "    .dataframe thead th {\n",
       "        text-align: right;\n",
       "    }\n",
       "</style>\n",
       "<table border=\"1\" class=\"dataframe\">\n",
       "  <thead>\n",
       "    <tr style=\"text-align: right;\">\n",
       "      <th></th>\n",
       "      <th>number_restaurants</th>\n",
       "    </tr>\n",
       "    <tr>\n",
       "      <th>street_name</th>\n",
       "      <th></th>\n",
       "    </tr>\n",
       "  </thead>\n",
       "  <tbody>\n",
       "    <tr>\n",
       "      <th>город Зеленоград</th>\n",
       "      <td>232</td>\n",
       "    </tr>\n",
       "    <tr>\n",
       "      <th>проспект Мира</th>\n",
       "      <td>203</td>\n",
       "    </tr>\n",
       "    <tr>\n",
       "      <th>Профсоюзная улица</th>\n",
       "      <td>181</td>\n",
       "    </tr>\n",
       "    <tr>\n",
       "      <th>Ленинградский проспект</th>\n",
       "      <td>170</td>\n",
       "    </tr>\n",
       "    <tr>\n",
       "      <th>Пресненская набережная</th>\n",
       "      <td>167</td>\n",
       "    </tr>\n",
       "    <tr>\n",
       "      <th>Варшавское шоссе</th>\n",
       "      <td>161</td>\n",
       "    </tr>\n",
       "    <tr>\n",
       "      <th>Ленинский проспект</th>\n",
       "      <td>146</td>\n",
       "    </tr>\n",
       "    <tr>\n",
       "      <th>поселение Сосенское</th>\n",
       "      <td>137</td>\n",
       "    </tr>\n",
       "    <tr>\n",
       "      <th>проспект Вернадского</th>\n",
       "      <td>128</td>\n",
       "    </tr>\n",
       "    <tr>\n",
       "      <th>Кутузовский проспект</th>\n",
       "      <td>114</td>\n",
       "    </tr>\n",
       "  </tbody>\n",
       "</table>\n",
       "</div>"
      ],
      "text/plain": [
       "                        number_restaurants\n",
       "street_name                               \n",
       "город Зеленоград                       232\n",
       "проспект Мира                          203\n",
       "Профсоюзная улица                      181\n",
       "Ленинградский проспект                 170\n",
       "Пресненская набережная                 167\n",
       "Варшавское шоссе                       161\n",
       "Ленинский проспект                     146\n",
       "поселение Сосенское                    137\n",
       "проспект Вернадского                   128\n",
       "Кутузовский проспект                   114"
      ]
     },
     "metadata": {},
     "output_type": "display_data"
    }
   ],
   "source": [
    "top_street = (\n",
    "    rest_data.\n",
    "    pivot_table                                  # Создадим сводную таблицу\n",
    "    (\n",
    "        index='street_name',                     # по названию улицы\n",
    "        values='id',                             #  посчитаем по id\n",
    "        aggfunc='count'                          #  общее количество\n",
    "    ).\n",
    "    sort_values(by='id', ascending = False).     # отсортировали по убыванию кол-ва\n",
    "    rename(columns={'id': 'number_restaurants'}).\n",
    "    head(10)                                     #  взяли первые десять\n",
    ")\n",
    "\n",
    "\n",
    "display(top_street)                              # Посмотрим на данные"
   ]
  },
  {
   "cell_type": "markdown",
   "metadata": {},
   "source": [
    "В список попали город Зеленоград и поселение Сосенское. Для них придется посмотреть данные дополнительно."
   ]
  },
  {
   "cell_type": "code",
   "execution_count": 26,
   "metadata": {
    "scrolled": true
   },
   "outputs": [
    {
     "data": {
      "text/html": [
       "<div>\n",
       "<style scoped>\n",
       "    .dataframe tbody tr th:only-of-type {\n",
       "        vertical-align: middle;\n",
       "    }\n",
       "\n",
       "    .dataframe tbody tr th {\n",
       "        vertical-align: top;\n",
       "    }\n",
       "\n",
       "    .dataframe thead th {\n",
       "        text-align: right;\n",
       "    }\n",
       "</style>\n",
       "<table border=\"1\" class=\"dataframe\">\n",
       "  <thead>\n",
       "    <tr style=\"text-align: right;\">\n",
       "      <th></th>\n",
       "      <th>index</th>\n",
       "      <th>id</th>\n",
       "      <th>object_name</th>\n",
       "      <th>chain</th>\n",
       "      <th>object_type</th>\n",
       "      <th>address</th>\n",
       "      <th>number</th>\n",
       "      <th>name_str</th>\n",
       "      <th>street_name</th>\n",
       "    </tr>\n",
       "  </thead>\n",
       "  <tbody>\n",
       "    <tr>\n",
       "      <th>1385</th>\n",
       "      <td>1386</td>\n",
       "      <td>22331</td>\n",
       "      <td>СТОЛОВАЯ МИЭТ</td>\n",
       "      <td>нет</td>\n",
       "      <td>столовая</td>\n",
       "      <td>город Москва, город Зеленоград, улица Юности, ...</td>\n",
       "      <td>56</td>\n",
       "      <td>миэт</td>\n",
       "      <td>город Зеленоград</td>\n",
       "    </tr>\n",
       "    <tr>\n",
       "      <th>1404</th>\n",
       "      <td>1405</td>\n",
       "      <td>20199</td>\n",
       "      <td>ЭТО</td>\n",
       "      <td>нет</td>\n",
       "      <td>кафе</td>\n",
       "      <td>город Москва, город Зеленоград, корпус 401</td>\n",
       "      <td>35</td>\n",
       "      <td>это</td>\n",
       "      <td>город Зеленоград</td>\n",
       "    </tr>\n",
       "    <tr>\n",
       "      <th>1405</th>\n",
       "      <td>1406</td>\n",
       "      <td>68113</td>\n",
       "      <td>Френдс</td>\n",
       "      <td>нет</td>\n",
       "      <td>кафе</td>\n",
       "      <td>город Москва, город Зеленоград, корпус 435</td>\n",
       "      <td>34</td>\n",
       "      <td>френдс</td>\n",
       "      <td>город Зеленоград</td>\n",
       "    </tr>\n",
       "    <tr>\n",
       "      <th>1406</th>\n",
       "      <td>1407</td>\n",
       "      <td>20105</td>\n",
       "      <td>Кафе «Граф Монте-Кристо»</td>\n",
       "      <td>нет</td>\n",
       "      <td>кафе</td>\n",
       "      <td>город Москва, город Зеленоград, корпус 436</td>\n",
       "      <td>40</td>\n",
       "      <td>графмонтекристо</td>\n",
       "      <td>город Зеленоград</td>\n",
       "    </tr>\n",
       "    <tr>\n",
       "      <th>1407</th>\n",
       "      <td>1408</td>\n",
       "      <td>22982</td>\n",
       "      <td>Альфорно</td>\n",
       "      <td>нет</td>\n",
       "      <td>кафе</td>\n",
       "      <td>город Москва, город Зеленоград, корпус 438</td>\n",
       "      <td>49</td>\n",
       "      <td>альфорно</td>\n",
       "      <td>город Зеленоград</td>\n",
       "    </tr>\n",
       "  </tbody>\n",
       "</table>\n",
       "</div>"
      ],
      "text/plain": [
       "      index     id               object_name chain object_type  \\\n",
       "1385   1386  22331             СТОЛОВАЯ МИЭТ   нет    столовая   \n",
       "1404   1405  20199                       ЭТО   нет        кафе   \n",
       "1405   1406  68113                    Френдс   нет        кафе   \n",
       "1406   1407  20105  Кафе «Граф Монте-Кристо»   нет        кафе   \n",
       "1407   1408  22982                  Альфорно   нет        кафе   \n",
       "\n",
       "                                                address  number  \\\n",
       "1385  город Москва, город Зеленоград, улица Юности, ...      56   \n",
       "1404         город Москва, город Зеленоград, корпус 401      35   \n",
       "1405         город Москва, город Зеленоград, корпус 435      34   \n",
       "1406         город Москва, город Зеленоград, корпус 436      40   \n",
       "1407         город Москва, город Зеленоград, корпус 438      49   \n",
       "\n",
       "             name_str       street_name  \n",
       "1385             миэт  город Зеленоград  \n",
       "1404              это  город Зеленоград  \n",
       "1405           френдс  город Зеленоград  \n",
       "1406  графмонтекристо  город Зеленоград  \n",
       "1407         альфорно  город Зеленоград  "
      ]
     },
     "metadata": {},
     "output_type": "display_data"
    }
   ],
   "source": [
    "display(rest_data.query('street_name == \"город Зеленоград\"').head())"
   ]
  },
  {
   "cell_type": "markdown",
   "metadata": {},
   "source": [
    "Видим, что названия улицы нет, то есть \"город Зеленоград\" выступает как микрорайон. \n",
    "\n",
    "Поселение Сoсенское — внутригородское муниципальное образование со статусом поселения в составе Москвы. Проживает 33 тысячи человек, так же считаем микрорайоном."
   ]
  },
  {
   "cell_type": "code",
   "execution_count": 27,
   "metadata": {
    "scrolled": false
   },
   "outputs": [
    {
     "data": {
      "image/png": "[encoded data removed]",
      "text/plain": [
       "<Figure size 432x288 with 1 Axes>"
      ]
     },
     "metadata": {},
     "output_type": "display_data"
    }
   ],
   "source": [
    "top_street.plot(kind='barh') #  столбчатая диаграмма\n",
    "    \n",
    "plt.title('Топ-10 улиц по количеству объектов общественного питания') \n",
    "plt.xlabel('Количество, шт')\n",
    "plt.ylabel('Улица, микрорайон')\n",
    "plt.legend('')\n",
    "plt.show()"
   ]
  },
  {
   "cell_type": "markdown",
   "metadata": {},
   "source": [
    "Возвращаемся к внешней информации (данным из файла, хранящегося на Google Таблицах).\n",
    "Узнаем, в каких районах Москвы находятся улицы."
   ]
  },
  {
   "cell_type": "code",
   "execution_count": 28,
   "metadata": {
    "scrolled": false
   },
   "outputs": [
    {
     "data": {
      "text/html": [
       "<div>\n",
       "<style scoped>\n",
       "    .dataframe tbody tr th:only-of-type {\n",
       "        vertical-align: middle;\n",
       "    }\n",
       "\n",
       "    .dataframe tbody tr th {\n",
       "        vertical-align: top;\n",
       "    }\n",
       "\n",
       "    .dataframe thead th {\n",
       "        text-align: right;\n",
       "    }\n",
       "</style>\n",
       "<table border=\"1\" class=\"dataframe\">\n",
       "  <thead>\n",
       "    <tr style=\"text-align: right;\">\n",
       "      <th></th>\n",
       "      <th>street_name</th>\n",
       "      <th>number_restaurants</th>\n",
       "      <th>area</th>\n",
       "    </tr>\n",
       "  </thead>\n",
       "  <tbody>\n",
       "    <tr>\n",
       "      <th>0</th>\n",
       "      <td>город Зеленоград</td>\n",
       "      <td>232</td>\n",
       "      <td>Район Крюково</td>\n",
       "    </tr>\n",
       "    <tr>\n",
       "      <th>1</th>\n",
       "      <td>город Зеленоград</td>\n",
       "      <td>232</td>\n",
       "      <td>Район Матушкино-Савелки</td>\n",
       "    </tr>\n",
       "    <tr>\n",
       "      <th>2</th>\n",
       "      <td>город Зеленоград</td>\n",
       "      <td>232</td>\n",
       "      <td>Панфиловский район</td>\n",
       "    </tr>\n",
       "    <tr>\n",
       "      <th>3</th>\n",
       "      <td>проспект Мира</td>\n",
       "      <td>203</td>\n",
       "      <td>Алексеевский район</td>\n",
       "    </tr>\n",
       "    <tr>\n",
       "      <th>4</th>\n",
       "      <td>проспект Мира</td>\n",
       "      <td>203</td>\n",
       "      <td>Ярославский Район</td>\n",
       "    </tr>\n",
       "    <tr>\n",
       "      <th>5</th>\n",
       "      <td>проспект Мира</td>\n",
       "      <td>203</td>\n",
       "      <td>Район Марьина роща</td>\n",
       "    </tr>\n",
       "    <tr>\n",
       "      <th>6</th>\n",
       "      <td>проспект Мира</td>\n",
       "      <td>203</td>\n",
       "      <td>Останкинский район</td>\n",
       "    </tr>\n",
       "    <tr>\n",
       "      <th>7</th>\n",
       "      <td>проспект Мира</td>\n",
       "      <td>203</td>\n",
       "      <td>Район Ростокино</td>\n",
       "    </tr>\n",
       "    <tr>\n",
       "      <th>8</th>\n",
       "      <td>проспект Мира</td>\n",
       "      <td>203</td>\n",
       "      <td>Район Свиблово</td>\n",
       "    </tr>\n",
       "    <tr>\n",
       "      <th>9</th>\n",
       "      <td>проспект Мира</td>\n",
       "      <td>203</td>\n",
       "      <td>Мещанский район</td>\n",
       "    </tr>\n",
       "    <tr>\n",
       "      <th>10</th>\n",
       "      <td>Профсоюзная улица</td>\n",
       "      <td>181</td>\n",
       "      <td>Академический район</td>\n",
       "    </tr>\n",
       "    <tr>\n",
       "      <th>11</th>\n",
       "      <td>Профсоюзная улица</td>\n",
       "      <td>181</td>\n",
       "      <td>Район Черемушки</td>\n",
       "    </tr>\n",
       "    <tr>\n",
       "      <th>12</th>\n",
       "      <td>Профсоюзная улица</td>\n",
       "      <td>181</td>\n",
       "      <td>Район Ясенево</td>\n",
       "    </tr>\n",
       "    <tr>\n",
       "      <th>13</th>\n",
       "      <td>Профсоюзная улица</td>\n",
       "      <td>181</td>\n",
       "      <td>Район Коньково</td>\n",
       "    </tr>\n",
       "    <tr>\n",
       "      <th>14</th>\n",
       "      <td>Профсоюзная улица</td>\n",
       "      <td>181</td>\n",
       "      <td>Обручевский район</td>\n",
       "    </tr>\n",
       "    <tr>\n",
       "      <th>15</th>\n",
       "      <td>Профсоюзная улица</td>\n",
       "      <td>181</td>\n",
       "      <td>Район Теплый Стан</td>\n",
       "    </tr>\n",
       "    <tr>\n",
       "      <th>16</th>\n",
       "      <td>Ленинградский проспект</td>\n",
       "      <td>170</td>\n",
       "      <td>Район Аэропорт</td>\n",
       "    </tr>\n",
       "    <tr>\n",
       "      <th>17</th>\n",
       "      <td>Ленинградский проспект</td>\n",
       "      <td>170</td>\n",
       "      <td>Район Беговой</td>\n",
       "    </tr>\n",
       "    <tr>\n",
       "      <th>18</th>\n",
       "      <td>Ленинградский проспект</td>\n",
       "      <td>170</td>\n",
       "      <td>Хорошевский район</td>\n",
       "    </tr>\n",
       "    <tr>\n",
       "      <th>19</th>\n",
       "      <td>Ленинградский проспект</td>\n",
       "      <td>170</td>\n",
       "      <td>Район Сокол</td>\n",
       "    </tr>\n",
       "    <tr>\n",
       "      <th>20</th>\n",
       "      <td>Пресненская набережная</td>\n",
       "      <td>167</td>\n",
       "      <td>Пресненский район</td>\n",
       "    </tr>\n",
       "    <tr>\n",
       "      <th>21</th>\n",
       "      <td>Варшавское шоссе</td>\n",
       "      <td>161</td>\n",
       "      <td>Район Чертаново Центральное</td>\n",
       "    </tr>\n",
       "    <tr>\n",
       "      <th>22</th>\n",
       "      <td>Варшавское шоссе</td>\n",
       "      <td>161</td>\n",
       "      <td>Район Чертаново Северное</td>\n",
       "    </tr>\n",
       "    <tr>\n",
       "      <th>23</th>\n",
       "      <td>Варшавское шоссе</td>\n",
       "      <td>161</td>\n",
       "      <td>Район Чертаново Южное</td>\n",
       "    </tr>\n",
       "    <tr>\n",
       "      <th>24</th>\n",
       "      <td>Варшавское шоссе</td>\n",
       "      <td>161</td>\n",
       "      <td>Донской район</td>\n",
       "    </tr>\n",
       "    <tr>\n",
       "      <th>25</th>\n",
       "      <td>Варшавское шоссе</td>\n",
       "      <td>161</td>\n",
       "      <td>Район Нагатино-Садовники</td>\n",
       "    </tr>\n",
       "    <tr>\n",
       "      <th>26</th>\n",
       "      <td>Варшавское шоссе</td>\n",
       "      <td>161</td>\n",
       "      <td>Нагорный район</td>\n",
       "    </tr>\n",
       "    <tr>\n",
       "      <th>27</th>\n",
       "      <td>Варшавское шоссе</td>\n",
       "      <td>161</td>\n",
       "      <td>Район Северное Бутово</td>\n",
       "    </tr>\n",
       "    <tr>\n",
       "      <th>28</th>\n",
       "      <td>Варшавское шоссе</td>\n",
       "      <td>161</td>\n",
       "      <td>Район Южное Бутово</td>\n",
       "    </tr>\n",
       "    <tr>\n",
       "      <th>29</th>\n",
       "      <td>Ленинский проспект</td>\n",
       "      <td>146</td>\n",
       "      <td>Район Проспект Вернадского</td>\n",
       "    </tr>\n",
       "    <tr>\n",
       "      <th>30</th>\n",
       "      <td>Ленинский проспект</td>\n",
       "      <td>146</td>\n",
       "      <td>Район Тропарево-Никулино</td>\n",
       "    </tr>\n",
       "    <tr>\n",
       "      <th>31</th>\n",
       "      <td>Ленинский проспект</td>\n",
       "      <td>146</td>\n",
       "      <td>Донской район</td>\n",
       "    </tr>\n",
       "    <tr>\n",
       "      <th>32</th>\n",
       "      <td>Ленинский проспект</td>\n",
       "      <td>146</td>\n",
       "      <td>Район Гагаринский</td>\n",
       "    </tr>\n",
       "    <tr>\n",
       "      <th>33</th>\n",
       "      <td>Ленинский проспект</td>\n",
       "      <td>146</td>\n",
       "      <td>Ломоносовский район</td>\n",
       "    </tr>\n",
       "    <tr>\n",
       "      <th>34</th>\n",
       "      <td>Ленинский проспект</td>\n",
       "      <td>146</td>\n",
       "      <td>Обручевский район</td>\n",
       "    </tr>\n",
       "    <tr>\n",
       "      <th>35</th>\n",
       "      <td>Ленинский проспект</td>\n",
       "      <td>146</td>\n",
       "      <td>Район Теплый Стан</td>\n",
       "    </tr>\n",
       "    <tr>\n",
       "      <th>36</th>\n",
       "      <td>Ленинский проспект</td>\n",
       "      <td>146</td>\n",
       "      <td>Район Якиманка</td>\n",
       "    </tr>\n",
       "    <tr>\n",
       "      <th>37</th>\n",
       "      <td>поселение Сосенское</td>\n",
       "      <td>137</td>\n",
       "      <td>NaN</td>\n",
       "    </tr>\n",
       "    <tr>\n",
       "      <th>38</th>\n",
       "      <td>проспект Вернадского</td>\n",
       "      <td>128</td>\n",
       "      <td>Район Проспект Вернадского</td>\n",
       "    </tr>\n",
       "    <tr>\n",
       "      <th>39</th>\n",
       "      <td>проспект Вернадского</td>\n",
       "      <td>128</td>\n",
       "      <td>Район Раменки</td>\n",
       "    </tr>\n",
       "    <tr>\n",
       "      <th>40</th>\n",
       "      <td>проспект Вернадского</td>\n",
       "      <td>128</td>\n",
       "      <td>Район Тропарево-Никулино</td>\n",
       "    </tr>\n",
       "    <tr>\n",
       "      <th>41</th>\n",
       "      <td>проспект Вернадского</td>\n",
       "      <td>128</td>\n",
       "      <td>Район Гагаринский</td>\n",
       "    </tr>\n",
       "    <tr>\n",
       "      <th>42</th>\n",
       "      <td>проспект Вернадского</td>\n",
       "      <td>128</td>\n",
       "      <td>Ломоносовский район</td>\n",
       "    </tr>\n",
       "    <tr>\n",
       "      <th>43</th>\n",
       "      <td>Кутузовский проспект</td>\n",
       "      <td>114</td>\n",
       "      <td>Район Дорогомилово</td>\n",
       "    </tr>\n",
       "    <tr>\n",
       "      <th>44</th>\n",
       "      <td>Кутузовский проспект</td>\n",
       "      <td>114</td>\n",
       "      <td>Район Фили-Давыдково</td>\n",
       "    </tr>\n",
       "  </tbody>\n",
       "</table>\n",
       "</div>"
      ],
      "text/plain": [
       "               street_name  number_restaurants                         area\n",
       "0         город Зеленоград                 232                Район Крюково\n",
       "1         город Зеленоград                 232      Район Матушкино-Савелки\n",
       "2         город Зеленоград                 232           Панфиловский район\n",
       "3            проспект Мира                 203           Алексеевский район\n",
       "4            проспект Мира                 203            Ярославский Район\n",
       "5            проспект Мира                 203           Район Марьина роща\n",
       "6            проспект Мира                 203           Останкинский район\n",
       "7            проспект Мира                 203              Район Ростокино\n",
       "8            проспект Мира                 203               Район Свиблово\n",
       "9            проспект Мира                 203              Мещанский район\n",
       "10       Профсоюзная улица                 181          Академический район\n",
       "11       Профсоюзная улица                 181              Район Черемушки\n",
       "12       Профсоюзная улица                 181                Район Ясенево\n",
       "13       Профсоюзная улица                 181               Район Коньково\n",
       "14       Профсоюзная улица                 181            Обручевский район\n",
       "15       Профсоюзная улица                 181            Район Теплый Стан\n",
       "16  Ленинградский проспект                 170               Район Аэропорт\n",
       "17  Ленинградский проспект                 170                Район Беговой\n",
       "18  Ленинградский проспект                 170            Хорошевский район\n",
       "19  Ленинградский проспект                 170                  Район Сокол\n",
       "20  Пресненская набережная                 167            Пресненский район\n",
       "21        Варшавское шоссе                 161  Район Чертаново Центральное\n",
       "22        Варшавское шоссе                 161     Район Чертаново Северное\n",
       "23        Варшавское шоссе                 161        Район Чертаново Южное\n",
       "24        Варшавское шоссе                 161                Донской район\n",
       "25        Варшавское шоссе                 161     Район Нагатино-Садовники\n",
       "26        Варшавское шоссе                 161               Нагорный район\n",
       "27        Варшавское шоссе                 161        Район Северное Бутово\n",
       "28        Варшавское шоссе                 161           Район Южное Бутово\n",
       "29      Ленинский проспект                 146   Район Проспект Вернадского\n",
       "30      Ленинский проспект                 146     Район Тропарево-Никулино\n",
       "31      Ленинский проспект                 146                Донской район\n",
       "32      Ленинский проспект                 146            Район Гагаринский\n",
       "33      Ленинский проспект                 146          Ломоносовский район\n",
       "34      Ленинский проспект                 146            Обручевский район\n",
       "35      Ленинский проспект                 146            Район Теплый Стан\n",
       "36      Ленинский проспект                 146               Район Якиманка\n",
       "37     поселение Сосенское                 137                          NaN\n",
       "38    проспект Вернадского                 128   Район Проспект Вернадского\n",
       "39    проспект Вернадского                 128                Район Раменки\n",
       "40    проспект Вернадского                 128     Район Тропарево-Никулино\n",
       "41    проспект Вернадского                 128            Район Гагаринский\n",
       "42    проспект Вернадского                 128          Ломоносовский район\n",
       "43    Кутузовский проспект                 114           Район Дорогомилово\n",
       "44    Кутузовский проспект                 114         Район Фили-Давыдково"
      ]
     },
     "execution_count": 28,
     "metadata": {},
     "output_type": "execute_result"
    }
   ],
   "source": [
    "\n",
    "top_street_area = (              #  новая переменная top-10 с районами\n",
    "    top_street.\n",
    "    reset_index().                                          # добавили индексы\n",
    "    merge(                                                  # объединяем таблицы\n",
    "        streets.\n",
    "        drop(columns = ['area_id', 'okrug'], axis = 1),     # удалив лишние столбцы\n",
    "        on='street_name',                                   # по названию улицы\n",
    "        how='left'\n",
    "    )\n",
    ")\n",
    "top_street_area "
   ]
  },
  {
   "cell_type": "markdown",
   "metadata": {},
   "source": [
    "Как видим, все эти улицы находятся в нескольких районах, что может говорить о том, что они имеют большую протяженность.\n",
    "\n",
    "Не найденное во внешних источниках поселение Сoсенское, как уже отмечалось, это внутригородское муниципальное образование со статусом поселения, так что его район - это и есть поселение Сoсенское.\n",
    "\n",
    "Более подробное изучение данных улиц дает информацию, что большинство из них - это крупные радиальные проспекты, начинающиеся от Садового кольца или ТТК и заканчивающиеся возле МКАД или проходящие дальше. \n",
    "\n",
    "Исключение составляет Пресненская набережная, небольшая по протяженности улица, возле которой расположен Московский международный деловой центр «Москва-Сити» с его комплексом небоскребов. Большая плотность ресторанов объясняется именно этим фактором."
   ]
  },
  {
   "cell_type": "markdown",
   "metadata": {},
   "source": [
    "### Улицы с одним объектом общественного питания"
   ]
  },
  {
   "cell_type": "code",
   "execution_count": 29,
   "metadata": {
    "scrolled": true
   },
   "outputs": [
    {
     "data": {
      "text/html": [
       "<div>\n",
       "<style scoped>\n",
       "    .dataframe tbody tr th:only-of-type {\n",
       "        vertical-align: middle;\n",
       "    }\n",
       "\n",
       "    .dataframe tbody tr th {\n",
       "        vertical-align: top;\n",
       "    }\n",
       "\n",
       "    .dataframe thead th {\n",
       "        text-align: right;\n",
       "    }\n",
       "</style>\n",
       "<table border=\"1\" class=\"dataframe\">\n",
       "  <thead>\n",
       "    <tr style=\"text-align: right;\">\n",
       "      <th></th>\n",
       "      <th>number_restaurants</th>\n",
       "    </tr>\n",
       "    <tr>\n",
       "      <th>street_name</th>\n",
       "      <th></th>\n",
       "    </tr>\n",
       "  </thead>\n",
       "  <tbody>\n",
       "    <tr>\n",
       "      <th>Библиотечная улица</th>\n",
       "      <td>1</td>\n",
       "    </tr>\n",
       "    <tr>\n",
       "      <th>Воротниковский переулок</th>\n",
       "      <td>1</td>\n",
       "    </tr>\n",
       "    <tr>\n",
       "      <th>улица Академика Опарина</th>\n",
       "      <td>1</td>\n",
       "    </tr>\n",
       "    <tr>\n",
       "      <th>Платовская улица</th>\n",
       "      <td>1</td>\n",
       "    </tr>\n",
       "    <tr>\n",
       "      <th>1-й Курьяновский проезд</th>\n",
       "      <td>1</td>\n",
       "    </tr>\n",
       "  </tbody>\n",
       "</table>\n",
       "</div>"
      ],
      "text/plain": [
       "                         number_restaurants\n",
       "street_name                                \n",
       "Библиотечная улица                        1\n",
       "Воротниковский переулок                   1\n",
       "улица Академика Опарина                   1\n",
       "Платовская улица                          1\n",
       "1-й Курьяновский проезд                   1"
      ]
     },
     "execution_count": 29,
     "metadata": {},
     "output_type": "execute_result"
    }
   ],
   "source": [
    "tail_street_1 = (\n",
    "    rest_data.\n",
    "    pivot_table                  #  Создадим сводную таблицу\n",
    "    (\n",
    "        index='street_name',     #  по названию улицы\n",
    "        values='id',             #  посчитаем по id\n",
    "        aggfunc='count'          #  общее количество\n",
    "    ).\n",
    "    rename(columns={'id': 'number_restaurants'})\n",
    "    \n",
    ")\n",
    "tail_street_1 = tail_street_1.query('number_restaurants == 1')\n",
    "\n",
    "tail_street_1.sample(5)          # Посмотрим на данные - 5 произвольных строк"
   ]
  },
  {
   "cell_type": "code",
   "execution_count": 30,
   "metadata": {},
   "outputs": [
    {
     "data": {
      "text/html": [
       "<div>\n",
       "<style scoped>\n",
       "    .dataframe tbody tr th:only-of-type {\n",
       "        vertical-align: middle;\n",
       "    }\n",
       "\n",
       "    .dataframe tbody tr th {\n",
       "        vertical-align: top;\n",
       "    }\n",
       "\n",
       "    .dataframe thead th {\n",
       "        text-align: right;\n",
       "    }\n",
       "</style>\n",
       "<table border=\"1\" class=\"dataframe\">\n",
       "  <thead>\n",
       "    <tr style=\"text-align: right;\">\n",
       "      <th></th>\n",
       "      <th>street_name</th>\n",
       "      <th>number_restaurants</th>\n",
       "      <th>area</th>\n",
       "    </tr>\n",
       "  </thead>\n",
       "  <tbody>\n",
       "    <tr>\n",
       "      <th>0</th>\n",
       "      <td>1-й Балтийский переулок</td>\n",
       "      <td>1</td>\n",
       "      <td>Район Аэропорт</td>\n",
       "    </tr>\n",
       "    <tr>\n",
       "      <th>1</th>\n",
       "      <td>1-й Басманный переулок</td>\n",
       "      <td>1</td>\n",
       "      <td>Басманный район</td>\n",
       "    </tr>\n",
       "    <tr>\n",
       "      <th>2</th>\n",
       "      <td>1-й Басманный переулок</td>\n",
       "      <td>1</td>\n",
       "      <td>Красносельский район</td>\n",
       "    </tr>\n",
       "    <tr>\n",
       "      <th>3</th>\n",
       "      <td>1-й Ботанический проезд</td>\n",
       "      <td>1</td>\n",
       "      <td>Район Свиблово</td>\n",
       "    </tr>\n",
       "    <tr>\n",
       "      <th>4</th>\n",
       "      <td>1-й Вешняковский проезд</td>\n",
       "      <td>1</td>\n",
       "      <td>Рязанский район</td>\n",
       "    </tr>\n",
       "  </tbody>\n",
       "</table>\n",
       "</div>"
      ],
      "text/plain": [
       "               street_name  number_restaurants                  area\n",
       "0  1-й Балтийский переулок                   1        Район Аэропорт\n",
       "1   1-й Басманный переулок                   1       Басманный район\n",
       "2   1-й Басманный переулок                   1  Красносельский район\n",
       "3  1-й Ботанический проезд                   1        Район Свиблово\n",
       "4  1-й Вешняковский проезд                   1       Рязанский район"
      ]
     },
     "execution_count": 30,
     "metadata": {},
     "output_type": "execute_result"
    }
   ],
   "source": [
    " \n",
    "tail_street_1_area = (       #  новая переменная top-10 с районами\n",
    "    tail_street_1.\n",
    "    reset_index().                                              # добавили индексы\n",
    "    merge(                                                      # объединяем таблицы\n",
    "        streets.drop(columns = ['area_id', 'okrug'], axis = 1), # удалив лишние столбцы\n",
    "        on='street_name',                                       # по названию улицы\n",
    "        how='left')\n",
    ")\n",
    "tail_street_1_area.head()\n"
   ]
  },
  {
   "cell_type": "code",
   "execution_count": 31,
   "metadata": {},
   "outputs": [
    {
     "name": "stdout",
     "output_type": "stream",
     "text": [
      "Общее число улиц с одним заведением общепита: 623\n",
      "<class 'pandas.core.frame.DataFrame'>\n",
      "Int64Index: 623 entries, 0 to 622\n",
      "Data columns (total 3 columns):\n",
      " #   Column              Non-Null Count  Dtype \n",
      "---  ------              --------------  ----- \n",
      " 0   street_name         623 non-null    object\n",
      " 1   number_restaurants  623 non-null    int64 \n",
      " 2   area                560 non-null    object\n",
      "dtypes: int64(1), object(2)\n",
      "memory usage: 19.5+ KB\n"
     ]
    }
   ],
   "source": [
    "print('Общее число улиц с одним заведением общепита:', len(tail_street_1_area['street_name']))\n",
    "tail_street_1_area.info()"
   ]
  },
  {
   "cell_type": "markdown",
   "metadata": {},
   "source": [
    "Не всем улицам поставлены в соответствие районы города. Но для большинства такая информация есть. \n",
    "\n",
    "Делать какие-либо выводы по районам, в которых расположены наиболее \"скромные\" улицы по количеству находящихся на них предприятий общественного питания, на основе полученных данных нельзя, так как даже в первых строках таблицы находятся данные по одной улице, но в двух районах. Это значит, что по одному ресторану добавилось и в первый район, и во второй, а в каком районе на самом деле находится ресторан, мы можем узнать только после анализа номеров домов, а такой информацией мы не владеем: файл из внешних источников содержит только названия улиц и соответствующие им районы без привязки к номерам домов."
   ]
  },
  {
   "cell_type": "code",
   "execution_count": 32,
   "metadata": {
    "scrolled": false
   },
   "outputs": [
    {
     "name": "stdout",
     "output_type": "stream",
     "text": [
      "Количество районов, в которых находится улица с одним заведением: 99\n"
     ]
    }
   ],
   "source": [
    "print('Количество районов, в которых находится улица с одним заведением:', tail_street_1_area['area'].nunique())"
   ]
  },
  {
   "cell_type": "markdown",
   "metadata": {},
   "source": [
    "Из открытых источников (Википедии): количество районов в городе Москва с 2012 г. составляет 125 муниципальных округов, 19 поселений и 2 городских округа. Как видим, 99 районов - это подавляющее большинство. То есть улицы (переулки, проезды и т.п.) с находящимся на них единственным объектом общественного питания можно найти практически везде."
   ]
  },
  {
   "cell_type": "markdown",
   "metadata": {},
   "source": [
    "### Распределение количества посадочных мест для улиц с большим количеством объектов общественного питания"
   ]
  },
  {
   "cell_type": "code",
   "execution_count": 33,
   "metadata": {},
   "outputs": [
    {
     "data": {
      "text/html": [
       "<div>\n",
       "<style scoped>\n",
       "    .dataframe tbody tr th:only-of-type {\n",
       "        vertical-align: middle;\n",
       "    }\n",
       "\n",
       "    .dataframe tbody tr th {\n",
       "        vertical-align: top;\n",
       "    }\n",
       "\n",
       "    .dataframe thead th {\n",
       "        text-align: right;\n",
       "    }\n",
       "</style>\n",
       "<table border=\"1\" class=\"dataframe\">\n",
       "  <thead>\n",
       "    <tr style=\"text-align: right;\">\n",
       "      <th></th>\n",
       "      <th>index</th>\n",
       "      <th>id</th>\n",
       "      <th>object_name</th>\n",
       "      <th>chain</th>\n",
       "      <th>object_type</th>\n",
       "      <th>address</th>\n",
       "      <th>number</th>\n",
       "      <th>name_str</th>\n",
       "      <th>street_name</th>\n",
       "    </tr>\n",
       "  </thead>\n",
       "  <tbody>\n",
       "    <tr>\n",
       "      <th>12661</th>\n",
       "      <td>12723</td>\n",
       "      <td>199696</td>\n",
       "      <td>Arena by Soho Family</td>\n",
       "      <td>нет</td>\n",
       "      <td>бар</td>\n",
       "      <td>город Москва, Кутузовский проспект, дом 36, ст...</td>\n",
       "      <td>1700</td>\n",
       "      <td>arenabysohofamily</td>\n",
       "      <td>Кутузовский проспект</td>\n",
       "    </tr>\n",
       "    <tr>\n",
       "      <th>8112</th>\n",
       "      <td>8148</td>\n",
       "      <td>80291</td>\n",
       "      <td>Банкетный зал Шелк</td>\n",
       "      <td>нет</td>\n",
       "      <td>ресторан</td>\n",
       "      <td>город Москва, Большой Саввинский переулок, дом...</td>\n",
       "      <td>1500</td>\n",
       "      <td>банкетныйзалшелк</td>\n",
       "      <td>Большой Саввинский переулок</td>\n",
       "    </tr>\n",
       "    <tr>\n",
       "      <th>8309</th>\n",
       "      <td>8345</td>\n",
       "      <td>27750</td>\n",
       "      <td>СТОЛОВАЯ-БУФЕТ</td>\n",
       "      <td>нет</td>\n",
       "      <td>столовая</td>\n",
       "      <td>город Москва, улица Волхонка, дом 15</td>\n",
       "      <td>1400</td>\n",
       "      <td>буфет</td>\n",
       "      <td>улица Волхонка</td>\n",
       "    </tr>\n",
       "    <tr>\n",
       "      <th>9026</th>\n",
       "      <td>9064</td>\n",
       "      <td>19719</td>\n",
       "      <td>КОМБИНАТ ПИТАНИЯ «УПРАВЛЕНИЕ АКАДЕМСЕРВИС»</td>\n",
       "      <td>нет</td>\n",
       "      <td>столовая</td>\n",
       "      <td>город Москва, проспект Вернадского, дом 84, ст...</td>\n",
       "      <td>1288</td>\n",
       "      <td>комбинатуправлениеакадемсервис</td>\n",
       "      <td>проспект Вернадского</td>\n",
       "    </tr>\n",
       "    <tr>\n",
       "      <th>4471</th>\n",
       "      <td>4480</td>\n",
       "      <td>27024</td>\n",
       "      <td>РУМ СЕРВИС</td>\n",
       "      <td>нет</td>\n",
       "      <td>ресторан</td>\n",
       "      <td>город Москва, Кутузовский проспект, дом 2/1, с...</td>\n",
       "      <td>1200</td>\n",
       "      <td>румсервис</td>\n",
       "      <td>Кутузовский проспект</td>\n",
       "    </tr>\n",
       "    <tr>\n",
       "      <th>3679</th>\n",
       "      <td>3686</td>\n",
       "      <td>27026</td>\n",
       "      <td>РУМ СЕРВИС</td>\n",
       "      <td>нет</td>\n",
       "      <td>ресторан</td>\n",
       "      <td>город Москва, площадь Европы, дом 2</td>\n",
       "      <td>1200</td>\n",
       "      <td>румсервис</td>\n",
       "      <td>площадь Европы</td>\n",
       "    </tr>\n",
       "    <tr>\n",
       "      <th>2311</th>\n",
       "      <td>2313</td>\n",
       "      <td>26560</td>\n",
       "      <td>Ресторан «АЛЬФА»</td>\n",
       "      <td>нет</td>\n",
       "      <td>ресторан</td>\n",
       "      <td>город Москва, Измайловское шоссе, дом 71, корп...</td>\n",
       "      <td>1040</td>\n",
       "      <td>альфа</td>\n",
       "      <td>Измайловское шоссе</td>\n",
       "    </tr>\n",
       "    <tr>\n",
       "      <th>9914</th>\n",
       "      <td>9955</td>\n",
       "      <td>171116</td>\n",
       "      <td>EATALY</td>\n",
       "      <td>нет</td>\n",
       "      <td>ресторан</td>\n",
       "      <td>город Москва, Киевская улица, дом 2</td>\n",
       "      <td>920</td>\n",
       "      <td>eataly</td>\n",
       "      <td>Киевская улица</td>\n",
       "    </tr>\n",
       "    <tr>\n",
       "      <th>5632</th>\n",
       "      <td>5649</td>\n",
       "      <td>29232</td>\n",
       "      <td>СТОЛОВАЯ МОСКОВСКИЙ ГУМАНИТАРНЫЙ УНИВЕРСИТЕТ</td>\n",
       "      <td>нет</td>\n",
       "      <td>столовая</td>\n",
       "      <td>город Москва, улица Юности, дом 5, строение 1</td>\n",
       "      <td>760</td>\n",
       "      <td>московскийгуманитарныйуниверситет</td>\n",
       "      <td>улица Юности</td>\n",
       "    </tr>\n",
       "    <tr>\n",
       "      <th>13219</th>\n",
       "      <td>13299</td>\n",
       "      <td>200905</td>\n",
       "      <td>White Hall</td>\n",
       "      <td>нет</td>\n",
       "      <td>ресторан</td>\n",
       "      <td>город Москва, Ферганская улица, дом 8</td>\n",
       "      <td>700</td>\n",
       "      <td>whitehall</td>\n",
       "      <td>Ферганская улица</td>\n",
       "    </tr>\n",
       "  </tbody>\n",
       "</table>\n",
       "</div>"
      ],
      "text/plain": [
       "       index      id                                   object_name chain  \\\n",
       "12661  12723  199696                          Arena by Soho Family   нет   \n",
       "8112    8148   80291                            Банкетный зал Шелк   нет   \n",
       "8309    8345   27750                                СТОЛОВАЯ-БУФЕТ   нет   \n",
       "9026    9064   19719    КОМБИНАТ ПИТАНИЯ «УПРАВЛЕНИЕ АКАДЕМСЕРВИС»   нет   \n",
       "4471    4480   27024                                    РУМ СЕРВИС   нет   \n",
       "3679    3686   27026                                    РУМ СЕРВИС   нет   \n",
       "2311    2313   26560                              Ресторан «АЛЬФА»   нет   \n",
       "9914    9955  171116                                        EATALY   нет   \n",
       "5632    5649   29232  СТОЛОВАЯ МОСКОВСКИЙ ГУМАНИТАРНЫЙ УНИВЕРСИТЕТ   нет   \n",
       "13219  13299  200905                                    White Hall   нет   \n",
       "\n",
       "      object_type                                            address  number  \\\n",
       "12661         бар  город Москва, Кутузовский проспект, дом 36, ст...    1700   \n",
       "8112     ресторан  город Москва, Большой Саввинский переулок, дом...    1500   \n",
       "8309     столовая               город Москва, улица Волхонка, дом 15    1400   \n",
       "9026     столовая  город Москва, проспект Вернадского, дом 84, ст...    1288   \n",
       "4471     ресторан  город Москва, Кутузовский проспект, дом 2/1, с...    1200   \n",
       "3679     ресторан                город Москва, площадь Европы, дом 2    1200   \n",
       "2311     ресторан  город Москва, Измайловское шоссе, дом 71, корп...    1040   \n",
       "9914     ресторан                город Москва, Киевская улица, дом 2     920   \n",
       "5632     столовая      город Москва, улица Юности, дом 5, строение 1     760   \n",
       "13219    ресторан              город Москва, Ферганская улица, дом 8     700   \n",
       "\n",
       "                                name_str                  street_name  \n",
       "12661                  arenabysohofamily         Кутузовский проспект  \n",
       "8112                    банкетныйзалшелк  Большой Саввинский переулок  \n",
       "8309                               буфет               улица Волхонка  \n",
       "9026      комбинатуправлениеакадемсервис         проспект Вернадского  \n",
       "4471                           румсервис         Кутузовский проспект  \n",
       "3679                           румсервис               площадь Европы  \n",
       "2311                               альфа           Измайловское шоссе  \n",
       "9914                              eataly               Киевская улица  \n",
       "5632   московскийгуманитарныйуниверситет                 улица Юности  \n",
       "13219                          whitehall             Ферганская улица  "
      ]
     },
     "metadata": {},
     "output_type": "display_data"
    }
   ],
   "source": [
    "display(\n",
    "    rest_data.sort_values(by='number', ascending=False).\n",
    "    head(10)\n",
    ")"
   ]
  },
  {
   "cell_type": "code",
   "execution_count": 34,
   "metadata": {
    "scrolled": false
   },
   "outputs": [
    {
     "data": {
      "image/png": "[encoded data removed]",
      "text/plain": [
       "<Figure size 864x432 with 1 Axes>"
      ]
     },
     "metadata": {},
     "output_type": "display_data"
    }
   ],
   "source": [
    "top_10 = top_street.reset_index()['street_name'].tolist()  # создали список улиц из top-10\n",
    "\n",
    "sns.set_style('dark')\n",
    "plt.figure(figsize=(12, 6))\n",
    "\n",
    "sns.boxplot(\n",
    "    x = 'number', \n",
    "    y = 'street_name', \n",
    "    data = rest_data.query('street_name in @top_10')\n",
    ")\n",
    "\n",
    "plt.title('Распределение количества посадочных мест для улиц из top-10 по числу заведений') \n",
    "plt.xlabel('Количество посадочных мест')\n",
    "plt.ylabel('Улица')\n",
    "plt.show()\n",
    "\n",
    "\n"
   ]
  },
  {
   "cell_type": "code",
   "execution_count": 35,
   "metadata": {},
   "outputs": [
    {
     "data": {
      "image/png": "[encoded data removed]",
      "text/plain": [
       "<Figure size 864x432 with 1 Axes>"
      ]
     },
     "metadata": {},
     "output_type": "display_data"
    }
   ],
   "source": [
    "\n",
    "plt.figure(figsize=(12, 6))\n",
    "\n",
    "sns.boxplot(\n",
    "    x = 'number', \n",
    "    y = 'street_name', \n",
    "    data = rest_data.query('street_name in @top_10')\n",
    ")\n",
    "plt.xlim([0, 600])  # Ограничили диапазон значений по оси Х\n",
    "plt.title('Распределение количества посадочных мест для улиц из top-10 по числу заведений') \n",
    "plt.xlabel('Количество посадочных мест')\n",
    "plt.ylabel('Улица')\n",
    "plt.show()"
   ]
  },
  {
   "cell_type": "markdown",
   "metadata": {},
   "source": [
    "Выводы по графику. \n",
    "- Самые выбивающиеся из общего ряда значения с очень большим количеством посадочных мест (более тысячи) на проспекте Вернадского и на Кутузовском проспекте.\n",
    "- Самое высокое медианное значение в городе Зеленоград, там же наиболее высокие значения первого и третьего квартилей - то есть большая часть заведений общественного питания имеют довольно много посадочных мест, а не одно-два.\n",
    "- Наименьшие показатели в поселении Сосновка, что не сложно объяснить тем, что это не очень большой и не популярный микрорайон.\n",
    "- В целом количество просадочных мест не превышает сотни, максимальные значения менее 200 (не считая выбросов).\n"
   ]
  },
  {
   "cell_type": "markdown",
   "metadata": {},
   "source": [
    "## Общие выводы\n",
    "\n",
    "- Больше всего кафе, затем идут столовые, рестораны и предприятия быстрого обслуживания;\n",
    "- Самые малочисленные - это магазины (отделы кулинарии), закусочные, кафетерии, чуть больше буфетов и баров.\n",
    "- Самая большая доля сетевых заведений среди кафе, предприятий быстрого обслуживания и ресторанов.\n",
    "- Столовые и буфеты сетевыми практически не бывают.\n",
    "- У сетевых заведений чем больше объем сети, тем меньше в ней в среднем посадочных мест, при этом большинство сетей имеют 2-3 заведения в своем составе. \n",
    "- Большим заведением можно считать то, в котором больше 80 мест.\n",
    "- Самое большое количество посадочных мест предоставляется столовыми, затем ресторанами. \n",
    "- Наименьшее число посадочных мест у отделов кулинарии, закусочных и кафетериев.\n",
    "- Топ-10 улиц с наибольшим числом заведений общепита - это в основном крупные радиальные проспекты, идущие от Садового кольца до МКАД или дальше. Исключение из этого правила составляет Пресненская набережная, возле которой расположен ММДЦ «Москва-Сити».\n",
    "\n",
    "\n",
    "Итак. На основе статистических данных о имеющихся заведениях общественного питания в городе Москва наиболее часто встречающимися видами являются кафе, рестораны и предприятия быстрого обслуживания с количеством посадочных мест не более 80, находящиеся на крупных транспортных магистралях Москвы в пределах МКАД, с соотношением сетевых и не сетевых как 1:3 или 1:2.\n",
    "\n",
    "**Общие рекомендации** могут выглядеть следующим образом: открытие небольшого не сетевого кафе с роботами-официантами в пределах МКАД в местах с большим количеством потенциальных покупателей выглядит беспроигрышным.\n"
   ]
  },
  {
   "cell_type": "markdown",
   "metadata": {},
   "source": [
    "## Презентация\n",
    "Подготовлена презентация исследования для инвесторов.\n",
    "\n",
    "Ссылка на презентацию: https://disk.yandex.ru/d/xjK6freNZuJcDg\n",
    "\n"
   ]
  }
 ],
 "metadata": {
  "ExecuteTimeLog": [
   {
    "duration": 300,
    "start_time": "2022-03-06T10:06:12.516Z"
   },
   {
    "duration": 777,
    "start_time": "2022-03-06T10:06:15.753Z"
   },
   {
    "duration": 279,
    "start_time": "2022-03-06T10:06:19.290Z"
   },
   {
    "duration": 80,
    "start_time": "2022-03-06T10:06:36.254Z"
   },
   {
    "duration": 13,
    "start_time": "2022-03-06T10:27:47.493Z"
   },
   {
    "duration": 26,
    "start_time": "2022-03-06T10:27:50.209Z"
   },
   {
    "duration": 17,
    "start_time": "2022-03-06T10:28:20.702Z"
   },
   {
    "duration": 243,
    "start_time": "2022-03-06T10:31:20.057Z"
   },
   {
    "duration": 6,
    "start_time": "2022-03-06T10:31:36.410Z"
   },
   {
    "duration": 296,
    "start_time": "2022-03-06T11:05:51.423Z"
   },
   {
    "duration": 10,
    "start_time": "2022-03-06T11:06:02.463Z"
   },
   {
    "duration": 17,
    "start_time": "2022-03-06T11:06:41.239Z"
   },
   {
    "duration": 60,
    "start_time": "2022-03-06T11:06:54.582Z"
   },
   {
    "duration": 4,
    "start_time": "2022-03-06T11:19:22.266Z"
   },
   {
    "duration": 67,
    "start_time": "2022-03-06T11:19:22.273Z"
   },
   {
    "duration": 18,
    "start_time": "2022-03-06T11:19:22.343Z"
   },
   {
    "duration": 34,
    "start_time": "2022-03-06T11:19:22.364Z"
   },
   {
    "duration": 7,
    "start_time": "2022-03-06T11:19:22.400Z"
   },
   {
    "duration": 34,
    "start_time": "2022-03-06T11:19:30.354Z"
   },
   {
    "duration": 14,
    "start_time": "2022-03-06T11:20:24.784Z"
   },
   {
    "duration": 240,
    "start_time": "2022-03-06T11:36:04.693Z"
   },
   {
    "duration": 262,
    "start_time": "2022-03-06T11:36:21.115Z"
   },
   {
    "duration": 263,
    "start_time": "2022-03-06T11:37:13.356Z"
   },
   {
    "duration": 912,
    "start_time": "2022-03-06T11:37:37.977Z"
   },
   {
    "duration": 59,
    "start_time": "2022-03-06T11:37:38.892Z"
   },
   {
    "duration": 40,
    "start_time": "2022-03-06T11:37:38.954Z"
   },
   {
    "duration": 25,
    "start_time": "2022-03-06T11:37:38.997Z"
   },
   {
    "duration": 5,
    "start_time": "2022-03-06T11:37:39.024Z"
   },
   {
    "duration": 17,
    "start_time": "2022-03-06T11:37:39.031Z"
   },
   {
    "duration": 367,
    "start_time": "2022-03-06T11:37:39.051Z"
   },
   {
    "duration": 242,
    "start_time": "2022-03-06T11:38:24.376Z"
   },
   {
    "duration": 14,
    "start_time": "2022-03-06T11:39:21.794Z"
   },
   {
    "duration": 18,
    "start_time": "2022-03-06T11:39:31.609Z"
   },
   {
    "duration": 266,
    "start_time": "2022-03-06T11:39:46.909Z"
   },
   {
    "duration": 23,
    "start_time": "2022-03-06T11:40:03.574Z"
   },
   {
    "duration": 19,
    "start_time": "2022-03-06T11:41:34.566Z"
   },
   {
    "duration": 5878,
    "start_time": "2022-03-06T11:47:43.191Z"
   },
   {
    "duration": 239,
    "start_time": "2022-03-06T11:52:19.856Z"
   },
   {
    "duration": 274,
    "start_time": "2022-03-06T11:52:37.125Z"
   },
   {
    "duration": 256,
    "start_time": "2022-03-06T12:00:28.277Z"
   },
   {
    "duration": 18,
    "start_time": "2022-03-06T12:00:43.373Z"
   },
   {
    "duration": 280,
    "start_time": "2022-03-06T12:02:02.974Z"
   },
   {
    "duration": 320,
    "start_time": "2022-03-06T12:02:56.938Z"
   },
   {
    "duration": 351,
    "start_time": "2022-03-06T12:03:38.760Z"
   },
   {
    "duration": 259,
    "start_time": "2022-03-06T12:03:58.769Z"
   },
   {
    "duration": 269,
    "start_time": "2022-03-06T12:04:24.150Z"
   },
   {
    "duration": 319,
    "start_time": "2022-03-06T12:06:16.972Z"
   },
   {
    "duration": 83,
    "start_time": "2022-03-06T12:10:32.194Z"
   },
   {
    "duration": 253,
    "start_time": "2022-03-06T12:10:39.708Z"
   },
   {
    "duration": 267,
    "start_time": "2022-03-06T12:14:03.580Z"
   },
   {
    "duration": 772,
    "start_time": "2022-03-06T12:14:12.461Z"
   },
   {
    "duration": 67,
    "start_time": "2022-03-06T12:14:13.235Z"
   },
   {
    "duration": 27,
    "start_time": "2022-03-06T12:14:13.306Z"
   },
   {
    "duration": 48,
    "start_time": "2022-03-06T12:14:13.337Z"
   },
   {
    "duration": 7,
    "start_time": "2022-03-06T12:14:13.387Z"
   },
   {
    "duration": 19,
    "start_time": "2022-03-06T12:14:13.396Z"
   },
   {
    "duration": 378,
    "start_time": "2022-03-06T12:14:13.417Z"
   },
   {
    "duration": 246,
    "start_time": "2022-03-06T12:14:58.928Z"
   },
   {
    "duration": 79,
    "start_time": "2022-03-06T12:16:57.196Z"
   },
   {
    "duration": 297,
    "start_time": "2022-03-06T12:17:02.896Z"
   },
   {
    "duration": 252,
    "start_time": "2022-03-06T12:17:31.419Z"
   },
   {
    "duration": 87,
    "start_time": "2022-03-06T12:17:46.405Z"
   },
   {
    "duration": 20,
    "start_time": "2022-03-06T12:18:20.666Z"
   },
   {
    "duration": 98,
    "start_time": "2022-03-06T12:35:31.604Z"
   },
   {
    "duration": 153,
    "start_time": "2022-03-06T12:36:17.090Z"
   },
   {
    "duration": 26,
    "start_time": "2022-03-06T12:36:22.792Z"
   },
   {
    "duration": 21,
    "start_time": "2022-03-06T12:37:04.150Z"
   },
   {
    "duration": 19,
    "start_time": "2022-03-06T12:39:56.117Z"
   },
   {
    "duration": 18,
    "start_time": "2022-03-06T12:42:03.559Z"
   },
   {
    "duration": 240,
    "start_time": "2022-03-06T12:58:18.416Z"
   },
   {
    "duration": 248,
    "start_time": "2022-03-06T12:58:54.519Z"
   },
   {
    "duration": 258,
    "start_time": "2022-03-06T13:02:20.296Z"
   },
   {
    "duration": 16,
    "start_time": "2022-03-06T13:03:22.183Z"
   },
   {
    "duration": 317,
    "start_time": "2022-03-06T13:05:54.370Z"
   },
   {
    "duration": 27,
    "start_time": "2022-03-06T13:06:17.497Z"
   },
   {
    "duration": 48,
    "start_time": "2022-03-06T13:06:43.363Z"
   },
   {
    "duration": 239,
    "start_time": "2022-03-06T13:10:52.550Z"
   },
   {
    "duration": 258,
    "start_time": "2022-03-06T13:12:06.406Z"
   },
   {
    "duration": 40,
    "start_time": "2022-03-06T13:12:18.528Z"
   },
   {
    "duration": 894,
    "start_time": "2022-03-06T13:12:42.473Z"
   },
   {
    "duration": 93,
    "start_time": "2022-03-06T13:12:43.370Z"
   },
   {
    "duration": 45,
    "start_time": "2022-03-06T13:12:43.467Z"
   },
   {
    "duration": 33,
    "start_time": "2022-03-06T13:12:43.515Z"
   },
   {
    "duration": 7,
    "start_time": "2022-03-06T13:12:43.551Z"
   },
   {
    "duration": 19,
    "start_time": "2022-03-06T13:12:43.584Z"
   },
   {
    "duration": 38,
    "start_time": "2022-03-06T13:12:43.606Z"
   },
   {
    "duration": 39,
    "start_time": "2022-03-06T13:13:18.509Z"
   },
   {
    "duration": 220,
    "start_time": "2022-03-06T13:25:46.616Z"
   },
   {
    "duration": 246,
    "start_time": "2022-03-06T13:26:32.610Z"
   },
   {
    "duration": 24,
    "start_time": "2022-03-06T13:26:46.957Z"
   },
   {
    "duration": 6594,
    "start_time": "2022-03-06T13:27:11.571Z"
   },
   {
    "duration": 26,
    "start_time": "2022-03-06T13:27:50.740Z"
   },
   {
    "duration": 280,
    "start_time": "2022-03-06T13:29:40.372Z"
   },
   {
    "duration": 21,
    "start_time": "2022-03-06T13:30:12.417Z"
   },
   {
    "duration": 9,
    "start_time": "2022-03-06T13:31:26.622Z"
   },
   {
    "duration": 10,
    "start_time": "2022-03-06T13:33:52.959Z"
   },
   {
    "duration": 284,
    "start_time": "2022-03-06T13:35:39.527Z"
   },
   {
    "duration": 19,
    "start_time": "2022-03-06T13:40:04.290Z"
   },
   {
    "duration": 23,
    "start_time": "2022-03-06T13:47:25.098Z"
   },
   {
    "duration": 312,
    "start_time": "2022-03-06T13:50:24.830Z"
   },
   {
    "duration": 5972,
    "start_time": "2022-03-06T13:53:49.828Z"
   },
   {
    "duration": 19,
    "start_time": "2022-03-06T13:54:03.328Z"
   },
   {
    "duration": 291,
    "start_time": "2022-03-06T13:56:08.095Z"
   },
   {
    "duration": 18,
    "start_time": "2022-03-06T13:56:13.343Z"
   },
   {
    "duration": 339,
    "start_time": "2022-03-06T13:57:59.936Z"
   },
   {
    "duration": 19,
    "start_time": "2022-03-06T13:58:04.344Z"
   },
   {
    "duration": 327,
    "start_time": "2022-03-06T14:00:02.429Z"
   },
   {
    "duration": 17,
    "start_time": "2022-03-06T14:00:05.916Z"
   },
   {
    "duration": 19,
    "start_time": "2022-03-06T14:00:26.740Z"
   },
   {
    "duration": 23,
    "start_time": "2022-03-06T14:00:51.875Z"
   },
   {
    "duration": 22,
    "start_time": "2022-03-06T14:02:03.130Z"
   },
   {
    "duration": 346,
    "start_time": "2022-03-06T14:03:23.997Z"
   },
   {
    "duration": 23,
    "start_time": "2022-03-06T14:03:27.381Z"
   },
   {
    "duration": 24,
    "start_time": "2022-03-06T14:05:59.186Z"
   },
   {
    "duration": 18,
    "start_time": "2022-03-06T14:14:33.058Z"
   },
   {
    "duration": 6013,
    "start_time": "2022-03-06T14:19:11.386Z"
   },
   {
    "duration": 259,
    "start_time": "2022-03-06T14:20:01.208Z"
   },
   {
    "duration": 19,
    "start_time": "2022-03-06T14:20:16.237Z"
   },
   {
    "duration": 230,
    "start_time": "2022-03-06T14:55:52.247Z"
   },
   {
    "duration": 6349,
    "start_time": "2022-03-06T14:56:08.740Z"
   },
   {
    "duration": 45,
    "start_time": "2022-03-06T14:56:50.366Z"
   },
   {
    "duration": 6052,
    "start_time": "2022-03-06T14:57:23.581Z"
   },
   {
    "duration": 38,
    "start_time": "2022-03-06T14:59:01.311Z"
   },
   {
    "duration": 39,
    "start_time": "2022-03-06T14:59:38.475Z"
   },
   {
    "duration": 6827,
    "start_time": "2022-03-06T14:59:47.954Z"
   },
   {
    "duration": 40,
    "start_time": "2022-03-06T15:00:03.739Z"
   },
   {
    "duration": 6971,
    "start_time": "2022-03-06T15:00:46.431Z"
   },
   {
    "duration": 749,
    "start_time": "2022-03-06T15:02:29.625Z"
   },
   {
    "duration": 68,
    "start_time": "2022-03-06T15:02:30.377Z"
   },
   {
    "duration": 42,
    "start_time": "2022-03-06T15:02:30.448Z"
   },
   {
    "duration": 52,
    "start_time": "2022-03-06T15:02:30.493Z"
   },
   {
    "duration": 21,
    "start_time": "2022-03-06T15:02:30.547Z"
   },
   {
    "duration": 38,
    "start_time": "2022-03-06T15:02:30.570Z"
   },
   {
    "duration": 577,
    "start_time": "2022-03-06T15:02:30.610Z"
   },
   {
    "duration": 530,
    "start_time": "2022-03-06T15:02:31.190Z"
   },
   {
    "duration": -118758,
    "start_time": "2022-03-06T15:04:30.481Z"
   },
   {
    "duration": -118757,
    "start_time": "2022-03-06T15:04:30.482Z"
   },
   {
    "duration": -118757,
    "start_time": "2022-03-06T15:04:30.483Z"
   },
   {
    "duration": 20,
    "start_time": "2022-03-06T15:03:01.367Z"
   },
   {
    "duration": 47,
    "start_time": "2022-03-06T15:03:11.267Z"
   },
   {
    "duration": 48,
    "start_time": "2022-03-06T15:03:21.124Z"
   },
   {
    "duration": 285,
    "start_time": "2022-03-06T15:03:33.060Z"
   },
   {
    "duration": 476,
    "start_time": "2022-03-06T15:03:57.580Z"
   },
   {
    "duration": 565,
    "start_time": "2022-03-06T15:07:34.592Z"
   },
   {
    "duration": 4,
    "start_time": "2022-03-06T15:08:29.632Z"
   },
   {
    "duration": 340,
    "start_time": "2022-03-06T15:08:33.108Z"
   },
   {
    "duration": 4,
    "start_time": "2022-03-06T15:13:09.880Z"
   },
   {
    "duration": 4,
    "start_time": "2022-03-06T15:15:30.126Z"
   },
   {
    "duration": 382,
    "start_time": "2022-03-06T15:15:33.279Z"
   },
   {
    "duration": 378,
    "start_time": "2022-03-06T15:18:20.944Z"
   },
   {
    "duration": 391,
    "start_time": "2022-03-06T15:19:54.471Z"
   },
   {
    "duration": 282,
    "start_time": "2022-03-06T15:20:16.744Z"
   },
   {
    "duration": 295,
    "start_time": "2022-03-06T15:20:43.496Z"
   },
   {
    "duration": 46,
    "start_time": "2022-03-06T15:20:59.470Z"
   },
   {
    "duration": 885,
    "start_time": "2022-03-06T15:24:23.522Z"
   },
   {
    "duration": 680,
    "start_time": "2022-03-06T15:24:36.869Z"
   },
   {
    "duration": 565,
    "start_time": "2022-03-06T15:24:52.439Z"
   },
   {
    "duration": 339,
    "start_time": "2022-03-06T15:25:04.330Z"
   },
   {
    "duration": 682,
    "start_time": "2022-03-06T15:25:23.388Z"
   },
   {
    "duration": 354,
    "start_time": "2022-03-06T15:26:44.207Z"
   },
   {
    "duration": 346,
    "start_time": "2022-03-06T15:27:36.423Z"
   },
   {
    "duration": 48,
    "start_time": "2022-03-06T15:29:00.603Z"
   },
   {
    "duration": 361,
    "start_time": "2022-03-06T15:29:16.306Z"
   },
   {
    "duration": 364,
    "start_time": "2022-03-06T15:30:14.980Z"
   },
   {
    "duration": 464,
    "start_time": "2022-03-06T15:30:28.821Z"
   },
   {
    "duration": 360,
    "start_time": "2022-03-06T15:30:55.059Z"
   },
   {
    "duration": 45,
    "start_time": "2022-03-06T15:33:06.920Z"
   },
   {
    "duration": 348,
    "start_time": "2022-03-06T15:33:55.938Z"
   },
   {
    "duration": 1414,
    "start_time": "2022-03-06T15:34:30.752Z"
   },
   {
    "duration": 58,
    "start_time": "2022-03-06T15:34:32.168Z"
   },
   {
    "duration": 20,
    "start_time": "2022-03-06T15:34:32.229Z"
   },
   {
    "duration": 45,
    "start_time": "2022-03-06T15:34:32.252Z"
   },
   {
    "duration": 7,
    "start_time": "2022-03-06T15:34:32.299Z"
   },
   {
    "duration": 6,
    "start_time": "2022-03-06T15:34:32.308Z"
   },
   {
    "duration": 367,
    "start_time": "2022-03-06T15:34:32.316Z"
   },
   {
    "duration": 23,
    "start_time": "2022-03-06T15:34:32.685Z"
   },
   {
    "duration": 3,
    "start_time": "2022-03-06T15:34:32.711Z"
   },
   {
    "duration": 11,
    "start_time": "2022-03-06T15:34:32.716Z"
   },
   {
    "duration": 70,
    "start_time": "2022-03-06T15:34:32.729Z"
   },
   {
    "duration": 376,
    "start_time": "2022-03-06T15:34:32.801Z"
   },
   {
    "duration": 52,
    "start_time": "2022-03-06T15:54:58.737Z"
   },
   {
    "duration": 382,
    "start_time": "2022-03-06T16:04:04.827Z"
   },
   {
    "duration": 363,
    "start_time": "2022-03-06T16:04:27.561Z"
   },
   {
    "duration": 396,
    "start_time": "2022-03-06T16:07:21.973Z"
   },
   {
    "duration": 394,
    "start_time": "2022-03-06T16:07:35.003Z"
   },
   {
    "duration": 387,
    "start_time": "2022-03-06T16:08:57.550Z"
   },
   {
    "duration": 402,
    "start_time": "2022-03-06T16:10:29.474Z"
   },
   {
    "duration": 468,
    "start_time": "2022-03-06T16:12:43.362Z"
   },
   {
    "duration": 391,
    "start_time": "2022-03-06T16:15:35.285Z"
   },
   {
    "duration": 4,
    "start_time": "2022-03-06T16:19:25.674Z"
   },
   {
    "duration": 1321,
    "start_time": "2022-03-06T16:19:38.724Z"
   },
   {
    "duration": 63,
    "start_time": "2022-03-06T16:19:40.048Z"
   },
   {
    "duration": 21,
    "start_time": "2022-03-06T16:19:40.115Z"
   },
   {
    "duration": 42,
    "start_time": "2022-03-06T16:19:40.140Z"
   },
   {
    "duration": 6,
    "start_time": "2022-03-06T16:19:40.185Z"
   },
   {
    "duration": 3,
    "start_time": "2022-03-06T16:19:40.194Z"
   },
   {
    "duration": 360,
    "start_time": "2022-03-06T16:19:40.199Z"
   },
   {
    "duration": 32,
    "start_time": "2022-03-06T16:19:40.562Z"
   },
   {
    "duration": 3,
    "start_time": "2022-03-06T16:19:40.598Z"
   },
   {
    "duration": 6,
    "start_time": "2022-03-06T16:19:40.604Z"
   },
   {
    "duration": 70,
    "start_time": "2022-03-06T16:19:40.612Z"
   },
   {
    "duration": 492,
    "start_time": "2022-03-06T16:19:40.684Z"
   },
   {
    "duration": 512,
    "start_time": "2022-03-06T16:19:41.179Z"
   },
   {
    "duration": -118771,
    "start_time": "2022-03-06T16:21:40.465Z"
   },
   {
    "duration": 38,
    "start_time": "2022-03-06T16:20:50.880Z"
   },
   {
    "duration": 413,
    "start_time": "2022-03-06T16:20:52.969Z"
   },
   {
    "duration": 44,
    "start_time": "2022-03-06T16:21:12.179Z"
   },
   {
    "duration": 1172,
    "start_time": "2022-03-07T13:09:59.455Z"
   },
   {
    "duration": 59,
    "start_time": "2022-03-07T13:10:00.629Z"
   },
   {
    "duration": 16,
    "start_time": "2022-03-07T13:10:00.690Z"
   },
   {
    "duration": 27,
    "start_time": "2022-03-07T13:10:00.708Z"
   },
   {
    "duration": 11,
    "start_time": "2022-03-07T13:10:00.737Z"
   },
   {
    "duration": 19,
    "start_time": "2022-03-07T13:10:00.750Z"
   },
   {
    "duration": 262,
    "start_time": "2022-03-07T13:10:00.772Z"
   },
   {
    "duration": 17,
    "start_time": "2022-03-07T13:10:01.037Z"
   },
   {
    "duration": 2,
    "start_time": "2022-03-07T13:10:01.057Z"
   },
   {
    "duration": 11,
    "start_time": "2022-03-07T13:10:01.061Z"
   },
   {
    "duration": 60,
    "start_time": "2022-03-07T13:10:01.074Z"
   },
   {
    "duration": 343,
    "start_time": "2022-03-07T13:10:01.136Z"
   },
   {
    "duration": 47,
    "start_time": "2022-03-07T13:10:01.481Z"
   },
   {
    "duration": 295,
    "start_time": "2022-03-07T13:10:01.530Z"
   },
   {
    "duration": 115,
    "start_time": "2022-03-07T13:39:23.965Z"
   },
   {
    "duration": 87,
    "start_time": "2022-03-07T13:39:30.629Z"
   },
   {
    "duration": 331,
    "start_time": "2022-03-07T13:39:36.783Z"
   },
   {
    "duration": 221,
    "start_time": "2022-03-07T13:54:49.005Z"
   },
   {
    "duration": 80,
    "start_time": "2022-03-07T13:56:13.824Z"
   },
   {
    "duration": 17,
    "start_time": "2022-03-07T13:56:34.224Z"
   },
   {
    "duration": 79,
    "start_time": "2022-03-07T14:00:04.710Z"
   },
   {
    "duration": 78,
    "start_time": "2022-03-07T14:00:17.678Z"
   },
   {
    "duration": 29,
    "start_time": "2022-03-07T14:00:36.703Z"
   },
   {
    "duration": 1204,
    "start_time": "2022-03-07T14:02:04.569Z"
   },
   {
    "duration": 54,
    "start_time": "2022-03-07T14:02:05.775Z"
   },
   {
    "duration": 29,
    "start_time": "2022-03-07T14:02:05.831Z"
   },
   {
    "duration": 19,
    "start_time": "2022-03-07T14:02:05.862Z"
   },
   {
    "duration": 5,
    "start_time": "2022-03-07T14:02:05.901Z"
   },
   {
    "duration": 8,
    "start_time": "2022-03-07T14:02:05.907Z"
   },
   {
    "duration": 285,
    "start_time": "2022-03-07T14:02:05.917Z"
   },
   {
    "duration": 18,
    "start_time": "2022-03-07T14:02:06.204Z"
   },
   {
    "duration": 3,
    "start_time": "2022-03-07T14:02:06.224Z"
   },
   {
    "duration": 7,
    "start_time": "2022-03-07T14:02:06.229Z"
   },
   {
    "duration": 41,
    "start_time": "2022-03-07T14:02:06.238Z"
   },
   {
    "duration": 338,
    "start_time": "2022-03-07T14:02:06.302Z"
   },
   {
    "duration": 37,
    "start_time": "2022-03-07T14:02:06.641Z"
   },
   {
    "duration": 299,
    "start_time": "2022-03-07T14:02:06.680Z"
   },
   {
    "duration": 26,
    "start_time": "2022-03-07T14:02:06.981Z"
   },
   {
    "duration": 19,
    "start_time": "2022-03-07T14:02:56.516Z"
   },
   {
    "duration": 30,
    "start_time": "2022-03-07T14:03:24.199Z"
   },
   {
    "duration": 24,
    "start_time": "2022-03-07T14:05:01.623Z"
   },
   {
    "duration": 22,
    "start_time": "2022-03-07T14:05:37.643Z"
   },
   {
    "duration": 74,
    "start_time": "2022-03-07T14:06:47.479Z"
   },
   {
    "duration": 28,
    "start_time": "2022-03-07T14:06:52.424Z"
   },
   {
    "duration": 27,
    "start_time": "2022-03-07T14:24:42.771Z"
   },
   {
    "duration": 345,
    "start_time": "2022-03-07T14:26:36.104Z"
   },
   {
    "duration": 280,
    "start_time": "2022-03-07T14:26:47.797Z"
   },
   {
    "duration": 15,
    "start_time": "2022-03-07T14:27:21.906Z"
   },
   {
    "duration": 246,
    "start_time": "2022-03-07T14:31:54.626Z"
   },
   {
    "duration": 293,
    "start_time": "2022-03-07T14:33:30.143Z"
   },
   {
    "duration": 28,
    "start_time": "2022-03-07T14:34:04.226Z"
   },
   {
    "duration": 34,
    "start_time": "2022-03-07T14:34:40.238Z"
   },
   {
    "duration": 255,
    "start_time": "2022-03-07T14:36:01.386Z"
   },
   {
    "duration": 245,
    "start_time": "2022-03-07T14:36:21.472Z"
   },
   {
    "duration": 246,
    "start_time": "2022-03-07T14:36:40.078Z"
   },
   {
    "duration": 234,
    "start_time": "2022-03-07T14:36:47.792Z"
   },
   {
    "duration": 31,
    "start_time": "2022-03-07T14:38:03.198Z"
   },
   {
    "duration": 1215,
    "start_time": "2022-03-07T14:38:17.852Z"
   },
   {
    "duration": 54,
    "start_time": "2022-03-07T14:38:19.069Z"
   },
   {
    "duration": 32,
    "start_time": "2022-03-07T14:38:19.125Z"
   },
   {
    "duration": 20,
    "start_time": "2022-03-07T14:38:19.159Z"
   },
   {
    "duration": 6,
    "start_time": "2022-03-07T14:38:19.201Z"
   },
   {
    "duration": 20,
    "start_time": "2022-03-07T14:38:19.208Z"
   },
   {
    "duration": 258,
    "start_time": "2022-03-07T14:38:19.230Z"
   },
   {
    "duration": 25,
    "start_time": "2022-03-07T14:38:19.491Z"
   },
   {
    "duration": 28,
    "start_time": "2022-03-07T14:38:19.518Z"
   },
   {
    "duration": 45,
    "start_time": "2022-03-07T14:38:19.548Z"
   },
   {
    "duration": 71,
    "start_time": "2022-03-07T14:38:19.595Z"
   },
   {
    "duration": 329,
    "start_time": "2022-03-07T14:38:19.668Z"
   },
   {
    "duration": 38,
    "start_time": "2022-03-07T14:38:20.001Z"
   },
   {
    "duration": 296,
    "start_time": "2022-03-07T14:38:20.041Z"
   },
   {
    "duration": 31,
    "start_time": "2022-03-07T14:38:20.338Z"
   },
   {
    "duration": 338,
    "start_time": "2022-03-07T14:39:06.965Z"
   },
   {
    "duration": 259,
    "start_time": "2022-03-07T14:39:18.314Z"
   },
   {
    "duration": 34,
    "start_time": "2022-03-07T14:40:56.079Z"
   },
   {
    "duration": 1177,
    "start_time": "2022-03-07T14:41:29.293Z"
   },
   {
    "duration": 52,
    "start_time": "2022-03-07T14:41:30.472Z"
   },
   {
    "duration": 29,
    "start_time": "2022-03-07T14:41:30.527Z"
   },
   {
    "duration": 40,
    "start_time": "2022-03-07T14:41:30.559Z"
   },
   {
    "duration": 10,
    "start_time": "2022-03-07T14:41:30.601Z"
   },
   {
    "duration": 17,
    "start_time": "2022-03-07T14:41:30.613Z"
   },
   {
    "duration": 265,
    "start_time": "2022-03-07T14:41:30.632Z"
   },
   {
    "duration": 16,
    "start_time": "2022-03-07T14:41:30.899Z"
   },
   {
    "duration": 16,
    "start_time": "2022-03-07T14:41:30.918Z"
   },
   {
    "duration": 3,
    "start_time": "2022-03-07T14:41:30.936Z"
   },
   {
    "duration": 41,
    "start_time": "2022-03-07T14:41:30.940Z"
   },
   {
    "duration": 365,
    "start_time": "2022-03-07T14:41:30.983Z"
   },
   {
    "duration": 35,
    "start_time": "2022-03-07T14:41:31.350Z"
   },
   {
    "duration": 291,
    "start_time": "2022-03-07T14:41:31.387Z"
   },
   {
    "duration": 49,
    "start_time": "2022-03-07T14:41:31.680Z"
   },
   {
    "duration": 31,
    "start_time": "2022-03-07T14:41:41.472Z"
   },
   {
    "duration": 73,
    "start_time": "2022-03-07T14:56:42.712Z"
   },
   {
    "duration": 46,
    "start_time": "2022-03-07T14:56:46.651Z"
   },
   {
    "duration": 48,
    "start_time": "2022-03-07T15:00:15.517Z"
   },
   {
    "duration": 318,
    "start_time": "2022-03-07T15:01:05.907Z"
   },
   {
    "duration": 82,
    "start_time": "2022-03-07T15:01:14.443Z"
   },
   {
    "duration": 49,
    "start_time": "2022-03-07T15:01:22.522Z"
   },
   {
    "duration": 87,
    "start_time": "2022-03-07T15:06:01.564Z"
   },
   {
    "duration": 55,
    "start_time": "2022-03-07T15:06:10.838Z"
   },
   {
    "duration": 50,
    "start_time": "2022-03-07T15:06:20.708Z"
   },
   {
    "duration": 466,
    "start_time": "2022-03-07T15:08:04.931Z"
   },
   {
    "duration": 218,
    "start_time": "2022-03-07T15:10:06.906Z"
   },
   {
    "duration": 543,
    "start_time": "2022-03-07T15:10:35.458Z"
   },
   {
    "duration": 75,
    "start_time": "2022-03-07T15:12:14.691Z"
   },
   {
    "duration": 295,
    "start_time": "2022-03-07T15:13:13.019Z"
   },
   {
    "duration": 20,
    "start_time": "2022-03-07T15:13:19.478Z"
   },
   {
    "duration": 18,
    "start_time": "2022-03-07T15:13:19.501Z"
   },
   {
    "duration": 7,
    "start_time": "2022-03-07T15:13:19.522Z"
   },
   {
    "duration": 44,
    "start_time": "2022-03-07T15:13:19.531Z"
   },
   {
    "duration": 367,
    "start_time": "2022-03-07T15:13:19.577Z"
   },
   {
    "duration": 35,
    "start_time": "2022-03-07T15:13:19.946Z"
   },
   {
    "duration": 334,
    "start_time": "2022-03-07T15:13:19.983Z"
   },
   {
    "duration": 53,
    "start_time": "2022-03-07T15:13:20.319Z"
   },
   {
    "duration": 541,
    "start_time": "2022-03-07T15:13:20.374Z"
   },
   {
    "duration": 53,
    "start_time": "2022-03-07T15:14:16.645Z"
   },
   {
    "duration": 20,
    "start_time": "2022-03-07T15:33:00.701Z"
   },
   {
    "duration": 754,
    "start_time": "2022-03-07T15:33:49.909Z"
   },
   {
    "duration": 109,
    "start_time": "2022-03-07T15:34:16.866Z"
   },
   {
    "duration": 44,
    "start_time": "2022-03-07T15:34:21.155Z"
   },
   {
    "duration": 22,
    "start_time": "2022-03-07T15:34:23.795Z"
   },
   {
    "duration": 16,
    "start_time": "2022-03-07T15:45:17.218Z"
   },
   {
    "duration": 15,
    "start_time": "2022-03-07T15:46:13.238Z"
   },
   {
    "duration": 7,
    "start_time": "2022-03-07T15:49:20.044Z"
   },
   {
    "duration": 15,
    "start_time": "2022-03-07T15:50:32.738Z"
   },
   {
    "duration": 17,
    "start_time": "2022-03-07T15:50:58.986Z"
   },
   {
    "duration": 29,
    "start_time": "2022-03-07T15:51:37.268Z"
   },
   {
    "duration": 22,
    "start_time": "2022-03-07T15:52:22.638Z"
   },
   {
    "duration": 18,
    "start_time": "2022-03-07T15:52:33.522Z"
   },
   {
    "duration": 18,
    "start_time": "2022-03-07T15:53:50.435Z"
   },
   {
    "duration": 28,
    "start_time": "2022-03-07T15:54:18.531Z"
   },
   {
    "duration": 80,
    "start_time": "2022-03-07T15:56:19.720Z"
   },
   {
    "duration": 12,
    "start_time": "2022-03-07T15:56:30.737Z"
   },
   {
    "duration": 15,
    "start_time": "2022-03-07T15:56:54.254Z"
   },
   {
    "duration": 16,
    "start_time": "2022-03-07T15:58:53.359Z"
   },
   {
    "duration": 13,
    "start_time": "2022-03-07T16:00:21.073Z"
   },
   {
    "duration": 16,
    "start_time": "2022-03-07T16:00:48.602Z"
   },
   {
    "duration": 256,
    "start_time": "2022-03-07T16:01:09.747Z"
   },
   {
    "duration": 44,
    "start_time": "2022-03-07T16:02:27.891Z"
   },
   {
    "duration": 77,
    "start_time": "2022-03-07T16:03:37.483Z"
   },
   {
    "duration": 32,
    "start_time": "2022-03-07T16:04:28.986Z"
   },
   {
    "duration": 28,
    "start_time": "2022-03-07T16:05:01.560Z"
   },
   {
    "duration": 30,
    "start_time": "2022-03-07T16:06:46.113Z"
   },
   {
    "duration": 12,
    "start_time": "2022-03-07T16:06:55.032Z"
   },
   {
    "duration": 15,
    "start_time": "2022-03-07T16:08:18.635Z"
   },
   {
    "duration": 23,
    "start_time": "2022-03-07T16:08:54.428Z"
   },
   {
    "duration": 14,
    "start_time": "2022-03-07T16:11:39.726Z"
   },
   {
    "duration": 34,
    "start_time": "2022-03-07T16:11:47.792Z"
   },
   {
    "duration": 26,
    "start_time": "2022-03-07T16:16:50.579Z"
   },
   {
    "duration": 29,
    "start_time": "2022-03-07T16:17:18.854Z"
   },
   {
    "duration": 1291,
    "start_time": "2022-03-07T16:18:12.863Z"
   },
   {
    "duration": 56,
    "start_time": "2022-03-07T16:18:14.156Z"
   },
   {
    "duration": 34,
    "start_time": "2022-03-07T16:18:14.214Z"
   },
   {
    "duration": 23,
    "start_time": "2022-03-07T16:18:14.250Z"
   },
   {
    "duration": 14,
    "start_time": "2022-03-07T16:18:14.275Z"
   },
   {
    "duration": 390,
    "start_time": "2022-03-07T16:18:14.291Z"
   },
   {
    "duration": 32,
    "start_time": "2022-03-07T16:18:14.683Z"
   },
   {
    "duration": 20,
    "start_time": "2022-03-07T16:18:14.719Z"
   },
   {
    "duration": 18,
    "start_time": "2022-03-07T16:18:14.742Z"
   },
   {
    "duration": 82,
    "start_time": "2022-03-07T16:18:14.762Z"
   },
   {
    "duration": -119003,
    "start_time": "2022-03-07T16:20:13.849Z"
   },
   {
    "duration": -119004,
    "start_time": "2022-03-07T16:20:13.852Z"
   },
   {
    "duration": -119007,
    "start_time": "2022-03-07T16:20:13.856Z"
   },
   {
    "duration": -119008,
    "start_time": "2022-03-07T16:20:13.858Z"
   },
   {
    "duration": -119009,
    "start_time": "2022-03-07T16:20:13.860Z"
   },
   {
    "duration": -119009,
    "start_time": "2022-03-07T16:20:13.861Z"
   },
   {
    "duration": -119010,
    "start_time": "2022-03-07T16:20:13.863Z"
   },
   {
    "duration": -119010,
    "start_time": "2022-03-07T16:20:13.864Z"
   },
   {
    "duration": -119010,
    "start_time": "2022-03-07T16:20:13.865Z"
   },
   {
    "duration": 31,
    "start_time": "2022-03-07T16:18:43.445Z"
   },
   {
    "duration": 22,
    "start_time": "2022-03-07T16:18:59.943Z"
   },
   {
    "duration": 27,
    "start_time": "2022-03-07T16:18:59.967Z"
   },
   {
    "duration": 2,
    "start_time": "2022-03-07T16:18:59.997Z"
   },
   {
    "duration": 58,
    "start_time": "2022-03-07T16:19:00.002Z"
   },
   {
    "duration": 363,
    "start_time": "2022-03-07T16:19:00.062Z"
   },
   {
    "duration": 35,
    "start_time": "2022-03-07T16:19:00.426Z"
   },
   {
    "duration": 321,
    "start_time": "2022-03-07T16:19:00.464Z"
   },
   {
    "duration": 52,
    "start_time": "2022-03-07T16:19:00.787Z"
   },
   {
    "duration": 15,
    "start_time": "2022-03-07T16:19:00.842Z"
   },
   {
    "duration": 478,
    "start_time": "2022-03-07T16:19:00.859Z"
   },
   {
    "duration": 32,
    "start_time": "2022-03-07T16:19:40.607Z"
   },
   {
    "duration": 3,
    "start_time": "2022-03-07T16:42:31.343Z"
   },
   {
    "duration": 91,
    "start_time": "2022-03-07T17:11:23.904Z"
   },
   {
    "duration": 31,
    "start_time": "2022-03-07T17:11:40.099Z"
   },
   {
    "duration": 564,
    "start_time": "2022-03-07T17:11:46.749Z"
   },
   {
    "duration": 453,
    "start_time": "2022-03-07T17:15:56.622Z"
   },
   {
    "duration": 480,
    "start_time": "2022-03-07T17:16:35.796Z"
   },
   {
    "duration": 574,
    "start_time": "2022-03-07T17:19:34.310Z"
   },
   {
    "duration": 546,
    "start_time": "2022-03-07T17:19:46.359Z"
   },
   {
    "duration": 591,
    "start_time": "2022-03-07T17:19:54.250Z"
   },
   {
    "duration": 41,
    "start_time": "2022-03-07T17:33:18.214Z"
   },
   {
    "duration": 15,
    "start_time": "2022-03-07T17:33:20.820Z"
   },
   {
    "duration": 10,
    "start_time": "2022-03-07T17:33:47.384Z"
   },
   {
    "duration": 507,
    "start_time": "2022-03-07T17:33:51.609Z"
   },
   {
    "duration": 1169,
    "start_time": "2022-03-07T17:34:46.647Z"
   },
   {
    "duration": 52,
    "start_time": "2022-03-07T17:34:47.819Z"
   },
   {
    "duration": 41,
    "start_time": "2022-03-07T17:34:47.873Z"
   },
   {
    "duration": 20,
    "start_time": "2022-03-07T17:34:47.917Z"
   },
   {
    "duration": 4,
    "start_time": "2022-03-07T17:34:47.939Z"
   },
   {
    "duration": 285,
    "start_time": "2022-03-07T17:34:47.945Z"
   },
   {
    "duration": 15,
    "start_time": "2022-03-07T17:34:48.232Z"
   },
   {
    "duration": 15,
    "start_time": "2022-03-07T17:34:48.250Z"
   },
   {
    "duration": 37,
    "start_time": "2022-03-07T17:34:48.267Z"
   },
   {
    "duration": 21,
    "start_time": "2022-03-07T17:34:48.305Z"
   },
   {
    "duration": 23,
    "start_time": "2022-03-07T17:34:48.328Z"
   },
   {
    "duration": 3,
    "start_time": "2022-03-07T17:34:48.353Z"
   },
   {
    "duration": 63,
    "start_time": "2022-03-07T17:34:48.358Z"
   },
   {
    "duration": 339,
    "start_time": "2022-03-07T17:34:48.423Z"
   },
   {
    "duration": 44,
    "start_time": "2022-03-07T17:34:48.764Z"
   },
   {
    "duration": 276,
    "start_time": "2022-03-07T17:34:48.810Z"
   },
   {
    "duration": 47,
    "start_time": "2022-03-07T17:34:49.089Z"
   },
   {
    "duration": 17,
    "start_time": "2022-03-07T17:34:49.139Z"
   },
   {
    "duration": 182,
    "start_time": "2022-03-07T17:34:49.158Z"
   },
   {
    "duration": 938,
    "start_time": "2022-03-07T17:34:49.342Z"
   },
   {
    "duration": 174,
    "start_time": "2022-03-07T17:36:11.487Z"
   },
   {
    "duration": 1026,
    "start_time": "2022-03-07T17:36:14.837Z"
   },
   {
    "duration": 18,
    "start_time": "2022-03-07T17:37:07.440Z"
   },
   {
    "duration": 1122,
    "start_time": "2022-03-07T17:37:52.255Z"
   },
   {
    "duration": 52,
    "start_time": "2022-03-07T17:37:53.379Z"
   },
   {
    "duration": 32,
    "start_time": "2022-03-07T17:37:53.434Z"
   },
   {
    "duration": 41,
    "start_time": "2022-03-07T17:37:53.469Z"
   },
   {
    "duration": 6,
    "start_time": "2022-03-07T17:37:53.512Z"
   },
   {
    "duration": 274,
    "start_time": "2022-03-07T17:37:53.520Z"
   },
   {
    "duration": 21,
    "start_time": "2022-03-07T17:37:53.797Z"
   },
   {
    "duration": 15,
    "start_time": "2022-03-07T17:37:53.820Z"
   },
   {
    "duration": 17,
    "start_time": "2022-03-07T17:37:53.838Z"
   },
   {
    "duration": 50,
    "start_time": "2022-03-07T17:37:53.858Z"
   },
   {
    "duration": 25,
    "start_time": "2022-03-07T17:37:53.910Z"
   },
   {
    "duration": 3,
    "start_time": "2022-03-07T17:37:53.937Z"
   },
   {
    "duration": 60,
    "start_time": "2022-03-07T17:37:53.942Z"
   },
   {
    "duration": 341,
    "start_time": "2022-03-07T17:37:54.004Z"
   },
   {
    "duration": 33,
    "start_time": "2022-03-07T17:37:54.347Z"
   },
   {
    "duration": 287,
    "start_time": "2022-03-07T17:37:54.382Z"
   },
   {
    "duration": 49,
    "start_time": "2022-03-07T17:37:54.671Z"
   },
   {
    "duration": 16,
    "start_time": "2022-03-07T17:37:54.722Z"
   },
   {
    "duration": 190,
    "start_time": "2022-03-07T17:37:54.740Z"
   },
   {
    "duration": 885,
    "start_time": "2022-03-07T17:37:54.932Z"
   },
   {
    "duration": 1120,
    "start_time": "2022-03-07T17:38:37.036Z"
   },
   {
    "duration": 49,
    "start_time": "2022-03-07T17:38:38.158Z"
   },
   {
    "duration": 30,
    "start_time": "2022-03-07T17:38:38.209Z"
   },
   {
    "duration": 20,
    "start_time": "2022-03-07T17:38:38.241Z"
   },
   {
    "duration": 5,
    "start_time": "2022-03-07T17:38:38.263Z"
   },
   {
    "duration": 283,
    "start_time": "2022-03-07T17:38:38.270Z"
   },
   {
    "duration": 19,
    "start_time": "2022-03-07T17:38:38.555Z"
   },
   {
    "duration": 34,
    "start_time": "2022-03-07T17:38:38.578Z"
   },
   {
    "duration": 15,
    "start_time": "2022-03-07T17:38:38.615Z"
   },
   {
    "duration": 22,
    "start_time": "2022-03-07T17:38:38.632Z"
   },
   {
    "duration": 56,
    "start_time": "2022-03-07T17:38:38.657Z"
   },
   {
    "duration": 4,
    "start_time": "2022-03-07T17:38:38.715Z"
   },
   {
    "duration": 41,
    "start_time": "2022-03-07T17:38:38.721Z"
   },
   {
    "duration": 342,
    "start_time": "2022-03-07T17:38:38.764Z"
   },
   {
    "duration": 37,
    "start_time": "2022-03-07T17:38:39.108Z"
   },
   {
    "duration": 295,
    "start_time": "2022-03-07T17:38:39.147Z"
   },
   {
    "duration": 41,
    "start_time": "2022-03-07T17:38:39.445Z"
   },
   {
    "duration": 25,
    "start_time": "2022-03-07T17:38:39.488Z"
   },
   {
    "duration": 174,
    "start_time": "2022-03-07T17:38:39.515Z"
   },
   {
    "duration": 898,
    "start_time": "2022-03-07T17:38:39.691Z"
   },
   {
    "duration": 161,
    "start_time": "2022-03-07T17:40:25.880Z"
   },
   {
    "duration": 881,
    "start_time": "2022-03-07T17:40:28.998Z"
   },
   {
    "duration": 157,
    "start_time": "2022-03-07T17:40:38.635Z"
   },
   {
    "duration": 886,
    "start_time": "2022-03-07T17:40:43.890Z"
   },
   {
    "duration": 1149,
    "start_time": "2022-03-07T17:44:21.532Z"
   },
   {
    "duration": 1095,
    "start_time": "2022-03-07T17:44:40.981Z"
   },
   {
    "duration": 893,
    "start_time": "2022-03-07T17:46:29.413Z"
   },
   {
    "duration": 897,
    "start_time": "2022-03-07T17:47:26.022Z"
   },
   {
    "duration": 165,
    "start_time": "2022-03-07T17:49:58.614Z"
   },
   {
    "duration": 41,
    "start_time": "2022-03-07T17:50:16.677Z"
   },
   {
    "duration": 15,
    "start_time": "2022-03-07T17:50:20.271Z"
   },
   {
    "duration": 42,
    "start_time": "2022-03-07T17:50:38.110Z"
   },
   {
    "duration": 17,
    "start_time": "2022-03-07T17:50:40.749Z"
   },
   {
    "duration": 42,
    "start_time": "2022-03-07T17:51:00.499Z"
   },
   {
    "duration": 15,
    "start_time": "2022-03-07T17:51:03.858Z"
   },
   {
    "duration": 40,
    "start_time": "2022-03-07T17:51:27.035Z"
   },
   {
    "duration": 23,
    "start_time": "2022-03-07T17:51:30.253Z"
   },
   {
    "duration": 319,
    "start_time": "2022-03-07T17:52:03.839Z"
   },
   {
    "duration": 1184,
    "start_time": "2022-03-07T17:52:11.976Z"
   },
   {
    "duration": 52,
    "start_time": "2022-03-07T17:52:13.162Z"
   },
   {
    "duration": 29,
    "start_time": "2022-03-07T17:52:13.216Z"
   },
   {
    "duration": 19,
    "start_time": "2022-03-07T17:52:13.247Z"
   },
   {
    "duration": 5,
    "start_time": "2022-03-07T17:52:13.267Z"
   },
   {
    "duration": 354,
    "start_time": "2022-03-07T17:52:13.273Z"
   },
   {
    "duration": 17,
    "start_time": "2022-03-07T17:52:13.629Z"
   },
   {
    "duration": 15,
    "start_time": "2022-03-07T17:52:13.648Z"
   },
   {
    "duration": 15,
    "start_time": "2022-03-07T17:52:13.665Z"
   },
   {
    "duration": 32,
    "start_time": "2022-03-07T17:52:13.682Z"
   },
   {
    "duration": 23,
    "start_time": "2022-03-07T17:52:13.717Z"
   },
   {
    "duration": 3,
    "start_time": "2022-03-07T17:52:13.742Z"
   },
   {
    "duration": 42,
    "start_time": "2022-03-07T17:52:13.747Z"
   },
   {
    "duration": 341,
    "start_time": "2022-03-07T17:52:13.790Z"
   },
   {
    "duration": 38,
    "start_time": "2022-03-07T17:52:14.133Z"
   },
   {
    "duration": 372,
    "start_time": "2022-03-07T17:52:14.172Z"
   },
   {
    "duration": 42,
    "start_time": "2022-03-07T17:52:14.547Z"
   },
   {
    "duration": 15,
    "start_time": "2022-03-07T17:52:14.602Z"
   },
   {
    "duration": 185,
    "start_time": "2022-03-07T17:52:14.619Z"
   },
   {
    "duration": 917,
    "start_time": "2022-03-07T17:52:14.806Z"
   },
   {
    "duration": 42,
    "start_time": "2022-03-07T17:52:44.632Z"
   },
   {
    "duration": 16,
    "start_time": "2022-03-07T17:52:49.376Z"
   },
   {
    "duration": 356,
    "start_time": "2022-03-07T17:55:00.194Z"
   },
   {
    "duration": 260,
    "start_time": "2022-03-07T17:57:12.985Z"
   },
   {
    "duration": 46,
    "start_time": "2022-03-07T17:58:03.297Z"
   },
   {
    "duration": 15,
    "start_time": "2022-03-07T17:58:06.199Z"
   },
   {
    "duration": 230,
    "start_time": "2022-03-07T17:58:23.538Z"
   },
   {
    "duration": 34,
    "start_time": "2022-03-07T17:58:33.569Z"
   },
   {
    "duration": 623,
    "start_time": "2022-03-07T17:58:36.778Z"
   },
   {
    "duration": 664,
    "start_time": "2022-03-07T18:00:01.407Z"
   },
   {
    "duration": 32,
    "start_time": "2022-03-07T18:02:10.186Z"
   },
   {
    "duration": 30,
    "start_time": "2022-03-07T18:05:30.607Z"
   },
   {
    "duration": 669,
    "start_time": "2022-03-07T18:08:16.997Z"
   },
   {
    "duration": 558,
    "start_time": "2022-03-07T18:08:25.998Z"
   },
   {
    "duration": 544,
    "start_time": "2022-03-07T18:14:00.148Z"
   },
   {
    "duration": 15,
    "start_time": "2022-03-07T18:37:46.363Z"
   },
   {
    "duration": 231,
    "start_time": "2022-03-07T18:41:11.414Z"
   },
   {
    "duration": 18,
    "start_time": "2022-03-07T18:41:47.221Z"
   },
   {
    "duration": 225,
    "start_time": "2022-03-07T18:41:51.348Z"
   },
   {
    "duration": 229,
    "start_time": "2022-03-07T18:49:22.855Z"
   },
   {
    "duration": 16,
    "start_time": "2022-03-07T18:49:45.293Z"
   },
   {
    "duration": 243,
    "start_time": "2022-03-07T18:49:49.589Z"
   },
   {
    "duration": 292,
    "start_time": "2022-03-07T18:50:19.602Z"
   },
   {
    "duration": 16,
    "start_time": "2022-03-07T18:51:07.853Z"
   },
   {
    "duration": 16,
    "start_time": "2022-03-07T18:51:47.560Z"
   },
   {
    "duration": 301,
    "start_time": "2022-03-07T18:52:01.868Z"
   },
   {
    "duration": 17,
    "start_time": "2022-03-07T18:52:30.675Z"
   },
   {
    "duration": 325,
    "start_time": "2022-03-07T18:52:34.111Z"
   },
   {
    "duration": 509,
    "start_time": "2022-03-07T18:54:12.336Z"
   },
   {
    "duration": 292,
    "start_time": "2022-03-07T18:54:48.218Z"
   },
   {
    "duration": 251,
    "start_time": "2022-03-07T19:07:09.952Z"
   },
   {
    "duration": 5570,
    "start_time": "2022-03-07T19:07:29.807Z"
   },
   {
    "duration": 14,
    "start_time": "2022-03-07T19:07:59.205Z"
   },
   {
    "duration": 29,
    "start_time": "2022-03-07T19:08:11.558Z"
   },
   {
    "duration": 23,
    "start_time": "2022-03-07T19:14:31.152Z"
   },
   {
    "duration": 244,
    "start_time": "2022-03-07T19:17:20.147Z"
   },
   {
    "duration": 19,
    "start_time": "2022-03-07T19:17:36.270Z"
   },
   {
    "duration": 74,
    "start_time": "2022-03-07T19:22:37.863Z"
   },
   {
    "duration": 103,
    "start_time": "2022-03-07T19:22:49.046Z"
   },
   {
    "duration": 84,
    "start_time": "2022-03-07T19:36:29.289Z"
   },
   {
    "duration": 227,
    "start_time": "2022-03-07T19:39:13.175Z"
   },
   {
    "duration": 1116,
    "start_time": "2022-03-07T19:40:59.385Z"
   },
   {
    "duration": 258,
    "start_time": "2022-03-07T19:41:40.022Z"
   },
   {
    "duration": 238,
    "start_time": "2022-03-07T19:42:30.314Z"
   },
   {
    "duration": 219,
    "start_time": "2022-03-07T19:42:49.228Z"
   },
   {
    "duration": 213,
    "start_time": "2022-03-07T19:42:57.291Z"
   },
   {
    "duration": 11,
    "start_time": "2022-03-07T19:43:27.218Z"
   },
   {
    "duration": 1185,
    "start_time": "2022-03-07T19:43:56.382Z"
   },
   {
    "duration": 53,
    "start_time": "2022-03-07T19:43:57.569Z"
   },
   {
    "duration": 40,
    "start_time": "2022-03-07T19:43:57.625Z"
   },
   {
    "duration": 37,
    "start_time": "2022-03-07T19:43:57.668Z"
   },
   {
    "duration": 5,
    "start_time": "2022-03-07T19:43:57.708Z"
   },
   {
    "duration": 287,
    "start_time": "2022-03-07T19:43:57.715Z"
   },
   {
    "duration": 18,
    "start_time": "2022-03-07T19:43:58.005Z"
   },
   {
    "duration": 20,
    "start_time": "2022-03-07T19:43:58.026Z"
   },
   {
    "duration": 22,
    "start_time": "2022-03-07T19:43:58.049Z"
   },
   {
    "duration": 39,
    "start_time": "2022-03-07T19:43:58.073Z"
   },
   {
    "duration": 24,
    "start_time": "2022-03-07T19:43:58.114Z"
   },
   {
    "duration": 3,
    "start_time": "2022-03-07T19:43:58.140Z"
   },
   {
    "duration": 63,
    "start_time": "2022-03-07T19:43:58.145Z"
   },
   {
    "duration": 381,
    "start_time": "2022-03-07T19:43:58.210Z"
   },
   {
    "duration": 57,
    "start_time": "2022-03-07T19:43:58.593Z"
   },
   {
    "duration": 430,
    "start_time": "2022-03-07T19:43:58.652Z"
   },
   {
    "duration": 75,
    "start_time": "2022-03-07T19:43:59.084Z"
   },
   {
    "duration": 21,
    "start_time": "2022-03-07T19:43:59.161Z"
   },
   {
    "duration": 32,
    "start_time": "2022-03-07T19:43:59.201Z"
   },
   {
    "duration": 546,
    "start_time": "2022-03-07T19:43:59.235Z"
   },
   {
    "duration": 30,
    "start_time": "2022-03-07T19:43:59.784Z"
   },
   {
    "duration": 329,
    "start_time": "2022-03-07T19:43:59.816Z"
   },
   {
    "duration": 26,
    "start_time": "2022-03-07T19:44:00.148Z"
   },
   {
    "duration": 47,
    "start_time": "2022-03-07T19:44:00.176Z"
   },
   {
    "duration": 10,
    "start_time": "2022-03-07T19:44:06.158Z"
   },
   {
    "duration": 11,
    "start_time": "2022-03-07T19:45:04.565Z"
   },
   {
    "duration": 9,
    "start_time": "2022-03-07T19:45:20.879Z"
   },
   {
    "duration": 94,
    "start_time": "2022-03-07T19:46:12.705Z"
   },
   {
    "duration": 76,
    "start_time": "2022-03-07T19:46:24.696Z"
   },
   {
    "duration": 139,
    "start_time": "2022-03-07T19:46:31.627Z"
   },
   {
    "duration": 11,
    "start_time": "2022-03-07T19:46:38.215Z"
   },
   {
    "duration": 10,
    "start_time": "2022-03-07T19:46:54.070Z"
   },
   {
    "duration": 1134,
    "start_time": "2022-03-07T19:48:19.145Z"
   },
   {
    "duration": 57,
    "start_time": "2022-03-07T19:48:20.281Z"
   },
   {
    "duration": 45,
    "start_time": "2022-03-07T19:48:20.341Z"
   },
   {
    "duration": 30,
    "start_time": "2022-03-07T19:48:20.389Z"
   },
   {
    "duration": 4,
    "start_time": "2022-03-07T19:48:20.421Z"
   },
   {
    "duration": 287,
    "start_time": "2022-03-07T19:48:20.427Z"
   },
   {
    "duration": 17,
    "start_time": "2022-03-07T19:48:20.716Z"
   },
   {
    "duration": 20,
    "start_time": "2022-03-07T19:48:20.735Z"
   },
   {
    "duration": 13,
    "start_time": "2022-03-07T19:48:20.758Z"
   },
   {
    "duration": 43,
    "start_time": "2022-03-07T19:48:20.773Z"
   },
   {
    "duration": 23,
    "start_time": "2022-03-07T19:48:20.818Z"
   },
   {
    "duration": 3,
    "start_time": "2022-03-07T19:48:20.843Z"
   },
   {
    "duration": 64,
    "start_time": "2022-03-07T19:48:20.848Z"
   },
   {
    "duration": 347,
    "start_time": "2022-03-07T19:48:20.915Z"
   },
   {
    "duration": 50,
    "start_time": "2022-03-07T19:48:21.265Z"
   },
   {
    "duration": 290,
    "start_time": "2022-03-07T19:48:21.317Z"
   },
   {
    "duration": 45,
    "start_time": "2022-03-07T19:48:21.609Z"
   },
   {
    "duration": 17,
    "start_time": "2022-03-07T19:48:21.655Z"
   },
   {
    "duration": 56,
    "start_time": "2022-03-07T19:48:21.674Z"
   },
   {
    "duration": 572,
    "start_time": "2022-03-07T19:48:21.732Z"
   },
   {
    "duration": 15,
    "start_time": "2022-03-07T19:48:22.306Z"
   },
   {
    "duration": 340,
    "start_time": "2022-03-07T19:48:22.323Z"
   },
   {
    "duration": 22,
    "start_time": "2022-03-07T19:48:26.227Z"
   },
   {
    "duration": 17,
    "start_time": "2022-03-07T19:48:35.676Z"
   },
   {
    "duration": 11,
    "start_time": "2022-03-07T19:50:09.793Z"
   },
   {
    "duration": 12,
    "start_time": "2022-03-07T19:50:27.189Z"
   },
   {
    "duration": 11,
    "start_time": "2022-03-07T19:50:51.125Z"
   },
   {
    "duration": 31,
    "start_time": "2022-03-07T19:53:04.269Z"
   },
   {
    "duration": 23,
    "start_time": "2022-03-07T19:53:10.914Z"
   },
   {
    "duration": 16,
    "start_time": "2022-03-07T19:53:14.898Z"
   },
   {
    "duration": 16,
    "start_time": "2022-03-07T19:53:31.035Z"
   },
   {
    "duration": 25,
    "start_time": "2022-03-07T19:55:39.523Z"
   },
   {
    "duration": 14,
    "start_time": "2022-03-07T19:56:14.532Z"
   },
   {
    "duration": 14,
    "start_time": "2022-03-07T19:56:20.756Z"
   },
   {
    "duration": 353,
    "start_time": "2022-03-07T20:00:23.690Z"
   },
   {
    "duration": 21,
    "start_time": "2022-03-07T20:00:33.894Z"
   },
   {
    "duration": 20,
    "start_time": "2022-03-07T20:00:59.025Z"
   },
   {
    "duration": 11,
    "start_time": "2022-03-07T20:02:32.414Z"
   },
   {
    "duration": 258,
    "start_time": "2022-03-07T20:03:06.227Z"
   },
   {
    "duration": 1162,
    "start_time": "2022-03-07T20:03:49.913Z"
   },
   {
    "duration": 50,
    "start_time": "2022-03-07T20:03:51.077Z"
   },
   {
    "duration": 30,
    "start_time": "2022-03-07T20:03:51.129Z"
   },
   {
    "duration": 19,
    "start_time": "2022-03-07T20:03:51.161Z"
   },
   {
    "duration": 21,
    "start_time": "2022-03-07T20:03:51.182Z"
   },
   {
    "duration": 263,
    "start_time": "2022-03-07T20:03:51.205Z"
   },
   {
    "duration": 16,
    "start_time": "2022-03-07T20:03:51.470Z"
   },
   {
    "duration": 28,
    "start_time": "2022-03-07T20:03:51.487Z"
   },
   {
    "duration": 13,
    "start_time": "2022-03-07T20:03:51.518Z"
   },
   {
    "duration": 21,
    "start_time": "2022-03-07T20:03:51.534Z"
   },
   {
    "duration": 51,
    "start_time": "2022-03-07T20:03:51.557Z"
   },
   {
    "duration": 3,
    "start_time": "2022-03-07T20:03:51.610Z"
   },
   {
    "duration": 45,
    "start_time": "2022-03-07T20:03:51.615Z"
   },
   {
    "duration": 339,
    "start_time": "2022-03-07T20:03:51.662Z"
   },
   {
    "duration": 34,
    "start_time": "2022-03-07T20:03:52.003Z"
   },
   {
    "duration": 300,
    "start_time": "2022-03-07T20:03:52.038Z"
   },
   {
    "duration": 44,
    "start_time": "2022-03-07T20:03:52.340Z"
   },
   {
    "duration": 28,
    "start_time": "2022-03-07T20:03:52.386Z"
   },
   {
    "duration": 31,
    "start_time": "2022-03-07T20:03:52.416Z"
   },
   {
    "duration": 609,
    "start_time": "2022-03-07T20:03:52.448Z"
   },
   {
    "duration": 15,
    "start_time": "2022-03-07T20:03:53.059Z"
   },
   {
    "duration": 311,
    "start_time": "2022-03-07T20:03:53.076Z"
   },
   {
    "duration": 34,
    "start_time": "2022-03-07T20:03:53.389Z"
   },
   {
    "duration": 25,
    "start_time": "2022-03-07T20:03:53.425Z"
   },
   {
    "duration": 15,
    "start_time": "2022-03-07T20:03:53.452Z"
   },
   {
    "duration": 43,
    "start_time": "2022-03-07T20:03:53.469Z"
   },
   {
    "duration": 14,
    "start_time": "2022-03-07T20:03:53.516Z"
   },
   {
    "duration": 17,
    "start_time": "2022-03-07T20:03:53.532Z"
   },
   {
    "duration": 1093,
    "start_time": "2022-03-07T20:05:48.558Z"
   },
   {
    "duration": 18,
    "start_time": "2022-03-07T20:10:30.647Z"
   },
   {
    "duration": 1141,
    "start_time": "2022-03-07T20:11:20.725Z"
   },
   {
    "duration": 50,
    "start_time": "2022-03-07T20:11:21.868Z"
   },
   {
    "duration": 29,
    "start_time": "2022-03-07T20:11:21.921Z"
   },
   {
    "duration": 19,
    "start_time": "2022-03-07T20:11:21.952Z"
   },
   {
    "duration": 4,
    "start_time": "2022-03-07T20:11:21.973Z"
   },
   {
    "duration": 288,
    "start_time": "2022-03-07T20:11:21.979Z"
   },
   {
    "duration": 17,
    "start_time": "2022-03-07T20:11:22.269Z"
   },
   {
    "duration": 15,
    "start_time": "2022-03-07T20:11:22.300Z"
   },
   {
    "duration": 13,
    "start_time": "2022-03-07T20:11:22.317Z"
   },
   {
    "duration": 22,
    "start_time": "2022-03-07T20:11:22.332Z"
   },
   {
    "duration": 51,
    "start_time": "2022-03-07T20:11:22.355Z"
   },
   {
    "duration": 3,
    "start_time": "2022-03-07T20:11:22.408Z"
   },
   {
    "duration": 41,
    "start_time": "2022-03-07T20:11:22.412Z"
   },
   {
    "duration": 351,
    "start_time": "2022-03-07T20:11:22.455Z"
   },
   {
    "duration": 36,
    "start_time": "2022-03-07T20:11:22.808Z"
   },
   {
    "duration": 286,
    "start_time": "2022-03-07T20:11:22.846Z"
   },
   {
    "duration": 42,
    "start_time": "2022-03-07T20:11:23.134Z"
   },
   {
    "duration": 29,
    "start_time": "2022-03-07T20:11:23.178Z"
   },
   {
    "duration": 31,
    "start_time": "2022-03-07T20:11:23.209Z"
   },
   {
    "duration": 551,
    "start_time": "2022-03-07T20:11:23.242Z"
   },
   {
    "duration": 19,
    "start_time": "2022-03-07T20:11:23.795Z"
   },
   {
    "duration": 303,
    "start_time": "2022-03-07T20:11:23.816Z"
   },
   {
    "duration": 31,
    "start_time": "2022-03-07T20:11:24.123Z"
   },
   {
    "duration": 46,
    "start_time": "2022-03-07T20:11:24.156Z"
   },
   {
    "duration": 15,
    "start_time": "2022-03-07T20:11:24.204Z"
   },
   {
    "duration": 309,
    "start_time": "2022-03-07T20:14:27.183Z"
   },
   {
    "duration": 284,
    "start_time": "2022-03-07T20:16:42.509Z"
   },
   {
    "duration": 23,
    "start_time": "2022-03-07T20:30:42.038Z"
   },
   {
    "duration": 456,
    "start_time": "2022-03-08T06:15:13.768Z"
   },
   {
    "duration": 1134,
    "start_time": "2022-03-08T06:15:29.018Z"
   },
   {
    "duration": 49,
    "start_time": "2022-03-08T06:15:30.155Z"
   },
   {
    "duration": 30,
    "start_time": "2022-03-08T06:15:30.207Z"
   },
   {
    "duration": 17,
    "start_time": "2022-03-08T06:15:30.239Z"
   },
   {
    "duration": 3,
    "start_time": "2022-03-08T06:15:30.258Z"
   },
   {
    "duration": 237,
    "start_time": "2022-03-08T06:15:30.263Z"
   },
   {
    "duration": 14,
    "start_time": "2022-03-08T06:15:30.502Z"
   },
   {
    "duration": 25,
    "start_time": "2022-03-08T06:15:30.518Z"
   },
   {
    "duration": 19,
    "start_time": "2022-03-08T06:15:30.546Z"
   },
   {
    "duration": 22,
    "start_time": "2022-03-08T06:15:30.567Z"
   },
   {
    "duration": 19,
    "start_time": "2022-03-08T06:15:30.591Z"
   },
   {
    "duration": 22,
    "start_time": "2022-03-08T06:15:30.611Z"
   },
   {
    "duration": 30,
    "start_time": "2022-03-08T06:15:30.634Z"
   },
   {
    "duration": 298,
    "start_time": "2022-03-08T06:15:30.666Z"
   },
   {
    "duration": 31,
    "start_time": "2022-03-08T06:15:30.966Z"
   },
   {
    "duration": 252,
    "start_time": "2022-03-08T06:15:30.999Z"
   },
   {
    "duration": 38,
    "start_time": "2022-03-08T06:15:31.252Z"
   },
   {
    "duration": 12,
    "start_time": "2022-03-08T06:15:31.292Z"
   },
   {
    "duration": 49,
    "start_time": "2022-03-08T06:15:31.305Z"
   },
   {
    "duration": 477,
    "start_time": "2022-03-08T06:15:31.356Z"
   },
   {
    "duration": 13,
    "start_time": "2022-03-08T06:15:31.835Z"
   },
   {
    "duration": 270,
    "start_time": "2022-03-08T06:15:31.850Z"
   },
   {
    "duration": 29,
    "start_time": "2022-03-08T06:15:32.122Z"
   },
   {
    "duration": 20,
    "start_time": "2022-03-08T06:15:32.153Z"
   },
   {
    "duration": 12,
    "start_time": "2022-03-08T06:15:32.175Z"
   },
   {
    "duration": 273,
    "start_time": "2022-03-08T06:15:32.189Z"
   },
   {
    "duration": 457,
    "start_time": "2022-03-08T06:15:32.465Z"
   },
   {
    "duration": -119698,
    "start_time": "2022-03-08T06:17:32.622Z"
   },
   {
    "duration": 445,
    "start_time": "2022-03-08T06:16:22.518Z"
   },
   {
    "duration": 1448,
    "start_time": "2022-03-08T06:21:28.661Z"
   },
   {
    "duration": 1290,
    "start_time": "2022-03-08T06:21:49.064Z"
   },
   {
    "duration": 378,
    "start_time": "2022-03-08T06:46:41.936Z"
   },
   {
    "duration": 254,
    "start_time": "2022-03-08T06:48:08.181Z"
   },
   {
    "duration": 243,
    "start_time": "2022-03-08T06:49:32.847Z"
   },
   {
    "duration": 611,
    "start_time": "2022-03-08T06:52:02.966Z"
   },
   {
    "duration": 8,
    "start_time": "2022-03-08T06:56:57.090Z"
   },
   {
    "duration": 193,
    "start_time": "2022-03-08T07:10:01.189Z"
   },
   {
    "duration": 184,
    "start_time": "2022-03-08T07:10:12.605Z"
   },
   {
    "duration": 54,
    "start_time": "2022-03-08T07:12:28.022Z"
   },
   {
    "duration": 188,
    "start_time": "2022-03-08T07:12:31.638Z"
   },
   {
    "duration": 185,
    "start_time": "2022-03-08T07:16:31.492Z"
   },
   {
    "duration": 1105,
    "start_time": "2022-03-08T07:21:28.834Z"
   },
   {
    "duration": 46,
    "start_time": "2022-03-08T07:21:29.941Z"
   },
   {
    "duration": 27,
    "start_time": "2022-03-08T07:21:29.990Z"
   },
   {
    "duration": 21,
    "start_time": "2022-03-08T07:21:30.034Z"
   },
   {
    "duration": 4,
    "start_time": "2022-03-08T07:21:30.057Z"
   },
   {
    "duration": 253,
    "start_time": "2022-03-08T07:21:30.063Z"
   },
   {
    "duration": 24,
    "start_time": "2022-03-08T07:21:30.317Z"
   },
   {
    "duration": 13,
    "start_time": "2022-03-08T07:21:30.342Z"
   },
   {
    "duration": 18,
    "start_time": "2022-03-08T07:21:30.358Z"
   },
   {
    "duration": 21,
    "start_time": "2022-03-08T07:21:30.378Z"
   },
   {
    "duration": 41,
    "start_time": "2022-03-08T07:21:30.401Z"
   },
   {
    "duration": 2,
    "start_time": "2022-03-08T07:21:30.443Z"
   },
   {
    "duration": 36,
    "start_time": "2022-03-08T07:21:30.447Z"
   },
   {
    "duration": 313,
    "start_time": "2022-03-08T07:21:30.484Z"
   },
   {
    "duration": 44,
    "start_time": "2022-03-08T07:21:30.799Z"
   },
   {
    "duration": 250,
    "start_time": "2022-03-08T07:21:30.844Z"
   },
   {
    "duration": 53,
    "start_time": "2022-03-08T07:21:31.096Z"
   },
   {
    "duration": 14,
    "start_time": "2022-03-08T07:21:31.150Z"
   },
   {
    "duration": 29,
    "start_time": "2022-03-08T07:21:31.165Z"
   },
   {
    "duration": 540,
    "start_time": "2022-03-08T07:21:31.196Z"
   },
   {
    "duration": 14,
    "start_time": "2022-03-08T07:21:31.738Z"
   },
   {
    "duration": 271,
    "start_time": "2022-03-08T07:21:31.754Z"
   },
   {
    "duration": 30,
    "start_time": "2022-03-08T07:21:32.026Z"
   },
   {
    "duration": 22,
    "start_time": "2022-03-08T07:21:32.058Z"
   },
   {
    "duration": 12,
    "start_time": "2022-03-08T07:21:32.082Z"
   },
   {
    "duration": 278,
    "start_time": "2022-03-08T07:21:32.095Z"
   },
   {
    "duration": 1011,
    "start_time": "2022-03-08T07:21:32.376Z"
   },
   {
    "duration": 272,
    "start_time": "2022-03-08T07:21:33.389Z"
   },
   {
    "duration": -119620,
    "start_time": "2022-03-08T07:23:33.283Z"
   },
   {
    "duration": 171,
    "start_time": "2022-03-08T07:27:22.042Z"
   },
   {
    "duration": 229,
    "start_time": "2022-03-08T07:28:26.055Z"
   },
   {
    "duration": 13,
    "start_time": "2022-03-08T07:28:52.247Z"
   },
   {
    "duration": 11,
    "start_time": "2022-03-08T07:29:27.965Z"
   },
   {
    "duration": 57,
    "start_time": "2022-03-08T07:30:20.113Z"
   },
   {
    "duration": 12,
    "start_time": "2022-03-08T07:30:24.850Z"
   },
   {
    "duration": 12,
    "start_time": "2022-03-08T07:30:39.085Z"
   },
   {
    "duration": 10,
    "start_time": "2022-03-08T07:30:58.857Z"
   },
   {
    "duration": 18,
    "start_time": "2022-03-08T07:31:08.713Z"
   },
   {
    "duration": 4,
    "start_time": "2022-03-08T07:31:49.181Z"
   },
   {
    "duration": 17,
    "start_time": "2022-03-08T07:32:27.526Z"
   },
   {
    "duration": 63,
    "start_time": "2022-03-08T07:38:49.628Z"
   },
   {
    "duration": 16,
    "start_time": "2022-03-08T07:39:18.175Z"
   },
   {
    "duration": 20,
    "start_time": "2022-03-08T07:59:38.450Z"
   },
   {
    "duration": 18,
    "start_time": "2022-03-08T09:05:13.845Z"
   },
   {
    "duration": 18,
    "start_time": "2022-03-08T09:06:45.386Z"
   },
   {
    "duration": 18,
    "start_time": "2022-03-08T09:41:28.105Z"
   },
   {
    "duration": 15,
    "start_time": "2022-03-08T09:42:36.862Z"
   },
   {
    "duration": 171,
    "start_time": "2022-03-08T09:43:24.755Z"
   },
   {
    "duration": 16,
    "start_time": "2022-03-08T09:43:39.856Z"
   },
   {
    "duration": 15,
    "start_time": "2022-03-08T09:45:09.281Z"
   },
   {
    "duration": 6,
    "start_time": "2022-03-08T09:47:03.615Z"
   },
   {
    "duration": 63,
    "start_time": "2022-03-08T10:07:41.571Z"
   },
   {
    "duration": 4618,
    "start_time": "2022-03-08T10:08:25.997Z"
   },
   {
    "duration": 4381,
    "start_time": "2022-03-08T10:09:49.497Z"
   },
   {
    "duration": 1090,
    "start_time": "2022-03-08T10:10:14.190Z"
   },
   {
    "duration": 52,
    "start_time": "2022-03-08T10:10:15.281Z"
   },
   {
    "duration": 32,
    "start_time": "2022-03-08T10:10:15.336Z"
   },
   {
    "duration": 17,
    "start_time": "2022-03-08T10:10:15.370Z"
   },
   {
    "duration": 4,
    "start_time": "2022-03-08T10:10:15.389Z"
   },
   {
    "duration": 261,
    "start_time": "2022-03-08T10:10:15.394Z"
   },
   {
    "duration": 16,
    "start_time": "2022-03-08T10:10:15.656Z"
   },
   {
    "duration": 13,
    "start_time": "2022-03-08T10:10:15.673Z"
   },
   {
    "duration": 12,
    "start_time": "2022-03-08T10:10:15.688Z"
   },
   {
    "duration": 47,
    "start_time": "2022-03-08T10:10:15.702Z"
   },
   {
    "duration": 19,
    "start_time": "2022-03-08T10:10:15.750Z"
   },
   {
    "duration": 3,
    "start_time": "2022-03-08T10:10:15.770Z"
   },
   {
    "duration": 70,
    "start_time": "2022-03-08T10:10:15.774Z"
   },
   {
    "duration": 300,
    "start_time": "2022-03-08T10:10:15.846Z"
   },
   {
    "duration": 29,
    "start_time": "2022-03-08T10:10:16.148Z"
   },
   {
    "duration": 261,
    "start_time": "2022-03-08T10:10:16.179Z"
   },
   {
    "duration": 59,
    "start_time": "2022-03-08T10:10:16.443Z"
   },
   {
    "duration": 32,
    "start_time": "2022-03-08T10:10:16.504Z"
   },
   {
    "duration": 44,
    "start_time": "2022-03-08T10:10:16.538Z"
   },
   {
    "duration": 654,
    "start_time": "2022-03-08T10:10:16.584Z"
   },
   {
    "duration": 21,
    "start_time": "2022-03-08T10:10:17.241Z"
   },
   {
    "duration": 353,
    "start_time": "2022-03-08T10:10:17.264Z"
   },
   {
    "duration": 32,
    "start_time": "2022-03-08T10:10:17.619Z"
   },
   {
    "duration": 23,
    "start_time": "2022-03-08T10:10:17.653Z"
   },
   {
    "duration": 20,
    "start_time": "2022-03-08T10:10:17.678Z"
   },
   {
    "duration": 302,
    "start_time": "2022-03-08T10:10:17.700Z"
   },
   {
    "duration": 1306,
    "start_time": "2022-03-08T10:10:18.005Z"
   },
   {
    "duration": 3,
    "start_time": "2022-03-08T10:10:19.313Z"
   },
   {
    "duration": 28,
    "start_time": "2022-03-08T10:10:19.317Z"
   },
   {
    "duration": 20,
    "start_time": "2022-03-08T10:10:19.346Z"
   },
   {
    "duration": 14,
    "start_time": "2022-03-08T10:10:19.368Z"
   },
   {
    "duration": 6,
    "start_time": "2022-03-08T10:10:19.383Z"
   },
   {
    "duration": 4429,
    "start_time": "2022-03-08T10:10:19.390Z"
   },
   {
    "duration": 204,
    "start_time": "2022-03-08T10:11:57.167Z"
   },
   {
    "duration": 6,
    "start_time": "2022-03-08T10:12:52.658Z"
   },
   {
    "duration": 58,
    "start_time": "2022-03-08T10:13:28.553Z"
   },
   {
    "duration": 14,
    "start_time": "2022-03-08T10:13:33.487Z"
   },
   {
    "duration": 16,
    "start_time": "2022-03-08T10:14:27.010Z"
   },
   {
    "duration": 4,
    "start_time": "2022-03-08T10:15:09.995Z"
   },
   {
    "duration": 5,
    "start_time": "2022-03-08T10:15:28.085Z"
   },
   {
    "duration": 323,
    "start_time": "2022-03-08T10:16:17.077Z"
   },
   {
    "duration": 481,
    "start_time": "2022-03-08T10:17:48.980Z"
   },
   {
    "duration": 362,
    "start_time": "2022-03-08T10:18:08.376Z"
   },
   {
    "duration": 390,
    "start_time": "2022-03-08T10:21:44.046Z"
   },
   {
    "duration": 424,
    "start_time": "2022-03-08T10:21:56.017Z"
   },
   {
    "duration": 21,
    "start_time": "2022-03-08T10:24:35.022Z"
   },
   {
    "duration": 20,
    "start_time": "2022-03-08T10:24:50.609Z"
   },
   {
    "duration": 19,
    "start_time": "2022-03-08T10:25:24.812Z"
   },
   {
    "duration": 18,
    "start_time": "2022-03-08T10:25:55.868Z"
   },
   {
    "duration": 15,
    "start_time": "2022-03-08T10:26:35.186Z"
   },
   {
    "duration": 1496,
    "start_time": "2022-03-08T12:48:28.409Z"
   },
   {
    "duration": 77,
    "start_time": "2022-03-08T12:48:29.907Z"
   },
   {
    "duration": 53,
    "start_time": "2022-03-08T12:48:29.987Z"
   },
   {
    "duration": 25,
    "start_time": "2022-03-08T12:48:30.043Z"
   },
   {
    "duration": 6,
    "start_time": "2022-03-08T12:48:30.070Z"
   },
   {
    "duration": 390,
    "start_time": "2022-03-08T12:48:30.078Z"
   },
   {
    "duration": 24,
    "start_time": "2022-03-08T12:48:30.471Z"
   },
   {
    "duration": 40,
    "start_time": "2022-03-08T12:48:30.497Z"
   },
   {
    "duration": 21,
    "start_time": "2022-03-08T12:48:30.541Z"
   },
   {
    "duration": 29,
    "start_time": "2022-03-08T12:48:30.566Z"
   },
   {
    "duration": 59,
    "start_time": "2022-03-08T12:48:30.597Z"
   },
   {
    "duration": 4,
    "start_time": "2022-03-08T12:48:30.658Z"
   },
   {
    "duration": 70,
    "start_time": "2022-03-08T12:48:30.665Z"
   },
   {
    "duration": 515,
    "start_time": "2022-03-08T12:48:30.738Z"
   },
   {
    "duration": 47,
    "start_time": "2022-03-08T12:48:31.256Z"
   },
   {
    "duration": 444,
    "start_time": "2022-03-08T12:48:31.305Z"
   },
   {
    "duration": 59,
    "start_time": "2022-03-08T12:48:31.751Z"
   },
   {
    "duration": 38,
    "start_time": "2022-03-08T12:48:31.812Z"
   },
   {
    "duration": 50,
    "start_time": "2022-03-08T12:48:31.853Z"
   },
   {
    "duration": 760,
    "start_time": "2022-03-08T12:48:31.932Z"
   },
   {
    "duration": 23,
    "start_time": "2022-03-08T12:48:32.695Z"
   },
   {
    "duration": 467,
    "start_time": "2022-03-08T12:48:32.733Z"
   },
   {
    "duration": 48,
    "start_time": "2022-03-08T12:48:33.203Z"
   },
   {
    "duration": 29,
    "start_time": "2022-03-08T12:48:33.254Z"
   },
   {
    "duration": 18,
    "start_time": "2022-03-08T12:48:33.286Z"
   },
   {
    "duration": 473,
    "start_time": "2022-03-08T12:48:33.306Z"
   },
   {
    "duration": 1033,
    "start_time": "2022-03-08T12:48:33.784Z"
   },
   {
    "duration": 3,
    "start_time": "2022-03-08T12:48:34.820Z"
   },
   {
    "duration": 26,
    "start_time": "2022-03-08T12:48:34.825Z"
   },
   {
    "duration": 27,
    "start_time": "2022-03-08T12:48:34.853Z"
   },
   {
    "duration": 20,
    "start_time": "2022-03-08T12:48:34.882Z"
   },
   {
    "duration": 33,
    "start_time": "2022-03-08T12:48:34.905Z"
   },
   {
    "duration": 22,
    "start_time": "2022-03-08T12:48:34.941Z"
   },
   {
    "duration": 872,
    "start_time": "2022-03-08T12:48:34.966Z"
   },
   {
    "duration": 5,
    "start_time": "2022-03-08T14:32:07.714Z"
   },
   {
    "duration": 471,
    "start_time": "2022-03-08T16:52:10.023Z"
   },
   {
    "duration": 11,
    "start_time": "2022-03-08T16:58:22.794Z"
   },
   {
    "duration": 1566,
    "start_time": "2022-03-08T17:39:01.131Z"
   },
   {
    "duration": 79,
    "start_time": "2022-03-08T17:39:02.700Z"
   },
   {
    "duration": 40,
    "start_time": "2022-03-08T17:39:02.782Z"
   },
   {
    "duration": 24,
    "start_time": "2022-03-08T17:39:02.833Z"
   },
   {
    "duration": 5,
    "start_time": "2022-03-08T17:39:02.860Z"
   },
   {
    "duration": 389,
    "start_time": "2022-03-08T17:39:02.868Z"
   },
   {
    "duration": 22,
    "start_time": "2022-03-08T17:39:03.259Z"
   },
   {
    "duration": 19,
    "start_time": "2022-03-08T17:39:03.284Z"
   },
   {
    "duration": 17,
    "start_time": "2022-03-08T17:39:03.334Z"
   },
   {
    "duration": 27,
    "start_time": "2022-03-08T17:39:03.354Z"
   },
   {
    "duration": 64,
    "start_time": "2022-03-08T17:39:03.384Z"
   },
   {
    "duration": 4,
    "start_time": "2022-03-08T17:39:03.451Z"
   },
   {
    "duration": 76,
    "start_time": "2022-03-08T17:39:03.458Z"
   },
   {
    "duration": 519,
    "start_time": "2022-03-08T17:39:03.536Z"
   },
   {
    "duration": 48,
    "start_time": "2022-03-08T17:39:04.057Z"
   },
   {
    "duration": 428,
    "start_time": "2022-03-08T17:39:04.108Z"
   },
   {
    "duration": 56,
    "start_time": "2022-03-08T17:39:04.538Z"
   },
   {
    "duration": 41,
    "start_time": "2022-03-08T17:39:04.597Z"
   },
   {
    "duration": 46,
    "start_time": "2022-03-08T17:39:04.640Z"
   },
   {
    "duration": 787,
    "start_time": "2022-03-08T17:39:04.688Z"
   },
   {
    "duration": 22,
    "start_time": "2022-03-08T17:39:05.477Z"
   },
   {
    "duration": 477,
    "start_time": "2022-03-08T17:39:05.501Z"
   },
   {
    "duration": 54,
    "start_time": "2022-03-08T17:39:05.980Z"
   },
   {
    "duration": 32,
    "start_time": "2022-03-08T17:39:06.036Z"
   },
   {
    "duration": 19,
    "start_time": "2022-03-08T17:39:06.070Z"
   },
   {
    "duration": 474,
    "start_time": "2022-03-08T17:39:06.091Z"
   },
   {
    "duration": 1476,
    "start_time": "2022-03-08T17:39:06.570Z"
   },
   {
    "duration": 5,
    "start_time": "2022-03-08T17:39:08.049Z"
   },
   {
    "duration": 39,
    "start_time": "2022-03-08T17:39:08.057Z"
   },
   {
    "duration": 55,
    "start_time": "2022-03-08T17:39:08.098Z"
   },
   {
    "duration": 20,
    "start_time": "2022-03-08T17:39:08.155Z"
   },
   {
    "duration": 10,
    "start_time": "2022-03-08T17:39:08.177Z"
   },
   {
    "duration": 45,
    "start_time": "2022-03-08T17:39:08.189Z"
   },
   {
    "duration": 24,
    "start_time": "2022-03-08T17:39:08.236Z"
   },
   {
    "duration": 773,
    "start_time": "2022-03-08T17:39:08.262Z"
   },
   {
    "duration": 35,
    "start_time": "2022-03-08T17:39:45.945Z"
   },
   {
    "duration": 18,
    "start_time": "2022-03-08T17:41:33.409Z"
   },
   {
    "duration": 1416,
    "start_time": "2022-03-08T17:43:18.089Z"
   },
   {
    "duration": 75,
    "start_time": "2022-03-08T17:43:19.508Z"
   },
   {
    "duration": 47,
    "start_time": "2022-03-08T17:43:19.586Z"
   },
   {
    "duration": 24,
    "start_time": "2022-03-08T17:43:19.636Z"
   },
   {
    "duration": 6,
    "start_time": "2022-03-08T17:43:19.662Z"
   },
   {
    "duration": 399,
    "start_time": "2022-03-08T17:43:19.670Z"
   },
   {
    "duration": 22,
    "start_time": "2022-03-08T17:43:20.072Z"
   },
   {
    "duration": 39,
    "start_time": "2022-03-08T17:43:20.098Z"
   },
   {
    "duration": 17,
    "start_time": "2022-03-08T17:43:20.140Z"
   },
   {
    "duration": 34,
    "start_time": "2022-03-08T17:43:20.160Z"
   },
   {
    "duration": 55,
    "start_time": "2022-03-08T17:43:20.196Z"
   },
   {
    "duration": 3,
    "start_time": "2022-03-08T17:43:20.254Z"
   },
   {
    "duration": 81,
    "start_time": "2022-03-08T17:43:20.259Z"
   },
   {
    "duration": 369,
    "start_time": "2022-03-08T17:43:20.343Z"
   },
   {
    "duration": 52,
    "start_time": "2022-03-08T17:43:20.714Z"
   },
   {
    "duration": 403,
    "start_time": "2022-03-08T17:43:20.769Z"
   },
   {
    "duration": 72,
    "start_time": "2022-03-08T17:43:21.175Z"
   },
   {
    "duration": 21,
    "start_time": "2022-03-08T17:43:21.249Z"
   },
   {
    "duration": 60,
    "start_time": "2022-03-08T17:43:21.272Z"
   },
   {
    "duration": 731,
    "start_time": "2022-03-08T17:43:21.335Z"
   },
   {
    "duration": 20,
    "start_time": "2022-03-08T17:43:22.068Z"
   },
   {
    "duration": 474,
    "start_time": "2022-03-08T17:43:22.091Z"
   },
   {
    "duration": 40,
    "start_time": "2022-03-08T17:43:22.569Z"
   },
   {
    "duration": 48,
    "start_time": "2022-03-08T17:43:22.611Z"
   },
   {
    "duration": 19,
    "start_time": "2022-03-08T17:43:22.661Z"
   },
   {
    "duration": 476,
    "start_time": "2022-03-08T17:43:22.682Z"
   },
   {
    "duration": 1235,
    "start_time": "2022-03-08T17:43:23.160Z"
   },
   {
    "duration": 4,
    "start_time": "2022-03-08T17:43:24.398Z"
   },
   {
    "duration": 27,
    "start_time": "2022-03-08T17:43:24.404Z"
   },
   {
    "duration": 27,
    "start_time": "2022-03-08T17:43:24.434Z"
   },
   {
    "duration": 20,
    "start_time": "2022-03-08T17:43:24.463Z"
   },
   {
    "duration": 11,
    "start_time": "2022-03-08T17:43:24.485Z"
   },
   {
    "duration": 6,
    "start_time": "2022-03-08T17:43:24.533Z"
   },
   {
    "duration": 22,
    "start_time": "2022-03-08T17:43:24.542Z"
   },
   {
    "duration": 781,
    "start_time": "2022-03-08T17:43:24.566Z"
   },
   {
    "duration": 1429,
    "start_time": "2022-03-08T17:46:57.873Z"
   },
   {
    "duration": 65,
    "start_time": "2022-03-08T17:46:59.305Z"
   },
   {
    "duration": 34,
    "start_time": "2022-03-08T17:46:59.373Z"
   },
   {
    "duration": 40,
    "start_time": "2022-03-08T17:46:59.410Z"
   },
   {
    "duration": 6,
    "start_time": "2022-03-08T17:46:59.452Z"
   },
   {
    "duration": 375,
    "start_time": "2022-03-08T17:46:59.460Z"
   },
   {
    "duration": 21,
    "start_time": "2022-03-08T17:46:59.837Z"
   },
   {
    "duration": 18,
    "start_time": "2022-03-08T17:46:59.861Z"
   },
   {
    "duration": 16,
    "start_time": "2022-03-08T17:46:59.882Z"
   },
   {
    "duration": 27,
    "start_time": "2022-03-08T17:46:59.933Z"
   },
   {
    "duration": 26,
    "start_time": "2022-03-08T17:46:59.962Z"
   },
   {
    "duration": 77,
    "start_time": "2022-03-08T17:46:59.990Z"
   },
   {
    "duration": 401,
    "start_time": "2022-03-08T17:47:00.069Z"
   },
   {
    "duration": 46,
    "start_time": "2022-03-08T17:47:00.472Z"
   },
   {
    "duration": 417,
    "start_time": "2022-03-08T17:47:00.533Z"
   },
   {
    "duration": 58,
    "start_time": "2022-03-08T17:47:00.952Z"
   },
   {
    "duration": 36,
    "start_time": "2022-03-08T17:47:01.013Z"
   },
   {
    "duration": 60,
    "start_time": "2022-03-08T17:47:01.051Z"
   },
   {
    "duration": 779,
    "start_time": "2022-03-08T17:47:01.113Z"
   },
   {
    "duration": 38,
    "start_time": "2022-03-08T17:47:01.894Z"
   },
   {
    "duration": 480,
    "start_time": "2022-03-08T17:47:01.935Z"
   },
   {
    "duration": 52,
    "start_time": "2022-03-08T17:47:02.418Z"
   },
   {
    "duration": 32,
    "start_time": "2022-03-08T17:47:02.474Z"
   },
   {
    "duration": 19,
    "start_time": "2022-03-08T17:47:02.532Z"
   },
   {
    "duration": 458,
    "start_time": "2022-03-08T17:47:02.553Z"
   },
   {
    "duration": 1182,
    "start_time": "2022-03-08T17:47:03.013Z"
   },
   {
    "duration": 4,
    "start_time": "2022-03-08T17:47:04.198Z"
   },
   {
    "duration": 27,
    "start_time": "2022-03-08T17:47:04.204Z"
   },
   {
    "duration": 28,
    "start_time": "2022-03-08T17:47:04.234Z"
   },
   {
    "duration": 19,
    "start_time": "2022-03-08T17:47:04.264Z"
   },
   {
    "duration": 8,
    "start_time": "2022-03-08T17:47:04.286Z"
   },
   {
    "duration": 40,
    "start_time": "2022-03-08T17:47:04.296Z"
   },
   {
    "duration": 23,
    "start_time": "2022-03-08T17:47:04.339Z"
   },
   {
    "duration": 779,
    "start_time": "2022-03-08T17:47:04.365Z"
   },
   {
    "duration": 1197,
    "start_time": "2022-03-09T16:41:16.536Z"
   },
   {
    "duration": 53,
    "start_time": "2022-03-09T16:41:17.736Z"
   },
   {
    "duration": 29,
    "start_time": "2022-03-09T16:41:17.800Z"
   },
   {
    "duration": 24,
    "start_time": "2022-03-09T16:41:17.831Z"
   },
   {
    "duration": 4,
    "start_time": "2022-03-09T16:41:17.857Z"
   },
   {
    "duration": 284,
    "start_time": "2022-03-09T16:41:17.863Z"
   },
   {
    "duration": 17,
    "start_time": "2022-03-09T16:41:18.149Z"
   },
   {
    "duration": 14,
    "start_time": "2022-03-09T16:41:18.168Z"
   },
   {
    "duration": 23,
    "start_time": "2022-03-09T16:41:18.202Z"
   },
   {
    "duration": 22,
    "start_time": "2022-03-09T16:41:18.227Z"
   },
   {
    "duration": 23,
    "start_time": "2022-03-09T16:41:18.250Z"
   },
   {
    "duration": 50,
    "start_time": "2022-03-09T16:41:18.274Z"
   },
   {
    "duration": 36,
    "start_time": "2022-03-09T16:41:18.326Z"
   },
   {
    "duration": 283,
    "start_time": "2022-03-09T16:41:18.364Z"
   },
   {
    "duration": 37,
    "start_time": "2022-03-09T16:41:18.649Z"
   },
   {
    "duration": 265,
    "start_time": "2022-03-09T16:41:18.701Z"
   },
   {
    "duration": 65,
    "start_time": "2022-03-09T16:41:18.969Z"
   },
   {
    "duration": 15,
    "start_time": "2022-03-09T16:41:19.036Z"
   },
   {
    "duration": 41,
    "start_time": "2022-03-09T16:41:19.053Z"
   },
   {
    "duration": 554,
    "start_time": "2022-03-09T16:41:19.100Z"
   },
   {
    "duration": 16,
    "start_time": "2022-03-09T16:41:19.656Z"
   },
   {
    "duration": 313,
    "start_time": "2022-03-09T16:41:19.674Z"
   },
   {
    "duration": 36,
    "start_time": "2022-03-09T16:41:19.989Z"
   },
   {
    "duration": 27,
    "start_time": "2022-03-09T16:41:20.027Z"
   },
   {
    "duration": 17,
    "start_time": "2022-03-09T16:41:20.057Z"
   },
   {
    "duration": 302,
    "start_time": "2022-03-09T16:41:20.101Z"
   },
   {
    "duration": 1246,
    "start_time": "2022-03-09T16:41:20.407Z"
   },
   {
    "duration": 3,
    "start_time": "2022-03-09T16:41:21.655Z"
   },
   {
    "duration": 22,
    "start_time": "2022-03-09T16:41:21.659Z"
   },
   {
    "duration": 23,
    "start_time": "2022-03-09T16:41:21.682Z"
   },
   {
    "duration": 20,
    "start_time": "2022-03-09T16:41:21.708Z"
   },
   {
    "duration": 11,
    "start_time": "2022-03-09T16:41:21.730Z"
   },
   {
    "duration": 9,
    "start_time": "2022-03-09T16:41:21.743Z"
   },
   {
    "duration": 24,
    "start_time": "2022-03-09T16:41:21.753Z"
   },
   {
    "duration": 548,
    "start_time": "2022-03-09T16:41:21.801Z"
   },
   {
    "duration": 88,
    "start_time": "2022-03-09T16:51:08.084Z"
   },
   {
    "duration": 368,
    "start_time": "2022-03-09T16:51:28.506Z"
   },
   {
    "duration": 241,
    "start_time": "2022-03-09T16:52:29.477Z"
   },
   {
    "duration": 331,
    "start_time": "2022-03-09T16:52:41.030Z"
   },
   {
    "duration": 1306,
    "start_time": "2022-03-09T16:52:59.995Z"
   },
   {
    "duration": 59,
    "start_time": "2022-03-09T16:53:01.304Z"
   },
   {
    "duration": 38,
    "start_time": "2022-03-09T16:53:01.366Z"
   },
   {
    "duration": 21,
    "start_time": "2022-03-09T16:53:01.407Z"
   },
   {
    "duration": 23,
    "start_time": "2022-03-09T16:53:01.431Z"
   },
   {
    "duration": 284,
    "start_time": "2022-03-09T16:53:01.456Z"
   },
   {
    "duration": 18,
    "start_time": "2022-03-09T16:53:01.742Z"
   },
   {
    "duration": 92,
    "start_time": "2022-03-09T16:53:01.764Z"
   },
   {
    "duration": 144,
    "start_time": "2022-03-09T16:53:01.859Z"
   },
   {
    "duration": 39,
    "start_time": "2022-03-09T16:53:02.006Z"
   },
   {
    "duration": 94,
    "start_time": "2022-03-09T16:53:02.047Z"
   },
   {
    "duration": 36,
    "start_time": "2022-03-09T16:53:02.143Z"
   },
   {
    "duration": 44,
    "start_time": "2022-03-09T16:53:02.181Z"
   },
   {
    "duration": 295,
    "start_time": "2022-03-09T16:53:02.227Z"
   },
   {
    "duration": 183,
    "start_time": "2022-03-09T16:53:02.524Z"
   },
   {
    "duration": -119280,
    "start_time": "2022-03-09T16:55:01.990Z"
   },
   {
    "duration": -119284,
    "start_time": "2022-03-09T16:55:01.995Z"
   },
   {
    "duration": -119287,
    "start_time": "2022-03-09T16:55:01.999Z"
   },
   {
    "duration": -119288,
    "start_time": "2022-03-09T16:55:02.002Z"
   },
   {
    "duration": -119290,
    "start_time": "2022-03-09T16:55:02.005Z"
   },
   {
    "duration": -119291,
    "start_time": "2022-03-09T16:55:02.007Z"
   },
   {
    "duration": -119293,
    "start_time": "2022-03-09T16:55:02.010Z"
   },
   {
    "duration": -119293,
    "start_time": "2022-03-09T16:55:02.012Z"
   },
   {
    "duration": -119294,
    "start_time": "2022-03-09T16:55:02.014Z"
   },
   {
    "duration": -119305,
    "start_time": "2022-03-09T16:55:02.026Z"
   },
   {
    "duration": -119308,
    "start_time": "2022-03-09T16:55:02.031Z"
   },
   {
    "duration": -119309,
    "start_time": "2022-03-09T16:55:02.034Z"
   },
   {
    "duration": -119310,
    "start_time": "2022-03-09T16:55:02.036Z"
   },
   {
    "duration": -119311,
    "start_time": "2022-03-09T16:55:02.038Z"
   },
   {
    "duration": -119312,
    "start_time": "2022-03-09T16:55:02.040Z"
   },
   {
    "duration": -119313,
    "start_time": "2022-03-09T16:55:02.042Z"
   },
   {
    "duration": -119315,
    "start_time": "2022-03-09T16:55:02.045Z"
   },
   {
    "duration": -119316,
    "start_time": "2022-03-09T16:55:02.047Z"
   },
   {
    "duration": -119317,
    "start_time": "2022-03-09T16:55:02.049Z"
   },
   {
    "duration": -119317,
    "start_time": "2022-03-09T16:55:02.051Z"
   },
   {
    "duration": -119324,
    "start_time": "2022-03-09T16:55:02.059Z"
   },
   {
    "duration": 36,
    "start_time": "2022-03-09T16:53:22.240Z"
   },
   {
    "duration": 264,
    "start_time": "2022-03-09T16:53:22.279Z"
   },
   {
    "duration": 58,
    "start_time": "2022-03-09T16:53:22.546Z"
   },
   {
    "duration": 21,
    "start_time": "2022-03-09T16:53:22.607Z"
   },
   {
    "duration": 31,
    "start_time": "2022-03-09T16:53:22.630Z"
   },
   {
    "duration": 642,
    "start_time": "2022-03-09T16:53:22.663Z"
   },
   {
    "duration": 20,
    "start_time": "2022-03-09T16:53:23.308Z"
   },
   {
    "duration": 347,
    "start_time": "2022-03-09T16:53:23.330Z"
   },
   {
    "duration": 38,
    "start_time": "2022-03-09T16:53:23.680Z"
   },
   {
    "duration": 25,
    "start_time": "2022-03-09T16:53:23.720Z"
   },
   {
    "duration": 14,
    "start_time": "2022-03-09T16:53:23.747Z"
   },
   {
    "duration": 324,
    "start_time": "2022-03-09T16:53:23.763Z"
   },
   {
    "duration": 1505,
    "start_time": "2022-03-09T16:53:24.088Z"
   },
   {
    "duration": 3,
    "start_time": "2022-03-09T16:53:25.596Z"
   },
   {
    "duration": 27,
    "start_time": "2022-03-09T16:53:25.601Z"
   },
   {
    "duration": 22,
    "start_time": "2022-03-09T16:53:25.630Z"
   },
   {
    "duration": 16,
    "start_time": "2022-03-09T16:53:25.655Z"
   },
   {
    "duration": 33,
    "start_time": "2022-03-09T16:53:25.673Z"
   },
   {
    "duration": 13,
    "start_time": "2022-03-09T16:53:25.708Z"
   },
   {
    "duration": 21,
    "start_time": "2022-03-09T16:53:25.723Z"
   },
   {
    "duration": 514,
    "start_time": "2022-03-09T16:53:25.746Z"
   },
   {
    "duration": 16,
    "start_time": "2022-03-09T17:00:14.589Z"
   },
   {
    "duration": 306,
    "start_time": "2022-03-09T17:01:22.103Z"
   },
   {
    "duration": 19,
    "start_time": "2022-03-09T17:02:20.445Z"
   },
   {
    "duration": 16,
    "start_time": "2022-03-09T17:02:36.147Z"
   },
   {
    "duration": 738,
    "start_time": "2022-03-09T17:21:48.192Z"
   },
   {
    "duration": 528,
    "start_time": "2022-03-09T17:21:57.678Z"
   },
   {
    "duration": 1206,
    "start_time": "2022-03-09T17:44:57.866Z"
   },
   {
    "duration": 50,
    "start_time": "2022-03-09T17:44:59.075Z"
   },
   {
    "duration": 30,
    "start_time": "2022-03-09T17:44:59.127Z"
   },
   {
    "duration": 33,
    "start_time": "2022-03-09T17:44:59.159Z"
   },
   {
    "duration": 5,
    "start_time": "2022-03-09T17:44:59.201Z"
   },
   {
    "duration": 303,
    "start_time": "2022-03-09T17:44:59.208Z"
   },
   {
    "duration": 18,
    "start_time": "2022-03-09T17:44:59.513Z"
   },
   {
    "duration": 31,
    "start_time": "2022-03-09T17:44:59.533Z"
   },
   {
    "duration": 21,
    "start_time": "2022-03-09T17:44:59.566Z"
   },
   {
    "duration": 38,
    "start_time": "2022-03-09T17:44:59.589Z"
   },
   {
    "duration": 24,
    "start_time": "2022-03-09T17:44:59.629Z"
   },
   {
    "duration": 24,
    "start_time": "2022-03-09T17:44:59.655Z"
   },
   {
    "duration": 50,
    "start_time": "2022-03-09T17:44:59.681Z"
   },
   {
    "duration": 264,
    "start_time": "2022-03-09T17:44:59.733Z"
   },
   {
    "duration": 38,
    "start_time": "2022-03-09T17:45:00.002Z"
   },
   {
    "duration": 294,
    "start_time": "2022-03-09T17:45:00.042Z"
   },
   {
    "duration": 63,
    "start_time": "2022-03-09T17:45:00.338Z"
   },
   {
    "duration": 18,
    "start_time": "2022-03-09T17:45:00.403Z"
   },
   {
    "duration": 49,
    "start_time": "2022-03-09T17:45:00.424Z"
   },
   {
    "duration": 596,
    "start_time": "2022-03-09T17:45:00.476Z"
   },
   {
    "duration": 28,
    "start_time": "2022-03-09T17:45:01.075Z"
   },
   {
    "duration": 339,
    "start_time": "2022-03-09T17:45:01.105Z"
   },
   {
    "duration": 32,
    "start_time": "2022-03-09T17:45:01.448Z"
   },
   {
    "duration": 57,
    "start_time": "2022-03-09T17:45:01.482Z"
   },
   {
    "duration": 27,
    "start_time": "2022-03-09T17:45:01.541Z"
   },
   {
    "duration": 334,
    "start_time": "2022-03-09T17:45:01.570Z"
   },
   {
    "duration": 1267,
    "start_time": "2022-03-09T17:45:01.906Z"
   },
   {
    "duration": 3,
    "start_time": "2022-03-09T17:45:03.176Z"
   },
   {
    "duration": 32,
    "start_time": "2022-03-09T17:45:03.181Z"
   },
   {
    "duration": 29,
    "start_time": "2022-03-09T17:45:03.216Z"
   },
   {
    "duration": 23,
    "start_time": "2022-03-09T17:45:03.247Z"
   },
   {
    "duration": 41,
    "start_time": "2022-03-09T17:45:03.272Z"
   },
   {
    "duration": 30,
    "start_time": "2022-03-09T17:45:03.315Z"
   },
   {
    "duration": 53,
    "start_time": "2022-03-09T17:45:03.347Z"
   },
   {
    "duration": 594,
    "start_time": "2022-03-09T17:45:03.403Z"
   },
   {
    "duration": 735,
    "start_time": "2022-03-09T17:45:04.002Z"
   }
  ],
  "kernelspec": {
   "display_name": "Python 3",
   "language": "python",
   "name": "python3"
  },
  "language_info": {
   "codemirror_mode": {
    "name": "ipython",
    "version": 3
   },
   "file_extension": ".py",
   "mimetype": "text/x-python",
   "name": "python",
   "nbconvert_exporter": "python",
   "pygments_lexer": "ipython3",
   "version": "3.8.8"
  },
  "toc": {
   "base_numbering": 1,
   "nav_menu": {},
   "number_sections": true,
   "sideBar": true,
   "skip_h1_title": true,
   "title_cell": "Table of Contents",
   "title_sidebar": "Contents",
   "toc_cell": false,
   "toc_position": {
    "height": "calc(100% - 180px)",
    "left": "10px",
    "top": "150px",
    "width": "202.6px"
   },
   "toc_section_display": true,
   "toc_window_display": true
  }
 },
 "nbformat": 4,
 "nbformat_minor": 2
}
