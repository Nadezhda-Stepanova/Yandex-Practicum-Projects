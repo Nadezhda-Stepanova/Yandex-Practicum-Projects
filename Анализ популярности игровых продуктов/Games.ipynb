{
 "cells": [
  {
   "cell_type": "markdown",
   "metadata": {},
   "source": [
    "# Описание проекта. Постановка задачи.\n",
    "\n",
    "Вы работаете в интернет-магазине «Стримчик», который продаёт по всему миру компьютерные игры. Из открытых источников доступны исторические данные о продажах игр, оценки пользователей и экспертов, жанры и платформы (например, Xbox или PlayStation). \n",
    "\n",
    "**Задача.** Нужно выявить определяющие успешность игры закономерности. Это позволит сделать ставку на потенциально популярный продукт и спланировать рекламные кампании.\n",
    "\n",
    "Перед вами данные до 2016 года. Представим, что сейчас декабрь 2016 г., и вы планируете кампанию на 2017-й. Нужно отработать принцип работы с данными. Неважно, прогнозируете ли вы продажи на 2017 год по данным 2016-го или же 2027-й — по данным 2026 года.\n",
    "В наборе данных попадается аббревиатура ESRB (Entertainment Software Rating Board) — это ассоциация, определяющая возрастной рейтинг компьютерных игр. ESRB оценивает игровой контент и присваивает ему подходящую возрастную категорию, например, «Для взрослых», «Для детей младшего возраста» или «Для подростков».\n"
   ]
  },
  {
   "cell_type": "markdown",
   "metadata": {},
   "source": [
    "## Общая информация\n",
    "\n",
    "Описание данных\n",
    "- Name — название игры\n",
    "- Platform — платформа\n",
    "- Year_of_Release — год выпуска\n",
    "- Genre — жанр игры\n",
    "- NA_sales — продажи в Северной Америке (миллионы проданных копий)\n",
    "- EU_sales — продажи в Европе (миллионы проданных копий)\n",
    "- JP_sales — продажи в Японии (миллионы проданных копий)\n",
    "- Other_sales — продажи в других странах (миллионы проданных копий)\n",
    "- Critic_Score — оценка критиков (максимум 100)\n",
    "- User_Score — оценка пользователей (максимум 10)\n",
    "- Rating — рейтинг от организации ESRB (англ. Entertainment Software Rating Board). Эта ассоциация определяет рейтинг компьютерных игр и присваивает им подходящую возрастную категорию.\n",
    "\n",
    "Путь к файлу: /datasets/games.csv.\n"
   ]
  },
  {
   "cell_type": "code",
   "execution_count": 1,
   "metadata": {},
   "outputs": [],
   "source": [
    "import pandas as pd   # Импортируем необходимые библиотеки\n",
    "import numpy as np     \n",
    "import matplotlib.pyplot as plt\n",
    "from scipy import stats as st\n",
    "\n",
    "import warnings       # отключили предупреждения          \n",
    "warnings.filterwarnings('ignore')                   \n",
    "\n",
    "actual_year = 2017    # Зададим текущий актуальный год, на который проводим анализ"
   ]
  },
  {
   "cell_type": "code",
   "execution_count": 2,
   "metadata": {},
   "outputs": [
    {
     "name": "stdout",
     "output_type": "stream",
     "text": [
      "<class 'pandas.core.frame.DataFrame'>\n",
      "RangeIndex: 16715 entries, 0 to 16714\n",
      "Data columns (total 11 columns):\n",
      " #   Column           Non-Null Count  Dtype  \n",
      "---  ------           --------------  -----  \n",
      " 0   Name             16713 non-null  object \n",
      " 1   Platform         16715 non-null  object \n",
      " 2   Year_of_Release  16446 non-null  float64\n",
      " 3   Genre            16713 non-null  object \n",
      " 4   NA_sales         16715 non-null  float64\n",
      " 5   EU_sales         16715 non-null  float64\n",
      " 6   JP_sales         16715 non-null  float64\n",
      " 7   Other_sales      16715 non-null  float64\n",
      " 8   Critic_Score     8137 non-null   float64\n",
      " 9   User_Score       10014 non-null  object \n",
      " 10  Rating           9949 non-null   object \n",
      "dtypes: float64(6), object(5)\n",
      "memory usage: 1.4+ MB\n"
     ]
    },
    {
     "data": {
      "text/html": [
       "<div>\n",
       "<style scoped>\n",
       "    .dataframe tbody tr th:only-of-type {\n",
       "        vertical-align: middle;\n",
       "    }\n",
       "\n",
       "    .dataframe tbody tr th {\n",
       "        vertical-align: top;\n",
       "    }\n",
       "\n",
       "    .dataframe thead th {\n",
       "        text-align: right;\n",
       "    }\n",
       "</style>\n",
       "<table border=\"1\" class=\"dataframe\">\n",
       "  <thead>\n",
       "    <tr style=\"text-align: right;\">\n",
       "      <th></th>\n",
       "      <th>Name</th>\n",
       "      <th>Platform</th>\n",
       "      <th>Year_of_Release</th>\n",
       "      <th>Genre</th>\n",
       "      <th>NA_sales</th>\n",
       "      <th>EU_sales</th>\n",
       "      <th>JP_sales</th>\n",
       "      <th>Other_sales</th>\n",
       "      <th>Critic_Score</th>\n",
       "      <th>User_Score</th>\n",
       "      <th>Rating</th>\n",
       "    </tr>\n",
       "  </thead>\n",
       "  <tbody>\n",
       "    <tr>\n",
       "      <th>0</th>\n",
       "      <td>Wii Sports</td>\n",
       "      <td>Wii</td>\n",
       "      <td>2006.0</td>\n",
       "      <td>Sports</td>\n",
       "      <td>41.36</td>\n",
       "      <td>28.96</td>\n",
       "      <td>3.77</td>\n",
       "      <td>8.45</td>\n",
       "      <td>76.0</td>\n",
       "      <td>8</td>\n",
       "      <td>E</td>\n",
       "    </tr>\n",
       "    <tr>\n",
       "      <th>1</th>\n",
       "      <td>Super Mario Bros.</td>\n",
       "      <td>NES</td>\n",
       "      <td>1985.0</td>\n",
       "      <td>Platform</td>\n",
       "      <td>29.08</td>\n",
       "      <td>3.58</td>\n",
       "      <td>6.81</td>\n",
       "      <td>0.77</td>\n",
       "      <td>NaN</td>\n",
       "      <td>NaN</td>\n",
       "      <td>NaN</td>\n",
       "    </tr>\n",
       "    <tr>\n",
       "      <th>2</th>\n",
       "      <td>Mario Kart Wii</td>\n",
       "      <td>Wii</td>\n",
       "      <td>2008.0</td>\n",
       "      <td>Racing</td>\n",
       "      <td>15.68</td>\n",
       "      <td>12.76</td>\n",
       "      <td>3.79</td>\n",
       "      <td>3.29</td>\n",
       "      <td>82.0</td>\n",
       "      <td>8.3</td>\n",
       "      <td>E</td>\n",
       "    </tr>\n",
       "    <tr>\n",
       "      <th>3</th>\n",
       "      <td>Wii Sports Resort</td>\n",
       "      <td>Wii</td>\n",
       "      <td>2009.0</td>\n",
       "      <td>Sports</td>\n",
       "      <td>15.61</td>\n",
       "      <td>10.93</td>\n",
       "      <td>3.28</td>\n",
       "      <td>2.95</td>\n",
       "      <td>80.0</td>\n",
       "      <td>8</td>\n",
       "      <td>E</td>\n",
       "    </tr>\n",
       "    <tr>\n",
       "      <th>4</th>\n",
       "      <td>Pokemon Red/Pokemon Blue</td>\n",
       "      <td>GB</td>\n",
       "      <td>1996.0</td>\n",
       "      <td>Role-Playing</td>\n",
       "      <td>11.27</td>\n",
       "      <td>8.89</td>\n",
       "      <td>10.22</td>\n",
       "      <td>1.00</td>\n",
       "      <td>NaN</td>\n",
       "      <td>NaN</td>\n",
       "      <td>NaN</td>\n",
       "    </tr>\n",
       "  </tbody>\n",
       "</table>\n",
       "</div>"
      ],
      "text/plain": [
       "                       Name Platform  Year_of_Release         Genre  NA_sales  \\\n",
       "0                Wii Sports      Wii           2006.0        Sports     41.36   \n",
       "1         Super Mario Bros.      NES           1985.0      Platform     29.08   \n",
       "2            Mario Kart Wii      Wii           2008.0        Racing     15.68   \n",
       "3         Wii Sports Resort      Wii           2009.0        Sports     15.61   \n",
       "4  Pokemon Red/Pokemon Blue       GB           1996.0  Role-Playing     11.27   \n",
       "\n",
       "   EU_sales  JP_sales  Other_sales  Critic_Score User_Score Rating  \n",
       "0     28.96      3.77         8.45          76.0          8      E  \n",
       "1      3.58      6.81         0.77           NaN        NaN    NaN  \n",
       "2     12.76      3.79         3.29          82.0        8.3      E  \n",
       "3     10.93      3.28         2.95          80.0          8      E  \n",
       "4      8.89     10.22         1.00           NaN        NaN    NaN  "
      ]
     },
     "metadata": {},
     "output_type": "display_data"
    }
   ],
   "source": [
    "data = pd.read_csv('games.csv')    # считываем базу\n",
    "\n",
    "data.info()\n",
    "display(data.head())"
   ]
  },
  {
   "cell_type": "markdown",
   "metadata": {},
   "source": [
    "Как видим из информации по датафрейму, 6 из 11 столбцов имеют пропуски, в том числе две строки не содержат название игры, в двух пропущен жанр, не везде указан год релиза, не везде есть оценки критиков и пользователей или рейтинг от организации ESRB.\n",
    "\n",
    "Еще одна задача предобработки данных - изменить имена столбцов согласно правилу хорошего стиля (заменить на нижний регистр)."
   ]
  },
  {
   "cell_type": "markdown",
   "metadata": {},
   "source": [
    "## Подготовка данных"
   ]
  },
  {
   "cell_type": "markdown",
   "metadata": {},
   "source": [
    "Заменим названия столбцов (приведем к нижнему регистру)."
   ]
  },
  {
   "cell_type": "code",
   "execution_count": 3,
   "metadata": {},
   "outputs": [
    {
     "name": "stdout",
     "output_type": "stream",
     "text": [
      "Index(['name', 'platform', 'year_of_release', 'genre', 'na_sales', 'eu_sales',\n",
      "       'jp_sales', 'other_sales', 'critic_score', 'user_score', 'rating'],\n",
      "      dtype='object')\n"
     ]
    }
   ],
   "source": [
    "data.columns = data.columns.str.lower()         # Переименовываем, используя ф-ции замены на строчные\n",
    "print(data.columns)                             # Проверяем"
   ]
  },
  {
   "cell_type": "markdown",
   "metadata": {},
   "source": [
    "Сначала разберемся с пропусками NaN. Посмотрим, что представляют строки с пропущенным названием или жанром."
   ]
  },
  {
   "cell_type": "code",
   "execution_count": 4,
   "metadata": {
    "scrolled": false
   },
   "outputs": [
    {
     "data": {
      "text/html": [
       "<div>\n",
       "<style scoped>\n",
       "    .dataframe tbody tr th:only-of-type {\n",
       "        vertical-align: middle;\n",
       "    }\n",
       "\n",
       "    .dataframe tbody tr th {\n",
       "        vertical-align: top;\n",
       "    }\n",
       "\n",
       "    .dataframe thead th {\n",
       "        text-align: right;\n",
       "    }\n",
       "</style>\n",
       "<table border=\"1\" class=\"dataframe\">\n",
       "  <thead>\n",
       "    <tr style=\"text-align: right;\">\n",
       "      <th></th>\n",
       "      <th>name</th>\n",
       "      <th>platform</th>\n",
       "      <th>year_of_release</th>\n",
       "      <th>genre</th>\n",
       "      <th>na_sales</th>\n",
       "      <th>eu_sales</th>\n",
       "      <th>jp_sales</th>\n",
       "      <th>other_sales</th>\n",
       "      <th>critic_score</th>\n",
       "      <th>user_score</th>\n",
       "      <th>rating</th>\n",
       "    </tr>\n",
       "  </thead>\n",
       "  <tbody>\n",
       "    <tr>\n",
       "      <th>659</th>\n",
       "      <td>NaN</td>\n",
       "      <td>GEN</td>\n",
       "      <td>1993.0</td>\n",
       "      <td>NaN</td>\n",
       "      <td>1.78</td>\n",
       "      <td>0.53</td>\n",
       "      <td>0.00</td>\n",
       "      <td>0.08</td>\n",
       "      <td>NaN</td>\n",
       "      <td>NaN</td>\n",
       "      <td>NaN</td>\n",
       "    </tr>\n",
       "    <tr>\n",
       "      <th>14244</th>\n",
       "      <td>NaN</td>\n",
       "      <td>GEN</td>\n",
       "      <td>1993.0</td>\n",
       "      <td>NaN</td>\n",
       "      <td>0.00</td>\n",
       "      <td>0.00</td>\n",
       "      <td>0.03</td>\n",
       "      <td>0.00</td>\n",
       "      <td>NaN</td>\n",
       "      <td>NaN</td>\n",
       "      <td>NaN</td>\n",
       "    </tr>\n",
       "  </tbody>\n",
       "</table>\n",
       "</div>"
      ],
      "text/plain": [
       "      name platform  year_of_release genre  na_sales  eu_sales  jp_sales  \\\n",
       "659    NaN      GEN           1993.0   NaN      1.78      0.53      0.00   \n",
       "14244  NaN      GEN           1993.0   NaN      0.00      0.00      0.03   \n",
       "\n",
       "       other_sales  critic_score user_score rating  \n",
       "659           0.08           NaN        NaN    NaN  \n",
       "14244         0.00           NaN        NaN    NaN  "
      ]
     },
     "metadata": {},
     "output_type": "display_data"
    }
   ],
   "source": [
    "display(\n",
    "    data[\n",
    "        (data['name'].isna()) | (data['genre'].isna())      # Применили isna() для среза\n",
    "    ]\n",
    ")                     "
   ]
  },
  {
   "cell_type": "markdown",
   "metadata": {},
   "source": [
    "Видим, что жанр пропущен там же, где и название. Так как строк всего две, удалим их."
   ]
  },
  {
   "cell_type": "code",
   "execution_count": 5,
   "metadata": {},
   "outputs": [],
   "source": [
    "data = data.dropna(subset=['name'])                # Удалили строки с NaN в 'name'"
   ]
  },
  {
   "cell_type": "markdown",
   "metadata": {},
   "source": [
    "Так как число строк без года релиза составляет порядка 1.5% от общего числа строк датафрейма, разумнее не учитывать их вообще, поскольку основное, на что мы можем опираемся при данном исследовании, это год выпуска - нас интересует в основном год, предшествующий запланированной на следующий год кампании.  Поэтому удалим строки с пропусками года релиза."
   ]
  },
  {
   "cell_type": "code",
   "execution_count": 6,
   "metadata": {
    "scrolled": true
   },
   "outputs": [
    {
     "name": "stdout",
     "output_type": "stream",
     "text": [
      "Было удалено строк: 269\n",
      "Это составляет: 1.61%\n"
     ]
    }
   ],
   "source": [
    "number_nan = (data['year_of_release'].\n",
    "                isna().\n",
    "                sum()                     # Нашли сумму пропусков в строке года\n",
    "             )\n",
    "percent_nan = number_nan / data.shape[0]  # Нашли отрношение пропусков к общему числу строк\n",
    "\n",
    "(data['year_of_release'].\n",
    "    dropna().                             #  Удалили NaN в 'year_of_release',\n",
    "    astype(dtype='int', copy=True).       #  изменили тип\n",
    "    reset_index(drop=True)                #  и обновили индексацию.\n",
    ")\n",
    " \n",
    "print('Было удалено строк:', number_nan)\n",
    "print(f'Это составляет: {percent_nan:.2%}')"
   ]
  },
  {
   "cell_type": "markdown",
   "metadata": {},
   "source": [
    "Мы можем преобразовать данные в нужные типы: год релиза 'year_of_release' - в int, рейтинги 'critic_score' и 'user_score' - в int (предварительно умножив 'user_score'на 10, тогда он будет аналогично 'critic_score' принимать целочисленные значения от 0 до 100). Нужно ли нам это, и стоит ли убрать все пропуски из соответствующих столбцов?\n",
    "\n",
    "Посмотрим, что может помешать переводу в целочисленные значения столбцов с рейтингом. Выведем уникальные значения."
   ]
  },
  {
   "cell_type": "code",
   "execution_count": 7,
   "metadata": {},
   "outputs": [
    {
     "name": "stdout",
     "output_type": "stream",
     "text": [
      "[76. nan 82. 80. 89. 58. 87. 91. 61. 97. 95. 77. 88. 83. 94. 93. 85. 86.\n",
      " 98. 96. 90. 84. 73. 74. 78. 92. 71. 72. 68. 62. 49. 67. 81. 66. 56. 79.\n",
      " 70. 59. 64. 75. 60. 63. 69. 50. 25. 42. 44. 55. 48. 57. 29. 47. 65. 54.\n",
      " 20. 53. 37. 38. 33. 52. 30. 32. 43. 45. 51. 40. 46. 39. 34. 35. 41. 36.\n",
      " 28. 31. 27. 26. 19. 23. 24. 21. 17. 22. 13.]\n",
      "['8' nan '8.3' '8.5' '6.6' '8.4' '8.6' '7.7' '6.3' '7.4' '8.2' '9' '7.9'\n",
      " '8.1' '8.7' '7.1' '3.4' '5.3' '4.8' '3.2' '8.9' '6.4' '7.8' '7.5' '2.6'\n",
      " '7.2' '9.2' '7' '7.3' '4.3' '7.6' '5.7' '5' '9.1' '6.5' 'tbd' '8.8' '6.9'\n",
      " '9.4' '6.8' '6.1' '6.7' '5.4' '4' '4.9' '4.5' '9.3' '6.2' '4.2' '6' '3.7'\n",
      " '4.1' '5.8' '5.6' '5.5' '4.4' '4.6' '5.9' '3.9' '3.1' '2.9' '5.2' '3.3'\n",
      " '4.7' '5.1' '3.5' '2.5' '1.9' '3' '2.7' '2.2' '2' '9.5' '2.1' '3.6' '2.8'\n",
      " '1.8' '3.8' '0' '1.6' '9.6' '2.4' '1.7' '1.1' '0.3' '1.5' '0.7' '1.2'\n",
      " '2.3' '0.5' '1.3' '0.2' '0.6' '1.4' '0.9' '1' '9.7']\n"
     ]
    }
   ],
   "source": [
    "print(data['critic_score'].unique())\n",
    "print(data['user_score'].unique())"
   ]
  },
  {
   "cell_type": "markdown",
   "metadata": {},
   "source": [
    "Если приводить к целочисленным значениям столбцы 'critic_score', 'user_score', то предварительно нужно будет заменить NaN (и 'tbd' в 'user_score') на какие-либо числовые значения, но любое искусственно добавленное значение рейтинга повлияет на итоговые выводы, поэтому замена на 0 или на среднее/медианное и т.п. значение не подходит. Оставим NaN как есть, а тип менять на int не будем.\n",
    "\n",
    "Что касается значения 'tbd' в 'user_score', то это To Be Determined, то есть \"будет определено\". Возможно, пользовательский рейтинг еще не определен или не может быть посчитан при нулевом или очень низком уровне продажи. Проверим, выведем на экран несколько таких случайных строк."
   ]
  },
  {
   "cell_type": "code",
   "execution_count": 8,
   "metadata": {},
   "outputs": [
    {
     "data": {
      "text/html": [
       "<div>\n",
       "<style scoped>\n",
       "    .dataframe tbody tr th:only-of-type {\n",
       "        vertical-align: middle;\n",
       "    }\n",
       "\n",
       "    .dataframe tbody tr th {\n",
       "        vertical-align: top;\n",
       "    }\n",
       "\n",
       "    .dataframe thead th {\n",
       "        text-align: right;\n",
       "    }\n",
       "</style>\n",
       "<table border=\"1\" class=\"dataframe\">\n",
       "  <thead>\n",
       "    <tr style=\"text-align: right;\">\n",
       "      <th></th>\n",
       "      <th>name</th>\n",
       "      <th>platform</th>\n",
       "      <th>year_of_release</th>\n",
       "      <th>genre</th>\n",
       "      <th>na_sales</th>\n",
       "      <th>eu_sales</th>\n",
       "      <th>jp_sales</th>\n",
       "      <th>other_sales</th>\n",
       "      <th>critic_score</th>\n",
       "      <th>user_score</th>\n",
       "      <th>rating</th>\n",
       "    </tr>\n",
       "  </thead>\n",
       "  <tbody>\n",
       "    <tr>\n",
       "      <th>10913</th>\n",
       "      <td>Championship Foosball</td>\n",
       "      <td>Wii</td>\n",
       "      <td>2008.0</td>\n",
       "      <td>Sports</td>\n",
       "      <td>0.09</td>\n",
       "      <td>0.00</td>\n",
       "      <td>0.0</td>\n",
       "      <td>0.01</td>\n",
       "      <td>NaN</td>\n",
       "      <td>tbd</td>\n",
       "      <td>E</td>\n",
       "    </tr>\n",
       "    <tr>\n",
       "      <th>10756</th>\n",
       "      <td>Petz Hamsterz Superstarz</td>\n",
       "      <td>DS</td>\n",
       "      <td>2009.0</td>\n",
       "      <td>Simulation</td>\n",
       "      <td>0.09</td>\n",
       "      <td>0.00</td>\n",
       "      <td>0.0</td>\n",
       "      <td>0.01</td>\n",
       "      <td>NaN</td>\n",
       "      <td>tbd</td>\n",
       "      <td>E</td>\n",
       "    </tr>\n",
       "    <tr>\n",
       "      <th>11932</th>\n",
       "      <td>Rock Band Country Track Pack 2</td>\n",
       "      <td>PS3</td>\n",
       "      <td>2011.0</td>\n",
       "      <td>Misc</td>\n",
       "      <td>0.07</td>\n",
       "      <td>0.00</td>\n",
       "      <td>0.0</td>\n",
       "      <td>0.01</td>\n",
       "      <td>NaN</td>\n",
       "      <td>tbd</td>\n",
       "      <td>E10+</td>\n",
       "    </tr>\n",
       "    <tr>\n",
       "      <th>2512</th>\n",
       "      <td>Karaoke Revolution Glee</td>\n",
       "      <td>Wii</td>\n",
       "      <td>2010.0</td>\n",
       "      <td>Misc</td>\n",
       "      <td>0.51</td>\n",
       "      <td>0.24</td>\n",
       "      <td>0.0</td>\n",
       "      <td>0.07</td>\n",
       "      <td>NaN</td>\n",
       "      <td>tbd</td>\n",
       "      <td>T</td>\n",
       "    </tr>\n",
       "    <tr>\n",
       "      <th>9235</th>\n",
       "      <td>4x4 EVO 2</td>\n",
       "      <td>GC</td>\n",
       "      <td>2002.0</td>\n",
       "      <td>Racing</td>\n",
       "      <td>0.11</td>\n",
       "      <td>0.03</td>\n",
       "      <td>0.0</td>\n",
       "      <td>0.00</td>\n",
       "      <td>56.0</td>\n",
       "      <td>tbd</td>\n",
       "      <td>E</td>\n",
       "    </tr>\n",
       "    <tr>\n",
       "      <th>15566</th>\n",
       "      <td>Army Rescue</td>\n",
       "      <td>Wii</td>\n",
       "      <td>2009.0</td>\n",
       "      <td>Shooter</td>\n",
       "      <td>0.02</td>\n",
       "      <td>0.00</td>\n",
       "      <td>0.0</td>\n",
       "      <td>0.00</td>\n",
       "      <td>NaN</td>\n",
       "      <td>tbd</td>\n",
       "      <td>E</td>\n",
       "    </tr>\n",
       "    <tr>\n",
       "      <th>10544</th>\n",
       "      <td>PictoImage</td>\n",
       "      <td>DS</td>\n",
       "      <td>2007.0</td>\n",
       "      <td>Puzzle</td>\n",
       "      <td>0.09</td>\n",
       "      <td>0.00</td>\n",
       "      <td>0.0</td>\n",
       "      <td>0.01</td>\n",
       "      <td>61.0</td>\n",
       "      <td>tbd</td>\n",
       "      <td>E</td>\n",
       "    </tr>\n",
       "    <tr>\n",
       "      <th>3567</th>\n",
       "      <td>Harry Potter Collection</td>\n",
       "      <td>PS2</td>\n",
       "      <td>2006.0</td>\n",
       "      <td>Misc</td>\n",
       "      <td>0.28</td>\n",
       "      <td>0.21</td>\n",
       "      <td>0.0</td>\n",
       "      <td>0.07</td>\n",
       "      <td>NaN</td>\n",
       "      <td>tbd</td>\n",
       "      <td>E10+</td>\n",
       "    </tr>\n",
       "    <tr>\n",
       "      <th>8560</th>\n",
       "      <td>Family Game Night 4: The Game Show</td>\n",
       "      <td>Wii</td>\n",
       "      <td>2011.0</td>\n",
       "      <td>Misc</td>\n",
       "      <td>0.12</td>\n",
       "      <td>0.03</td>\n",
       "      <td>0.0</td>\n",
       "      <td>0.01</td>\n",
       "      <td>NaN</td>\n",
       "      <td>tbd</td>\n",
       "      <td>E</td>\n",
       "    </tr>\n",
       "    <tr>\n",
       "      <th>7146</th>\n",
       "      <td>Ben 10 Ultimate Alien: Cosmic Destruction</td>\n",
       "      <td>PS2</td>\n",
       "      <td>2010.0</td>\n",
       "      <td>Platform</td>\n",
       "      <td>0.13</td>\n",
       "      <td>0.06</td>\n",
       "      <td>0.0</td>\n",
       "      <td>0.04</td>\n",
       "      <td>NaN</td>\n",
       "      <td>tbd</td>\n",
       "      <td>E10+</td>\n",
       "    </tr>\n",
       "  </tbody>\n",
       "</table>\n",
       "</div>"
      ],
      "text/plain": [
       "                                            name platform  year_of_release  \\\n",
       "10913                      Championship Foosball      Wii           2008.0   \n",
       "10756                   Petz Hamsterz Superstarz       DS           2009.0   \n",
       "11932             Rock Band Country Track Pack 2      PS3           2011.0   \n",
       "2512                     Karaoke Revolution Glee      Wii           2010.0   \n",
       "9235                                   4x4 EVO 2       GC           2002.0   \n",
       "15566                                Army Rescue      Wii           2009.0   \n",
       "10544                                 PictoImage       DS           2007.0   \n",
       "3567                     Harry Potter Collection      PS2           2006.0   \n",
       "8560          Family Game Night 4: The Game Show      Wii           2011.0   \n",
       "7146   Ben 10 Ultimate Alien: Cosmic Destruction      PS2           2010.0   \n",
       "\n",
       "            genre  na_sales  eu_sales  jp_sales  other_sales  critic_score  \\\n",
       "10913      Sports      0.09      0.00       0.0         0.01           NaN   \n",
       "10756  Simulation      0.09      0.00       0.0         0.01           NaN   \n",
       "11932        Misc      0.07      0.00       0.0         0.01           NaN   \n",
       "2512         Misc      0.51      0.24       0.0         0.07           NaN   \n",
       "9235       Racing      0.11      0.03       0.0         0.00          56.0   \n",
       "15566     Shooter      0.02      0.00       0.0         0.00           NaN   \n",
       "10544      Puzzle      0.09      0.00       0.0         0.01          61.0   \n",
       "3567         Misc      0.28      0.21       0.0         0.07           NaN   \n",
       "8560         Misc      0.12      0.03       0.0         0.01           NaN   \n",
       "7146     Platform      0.13      0.06       0.0         0.04           NaN   \n",
       "\n",
       "      user_score rating  \n",
       "10913        tbd      E  \n",
       "10756        tbd      E  \n",
       "11932        tbd   E10+  \n",
       "2512         tbd      T  \n",
       "9235         tbd      E  \n",
       "15566        tbd      E  \n",
       "10544        tbd      E  \n",
       "3567         tbd   E10+  \n",
       "8560         tbd      E  \n",
       "7146         tbd   E10+  "
      ]
     },
     "metadata": {},
     "output_type": "display_data"
    }
   ],
   "source": [
    "display(data\n",
    "        [data['user_score']=='tbd'].\n",
    "            sample(10)\n",
    "       ) "
   ]
  },
  {
   "cell_type": "markdown",
   "metadata": {},
   "source": [
    "По-видимому, мы были правы, продажи не велики, очень часто tbd сочетается с NaN в оценке критиков. Заменим 'tbd' на 'NaN'. \n",
    "Затем столбец приведем к численному типу. "
   ]
  },
  {
   "cell_type": "code",
   "execution_count": 9,
   "metadata": {},
   "outputs": [],
   "source": [
    "data.loc[data['user_score'] == 'tbd', 'user_score'] = np.nan\n",
    "\n",
    "data['user_score'] = data['user_score'].astype('float') "
   ]
  },
  {
   "cell_type": "markdown",
   "metadata": {},
   "source": [
    "Осталось посмотреть, что представляет из себя последний столбец 'rating'."
   ]
  },
  {
   "cell_type": "code",
   "execution_count": 10,
   "metadata": {},
   "outputs": [
    {
     "name": "stdout",
     "output_type": "stream",
     "text": [
      "['E' nan 'M' 'T' 'E10+' 'K-A' 'AO' 'EC' 'RP']\n"
     ]
    }
   ],
   "source": [
    "print(data.rating.unique())"
   ]
  },
  {
   "cell_type": "markdown",
   "metadata": {},
   "source": [
    "- «EC» («Early childhood») — «Для детей младшего возраста».\n",
    "- «E» («Everyone») — «Для всех».\n",
    "- «E10+» («Everyone 10 and older») — «Для всех старше 10 лет».\n",
    "- «T» («Teen») — «Подросткам 13—19 лет».\n",
    "- «M» («Mature») — «От 17 лет».\n",
    "- «AO» («Adults Only 18+») — «Только для взрослых».\n",
    "- «RP» ( «Rating Pending»») — «Рейтинг ожидается».\n",
    "- «K-A» - «Для детей» (в 1998 году был переименован в Е – для всех возрастов).\n",
    "\n",
    "Как видим, здесь всё в порядке, все соответствует расшифровкам ESRB либо пропущено."
   ]
  },
  {
   "cell_type": "markdown",
   "metadata": {},
   "source": [
    "И посчитаем теперь суммарные продажи во всех регионах в отдельный столбец 'all_sales'."
   ]
  },
  {
   "cell_type": "code",
   "execution_count": 11,
   "metadata": {},
   "outputs": [],
   "source": [
    "data['all_sales'] = data[['na_sales','eu_sales','jp_sales','other_sales']].sum(axis=1)"
   ]
  },
  {
   "cell_type": "markdown",
   "metadata": {},
   "source": [
    "Осталось проверить наличие дубликатов."
   ]
  },
  {
   "cell_type": "code",
   "execution_count": 12,
   "metadata": {},
   "outputs": [
    {
     "name": "stdout",
     "output_type": "stream",
     "text": [
      "Количество дубликатов: 0\n"
     ]
    }
   ],
   "source": [
    "print('Количество дубликатов:', data.duplicated().sum())"
   ]
  },
  {
   "cell_type": "markdown",
   "metadata": {},
   "source": [
    "## Исследовательский анализ данных"
   ]
  },
  {
   "cell_type": "markdown",
   "metadata": {},
   "source": [
    "### Сколько игр выпускалось в разные годы? \n",
    "\n",
    "Построим столбчатую диаграмму."
   ]
  },
  {
   "cell_type": "code",
   "execution_count": 13,
   "metadata": {
    "scrolled": true
   },
   "outputs": [
    {
     "data": {
      "image/png": "[encoded data removed]",
      "text/plain": [
       "<Figure size 1080x288 with 1 Axes>"
      ]
     },
     "metadata": {
      "needs_background": "light"
     },
     "output_type": "display_data"
    }
   ],
   "source": [
    "data.pivot_table(index='year_of_release', \n",
    "                 values='name', \n",
    "                 aggfunc='count'\n",
    "                ).plot(\n",
    "                        kind='bar', \n",
    "                        figsize=(15, 4), \n",
    "                        grid=True, \n",
    "                        rot=60\n",
    "                      )           \n",
    "\n",
    "plt.legend(['игры'])\n",
    "plt.xlabel('Год релиза') # Подписали ось X\n",
    "plt.ylabel('Количество игр') # Подписали ось Y\n",
    "plt.show()"
   ]
  },
  {
   "cell_type": "markdown",
   "metadata": {},
   "source": [
    "Больше всего выпускалось игр в период с 2006 по 2011 год (более тысячи в год). Самыми активными были 2008 и 2009 годы, более 1400 игр за год. С 2012 года количество выпущенных игр упало до 500-600 в год.\n",
    "\n",
    "Нас интересует не весь период, для целей анализа важны только последние годы. "
   ]
  },
  {
   "cell_type": "markdown",
   "metadata": {},
   "source": [
    "### Как менялись продажи по платформам?\n",
    "\n",
    "Выберем платформы с наибольшими суммарными продажами за весь период и построим распределение по годам. Для этого построим гистограмму. "
   ]
  },
  {
   "cell_type": "code",
   "execution_count": 14,
   "metadata": {
    "scrolled": true
   },
   "outputs": [
    {
     "name": "stdout",
     "output_type": "stream",
     "text": [
      "Index(['PS2', 'X360', 'PS3', 'Wii', 'DS', 'PS', 'GBA', 'PS4', 'PSP', 'PC'], dtype='object', name='platform')\n"
     ]
    },
    {
     "data": {
      "image/png": "[encoded data removed]",
      "text/plain": [
       "<Figure size 1080x360 with 1 Axes>"
      ]
     },
     "metadata": {
      "needs_background": "light"
     },
     "output_type": "display_data"
    }
   ],
   "source": [
    "platform_sales_10 = (data.\n",
    "                        groupby('platform').\n",
    "                        agg({'all_sales': 'sum'}). # Группируем по суммам продаж\n",
    "                        sort_values(by='all_sales', ascending=False).   # сортируем по убыванию продаж,\n",
    "                        head(10).                  # берем верхние 10 строк и\n",
    "                        index                      # получаем в переменной список значений столбца 'platform'\n",
    "                    )\n",
    "\n",
    "print(platform_sales_10)  # вывели списком - для себя\n",
    "\n",
    "(data.\n",
    "    query('platform in @ platform_sales_10').               # для среза по условию \"platform in @ platform_sales\"\n",
    "    pivot_table(                                            # строим сводные таблицы\n",
    "        index='year_of_release', \n",
    "        columns='platform', \n",
    "        values='all_sales', \n",
    "        aggfunc='sum'\n",
    "               ).\n",
    "    plot(figsize=(15, 5), xlim=(1985, 2017), grid=True)     # и для них строим гистограммы\n",
    ")  \n",
    "\n",
    "plt.xlabel('Год релиза') # Подписали ось X\n",
    "plt.ylabel('Всего продаж, млн') # Подписали ось Y\n",
    "plt.show()"
   ]
  },
  {
   "cell_type": "markdown",
   "metadata": {},
   "source": [
    "Из графиков видно, что примерно за 7-10 лет практически любая платформа себя изживает и исчезает с рынка игр, но за это время 4-5 лет держится на пике популярности. И только платформа PC тридцать лет сохраняет свои позиции. \n",
    "\n",
    "И если в 2006 - 2007 годах среди популярных можно было встретить одновременно 8 из Топ-10 платформ, то в 2016 году их число сократилось до 5, причем 4 из них имеют весьма низкие продажи. Более-менее высокий уровень продаж остался у PS4, но и он падает по сравнению с 2015 г. "
   ]
  },
  {
   "cell_type": "markdown",
   "metadata": {},
   "source": [
    "### Найдем актуальный период\n",
    "Для того, чтобы построить прогноз на 2017 год, необходимо проанализировать актуальный период для каждой игры. Найдем его так:  выбираем минимальный порог продаж (например, 1 млн). Для каждой платформы ищем число лет, когда суммарные продажи превышают этот порог. Это будет средним временем жизни платформы. \n",
    "\n",
    "Мне кажется разумным взять половину от среднего времени жизни платформы и принять это время за актуальный период, так как из времени жизни платформы половину времени продажи растут, половину падают. Нам не интересны \"умирающие\" к концу периода платформы. \n",
    "\n"
   ]
  },
  {
   "cell_type": "markdown",
   "metadata": {},
   "source": [
    "Рассматриваем топ-10, полученный выше, так как наша задача - анализировать самые коммерчески выгодные игры. И из расчетов уберем \"PC\", как явно выбивающееся из общей тенденции значение в 30 лет. Ничего личного не имею против ПК, но значение в 30 лет очень похоже на выброс и увеличивает среднее время жизни платформы на полтора года, а принятый за половину этого времени актуальный период - на год. Плюс объемы продаж даже в лучшие для PC времена не превышали 30-35 млн копий в год (мы же не принимаем в расчет пиратские копии), что по сравнению с \"быстроживущими\", но более прибыльными прочими платформами совсем не много. Можно считать PC феноменом и \"почетным пиратом-долгожителем\" и считаться с ним, тем более, что позиций персональные компьютеры и дальше сдавать не собираются. Но при расчете среднего срока жизни платформы для всех остальных коммерческих платформ это значение является лишним, то есть выбросом.\n",
    "    \n",
    "Ниже построим boxplot для PC, на нем видно, что по крайней мере до 2000 г. продажи с количеством копий более 1 млн экз., раз уж мы взяли именно такой критерий - это выбросы.\n"
   ]
  },
  {
   "cell_type": "code",
   "execution_count": 15,
   "metadata": {},
   "outputs": [
    {
     "data": {
      "text/plain": [
       "<AxesSubplot:title={'center':'year_of_release'}, xlabel='platform'>"
      ]
     },
     "execution_count": 15,
     "metadata": {},
     "output_type": "execute_result"
    },
    {
     "data": {
      "image/png": "[encoded data removed]",
      "text/plain": [
       "<Figure size 432x288 with 1 Axes>"
      ]
     },
     "metadata": {
      "needs_background": "light"
     },
     "output_type": "display_data"
    }
   ],
   "source": [
    "data[data['platform'] == 'PC'].boxplot(by='platform', column='year_of_release')"
   ]
  },
  {
   "cell_type": "code",
   "execution_count": 16,
   "metadata": {},
   "outputs": [
    {
     "name": "stdout",
     "output_type": "stream",
     "text": [
      "Среднее время жизни платформы: 9.4\n",
      "Актуальный период: 5\n"
     ]
    }
   ],
   "source": [
    "act_period = (data.\n",
    "                 groupby(['platform','year_of_release']).         # новый датафрейм - группируем по платформе и году релиза\n",
    "                 agg({'all_sales': 'sum'}).                       # сумма всех продаж для конкретной платформы в один год\n",
    "                 query('(platform in @ platform_sales_10) and (platform != \"PC\") and (all_sales > 1)').   #  срез по условиям   \n",
    "                 reset_index()                                    # обновляем индекс\n",
    "             )\n",
    "\n",
    "act_period = (act_period.groupby('platform').                # группировкой расчитаем период жизни каждой платформы из топ-10\n",
    "                 agg({'year_of_release': 'count'})           # считаем количество элементов в 'year_of_release'\n",
    "             ) \n",
    "\n",
    "time_mean_period = act_period['year_of_release'].mean()      # считаем среднее значение - находим средний актуальный период\n",
    "\n",
    "print(f'Среднее время жизни платформы: {time_mean_period:.1f}')\n",
    "\n",
    "actual_period = np.ceil(time_mean_period/2)                  # округлили в большую сторону\n",
    "\n",
    "print(f'Актуальный период: {actual_period:.0f}')             # значение актуального периода"
   ]
  },
  {
   "cell_type": "markdown",
   "metadata": {},
   "source": [
    " Теперь при анализе будем учитывать данные не более, чем за 5 предыдущих лет."
   ]
  },
  {
   "cell_type": "markdown",
   "metadata": {},
   "source": [
    "### Найдем лидирующие платформы\n",
    "\n",
    "Посмотрим, какие платформы лидируют по продажам, какие растут или падают. Выберем несколько потенциально прибыльных платформ в актуальном периоде. \n",
    "В нашем конкретном случае 2017 минус 9 лет, получим период с 2012 по 2016 гг, а вообще создадим новую переменную **begin_year** - начальный год, с которого проводится анализ."
   ]
  },
  {
   "cell_type": "code",
   "execution_count": 17,
   "metadata": {},
   "outputs": [],
   "source": [
    "begin_year = actual_year - actual_period  #  начальный год, с которого проводится анализ\n",
    "                                          #  Посчитано как разность текущего года и актуального периода"
   ]
  },
  {
   "cell_type": "code",
   "execution_count": 18,
   "metadata": {},
   "outputs": [
    {
     "name": "stdout",
     "output_type": "stream",
     "text": [
      "Index(['PS4', 'PS3', 'X360', '3DS', 'XOne'], dtype='object', name='platform')\n"
     ]
    },
    {
     "data": {
      "image/png": "[encoded data removed]",
      "text/plain": [
       "<Figure size 1080x360 with 1 Axes>"
      ]
     },
     "metadata": {
      "needs_background": "light"
     },
     "output_type": "display_data"
    }
   ],
   "source": [
    "platform_top_actual = (\n",
    "                      data[data['year_of_release'] >=begin_year].  # срез - только актуальный период\n",
    "                          groupby('platform').agg({'all_sales': 'sum'}).\n",
    "                          sort_values(by='all_sales', ascending=False).\n",
    "                          head(5).  # top-5\n",
    "                          index\n",
    "                      ) \n",
    "print(platform_top_actual) # вывели для себя\n",
    "\n",
    "(data.query('platform in @ platform_top_actual').\n",
    "      pivot_table(\n",
    "          index='year_of_release', \n",
    "          columns='platform', \n",
    "          values='all_sales', \n",
    "          aggfunc='sum'\n",
    "      ).\n",
    "      plot(figsize=(15, 5), \n",
    "           grid=True, \n",
    "           xlim=(2012, 2017), \n",
    "           ylim=(0, 130)\n",
    "          )\n",
    ") \n",
    "\n",
    "plt.xlabel('Год релиза') # Подписали ось X\n",
    "plt.ylabel('Всего продаж, млн') # Подписали ось Y\n",
    "plt.show()"
   ]
  },
  {
   "cell_type": "markdown",
   "metadata": {},
   "source": [
    "В актуальном периоде мы получили иные значения топ-платформ, чем когда рассматривали топ продаж по всему периоду. Появились 3DS и XOne. \n",
    "По графикам видим, что продажи по всем топ-5 падают в 2016 г. по сравнению с 2015 годом. Ни у одной платформы роста мы не наблюдаем. Лидер с явным отрывом - это PS4."
   ]
  },
  {
   "cell_type": "markdown",
   "metadata": {},
   "source": [
    "Построим еще график «ящик с усами» по глобальным продажам игр в разбивке по платформам."
   ]
  },
  {
   "cell_type": "code",
   "execution_count": 19,
   "metadata": {},
   "outputs": [
    {
     "data": {
      "image/png": "[encoded data removed]",
      "text/plain": [
       "<Figure size 1080x720 with 1 Axes>"
      ]
     },
     "metadata": {
      "needs_background": "light"
     },
     "output_type": "display_data"
    }
   ],
   "source": [
    "\n",
    "(data.query('platform in @ platform_top_actual').\n",
    "     boxplot(by='platform', \n",
    "             column='all_sales', \n",
    "             figsize=(15, 10)\n",
    "            )\n",
    ")  \n",
    "\n",
    "plt.xlabel('Платформа') # Подписали ось X\n",
    "plt.ylabel('Всего продаж, млн') # Подписали ось Y\n",
    "plt.show()"
   ]
  },
  {
   "cell_type": "code",
   "execution_count": 20,
   "metadata": {
    "scrolled": true
   },
   "outputs": [
    {
     "name": "stdout",
     "output_type": "stream",
     "text": [
      "count    1262.000000\n",
      "mean        0.769746\n",
      "std         1.615674\n",
      "min         0.010000\n",
      "25%         0.110000\n",
      "50%         0.280000\n",
      "75%         0.757500\n",
      "max        21.820000\n",
      "Name: all_sales, dtype: float64\n"
     ]
    }
   ],
   "source": [
    "print(data[data['platform'] == 'X360']['all_sales'].\n",
    "          describe()                                # В помощь при описании вызвали метод describe()\n",
    "      )                                             # Наиболее \"интересная\" платформа -'X360' с максимальной продажей"
   ]
  },
  {
   "cell_type": "markdown",
   "metadata": {},
   "source": [
    " Данные \"графики с усами\" показывают, что медианное значение у четырех платформ ('PS4', 'PS3', 'X360', 'XOne') примерно на одном уровне и не более 0.28 миллиона, межквартильный размах примерно одинаков, третий квартиль не более 1 млн, а у '3DS' еще меньше. Это означает, что большинство проданных игр не перешагивает порог продаж в 1 млн экземпляров, а в среднем находится на уровне 250 тыс. проданных копий.\n",
    "    \n",
    "При этом \"выбросы\", то есть игры с несравнимо большим количеством продаж, могут иметь и пару десятков миллионов проданных копий - почти в 80 раз больше, чем среднестатистическая на той же платформе! Например, одна из игр на платформе X360 имеет 21,82 млн продаж. А также около десятка игр для X360 имели продажи 10 млн и более. Но именно они смещают среднее значение проданных копий в большую сторону по сравнению с медианным в 2,5 раза.\n",
    "    \n",
    "В плане таких популярных игр PS3 и X360 выглядят более успешными, чем PS4 и 3DS, а XOne находится в аутсайдерах."
   ]
  },
  {
   "cell_type": "markdown",
   "metadata": {},
   "source": [
    "### Диаграммы рассеяния и корреляция\n",
    "Посмотрим, как влияют на продажи внутри одной платформы отзывы пользователей и критиков. Построим диаграмму рассеяния в целом для топ-5 платформ **за весь период времени** и посчитаем корреляцию между отзывами и продажами."
   ]
  },
  {
   "cell_type": "markdown",
   "metadata": {},
   "source": [
    "Для рейтинга критиков наблюдается некоторая положительная корреляция между оценками и продажами. А вот с оценками пользователей всё не так очевидно.\n",
    "\n",
    "Найдем численное значение коэффициента корреляции Пирсона."
   ]
  },
  {
   "cell_type": "code",
   "execution_count": 21,
   "metadata": {
    "scrolled": true
   },
   "outputs": [
    {
     "name": "stdout",
     "output_type": "stream",
     "text": [
      "Коэффициент корреляции между оценками критиков и продажами: 0.40\n",
      "Коэффициент корреляции между оценками пользователей и продажами: 0.10\n"
     ]
    }
   ],
   "source": [
    "corr_sales_critic_score = (data.\n",
    "                               query('platform in @ platform_top_actual')['all_sales'].\n",
    "                               corr(data.\n",
    "                                    query('platform in @ platform_top_actual')['critic_score']\n",
    "                                   )\n",
    "                          )\n",
    "\n",
    "print(f'Коэффициент корреляции между оценками критиков и продажами: {corr_sales_critic_score:.2f}')\n",
    "\n",
    "\n",
    "corr_sales_user_score = (data.\n",
    "                             query('platform in @ platform_top_actual')['all_sales'].\n",
    "                             corr(data.\n",
    "                                  query('platform in @ platform_top_actual')['user_score']\n",
    "                                 )\n",
    "                        )\n",
    "\n",
    "print(f'Коэффициент корреляции между оценками пользователей и продажами: {corr_sales_user_score:.2f}')\n"
   ]
  },
  {
   "cell_type": "markdown",
   "metadata": {},
   "source": [
    "Как видим, объемы продаж и высокие оценки критиков имеют достаточно тесную линейную взаимосвязь, в то время как для оценок пользователей такая связь намного слабее.\n",
    "\n",
    "Возможно, ситуация окажется иной, если рассматривать платформы по отдельности и толькло в актуальном периоде. Для этого построим диаграммы рассеяния для найденных ранее топ-5 платформ (platform_top_actual) в **актуальном периоде**."
   ]
  },
  {
   "cell_type": "code",
   "execution_count": 22,
   "metadata": {},
   "outputs": [
    {
     "name": "stdout",
     "output_type": "stream",
     "text": [
      "Коэффициент корреляции между оценками критиков и продажами PS4: 0.41\n"
     ]
    },
    {
     "data": {
      "image/png": "[encoded data removed]",
      "text/plain": [
       "<Figure size 432x288 with 1 Axes>"
      ]
     },
     "metadata": {
      "needs_background": "light"
     },
     "output_type": "display_data"
    },
    {
     "name": "stdout",
     "output_type": "stream",
     "text": [
      "Коэффициент корреляции между оценками критиков и продажами PS3: 0.33\n"
     ]
    },
    {
     "data": {
      "image/png": "[encoded data removed]",
      "text/plain": [
       "<Figure size 432x288 with 1 Axes>"
      ]
     },
     "metadata": {
      "needs_background": "light"
     },
     "output_type": "display_data"
    },
    {
     "name": "stdout",
     "output_type": "stream",
     "text": [
      "Коэффициент корреляции между оценками критиков и продажами X360: 0.36\n"
     ]
    },
    {
     "data": {
      "image/png": "[encoded data removed]",
      "text/plain": [
       "<Figure size 432x288 with 1 Axes>"
      ]
     },
     "metadata": {
      "needs_background": "light"
     },
     "output_type": "display_data"
    },
    {
     "name": "stdout",
     "output_type": "stream",
     "text": [
      "Коэффициент корреляции между оценками критиков и продажами 3DS: 0.32\n"
     ]
    },
    {
     "data": {
      "image/png": "[encoded data removed]",
      "text/plain": [
       "<Figure size 432x288 with 1 Axes>"
      ]
     },
     "metadata": {
      "needs_background": "light"
     },
     "output_type": "display_data"
    },
    {
     "name": "stdout",
     "output_type": "stream",
     "text": [
      "Коэффициент корреляции между оценками критиков и продажами XOne: 0.42\n"
     ]
    },
    {
     "data": {
      "image/png": "[encoded data removed]",
      "text/plain": [
       "<Figure size 432x288 with 1 Axes>"
      ]
     },
     "metadata": {
      "needs_background": "light"
     },
     "output_type": "display_data"
    }
   ],
   "source": [
    "for x in platform_top_actual:\n",
    "    (data.\n",
    "     query('platform == @ x and year_of_release>= @ begin_year').\n",
    "     plot(y='all_sales', \n",
    "          x='critic_score', \n",
    "          kind='scatter', \n",
    "          alpha=0.5, \n",
    "          color='green')\n",
    "    )\n",
    "    plt.xlabel('Оценка критиков для ' + x) #  ось X\n",
    "    plt.ylabel('Всего продаж, млн')        #  ось Y\n",
    "    \n",
    "    corr_sales_critic_score = (data.\n",
    "                               query('platform == @ x and year_of_release>=@ begin_year')['all_sales'].\n",
    "                               corr(data.\n",
    "                                    query('platform == @ x and year_of_release>=@ begin_year')['critic_score']\n",
    "                                   )\n",
    "                              )\n",
    "    \n",
    "    print(f'Коэффициент корреляции между оценками критиков и продажами {x}: {corr_sales_critic_score:.2f}')\n",
    "    plt.show()"
   ]
  },
  {
   "cell_type": "markdown",
   "metadata": {},
   "source": [
    "В среднем наблюдаем ту же картину, что и для корреляции в целом по топ-5, чуть слабее у платформы 3DS, чуть сильнее у XOne.\n",
    "\n",
    "Посмотрим на пользовательские оценки."
   ]
  },
  {
   "cell_type": "code",
   "execution_count": 23,
   "metadata": {},
   "outputs": [
    {
     "name": "stdout",
     "output_type": "stream",
     "text": [
      "Коэффициент корреляции между оценками пользователей и продажами PS4: -0.03\n"
     ]
    },
    {
     "data": {
      "image/png": "[encoded data removed]",
      "text/plain": [
       "<Figure size 432x288 with 1 Axes>"
      ]
     },
     "metadata": {
      "needs_background": "light"
     },
     "output_type": "display_data"
    },
    {
     "name": "stdout",
     "output_type": "stream",
     "text": [
      "Коэффициент корреляции между оценками пользователей и продажами PS3: -0.01\n"
     ]
    },
    {
     "data": {
      "image/png": "[encoded data removed]",
      "text/plain": [
       "<Figure size 432x288 with 1 Axes>"
      ]
     },
     "metadata": {
      "needs_background": "light"
     },
     "output_type": "display_data"
    },
    {
     "name": "stdout",
     "output_type": "stream",
     "text": [
      "Коэффициент корреляции между оценками пользователей и продажами X360: 0.01\n"
     ]
    },
    {
     "data": {
      "image/png": "[encoded data removed]",
      "text/plain": [
       "<Figure size 432x288 with 1 Axes>"
      ]
     },
     "metadata": {
      "needs_background": "light"
     },
     "output_type": "display_data"
    },
    {
     "name": "stdout",
     "output_type": "stream",
     "text": [
      "Коэффициент корреляции между оценками пользователей и продажами 3DS: 0.20\n"
     ]
    },
    {
     "data": {
      "image/png": "[encoded data removed]",
      "text/plain": [
       "<Figure size 432x288 with 1 Axes>"
      ]
     },
     "metadata": {
      "needs_background": "light"
     },
     "output_type": "display_data"
    },
    {
     "name": "stdout",
     "output_type": "stream",
     "text": [
      "Коэффициент корреляции между оценками пользователей и продажами XOne: -0.07\n"
     ]
    },
    {
     "data": {
      "image/png": "[encoded data removed]",
      "text/plain": [
       "<Figure size 432x288 with 1 Axes>"
      ]
     },
     "metadata": {
      "needs_background": "light"
     },
     "output_type": "display_data"
    }
   ],
   "source": [
    "for x in platform_top_actual:\n",
    "    (data.\n",
    "     query('platform == @ x and year_of_release>= @ begin_year').\n",
    "     plot(y='all_sales', \n",
    "          x='user_score', \n",
    "          kind='scatter', \n",
    "          alpha=0.5, \n",
    "          color='blue'\n",
    "         )\n",
    "    )\n",
    "    plt.xlabel('Оценка пользователей для ' + x)   # ось X\n",
    "    plt.ylabel('Всего продаж, млн')               # ось Y\n",
    "    \n",
    "    corr_sales_user_score = (data.\n",
    "                             query('platform == @ x and year_of_release>= @ begin_year')['all_sales'].\n",
    "                             corr(data.\n",
    "                                  query('platform == @ x and year_of_release>= @ begin_year')['user_score']\n",
    "                                 )\n",
    "                            )\n",
    "    print(f'Коэффициент корреляции между оценками пользователей и продажами {x}: {corr_sales_user_score:.2f}')\n",
    "    plt.show()"
   ]
  },
  {
   "cell_type": "markdown",
   "metadata": {},
   "source": [
    "А вот здесь картина намного разнообразнее, коэффициент корреляции Пирсона даже где-то отрицательный, но всё равно очень близкий к нулю, даже не 0,1, как было получено для всего периода по всем платформам. И только у 3DS он 0,2, но и это не высокий показатель.\n",
    "Так что опираться при прогнозировании популярности и продаж на пользовательскую оценку не стоит. Это чисто субъективное мнение, причем, очевидно, только достаточно взрослой части населения, поскольку дети, для которых в том числе пишутся игры, особенно маленькие, вряд ли будут оставлять отзывы на сайтах."
   ]
  },
  {
   "cell_type": "markdown",
   "metadata": {},
   "source": [
    "### Анализ по жанрам\n",
    "\n",
    "Посмотрим на общее распределение игр по жанрам. Что можно сказать о самых прибыльных жанрах? Выделяются ли жанры с высокими и низкими продажами?"
   ]
  },
  {
   "cell_type": "markdown",
   "metadata": {},
   "source": [
    "Как видно из графиков, продаваемость жанров в актуальный период, по большей части, остается достаточно постоянной, всё это время лидируют четыре жанра: Action, Shooter, Sports, Role-Playing. Популярность первого (Action) в актуальном периоде упала сильнее, чем у остальных жанров, и даже стала уступать Shooter в 2016 г.\n",
    "\n",
    "Остальные жанры уступают топ-4 по числу продаж в несколько раз."
   ]
  },
  {
   "cell_type": "code",
   "execution_count": 24,
   "metadata": {
    "scrolled": false
   },
   "outputs": [
    {
     "data": {
      "image/png": "[encoded data removed]",
      "text/plain": [
       "<Figure size 1008x360 with 1 Axes>"
      ]
     },
     "metadata": {
      "needs_background": "light"
     },
     "output_type": "display_data"
    }
   ],
   "source": [
    "\n",
    "genre_actual = data['genre'].unique()    # Создали список уникальных значений жанров.\n",
    "\n",
    "\n",
    "(data.\n",
    " query('genre in @ genre_actual and year_of_release>= @ begin_year').\n",
    " pivot_table(index='year_of_release', \n",
    "             columns='genre', \n",
    "             values='all_sales', \n",
    "             aggfunc='sum'\n",
    "            ).\n",
    " plot(kind='bar', \n",
    "      figsize=(14, 5), \n",
    "      grid=True, \n",
    "      ylim=(0, 130), \n",
    "      title='Объемы продаж по годам и жанрам', \n",
    "      rot=0\n",
    "     )\n",
    ") \n",
    "\n",
    "plt.xlabel('Год релиза')           #  ось X\n",
    "plt.ylabel('Всего продаж, млн')    #  ось Y\n",
    "\n",
    "plt.legend(bbox_to_anchor=(1, 1))  #  Сдвинули легенду \n",
    "plt.show()"
   ]
  },
  {
   "cell_type": "markdown",
   "metadata": {},
   "source": [
    "\n",
    "Как видно из графиков, продаваемость жанров в актуальный период, по большей части, остается достаточно постоянной, всё это время лидируют четыре жанра: Action, Shooter, Sports, Role-Playing. Популярность первого (Action) в актуальном периоде упала сильнее, чем у остальных жанров, и даже стала уступать Shooter в 2016 г. Остальные жанры уступают топ-4 по числу продаж в несколько раз.\n"
   ]
  },
  {
   "cell_type": "code",
   "execution_count": 25,
   "metadata": {},
   "outputs": [
    {
     "data": {
      "image/png": "[encoded data removed]",
      "text/plain": [
       "<Figure size 1008x360 with 1 Axes>"
      ]
     },
     "metadata": {
      "needs_background": "light"
     },
     "output_type": "display_data"
    }
   ],
   "source": [
    "(data.\n",
    " query('genre in @ genre_actual and year_of_release>= @ begin_year').\n",
    " pivot_table(index='year_of_release', \n",
    "             columns='genre', \n",
    "             values='all_sales', \n",
    "             aggfunc='mean'\n",
    "            ).\n",
    " plot(kind='bar', \n",
    "      figsize=(14, 5), \n",
    "      grid=True, \n",
    "      title='Средние объемы продаж по годам и жанрам', \n",
    "      rot=0\n",
    "     )\n",
    ") \n",
    "\n",
    "plt.xlabel('Год релиза')           #  ось X\n",
    "plt.ylabel('Всего продаж, млн')    #  ось Y\n",
    "\n",
    "plt.legend(bbox_to_anchor=(1, 1))  # Сдвинули легенду\n",
    "plt.show()"
   ]
  },
  {
   "cell_type": "markdown",
   "metadata": {},
   "source": [
    "\n",
    "Если посмотреть не общий объем продаж, а медианные (или средние значения - картина практически не меняется), то есть продаваемость каждой конкретной игры в среднем, то да, возможно, что Action делает большие объемы продаж только за счет большего количества игр или большого количества бестселлеров, либо и то, и то вместе. \n",
    "По средним объемам продаж каждой игры абсолютное лидерство держит Shooter, в последний год за стрелялками идет Sports и Role-Playing. А вот популярность одной средне взятой игры Action в актуальном периоде падает год за годом.\n",
    "\n"
   ]
  },
  {
   "cell_type": "markdown",
   "metadata": {},
   "source": [
    "## Портрет пользователя каждого региона\n",
    "Определим характерные для пользователя каждого региона (NA, EU, JP) закономерности."
   ]
  },
  {
   "cell_type": "markdown",
   "metadata": {},
   "source": [
    "\n",
    "### Самые популярные платформы (топ-5). \n",
    "Определим для пользователей каждого региона (NA, EU, JP) самые популярные платформы. \n",
    "\n",
    "Сначала рассмотрим продажи и топ-5 в Северной Америке (NA), затем в Европе и Японии. В каждом регионе ожидается свой набор топ-5 платформ.\n"
   ]
  },
  {
   "cell_type": "code",
   "execution_count": 26,
   "metadata": {
    "scrolled": false
   },
   "outputs": [
    {
     "data": {
      "image/png": "[encoded data removed]",
      "text/plain": [
       "<Figure size 432x288 with 1 Axes>"
      ]
     },
     "metadata": {},
     "output_type": "display_data"
    },
    {
     "data": {
      "image/png": "[encoded data removed]",
      "text/plain": [
       "<Figure size 432x288 with 1 Axes>"
      ]
     },
     "metadata": {},
     "output_type": "display_data"
    },
    {
     "data": {
      "image/png": "[encoded data removed]",
      "text/plain": [
       "<Figure size 432x288 with 1 Axes>"
      ]
     },
     "metadata": {},
     "output_type": "display_data"
    }
   ],
   "source": [
    "platform_top_na = (                                    # NA - Северная Америка\n",
    "                      data[data['year_of_release'] >= begin_year].       # срез - только актуальный период\n",
    "                          groupby('platform').\n",
    "                          agg({'na_sales': 'sum'}).\n",
    "                          sort_values(by='na_sales', ascending=False).\n",
    "                          head(5).                                       # top-5\n",
    "                          index\n",
    "                      ) \n",
    "\n",
    "df_na = (data.\n",
    "         query('platform in @ platform_top_na and year_of_release >= @ begin_year'). # сводная таблица сумм продаж по годам и платформам\n",
    "         pivot_table(index='platform', \n",
    "                     values='na_sales', \n",
    "                     aggfunc='sum'\n",
    "                    )\n",
    "         ) \n",
    "# Строим круговую диаграмму по продажам для Америки.\n",
    "\n",
    "df_na.plot(kind='pie',                  # Круговая диаграмма по столбцу sum\n",
    "           y='na_sales', \n",
    "           legend=\"\", \n",
    "           autopct='%1.1f%%'\n",
    "          ) \n",
    "plt.ylabel('Всего продаж в С.Америке')  # Подписали \n",
    "plt.show()\n",
    "\n",
    "#     Аналогично построим круговые диаграммы продаж для Европы и Японии (EU, JP).\n",
    "\n",
    "platform_top_eu = (                # EU - Европа   - нашли топ-5\n",
    "                      data[data['year_of_release'] >= begin_year].  # срез - только актуальный период\n",
    "                      groupby('platform').\n",
    "                      agg({'eu_sales': 'sum'}).\n",
    "                      sort_values(by='eu_sales', ascending=False).\n",
    "                      head(5).    # top-5\n",
    "                      index  \n",
    "                  ) \n",
    "\n",
    "df_eu = (data.\n",
    "         query('platform in @ platform_top_eu and year_of_release >= @ begin_year'). # сводная таблица сумм продаж по годам и платформам\n",
    "         pivot_table(index='platform', \n",
    "                     values='eu_sales', \n",
    "                     aggfunc='sum'\n",
    "                    )\n",
    "        ) \n",
    "\n",
    "df_eu.plot(kind='pie',              # Круговая диаграмма по столбцу sum\n",
    "           y='eu_sales', \n",
    "           legend=\"\", \n",
    "           autopct='%1.1f%%'\n",
    "          ) \n",
    "plt.ylabel('Всего продаж в Европе') # Подписали \n",
    "plt.show()\n",
    "\n",
    "\n",
    "platform_top_jp = (        # JP - Япония   - нашли топ-5\n",
    "                      data[data['year_of_release'] >= begin_year].  \n",
    "                      groupby('platform').\n",
    "                      agg({'jp_sales': 'sum'}).\n",
    "                      sort_values(by='jp_sales', ascending=False).\n",
    "                      head(5). \n",
    "                      index  \n",
    "                   )\n",
    "\n",
    "df_jp = (data.\n",
    "         query('platform in @ platform_top_jp and year_of_release >= @ begin_year').     \n",
    "         pivot_table(index='platform',  \n",
    "                     values='jp_sales', \n",
    "                     aggfunc='sum')\n",
    "        ) \n",
    "\n",
    "df_jp.plot(kind='pie', \n",
    "           y='jp_sales', \n",
    "           legend=\"\", \n",
    "           autopct='%1.1f%%'\n",
    "          ) \n",
    "\n",
    "plt.ylabel('Всего продаж в Японии') \n",
    "plt.show()"
   ]
  },
  {
   "cell_type": "markdown",
   "metadata": {},
   "source": [
    "В Европе и Америке популярные жанры одинаковые, пропорционально тоже примерно одна картина (только в Америке больше продано игр на Х360, а в Европе на PS4.\n",
    "\n",
    "Зато в Японии и топ-5 отличается - есть WiiU и PSV, но нет XOne и X360. И существенно отличаются пропорции, например, доля 3DS в Европе и Америке - около 1/8 или 1/9, а в Японии - больше половины. Похоже, что японцы больше любят портативные консоли и родной рынок."
   ]
  },
  {
   "cell_type": "markdown",
   "metadata": {},
   "source": [
    "### Самые популярные жанры (топ-5). \n",
    "Посмотрим, есть ли разница в популярных жанрах. Поступим аналогично, построив круговые диаграммы."
   ]
  },
  {
   "cell_type": "code",
   "execution_count": 27,
   "metadata": {
    "scrolled": false
   },
   "outputs": [
    {
     "data": {
      "image/png": "[encoded data removed]",
      "text/plain": [
       "<Figure size 432x288 with 1 Axes>"
      ]
     },
     "metadata": {},
     "output_type": "display_data"
    },
    {
     "data": {
      "image/png": "[encoded data removed]",
      "text/plain": [
       "<Figure size 432x288 with 1 Axes>"
      ]
     },
     "metadata": {},
     "output_type": "display_data"
    },
    {
     "data": {
      "image/png": "[encoded data removed]",
      "text/plain": [
       "<Figure size 432x288 with 1 Axes>"
      ]
     },
     "metadata": {},
     "output_type": "display_data"
    }
   ],
   "source": [
    "# NA - Северная Америка\n",
    "\n",
    "genre_top_na = (data[data['year_of_release'] >= begin_year].  # срез - только актуальный период\n",
    "                groupby('genre').\n",
    "                agg({'na_sales': 'sum'}).\n",
    "                sort_values(by='na_sales', ascending=False).\n",
    "                head(5).  # top-5 \n",
    "                index       \n",
    "               )\n",
    "\n",
    "df_genre_na = (data.query('genre in @ genre_top_na and year_of_release >= @ begin_year'). # сводная таблица \n",
    "               pivot_table(index='genre', \n",
    "                           values='na_sales', \n",
    "                           aggfunc='sum'\n",
    "                          )\n",
    "              ) \n",
    "\n",
    "(df_genre_na.\n",
    "    plot(kind='pie',     # Круговая диаграмма\n",
    "         y='na_sales', \n",
    "         legend=\"\", \n",
    "         startangle=70, \n",
    "         autopct='%1.1f%%'\n",
    "        ) \n",
    ")\n",
    "plt.ylabel('Всего продаж в С.Америке') \n",
    "plt.show()\n",
    "\n",
    "#     Аналогично построим круговые диаграммы продаж для Европы и Японии (EU, JP).\n",
    "\n",
    "# EU - Европа\n",
    "\n",
    "genre_top_eu = (data[data['year_of_release'] >= begin_year].  # срез - только актуальный период\n",
    "                groupby('genre').\n",
    "                agg({'eu_sales': 'sum'}).\n",
    "                sort_values(by='eu_sales', ascending=False).\n",
    "                head(5).\n",
    "                index     \n",
    "               )\n",
    "\n",
    "df_genre_eu = (data.\n",
    "               query('genre in @ genre_top_eu and year_of_release >= @ begin_year'). # сводная таблица \n",
    "               pivot_table(index='genre', \n",
    "                           values='eu_sales', \n",
    "                           aggfunc='sum'\n",
    "                          )\n",
    "              )             \n",
    "(df_genre_eu.\n",
    "     plot(kind='pie',      # Круговая диаграмма\n",
    "          y='eu_sales', \n",
    "          legend=\"\", \n",
    "          startangle=70, \n",
    "          autopct='%1.1f%%'\n",
    "         )  \n",
    ")\n",
    "plt.ylabel('Всего продаж в Европе') # Подписали \n",
    "plt.show()\n",
    "\n",
    "\n",
    "\n",
    "# JP - Япония\n",
    "\n",
    "genre_top_jp = (data[data['year_of_release'] >= begin_year].  # срез - только актуальный период\n",
    "                groupby('genre').\n",
    "                agg({'jp_sales': 'sum'}).\n",
    "                sort_values(by='jp_sales', ascending=False).\n",
    "                head(5).\n",
    "                index      \n",
    "               )\n",
    "df_genre_jp = (data.query('genre in @ genre_top_jp and year_of_release >= @ begin_year'). # сводная таблица \n",
    "               pivot_table(index='genre', \n",
    "                           values='jp_sales', \n",
    "                           aggfunc='sum'\n",
    "                          )  \n",
    "              )     \n",
    "(df_genre_jp.\n",
    "     plot(kind='pie',    # Круговая диаграмма \n",
    "          y='jp_sales', \n",
    "          legend=\"\", \n",
    "          startangle=85, \n",
    "          autopct='%1.1f%%') \n",
    ")\n",
    "plt.ylabel('Всего продаж в Японии') \n",
    "plt.show()"
   ]
  },
  {
   "cell_type": "markdown",
   "metadata": {},
   "source": [
    "И по жанрам Япония очень отличается от Европы и Америки, где картина, практически, идентична.\n",
    "\n",
    "Похожего у Японии только жанр Action - даже доля на рынке почти такая же, как в NA и EU. Так же представлен жанр Role-Playing, но в Японии его доля более чем в три c половиной раза выше. И в Японии в топ-5 жанров входят Fighting, Misc, Simulation против европейско-американских Shooter, Racing, Sports."
   ]
  },
  {
   "cell_type": "markdown",
   "metadata": {},
   "source": [
    "Отличие Японии от других регионов может объясняться многими причинами, начиная от разработанных собственных платформ и игр до свойств национального характера. На эту тему есть несколько интересных статей в Интернете, пересказывать их нет смысла, но наглядно мы это увидели и сами.\n",
    "\n",
    "Найдем долю проданных в Японии копий в сравнении с остальными, чтобы понять, насколько критичны отличия."
   ]
  },
  {
   "cell_type": "code",
   "execution_count": 28,
   "metadata": {
    "scrolled": true
   },
   "outputs": [
    {
     "data": {
      "image/png": "[encoded data removed]",
      "text/plain": [
       "<Figure size 432x288 with 1 Axes>"
      ]
     },
     "metadata": {},
     "output_type": "display_data"
    }
   ],
   "source": [
    "regions=['eu', 'na', 'jp', 'other'] # Задали регионы\n",
    "\n",
    "pies = []  # Создали пустой список с суммами продаж\n",
    "\n",
    "for reg in regions:  # в цикле добавляем в строку сумму продаж в актуальном периоде\n",
    "    column = reg + '_sales'\n",
    "    (pies.\n",
    "     append(\n",
    "         (data.\n",
    "             query('year_of_release >= @ begin_year')[column]\n",
    "         ).sum()\n",
    "            )\n",
    "    )\n",
    "\n",
    "table_pies = pd.Series(pies) # Из полученного списка создаем Series\n",
    "\n",
    "table_pies.index = regions  # Присваиваем индексам значения из regions\n",
    "\n",
    "\n",
    "table_pies.plot(kind='pie', # Круговая диаграмма \n",
    "                y='pies', \n",
    "                legend=\"\", \n",
    "                autopct='%1.1f%%'\n",
    "               ) \n",
    "plt.ylabel('Всего продаж по регионам')\n",
    "plt.show()"
   ]
  },
  {
   "cell_type": "markdown",
   "metadata": {},
   "source": [
    "На круговой диаграмме видно, что доля продаж в Японии от общего числа анализируемых продаж составляет порядка 1/8. А продажи в Сев. Америке и Европе примерно одинаковы и составляют около 3/8."
   ]
  },
  {
   "cell_type": "markdown",
   "metadata": {},
   "source": [
    "### Влияет ли рейтинг ESRB на продажи в отдельном регионе\n"
   ]
  },
  {
   "cell_type": "code",
   "execution_count": 29,
   "metadata": {
    "scrolled": true
   },
   "outputs": [
    {
     "data": {
      "image/png": "[encoded data removed]",
      "text/plain": [
       "<Figure size 1008x360 with 1 Axes>"
      ]
     },
     "metadata": {
      "needs_background": "light"
     },
     "output_type": "display_data"
    }
   ],
   "source": [
    "(\n",
    "    data.\n",
    "    query('year_of_release>= @ begin_year').\n",
    "    pivot_table(index='rating', \n",
    "                values=['na_sales', 'eu_sales', 'jp_sales'], \n",
    "                aggfunc='sum'\n",
    "               ).\n",
    "    plot(kind='bar', \n",
    "         figsize=(14, 5), \n",
    "         grid=True, \n",
    "         title='Средние объемы продаж в зависимости от возрастной категории', \n",
    "         rot=0\n",
    "        )\n",
    ") \n",
    "\n",
    "plt.xlabel('Рейтинги ESRB')     #  ось X\n",
    "plt.ylabel('Всего продаж, млн') #  ось Y\n",
    "plt.show()"
   ]
  },
  {
   "cell_type": "markdown",
   "metadata": {},
   "source": [
    " Достаточно неожиданно в актуальном периоде осталось всего 4 категории, пропали «EC» и «AO». «K-A» переименован с 1998 г в «E». Видимо, «EC» («Для детей младшего возраста») с какого-то года не стали выделять отдельно и включили в «E», а «AO» («Только для взрослых») попало в «M» («Mature»).\n",
    "    \n",
    "Больше всего в Сев. Америке и Европе продается игр категории «M» («Mature» — «От 17 лет»), практически столько же, сколько детских и подростковых: «E» («Everyone») — «Для всех», «E10+» («Everyone 10 and older») — «Для всех старше 10 лет», «T» («Teen») — «Подросткам 13—19 лет».\n",
    "    \n",
    "При этом Япония, вроде бы, и здесь отличилась, показав низкие продажи по всем категориям ESRB, но мы помним, что объемы продаж в ней составляют около трети от продаж в Америке или Европе, значит, дело в чем-то еще. Проверим, все ли игры, продаваемые в Японии, имеют рейтинг ESRB, и какова доля игр без рейтинга.\n"
   ]
  },
  {
   "cell_type": "code",
   "execution_count": 30,
   "metadata": {},
   "outputs": [
    {
     "name": "stdout",
     "output_type": "stream",
     "text": [
      "Количество пропущенных значений рейтинга ESRB по Японии: 942\n",
      "Количество имеющихся значений рейтинга ESRB по Японии:   627\n"
     ]
    }
   ],
   "source": [
    "print('Количество пропущенных значений рейтинга ESRB по Японии:', \n",
    "      (data.\n",
    "       query('(year_of_release >= @ begin_year) and (jp_sales !=0)')['rating'].   # Продажи в 'jp_sales' не равны 0\n",
    "       isna().        # нашли пропуски \n",
    "       sum()          # суммой посчитали их количество\n",
    "      )    \n",
    "     )\n",
    "\n",
    "print('Количество имеющихся значений рейтинга ESRB по Японии:  ', \n",
    "      (data.\n",
    "       query('(year_of_release >= @ begin_year) and (jp_sales !=0)')['rating'].\n",
    "       count()       # посчитали число ячеек без NaN (count() NaN не считает)\n",
    "      )          \n",
    "     )"
   ]
  },
  {
   "cell_type": "markdown",
   "metadata": {},
   "source": [
    "Видим, что рейтинги ESRB среди игр, продаваемых в Японии, имеют всего 2/5 игр от общего числа (в актуальном периоде) - меньше половины. Это значит, что у японцев свои рейтинги и свои критерии. И еще в значительной степени свои игры, с которыми эксперты ESRB даже не работают."
   ]
  },
  {
   "cell_type": "markdown",
   "metadata": {},
   "source": [
    "## Проверка гипотез\n",
    "\n",
    "Подготовим данные для проверки. Сначала удалим все строки с пропущенными значениями в оценке пользователей. Затем посмотрим, есть ли выбросы.\n",
    "\n",
    "Проверим две гипотезы:\n",
    "- средние пользовательские рейтинги платформ Xbox One и PC одинаковые;\n",
    "- средние пользовательские рейтинги жанров Action и Sports разные.\n",
    "\n",
    "Формулировка нулевой гипотезы звучит либо как \"среднее совокупности равно конкретному значению\", либо как \"средние значения совокупностей равны между собой\", то есть всегда используется знак равенства. У нас две выборки, и нам подходит второй вариант. Альтернативная гипотезы, соответственно, будет звучать как \"средние значения двух совокупностей не равны между собой\".\n",
    "Для проверки обеих гипотез используем критерий st.ttest_ind(), так как имеем две выборки."
   ]
  },
  {
   "cell_type": "code",
   "execution_count": 31,
   "metadata": {},
   "outputs": [],
   "source": [
    "data_new = (\n",
    "    data.\n",
    "    query('year_of_release >= @ begin_year').\n",
    "    dropna(subset=['user_score'])                # Удалили строки с NaN в 'user_score'\n",
    ")"
   ]
  },
  {
   "cell_type": "markdown",
   "metadata": {},
   "source": [
    "Посчитаем первый и третий квартили и IQR и найдем пределы, за которыми находятся предполагаемые выбросы. Также просто посмотрим информацию по среднему и медианному значениям столбца 'user_score', нарисуем \"график с усами\"."
   ]
  },
  {
   "cell_type": "code",
   "execution_count": 32,
   "metadata": {},
   "outputs": [
    {
     "name": "stdout",
     "output_type": "stream",
     "text": [
      "Предполагаемые выбросы за пределами: до 3.70 и свыше 10.90\n",
      "count    7590.000000\n",
      "mean        7.125046\n",
      "std         1.500006\n",
      "min         0.000000\n",
      "25%         6.400000\n",
      "50%         7.500000\n",
      "75%         8.200000\n",
      "max         9.700000\n",
      "Name: user_score, dtype: float64\n"
     ]
    },
    {
     "data": {
      "text/plain": [
       "<AxesSubplot:>"
      ]
     },
     "execution_count": 32,
     "metadata": {},
     "output_type": "execute_result"
    },
    {
     "data": {
      "image/png": "[encoded data removed]",
      "text/plain": [
       "<Figure size 216x576 with 1 Axes>"
      ]
     },
     "metadata": {
      "needs_background": "light"
     },
     "output_type": "display_data"
    }
   ],
   "source": [
    "q1 = data['user_score'].quantile(0.25)  # Первый квартиль (квантиль = 0,25)\n",
    "q3 = data['user_score'].quantile(0.75)  # Третий квартиль (квантиль = 0,75)\n",
    "\n",
    "print(f'Предполагаемые выбросы за пределами: до {q1 - 1.5 * (q3 - q1):.2f} и свыше {q3 + 1.5 * (q3 - q1):.2f}')\n",
    "print(data['user_score'].describe())\n",
    "\n",
    "data.boxplot('user_score', figsize=(3, 8))"
   ]
  },
  {
   "cell_type": "markdown",
   "metadata": {},
   "source": [
    "Получается, нам надо удалить все низкие оценки, так как t-тесты чувствительны к выбросам, то есть хорошо работают при примерно равных среднем и медиане. Но удаление низких оценок (до 3,7) - это искажение общей картины (не могут же игры иметь только положительные оценки). Значит, наоборот, имеем значительное количество завышенных оценок, сказывающихся на медиане. Но они все входят в предел q3+1,5iqr. Поэтому оставим данные как есть. Средняя оценка, с которой работает t-тест, в данном случае точнее, чем медианная."
   ]
  },
  {
   "cell_type": "markdown",
   "metadata": {},
   "source": [
    "###  Средние пользовательские рейтинги платформ Xbox One и PC одинаковые.\n",
    "\n",
    "Нулевая гипотеза: средние пользовательские рейтинги платформ Xbox One и PC одинаковы (средние двух выборок равны между собой); альтернативная: средний пользовательский рейтинг платформы Xbox One отличается от рейтинга платформы PC.\n",
    "Зададим пороговое значение уровня статистической значимости alpha = 0,05 (ошибка в 5 случаев из 100)."
   ]
  },
  {
   "cell_type": "code",
   "execution_count": 33,
   "metadata": {},
   "outputs": [
    {
     "name": "stdout",
     "output_type": "stream",
     "text": [
      "p-значение: 0.5535080500643661\n",
      "Не получилось отвергнуть нулевую гипотезу\n"
     ]
    }
   ],
   "source": [
    "alpha = 0.05 #  Задали критический уровень статистической значимости\n",
    "\n",
    "results = (st.ttest_ind(\n",
    "    data_new[data_new['platform'] == 'XOne']['user_score'],   # data_new теперь содержит данные только актуального периода\n",
    "    data_new[data_new['platform'] == 'PC']['user_score'])\n",
    "          ) \n",
    "\n",
    "print('p-значение:', results.pvalue)\n",
    "\n",
    "if results.pvalue < alpha:\n",
    "    print(\"Отвергаем нулевую гипотезу\")\n",
    "else:\n",
    "    print(\"Не получилось отвергнуть нулевую гипотезу\")"
   ]
  },
  {
   "cell_type": "markdown",
   "metadata": {},
   "source": [
    "Нулевую гипотезу даже при пороге 0,05 отвергнуть не удалось, так что, вероятнее всего, средние пользовательские рейтинги XOne и PC примерно равны между собой. "
   ]
  },
  {
   "cell_type": "markdown",
   "metadata": {},
   "source": [
    "###  Средние пользовательские рейтинги жанров Action и Sports разные.\n",
    "\n",
    "Нулевая гипотеза: средние пользовательские рейтинги жанров Action и Sports одинаковы (средние двух выборок равны между собой); альтернативная: средний пользовательский рейтинг жанра Action отличается от рейтинга жанра Sports.\n",
    "Зададим пороговое значение уровня статистической значимости alpha = 0,01."
   ]
  },
  {
   "cell_type": "code",
   "execution_count": 34,
   "metadata": {},
   "outputs": [
    {
     "name": "stdout",
     "output_type": "stream",
     "text": [
      "p-значение: 3.7163089460934874e-26\n",
      "Отвергаем нулевую гипотезу\n"
     ]
    }
   ],
   "source": [
    "alpha = 0.01 #  Задали критический уровень статистической значимости\n",
    "\n",
    "results = (st.ttest_ind(\n",
    "    data_new[data_new['genre'] == 'Action']['user_score'], \n",
    "    data_new[data_new['genre'] == 'Sports']['user_score'])\n",
    "          ) \n",
    "\n",
    "print('p-значение:', results.pvalue)\n",
    "\n",
    "if results.pvalue < alpha:\n",
    "    print(\"Отвергаем нулевую гипотезу\")\n",
    "else:\n",
    "    print(\"Не получилось отвергнуть нулевую гипотезу\")"
   ]
  },
  {
   "cell_type": "markdown",
   "metadata": {},
   "source": [
    "Значит, скорее всего, верна альтернативная гипотеза: средние пользовательские рейтинги жанров Action и Sports отличаются."
   ]
  },
  {
   "cell_type": "markdown",
   "metadata": {},
   "source": [
    "## Общий вывод \n",
    "Попробуем выявить определяющие успешность игры закономерности.\n",
    "Данные по JP, как выяснилось, очень специфичны и подходят для прогнозов только в этой стране. Учитывая, что уровень продаж в Японии составляет только около 1/8 от остальных проанализированных, составим прогноз, опирающийся на данные по Европе и Сев. Америке. Такой прогноз будет справедлив и в целом, так как их суммарная доля на рынке подавляющая, а предпочтения схожи.\n",
    "\n",
    "Итак, успешная в актуальном периоде игра - это игра жанра Action или Shooter или, возможно, Sports или Role-Playing на платформе PS4, PS3 или X360.\n",
    "\n",
    "Для регионов по отдельности попробуем спрогнозировать \"успешность\" игры:\n",
    "- Америка: жанр Action или Shooter, платформа Х360, PS4 или PS3, категория \"М\" рейтинга ESRB. \n",
    "- Европа:   жанр Action или Shooter, платформа PS4, PS3 или Х360, категория \"М\" рейтинга ESRB.\n",
    "- Япония:  жанр Role-Playing или Action, платформа 3DS, возможно, PS3, игра без рейтинга ESRB (собственного производства)."
   ]
  },
  {
   "cell_type": "code",
   "execution_count": null,
   "metadata": {},
   "outputs": [],
   "source": []
  }
 ],
 "metadata": {
  "ExecuteTimeLog": [
   {
    "duration": 948,
    "start_time": "2022-01-01T19:09:10.541Z"
   },
   {
    "duration": 71,
    "start_time": "2022-01-01T19:11:39.157Z"
   },
   {
    "duration": 71,
    "start_time": "2022-01-01T19:26:22.108Z"
   },
   {
    "duration": 602,
    "start_time": "2022-01-02T08:30:32.215Z"
   },
   {
    "duration": 230,
    "start_time": "2022-01-02T08:30:32.819Z"
   },
   {
    "duration": 175,
    "start_time": "2022-01-02T08:30:47.544Z"
   },
   {
    "duration": 170,
    "start_time": "2022-01-02T08:31:04.188Z"
   },
   {
    "duration": 175,
    "start_time": "2022-01-02T08:33:16.323Z"
   },
   {
    "duration": 4,
    "start_time": "2022-01-02T08:34:33.026Z"
   },
   {
    "duration": 61,
    "start_time": "2022-01-02T08:35:42.349Z"
   },
   {
    "duration": 57,
    "start_time": "2022-01-02T08:35:49.658Z"
   },
   {
    "duration": 64,
    "start_time": "2022-01-02T08:35:59.726Z"
   },
   {
    "duration": 5,
    "start_time": "2022-01-02T08:36:05.402Z"
   },
   {
    "duration": 2,
    "start_time": "2022-01-02T08:36:46.386Z"
   },
   {
    "duration": 4,
    "start_time": "2022-01-02T08:37:12.915Z"
   },
   {
    "duration": 4,
    "start_time": "2022-01-02T08:37:27.802Z"
   },
   {
    "duration": 4,
    "start_time": "2022-01-02T08:37:43.122Z"
   },
   {
    "duration": 165,
    "start_time": "2022-01-02T08:43:36.803Z"
   },
   {
    "duration": 224,
    "start_time": "2022-01-02T08:44:15.690Z"
   },
   {
    "duration": 22,
    "start_time": "2022-01-02T08:47:13.465Z"
   },
   {
    "duration": 63,
    "start_time": "2022-01-02T08:50:00.817Z"
   },
   {
    "duration": 21,
    "start_time": "2022-01-02T08:50:21.553Z"
   },
   {
    "duration": 62,
    "start_time": "2022-01-02T09:01:31.156Z"
   },
   {
    "duration": 4322,
    "start_time": "2022-01-02T09:10:46.606Z"
   },
   {
    "duration": 315,
    "start_time": "2022-01-02T09:11:17.143Z"
   },
   {
    "duration": 168,
    "start_time": "2022-01-02T09:11:27.098Z"
   },
   {
    "duration": 595,
    "start_time": "2022-01-02T09:11:39.560Z"
   },
   {
    "duration": 20,
    "start_time": "2022-01-02T09:11:47.570Z"
   },
   {
    "duration": 202,
    "start_time": "2022-01-02T09:11:50.955Z"
   },
   {
    "duration": 177,
    "start_time": "2022-01-02T09:12:24.444Z"
   },
   {
    "duration": 175,
    "start_time": "2022-01-02T09:13:02.131Z"
   },
   {
    "duration": 196,
    "start_time": "2022-01-02T09:13:26.120Z"
   },
   {
    "duration": 7,
    "start_time": "2022-01-02T09:37:22.857Z"
   },
   {
    "duration": 570,
    "start_time": "2022-01-02T09:58:58.450Z"
   },
   {
    "duration": 22,
    "start_time": "2022-01-02T09:58:59.022Z"
   },
   {
    "duration": 6,
    "start_time": "2022-01-02T09:58:59.045Z"
   },
   {
    "duration": 7,
    "start_time": "2022-01-02T09:59:44.922Z"
   },
   {
    "duration": 247,
    "start_time": "2022-01-02T10:00:33.049Z"
   },
   {
    "duration": 183,
    "start_time": "2022-01-02T10:02:13.738Z"
   },
   {
    "duration": 6,
    "start_time": "2022-01-02T10:02:32.363Z"
   },
   {
    "duration": 5,
    "start_time": "2022-01-02T10:06:21.364Z"
   },
   {
    "duration": 6,
    "start_time": "2022-01-02T10:07:16.338Z"
   },
   {
    "duration": 6,
    "start_time": "2022-01-02T10:07:33.274Z"
   },
   {
    "duration": 22,
    "start_time": "2022-01-02T10:08:43.154Z"
   },
   {
    "duration": 166,
    "start_time": "2022-01-02T10:10:17.895Z"
   },
   {
    "duration": 10,
    "start_time": "2022-01-02T10:10:29.201Z"
   },
   {
    "duration": 608,
    "start_time": "2022-01-02T10:10:49.428Z"
   },
   {
    "duration": 23,
    "start_time": "2022-01-02T10:10:50.038Z"
   },
   {
    "duration": 29,
    "start_time": "2022-01-02T10:10:50.063Z"
   },
   {
    "duration": 9,
    "start_time": "2022-01-02T10:10:54.227Z"
   },
   {
    "duration": 8,
    "start_time": "2022-01-02T10:11:46.774Z"
   },
   {
    "duration": 582,
    "start_time": "2022-01-02T10:12:19.439Z"
   },
   {
    "duration": 23,
    "start_time": "2022-01-02T10:12:20.023Z"
   },
   {
    "duration": 9,
    "start_time": "2022-01-02T10:12:31.820Z"
   },
   {
    "duration": 230,
    "start_time": "2022-01-02T10:12:43.988Z"
   },
   {
    "duration": 7,
    "start_time": "2022-01-02T10:13:36.830Z"
   },
   {
    "duration": 9,
    "start_time": "2022-01-02T10:16:18.820Z"
   },
   {
    "duration": 9,
    "start_time": "2022-01-02T10:16:37.838Z"
   },
   {
    "duration": 30,
    "start_time": "2022-01-02T10:17:40.839Z"
   },
   {
    "duration": 192,
    "start_time": "2022-01-02T10:18:19.245Z"
   },
   {
    "duration": 26,
    "start_time": "2022-01-02T10:18:26.420Z"
   },
   {
    "duration": 7,
    "start_time": "2022-01-02T10:22:13.341Z"
   },
   {
    "duration": 12,
    "start_time": "2022-01-02T10:22:36.083Z"
   },
   {
    "duration": 15,
    "start_time": "2022-01-02T10:25:32.748Z"
   },
   {
    "duration": 13,
    "start_time": "2022-01-02T10:25:50.124Z"
   },
   {
    "duration": 14,
    "start_time": "2022-01-02T10:26:04.284Z"
   },
   {
    "duration": 11,
    "start_time": "2022-01-02T10:28:55.140Z"
   },
   {
    "duration": 6,
    "start_time": "2022-01-02T10:47:52.463Z"
   },
   {
    "duration": 8,
    "start_time": "2022-01-02T10:49:34.609Z"
   },
   {
    "duration": 14,
    "start_time": "2022-01-02T10:50:37.659Z"
   },
   {
    "duration": 8,
    "start_time": "2022-01-02T10:51:27.884Z"
   },
   {
    "duration": 22,
    "start_time": "2022-01-02T11:02:03.690Z"
   },
   {
    "duration": 17,
    "start_time": "2022-01-02T11:03:17.267Z"
   },
   {
    "duration": 6,
    "start_time": "2022-01-02T11:07:26.235Z"
   },
   {
    "duration": 6,
    "start_time": "2022-01-02T11:07:57.377Z"
   },
   {
    "duration": 7,
    "start_time": "2022-01-02T11:08:07.424Z"
   },
   {
    "duration": 18,
    "start_time": "2022-01-02T11:09:30.537Z"
   },
   {
    "duration": 176,
    "start_time": "2022-01-02T11:13:27.426Z"
   },
   {
    "duration": 6,
    "start_time": "2022-01-02T11:13:38.921Z"
   },
   {
    "duration": 7,
    "start_time": "2022-01-02T11:13:55.944Z"
   },
   {
    "duration": 8,
    "start_time": "2022-01-02T11:14:47.449Z"
   },
   {
    "duration": 8,
    "start_time": "2022-01-02T11:15:15.296Z"
   },
   {
    "duration": 8,
    "start_time": "2022-01-02T11:15:19.608Z"
   },
   {
    "duration": 8,
    "start_time": "2022-01-02T11:17:32.425Z"
   },
   {
    "duration": 8,
    "start_time": "2022-01-02T11:18:51.555Z"
   },
   {
    "duration": 607,
    "start_time": "2022-01-02T11:19:13.212Z"
   },
   {
    "duration": 22,
    "start_time": "2022-01-02T11:19:13.821Z"
   },
   {
    "duration": 15,
    "start_time": "2022-01-02T11:19:13.846Z"
   },
   {
    "duration": 33,
    "start_time": "2022-01-02T11:19:13.863Z"
   },
   {
    "duration": 8,
    "start_time": "2022-01-02T11:19:13.898Z"
   },
   {
    "duration": 5,
    "start_time": "2022-01-02T11:19:13.908Z"
   },
   {
    "duration": 15,
    "start_time": "2022-01-02T11:19:13.915Z"
   },
   {
    "duration": 8,
    "start_time": "2022-01-02T11:19:13.932Z"
   },
   {
    "duration": 756,
    "start_time": "2022-01-02T11:19:51.706Z"
   },
   {
    "duration": 11,
    "start_time": "2022-01-02T11:20:18.769Z"
   },
   {
    "duration": 6,
    "start_time": "2022-01-02T11:20:56.243Z"
   },
   {
    "duration": 4,
    "start_time": "2022-01-02T11:23:52.375Z"
   },
   {
    "duration": 6,
    "start_time": "2022-01-02T11:41:38.988Z"
   },
   {
    "duration": 835,
    "start_time": "2022-01-02T16:50:24.583Z"
   },
   {
    "duration": 31,
    "start_time": "2022-01-02T16:50:25.422Z"
   },
   {
    "duration": 21,
    "start_time": "2022-01-02T16:50:25.456Z"
   },
   {
    "duration": 41,
    "start_time": "2022-01-02T16:50:25.481Z"
   },
   {
    "duration": 13,
    "start_time": "2022-01-02T16:50:25.525Z"
   },
   {
    "duration": 10,
    "start_time": "2022-01-02T16:50:25.541Z"
   },
   {
    "duration": 24,
    "start_time": "2022-01-02T16:50:25.554Z"
   },
   {
    "duration": 10,
    "start_time": "2022-01-02T16:50:25.624Z"
   },
   {
    "duration": 9,
    "start_time": "2022-01-02T16:50:25.637Z"
   },
   {
    "duration": 12,
    "start_time": "2022-01-02T16:50:25.648Z"
   },
   {
    "duration": 1046,
    "start_time": "2022-01-02T16:52:45.388Z"
   },
   {
    "duration": 542,
    "start_time": "2022-01-02T16:53:43.844Z"
   },
   {
    "duration": 31,
    "start_time": "2022-01-02T16:53:51.497Z"
   },
   {
    "duration": 21,
    "start_time": "2022-01-02T16:53:51.531Z"
   },
   {
    "duration": 10,
    "start_time": "2022-01-02T16:53:51.555Z"
   },
   {
    "duration": 11,
    "start_time": "2022-01-02T16:53:51.567Z"
   },
   {
    "duration": 44,
    "start_time": "2022-01-02T16:53:51.581Z"
   },
   {
    "duration": 24,
    "start_time": "2022-01-02T16:53:51.627Z"
   },
   {
    "duration": 8,
    "start_time": "2022-01-02T16:53:51.654Z"
   },
   {
    "duration": 8,
    "start_time": "2022-01-02T16:53:51.664Z"
   },
   {
    "duration": 6,
    "start_time": "2022-01-02T16:53:51.675Z"
   },
   {
    "duration": 595,
    "start_time": "2022-01-02T16:53:51.684Z"
   },
   {
    "duration": 570,
    "start_time": "2022-01-02T16:54:06.303Z"
   },
   {
    "duration": 633,
    "start_time": "2022-01-02T16:54:49.815Z"
   },
   {
    "duration": 1117,
    "start_time": "2022-01-02T16:55:06.152Z"
   },
   {
    "duration": 932,
    "start_time": "2022-01-02T16:55:15.304Z"
   },
   {
    "duration": 874,
    "start_time": "2022-01-02T16:55:46.631Z"
   },
   {
    "duration": 479,
    "start_time": "2022-01-02T17:07:32.248Z"
   },
   {
    "duration": 442,
    "start_time": "2022-01-02T17:08:17.533Z"
   },
   {
    "duration": 319,
    "start_time": "2022-01-02T17:08:37.614Z"
   },
   {
    "duration": 450,
    "start_time": "2022-01-02T17:08:48.573Z"
   },
   {
    "duration": 26,
    "start_time": "2022-01-02T17:11:43.696Z"
   },
   {
    "duration": 6901,
    "start_time": "2022-01-02T17:12:50.580Z"
   },
   {
    "duration": 7217,
    "start_time": "2022-01-02T17:13:34.699Z"
   },
   {
    "duration": 344,
    "start_time": "2022-01-02T17:18:29.228Z"
   },
   {
    "duration": 7,
    "start_time": "2022-01-02T17:23:37.754Z"
   },
   {
    "duration": 8,
    "start_time": "2022-01-02T17:25:15.987Z"
   },
   {
    "duration": 486,
    "start_time": "2022-01-02T17:38:59.443Z"
   },
   {
    "duration": 1002,
    "start_time": "2022-01-02T17:41:39.121Z"
   },
   {
    "duration": 568,
    "start_time": "2022-01-02T17:42:03.583Z"
   },
   {
    "duration": 473,
    "start_time": "2022-01-02T17:44:44.872Z"
   },
   {
    "duration": 480,
    "start_time": "2022-01-02T17:47:24.601Z"
   },
   {
    "duration": 511,
    "start_time": "2022-01-02T17:51:24.632Z"
   },
   {
    "duration": 455,
    "start_time": "2022-01-02T17:56:03.724Z"
   },
   {
    "duration": 483,
    "start_time": "2022-01-02T17:56:20.040Z"
   },
   {
    "duration": 471,
    "start_time": "2022-01-02T17:59:00.674Z"
   },
   {
    "duration": 463,
    "start_time": "2022-01-02T17:59:12.393Z"
   },
   {
    "duration": 478,
    "start_time": "2022-01-02T18:08:08.470Z"
   },
   {
    "duration": 94,
    "start_time": "2022-01-02T20:34:51.723Z"
   },
   {
    "duration": 98,
    "start_time": "2022-01-02T20:35:24.253Z"
   },
   {
    "duration": 7472,
    "start_time": "2022-01-02T20:35:55.816Z"
   },
   {
    "duration": 7533,
    "start_time": "2022-01-02T20:36:13.231Z"
   },
   {
    "duration": 1281,
    "start_time": "2022-01-02T20:36:44.853Z"
   },
   {
    "duration": 31,
    "start_time": "2022-01-02T20:36:46.137Z"
   },
   {
    "duration": 20,
    "start_time": "2022-01-02T20:36:46.171Z"
   },
   {
    "duration": 10,
    "start_time": "2022-01-02T20:36:46.222Z"
   },
   {
    "duration": 13,
    "start_time": "2022-01-02T20:36:46.234Z"
   },
   {
    "duration": 7,
    "start_time": "2022-01-02T20:36:46.249Z"
   },
   {
    "duration": 25,
    "start_time": "2022-01-02T20:36:46.259Z"
   },
   {
    "duration": 39,
    "start_time": "2022-01-02T20:36:46.287Z"
   },
   {
    "duration": 8,
    "start_time": "2022-01-02T20:36:46.329Z"
   },
   {
    "duration": 10,
    "start_time": "2022-01-02T20:36:46.339Z"
   },
   {
    "duration": 660,
    "start_time": "2022-01-02T20:36:46.351Z"
   },
   {
    "duration": 490,
    "start_time": "2022-01-02T20:36:47.013Z"
   },
   {
    "duration": 7117,
    "start_time": "2022-01-02T20:36:47.505Z"
   },
   {
    "duration": 21,
    "start_time": "2022-01-02T20:38:55.852Z"
   },
   {
    "duration": 334,
    "start_time": "2022-01-02T20:40:05.757Z"
   },
   {
    "duration": 320,
    "start_time": "2022-01-02T20:40:51.789Z"
   },
   {
    "duration": 402,
    "start_time": "2022-01-02T20:41:32.325Z"
   },
   {
    "duration": 13,
    "start_time": "2022-01-02T20:49:54.686Z"
   },
   {
    "duration": 12,
    "start_time": "2022-01-02T20:52:20.058Z"
   },
   {
    "duration": 9,
    "start_time": "2022-01-02T20:52:59.209Z"
   },
   {
    "duration": 9,
    "start_time": "2022-01-02T20:54:03.634Z"
   },
   {
    "duration": 24,
    "start_time": "2022-01-02T20:56:37.441Z"
   },
   {
    "duration": 655,
    "start_time": "2022-01-02T20:57:03.457Z"
   },
   {
    "duration": 1427,
    "start_time": "2022-01-02T21:02:11.320Z"
   },
   {
    "duration": 32,
    "start_time": "2022-01-02T21:02:12.749Z"
   },
   {
    "duration": 39,
    "start_time": "2022-01-02T21:02:12.784Z"
   },
   {
    "duration": 10,
    "start_time": "2022-01-02T21:02:12.825Z"
   },
   {
    "duration": 10,
    "start_time": "2022-01-02T21:02:12.837Z"
   },
   {
    "duration": 11,
    "start_time": "2022-01-02T21:02:12.849Z"
   },
   {
    "duration": 70,
    "start_time": "2022-01-02T21:02:12.862Z"
   },
   {
    "duration": 12,
    "start_time": "2022-01-02T21:02:12.935Z"
   },
   {
    "duration": 5,
    "start_time": "2022-01-02T21:02:12.952Z"
   },
   {
    "duration": 10,
    "start_time": "2022-01-02T21:02:12.960Z"
   },
   {
    "duration": 69,
    "start_time": "2022-01-02T21:02:12.972Z"
   },
   {
    "duration": 753,
    "start_time": "2022-01-02T21:02:13.044Z"
   },
   {
    "duration": 516,
    "start_time": "2022-01-02T21:02:13.800Z"
   },
   {
    "duration": 596,
    "start_time": "2022-01-02T21:02:14.324Z"
   },
   {
    "duration": 496,
    "start_time": "2022-01-02T21:03:11.400Z"
   },
   {
    "duration": 501,
    "start_time": "2022-01-02T21:03:51.706Z"
   },
   {
    "duration": 334,
    "start_time": "2022-01-02T21:04:24.632Z"
   },
   {
    "duration": 23,
    "start_time": "2022-01-02T21:04:39.405Z"
   },
   {
    "duration": 21,
    "start_time": "2022-01-02T21:04:55.175Z"
   },
   {
    "duration": 23,
    "start_time": "2022-01-02T21:06:29.441Z"
   },
   {
    "duration": 101,
    "start_time": "2022-01-02T21:08:32.299Z"
   },
   {
    "duration": 306,
    "start_time": "2022-01-02T21:08:42.546Z"
   },
   {
    "duration": 308,
    "start_time": "2022-01-02T21:09:47.245Z"
   },
   {
    "duration": 1383,
    "start_time": "2022-01-02T21:10:10.867Z"
   },
   {
    "duration": 32,
    "start_time": "2022-01-02T21:10:12.253Z"
   },
   {
    "duration": 35,
    "start_time": "2022-01-02T21:10:12.288Z"
   },
   {
    "duration": 10,
    "start_time": "2022-01-02T21:10:12.326Z"
   },
   {
    "duration": 9,
    "start_time": "2022-01-02T21:10:12.339Z"
   },
   {
    "duration": 8,
    "start_time": "2022-01-02T21:10:12.351Z"
   },
   {
    "duration": 62,
    "start_time": "2022-01-02T21:10:12.361Z"
   },
   {
    "duration": 9,
    "start_time": "2022-01-02T21:10:12.425Z"
   },
   {
    "duration": 6,
    "start_time": "2022-01-02T21:10:12.438Z"
   },
   {
    "duration": 21,
    "start_time": "2022-01-02T21:10:12.446Z"
   },
   {
    "duration": 23,
    "start_time": "2022-01-02T21:10:12.469Z"
   },
   {
    "duration": 666,
    "start_time": "2022-01-02T21:10:12.494Z"
   },
   {
    "duration": 561,
    "start_time": "2022-01-02T21:10:13.163Z"
   },
   {
    "duration": 425,
    "start_time": "2022-01-02T21:10:13.726Z"
   },
   {
    "duration": 26,
    "start_time": "2022-01-02T21:11:37.568Z"
   },
   {
    "duration": 28,
    "start_time": "2022-01-02T21:12:34.597Z"
   },
   {
    "duration": 25,
    "start_time": "2022-01-02T21:13:23.400Z"
   },
   {
    "duration": 26,
    "start_time": "2022-01-02T21:13:44.581Z"
   },
   {
    "duration": 21,
    "start_time": "2022-01-02T21:13:51.295Z"
   },
   {
    "duration": 22,
    "start_time": "2022-01-02T21:14:09.319Z"
   },
   {
    "duration": 22,
    "start_time": "2022-01-02T21:21:02.882Z"
   },
   {
    "duration": 1370,
    "start_time": "2022-01-02T21:23:12.789Z"
   },
   {
    "duration": 34,
    "start_time": "2022-01-02T21:23:14.162Z"
   },
   {
    "duration": 41,
    "start_time": "2022-01-02T21:23:14.200Z"
   },
   {
    "duration": 10,
    "start_time": "2022-01-02T21:23:14.244Z"
   },
   {
    "duration": 9,
    "start_time": "2022-01-02T21:23:14.256Z"
   },
   {
    "duration": 14,
    "start_time": "2022-01-02T21:23:14.267Z"
   },
   {
    "duration": 61,
    "start_time": "2022-01-02T21:23:14.283Z"
   },
   {
    "duration": 8,
    "start_time": "2022-01-02T21:23:14.347Z"
   },
   {
    "duration": 11,
    "start_time": "2022-01-02T21:23:14.359Z"
   },
   {
    "duration": 12,
    "start_time": "2022-01-02T21:23:14.373Z"
   },
   {
    "duration": 54,
    "start_time": "2022-01-02T21:23:14.387Z"
   },
   {
    "duration": 660,
    "start_time": "2022-01-02T21:23:14.444Z"
   },
   {
    "duration": 506,
    "start_time": "2022-01-02T21:23:15.106Z"
   },
   {
    "duration": 27,
    "start_time": "2022-01-02T21:23:15.614Z"
   },
   {
    "duration": 1175,
    "start_time": "2022-01-03T08:04:58.953Z"
   },
   {
    "duration": 24,
    "start_time": "2022-01-03T08:05:00.130Z"
   },
   {
    "duration": 15,
    "start_time": "2022-01-03T08:05:00.160Z"
   },
   {
    "duration": 15,
    "start_time": "2022-01-03T08:05:00.177Z"
   },
   {
    "duration": 13,
    "start_time": "2022-01-03T08:05:00.194Z"
   },
   {
    "duration": 20,
    "start_time": "2022-01-03T08:05:00.209Z"
   },
   {
    "duration": 28,
    "start_time": "2022-01-03T08:05:00.230Z"
   },
   {
    "duration": 14,
    "start_time": "2022-01-03T08:05:00.261Z"
   },
   {
    "duration": 9,
    "start_time": "2022-01-03T08:05:00.277Z"
   },
   {
    "duration": 19,
    "start_time": "2022-01-03T08:05:00.288Z"
   },
   {
    "duration": 22,
    "start_time": "2022-01-03T08:05:00.308Z"
   },
   {
    "duration": 400,
    "start_time": "2022-01-03T08:05:00.332Z"
   },
   {
    "duration": 336,
    "start_time": "2022-01-03T08:05:00.734Z"
   },
   {
    "duration": 16,
    "start_time": "2022-01-03T08:05:01.072Z"
   },
   {
    "duration": 349,
    "start_time": "2022-01-03T08:05:01.090Z"
   },
   {
    "duration": 18,
    "start_time": "2022-01-03T08:05:12.437Z"
   },
   {
    "duration": 20,
    "start_time": "2022-01-03T08:07:59.531Z"
   },
   {
    "duration": 22,
    "start_time": "2022-01-03T08:10:09.450Z"
   },
   {
    "duration": 267,
    "start_time": "2022-01-03T08:18:34.504Z"
   },
   {
    "duration": 306,
    "start_time": "2022-01-03T08:19:13.724Z"
   },
   {
    "duration": 292,
    "start_time": "2022-01-03T08:20:29.184Z"
   },
   {
    "duration": 313,
    "start_time": "2022-01-03T08:21:09.023Z"
   },
   {
    "duration": 81,
    "start_time": "2022-01-03T08:30:13.787Z"
   },
   {
    "duration": 1180,
    "start_time": "2022-01-03T08:30:56.034Z"
   },
   {
    "duration": 22,
    "start_time": "2022-01-03T08:30:57.216Z"
   },
   {
    "duration": 23,
    "start_time": "2022-01-03T08:30:57.241Z"
   },
   {
    "duration": 9,
    "start_time": "2022-01-03T08:30:57.266Z"
   },
   {
    "duration": 7,
    "start_time": "2022-01-03T08:30:57.277Z"
   },
   {
    "duration": 7,
    "start_time": "2022-01-03T08:30:57.285Z"
   },
   {
    "duration": 17,
    "start_time": "2022-01-03T08:30:57.293Z"
   },
   {
    "duration": 8,
    "start_time": "2022-01-03T08:30:57.312Z"
   },
   {
    "duration": 43,
    "start_time": "2022-01-03T08:30:57.322Z"
   },
   {
    "duration": 10,
    "start_time": "2022-01-03T08:30:57.367Z"
   },
   {
    "duration": 15,
    "start_time": "2022-01-03T08:30:57.378Z"
   },
   {
    "duration": 426,
    "start_time": "2022-01-03T08:30:57.395Z"
   },
   {
    "duration": 324,
    "start_time": "2022-01-03T08:30:57.822Z"
   },
   {
    "duration": 20,
    "start_time": "2022-01-03T08:30:58.147Z"
   },
   {
    "duration": 89,
    "start_time": "2022-01-03T08:30:58.169Z"
   },
   {
    "duration": 82,
    "start_time": "2022-01-03T08:31:28.238Z"
   },
   {
    "duration": 84,
    "start_time": "2022-01-03T08:31:44.182Z"
   },
   {
    "duration": 87,
    "start_time": "2022-01-03T08:33:00.352Z"
   },
   {
    "duration": 103,
    "start_time": "2022-01-03T08:33:22.341Z"
   },
   {
    "duration": 90,
    "start_time": "2022-01-03T08:34:37.326Z"
   },
   {
    "duration": 78,
    "start_time": "2022-01-03T08:34:44.093Z"
   },
   {
    "duration": 88,
    "start_time": "2022-01-03T08:35:28.885Z"
   },
   {
    "duration": 333,
    "start_time": "2022-01-03T08:35:57.976Z"
   },
   {
    "duration": 1166,
    "start_time": "2022-01-03T08:39:32.236Z"
   },
   {
    "duration": 21,
    "start_time": "2022-01-03T08:39:33.403Z"
   },
   {
    "duration": 13,
    "start_time": "2022-01-03T08:39:33.426Z"
   },
   {
    "duration": 20,
    "start_time": "2022-01-03T08:39:33.440Z"
   },
   {
    "duration": 6,
    "start_time": "2022-01-03T08:39:33.462Z"
   },
   {
    "duration": 10,
    "start_time": "2022-01-03T08:39:33.470Z"
   },
   {
    "duration": 15,
    "start_time": "2022-01-03T08:39:33.482Z"
   },
   {
    "duration": 6,
    "start_time": "2022-01-03T08:39:33.499Z"
   },
   {
    "duration": 5,
    "start_time": "2022-01-03T08:39:33.507Z"
   },
   {
    "duration": 9,
    "start_time": "2022-01-03T08:39:33.513Z"
   },
   {
    "duration": 45,
    "start_time": "2022-01-03T08:39:33.524Z"
   },
   {
    "duration": 426,
    "start_time": "2022-01-03T08:39:33.571Z"
   },
   {
    "duration": 322,
    "start_time": "2022-01-03T08:39:33.998Z"
   },
   {
    "duration": 15,
    "start_time": "2022-01-03T08:39:34.321Z"
   },
   {
    "duration": 305,
    "start_time": "2022-01-03T08:39:34.337Z"
   },
   {
    "duration": 374,
    "start_time": "2022-01-03T08:40:22.906Z"
   },
   {
    "duration": 297,
    "start_time": "2022-01-03T08:40:47.886Z"
   },
   {
    "duration": 318,
    "start_time": "2022-01-03T08:44:12.349Z"
   },
   {
    "duration": 5,
    "start_time": "2022-01-03T08:50:34.221Z"
   },
   {
    "duration": 15,
    "start_time": "2022-01-03T08:51:59.092Z"
   },
   {
    "duration": 15,
    "start_time": "2022-01-03T08:54:05.471Z"
   },
   {
    "duration": 318,
    "start_time": "2022-01-03T08:55:38.469Z"
   },
   {
    "duration": 268,
    "start_time": "2022-01-03T08:59:18.153Z"
   },
   {
    "duration": 302,
    "start_time": "2022-01-03T08:59:26.491Z"
   },
   {
    "duration": 92,
    "start_time": "2022-01-03T09:00:11.892Z"
   },
   {
    "duration": 299,
    "start_time": "2022-01-03T09:00:24.869Z"
   },
   {
    "duration": 1056,
    "start_time": "2022-01-03T09:00:31.901Z"
   },
   {
    "duration": 63,
    "start_time": "2022-01-03T09:00:32.959Z"
   },
   {
    "duration": 22,
    "start_time": "2022-01-03T09:00:33.025Z"
   },
   {
    "duration": 23,
    "start_time": "2022-01-03T09:00:33.049Z"
   },
   {
    "duration": 30,
    "start_time": "2022-01-03T09:00:33.073Z"
   },
   {
    "duration": 8,
    "start_time": "2022-01-03T09:00:33.105Z"
   },
   {
    "duration": 14,
    "start_time": "2022-01-03T09:00:33.114Z"
   },
   {
    "duration": 24,
    "start_time": "2022-01-03T09:00:33.131Z"
   },
   {
    "duration": 19,
    "start_time": "2022-01-03T09:00:33.157Z"
   },
   {
    "duration": 16,
    "start_time": "2022-01-03T09:00:33.178Z"
   },
   {
    "duration": 20,
    "start_time": "2022-01-03T09:00:33.196Z"
   },
   {
    "duration": 17,
    "start_time": "2022-01-03T09:00:33.218Z"
   },
   {
    "duration": 398,
    "start_time": "2022-01-03T09:00:33.237Z"
   },
   {
    "duration": 330,
    "start_time": "2022-01-03T09:00:33.637Z"
   },
   {
    "duration": 16,
    "start_time": "2022-01-03T09:00:33.969Z"
   },
   {
    "duration": 341,
    "start_time": "2022-01-03T09:00:33.987Z"
   },
   {
    "duration": 304,
    "start_time": "2022-01-03T09:01:30.256Z"
   },
   {
    "duration": 79,
    "start_time": "2022-01-03T09:02:33.335Z"
   },
   {
    "duration": 284,
    "start_time": "2022-01-03T09:02:57.002Z"
   },
   {
    "duration": 254,
    "start_time": "2022-01-03T09:03:15.982Z"
   },
   {
    "duration": 302,
    "start_time": "2022-01-03T09:03:54.376Z"
   },
   {
    "duration": 306,
    "start_time": "2022-01-03T09:04:01.520Z"
   },
   {
    "duration": 362,
    "start_time": "2022-01-03T09:08:29.933Z"
   },
   {
    "duration": 90,
    "start_time": "2022-01-03T09:09:08.896Z"
   },
   {
    "duration": 295,
    "start_time": "2022-01-03T09:09:19.654Z"
   },
   {
    "duration": 324,
    "start_time": "2022-01-03T09:10:03.362Z"
   },
   {
    "duration": 275,
    "start_time": "2022-01-03T09:10:24.113Z"
   },
   {
    "duration": 269,
    "start_time": "2022-01-03T09:56:18.414Z"
   },
   {
    "duration": 511,
    "start_time": "2022-01-03T10:03:57.968Z"
   },
   {
    "duration": 243,
    "start_time": "2022-01-03T10:04:13.549Z"
   },
   {
    "duration": 256,
    "start_time": "2022-01-03T10:04:54.474Z"
   },
   {
    "duration": 6069,
    "start_time": "2022-01-03T10:24:22.953Z"
   },
   {
    "duration": 499,
    "start_time": "2022-01-03T10:24:43.663Z"
   },
   {
    "duration": 275,
    "start_time": "2022-01-03T10:25:16.636Z"
   },
   {
    "duration": 325,
    "start_time": "2022-01-03T10:26:03.465Z"
   },
   {
    "duration": 254,
    "start_time": "2022-01-03T10:27:10.696Z"
   },
   {
    "duration": 333,
    "start_time": "2022-01-03T10:27:53.953Z"
   },
   {
    "duration": 4,
    "start_time": "2022-01-03T10:29:02.835Z"
   },
   {
    "duration": 9,
    "start_time": "2022-01-03T10:30:08.000Z"
   },
   {
    "duration": 302,
    "start_time": "2022-01-03T10:30:18.872Z"
   },
   {
    "duration": 257,
    "start_time": "2022-01-03T10:30:35.856Z"
   },
   {
    "duration": 5,
    "start_time": "2022-01-03T10:30:55.784Z"
   },
   {
    "duration": 281,
    "start_time": "2022-01-03T10:33:23.912Z"
   },
   {
    "duration": 984,
    "start_time": "2022-01-03T10:33:55.104Z"
   },
   {
    "duration": 255,
    "start_time": "2022-01-03T10:34:08.448Z"
   },
   {
    "duration": 1160,
    "start_time": "2022-01-03T10:34:30.041Z"
   },
   {
    "duration": 59,
    "start_time": "2022-01-03T10:34:31.203Z"
   },
   {
    "duration": 22,
    "start_time": "2022-01-03T10:34:31.264Z"
   },
   {
    "duration": 13,
    "start_time": "2022-01-03T10:34:31.288Z"
   },
   {
    "duration": 17,
    "start_time": "2022-01-03T10:34:31.302Z"
   },
   {
    "duration": 6,
    "start_time": "2022-01-03T10:34:31.320Z"
   },
   {
    "duration": 9,
    "start_time": "2022-01-03T10:34:31.328Z"
   },
   {
    "duration": 34,
    "start_time": "2022-01-03T10:34:31.339Z"
   },
   {
    "duration": 9,
    "start_time": "2022-01-03T10:34:34.167Z"
   },
   {
    "duration": 12,
    "start_time": "2022-01-03T10:34:45.078Z"
   },
   {
    "duration": 7,
    "start_time": "2022-01-03T10:34:51.957Z"
   },
   {
    "duration": 1077,
    "start_time": "2022-01-03T10:35:04.784Z"
   },
   {
    "duration": 63,
    "start_time": "2022-01-03T10:35:05.863Z"
   },
   {
    "duration": 21,
    "start_time": "2022-01-03T10:35:05.928Z"
   },
   {
    "duration": 20,
    "start_time": "2022-01-03T10:35:05.952Z"
   },
   {
    "duration": 12,
    "start_time": "2022-01-03T10:35:05.973Z"
   },
   {
    "duration": 7,
    "start_time": "2022-01-03T10:35:05.986Z"
   },
   {
    "duration": 18,
    "start_time": "2022-01-03T10:35:05.995Z"
   },
   {
    "duration": 18,
    "start_time": "2022-01-03T10:35:06.015Z"
   },
   {
    "duration": 30,
    "start_time": "2022-01-03T10:35:06.035Z"
   },
   {
    "duration": 4,
    "start_time": "2022-01-03T10:35:06.066Z"
   },
   {
    "duration": 11,
    "start_time": "2022-01-03T10:35:06.072Z"
   },
   {
    "duration": 17,
    "start_time": "2022-01-03T10:35:06.085Z"
   },
   {
    "duration": 422,
    "start_time": "2022-01-03T10:35:06.104Z"
   },
   {
    "duration": 333,
    "start_time": "2022-01-03T10:35:06.528Z"
   },
   {
    "duration": 19,
    "start_time": "2022-01-03T10:35:06.863Z"
   },
   {
    "duration": 313,
    "start_time": "2022-01-03T10:35:06.884Z"
   },
   {
    "duration": 293,
    "start_time": "2022-01-03T10:35:07.199Z"
   },
   {
    "duration": 298,
    "start_time": "2022-01-03T10:35:07.494Z"
   },
   {
    "duration": 5,
    "start_time": "2022-01-03T10:35:07.793Z"
   },
   {
    "duration": 311,
    "start_time": "2022-01-03T10:35:07.799Z"
   },
   {
    "duration": 345,
    "start_time": "2022-01-03T10:36:56.031Z"
   },
   {
    "duration": 321,
    "start_time": "2022-01-03T10:37:09.922Z"
   },
   {
    "duration": 356,
    "start_time": "2022-01-03T10:38:23.727Z"
   },
   {
    "duration": 328,
    "start_time": "2022-01-03T10:38:39.611Z"
   },
   {
    "duration": 1489,
    "start_time": "2022-01-03T15:58:30.889Z"
   },
   {
    "duration": 87,
    "start_time": "2022-01-03T15:58:32.381Z"
   },
   {
    "duration": 32,
    "start_time": "2022-01-03T15:58:32.471Z"
   },
   {
    "duration": 19,
    "start_time": "2022-01-03T15:58:32.506Z"
   },
   {
    "duration": 36,
    "start_time": "2022-01-03T15:58:32.527Z"
   },
   {
    "duration": 8,
    "start_time": "2022-01-03T15:58:32.566Z"
   },
   {
    "duration": 9,
    "start_time": "2022-01-03T15:58:32.576Z"
   },
   {
    "duration": 30,
    "start_time": "2022-01-03T15:58:32.588Z"
   },
   {
    "duration": 11,
    "start_time": "2022-01-03T15:58:32.662Z"
   },
   {
    "duration": 8,
    "start_time": "2022-01-03T15:58:32.676Z"
   },
   {
    "duration": 7,
    "start_time": "2022-01-03T15:58:32.686Z"
   },
   {
    "duration": 24,
    "start_time": "2022-01-03T15:58:32.695Z"
   },
   {
    "duration": 686,
    "start_time": "2022-01-03T15:58:32.721Z"
   },
   {
    "duration": 550,
    "start_time": "2022-01-03T15:58:33.410Z"
   },
   {
    "duration": 23,
    "start_time": "2022-01-03T15:58:33.963Z"
   },
   {
    "duration": 483,
    "start_time": "2022-01-03T15:58:33.989Z"
   },
   {
    "duration": 464,
    "start_time": "2022-01-03T15:58:34.475Z"
   },
   {
    "duration": 431,
    "start_time": "2022-01-03T15:58:34.941Z"
   },
   {
    "duration": 404,
    "start_time": "2022-01-03T15:58:35.375Z"
   },
   {
    "duration": 13,
    "start_time": "2022-01-03T15:58:35.781Z"
   },
   {
    "duration": 22,
    "start_time": "2022-01-03T15:59:40.852Z"
   },
   {
    "duration": 23,
    "start_time": "2022-01-03T16:03:57.663Z"
   },
   {
    "duration": 154,
    "start_time": "2022-01-03T16:05:54.037Z"
   },
   {
    "duration": 130,
    "start_time": "2022-01-03T16:06:09.557Z"
   },
   {
    "duration": 23,
    "start_time": "2022-01-03T16:07:35.286Z"
   },
   {
    "duration": 22,
    "start_time": "2022-01-03T16:08:13.432Z"
   },
   {
    "duration": 22,
    "start_time": "2022-01-03T16:09:42.113Z"
   },
   {
    "duration": 23,
    "start_time": "2022-01-03T16:10:01.184Z"
   },
   {
    "duration": 23,
    "start_time": "2022-01-03T16:10:24.005Z"
   },
   {
    "duration": 550,
    "start_time": "2022-01-03T16:18:53.624Z"
   },
   {
    "duration": 462,
    "start_time": "2022-01-03T16:19:34.151Z"
   },
   {
    "duration": 413,
    "start_time": "2022-01-03T16:21:11.971Z"
   },
   {
    "duration": 476,
    "start_time": "2022-01-03T16:21:30.587Z"
   },
   {
    "duration": 364,
    "start_time": "2022-01-03T16:22:02.646Z"
   },
   {
    "duration": 473,
    "start_time": "2022-01-03T16:22:38.275Z"
   },
   {
    "duration": 410,
    "start_time": "2022-01-03T16:22:53.279Z"
   },
   {
    "duration": 132,
    "start_time": "2022-01-03T16:25:23.707Z"
   },
   {
    "duration": 5,
    "start_time": "2022-01-03T16:25:38.395Z"
   },
   {
    "duration": 6,
    "start_time": "2022-01-03T16:25:55.644Z"
   },
   {
    "duration": 2062,
    "start_time": "2022-01-03T16:26:31.652Z"
   },
   {
    "duration": 2007,
    "start_time": "2022-01-03T16:31:15.667Z"
   },
   {
    "duration": 2035,
    "start_time": "2022-01-03T16:34:26.436Z"
   },
   {
    "duration": 2032,
    "start_time": "2022-01-03T16:35:13.529Z"
   },
   {
    "duration": 2204,
    "start_time": "2022-01-03T16:40:19.878Z"
   },
   {
    "duration": 1935,
    "start_time": "2022-01-03T16:41:13.073Z"
   },
   {
    "duration": 468,
    "start_time": "2022-01-03T16:50:28.794Z"
   },
   {
    "duration": 545,
    "start_time": "2022-01-03T16:50:38.745Z"
   },
   {
    "duration": 617,
    "start_time": "2022-01-03T17:00:11.077Z"
   },
   {
    "duration": 535,
    "start_time": "2022-01-03T17:02:19.993Z"
   },
   {
    "duration": 528,
    "start_time": "2022-01-03T17:02:55.558Z"
   },
   {
    "duration": 411,
    "start_time": "2022-01-03T17:15:50.709Z"
   },
   {
    "duration": 562,
    "start_time": "2022-01-03T17:16:04.591Z"
   },
   {
    "duration": 9971,
    "start_time": "2022-01-03T17:19:47.777Z"
   },
   {
    "duration": 10244,
    "start_time": "2022-01-03T17:21:09.289Z"
   },
   {
    "duration": 49,
    "start_time": "2022-01-03T17:22:00.518Z"
   },
   {
    "duration": 36,
    "start_time": "2022-01-03T17:25:39.999Z"
   },
   {
    "duration": 59,
    "start_time": "2022-01-03T17:30:52.181Z"
   },
   {
    "duration": 8489,
    "start_time": "2022-01-03T17:31:29.395Z"
   },
   {
    "duration": 429,
    "start_time": "2022-01-03T17:33:33.174Z"
   },
   {
    "duration": 126,
    "start_time": "2022-01-03T17:33:43.813Z"
   },
   {
    "duration": 7538,
    "start_time": "2022-01-03T17:33:51.661Z"
   },
   {
    "duration": 39,
    "start_time": "2022-01-03T17:34:16.676Z"
   },
   {
    "duration": 201,
    "start_time": "2022-01-03T17:35:41.273Z"
   },
   {
    "duration": 212,
    "start_time": "2022-01-03T17:37:18.273Z"
   },
   {
    "duration": 570,
    "start_time": "2022-01-03T17:40:15.036Z"
   },
   {
    "duration": 2046,
    "start_time": "2022-01-03T17:40:55.443Z"
   },
   {
    "duration": 2267,
    "start_time": "2022-01-03T17:41:29.001Z"
   },
   {
    "duration": 2210,
    "start_time": "2022-01-03T17:42:13.754Z"
   },
   {
    "duration": 196,
    "start_time": "2022-01-03T17:52:25.321Z"
   },
   {
    "duration": 194,
    "start_time": "2022-01-03T17:54:09.377Z"
   },
   {
    "duration": 260,
    "start_time": "2022-01-03T17:56:41.793Z"
   },
   {
    "duration": 198,
    "start_time": "2022-01-03T17:56:52.257Z"
   },
   {
    "duration": 205,
    "start_time": "2022-01-03T17:57:00.640Z"
   },
   {
    "duration": 183,
    "start_time": "2022-01-03T18:00:29.344Z"
   },
   {
    "duration": 207,
    "start_time": "2022-01-03T18:00:33.760Z"
   },
   {
    "duration": 195,
    "start_time": "2022-01-03T18:00:41.864Z"
   },
   {
    "duration": 383,
    "start_time": "2022-01-03T18:01:00.228Z"
   },
   {
    "duration": 360,
    "start_time": "2022-01-03T18:01:28.889Z"
   },
   {
    "duration": 187,
    "start_time": "2022-01-03T18:01:39.976Z"
   },
   {
    "duration": 2180,
    "start_time": "2022-01-03T18:01:56.679Z"
   },
   {
    "duration": 1994,
    "start_time": "2022-01-03T18:02:14.278Z"
   },
   {
    "duration": 559,
    "start_time": "2022-01-03T18:02:32.614Z"
   },
   {
    "duration": 441,
    "start_time": "2022-01-03T18:02:35.614Z"
   },
   {
    "duration": 449,
    "start_time": "2022-01-03T18:02:47.039Z"
   },
   {
    "duration": 467,
    "start_time": "2022-01-03T18:03:01.305Z"
   },
   {
    "duration": 506,
    "start_time": "2022-01-03T18:03:10.919Z"
   },
   {
    "duration": 638,
    "start_time": "2022-01-03T18:03:18.480Z"
   },
   {
    "duration": 504,
    "start_time": "2022-01-03T18:03:43.632Z"
   },
   {
    "duration": 36,
    "start_time": "2022-01-03T18:05:57.664Z"
   },
   {
    "duration": 634,
    "start_time": "2022-01-03T18:07:34.703Z"
   },
   {
    "duration": 36,
    "start_time": "2022-01-03T18:20:15.072Z"
   },
   {
    "duration": 206,
    "start_time": "2022-01-03T18:23:32.461Z"
   },
   {
    "duration": 558,
    "start_time": "2022-01-03T18:25:01.591Z"
   },
   {
    "duration": 542,
    "start_time": "2022-01-03T18:25:30.271Z"
   },
   {
    "duration": 239,
    "start_time": "2022-01-03T18:25:52.399Z"
   },
   {
    "duration": 206,
    "start_time": "2022-01-03T18:26:04.149Z"
   },
   {
    "duration": 189,
    "start_time": "2022-01-03T18:26:16.178Z"
   },
   {
    "duration": 143,
    "start_time": "2022-01-03T18:28:05.005Z"
   },
   {
    "duration": 405,
    "start_time": "2022-01-03T18:28:42.376Z"
   },
   {
    "duration": 145,
    "start_time": "2022-01-03T18:30:37.868Z"
   },
   {
    "duration": 533,
    "start_time": "2022-01-03T18:35:07.614Z"
   },
   {
    "duration": 904,
    "start_time": "2022-01-03T18:45:18.612Z"
   },
   {
    "duration": 436,
    "start_time": "2022-01-03T18:45:55.650Z"
   },
   {
    "duration": 10437,
    "start_time": "2022-01-03T18:46:58.605Z"
   },
   {
    "duration": 449,
    "start_time": "2022-01-03T18:47:35.605Z"
   },
   {
    "duration": 541,
    "start_time": "2022-01-03T18:50:36.724Z"
   },
   {
    "duration": 533,
    "start_time": "2022-01-03T18:51:03.876Z"
   },
   {
    "duration": 429,
    "start_time": "2022-01-03T18:51:38.853Z"
   },
   {
    "duration": 9698,
    "start_time": "2022-01-03T18:53:41.130Z"
   },
   {
    "duration": 480,
    "start_time": "2022-01-03T18:54:00.283Z"
   },
   {
    "duration": 1366,
    "start_time": "2022-01-03T18:54:31.245Z"
   },
   {
    "duration": 83,
    "start_time": "2022-01-03T18:54:32.614Z"
   },
   {
    "duration": 32,
    "start_time": "2022-01-03T18:54:32.700Z"
   },
   {
    "duration": 39,
    "start_time": "2022-01-03T18:54:32.734Z"
   },
   {
    "duration": 10,
    "start_time": "2022-01-03T18:54:32.776Z"
   },
   {
    "duration": 8,
    "start_time": "2022-01-03T18:54:32.789Z"
   },
   {
    "duration": 8,
    "start_time": "2022-01-03T18:54:32.799Z"
   },
   {
    "duration": 65,
    "start_time": "2022-01-03T18:54:32.809Z"
   },
   {
    "duration": 11,
    "start_time": "2022-01-03T18:54:32.881Z"
   },
   {
    "duration": 8,
    "start_time": "2022-01-03T18:54:32.896Z"
   },
   {
    "duration": 9,
    "start_time": "2022-01-03T18:54:32.907Z"
   },
   {
    "duration": 59,
    "start_time": "2022-01-03T18:54:32.919Z"
   },
   {
    "duration": 670,
    "start_time": "2022-01-03T18:54:32.980Z"
   },
   {
    "duration": 525,
    "start_time": "2022-01-03T18:54:33.652Z"
   },
   {
    "duration": 22,
    "start_time": "2022-01-03T18:54:34.180Z"
   },
   {
    "duration": 470,
    "start_time": "2022-01-03T18:54:34.204Z"
   },
   {
    "duration": 444,
    "start_time": "2022-01-03T18:54:34.676Z"
   },
   {
    "duration": 453,
    "start_time": "2022-01-03T18:54:35.123Z"
   },
   {
    "duration": 410,
    "start_time": "2022-01-03T18:54:35.578Z"
   },
   {
    "duration": 25,
    "start_time": "2022-01-03T18:54:35.990Z"
   },
   {
    "duration": 2357,
    "start_time": "2022-01-03T18:54:36.018Z"
   },
   {
    "duration": 2257,
    "start_time": "2022-01-03T18:54:38.378Z"
   },
   {
    "duration": 541,
    "start_time": "2022-01-03T18:54:40.637Z"
   },
   {
    "duration": 38,
    "start_time": "2022-01-03T18:54:41.181Z"
   },
   {
    "duration": 470,
    "start_time": "2022-01-03T18:54:41.222Z"
   },
   {
    "duration": 420,
    "start_time": "2022-01-03T18:54:53.571Z"
   },
   {
    "duration": 406,
    "start_time": "2022-01-03T18:56:35.641Z"
   },
   {
    "duration": 250,
    "start_time": "2022-01-03T19:00:07.345Z"
   },
   {
    "duration": 377,
    "start_time": "2022-01-03T19:00:36.369Z"
   },
   {
    "duration": 461,
    "start_time": "2022-01-03T19:00:52.329Z"
   },
   {
    "duration": 820,
    "start_time": "2022-01-03T19:22:42.029Z"
   },
   {
    "duration": 908,
    "start_time": "2022-01-03T19:23:05.445Z"
   },
   {
    "duration": 890,
    "start_time": "2022-01-03T19:23:25.530Z"
   },
   {
    "duration": 804,
    "start_time": "2022-01-03T19:23:43.963Z"
   },
   {
    "duration": 422,
    "start_time": "2022-01-03T19:24:00.272Z"
   },
   {
    "duration": 617,
    "start_time": "2022-01-03T19:24:14.445Z"
   },
   {
    "duration": 429,
    "start_time": "2022-01-03T19:24:31.197Z"
   },
   {
    "duration": 499,
    "start_time": "2022-01-03T19:25:04.812Z"
   },
   {
    "duration": 419,
    "start_time": "2022-01-03T19:25:48.300Z"
   },
   {
    "duration": 399,
    "start_time": "2022-01-03T19:26:39.069Z"
   },
   {
    "duration": 395,
    "start_time": "2022-01-03T19:27:14.278Z"
   },
   {
    "duration": 464,
    "start_time": "2022-01-03T19:27:36.576Z"
   },
   {
    "duration": 400,
    "start_time": "2022-01-03T19:27:57.259Z"
   },
   {
    "duration": 498,
    "start_time": "2022-01-03T19:28:16.070Z"
   },
   {
    "duration": 388,
    "start_time": "2022-01-03T19:28:43.379Z"
   },
   {
    "duration": 395,
    "start_time": "2022-01-03T19:29:03.934Z"
   },
   {
    "duration": 477,
    "start_time": "2022-01-03T19:29:27.548Z"
   },
   {
    "duration": 8,
    "start_time": "2022-01-03T19:47:28.310Z"
   },
   {
    "duration": 11,
    "start_time": "2022-01-03T19:47:45.459Z"
   },
   {
    "duration": 10,
    "start_time": "2022-01-03T19:48:51.440Z"
   },
   {
    "duration": 11,
    "start_time": "2022-01-03T19:48:58.305Z"
   },
   {
    "duration": 13,
    "start_time": "2022-01-03T19:50:12.445Z"
   },
   {
    "duration": 13,
    "start_time": "2022-01-03T19:52:34.578Z"
   },
   {
    "duration": 12,
    "start_time": "2022-01-03T19:52:43.258Z"
   },
   {
    "duration": 7,
    "start_time": "2022-01-03T19:55:36.905Z"
   },
   {
    "duration": 12,
    "start_time": "2022-01-03T19:55:43.199Z"
   },
   {
    "duration": 12,
    "start_time": "2022-01-03T19:57:50.480Z"
   },
   {
    "duration": 20,
    "start_time": "2022-01-03T19:58:23.017Z"
   },
   {
    "duration": 17,
    "start_time": "2022-01-03T19:59:22.836Z"
   },
   {
    "duration": 1296,
    "start_time": "2022-01-04T07:29:50.685Z"
   },
   {
    "duration": 81,
    "start_time": "2022-01-04T07:29:51.984Z"
   },
   {
    "duration": 31,
    "start_time": "2022-01-04T07:29:52.068Z"
   },
   {
    "duration": 21,
    "start_time": "2022-01-04T07:29:52.122Z"
   },
   {
    "duration": 11,
    "start_time": "2022-01-04T07:29:52.145Z"
   },
   {
    "duration": 8,
    "start_time": "2022-01-04T07:29:52.158Z"
   },
   {
    "duration": 9,
    "start_time": "2022-01-04T07:29:52.168Z"
   },
   {
    "duration": 60,
    "start_time": "2022-01-04T07:29:52.181Z"
   },
   {
    "duration": 10,
    "start_time": "2022-01-04T07:29:52.244Z"
   },
   {
    "duration": 7,
    "start_time": "2022-01-04T07:29:52.256Z"
   },
   {
    "duration": 7,
    "start_time": "2022-01-04T07:29:52.266Z"
   },
   {
    "duration": 55,
    "start_time": "2022-01-04T07:29:52.275Z"
   },
   {
    "duration": 618,
    "start_time": "2022-01-04T07:29:52.332Z"
   },
   {
    "duration": 498,
    "start_time": "2022-01-04T07:29:52.953Z"
   },
   {
    "duration": 22,
    "start_time": "2022-01-04T07:29:53.454Z"
   },
   {
    "duration": 434,
    "start_time": "2022-01-04T07:29:53.479Z"
   },
   {
    "duration": 422,
    "start_time": "2022-01-04T07:29:53.915Z"
   },
   {
    "duration": 388,
    "start_time": "2022-01-04T07:29:54.340Z"
   },
   {
    "duration": 401,
    "start_time": "2022-01-04T07:29:54.731Z"
   },
   {
    "duration": 24,
    "start_time": "2022-01-04T07:29:55.135Z"
   },
   {
    "duration": 2054,
    "start_time": "2022-01-04T07:29:55.162Z"
   },
   {
    "duration": 1981,
    "start_time": "2022-01-04T07:29:57.222Z"
   },
   {
    "duration": 506,
    "start_time": "2022-01-04T07:29:59.207Z"
   },
   {
    "duration": 428,
    "start_time": "2022-01-04T07:29:59.723Z"
   },
   {
    "duration": 392,
    "start_time": "2022-01-04T07:30:00.153Z"
   },
   {
    "duration": 17,
    "start_time": "2022-01-04T07:30:00.548Z"
   },
   {
    "duration": 15,
    "start_time": "2022-01-04T07:31:22.000Z"
   },
   {
    "duration": 16,
    "start_time": "2022-01-04T07:31:31.300Z"
   },
   {
    "duration": 198,
    "start_time": "2022-01-04T07:33:39.996Z"
   },
   {
    "duration": 228,
    "start_time": "2022-01-04T07:34:39.595Z"
   },
   {
    "duration": 215,
    "start_time": "2022-01-04T07:34:47.475Z"
   },
   {
    "duration": 636,
    "start_time": "2022-01-04T07:35:57.244Z"
   },
   {
    "duration": 487,
    "start_time": "2022-01-04T07:36:47.076Z"
   },
   {
    "duration": 138,
    "start_time": "2022-01-04T07:37:27.324Z"
   },
   {
    "duration": 205,
    "start_time": "2022-01-04T07:37:33.027Z"
   },
   {
    "duration": 9,
    "start_time": "2022-01-04T07:46:13.440Z"
   },
   {
    "duration": 198,
    "start_time": "2022-01-04T07:46:20.539Z"
   },
   {
    "duration": 199,
    "start_time": "2022-01-04T07:46:52.491Z"
   },
   {
    "duration": 271,
    "start_time": "2022-01-04T07:47:09.282Z"
   },
   {
    "duration": 232,
    "start_time": "2022-01-04T07:47:26.541Z"
   },
   {
    "duration": 199,
    "start_time": "2022-01-04T07:47:49.482Z"
   },
   {
    "duration": 234,
    "start_time": "2022-01-04T07:57:36.818Z"
   },
   {
    "duration": 6,
    "start_time": "2022-01-04T08:22:43.900Z"
   },
   {
    "duration": 489,
    "start_time": "2022-01-04T08:24:07.568Z"
   },
   {
    "duration": 1333,
    "start_time": "2022-01-04T08:24:18.648Z"
   },
   {
    "duration": 86,
    "start_time": "2022-01-04T08:24:19.984Z"
   },
   {
    "duration": 32,
    "start_time": "2022-01-04T08:24:20.073Z"
   },
   {
    "duration": 26,
    "start_time": "2022-01-04T08:24:20.124Z"
   },
   {
    "duration": 11,
    "start_time": "2022-01-04T08:24:20.152Z"
   },
   {
    "duration": 8,
    "start_time": "2022-01-04T08:24:20.165Z"
   },
   {
    "duration": 12,
    "start_time": "2022-01-04T08:24:20.176Z"
   },
   {
    "duration": 33,
    "start_time": "2022-01-04T08:24:20.226Z"
   },
   {
    "duration": 7,
    "start_time": "2022-01-04T08:24:20.263Z"
   },
   {
    "duration": 51,
    "start_time": "2022-01-04T08:24:20.273Z"
   },
   {
    "duration": 8,
    "start_time": "2022-01-04T08:24:20.326Z"
   },
   {
    "duration": 11,
    "start_time": "2022-01-04T08:24:20.337Z"
   },
   {
    "duration": 22,
    "start_time": "2022-01-04T08:24:20.350Z"
   },
   {
    "duration": 671,
    "start_time": "2022-01-04T08:24:20.374Z"
   },
   {
    "duration": 523,
    "start_time": "2022-01-04T08:24:21.048Z"
   },
   {
    "duration": 24,
    "start_time": "2022-01-04T08:24:21.573Z"
   },
   {
    "duration": 491,
    "start_time": "2022-01-04T08:24:21.599Z"
   },
   {
    "duration": 468,
    "start_time": "2022-01-04T08:24:22.092Z"
   },
   {
    "duration": 423,
    "start_time": "2022-01-04T08:24:22.562Z"
   },
   {
    "duration": 454,
    "start_time": "2022-01-04T08:24:22.987Z"
   },
   {
    "duration": 23,
    "start_time": "2022-01-04T08:24:23.444Z"
   },
   {
    "duration": 2228,
    "start_time": "2022-01-04T08:24:23.469Z"
   },
   {
    "duration": 2142,
    "start_time": "2022-01-04T08:24:25.701Z"
   },
   {
    "duration": 578,
    "start_time": "2022-01-04T08:24:27.845Z"
   },
   {
    "duration": 462,
    "start_time": "2022-01-04T08:24:28.427Z"
   },
   {
    "duration": 407,
    "start_time": "2022-01-04T08:24:28.891Z"
   },
   {
    "duration": 9,
    "start_time": "2022-01-04T08:24:29.300Z"
   },
   {
    "duration": 249,
    "start_time": "2022-01-04T08:24:29.311Z"
   },
   {
    "duration": 403,
    "start_time": "2022-01-04T08:24:29.563Z"
   },
   {
    "duration": 8,
    "start_time": "2022-01-04T08:25:20.309Z"
   },
   {
    "duration": 1338,
    "start_time": "2022-01-04T08:25:46.416Z"
   },
   {
    "duration": 78,
    "start_time": "2022-01-04T08:25:47.757Z"
   },
   {
    "duration": 37,
    "start_time": "2022-01-04T08:25:47.838Z"
   },
   {
    "duration": 46,
    "start_time": "2022-01-04T08:25:47.878Z"
   },
   {
    "duration": 13,
    "start_time": "2022-01-04T08:25:47.927Z"
   },
   {
    "duration": 9,
    "start_time": "2022-01-04T08:25:47.943Z"
   },
   {
    "duration": 9,
    "start_time": "2022-01-04T08:25:47.954Z"
   },
   {
    "duration": 68,
    "start_time": "2022-01-04T08:25:47.966Z"
   },
   {
    "duration": 14,
    "start_time": "2022-01-04T08:25:48.038Z"
   },
   {
    "duration": 24,
    "start_time": "2022-01-04T08:25:48.054Z"
   },
   {
    "duration": 19,
    "start_time": "2022-01-04T08:25:48.081Z"
   },
   {
    "duration": 19,
    "start_time": "2022-01-04T08:25:48.103Z"
   },
   {
    "duration": 31,
    "start_time": "2022-01-04T08:25:48.124Z"
   },
   {
    "duration": 766,
    "start_time": "2022-01-04T08:25:48.158Z"
   },
   {
    "duration": 534,
    "start_time": "2022-01-04T08:25:48.927Z"
   },
   {
    "duration": 21,
    "start_time": "2022-01-04T08:25:49.464Z"
   },
   {
    "duration": 467,
    "start_time": "2022-01-04T08:25:49.487Z"
   },
   {
    "duration": 464,
    "start_time": "2022-01-04T08:25:49.956Z"
   },
   {
    "duration": 421,
    "start_time": "2022-01-04T08:25:50.424Z"
   },
   {
    "duration": 409,
    "start_time": "2022-01-04T08:25:50.847Z"
   },
   {
    "duration": 22,
    "start_time": "2022-01-04T08:25:51.258Z"
   },
   {
    "duration": 2222,
    "start_time": "2022-01-04T08:25:51.283Z"
   },
   {
    "duration": 2124,
    "start_time": "2022-01-04T08:25:53.509Z"
   },
   {
    "duration": 536,
    "start_time": "2022-01-04T08:25:55.636Z"
   },
   {
    "duration": 465,
    "start_time": "2022-01-04T08:25:56.174Z"
   },
   {
    "duration": 417,
    "start_time": "2022-01-04T08:25:56.643Z"
   },
   {
    "duration": 9,
    "start_time": "2022-01-04T08:25:57.064Z"
   },
   {
    "duration": 253,
    "start_time": "2022-01-04T08:25:57.076Z"
   },
   {
    "duration": 403,
    "start_time": "2022-01-04T08:25:57.332Z"
   },
   {
    "duration": 212,
    "start_time": "2022-01-04T08:31:50.289Z"
   },
   {
    "duration": 10,
    "start_time": "2022-01-04T08:33:44.413Z"
   },
   {
    "duration": 8,
    "start_time": "2022-01-04T08:34:04.524Z"
   },
   {
    "duration": 8,
    "start_time": "2022-01-04T08:34:14.198Z"
   },
   {
    "duration": 7789,
    "start_time": "2022-01-04T08:36:36.644Z"
   },
   {
    "duration": 110,
    "start_time": "2022-01-04T08:37:17.935Z"
   },
   {
    "duration": 130,
    "start_time": "2022-01-04T08:37:40.187Z"
   },
   {
    "duration": 1350,
    "start_time": "2022-01-04T08:39:38.160Z"
   },
   {
    "duration": 80,
    "start_time": "2022-01-04T08:39:39.513Z"
   },
   {
    "duration": 46,
    "start_time": "2022-01-04T08:39:39.596Z"
   },
   {
    "duration": 23,
    "start_time": "2022-01-04T08:39:39.645Z"
   },
   {
    "duration": 17,
    "start_time": "2022-01-04T08:39:39.670Z"
   },
   {
    "duration": 37,
    "start_time": "2022-01-04T08:39:39.690Z"
   },
   {
    "duration": 8,
    "start_time": "2022-01-04T08:39:39.729Z"
   },
   {
    "duration": 26,
    "start_time": "2022-01-04T08:39:39.739Z"
   },
   {
    "duration": 18,
    "start_time": "2022-01-04T08:39:39.769Z"
   },
   {
    "duration": 11,
    "start_time": "2022-01-04T08:39:39.790Z"
   },
   {
    "duration": 26,
    "start_time": "2022-01-04T08:39:39.804Z"
   },
   {
    "duration": 25,
    "start_time": "2022-01-04T08:39:39.833Z"
   },
   {
    "duration": 683,
    "start_time": "2022-01-04T08:39:39.860Z"
   },
   {
    "duration": 505,
    "start_time": "2022-01-04T08:39:40.546Z"
   },
   {
    "duration": 24,
    "start_time": "2022-01-04T08:39:41.053Z"
   },
   {
    "duration": 461,
    "start_time": "2022-01-04T08:39:41.080Z"
   },
   {
    "duration": 434,
    "start_time": "2022-01-04T08:39:41.543Z"
   },
   {
    "duration": 486,
    "start_time": "2022-01-04T08:39:41.979Z"
   },
   {
    "duration": 458,
    "start_time": "2022-01-04T08:39:42.468Z"
   },
   {
    "duration": 22,
    "start_time": "2022-01-04T08:39:42.928Z"
   },
   {
    "duration": 2188,
    "start_time": "2022-01-04T08:39:42.952Z"
   },
   {
    "duration": 1972,
    "start_time": "2022-01-04T08:39:45.142Z"
   },
   {
    "duration": 491,
    "start_time": "2022-01-04T08:39:47.116Z"
   },
   {
    "duration": 426,
    "start_time": "2022-01-04T08:39:47.609Z"
   },
   {
    "duration": 392,
    "start_time": "2022-01-04T08:39:48.038Z"
   },
   {
    "duration": 8,
    "start_time": "2022-01-04T08:39:48.432Z"
   },
   {
    "duration": 7,
    "start_time": "2022-01-04T08:39:48.445Z"
   },
   {
    "duration": 252,
    "start_time": "2022-01-04T08:39:48.454Z"
   },
   {
    "duration": 6,
    "start_time": "2022-01-04T08:44:09.683Z"
   },
   {
    "duration": 7271,
    "start_time": "2022-01-04T08:45:31.384Z"
   },
   {
    "duration": 6,
    "start_time": "2022-01-04T08:46:05.911Z"
   },
   {
    "duration": 8061,
    "start_time": "2022-01-04T08:46:35.094Z"
   },
   {
    "duration": 10382,
    "start_time": "2022-01-04T08:46:57.888Z"
   },
   {
    "duration": 107,
    "start_time": "2022-01-04T08:48:01.072Z"
   },
   {
    "duration": 7450,
    "start_time": "2022-01-04T08:48:14.175Z"
   },
   {
    "duration": 2068,
    "start_time": "2022-01-04T08:49:43.544Z"
   },
   {
    "duration": 12,
    "start_time": "2022-01-04T08:50:37.094Z"
   },
   {
    "duration": 11,
    "start_time": "2022-01-04T08:57:37.513Z"
   },
   {
    "duration": 10,
    "start_time": "2022-01-04T08:58:42.096Z"
   },
   {
    "duration": 12,
    "start_time": "2022-01-04T08:59:01.011Z"
   },
   {
    "duration": 771,
    "start_time": "2022-01-04T09:32:50.629Z"
   },
   {
    "duration": 694,
    "start_time": "2022-01-04T09:33:56.107Z"
   },
   {
    "duration": 1109,
    "start_time": "2022-01-04T09:35:43.449Z"
   },
   {
    "duration": 995,
    "start_time": "2022-01-04T09:36:38.350Z"
   },
   {
    "duration": 1634,
    "start_time": "2022-01-04T09:37:05.995Z"
   },
   {
    "duration": 1460,
    "start_time": "2022-01-04T09:37:20.697Z"
   },
   {
    "duration": 1265,
    "start_time": "2022-01-04T09:37:55.484Z"
   },
   {
    "duration": 1222,
    "start_time": "2022-01-04T09:38:08.010Z"
   },
   {
    "duration": 1261,
    "start_time": "2022-01-04T09:39:58.451Z"
   },
   {
    "duration": 1298,
    "start_time": "2022-01-04T09:40:49.761Z"
   },
   {
    "duration": 1308,
    "start_time": "2022-01-04T09:42:54.000Z"
   },
   {
    "duration": 323,
    "start_time": "2022-01-04T10:15:36.317Z"
   },
   {
    "duration": 308,
    "start_time": "2022-01-04T10:16:37.902Z"
   },
   {
    "duration": 145,
    "start_time": "2022-01-04T10:17:01.653Z"
   },
   {
    "duration": 160,
    "start_time": "2022-01-04T10:17:44.312Z"
   },
   {
    "duration": 144,
    "start_time": "2022-01-04T10:18:19.525Z"
   },
   {
    "duration": 144,
    "start_time": "2022-01-04T10:18:59.165Z"
   },
   {
    "duration": 151,
    "start_time": "2022-01-04T10:19:41.583Z"
   },
   {
    "duration": 188,
    "start_time": "2022-01-04T10:22:39.857Z"
   },
   {
    "duration": 120,
    "start_time": "2022-01-04T10:23:12.805Z"
   },
   {
    "duration": 1266,
    "start_time": "2022-01-04T10:29:34.210Z"
   },
   {
    "duration": 80,
    "start_time": "2022-01-04T10:29:35.479Z"
   },
   {
    "duration": 32,
    "start_time": "2022-01-04T10:29:35.562Z"
   },
   {
    "duration": 37,
    "start_time": "2022-01-04T10:29:35.597Z"
   },
   {
    "duration": 9,
    "start_time": "2022-01-04T10:29:35.637Z"
   },
   {
    "duration": 7,
    "start_time": "2022-01-04T10:29:35.649Z"
   },
   {
    "duration": 7,
    "start_time": "2022-01-04T10:29:35.659Z"
   },
   {
    "duration": 78,
    "start_time": "2022-01-04T10:29:35.669Z"
   },
   {
    "duration": 11,
    "start_time": "2022-01-04T10:29:35.752Z"
   },
   {
    "duration": 18,
    "start_time": "2022-01-04T10:29:35.766Z"
   },
   {
    "duration": 14,
    "start_time": "2022-01-04T10:29:35.787Z"
   },
   {
    "duration": 32,
    "start_time": "2022-01-04T10:29:35.804Z"
   },
   {
    "duration": 642,
    "start_time": "2022-01-04T10:29:35.839Z"
   },
   {
    "duration": 505,
    "start_time": "2022-01-04T10:29:36.484Z"
   },
   {
    "duration": 34,
    "start_time": "2022-01-04T10:29:36.992Z"
   },
   {
    "duration": 449,
    "start_time": "2022-01-04T10:29:37.028Z"
   },
   {
    "duration": 439,
    "start_time": "2022-01-04T10:29:37.479Z"
   },
   {
    "duration": 424,
    "start_time": "2022-01-04T10:29:37.923Z"
   },
   {
    "duration": 385,
    "start_time": "2022-01-04T10:29:38.349Z"
   },
   {
    "duration": 24,
    "start_time": "2022-01-04T10:29:38.736Z"
   },
   {
    "duration": 2095,
    "start_time": "2022-01-04T10:29:38.763Z"
   },
   {
    "duration": 2081,
    "start_time": "2022-01-04T10:29:40.861Z"
   },
   {
    "duration": 593,
    "start_time": "2022-01-04T10:29:42.945Z"
   },
   {
    "duration": 545,
    "start_time": "2022-01-04T10:29:43.541Z"
   },
   {
    "duration": 410,
    "start_time": "2022-01-04T10:29:44.090Z"
   },
   {
    "duration": 177,
    "start_time": "2022-01-04T10:29:44.502Z"
   },
   {
    "duration": 1325,
    "start_time": "2022-01-04T10:29:44.686Z"
   },
   {
    "duration": 17,
    "start_time": "2022-01-04T10:29:46.014Z"
   },
   {
    "duration": 235,
    "start_time": "2022-01-04T10:29:46.034Z"
   },
   {
    "duration": 11,
    "start_time": "2022-01-04T10:29:46.272Z"
   },
   {
    "duration": 39,
    "start_time": "2022-01-04T10:29:46.285Z"
   },
   {
    "duration": 1449,
    "start_time": "2022-01-04T10:46:57.677Z"
   },
   {
    "duration": 78,
    "start_time": "2022-01-04T10:46:59.128Z"
   },
   {
    "duration": 41,
    "start_time": "2022-01-04T10:46:59.223Z"
   },
   {
    "duration": 26,
    "start_time": "2022-01-04T10:46:59.267Z"
   },
   {
    "duration": 40,
    "start_time": "2022-01-04T10:46:59.296Z"
   },
   {
    "duration": 10,
    "start_time": "2022-01-04T10:46:59.339Z"
   },
   {
    "duration": 16,
    "start_time": "2022-01-04T10:46:59.352Z"
   },
   {
    "duration": 57,
    "start_time": "2022-01-04T10:46:59.374Z"
   },
   {
    "duration": 16,
    "start_time": "2022-01-04T10:46:59.435Z"
   },
   {
    "duration": 12,
    "start_time": "2022-01-04T10:46:59.454Z"
   },
   {
    "duration": 14,
    "start_time": "2022-01-04T10:46:59.470Z"
   },
   {
    "duration": 54,
    "start_time": "2022-01-04T10:46:59.488Z"
   },
   {
    "duration": 692,
    "start_time": "2022-01-04T10:46:59.545Z"
   },
   {
    "duration": 519,
    "start_time": "2022-01-04T10:47:00.239Z"
   },
   {
    "duration": 26,
    "start_time": "2022-01-04T10:47:00.761Z"
   },
   {
    "duration": 3,
    "start_time": "2022-01-04T10:47:00.790Z"
   },
   {
    "duration": 462,
    "start_time": "2022-01-04T10:47:00.823Z"
   },
   {
    "duration": 440,
    "start_time": "2022-01-04T10:47:01.288Z"
   },
   {
    "duration": 435,
    "start_time": "2022-01-04T10:47:01.731Z"
   },
   {
    "duration": 470,
    "start_time": "2022-01-04T10:47:02.168Z"
   },
   {
    "duration": 23,
    "start_time": "2022-01-04T10:47:02.641Z"
   },
   {
    "duration": 2298,
    "start_time": "2022-01-04T10:47:02.667Z"
   },
   {
    "duration": 1310,
    "start_time": "2022-01-04T10:48:05.259Z"
   },
   {
    "duration": 74,
    "start_time": "2022-01-04T10:48:06.572Z"
   },
   {
    "duration": 35,
    "start_time": "2022-01-04T10:48:06.650Z"
   },
   {
    "duration": 49,
    "start_time": "2022-01-04T10:48:06.689Z"
   },
   {
    "duration": 13,
    "start_time": "2022-01-04T10:48:06.742Z"
   },
   {
    "duration": 10,
    "start_time": "2022-01-04T10:48:06.758Z"
   },
   {
    "duration": 9,
    "start_time": "2022-01-04T10:48:06.771Z"
   },
   {
    "duration": 61,
    "start_time": "2022-01-04T10:48:06.784Z"
   },
   {
    "duration": 16,
    "start_time": "2022-01-04T10:48:06.848Z"
   },
   {
    "duration": 8,
    "start_time": "2022-01-04T10:48:06.867Z"
   },
   {
    "duration": 12,
    "start_time": "2022-01-04T10:48:06.877Z"
   },
   {
    "duration": 52,
    "start_time": "2022-01-04T10:48:06.891Z"
   },
   {
    "duration": 668,
    "start_time": "2022-01-04T10:48:06.945Z"
   },
   {
    "duration": 520,
    "start_time": "2022-01-04T10:48:07.615Z"
   },
   {
    "duration": 31,
    "start_time": "2022-01-04T10:48:08.139Z"
   },
   {
    "duration": 4,
    "start_time": "2022-01-04T10:48:08.173Z"
   },
   {
    "duration": 497,
    "start_time": "2022-01-04T10:48:08.180Z"
   },
   {
    "duration": 463,
    "start_time": "2022-01-04T10:48:08.680Z"
   },
   {
    "duration": 400,
    "start_time": "2022-01-04T10:48:09.146Z"
   },
   {
    "duration": 390,
    "start_time": "2022-01-04T10:48:09.549Z"
   },
   {
    "duration": 24,
    "start_time": "2022-01-04T10:48:09.941Z"
   },
   {
    "duration": 2291,
    "start_time": "2022-01-04T10:48:09.967Z"
   },
   {
    "duration": 2166,
    "start_time": "2022-01-04T10:48:12.263Z"
   },
   {
    "duration": 523,
    "start_time": "2022-01-04T10:48:14.432Z"
   },
   {
    "duration": 484,
    "start_time": "2022-01-04T10:48:14.958Z"
   },
   {
    "duration": 422,
    "start_time": "2022-01-04T10:48:15.445Z"
   },
   {
    "duration": 145,
    "start_time": "2022-01-04T10:48:15.870Z"
   },
   {
    "duration": 1250,
    "start_time": "2022-01-04T10:48:16.024Z"
   },
   {
    "duration": 10,
    "start_time": "2022-01-04T10:48:17.277Z"
   },
   {
    "duration": 262,
    "start_time": "2022-01-04T10:48:17.290Z"
   },
   {
    "duration": 12,
    "start_time": "2022-01-04T10:48:17.555Z"
   },
   {
    "duration": 13,
    "start_time": "2022-01-04T10:48:17.570Z"
   },
   {
    "duration": 1503,
    "start_time": "2022-01-04T10:51:27.409Z"
   },
   {
    "duration": 89,
    "start_time": "2022-01-04T10:51:28.915Z"
   },
   {
    "duration": 47,
    "start_time": "2022-01-04T10:51:29.007Z"
   },
   {
    "duration": 22,
    "start_time": "2022-01-04T10:51:29.058Z"
   },
   {
    "duration": 41,
    "start_time": "2022-01-04T10:51:29.082Z"
   },
   {
    "duration": 10,
    "start_time": "2022-01-04T10:51:29.126Z"
   },
   {
    "duration": 11,
    "start_time": "2022-01-04T10:51:29.139Z"
   },
   {
    "duration": 31,
    "start_time": "2022-01-04T10:51:29.154Z"
   },
   {
    "duration": 46,
    "start_time": "2022-01-04T10:51:29.189Z"
   },
   {
    "duration": 6,
    "start_time": "2022-01-04T10:51:29.238Z"
   },
   {
    "duration": 26,
    "start_time": "2022-01-04T10:51:29.246Z"
   },
   {
    "duration": 48,
    "start_time": "2022-01-04T10:51:29.275Z"
   },
   {
    "duration": 952,
    "start_time": "2022-01-04T10:51:29.326Z"
   },
   {
    "duration": 718,
    "start_time": "2022-01-04T10:51:30.281Z"
   },
   {
    "duration": 41,
    "start_time": "2022-01-04T10:51:31.001Z"
   },
   {
    "duration": 4,
    "start_time": "2022-01-04T10:51:31.044Z"
   },
   {
    "duration": 649,
    "start_time": "2022-01-04T10:51:31.051Z"
   },
   {
    "duration": 634,
    "start_time": "2022-01-04T10:51:31.703Z"
   },
   {
    "duration": 437,
    "start_time": "2022-01-04T10:51:32.339Z"
   },
   {
    "duration": 453,
    "start_time": "2022-01-04T10:51:32.780Z"
   },
   {
    "duration": 27,
    "start_time": "2022-01-04T10:51:33.236Z"
   },
   {
    "duration": 2199,
    "start_time": "2022-01-04T10:51:33.266Z"
   },
   {
    "duration": 2047,
    "start_time": "2022-01-04T10:51:35.470Z"
   },
   {
    "duration": 515,
    "start_time": "2022-01-04T10:51:37.525Z"
   },
   {
    "duration": 512,
    "start_time": "2022-01-04T10:51:38.043Z"
   },
   {
    "duration": 402,
    "start_time": "2022-01-04T10:51:38.558Z"
   },
   {
    "duration": 143,
    "start_time": "2022-01-04T10:51:38.963Z"
   },
   {
    "duration": 1224,
    "start_time": "2022-01-04T10:51:39.108Z"
   },
   {
    "duration": 9,
    "start_time": "2022-01-04T10:51:40.335Z"
   },
   {
    "duration": 266,
    "start_time": "2022-01-04T10:51:40.348Z"
   },
   {
    "duration": 19,
    "start_time": "2022-01-04T10:51:40.617Z"
   },
   {
    "duration": 12,
    "start_time": "2022-01-04T10:51:40.638Z"
   },
   {
    "duration": 1398,
    "start_time": "2022-01-04T11:13:19.341Z"
   },
   {
    "duration": 74,
    "start_time": "2022-01-04T11:13:20.741Z"
   },
   {
    "duration": 34,
    "start_time": "2022-01-04T11:13:20.823Z"
   },
   {
    "duration": 21,
    "start_time": "2022-01-04T11:13:20.860Z"
   },
   {
    "duration": 11,
    "start_time": "2022-01-04T11:13:20.884Z"
   },
   {
    "duration": 10,
    "start_time": "2022-01-04T11:13:20.924Z"
   },
   {
    "duration": 27,
    "start_time": "2022-01-04T11:13:20.937Z"
   },
   {
    "duration": 24,
    "start_time": "2022-01-04T11:13:20.969Z"
   },
   {
    "duration": 33,
    "start_time": "2022-01-04T11:13:20.996Z"
   },
   {
    "duration": 6,
    "start_time": "2022-01-04T11:13:21.032Z"
   },
   {
    "duration": 8,
    "start_time": "2022-01-04T11:13:21.040Z"
   },
   {
    "duration": 23,
    "start_time": "2022-01-04T11:13:21.051Z"
   },
   {
    "duration": 701,
    "start_time": "2022-01-04T11:13:21.077Z"
   },
   {
    "duration": 526,
    "start_time": "2022-01-04T11:13:21.781Z"
   },
   {
    "duration": 27,
    "start_time": "2022-01-04T11:13:22.309Z"
   },
   {
    "duration": 3,
    "start_time": "2022-01-04T11:13:22.339Z"
   },
   {
    "duration": 487,
    "start_time": "2022-01-04T11:13:22.345Z"
   },
   {
    "duration": 471,
    "start_time": "2022-01-04T11:13:22.834Z"
   },
   {
    "duration": 438,
    "start_time": "2022-01-04T11:13:23.308Z"
   },
   {
    "duration": 416,
    "start_time": "2022-01-04T11:13:23.748Z"
   },
   {
    "duration": 25,
    "start_time": "2022-01-04T11:13:24.167Z"
   },
   {
    "duration": 2280,
    "start_time": "2022-01-04T11:13:24.195Z"
   },
   {
    "duration": 2236,
    "start_time": "2022-01-04T11:13:26.481Z"
   },
   {
    "duration": 516,
    "start_time": "2022-01-04T11:13:28.720Z"
   },
   {
    "duration": 471,
    "start_time": "2022-01-04T11:13:29.239Z"
   },
   {
    "duration": 415,
    "start_time": "2022-01-04T11:13:29.713Z"
   },
   {
    "duration": 145,
    "start_time": "2022-01-04T11:13:30.130Z"
   },
   {
    "duration": 1256,
    "start_time": "2022-01-04T11:13:30.278Z"
   },
   {
    "duration": 9,
    "start_time": "2022-01-04T11:13:31.537Z"
   },
   {
    "duration": 252,
    "start_time": "2022-01-04T11:13:31.548Z"
   },
   {
    "duration": 30,
    "start_time": "2022-01-04T11:13:31.803Z"
   },
   {
    "duration": 12,
    "start_time": "2022-01-04T11:13:31.835Z"
   },
   {
    "duration": 1435,
    "start_time": "2022-01-05T10:59:09.224Z"
   },
   {
    "duration": 101,
    "start_time": "2022-01-05T10:59:10.661Z"
   },
   {
    "duration": 57,
    "start_time": "2022-01-05T10:59:10.766Z"
   },
   {
    "duration": 31,
    "start_time": "2022-01-05T10:59:10.827Z"
   },
   {
    "duration": 13,
    "start_time": "2022-01-05T10:59:10.862Z"
   },
   {
    "duration": 11,
    "start_time": "2022-01-05T10:59:10.878Z"
   },
   {
    "duration": 8,
    "start_time": "2022-01-05T10:59:10.923Z"
   },
   {
    "duration": 27,
    "start_time": "2022-01-05T10:59:10.933Z"
   },
   {
    "duration": 15,
    "start_time": "2022-01-05T10:59:10.965Z"
   },
   {
    "duration": 43,
    "start_time": "2022-01-05T10:59:10.985Z"
   },
   {
    "duration": 11,
    "start_time": "2022-01-05T10:59:11.032Z"
   },
   {
    "duration": 31,
    "start_time": "2022-01-05T10:59:11.046Z"
   },
   {
    "duration": 1053,
    "start_time": "2022-01-05T10:59:11.080Z"
   },
   {
    "duration": 606,
    "start_time": "2022-01-05T10:59:12.136Z"
   },
   {
    "duration": 22,
    "start_time": "2022-01-05T10:59:12.744Z"
   },
   {
    "duration": 18,
    "start_time": "2022-01-05T10:59:12.768Z"
   },
   {
    "duration": 494,
    "start_time": "2022-01-05T10:59:12.788Z"
   },
   {
    "duration": 465,
    "start_time": "2022-01-05T10:59:13.285Z"
   },
   {
    "duration": 424,
    "start_time": "2022-01-05T10:59:13.753Z"
   },
   {
    "duration": 486,
    "start_time": "2022-01-05T10:59:14.180Z"
   },
   {
    "duration": 23,
    "start_time": "2022-01-05T10:59:14.669Z"
   },
   {
    "duration": 2145,
    "start_time": "2022-01-05T10:59:14.694Z"
   },
   {
    "duration": 2508,
    "start_time": "2022-01-05T10:59:16.842Z"
   },
   {
    "duration": 520,
    "start_time": "2022-01-05T10:59:19.353Z"
   },
   {
    "duration": 464,
    "start_time": "2022-01-05T10:59:19.875Z"
   },
   {
    "duration": 410,
    "start_time": "2022-01-05T10:59:20.341Z"
   },
   {
    "duration": 139,
    "start_time": "2022-01-05T10:59:20.755Z"
   },
   {
    "duration": 1274,
    "start_time": "2022-01-05T10:59:20.896Z"
   },
   {
    "duration": 11,
    "start_time": "2022-01-05T10:59:22.173Z"
   },
   {
    "duration": 247,
    "start_time": "2022-01-05T10:59:22.187Z"
   },
   {
    "duration": 13,
    "start_time": "2022-01-05T10:59:22.436Z"
   },
   {
    "duration": 19,
    "start_time": "2022-01-05T10:59:22.451Z"
   },
   {
    "duration": 6,
    "start_time": "2022-01-05T11:04:59.981Z"
   },
   {
    "duration": 38,
    "start_time": "2022-01-05T11:08:46.985Z"
   },
   {
    "duration": 9,
    "start_time": "2022-01-05T11:12:27.605Z"
   },
   {
    "duration": 8,
    "start_time": "2022-01-05T11:12:36.508Z"
   },
   {
    "duration": 1368,
    "start_time": "2022-01-05T16:42:44.174Z"
   },
   {
    "duration": 78,
    "start_time": "2022-01-05T16:42:45.544Z"
   },
   {
    "duration": 47,
    "start_time": "2022-01-05T16:42:45.625Z"
   },
   {
    "duration": 22,
    "start_time": "2022-01-05T16:42:45.675Z"
   },
   {
    "duration": 11,
    "start_time": "2022-01-05T16:42:45.699Z"
   },
   {
    "duration": 8,
    "start_time": "2022-01-05T16:42:45.713Z"
   },
   {
    "duration": 48,
    "start_time": "2022-01-05T16:42:45.723Z"
   },
   {
    "duration": 24,
    "start_time": "2022-01-05T16:42:45.774Z"
   },
   {
    "duration": 13,
    "start_time": "2022-01-05T16:42:45.801Z"
   },
   {
    "duration": 6,
    "start_time": "2022-01-05T16:42:45.817Z"
   },
   {
    "duration": 43,
    "start_time": "2022-01-05T16:42:45.825Z"
   },
   {
    "duration": 26,
    "start_time": "2022-01-05T16:42:45.870Z"
   },
   {
    "duration": 694,
    "start_time": "2022-01-05T16:42:45.898Z"
   },
   {
    "duration": 532,
    "start_time": "2022-01-05T16:42:46.594Z"
   },
   {
    "duration": 22,
    "start_time": "2022-01-05T16:42:51.229Z"
   },
   {
    "duration": 23,
    "start_time": "2022-01-05T16:44:26.082Z"
   },
   {
    "duration": 24,
    "start_time": "2022-01-05T17:00:43.040Z"
   },
   {
    "duration": 3,
    "start_time": "2022-01-05T17:00:47.683Z"
   },
   {
    "duration": 461,
    "start_time": "2022-01-05T17:00:51.243Z"
   },
   {
    "duration": 343,
    "start_time": "2022-01-05T17:03:14.803Z"
   },
   {
    "duration": 405,
    "start_time": "2022-01-05T17:05:04.811Z"
   },
   {
    "duration": 9,
    "start_time": "2022-01-05T17:12:02.953Z"
   },
   {
    "duration": 12,
    "start_time": "2022-01-05T17:12:37.532Z"
   },
   {
    "duration": 292,
    "start_time": "2022-01-05T17:13:20.842Z"
   },
   {
    "duration": 283,
    "start_time": "2022-01-05T17:14:29.399Z"
   },
   {
    "duration": 22,
    "start_time": "2022-01-05T17:18:43.701Z"
   },
   {
    "duration": 724,
    "start_time": "2022-01-05T17:20:54.930Z"
   },
   {
    "duration": 639,
    "start_time": "2022-01-05T17:21:17.803Z"
   },
   {
    "duration": 626,
    "start_time": "2022-01-05T17:22:15.852Z"
   },
   {
    "duration": 627,
    "start_time": "2022-01-05T17:23:12.817Z"
   },
   {
    "duration": 744,
    "start_time": "2022-01-05T17:23:45.585Z"
   },
   {
    "duration": 21,
    "start_time": "2022-01-05T17:24:06.008Z"
   },
   {
    "duration": 25,
    "start_time": "2022-01-05T17:24:20.200Z"
   },
   {
    "duration": 240,
    "start_time": "2022-01-05T17:25:49.578Z"
   },
   {
    "duration": 321470,
    "start_time": "2022-01-05T17:26:27.872Z"
   },
   {
    "duration": 255,
    "start_time": "2022-01-05T17:33:25.685Z"
   },
   {
    "duration": 1130,
    "start_time": "2022-01-05T17:33:33.096Z"
   },
   {
    "duration": 1146,
    "start_time": "2022-01-05T17:33:56.736Z"
   },
   {
    "duration": 1192,
    "start_time": "2022-01-05T17:34:27.789Z"
   },
   {
    "duration": 1395,
    "start_time": "2022-01-05T17:36:34.488Z"
   },
   {
    "duration": 1569,
    "start_time": "2022-01-05T17:37:21.472Z"
   },
   {
    "duration": 605,
    "start_time": "2022-01-05T17:37:46.096Z"
   },
   {
    "duration": 593,
    "start_time": "2022-01-05T17:39:49.278Z"
   },
   {
    "duration": 1405,
    "start_time": "2022-01-05T17:45:56.236Z"
   },
   {
    "duration": 80,
    "start_time": "2022-01-05T17:45:57.644Z"
   },
   {
    "duration": 48,
    "start_time": "2022-01-05T17:45:57.727Z"
   },
   {
    "duration": 23,
    "start_time": "2022-01-05T17:45:57.778Z"
   },
   {
    "duration": 12,
    "start_time": "2022-01-05T17:45:57.804Z"
   },
   {
    "duration": 10,
    "start_time": "2022-01-05T17:45:57.818Z"
   },
   {
    "duration": 41,
    "start_time": "2022-01-05T17:45:57.830Z"
   },
   {
    "duration": 27,
    "start_time": "2022-01-05T17:45:57.873Z"
   },
   {
    "duration": 10,
    "start_time": "2022-01-05T17:45:57.904Z"
   },
   {
    "duration": 8,
    "start_time": "2022-01-05T17:45:57.917Z"
   },
   {
    "duration": 45,
    "start_time": "2022-01-05T17:45:57.927Z"
   },
   {
    "duration": 25,
    "start_time": "2022-01-05T17:45:57.974Z"
   },
   {
    "duration": 709,
    "start_time": "2022-01-05T17:45:58.002Z"
   },
   {
    "duration": 538,
    "start_time": "2022-01-05T17:45:58.714Z"
   },
   {
    "duration": 435,
    "start_time": "2022-01-05T17:45:59.254Z"
   },
   {
    "duration": -99205,
    "start_time": "2022-01-05T17:47:38.897Z"
   },
   {
    "duration": -99206,
    "start_time": "2022-01-05T17:47:38.900Z"
   },
   {
    "duration": -99208,
    "start_time": "2022-01-05T17:47:38.903Z"
   },
   {
    "duration": 285,
    "start_time": "2022-01-05T17:46:02.498Z"
   },
   {
    "duration": 4,
    "start_time": "2022-01-05T17:46:32.366Z"
   },
   {
    "duration": 79,
    "start_time": "2022-01-05T17:46:32.373Z"
   },
   {
    "duration": 34,
    "start_time": "2022-01-05T17:46:32.468Z"
   },
   {
    "duration": 22,
    "start_time": "2022-01-05T17:46:32.504Z"
   },
   {
    "duration": 43,
    "start_time": "2022-01-05T17:46:32.528Z"
   },
   {
    "duration": 10,
    "start_time": "2022-01-05T17:46:32.573Z"
   },
   {
    "duration": 8,
    "start_time": "2022-01-05T17:46:32.587Z"
   },
   {
    "duration": 26,
    "start_time": "2022-01-05T17:46:32.598Z"
   },
   {
    "duration": 45,
    "start_time": "2022-01-05T17:46:32.627Z"
   },
   {
    "duration": 7,
    "start_time": "2022-01-05T17:46:32.674Z"
   },
   {
    "duration": 9,
    "start_time": "2022-01-05T17:46:32.683Z"
   },
   {
    "duration": 30,
    "start_time": "2022-01-05T17:46:32.695Z"
   },
   {
    "duration": 717,
    "start_time": "2022-01-05T17:46:32.727Z"
   },
   {
    "duration": 542,
    "start_time": "2022-01-05T17:46:33.447Z"
   },
   {
    "duration": 313,
    "start_time": "2022-01-05T17:46:33.992Z"
   },
   {
    "duration": -99128,
    "start_time": "2022-01-05T17:48:13.436Z"
   },
   {
    "duration": -99130,
    "start_time": "2022-01-05T17:48:13.440Z"
   },
   {
    "duration": -99131,
    "start_time": "2022-01-05T17:48:13.443Z"
   },
   {
    "duration": 294,
    "start_time": "2022-01-05T17:46:37.467Z"
   },
   {
    "duration": 22,
    "start_time": "2022-01-05T17:47:05.962Z"
   },
   {
    "duration": 3,
    "start_time": "2022-01-05T17:47:09.432Z"
   },
   {
    "duration": 480,
    "start_time": "2022-01-05T17:47:11.012Z"
   },
   {
    "duration": 424,
    "start_time": "2022-01-05T17:47:16.940Z"
   },
   {
    "duration": 851,
    "start_time": "2022-01-05T17:47:56.728Z"
   },
   {
    "duration": 803,
    "start_time": "2022-01-05T17:48:20.490Z"
   },
   {
    "duration": 573,
    "start_time": "2022-01-05T17:48:49.442Z"
   },
   {
    "duration": 418,
    "start_time": "2022-01-05T17:48:54.722Z"
   },
   {
    "duration": 816,
    "start_time": "2022-01-05T17:49:14.561Z"
   },
   {
    "duration": 429,
    "start_time": "2022-01-05T17:49:29.112Z"
   },
   {
    "duration": 592,
    "start_time": "2022-01-05T17:49:49.066Z"
   },
   {
    "duration": 589,
    "start_time": "2022-01-05T17:50:31.135Z"
   },
   {
    "duration": 604,
    "start_time": "2022-01-05T17:53:59.753Z"
   },
   {
    "duration": 279,
    "start_time": "2022-01-05T18:00:12.449Z"
   },
   {
    "duration": 282,
    "start_time": "2022-01-05T18:01:57.518Z"
   },
   {
    "duration": 761,
    "start_time": "2022-01-05T18:02:29.758Z"
   },
   {
    "duration": 262,
    "start_time": "2022-01-05T18:04:14.717Z"
   },
   {
    "duration": 822,
    "start_time": "2022-01-05T18:04:29.210Z"
   },
   {
    "duration": 1339,
    "start_time": "2022-01-05T18:07:05.112Z"
   },
   {
    "duration": 844,
    "start_time": "2022-01-05T18:07:22.839Z"
   },
   {
    "duration": 4793,
    "start_time": "2022-01-05T18:07:46.693Z"
   },
   {
    "duration": 590,
    "start_time": "2022-01-05T18:08:55.722Z"
   },
   {
    "duration": 601,
    "start_time": "2022-01-05T18:10:39.947Z"
   },
   {
    "duration": 834,
    "start_time": "2022-01-05T18:11:15.680Z"
   },
   {
    "duration": 695,
    "start_time": "2022-01-05T18:11:26.553Z"
   },
   {
    "duration": 54,
    "start_time": "2022-01-05T18:12:56.303Z"
   },
   {
    "duration": 15,
    "start_time": "2022-01-05T18:13:48.136Z"
   },
   {
    "duration": 325,
    "start_time": "2022-01-05T18:15:14.847Z"
   },
   {
    "duration": 346,
    "start_time": "2022-01-05T18:15:53.079Z"
   },
   {
    "duration": 1982,
    "start_time": "2022-01-05T18:16:16.798Z"
   },
   {
    "duration": 117,
    "start_time": "2022-01-05T18:16:18.784Z"
   },
   {
    "duration": 63,
    "start_time": "2022-01-05T18:16:18.906Z"
   },
   {
    "duration": 34,
    "start_time": "2022-01-05T18:16:18.973Z"
   },
   {
    "duration": 15,
    "start_time": "2022-01-05T18:16:19.010Z"
   },
   {
    "duration": 39,
    "start_time": "2022-01-05T18:16:19.028Z"
   },
   {
    "duration": 8,
    "start_time": "2022-01-05T18:16:19.070Z"
   },
   {
    "duration": 30,
    "start_time": "2022-01-05T18:16:19.080Z"
   },
   {
    "duration": 12,
    "start_time": "2022-01-05T18:16:19.114Z"
   },
   {
    "duration": 43,
    "start_time": "2022-01-05T18:16:19.129Z"
   },
   {
    "duration": 13,
    "start_time": "2022-01-05T18:16:19.175Z"
   },
   {
    "duration": 23,
    "start_time": "2022-01-05T18:16:19.190Z"
   },
   {
    "duration": 726,
    "start_time": "2022-01-05T18:16:19.216Z"
   },
   {
    "duration": 620,
    "start_time": "2022-01-05T18:16:19.945Z"
   },
   {
    "duration": 25,
    "start_time": "2022-01-05T18:16:20.567Z"
   },
   {
    "duration": 4,
    "start_time": "2022-01-05T18:16:20.594Z"
   },
   {
    "duration": 503,
    "start_time": "2022-01-05T18:16:20.600Z"
   },
   {
    "duration": 761,
    "start_time": "2022-01-05T18:16:21.106Z"
   },
   {
    "duration": 605,
    "start_time": "2022-01-05T18:16:21.870Z"
   },
   {
    "duration": -99164,
    "start_time": "2022-01-05T18:18:01.644Z"
   },
   {
    "duration": -99166,
    "start_time": "2022-01-05T18:18:01.648Z"
   },
   {
    "duration": -99170,
    "start_time": "2022-01-05T18:18:01.654Z"
   },
   {
    "duration": -99174,
    "start_time": "2022-01-05T18:18:01.660Z"
   },
   {
    "duration": -99174,
    "start_time": "2022-01-05T18:18:01.662Z"
   },
   {
    "duration": -99174,
    "start_time": "2022-01-05T18:18:01.665Z"
   },
   {
    "duration": -99176,
    "start_time": "2022-01-05T18:18:01.669Z"
   },
   {
    "duration": -99177,
    "start_time": "2022-01-05T18:18:01.672Z"
   },
   {
    "duration": -99179,
    "start_time": "2022-01-05T18:18:01.676Z"
   },
   {
    "duration": -99178,
    "start_time": "2022-01-05T18:18:01.677Z"
   },
   {
    "duration": -99178,
    "start_time": "2022-01-05T18:18:01.679Z"
   },
   {
    "duration": -99177,
    "start_time": "2022-01-05T18:18:01.681Z"
   },
   {
    "duration": -99177,
    "start_time": "2022-01-05T18:18:01.683Z"
   },
   {
    "duration": -99177,
    "start_time": "2022-01-05T18:18:01.685Z"
   },
   {
    "duration": 280,
    "start_time": "2022-01-05T18:17:27.794Z"
   },
   {
    "duration": 123,
    "start_time": "2022-01-05T18:17:54.609Z"
   },
   {
    "duration": 270,
    "start_time": "2022-01-05T18:18:06.686Z"
   },
   {
    "duration": 52,
    "start_time": "2022-01-05T18:18:19.812Z"
   },
   {
    "duration": 14,
    "start_time": "2022-01-05T18:18:37.632Z"
   },
   {
    "duration": 20,
    "start_time": "2022-01-05T18:19:31.966Z"
   },
   {
    "duration": 15,
    "start_time": "2022-01-05T18:20:11.853Z"
   },
   {
    "duration": 304,
    "start_time": "2022-01-05T18:20:18.031Z"
   },
   {
    "duration": 16,
    "start_time": "2022-01-05T18:20:53.767Z"
   },
   {
    "duration": 593,
    "start_time": "2022-01-05T18:38:04.940Z"
   },
   {
    "duration": 576,
    "start_time": "2022-01-05T18:38:57.325Z"
   },
   {
    "duration": 272,
    "start_time": "2022-01-05T18:41:04.828Z"
   },
   {
    "duration": 321,
    "start_time": "2022-01-05T18:41:23.940Z"
   },
   {
    "duration": 87,
    "start_time": "2022-01-05T18:41:36.036Z"
   },
   {
    "duration": 86,
    "start_time": "2022-01-05T18:42:07.635Z"
   },
   {
    "duration": -99102,
    "start_time": "2022-01-05T18:44:11.549Z"
   },
   {
    "duration": 18,
    "start_time": "2022-01-05T18:42:45.546Z"
   },
   {
    "duration": 271,
    "start_time": "2022-01-05T18:43:28.596Z"
   },
   {
    "duration": 6709,
    "start_time": "2022-01-05T18:43:45.761Z"
   },
   {
    "duration": 6914,
    "start_time": "2022-01-05T18:44:36.227Z"
   },
   {
    "duration": 6874,
    "start_time": "2022-01-05T18:45:10.162Z"
   },
   {
    "duration": 15,
    "start_time": "2022-01-05T18:45:45.692Z"
   },
   {
    "duration": 40,
    "start_time": "2022-01-05T18:49:35.731Z"
   },
   {
    "duration": 40,
    "start_time": "2022-01-05T18:49:55.490Z"
   },
   {
    "duration": 43,
    "start_time": "2022-01-05T18:50:28.959Z"
   },
   {
    "duration": 14,
    "start_time": "2022-01-05T18:51:32.075Z"
   },
   {
    "duration": 1392,
    "start_time": "2022-01-05T19:08:45.553Z"
   },
   {
    "duration": 25,
    "start_time": "2022-01-05T19:14:30.591Z"
   },
   {
    "duration": 299,
    "start_time": "2022-01-05T19:15:13.760Z"
   },
   {
    "duration": 25,
    "start_time": "2022-01-05T19:16:10.856Z"
   },
   {
    "duration": 33,
    "start_time": "2022-01-05T19:16:48.407Z"
   },
   {
    "duration": 85,
    "start_time": "2022-01-05T19:19:20.487Z"
   },
   {
    "duration": 327,
    "start_time": "2022-01-05T19:19:27.206Z"
   },
   {
    "duration": 474,
    "start_time": "2022-01-05T19:20:11.817Z"
   },
   {
    "duration": 771,
    "start_time": "2022-01-05T19:20:54.432Z"
   },
   {
    "duration": 254,
    "start_time": "2022-01-05T19:26:22.102Z"
   },
   {
    "duration": 240,
    "start_time": "2022-01-05T19:26:52.310Z"
   },
   {
    "duration": 511,
    "start_time": "2022-01-05T19:27:17.311Z"
   },
   {
    "duration": 251,
    "start_time": "2022-01-05T19:27:28.550Z"
   },
   {
    "duration": 24,
    "start_time": "2022-01-05T19:29:06.871Z"
   },
   {
    "duration": 30,
    "start_time": "2022-01-05T19:33:46.206Z"
   },
   {
    "duration": 2236,
    "start_time": "2022-01-05T19:33:48.552Z"
   },
   {
    "duration": 2089,
    "start_time": "2022-01-05T19:33:56.007Z"
   },
   {
    "duration": 535,
    "start_time": "2022-01-05T19:34:17.486Z"
   },
   {
    "duration": 679,
    "start_time": "2022-01-05T19:37:55.091Z"
   },
   {
    "duration": 676,
    "start_time": "2022-01-05T19:39:42.603Z"
   },
   {
    "duration": 781,
    "start_time": "2022-01-05T19:39:52.301Z"
   },
   {
    "duration": 758,
    "start_time": "2022-01-05T19:39:59.485Z"
   },
   {
    "duration": 684,
    "start_time": "2022-01-05T19:41:26.051Z"
   },
   {
    "duration": 692,
    "start_time": "2022-01-05T19:41:56.739Z"
   },
   {
    "duration": 719,
    "start_time": "2022-01-05T19:42:21.269Z"
   },
   {
    "duration": 823,
    "start_time": "2022-01-05T19:47:14.236Z"
   },
   {
    "duration": 666,
    "start_time": "2022-01-05T19:47:40.530Z"
   },
   {
    "duration": 746,
    "start_time": "2022-01-05T19:48:18.150Z"
   },
   {
    "duration": 720,
    "start_time": "2022-01-05T19:53:42.816Z"
   },
   {
    "duration": 695,
    "start_time": "2022-01-05T19:55:34.125Z"
   },
   {
    "duration": 641,
    "start_time": "2022-01-05T19:57:32.771Z"
   },
   {
    "duration": 817,
    "start_time": "2022-01-05T19:58:55.774Z"
   },
   {
    "duration": 642,
    "start_time": "2022-01-05T19:59:40.452Z"
   },
   {
    "duration": 1017,
    "start_time": "2022-01-05T19:59:52.067Z"
   },
   {
    "duration": 712,
    "start_time": "2022-01-05T20:00:27.427Z"
   },
   {
    "duration": 715,
    "start_time": "2022-01-05T20:01:31.347Z"
   },
   {
    "duration": 707,
    "start_time": "2022-01-05T20:01:40.660Z"
   },
   {
    "duration": 845,
    "start_time": "2022-01-05T20:02:25.499Z"
   },
   {
    "duration": 705,
    "start_time": "2022-01-05T20:02:33.218Z"
   },
   {
    "duration": 787,
    "start_time": "2022-01-05T20:02:42.883Z"
   },
   {
    "duration": 726,
    "start_time": "2022-01-05T20:02:53.858Z"
   },
   {
    "duration": 687,
    "start_time": "2022-01-05T20:06:10.682Z"
   },
   {
    "duration": 845,
    "start_time": "2022-01-05T20:06:27.522Z"
   },
   {
    "duration": 688,
    "start_time": "2022-01-05T20:06:44.953Z"
   },
   {
    "duration": 675,
    "start_time": "2022-01-05T20:06:53.730Z"
   },
   {
    "duration": 104,
    "start_time": "2022-01-05T20:07:23.009Z"
   },
   {
    "duration": 690,
    "start_time": "2022-01-05T20:07:34.002Z"
   },
   {
    "duration": 684,
    "start_time": "2022-01-05T20:07:44.938Z"
   },
   {
    "duration": 564,
    "start_time": "2022-01-05T20:10:29.412Z"
   },
   {
    "duration": 275,
    "start_time": "2022-01-05T20:13:25.311Z"
   },
   {
    "duration": 337,
    "start_time": "2022-01-05T20:13:34.241Z"
   },
   {
    "duration": 277,
    "start_time": "2022-01-05T20:14:29.488Z"
   },
   {
    "duration": 427,
    "start_time": "2022-01-05T20:17:04.012Z"
   },
   {
    "duration": 449,
    "start_time": "2022-01-05T20:17:36.168Z"
   },
   {
    "duration": 466,
    "start_time": "2022-01-05T20:18:39.633Z"
   },
   {
    "duration": 487,
    "start_time": "2022-01-05T20:21:10.722Z"
   },
   {
    "duration": 550,
    "start_time": "2022-01-05T20:21:28.525Z"
   },
   {
    "duration": 522,
    "start_time": "2022-01-05T20:21:48.704Z"
   },
   {
    "duration": 531,
    "start_time": "2022-01-05T20:22:03.508Z"
   },
   {
    "duration": 524,
    "start_time": "2022-01-05T20:22:29.528Z"
   },
   {
    "duration": 755,
    "start_time": "2022-01-05T20:22:49.047Z"
   },
   {
    "duration": 519,
    "start_time": "2022-01-05T20:24:10.319Z"
   },
   {
    "duration": 88,
    "start_time": "2022-01-05T20:25:54.063Z"
   },
   {
    "duration": 1362,
    "start_time": "2022-01-05T20:26:05.943Z"
   },
   {
    "duration": 1822,
    "start_time": "2022-01-05T20:26:44.136Z"
   },
   {
    "duration": 99,
    "start_time": "2022-01-05T20:29:00.256Z"
   },
   {
    "duration": 1472,
    "start_time": "2022-01-05T20:29:09.831Z"
   },
   {
    "duration": 1523,
    "start_time": "2022-01-05T20:31:16.008Z"
   },
   {
    "duration": 1549,
    "start_time": "2022-01-05T20:32:43.886Z"
   },
   {
    "duration": 276,
    "start_time": "2022-01-05T20:35:10.710Z"
   },
   {
    "duration": 300,
    "start_time": "2022-01-05T20:35:44.957Z"
   },
   {
    "duration": 1612,
    "start_time": "2022-01-05T20:36:58.987Z"
   },
   {
    "duration": 1517,
    "start_time": "2022-01-05T20:37:15.311Z"
   },
   {
    "duration": 89,
    "start_time": "2022-01-05T20:40:31.957Z"
   },
   {
    "duration": 310,
    "start_time": "2022-01-05T20:40:37.989Z"
   },
   {
    "duration": 1489,
    "start_time": "2022-01-05T20:41:12.319Z"
   },
   {
    "duration": 1625,
    "start_time": "2022-01-05T20:41:45.190Z"
   },
   {
    "duration": 1086,
    "start_time": "2022-01-05T20:42:07.918Z"
   },
   {
    "duration": 89,
    "start_time": "2022-01-05T20:44:20.933Z"
   },
   {
    "duration": 774,
    "start_time": "2022-01-05T20:44:30.762Z"
   },
   {
    "duration": 913,
    "start_time": "2022-01-05T20:44:54.893Z"
   },
   {
    "duration": 1031,
    "start_time": "2022-01-05T20:45:01.277Z"
   },
   {
    "duration": 775,
    "start_time": "2022-01-05T20:45:53.909Z"
   },
   {
    "duration": 784,
    "start_time": "2022-01-05T20:46:17.510Z"
   },
   {
    "duration": 764,
    "start_time": "2022-01-05T20:46:42.620Z"
   },
   {
    "duration": 890,
    "start_time": "2022-01-05T20:46:57.589Z"
   },
   {
    "duration": 778,
    "start_time": "2022-01-05T20:48:16.141Z"
   },
   {
    "duration": 780,
    "start_time": "2022-01-05T20:48:34.716Z"
   },
   {
    "duration": 747,
    "start_time": "2022-01-05T20:48:46.122Z"
   },
   {
    "duration": 1073,
    "start_time": "2022-01-05T20:49:05.460Z"
   },
   {
    "duration": 1006,
    "start_time": "2022-01-05T20:49:18.997Z"
   },
   {
    "duration": 295,
    "start_time": "2022-01-05T20:50:03.077Z"
   },
   {
    "duration": 138,
    "start_time": "2022-01-05T20:51:44.277Z"
   },
   {
    "duration": 148,
    "start_time": "2022-01-05T20:52:04.274Z"
   },
   {
    "duration": 1365,
    "start_time": "2022-01-05T20:55:01.668Z"
   },
   {
    "duration": 10,
    "start_time": "2022-01-05T20:55:09.389Z"
   },
   {
    "duration": 226,
    "start_time": "2022-01-05T20:55:11.283Z"
   },
   {
    "duration": 261,
    "start_time": "2022-01-05T20:55:55.824Z"
   },
   {
    "duration": 13,
    "start_time": "2022-01-05T20:56:04.526Z"
   },
   {
    "duration": 10,
    "start_time": "2022-01-05T20:56:30.299Z"
   },
   {
    "duration": 10,
    "start_time": "2022-01-05T20:57:09.588Z"
   },
   {
    "duration": 52,
    "start_time": "2022-01-05T20:58:30.084Z"
   },
   {
    "duration": 9,
    "start_time": "2022-01-05T21:00:29.300Z"
   },
   {
    "duration": 12,
    "start_time": "2022-01-05T21:01:16.618Z"
   },
   {
    "duration": 93,
    "start_time": "2022-01-05T21:14:57.606Z"
   },
   {
    "duration": 9,
    "start_time": "2022-01-05T21:15:05.978Z"
   },
   {
    "duration": 9,
    "start_time": "2022-01-05T21:15:19.153Z"
   },
   {
    "duration": 11,
    "start_time": "2022-01-05T21:16:18.628Z"
   },
   {
    "duration": 1380,
    "start_time": "2022-01-06T13:53:39.349Z"
   },
   {
    "duration": 81,
    "start_time": "2022-01-06T13:53:40.732Z"
   },
   {
    "duration": 47,
    "start_time": "2022-01-06T13:53:40.816Z"
   },
   {
    "duration": 23,
    "start_time": "2022-01-06T13:53:40.866Z"
   },
   {
    "duration": 12,
    "start_time": "2022-01-06T13:53:40.893Z"
   },
   {
    "duration": 10,
    "start_time": "2022-01-06T13:53:40.908Z"
   },
   {
    "duration": 52,
    "start_time": "2022-01-06T13:53:40.920Z"
   },
   {
    "duration": 25,
    "start_time": "2022-01-06T13:53:40.978Z"
   },
   {
    "duration": 12,
    "start_time": "2022-01-06T13:53:41.007Z"
   },
   {
    "duration": 43,
    "start_time": "2022-01-06T13:53:41.021Z"
   },
   {
    "duration": 9,
    "start_time": "2022-01-06T13:53:41.067Z"
   },
   {
    "duration": 24,
    "start_time": "2022-01-06T13:53:41.078Z"
   },
   {
    "duration": 699,
    "start_time": "2022-01-06T13:53:41.104Z"
   },
   {
    "duration": 529,
    "start_time": "2022-01-06T13:53:41.805Z"
   },
   {
    "duration": 267,
    "start_time": "2022-01-06T13:53:42.336Z"
   },
   {
    "duration": 24,
    "start_time": "2022-01-06T13:53:42.606Z"
   },
   {
    "duration": 3,
    "start_time": "2022-01-06T13:53:42.633Z"
   },
   {
    "duration": 499,
    "start_time": "2022-01-06T13:53:42.639Z"
   },
   {
    "duration": 604,
    "start_time": "2022-01-06T13:53:43.141Z"
   },
   {
    "duration": 603,
    "start_time": "2022-01-06T13:53:43.748Z"
   },
   {
    "duration": 18,
    "start_time": "2022-01-06T13:53:44.354Z"
   },
   {
    "duration": 31,
    "start_time": "2022-01-06T13:53:44.375Z"
   },
   {
    "duration": 2186,
    "start_time": "2022-01-06T13:53:44.413Z"
   },
   {
    "duration": 2081,
    "start_time": "2022-01-06T13:53:46.602Z"
   },
   {
    "duration": 532,
    "start_time": "2022-01-06T13:53:48.685Z"
   },
   {
    "duration": 656,
    "start_time": "2022-01-06T13:53:49.220Z"
   },
   {
    "duration": 801,
    "start_time": "2022-01-06T13:53:49.879Z"
   },
   {
    "duration": 465,
    "start_time": "2022-01-06T13:53:50.683Z"
   },
   {
    "duration": 479,
    "start_time": "2022-01-06T13:53:51.162Z"
   },
   {
    "duration": 158,
    "start_time": "2022-01-06T13:53:51.643Z"
   },
   {
    "duration": 1384,
    "start_time": "2022-01-06T13:53:51.803Z"
   },
   {
    "duration": 10,
    "start_time": "2022-01-06T13:53:53.190Z"
   },
   {
    "duration": 278,
    "start_time": "2022-01-06T13:53:53.202Z"
   },
   {
    "duration": 15,
    "start_time": "2022-01-06T13:53:53.483Z"
   },
   {
    "duration": 12,
    "start_time": "2022-01-06T13:53:53.501Z"
   },
   {
    "duration": 50,
    "start_time": "2022-01-06T13:53:53.517Z"
   },
   {
    "duration": 480,
    "start_time": "2022-01-06T14:26:48.239Z"
   },
   {
    "duration": 731,
    "start_time": "2022-01-06T14:27:16.897Z"
   },
   {
    "duration": 4393,
    "start_time": "2022-01-06T14:27:45.032Z"
   },
   {
    "duration": 392,
    "start_time": "2022-01-06T14:28:22.699Z"
   },
   {
    "duration": 410,
    "start_time": "2022-01-06T14:28:44.730Z"
   },
   {
    "duration": 459,
    "start_time": "2022-01-06T14:29:24.296Z"
   },
   {
    "duration": 399,
    "start_time": "2022-01-06T14:30:09.255Z"
   },
   {
    "duration": 117,
    "start_time": "2022-01-06T14:51:22.903Z"
   },
   {
    "duration": 527,
    "start_time": "2022-01-06T14:51:32.432Z"
   },
   {
    "duration": 346,
    "start_time": "2022-01-06T14:51:48.959Z"
   },
   {
    "duration": 415,
    "start_time": "2022-01-06T14:52:20.486Z"
   },
   {
    "duration": 389,
    "start_time": "2022-01-06T14:53:38.135Z"
   },
   {
    "duration": 12,
    "start_time": "2022-01-06T14:55:15.904Z"
   },
   {
    "duration": 17,
    "start_time": "2022-01-06T14:55:53.972Z"
   },
   {
    "duration": 17,
    "start_time": "2022-01-06T14:56:12.733Z"
   },
   {
    "duration": 15,
    "start_time": "2022-01-06T14:56:22.270Z"
   },
   {
    "duration": 326,
    "start_time": "2022-01-06T14:56:58.236Z"
   },
   {
    "duration": 15,
    "start_time": "2022-01-06T14:57:08.399Z"
   },
   {
    "duration": 16,
    "start_time": "2022-01-06T14:59:22.644Z"
   },
   {
    "duration": 24,
    "start_time": "2022-01-06T15:04:09.148Z"
   },
   {
    "duration": 17,
    "start_time": "2022-01-06T15:04:17.506Z"
   },
   {
    "duration": 17,
    "start_time": "2022-01-06T15:04:28.767Z"
   },
   {
    "duration": 1343,
    "start_time": "2022-01-06T15:39:02.395Z"
   },
   {
    "duration": 78,
    "start_time": "2022-01-06T15:39:03.741Z"
   },
   {
    "duration": 46,
    "start_time": "2022-01-06T15:39:03.823Z"
   },
   {
    "duration": 21,
    "start_time": "2022-01-06T15:39:03.872Z"
   },
   {
    "duration": 10,
    "start_time": "2022-01-06T15:39:03.896Z"
   },
   {
    "duration": 9,
    "start_time": "2022-01-06T15:39:03.908Z"
   },
   {
    "duration": 46,
    "start_time": "2022-01-06T15:39:03.920Z"
   },
   {
    "duration": 24,
    "start_time": "2022-01-06T15:39:03.970Z"
   },
   {
    "duration": 11,
    "start_time": "2022-01-06T15:39:03.998Z"
   },
   {
    "duration": 6,
    "start_time": "2022-01-06T15:39:04.012Z"
   },
   {
    "duration": 43,
    "start_time": "2022-01-06T15:39:04.020Z"
   },
   {
    "duration": 23,
    "start_time": "2022-01-06T15:39:04.066Z"
   },
   {
    "duration": 716,
    "start_time": "2022-01-06T15:39:04.092Z"
   },
   {
    "duration": 542,
    "start_time": "2022-01-06T15:39:04.811Z"
   },
   {
    "duration": 260,
    "start_time": "2022-01-06T15:39:05.355Z"
   },
   {
    "duration": 24,
    "start_time": "2022-01-06T15:39:05.617Z"
   },
   {
    "duration": 21,
    "start_time": "2022-01-06T15:39:05.643Z"
   },
   {
    "duration": 479,
    "start_time": "2022-01-06T15:39:05.667Z"
   },
   {
    "duration": 618,
    "start_time": "2022-01-06T15:39:06.148Z"
   },
   {
    "duration": 593,
    "start_time": "2022-01-06T15:39:06.769Z"
   },
   {
    "duration": 13,
    "start_time": "2022-01-06T15:39:07.366Z"
   },
   {
    "duration": 25,
    "start_time": "2022-01-06T15:39:07.382Z"
   },
   {
    "duration": 2191,
    "start_time": "2022-01-06T15:39:07.414Z"
   },
   {
    "duration": 2182,
    "start_time": "2022-01-06T15:39:09.608Z"
   },
   {
    "duration": 556,
    "start_time": "2022-01-06T15:39:11.793Z"
   },
   {
    "duration": 679,
    "start_time": "2022-01-06T15:39:12.351Z"
   },
   {
    "duration": 796,
    "start_time": "2022-01-06T15:39:13.033Z"
   },
   {
    "duration": 456,
    "start_time": "2022-01-06T15:39:13.831Z"
   },
   {
    "duration": 463,
    "start_time": "2022-01-06T15:39:14.290Z"
   },
   {
    "duration": 141,
    "start_time": "2022-01-06T15:39:14.763Z"
   },
   {
    "duration": 1503,
    "start_time": "2022-01-06T15:39:14.906Z"
   },
   {
    "duration": 401,
    "start_time": "2022-01-06T15:39:16.412Z"
   },
   {
    "duration": 16,
    "start_time": "2022-01-06T15:39:16.816Z"
   },
   {
    "duration": 35,
    "start_time": "2022-01-06T15:39:16.834Z"
   },
   {
    "duration": 239,
    "start_time": "2022-01-06T15:39:16.871Z"
   },
   {
    "duration": 11,
    "start_time": "2022-01-06T15:39:17.113Z"
   },
   {
    "duration": 11,
    "start_time": "2022-01-06T15:39:17.127Z"
   },
   {
    "duration": 33,
    "start_time": "2022-01-06T15:39:17.141Z"
   },
   {
    "duration": 1367,
    "start_time": "2022-01-06T16:01:04.571Z"
   },
   {
    "duration": 81,
    "start_time": "2022-01-06T16:01:05.941Z"
   },
   {
    "duration": 52,
    "start_time": "2022-01-06T16:01:06.027Z"
   },
   {
    "duration": 24,
    "start_time": "2022-01-06T16:01:06.083Z"
   },
   {
    "duration": 10,
    "start_time": "2022-01-06T16:01:06.110Z"
   },
   {
    "duration": 42,
    "start_time": "2022-01-06T16:01:06.122Z"
   },
   {
    "duration": 8,
    "start_time": "2022-01-06T16:01:06.167Z"
   },
   {
    "duration": 26,
    "start_time": "2022-01-06T16:01:06.178Z"
   },
   {
    "duration": 11,
    "start_time": "2022-01-06T16:01:06.208Z"
   },
   {
    "duration": 6,
    "start_time": "2022-01-06T16:01:06.263Z"
   },
   {
    "duration": 9,
    "start_time": "2022-01-06T16:01:06.272Z"
   },
   {
    "duration": 23,
    "start_time": "2022-01-06T16:01:06.283Z"
   },
   {
    "duration": 723,
    "start_time": "2022-01-06T16:01:06.309Z"
   },
   {
    "duration": 534,
    "start_time": "2022-01-06T16:01:07.034Z"
   },
   {
    "duration": 280,
    "start_time": "2022-01-06T16:01:07.571Z"
   },
   {
    "duration": 27,
    "start_time": "2022-01-06T16:01:07.854Z"
   },
   {
    "duration": 3,
    "start_time": "2022-01-06T16:01:07.883Z"
   },
   {
    "duration": 492,
    "start_time": "2022-01-06T16:01:07.889Z"
   },
   {
    "duration": 591,
    "start_time": "2022-01-06T16:01:08.385Z"
   },
   {
    "duration": 597,
    "start_time": "2022-01-06T16:01:08.979Z"
   },
   {
    "duration": 12,
    "start_time": "2022-01-06T16:01:09.579Z"
   },
   {
    "duration": 23,
    "start_time": "2022-01-06T16:01:09.594Z"
   },
   {
    "duration": 2221,
    "start_time": "2022-01-06T16:01:09.620Z"
   },
   {
    "duration": 2030,
    "start_time": "2022-01-06T16:01:11.844Z"
   },
   {
    "duration": 566,
    "start_time": "2022-01-06T16:01:13.876Z"
   },
   {
    "duration": 675,
    "start_time": "2022-01-06T16:01:14.444Z"
   },
   {
    "duration": 821,
    "start_time": "2022-01-06T16:01:15.124Z"
   },
   {
    "duration": 498,
    "start_time": "2022-01-06T16:01:15.948Z"
   },
   {
    "duration": 481,
    "start_time": "2022-01-06T16:01:16.449Z"
   },
   {
    "duration": 168,
    "start_time": "2022-01-06T16:01:16.933Z"
   },
   {
    "duration": 1400,
    "start_time": "2022-01-06T16:01:17.103Z"
   },
   {
    "duration": 407,
    "start_time": "2022-01-06T16:01:18.506Z"
   },
   {
    "duration": 16,
    "start_time": "2022-01-06T16:01:18.916Z"
   },
   {
    "duration": 28,
    "start_time": "2022-01-06T16:01:18.935Z"
   },
   {
    "duration": 297,
    "start_time": "2022-01-06T16:01:18.966Z"
   },
   {
    "duration": 14,
    "start_time": "2022-01-06T16:01:19.266Z"
   },
   {
    "duration": 34,
    "start_time": "2022-01-06T16:01:19.283Z"
   },
   {
    "duration": 12,
    "start_time": "2022-01-06T16:01:19.320Z"
   }
  ],
  "kernelspec": {
   "display_name": "Python 3",
   "language": "python",
   "name": "python3"
  },
  "language_info": {
   "codemirror_mode": {
    "name": "ipython",
    "version": 3
   },
   "file_extension": ".py",
   "mimetype": "text/x-python",
   "name": "python",
   "nbconvert_exporter": "python",
   "pygments_lexer": "ipython3",
   "version": "3.8.8"
  },
  "toc": {
   "base_numbering": 1,
   "nav_menu": {},
   "number_sections": true,
   "sideBar": true,
   "skip_h1_title": true,
   "title_cell": "Table of Contents",
   "title_sidebar": "Contents",
   "toc_cell": false,
   "toc_position": {
    "height": "calc(100% - 180px)",
    "left": "10px",
    "top": "150px",
    "width": "165px"
   },
   "toc_section_display": true,
   "toc_window_display": true
  }
 },
 "nbformat": 4,
 "nbformat_minor": 2
}
